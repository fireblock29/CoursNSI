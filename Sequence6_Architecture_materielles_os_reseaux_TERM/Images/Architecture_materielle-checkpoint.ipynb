{
 "cells": [
  {
   "cell_type": "markdown",
   "metadata": {},
   "source": [
    "# <center><font face=\"arial\" size=\"5\" color=#0101DF>NUMERIQUE ET SCIENCES INFORMATIQUES Terminale NSI</font></center>"
   ]
  },
  {
   "cell_type": "markdown",
   "metadata": {},
   "source": [
    "## <font color=#013ADF>Séquence N° 6 : Architecture matérielle, systèmes d'exploitation et réseaux</font>"
   ]
  },
  {
   "cell_type": "markdown",
   "metadata": {},
   "source": [
    "<div class=\"alert alert-danger\" role=\"alert\">\n",
    "    \n",
    "Les objectifs de cette séquence sont :\n",
    "\n",
    "- Identifier les principaux composants sur un schéma de circuit et les avantages de leur intégration en termes de vitesse et de consommation.\n",
    "\n",
    "</div>"
   ]
  },
  {
   "cell_type": "markdown",
   "metadata": {},
   "source": [
    "<div class=\"alert alert-warning\">\n",
    "<img src=\"Images/CR.png\" alt=\"logo CR\" width=5% align=right>\n",
    "    \n",
    "Travail préalable :\n",
    "    \n",
    "Lire le livre chapitre 7, paragraphes 1, 2 et 3.\n",
    "<div>"
   ]
  },
  {
   "cell_type": "markdown",
   "metadata": {},
   "source": [
    "### 1- Rappel architecture VON NEUMANN"
   ]
  },
  {
   "cell_type": "markdown",
   "metadata": {},
   "source": [
    "<div class=\"alert alert-success\">\n",
    "\n",
    "\n",
    "<img src=\"Images/VonNeumann.png\" alt=\"Von Neumann\" width=70% align=center>   \n",
    "    \n",
    "<br><br>\n",
    "**L'unité de contrôle et de traitement** peut être réalisée par un ou plusieurs processeurs mono ou multicoeurs.\n",
    "\n",
    "- Coeur/core : une unité de calcul physique, gravée sur le circuit.\n",
    "\n",
    "- Thread : une unité de calcul logique - virtuelle - reconnue comme une ressource de calcul par l'OS ou le logiciel (SMT chez AMD / HyperThreading chez Intel) fonctionnant à la même vitesse que les cores.\n",
    "\n",
    "<br><br>\n",
    "\n",
    "<img src=\"Images/capacite-vitesse.png\" alt=\"capcité versus vitesse\" width=40% align=center>      \n",
    "\n",
    "<br><br>\n",
    "**La mémoire vive ou RAM (*Random Access Memory*)** est une mémoire volatile, cela signifie que si l'on coupe  l'alimentation, les données qu'elle contient sont perdues. Ses  caractéristiques sont les suivantes :\n",
    "\n",
    "- elle sert à stocker les programmes exécutés par le processeur, ainsi que les données ;\n",
    "- elle est accessible en lecture et en écriture.\n",
    "\n",
    "<br><br>\n",
    "\n",
    "**Les mémoires mortes ou ROM (*Read Only Memory*)** sont des  mémoires non volatiles qui sont vouées à être accédées en lecture en  fonctionnement normal. Elles contiennent du code et des données qui ne  sont pas amenés à changer souvent.\n",
    "\n",
    "<br><br>\n",
    "\n",
    "**Les mémoires Flash** réalisent la synthèse des technologies EEPROM et  SRAM. Elles sont rapides, ne nécessitent pas de rafraîchissement. Elle  sont effaçables et reprogrammables rapidement.\n",
    "\n",
    "    \n",
    "<img src=\"Images/types_memoires.png\" alt=\"types de mémoires\" width=50% align=center>\n",
    "    \n",
    "<br><br>\n",
    "\n",
    "**Capacités**\n",
    "\n",
    "| S.I. |                 |                                 | Binaire      |      |                |                                 |\n",
    "| ---- | --------------- | ------------------------------- | ------------ | ---- | -------------- | ------------------------------- |\n",
    "| 1 Ko | 10<sup>3</sup>  | 1000                            | 1 Kio (kibi) |      | 2<sup>10</sup> | 1024                            |\n",
    "| 1 Mo | 10<sup>6</sup>  | 10<sup>3</sup> x 10<sup>3</sup> | 1 Mio        |      | 2<sup>20</sup> | 2<sup>10</sup> x 2<sup>10</sup> |\n",
    "| 1 Go | 10<sup>9</sup>  | 10<sup>6</sup> x 10<sup>3</sup> | 1 Gio        |      | 2<sup>30</sup> | 2<sup>20</sup> x 2<sup>10</sup> |\n",
    "| 1 To | 10<sup>12</sup> | 10<sup>9</sup> x 10<sup>3</sup> | 1 Tio        |      | 2<sup>40</sup> | 2<sup>30</sup> x 2<sup>10</sup> |\n",
    "\n",
    "<br><br>\n",
    "**Port**\n",
    "    \n",
    "- Une entrée est une information venant d'un périphérique vers l'unité de contrôle et de traitement ;\n",
    "- Une sortie est une information venant de l'unité de contrôle et de traitement vers un périphérique.\n",
    "    \n",
    "<div>"
   ]
  },
  {
   "cell_type": "markdown",
   "metadata": {},
   "source": [
    "<div class=\"alert alert-warning\">\n",
    "<img src=\"Images/CR.png\" alt=\"logo CR\" width=5% align=right>\n",
    " \n",
    "Nous allons visualiser le déroulement de l'exécution d'une séquence d'instructions simples dans un langage proche de la machine que l'on appelle assembleur.\n",
    "\n",
    "On va pour cela utiliser le simulateur littleThinker de Sylvain CHERRIER (http://sylvain.cherrier.free.fr/LT.html).\n",
    "    \n",
    "Travail demandé  \n",
    "\n",
    "- Lancer l'application (java -jar LittleThinker.jar), puis charger le fichier \"test_initial.lt\" ;\n",
    "- En collaboration avec le professeur, interprétation de l'exécution du programme ;\n",
    "- Modifier ce programme pour que le résultat donne 0 ;\n",
    "\n",
    "On donne  2 programmes. Expliquer le résultat de l'exécution de ces programmes.\n",
    "- raz_memory.lt\n",
    "- fac_5.lt\n",
    "\n",
    "\n",
    "<div>"
   ]
  },
  {
   "cell_type": "markdown",
   "metadata": {},
   "source": [
    "### 2- Les microcontrôleurs"
   ]
  },
  {
   "cell_type": "markdown",
   "metadata": {},
   "source": [
    "<div class=\"alert alert-success\">\n",
    "    \n",
    "Un **microcontrôleur** est un circuit intégré qui rassemble, **processeur, mémoires et interfaces d'entrées-sorties** dans une même boitier. Les microcontrôleurs se caractérisent par un plus haut degré d'intégration, une plus faible consommation électrique, une vitesse de fonctionnement plus faible et un coût réduit par rapport aux microprocesseurs polyvalents utilisés dans les ordinateurs personnels.\n",
    "\n",
    "On retrouve ce type de composant dans les appareils électroménager, automobile, robotique, aérospatiale plus généralement dans le domaine que l'on nomme : **informatique embarquée**.\n",
    "    \n",
    "Bien souvent, ils utilisent une architecture de type **Harvard** qui se différencie essentiellement par l'utilisation de **2 mémoires**, une pour le programme, l'autre pour les données. Cette architecture permet de gagner du temps puisque le processeur charge les instructions et les données en même temps.\n",
    "    \n",
    "De même, lorsqu'ils utilisent une architecture Harvard, ils ont également un jeu d'instructions réduit **RISC** (Reduced Instruction Set Computer) par opposition au jeu d'instructions CISC (Complex Instruction Set Computer).\n",
    "\n",
    "<div>"
   ]
  },
  {
   "cell_type": "markdown",
   "metadata": {},
   "source": [
    "<div>\n",
    "\n",
    "<img src=\"Images/esp32_view.png\" alt=\"esp32_externe\" width=40% align=left>\n",
    "<img src=\"Images/esp32.png\" alt=\"esp32_blocks\" width=50% align=center>\n",
    "  \n",
    "RTC : Real Time Clock\n",
    "    \n",
    "PMU : Power Management Unit\n",
    "    \n",
    "ULP : Ultra Light Power    \n",
    "\n",
    "source : https://www.espressif.com/en/support/documents/technical-documents\n",
    "    \n",
    "<div>"
   ]
  },
  {
   "cell_type": "markdown",
   "metadata": {},
   "source": [
    "### 3- Les systèmes sur puce (System On Chip : SoC)"
   ]
  },
  {
   "cell_type": "markdown",
   "metadata": {},
   "source": [
    "<div class=\"alert alert-success\">\n",
    "    \n",
    "On a pu constater en parcourant les fonctionnalités d'entrées/sorties sur l'exemple ci-dessus, qu'un microcontrôleur est orienté robotique.\n",
    "\n",
    "Pour des appareils plus polyvalents, un smartphone par exemple, les besoins sont plus diversifiés. On utilise dans ce cas des systèmes toujours dans un composant unique d'une complexité accrue, que l'on nomme SoC pour System on Chip.\n",
    "\n",
    "Cette intégration permet de gagner en espace, en coût de fabrication, mais également en consommation énergétique.\n",
    "\n",
    "Voici une liste non exhaustive de fonctionnalités présentes sur un SoC moderne :\n",
    "\n",
    "- CPU : pour exécuter les applications ;\n",
    "- GPU : processeur graphique pour visualiser les interfaces utilisateur, les jeux en 2d/3D ;\n",
    "- ISP : processeur réalisant la conversion des photos et vidéos en données utilisables (réalité augmentée) ;\n",
    "- DSP : processeur plus spécialisé dans le calcul et le traitement du signal (GPS) ;\n",
    "- NPU : processeur pour l'intelligence artificielle (reconnaissance voix, face) ;\n",
    "- Encodeurs/decodeurs vidéo pour la conversion de formats ;\n",
    "- Modems de tous types 4G, 5G Wifi, bluetooth parce qu'à la base, l'appareil est conçu pour communiquer;\n",
    "- ...\n",
    "\n",
    "\n",
    "Dans le travail qui vous est demandé plus loin dans ce document, vous constaterez vraisemblablement que votre smartphone utilise des processeurs ARM.\n",
    "\n",
    "Les architectures ARM sont des architectures externes de type RISC 32 bits (ARMv1 à ARMv7) et 64 bits (ARMv8)[1] développées par ARM Ltd depuis 1983 et introduites à partir de 1990 par Acorn Computers. \n",
    "\n",
    "Une particularité des processeurs ARM est leur mode de vente. En effet, ARM Ltd. ne fabrique ni ne vend ses processeurs sous forme de circuits intégrés. La société vend les licences de ses processeurs de manière qu'ils soient gravés dans le silicium par d'autres fabricants. Aujourd'hui, la plupart des grands fondeurs de puces proposent de l'architecture ARM. \n",
    "\n",
    "<div>"
   ]
  },
  {
   "cell_type": "markdown",
   "metadata": {},
   "source": [
    "<div>\n",
    "\n",
    "<img src=\"Images/qualcomm_view.png\" alt=\"qualcomm\" width=20% align=left>\n",
    "<img src=\"Images/snapdragon-820e-block-diagram.png\" alt=\"snapdragon_blocks\" width=30% align=center>\n",
    "    \n",
    "source : https://www.qualcomm.com/snapdragon\n",
    "<div>"
   ]
  },
  {
   "cell_type": "markdown",
   "metadata": {},
   "source": [
    "<div class=\"alert alert-warning\">\n",
    "<img src=\"Images/CR.png\" alt=\"logo CR\" width=5% align=right>\n",
    "    \n",
    "Travail demandé :\n",
    "    \n",
    "Quel est le SoC utilisé dans votre smartphone ? Quelles sont ses caractéristiques ?\n",
    "    \n",
    "Quels sont les avantages à utiliser des systèmes sur puce plutôt qu'une architecture classique d'ordinateur ?\n",
    "<div>"
   ]
  },
  {
   "cell_type": "markdown",
   "metadata": {},
   "source": [
    "<div class=\"alert alert-success\">\n",
    "    \n",
    "Si vous vous posez des questions sur ce qu'est un ciruit intégré, la réponse est là !\n",
    "\n",
    "https://www.youtube.com/watch?v=ee-LhNZPZ1U&feature=youtu.be\n",
    "    \n",
    "<div>"
   ]
  }
 ],
 "metadata": {
  "hide_input": false,
  "kernelspec": {
   "display_name": "Python 3",
   "language": "python",
   "name": "python3"
  },
  "language_info": {
   "codemirror_mode": {
    "name": "ipython",
    "version": 3
   },
   "file_extension": ".py",
   "mimetype": "text/x-python",
   "name": "python",
   "nbconvert_exporter": "python",
   "pygments_lexer": "ipython3",
   "version": "3.6.10"
  },
  "latex_envs": {
   "LaTeX_envs_menu_present": true,
   "autoclose": false,
   "autocomplete": true,
   "bibliofile": "biblio.bib",
   "cite_by": "apalike",
   "current_citInitial": 1,
   "eqLabelWithNumbers": true,
   "eqNumInitial": 1,
   "hotkeys": {
    "equation": "Ctrl-E",
    "itemize": "Ctrl-I"
   },
   "labels_anchors": false,
   "latex_user_defs": false,
   "report_style_numbering": false,
   "user_envs_cfg": false
  },
  "nbTranslate": {
   "displayLangs": [
    "*"
   ],
   "hotkey": "alt-t",
   "langInMainMenu": true,
   "sourceLang": "en",
   "targetLang": "fr",
   "useGoogleTranslate": true
  },
  "toc": {
   "base_numbering": 1,
   "nav_menu": {},
   "number_sections": true,
   "sideBar": true,
   "skip_h1_title": false,
   "title_cell": "Table of Contents",
   "title_sidebar": "Contents",
   "toc_cell": false,
   "toc_position": {},
   "toc_section_display": true,
   "toc_window_display": false
  },
  "varInspector": {
   "cols": {
    "lenName": 16,
    "lenType": 16,
    "lenVar": 40
   },
   "kernels_config": {
    "python": {
     "delete_cmd_postfix": "",
     "delete_cmd_prefix": "del ",
     "library": "var_list.py",
     "varRefreshCmd": "print(var_dic_list())"
    },
    "r": {
     "delete_cmd_postfix": ") ",
     "delete_cmd_prefix": "rm(",
     "library": "var_list.r",
     "varRefreshCmd": "cat(var_dic_list()) "
    }
   },
   "types_to_exclude": [
    "module",
    "function",
    "builtin_function_or_method",
    "instance",
    "_Feature"
   ],
   "window_display": false
  }
 },
 "nbformat": 4,
 "nbformat_minor": 2
}
