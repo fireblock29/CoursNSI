{
 "cells": [
  {
   "cell_type": "markdown",
   "metadata": {},
   "source": [
    "# <center><font face=\"arial\" size=\"5\" color=#0101DF>NUMERIQUE ET SCIENCES INFORMATIQUES 1ère NSI</font></center>"
   ]
  },
  {
   "cell_type": "markdown",
   "metadata": {},
   "source": [
    "## <font color=#013ADF>Séquence N° 3 : DEVOIR encodage des caractères</font>"
   ]
  },
  {
   "cell_type": "markdown",
   "metadata": {},
   "source": [
    "Unicode attribue un numéro à chaque caractère. Les caractères de numéro 0 à 127 sont codés sur un octet donc le bit de poids fort est toujours nul. Les caractères de numéro supérieur à 127 sont codés sur plusieurs octets. Dans ce cas, les bits de poids fort du premier octet forment une suite de 1 de longueur égale au nombre d’octets utilisés pour coder le caractère, les octets suivants ayant 10 comme bits de poids fort.\n",
    "\n",
    "\n",
    "|Définition du nombre d’octet utilisé - Représentation binaire |Signification |\n",
    "|---|---|\n",
    "|0xxxxxxx |\t1 octet codant 1 à 7 bits\n",
    "|110xxxxx 10xxxxxx \t|2 octets codant 8 à 11 bits\n",
    "|1110xxxx 10xxxxxx 10xxxxxx |\t3 octets codant 12 à 16 bits\n",
    "|11110xxx 10xxxxxx 10xxxxxx 10xxxxxx |\t4 octets codant 17 à 21 bits\n"
   ]
  },
  {
   "cell_type": "markdown",
   "metadata": {},
   "source": [
    "## Travail demandé"
   ]
  },
  {
   "cell_type": "markdown",
   "metadata": {},
   "source": [
    "### Question 1 :"
   ]
  },
  {
   "cell_type": "markdown",
   "metadata": {},
   "source": [
    "Représenter en binaire et en héxadécimal, l'encodage UTF-8 des points de code ci-dessous. Détaillez vos réponses."
   ]
  },
  {
   "cell_type": "markdown",
   "metadata": {},
   "source": [
    "µ : 0xB5\n",
    "    \n",
    "@ : 0x40\n",
    "\n",
    "À : 0xC0 \n"
   ]
  },
  {
   "cell_type": "markdown",
   "metadata": {},
   "source": [
    "### Question 2 :"
   ]
  },
  {
   "cell_type": "markdown",
   "metadata": {},
   "source": [
    "Nous avons fait une radioscopie d'un fichier à l'aide d'un éditeur hexadécimal. Nous avons pu isoler cette séquence d'octets  : **C3 99** qui représente un caractère unicode encodé en UTF-8.\n",
    "De la liste fournie ci-dessous, de quel caractère s'agit-il ? Justifier dans la détail.\n",
    "\n",
    "( : 0x28, # : 0x23, Ù : 0xD9, q : 0x71, é : 0xE9"
   ]
  }
 ],
 "metadata": {
  "kernelspec": {
   "display_name": "Python 3",
   "language": "python",
   "name": "python3"
  },
  "language_info": {
   "codemirror_mode": {
    "name": "ipython",
    "version": 3
   },
   "file_extension": ".py",
   "mimetype": "text/x-python",
   "name": "python",
   "nbconvert_exporter": "python",
   "pygments_lexer": "ipython3",
   "version": "3.7.3"
  },
  "varInspector": {
   "cols": {
    "lenName": 16,
    "lenType": 16,
    "lenVar": 40
   },
   "kernels_config": {
    "python": {
     "delete_cmd_postfix": "",
     "delete_cmd_prefix": "del ",
     "library": "var_list.py",
     "varRefreshCmd": "print(var_dic_list())"
    },
    "r": {
     "delete_cmd_postfix": ") ",
     "delete_cmd_prefix": "rm(",
     "library": "var_list.r",
     "varRefreshCmd": "cat(var_dic_list()) "
    }
   },
   "types_to_exclude": [
    "module",
    "function",
    "builtin_function_or_method",
    "instance",
    "_Feature"
   ],
   "window_display": false
  }
 },
 "nbformat": 4,
 "nbformat_minor": 2
}
