{
 "cells": [
  {
   "cell_type": "markdown",
   "metadata": {},
   "source": [
    "# <center><font face=\"arial\" size=\"5\" color=#0101DF>NUMERIQUE ET SCIENCES INFORMATIQUES 1ère NSI</font></center>"
   ]
  },
  {
   "cell_type": "markdown",
   "metadata": {},
   "source": [
    "## <font color=#013ADF>Séquence N° 3 : projet STEGANOGRAPHIE</font>"
   ]
  },
  {
   "cell_type": "markdown",
   "metadata": {},
   "source": [
    "**Comment est réaliser l'écriture du message dans l'image ?**\n",
    "\n",
    "Plusieurs possibilités s'offrent à nous, voici celle qui a été retenue :\n",
    "\n",
    "Si vous n'avez pas vu de différence entre les 2 images, c'est parce que pour chaque composante de couleur d'un pixel, il y a eu au maximum le bit le moins significatif de changé (ex : 255 ← 254). Votre oeil est incapable de le distinguer.\n",
    "\n",
    "Chaque composante de couleur code un bit du caractère à cacher.\n",
    "\n",
    "Si le bit est à l'état 0, la composante de couleur doit avoir une valeur décimale paire.\n",
    "\n",
    "Par contre si le bit est à l'état 1, la composante de couleur doit avoir une valeur décimale impaire.\n",
    "\n",
    "<table>\n",
    "    <style type=\"text/css\">\n",
    "                td {\n",
    "              text-align:center;\n",
    "                   }\n",
    "    </style>\n",
    "        <tr>\n",
    "            <td>Image originale</td>\n",
    "            <td>Texte à cacher</td>\n",
    "            <td>Image modifiée</td>\n",
    "        </tr>\n",
    "        <tr>\n",
    "            <td>128</td>\n",
    "            <td>0</td>\n",
    "            <td>128</td>\n",
    "        </tr>\n",
    "        <tr>\n",
    "            <td>253</td>\n",
    "            <td>0</td>\n",
    "            <td>252</td>\n",
    "        </tr>\n",
    "        <tr>\n",
    "            <td>37</td>\n",
    "            <td>1</td>\n",
    "            <td>37</td>\n",
    "        </tr>\n",
    "        <tr>\n",
    "            <td>158</td>\n",
    "            <td>1</td>\n",
    "            <td>157</td>\n",
    "        </tr>\n",
    "        <tr>\n",
    "            <td>...</td>\n",
    "            <td>...</td>\n",
    "            <td>...</td>\n",
    "        </tr>\n",
    "</table>\n",
    "\n",
    "Pour marquer la fin du message, un caractère particulier est utilisé, ici \"#\"."
   ]
  }
 ],
 "metadata": {
  "celltoolbar": "Visualize",
  "kernelspec": {
   "display_name": "Python 3",
   "language": "python",
   "name": "python3"
  },
  "language_info": {
   "codemirror_mode": {
    "name": "ipython",
    "version": 3
   },
   "file_extension": ".py",
   "mimetype": "text/x-python",
   "name": "python",
   "nbconvert_exporter": "python",
   "pygments_lexer": "ipython3",
   "version": "3.7.3"
  },
  "varInspector": {
   "cols": {
    "lenName": 16,
    "lenType": 16,
    "lenVar": 40
   },
   "kernels_config": {
    "python": {
     "delete_cmd_postfix": "",
     "delete_cmd_prefix": "del ",
     "library": "var_list.py",
     "varRefreshCmd": "print(var_dic_list())"
    },
    "r": {
     "delete_cmd_postfix": ") ",
     "delete_cmd_prefix": "rm(",
     "library": "var_list.r",
     "varRefreshCmd": "cat(var_dic_list()) "
    }
   },
   "types_to_exclude": [
    "module",
    "function",
    "builtin_function_or_method",
    "instance",
    "_Feature"
   ],
   "window_display": false
  }
 },
 "nbformat": 4,
 "nbformat_minor": 2
}
