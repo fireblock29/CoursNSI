{
 "cells": [
  {
   "cell_type": "markdown",
   "metadata": {},
   "source": [
    "# <center><font face=\"arial\" size=\"5\" color=#0101DF>NUMERIQUE ET SCIENCES INFORMATIQUES 1ère NSI</font></center>"
   ]
  },
  {
   "cell_type": "markdown",
   "metadata": {},
   "source": [
    "## <font color=#013ADF>Séquence N° 3 : projet STEGANOGRAPHIE</font>"
   ]
  },
  {
   "cell_type": "markdown",
   "metadata": {},
   "source": [
    "L'ensemble du projet doit être réalisé en 5 heures classe. Le dossier informatisé est à rendre à l'issue de ces séances. Le fond et la forme du dossier est la même que lors du projet précédent.\n",
    "\n",
    "L'organisation et la notation est également la même. Seuls les rôles changent !\n",
    "<div class=\"alert alert-danger\" role=\"alert\">\n",
    "<img src=\"Images/warning.png\" alt=\"Attention\" width=5% align=left>\n",
    "\n",
    "**Le travail individuel hors classe est interdit, à l'exception de la rédaction du dossier. Par contre, il n'est pas interdit aux développeurs de se former ;-)**"
   ]
  },
  {
   "cell_type": "markdown",
   "metadata": {},
   "source": [
    "**Problématique** :\n",
    "\n",
    "La répression sévit en République Démocratique du KIRPUSTI. La censure fait rage, peu d'informations sortent du pays. Vous décidez avec votre ami kirpustian Gaspieux d'utiliser la technique de stéganographie."
   ]
  },
  {
   "cell_type": "markdown",
   "metadata": {},
   "source": [
    "**Programme de décodage (lecture du message dans l'image)**"
   ]
  },
  {
   "cell_type": "code",
   "execution_count": 1,
   "metadata": {
    "scrolled": false
   },
   "outputs": [
    {
     "ename": "KeyboardInterrupt",
     "evalue": "Interrupted by user",
     "output_type": "error",
     "traceback": [
      "\u001b[0;31m---------------------------------------------------------------------------\u001b[0m",
      "\u001b[0;31mKeyboardInterrupt\u001b[0m                         Traceback (most recent call last)",
      "\u001b[0;32m<ipython-input-1-91808cdf8bf6>\u001b[0m in \u001b[0;36m<module>\u001b[0;34m\u001b[0m\n\u001b[1;32m     78\u001b[0m \u001b[0;34m\u001b[0m\u001b[0m\n\u001b[1;32m     79\u001b[0m \u001b[0;31m#ouverture du fichier image\u001b[0m\u001b[0;34m\u001b[0m\u001b[0;34m\u001b[0m\u001b[0;34m\u001b[0m\u001b[0m\n\u001b[0;32m---> 80\u001b[0;31m \u001b[0mfichier_image\u001b[0m \u001b[0;34m=\u001b[0m \u001b[0minput\u001b[0m\u001b[0;34m(\u001b[0m\u001b[0;34m'Indiquer le nom de l\\'image dans laquelle le message est caché (nom + extension) : '\u001b[0m\u001b[0;34m)\u001b[0m\u001b[0;34m\u001b[0m\u001b[0;34m\u001b[0m\u001b[0m\n\u001b[0m\u001b[1;32m     81\u001b[0m \u001b[0mfichier_texte\u001b[0m\u001b[0;34m=\u001b[0m\u001b[0minput\u001b[0m\u001b[0;34m(\u001b[0m\u001b[0;34m'Indiquer le nom du fichier dans lequel écrire le message (nom + extension) : '\u001b[0m\u001b[0;34m)\u001b[0m\u001b[0;34m\u001b[0m\u001b[0;34m\u001b[0m\u001b[0m\n\u001b[1;32m     82\u001b[0m \u001b[0;31m# création d'une liste des couleurs des pixels de l'image\u001b[0m\u001b[0;34m\u001b[0m\u001b[0;34m\u001b[0m\u001b[0;34m\u001b[0m\u001b[0m\n",
      "\u001b[0;32m/opt/tljh/user/lib/python3.6/site-packages/ipykernel/kernelbase.py\u001b[0m in \u001b[0;36mraw_input\u001b[0;34m(self, prompt)\u001b[0m\n\u001b[1;32m    861\u001b[0m             \u001b[0mself\u001b[0m\u001b[0;34m.\u001b[0m\u001b[0m_parent_ident\u001b[0m\u001b[0;34m,\u001b[0m\u001b[0;34m\u001b[0m\u001b[0;34m\u001b[0m\u001b[0m\n\u001b[1;32m    862\u001b[0m             \u001b[0mself\u001b[0m\u001b[0;34m.\u001b[0m\u001b[0m_parent_header\u001b[0m\u001b[0;34m,\u001b[0m\u001b[0;34m\u001b[0m\u001b[0;34m\u001b[0m\u001b[0m\n\u001b[0;32m--> 863\u001b[0;31m             \u001b[0mpassword\u001b[0m\u001b[0;34m=\u001b[0m\u001b[0;32mFalse\u001b[0m\u001b[0;34m,\u001b[0m\u001b[0;34m\u001b[0m\u001b[0;34m\u001b[0m\u001b[0m\n\u001b[0m\u001b[1;32m    864\u001b[0m         )\n\u001b[1;32m    865\u001b[0m \u001b[0;34m\u001b[0m\u001b[0m\n",
      "\u001b[0;32m/opt/tljh/user/lib/python3.6/site-packages/ipykernel/kernelbase.py\u001b[0m in \u001b[0;36m_input_request\u001b[0;34m(self, prompt, ident, parent, password)\u001b[0m\n\u001b[1;32m    902\u001b[0m             \u001b[0;32mexcept\u001b[0m \u001b[0mKeyboardInterrupt\u001b[0m\u001b[0;34m:\u001b[0m\u001b[0;34m\u001b[0m\u001b[0;34m\u001b[0m\u001b[0m\n\u001b[1;32m    903\u001b[0m                 \u001b[0;31m# re-raise KeyboardInterrupt, to truncate traceback\u001b[0m\u001b[0;34m\u001b[0m\u001b[0;34m\u001b[0m\u001b[0;34m\u001b[0m\u001b[0m\n\u001b[0;32m--> 904\u001b[0;31m                 \u001b[0;32mraise\u001b[0m \u001b[0mKeyboardInterrupt\u001b[0m\u001b[0;34m(\u001b[0m\u001b[0;34m\"Interrupted by user\"\u001b[0m\u001b[0;34m)\u001b[0m \u001b[0;32mfrom\u001b[0m \u001b[0;32mNone\u001b[0m\u001b[0;34m\u001b[0m\u001b[0;34m\u001b[0m\u001b[0m\n\u001b[0m\u001b[1;32m    905\u001b[0m             \u001b[0;32mexcept\u001b[0m \u001b[0mException\u001b[0m \u001b[0;32mas\u001b[0m \u001b[0me\u001b[0m\u001b[0;34m:\u001b[0m\u001b[0;34m\u001b[0m\u001b[0;34m\u001b[0m\u001b[0m\n\u001b[1;32m    906\u001b[0m                 \u001b[0mself\u001b[0m\u001b[0;34m.\u001b[0m\u001b[0mlog\u001b[0m\u001b[0;34m.\u001b[0m\u001b[0mwarning\u001b[0m\u001b[0;34m(\u001b[0m\u001b[0;34m\"Invalid Message:\"\u001b[0m\u001b[0;34m,\u001b[0m \u001b[0mexc_info\u001b[0m\u001b[0;34m=\u001b[0m\u001b[0;32mTrue\u001b[0m\u001b[0;34m)\u001b[0m\u001b[0;34m\u001b[0m\u001b[0;34m\u001b[0m\u001b[0m\n",
      "\u001b[0;31mKeyboardInterrupt\u001b[0m: Interrupted by user"
     ]
    }
   ],
   "source": [
    "#!/usr/bin/env python3\n",
    "# -*- coding: utf-98 -*-\n",
    "\"\"\"\n",
    "@author: Gaspieux\n",
    "\n",
    "Stéganographie : on cache une message se terminant par le caractère #\n",
    "dans une image.\n",
    "Le principe est le suivant : Comme l'oeil humain est peu sensible à une légère\n",
    "nuance de couleur, on modifie éventuellement un bit de couleurs pour coder\n",
    "le message.\n",
    "Pour coder un 0, la composante de couleur qui le code doit avoir une valeur paire\n",
    "Pour coder un 1, la composante de couleur qui la code doit avoir une valeur impaire\n",
    "On vient ajuster la valeur si besoin.\n",
    "Ici le programme de lecture du message dans l'image\n",
    "\"\"\"\n",
    "\n",
    "# importation de librairie\n",
    "import sys\n",
    "from PIL import Image\n",
    "\n",
    "\n",
    "def ecriture_fichier(nom_fichier:str,message:str)->None:\n",
    "    \"\"\"\n",
    "    Procédure d'écriture du message\n",
    "    sur le disque, dans le répertoire courant\n",
    "    \"\"\"\n",
    "    with open(nom_fichier, 'w', encoding=\"utf-8\") as fichier_texte:\n",
    "        fichier_texte.write(message)\n",
    "\n",
    "def recup_couleurs_image(image_file)->list:\n",
    "    \"\"\"\n",
    "    Cette fonction prend en entrée le nom de l'image \n",
    "    et renvoie une liste qui contient la valeur des \n",
    "    composantes rouge, vert et bleu de chaque pixel\n",
    "    de l'image en décimal.\n",
    "    \"\"\"\n",
    "    try:\n",
    "        nom_image= Image.open(image_file)\n",
    "    except :\n",
    "        print ('Erreur sur ouverture du fichier ',image_file)\n",
    "        sys.exit(1)\n",
    "    largeur,hauteur=nom_image.size\n",
    "    # balayage de l'image colonne par colonne de gauche à droite\n",
    "    liste=[]\n",
    "    for i in range(0,largeur):\n",
    "        for j in range(0,hauteur):\n",
    "            r,g,b = nom_image.getpixel((i,j))\n",
    "            liste.append(r)\n",
    "            liste.append(g)\n",
    "            liste.append(b)\n",
    "    nom_image.close()\n",
    "    return liste\n",
    "\n",
    "def decode_message(couleurs:list)->str:\n",
    "    \"\"\"\n",
    "    lire les pixels de l'image si pair 0 sinon impair 1\n",
    "    et renvoie le texte sans le caractère final #\n",
    "    \"\"\"\n",
    "    text=\"\"\n",
    "    chaine=\"\"\n",
    "    cpt=0\n",
    "    for i in couleurs:\n",
    "        if i%2==0:\n",
    "            chaine+='0'\n",
    "        else:\n",
    "            chaine+='1'\n",
    "        cpt+=1\n",
    "        if cpt==8:\n",
    "            cpt=0\n",
    "            nb_dec=0\n",
    "            for power, digit in enumerate(chaine[::-1]):\n",
    "                nb_dec+=int(digit)*(2**power)\n",
    "            caractere=chr(nb_dec)\n",
    "            if caractere=='#':\n",
    "                return text\n",
    "            text+=caractere\n",
    "            chaine=\"\"\n",
    "\n",
    "#ouverture du fichier image\n",
    "fichier_image = input('Indiquer le nom de l\\'image dans laquelle le message est caché (nom + extension) : ')\n",
    "fichier_texte=input('Indiquer le nom du fichier dans lequel écrire le message (nom + extension) : ')\n",
    "# création d'une liste des couleurs des pixels de l'image\n",
    "couleurs=recup_couleurs_image(fichier_image)\n",
    "message_decode=decode_message(couleurs)\n",
    "ecriture_fichier(fichier_texte,message_decode)\n",
    "print(\"Traitement terminé !\")"
   ]
  },
  {
   "cell_type": "markdown",
   "metadata": {},
   "source": [
    "Un algorithme \" gros grain\" du programme ci-dessus serait de la forme :\n",
    "\n",
    "- Ouvrir le fichier image qui contient le message ;\n",
    "\n",
    "- Lire les composantes de couleurs des pixels de l'image ;\n",
    "\n",
    "- En déduire la succession des bits (0 ou 1) ;\n",
    "\n",
    "- Regrouper les bits par octet pour retrouver le caractère codé ;\n",
    "\n",
    "- Arrêter le traitement si le caractère reconnu est \"#\" ;\n",
    "\n",
    "- Écrire le message dans un fichier texte."
   ]
  },
  {
   "cell_type": "markdown",
   "metadata": {},
   "source": [
    "<div class=\"alert alert-warning\">\n",
    "<img src=\"Images/CR.png\" alt=\"logo CR\" width=5% align=right>\n",
    "\n",
    "On vous demande d'étudier le programme pour comprendre comment le message est reconstitué. On détaillera plus particulièrement la fonction \"decode_message\" en traçant son algorithme. (**voir remarque en bas du document**)"
   ]
  },
  {
   "cell_type": "markdown",
   "metadata": {},
   "source": [
    "**Voilà ce qui a pu être sauvé du programme de codage.**"
   ]
  },
  {
   "cell_type": "code",
   "execution_count": null,
   "metadata": {},
   "outputs": [],
   "source": [
    "#Programme principal\n",
    "fichier_image = input('Indiquer le nom de l\\'image dans laquelle on cache le message (nom + extension) : ')\n",
    "fichier_texte=input('Indiquer le nom du fichier dans lequel lire le message (nom + extension) : ')\n",
    "\n",
    "# Récupère les caractéristiques de l'image originale\n",
    "carac_image=infos_image(fichier_image)\n",
    "# Création du nom de fichier de sauvegarde\n",
    "fichier_sauvegarde=creer_nom_sauvegarde(fichier_image, carac_image)\n",
    "# création d'une liste des couleurs des pixels de l'image\n",
    "couleurs=recup_couleurs_image(fichier_image)\n",
    "# Texte à cacher dans l'image. le caractère # indique que le message est terminé\n",
    "# Ce message est dans un fichier texte appelé message.txt\n",
    "texte=lecture_fichier(fichier_texte)\n",
    "# création d'un chaine de bits à écrire sur l'image\n",
    "chaine_binaire=conv_message_vers_binaire(texte)\n",
    "\n",
    "if len(chaine_binaire)>len(couleurs):\n",
    "    print(\"Le message est trop long pour l'image utilisée\")\n",
    "else:\n",
    "    couleurs_mod=encode_message(chaine_binaire,couleurs)\n",
    "    creation_image(carac_image, couleurs_mod, fichier_sauvegarde)\n",
    "    print(\"Traitement terminé !\")"
   ]
  },
  {
   "cell_type": "markdown",
   "metadata": {},
   "source": [
    "À la lecture du programme partiel de codage et d'après ce que nous connaissons de l'algorithme de décodage, nous pouvons déduire qu'il faut :\n",
    "\n",
    "Écrire le message à cacher dans un fichier texte avec un éditeur de texte. Finir son écriture par le caractère # ;\n",
    "\n",
    "Nous voyons également des appels à des fonctions qui d'après leurs noms, devraient réaliser les tâches précitées."
   ]
  },
  {
   "cell_type": "code",
   "execution_count": 10,
   "metadata": {},
   "outputs": [
    {
     "name": "stdout",
     "output_type": "stream",
     "text": [
      "Erreur : Fichier non trouvé\n"
     ]
    }
   ],
   "source": [
    "def infos_image(image_file)->tuple:\n",
    "    \"\"\"\n",
    "    Renvoie les dimensions, le format (e.g. PNG)\n",
    "    et le mode (e.g. RGB) de l'image\n",
    "    originale si elle est trouvée !\n",
    "    \"\"\"\n",
    "    try:\n",
    "        mon_image = Image.open(image_file)\n",
    "        largeur, hauteur = mon_image.size\n",
    "        return largeur,hauteur,mon_image.format,mon_image.size, mon_image.mode\n",
    "    except:\n",
    "        print(\"Erreur : Fichier non trouvé\")\n",
    "    pass\n",
    "\n",
    "\n",
    "if __name__=='__main__':\n",
    "    print(infos_image('aaa.png'))"
   ]
  },
  {
   "cell_type": "code",
   "execution_count": null,
   "metadata": {},
   "outputs": [],
   "source": [
    "def recup_couleurs_image(image_file)->list:\n",
    "    \"\"\"\n",
    "    Cette fonction prend en entrée le nom de l'image et\n",
    "    renvoie une liste qui contient la valeur des composantes\n",
    "    rouge, verte et bleue de chaque pixel de l'image en décimal.\n",
    "    \"\"\"\n",
    "    infos_image('aa.png')\n",
    "    i=0\n",
    "    for x in range(largeur):\n",
    "        for y in range(hauteur):\n",
    "            (rouge,vert,bleu) = mon_image.getpixel((x,y)) \n",
    "            T[i][0]=(x;y) \n",
    "            T[i][1]= (Rouge, vert, bleu) \n",
    "    pass\n"
   ]
  },
  {
   "cell_type": "code",
   "execution_count": 8,
   "metadata": {},
   "outputs": [],
   "source": [
    "def lecture_fichier(nom_fichier)->str:\n",
    "    \"\"\"\n",
    "    Fonction réalisant la lecture du fichier\n",
    "    texte à écrire sur une image\n",
    "    \"\"\"\n",
    "    with open(nom_fichier, 'r', encoding=\"utf-8\") as fichier_texte:\n",
    "        lignes_texte=fichier_texte.readlines()\n",
    "    return lignes_texte\n",
    "    pass"
   ]
  },
  {
   "cell_type": "code",
   "execution_count": 7,
   "metadata": {},
   "outputs": [],
   "source": [
    "lecture_fichier(\"texte.txt\")"
   ]
  },
  {
   "cell_type": "code",
   "execution_count": null,
   "metadata": {},
   "outputs": [],
   "source": [
    "def conv_message_vers_binaire(texte:str)->str:\n",
    "    \"\"\"\n",
    "    Cette fonction prend en entrée, le texte qui doit être caché dans l'image\n",
    "    et renvoie une chaine de caractère qui contient le code binaire représentant\n",
    "    chaque caractère du message à cacher sur 8 bits.\n",
    "    \"\"\"\n",
    "    pass"
   ]
  },
  {
   "cell_type": "code",
   "execution_count": null,
   "metadata": {},
   "outputs": [],
   "source": [
    "def encode_message(msg:str, coul:list)->list:\n",
    "    \"\"\"\n",
    "    Cette fonction modifie les valeurs (couleurs) de\n",
    "    la liste passée en paramètre selon le procédé suivant :\n",
    "    si le nombre représentant la couleur est pair et le code binaire\n",
    "    à écrire est 1, on doit rendre le nombre représentant la couleur impair.\n",
    "    De même si le code binaire à écrire est 0 et que le nombre représentant\n",
    "    la couleur est impair, on doit rendre le nombre représentant la couleur pair.\n",
    "    \"\"\"\n",
    "    pass"
   ]
  },
  {
   "cell_type": "code",
   "execution_count": null,
   "metadata": {},
   "outputs": [],
   "source": [
    "def creation_image(caract:tuple, coul:list, image_file)->None:\n",
    "    \"\"\"\n",
    "    Cette procédure crée une image ayant les mêmes\n",
    "    caractéristiques que l'orignal mais avec les\n",
    "    nouvelles couleurs, puis la sauvegarde avec\n",
    "    un nom passé en argument\n",
    "    \"\"\"\n",
    "    pass"
   ]
  },
  {
   "cell_type": "code",
   "execution_count": null,
   "metadata": {},
   "outputs": [],
   "source": [
    "def creer_nom_sauvegarde(nom:str, caract:tuple)->str:\n",
    "    \"\"\"\n",
    "    Fonction qui génère un nom pour la future image\n",
    "    à sauvegarder, en relation avec le nom initial\n",
    "    \"\"\"\n",
    "    pass"
   ]
  },
  {
   "cell_type": "markdown",
   "metadata": {},
   "source": [
    "<div class=\"alert alert-danger\" role=\"alert\">\n",
    "<img src=\"Images/warning.png\" alt=\"Attention\" width=5% align=left>\n",
    "\n",
    "Vous devez élaborer le document de vision, les users-stories, le document de recette pour réaliser votre application en mode projet et élaborer votre dossier.\n",
    "\n",
    "Remarques :\n",
    "- Dans un soucis d'organisation, les développeurs peuvent tracer l'algorithme du programme fourni pendant que le product owner et le scrum master organise les users-stories.\n",
    "- Il est fortement recommandé de s'inspirer et de réutiliser les documents élaborés lors du projet précédent.\n",
    "- Les fonctions doivent comporter lorsque c'est possible un test sur les pré-conditions, sur les post-conditions, des test unitaires et des annotations de typage.\n"
   ]
  },
  {
   "cell_type": "raw",
   "metadata": {},
   "source": [
    "https://www.mathweb.fr/euclide/2020/06/13/steganographie-python/"
   ]
  },
  {
   "cell_type": "code",
   "execution_count": null,
   "metadata": {},
   "outputs": [],
   "source": []
  }
 ],
 "metadata": {
  "celltoolbar": "Visualize",
  "hide_input": false,
  "kernelspec": {
   "display_name": "Python 3",
   "language": "python",
   "name": "python3"
  },
  "language_info": {
   "codemirror_mode": {
    "name": "ipython",
    "version": 3
   },
   "file_extension": ".py",
   "mimetype": "text/x-python",
   "name": "python",
   "nbconvert_exporter": "python",
   "pygments_lexer": "ipython3",
   "version": "3.6.10"
  },
  "latex_envs": {
   "LaTeX_envs_menu_present": true,
   "autoclose": false,
   "autocomplete": true,
   "bibliofile": "biblio.bib",
   "cite_by": "apalike",
   "current_citInitial": 1,
   "eqLabelWithNumbers": true,
   "eqNumInitial": 1,
   "hotkeys": {
    "equation": "Ctrl-E",
    "itemize": "Ctrl-I"
   },
   "labels_anchors": false,
   "latex_user_defs": false,
   "report_style_numbering": false,
   "user_envs_cfg": false
  },
  "nbTranslate": {
   "displayLangs": [
    "*"
   ],
   "hotkey": "alt-t",
   "langInMainMenu": true,
   "sourceLang": "en",
   "targetLang": "fr",
   "useGoogleTranslate": true
  },
  "toc": {
   "base_numbering": 1,
   "nav_menu": {},
   "number_sections": true,
   "sideBar": true,
   "skip_h1_title": false,
   "title_cell": "Table of Contents",
   "title_sidebar": "Contents",
   "toc_cell": false,
   "toc_position": {},
   "toc_section_display": true,
   "toc_window_display": false
  },
  "varInspector": {
   "cols": {
    "lenName": 16,
    "lenType": 16,
    "lenVar": 40
   },
   "kernels_config": {
    "python": {
     "delete_cmd_postfix": "",
     "delete_cmd_prefix": "del ",
     "library": "var_list.py",
     "varRefreshCmd": "print(var_dic_list())"
    },
    "r": {
     "delete_cmd_postfix": ") ",
     "delete_cmd_prefix": "rm(",
     "library": "var_list.r",
     "varRefreshCmd": "cat(var_dic_list()) "
    }
   },
   "types_to_exclude": [
    "module",
    "function",
    "builtin_function_or_method",
    "instance",
    "_Feature"
   ],
   "window_display": false
  }
 },
 "nbformat": 4,
 "nbformat_minor": 2
}
