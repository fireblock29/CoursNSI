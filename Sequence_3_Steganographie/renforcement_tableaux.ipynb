{
 "cells": [
  {
   "cell_type": "markdown",
   "metadata": {},
   "source": [
    "# <center><font face=\"arial\" size=\"5\" color=#0101DF>NUMERIQUE ET SCIENCES INFORMATIQUES 1ère NSI</font></center>"
   ]
  },
  {
   "cell_type": "markdown",
   "metadata": {},
   "source": [
    "## <font color=#013ADF>Séquence N° 3 : renforcement sur les tableaux</font>"
   ]
  },
  {
   "cell_type": "markdown",
   "metadata": {},
   "source": [
    "<div class=\"alert alert-danger\" role=\"alert\">\n",
    "    \n",
    "Pour tous les exercices de ce notebook, on n'utilisera pas les méthodes pop(), append(), extend() ... des listes python, ni la méthode rotate du module PIL pour les tableaux 2D.\n",
    "</div>"
   ]
  },
  {
   "cell_type": "markdown",
   "metadata": {},
   "source": [
    "## 1) Exercice 1 : Permutation dans un tableau 1D"
   ]
  },
  {
   "cell_type": "markdown",
   "metadata": {},
   "source": [
    "<div class=\"alert alert-warning\">\n",
    "<img src=\"Images/CR.png\" alt=\"logo CR\" width=5% align=right>\n",
    "Travail demandé :\n",
    "    \n",
    "- Écrire une fonction qui permute 2 éléments d'un tableau à une dimension. Cette fonction prend en paramètres, le tableau et la position des 2 éléments à permuter ;\n",
    "- Ajouter les annotations de typage des paramètres ;\n",
    "- Écrire les assertions nécessaires à la bonne exécution de la fonction (pré-conditions) ;\n",
    "- Écrire des tests unitaires bien choisis.\n",
    "</div>"
   ]
  },
  {
   "cell_type": "code",
   "execution_count": 177,
   "metadata": {
    "hide_input": false,
    "hide_output": false,
    "run_control": {
     "marked": true
    }
   },
   "outputs": [
    {
     "name": "stdout",
     "output_type": "stream",
     "text": [
      "[4, 4, 10, 6, 2, 9, 7, 5, 3, 2]\n"
     ]
    }
   ],
   "source": [
    "from random import randint\n",
    "\n",
    "def permute(lst:list, n:int, m:int)->list:\n",
    "    \"\"\"\n",
    "    Permute en place l'élément en position n \n",
    "    dans le tableau avec l'élément m du tableau.\n",
    "    >>> permute([1,2,3,4],1,3)\n",
    "    [1, 4, 3, 2]\n",
    "    \"\"\"\n",
    "    assert lst!=[],\"La liste est vide\"\n",
    "    assert 0<=n<=len(lst)-1,'Position souhaitée hors du tableau'\n",
    "    assert 0<=m<=len(lst)-1,'Position souhaitée hors du tableau'\n",
    "    \n",
    "    a=lst[n]\n",
    "    lst[n]=lst[m]\n",
    "    lst[m]=a\n",
    "    return lst\n",
    "\n",
    "if __name__=='__main__':\n",
    "    from doctest import testmod\n",
    "    testmod()\n",
    "    liste_valeurs=[randint(1, 10) for i in range(10)]\n",
    "    permute(liste_valeurs, 1, 3)\n",
    "    print(liste_valeurs)"
   ]
  },
  {
   "cell_type": "markdown",
   "metadata": {},
   "source": [
    "## 2) Exercice 2 : Insertion dans un tableau 1D"
   ]
  },
  {
   "cell_type": "markdown",
   "metadata": {},
   "source": [
    "<div class=\"alert alert-warning\">\n",
    "<img src=\"Images/CR.png\" alt=\"logo CR\" width=5% align=right>\n",
    "Travail demandé :\n",
    "    \n",
    "- Écrire une fonction qui insère un élément dans un tableau 1D. Cette fonction prend en paramètres, un tableau plein, la position à laquelle il faut insérer l'élément et enfin l'élément à insérer. la fonction renvoie un **nouveau** tableau comportant les anciennes valeurs ainsi que l'élément ajouté à sa bonne place ;\n",
    "- Ajouter les annotations de typage des paramètres ;\n",
    "- Écrire les assertions nécessaires à la bonne exécution de la fonction (pré-conditions) ;\n",
    "- Écrire des tests unitaires bien choisis.\n",
    "</div>"
   ]
  },
  {
   "cell_type": "code",
   "execution_count": 178,
   "metadata": {
    "hide_input": false,
    "hide_output": false,
    "run_control": {
     "marked": true
    }
   },
   "outputs": [
    {
     "name": "stdout",
     "output_type": "stream",
     "text": [
      "[4, 120, 2, 8, 1, 6, 1, 1, 1, 4, 8]\n"
     ]
    }
   ],
   "source": [
    "from random import randint\n",
    "\n",
    "\n",
    "def insere(lst:list, n:int, elt:int)->list:\n",
    "    \"\"\"\n",
    "    Insère dans un tableau à la position n,\n",
    "    l'élément elt.\n",
    "    Attention le premier élément d'un tableau\n",
    "    est à la position 0 !\n",
    "    >>> insere([1,2,3,4],2,10)\n",
    "    [1, 2, 10, 3, 4]\n",
    "    >>> insere([10,20,30,40],2,10)\n",
    "    [10, 20, 10, 30, 40]\n",
    "    \"\"\"\n",
    "    assert lst!=[],\"La liste est vide\"\n",
    "    assert 0<=n<=len(lst)-1,'Position souhaitée hors du tableau'\n",
    "    \n",
    "    #newl=[0 for i in range(len(lst)+1)]\n",
    "    newl=[0]*(len(lst)+1)\n",
    "    for i in range(n):\n",
    "        newl[i]=lst[i]\n",
    "    newl[n]=elt\n",
    "    for i in range(n+1,(len(lst)+1)):\n",
    "        newl[i]=lst[i-1]\n",
    "    #for i in range(len(lst)):\n",
    "        #if i == n:\n",
    "            #newl[i]=elt\n",
    "            #newl[i+1]=lst[i]\n",
    "        #elif i > n:\n",
    "            #newl[i+1]=lst[i]\n",
    "        #else:\n",
    "            #newl[i]=lst[i]\n",
    "    return newl\n",
    "\n",
    "if __name__=='__main__':\n",
    "    from doctest import testmod\n",
    "    testmod()\n",
    "    liste_valeurs=[randint(1, 10) for i in range(10)]\n",
    "    ntab=insere(liste_valeurs, 1, 120)\n",
    "    print(ntab)"
   ]
  },
  {
   "cell_type": "code",
   "execution_count": 179,
   "metadata": {
    "hide_input": false,
    "hide_output": false,
    "run_control": {
     "marked": true
    }
   },
   "outputs": [
    {
     "name": "stdout",
     "output_type": "stream",
     "text": [
      "[3, 9, 1, 5, 9, 4, 7, 4, 7, 10]\n",
      "[3, 9, 1, 5, 9, 4, 7, 4, 7, 10, 9]\n"
     ]
    }
   ],
   "source": [
    "from random import randint\n",
    "\n",
    "\n",
    "def insere(lst, n, elt):\n",
    "    \"\"\"\n",
    "    Insère dans un tableau à la position n,\n",
    "    l'élément elt.\n",
    "    Attention le premier élément d'un tableau\n",
    "    est à la position 0 !\n",
    "    \"\"\"\n",
    "    newl=[0 for i in range(len(lst)+1)]\n",
    "    for elt in range(len(lst)):\n",
    "        newl[elt]=lst[elt]\n",
    "    newl[-1]=elt\n",
    "    return lst,newl\n",
    "\n",
    "if __name__=='__main__':\n",
    "    from doctest import testmod\n",
    "    testmod()\n",
    "    liste_valeurs=[randint(1, 10) for i in range(10)]\n",
    "    tab, ntab=insere(liste_valeurs, 2, 120)\n",
    "    print(tab)\n",
    "    print(ntab)"
   ]
  },
  {
   "cell_type": "markdown",
   "metadata": {},
   "source": [
    "## 3) Exercice 3 : Insertion dans un tableau 1D"
   ]
  },
  {
   "cell_type": "markdown",
   "metadata": {},
   "source": [
    "<div class=\"alert alert-warning\">\n",
    "<img src=\"Images/CR.png\" alt=\"logo CR\" width=5% align=right>\n",
    "Travail demandé :\n",
    "    \n",
    "- Écrire une fonction qui insère un élément dans un tableau 1D à la fin de celui-ci, à condition qu'il soit assez grand. Si ce n'est pas le cas, l'insertion n'aura pas lieu. Le nombre d'éléments contenus dans le tableau sera stocké à la position 0 de celui-ci. Le tableau est initialisé au debut à 10 valeurs nulles. Cette fonction prend en paramètres, un tableau et l'élément à insérer ;\n",
    "- Ajouter les annotations de typage des paramètres ;\n",
    "- Écrire les assertions nécessaires à la bonne exécution de la fonction (pré-conditions) ;\n",
    "- Écrire des tests unitaires bien choisis.\n",
    "</div>"
   ]
  },
  {
   "cell_type": "code",
   "execution_count": 180,
   "metadata": {
    "hide_input": false,
    "hide_output": false,
    "run_control": {
     "marked": true
    }
   },
   "outputs": [
    {
     "name": "stdout",
     "output_type": "stream",
     "text": [
      "[0, 1, 2, 9]\n"
     ]
    }
   ],
   "source": [
    "lst = [0, 1, 2]\n",
    "lst[len(lst):len(lst)] = [9]\n",
    "print(lst)"
   ]
  },
  {
   "cell_type": "code",
   "execution_count": 181,
   "metadata": {
    "hide_input": false,
    "hide_output": false,
    "run_control": {
     "marked": true
    }
   },
   "outputs": [
    {
     "name": "stdout",
     "output_type": "stream",
     "text": [
      "[1, 9, 0, 0, 0, 0, 0, 0, 0, 0]\n",
      "[2, 9, 10, 0, 0, 0, 0, 0, 0, 0]\n",
      "[3, 9, 10, 7, 0, 0, 0, 0, 0, 0]\n",
      "[4, 9, 10, 7, 2, 0, 0, 0, 0, 0]\n",
      "[5, 9, 10, 7, 2, 3, 0, 0, 0, 0]\n",
      "[6, 9, 10, 7, 2, 3, 4, 0, 0, 0]\n",
      "[7, 9, 10, 7, 2, 3, 4, 5, 0, 0]\n",
      "[8, 9, 10, 7, 2, 3, 4, 5, 7, 0]\n",
      "[9, 9, 10, 7, 2, 3, 4, 5, 7, 8]\n"
     ]
    }
   ],
   "source": [
    "from random import randint\n",
    "\n",
    "\n",
    "def insere_fin(lst, elt):\n",
    "    \"\"\"\n",
    "    Insère l'élément elt en dernière position.\n",
    "    Le nombre d'éléments est mémorisé dans le tableau\n",
    "    à la position 0.\n",
    "    \"\"\"\n",
    "    nb_elt=lst[0]\n",
    "    long=len(lst)\n",
    "    assert nb_elt+1<long, 'le tab est plein'\n",
    "    lst[nb_elt+1]=elt\n",
    "    lst[0]+=1\n",
    "    return lst\n",
    "    #newl=[0 for i in range(len(lst))]\n",
    "    #for i in range(len(lst)):\n",
    "        #newl[i]=lst[i]\n",
    "    #if newl[-1]==0:\n",
    "        #newl[-1]=elt\n",
    "    #else:\n",
    "        #print(\"Insertion impossible\")\n",
    "    #newl[0:0]=[len(newl)]\n",
    "    #return newl\n",
    "if __name__=='__main__':\n",
    "    from doctest import testmod\n",
    "    testmod()\n",
    "    liste_valeurs=[0]*10\n",
    "    for i in range(9):\n",
    "        newl=insere_fin(liste_valeurs, randint(1, 10))\n",
    "        print(newl)"
   ]
  },
  {
   "cell_type": "markdown",
   "metadata": {},
   "source": [
    "## 4) Exercice 4 : Insertion dans un tableau 1D"
   ]
  },
  {
   "cell_type": "markdown",
   "metadata": {},
   "source": [
    "<div class=\"alert alert-warning\">\n",
    "<img src=\"Images/CR.png\" alt=\"logo CR\" width=5% align=right>\n",
    "Travail demandé :\n",
    "    \n",
    "- Écrire une fonction qui insère un élément dans un tableau 1D au début de celui-ci (à la position 1), à condition qu'il soit assez grand. Si ce n'est pas le cas, l'insertion n'aura pas lieu. Le nombre d'éléments contenus dans le tableau sera stocké à la position 0 de celui-ci. Le tableau est initialisé au debut à 10 valeurs nulles. Cette fonction prend en paramètres, un tableau et l'élément à insérer ;\n",
    "- Ajouter les annotations de typage des paramètres ;\n",
    "- Écrire les assertions nécessaires à la bonne exécution de la fonction (pré-conditions) ;\n",
    "- Écrire des tests unitaires bien choisis.\n",
    "</div>"
   ]
  },
  {
   "cell_type": "code",
   "execution_count": 192,
   "metadata": {
    "hide_input": false,
    "hide_output": false,
    "run_control": {
     "marked": true
    }
   },
   "outputs": [
    {
     "name": "stdout",
     "output_type": "stream",
     "text": [
      "[1, 6, 0, 0, 0, 0, 0, 0, 0, 0]\n",
      "[2, 2, 6, 0, 0, 0, 0, 0, 0, 0]\n",
      "[3, 7, 2, 6, 0, 0, 0, 0, 0, 0]\n",
      "[4, 12, 7, 2, 6, 0, 0, 0, 0, 0]\n"
     ]
    }
   ],
   "source": [
    "from random import randint\n",
    "\n",
    "\n",
    "def insere_debut(lst, elt):\n",
    "    \"\"\"\n",
    "    Insère l'élément elt en première position, c'est\n",
    "    à dire à la position 1. Le nombre d'éléments \n",
    "    est mémorisé dans le tableau à la position 0\n",
    "    \"\"\"\n",
    "    nb_elt=lst[0]\n",
    "    long=len(lst)\n",
    "    while nb_elt>=1:\n",
    "        lst[nb_elt+1]=lst[nb_elt]\n",
    "        nb_elt-=1\n",
    "    lst[1]=elt\n",
    "    lst[0]+=1\n",
    "    return lst\n",
    "    \n",
    "    #newl=[0 for i in range(len(lst))]\n",
    "    #for i in range(len(lst)):\n",
    "        #newl[i]=lst[i]\n",
    "    #if newl[0]==0:\n",
    "        #newl[0]=elt\n",
    "    #else:\n",
    "        #print(\"Insertion impossible\")\n",
    "    #newl[0:0]=[len(newl)]\n",
    "    #return newl\n",
    "\n",
    "\n",
    "if __name__=='__main__':\n",
    "    from doctest import testmod\n",
    "    testmod()\n",
    "    liste_valeurs=[0]*10\n",
    "    for i in range(3):\n",
    "        print(insere_debut(liste_valeurs, randint(1, 10)))\n",
    "    print(insere_debut(liste_valeurs, 12))"
   ]
  },
  {
   "cell_type": "markdown",
   "metadata": {},
   "source": [
    "## 5) Exercice 5 : Rotation d'un tableau 2D -> rotation d'une image"
   ]
  },
  {
   "cell_type": "markdown",
   "metadata": {},
   "source": [
    "<div class=\"alert alert-warning\">\n",
    "<img src=\"Images/CR.png\" alt=\"logo CR\" width=5% align=right>\n",
    "    \n",
    "Travail demandé\n",
    "\n",
    "On souhaite réaliser un programme qui provoque la rotation d'une image carrée de 90° sens horaire et/ou sens trigonométrique.\n",
    "    \n",
    "***On rappelle que l'utilisation de la méthode \"rotate\" est interdite !***\n",
    "\n",
    "- Donner les expressions des coordonnées (x,y) en fonction de n et de la rotation souhaitée : trigonométrique, horaire ;\n",
    "- Écrire un programme utilisant la bibliothèque PIL qui :\n",
    "    - charge en mémoire une image carrée (Raz_sein.jpg);\n",
    "<img src=\"Images/Raz_sein.jpg\" alt=\"Raz de Sein\" width=10% align=right>\n",
    "    - crée une nouvelle image de même caractéristique ;\n",
    "    - tourne cette nouvelle image de 90°.\n",
    "\n",
    "\n",
    "\n",
    "Un petit schéma fait parfois gagner du temps :\n",
    "\n",
    "<img src=\"Images/image.png\" alt=\"coordonnées des pixels\" width=50% align=center>\n",
    "</div>"
   ]
  },
  {
   "cell_type": "raw",
   "metadata": {},
   "source": [
    "trigo : x=n-1-y et y=x\n",
    "horaire : x=y et y=n-1-x"
   ]
  },
  {
   "cell_type": "code",
   "execution_count": 3,
   "metadata": {
    "ExecuteTime": {
     "end_time": "2022-02-22T08:37:52.742185Z",
     "start_time": "2022-02-22T08:37:52.724779Z"
    },
    "run_control": {
     "marked": false
    }
   },
   "outputs": [
    {
     "ename": "TypeError",
     "evalue": "'NoneType' object is not iterable",
     "output_type": "error",
     "traceback": [
      "\u001b[0;31m---------------------------------------------------------------------------\u001b[0m",
      "\u001b[0;31mTypeError\u001b[0m                                 Traceback (most recent call last)",
      "\u001b[0;32m<ipython-input-3-ab83d572cd77>\u001b[0m in \u001b[0;36m<module>\u001b[0;34m\u001b[0m\n\u001b[1;32m     12\u001b[0m     \u001b[0mfs\u001b[0m\u001b[0;34m=\u001b[0m\u001b[0;34m\"Images/Raz_sein.jpg\"\u001b[0m\u001b[0;34m\u001b[0m\u001b[0;34m\u001b[0m\u001b[0m\n\u001b[1;32m     13\u001b[0m     \u001b[0mfc\u001b[0m\u001b[0;34m=\u001b[0m\u001b[0;34m\"Images/Raz_sein_modifie.jpg\"\u001b[0m\u001b[0;34m\u001b[0m\u001b[0;34m\u001b[0m\u001b[0m\n\u001b[0;32m---> 14\u001b[0;31m     \u001b[0minit\u001b[0m\u001b[0;34m,\u001b[0m\u001b[0mcote\u001b[0m\u001b[0;34m=\u001b[0m\u001b[0mouvre_fichier\u001b[0m\u001b[0;34m(\u001b[0m\u001b[0mfs\u001b[0m\u001b[0;34m)\u001b[0m\u001b[0;34m\u001b[0m\u001b[0;34m\u001b[0m\u001b[0m\n\u001b[0m\u001b[1;32m     15\u001b[0m     \u001b[0mrotation_image\u001b[0m\u001b[0;34m(\u001b[0m\u001b[0mcote\u001b[0m\u001b[0;34m,\u001b[0m\u001b[0minit\u001b[0m\u001b[0;34m)\u001b[0m\u001b[0;34m\u001b[0m\u001b[0;34m\u001b[0m\u001b[0m\n\u001b[1;32m     16\u001b[0m     \u001b[0mrot_image\u001b[0m\u001b[0;34m.\u001b[0m\u001b[0msave\u001b[0m\u001b[0;34m(\u001b[0m\u001b[0mfc\u001b[0m\u001b[0;34m)\u001b[0m\u001b[0;34m\u001b[0m\u001b[0;34m\u001b[0m\u001b[0m\n",
      "\u001b[0;31mTypeError\u001b[0m: 'NoneType' object is not iterable"
     ]
    }
   ],
   "source": [
    "def ouvre_fichier(n):\n",
    "    try:\n",
    "        img=Image.open(n)\n",
    "    except:\n",
    "        pass\n",
    "def rotation_image(n,im):\n",
    "    for x in range(n):\n",
    "        for y in range(n):\n",
    "            rot_image.putpixel((x,y),im.getpixel((y,n-1-x)))\n",
    "\n",
    "if __name__==\"__main__\":\n",
    "    fs=\"Images/Raz_sein.jpg\"\n",
    "    fc=\"Images/Raz_sein_modifie.jpg\"\n",
    "    init,cote=ouvre_fichier(fs)\n",
    "    rotation_image(cote,init)\n",
    "    rot_image.save(fc)"
   ]
  },
  {
   "cell_type": "code",
   "execution_count": null,
   "metadata": {},
   "outputs": [],
   "source": []
  }
 ],
 "metadata": {
  "hide_input": false,
  "kernelspec": {
   "display_name": "Python 3",
   "language": "python",
   "name": "python3"
  },
  "language_info": {
   "codemirror_mode": {
    "name": "ipython",
    "version": 3
   },
   "file_extension": ".py",
   "mimetype": "text/x-python",
   "name": "python",
   "nbconvert_exporter": "python",
   "pygments_lexer": "ipython3",
   "version": "3.6.10"
  },
  "nbTranslate": {
   "displayLangs": [
    "*"
   ],
   "hotkey": "alt-t",
   "langInMainMenu": true,
   "sourceLang": "en",
   "targetLang": "fr",
   "useGoogleTranslate": true
  },
  "toc": {
   "base_numbering": 1,
   "nav_menu": {},
   "number_sections": true,
   "sideBar": true,
   "skip_h1_title": false,
   "title_cell": "Table of Contents",
   "title_sidebar": "Contents",
   "toc_cell": false,
   "toc_position": {},
   "toc_section_display": true,
   "toc_window_display": false
  },
  "varInspector": {
   "cols": {
    "lenName": 16,
    "lenType": 16,
    "lenVar": 40
   },
   "kernels_config": {
    "python": {
     "delete_cmd_postfix": "",
     "delete_cmd_prefix": "del ",
     "library": "var_list.py",
     "varRefreshCmd": "print(var_dic_list())"
    },
    "r": {
     "delete_cmd_postfix": ") ",
     "delete_cmd_prefix": "rm(",
     "library": "var_list.r",
     "varRefreshCmd": "cat(var_dic_list()) "
    }
   },
   "position": {
    "height": "374.4px",
    "left": "1168px",
    "right": "20px",
    "top": "120px",
    "width": "348px"
   },
   "types_to_exclude": [
    "module",
    "function",
    "builtin_function_or_method",
    "instance",
    "_Feature"
   ],
   "window_display": false
  }
 },
 "nbformat": 4,
 "nbformat_minor": 2
}
