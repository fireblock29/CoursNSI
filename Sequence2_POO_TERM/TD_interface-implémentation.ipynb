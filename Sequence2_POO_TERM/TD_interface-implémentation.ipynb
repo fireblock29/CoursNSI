{
 "cells": [
  {
   "cell_type": "markdown",
   "metadata": {},
   "source": [
    "# <center><font face=\"arial\" size=\"5\" color=#0101DF>NUMERIQUE ET SCIENCES INFORMATIQUES Terminale NSI</font></center>"
   ]
  },
  {
   "cell_type": "markdown",
   "metadata": {},
   "source": [
    "## <font color=#013ADF>Séquence N° 2 : Interface et implémentation</font>"
   ]
  },
  {
   "cell_type": "markdown",
   "metadata": {},
   "source": [
    "<div class=\"alert alert-danger\" role=\"alert\">\n",
    "    \n",
    "Les objectifs de cette séquence sont :\n",
    "\n",
    "- Écrire la définition d'une classe ;\n",
    "- Accèder aux attributs et méthodes d'une classe ;\n",
    "- Spécifier une structure de données par son interface ;\n",
    "- Distinguer interface et implémentation ;\n",
    "- Écrire plusieurs implémentations d'une même structure de données.\n",
    "\n",
    "</div>"
   ]
  },
  {
   "cell_type": "markdown",
   "metadata": {},
   "source": [
    "### 1- Points du plan"
   ]
  },
  {
   "cell_type": "markdown",
   "metadata": {},
   "source": [
    "On considère l'interface suivante :"
   ]
  },
  {
   "cell_type": "code",
   "execution_count": 2,
   "metadata": {
    "cell_style": "split"
   },
   "outputs": [],
   "source": [
    "class InterfacePoint():\n",
    "\n",
    "    def __init__(self, nom: str, x: int, y: int):\n",
    "        pass\n",
    "\n",
    "    def __repr__(self):\n",
    "        pass\n",
    "\n",
    "    @classmethod\n",
    "    def distance(cls, a, b) -> float:\n",
    "        pass"
   ]
  },
  {
   "cell_type": "markdown",
   "metadata": {
    "cell_style": "split"
   },
   "source": [
    "<div class=\"alert alert-warning\">\n",
    "<img src=\"Images/CR.png\" alt=\"logo CR\" width=5% align=right>\n",
    "    \n",
    "Définir une classe \"Point\" implémentant l'interface \"InterfacePoint\" puis compléter le corps des méthodes spéciales `__init__` et `__repr__` de la manière suivante :\n",
    "- Le constructeur `__init__` doit initialiser :\n",
    "- L'attribut d'instance nom de type str qui prendra pour valeur le nom du point\n",
    "- L'attribut d'instance x de type int représentant l'abscisse du point\n",
    "- L'attribut d'instance y de type int représentant l'ordonnée du point\n",
    "- La méthode spéciale `__repr__` doit renvoyer la chaîne {nom du point}({valeur de x}, {valeur de y})\n",
    "<div>"
   ]
  },
  {
   "cell_type": "markdown",
   "metadata": {
    "cell_style": "split"
   },
   "source": [
    "<div class=\"alert alert-warning\">\n",
    "<img src=\"Images/CR.png\" alt=\"logo CR\" width=5% align=right>\n",
    "    \n",
    "Compléter le corps de la ***méthode de classe***  distance qui prend en paramètres deux instances a et b de Point et renvoie la valeur de la distance entre ces deux points.\n",
    "<div>"
   ]
  },
  {
   "cell_type": "markdown",
   "metadata": {
    "cell_style": "split"
   },
   "source": [
    "*Exemple d'utilisation* :\n",
    "> ```python\n",
    "> >>> a = Point('A', -50, -150)\n",
    "> >>> b = Point('B', 200, -100)\n",
    "> >>> a\n",
    "> A(-50, -150)\n",
    "> >>> b\n",
    "> B(200, -100)\n",
    "> >>> Point.distance(a, b)\n",
    "> 254.95097567963924\n",
    "> ```"
   ]
  },
  {
   "cell_type": "code",
   "execution_count": null,
   "metadata": {},
   "outputs": [],
   "source": []
  },
  {
   "cell_type": "code",
   "execution_count": 1,
   "metadata": {
    "ExecuteTime": {
     "end_time": "2021-10-18T09:27:10.678574Z",
     "start_time": "2021-10-18T09:27:10.668650Z"
    },
    "init_cell": true
   },
   "outputs": [],
   "source": [
    "from math import sqrt\n",
    "class Point():\n",
    "\n",
    "    def __init__(self, nom: str, x: int, y: int):\n",
    "        \"\"\"\n",
    "        Initialisation\n",
    "        \"\"\"\n",
    "        self.nom=nom\n",
    "        self.x=x\n",
    "        self.y=y\n",
    "\n",
    "    def __repr__(self):\n",
    "        \"\"\"\n",
    "        Affiche le point demandé\n",
    "        \"\"\"\n",
    "        return f'{self.nom}({self.x}, {self.y})'\n",
    "\n",
    "    @classmethod #n'appartient pas à l'objet\n",
    "    def distance(cls, a, b) -> float:\n",
    "        '''\n",
    "        Calcule la distance entre deux points A et B donnés\n",
    "        '''\n",
    "        return sqrt((b.x-a.x)**2+(b.y-a.y)**2)\n",
    "    "
   ]
  },
  {
   "cell_type": "code",
   "execution_count": 17,
   "metadata": {
    "ExecuteTime": {
     "end_time": "2021-09-14T07:01:15.559406Z",
     "start_time": "2021-09-14T07:01:15.554414Z"
    }
   },
   "outputs": [],
   "source": [
    "a = Point('A', -50, -150)\n",
    "b = Point('B', 200, -100)"
   ]
  },
  {
   "cell_type": "code",
   "execution_count": 18,
   "metadata": {
    "ExecuteTime": {
     "end_time": "2021-09-14T07:01:15.965086Z",
     "start_time": "2021-09-14T07:01:15.957078Z"
    }
   },
   "outputs": [
    {
     "data": {
      "text/plain": [
       "254.95097567963924"
      ]
     },
     "execution_count": 18,
     "metadata": {},
     "output_type": "execute_result"
    }
   ],
   "source": [
    "Point.distance(a, b)"
   ]
  },
  {
   "cell_type": "markdown",
   "metadata": {},
   "source": [
    "### 2- Satellites"
   ]
  },
  {
   "cell_type": "markdown",
   "metadata": {
    "cell_style": "split"
   },
   "source": [
    "<div class=\"alert alert-warning\">\n",
    "<img src=\"Images/CR.png\" alt=\"logo CR\" width=5% align=right>\n",
    "\n",
    "Définir une classe \"Satellite\" qui permette d'instancier des objets simulant des satellites artificiels lancés dans l'espace, autour de la terre. Le constructeur de cette classe initialisera les attributs d'instance ci-dessous :\n",
    "- L'attribut nom de type str, représentant le nom du satellite\n",
    "- L'attribut masse de type int ou float, représentant la masse du satellite en $kg$, ayant pour valeur par défaut 250\n",
    "- L'attribut vitesse de type int ou float, représentant la vitesse du satellite en $m.s^{-1}$, ayant pour valeur par défaut 0 \n",
    "<div>"
   ]
  },
  {
   "cell_type": "markdown",
   "metadata": {
    "cell_style": "split"
   },
   "source": [
    "<div class=\"alert alert-warning\">\n",
    "<img src=\"Images/CR.png\" alt=\"logo CR\" width=5% align=right>\n",
    "\n",
    "Instancier les trois satellites suivants puis vérifier en console les valeurs de leurs attributs :\n",
    "- Satellite s1 portant le nom de \"Sirius\"\n",
    "- Satellite s2 ayant pour nom \"Arcturus\" et pour masse 100 $kg$\n",
    "- Satellite s3 ayant pour nom \"Procyon\", pour masse 150 $kg$ et pour vitesse 20 $m.s^{-1}$    \n",
    "<div>"
   ]
  },
  {
   "cell_type": "markdown",
   "metadata": {
    "cell_style": "center"
   },
   "source": [
    "<div class=\"alert alert-warning\">\n",
    "<img src=\"Images/CR.png\" alt=\"logo CR\" width=5% align=right>\n",
    "\n",
    "Créer les trois méthodes infos, __repr__ et __str__ pour qu'elles produisent les affichages donnés en exemple.\n",
    "<br>*Exemple* :\n",
    "\n",
    "s3.infos()\n",
    "    \n",
    "Le satellite Procyon (masse : 150 kg) a une vitesse de 20 m/s\n",
    "    \n",
    "s3\n",
    "    \n",
    "Nom : Procyon\n",
    "Masse : 150 kg\n",
    "Vitesse : 20 m/s\n",
    "    \n",
    "print(s3)\n",
    "    \n",
    "Satellite Procyon : | Masse -> 150 kg | Vitesse -> 20 m/s\n",
    "   \n",
    "<div>"
   ]
  },
  {
   "cell_type": "markdown",
   "metadata": {
    "cell_style": "split"
   },
   "source": [
    "<div class=\"alert alert-warning\">\n",
    "<img src=\"Images/CR.png\" alt=\"logo CR\" width=5% align=right>\n",
    "\n",
    "Tester les deux dernières instructions de la question précédente :\n",
    "- En commentant la méthode spéciale `__repr__`\n",
    "- En commentant la méthode spéciale `__str__`\n",
    "\n",
    "On expliquera dans chaque cas les affichages obtenus.    \n",
    "<div>"
   ]
  },
  {
   "cell_type": "markdown",
   "metadata": {
    "cell_style": "split"
   },
   "source": [
    "<div class=\"alert alert-warning\">\n",
    "<img src=\"Images/CR.png\" alt=\"logo CR\" width=5% align=right>\n",
    "\n",
    "On rappelle que l'énergie cinétique se calcule à l'aide de la formule : $E_{c} = \\frac{1}{2} m v^{2}$\n",
    "<br><br>Définir une méthode energie qui renvoie la valeur de l'énergie cinétique de l'instance.    \n",
    "<div>"
   ]
  },
  {
   "cell_type": "markdown",
   "metadata": {
    "cell_style": "center"
   },
   "source": [
    "<div class=\"alert alert-warning\">\n",
    "<img src=\"Images/CR.png\" alt=\"logo CR\" width=5% align=right>\n",
    "\n",
    "On rappelle que la variation $\\Delta v$ subie par un objet de masse $m$ soumis à l'action d'une force $F$ pendant un temps $t$ vaut : $\\Delta v = \\frac{F \\times t}{m}$. Par exemple, un satellite de 300 $kg$ qui subit une force de 600 $N$ pendant 10 secondes voit sa vitesse augmenter (ou diminuer) de 20 $m.s^{-1}$.\n",
    "<br><br> Définir une méthode impulsion qui :\n",
    "- Prend en paramètre la valeur de la force, force, en $N$ et la durée d'application de cette force, duree, en $s$\n",
    "- Modifie la vitesse du satellite en conséquence    \n",
    "<div>"
   ]
  },
  {
   "cell_type": "code",
   "execution_count": 2,
   "metadata": {
    "ExecuteTime": {
     "end_time": "2021-10-18T09:27:10.694869Z",
     "start_time": "2021-10-18T09:27:10.681232Z"
    },
    "init_cell": true
   },
   "outputs": [
    {
     "ename": "SyntaxError",
     "evalue": "invalid syntax (<ipython-input-2-adfc8cb2ea21>, line 2)",
     "output_type": "error",
     "traceback": [
      "\u001b[0;36m  File \u001b[0;32m\"<ipython-input-2-adfc8cb2ea21>\"\u001b[0;36m, line \u001b[0;32m2\u001b[0m\n\u001b[0;31m    def __init__(self, nom:str, masse=250:int, vitesse=0:int):\u001b[0m\n\u001b[0m                                         ^\u001b[0m\n\u001b[0;31mSyntaxError\u001b[0m\u001b[0;31m:\u001b[0m invalid syntax\n"
     ]
    }
   ],
   "source": [
    "class Satellite:\n",
    "    def __init__(self, nom:str, masse=250:int, vitesse=0:int):\n",
    "        self.nom=nom\n",
    "        self.masse=int(masse)\n",
    "        self.vitesse=int(vitesse) \n",
    "    def __repr__(self):\n",
    "        return f'{self.nom} - Masse : {self.masse} kg Vitesse : {self.vitesse} m/s'\n",
    "    \n",
    "    def __str__(self):\n",
    "        return f'Satellite {self.nom} : | Masse -> {self.masse} kg | Vitesse -> {self.vitesse} m/s'\n",
    "    \n",
    "    def infos(self):\n",
    "        return f'Le satellite {self.nom} (masse : {self.masse} kg) a une vitesse de {self.vitesse} m/s'\n",
    "    \n",
    "    def energie(self):\n",
    "        return 0.5*self.masse*self.vitesse**2\n",
    "    \n",
    "    def force(self, force:int, temps:int):\n",
    "        self.force=int(force)\n",
    "        self.temps=int(temps)\n",
    "        self.deltav=(self.force*self.temps)/self.masse\n",
    "        self.vitesse+=self.deltav\n",
    "        return (self.force, self.temps, self.deltav, self.vitesse)"
   ]
  },
  {
   "cell_type": "code",
   "execution_count": 5,
   "metadata": {
    "ExecuteTime": {
     "end_time": "2021-09-21T06:19:41.438474Z",
     "start_time": "2021-09-21T06:19:41.431633Z"
    }
   },
   "outputs": [],
   "source": [
    "s1=Satellite(\"Sirius\")\n",
    "s2=Satellite(\"Arcturus\", 100)\n",
    "s3=Satellite(\"Procyon\", 150, 20)"
   ]
  },
  {
   "cell_type": "code",
   "execution_count": 6,
   "metadata": {
    "ExecuteTime": {
     "end_time": "2021-09-21T06:19:42.284675Z",
     "start_time": "2021-09-21T06:19:42.278826Z"
    }
   },
   "outputs": [
    {
     "name": "stdout",
     "output_type": "stream",
     "text": [
      "(500, 30, 60.0, 60.0)\n"
     ]
    }
   ],
   "source": [
    "print(s1.force(500, 30))"
   ]
  },
  {
   "cell_type": "code",
   "execution_count": 7,
   "metadata": {
    "ExecuteTime": {
     "end_time": "2021-09-21T06:19:48.599997Z",
     "start_time": "2021-09-21T06:19:48.591637Z"
    }
   },
   "outputs": [
    {
     "name": "stdout",
     "output_type": "stream",
     "text": [
      "Satellite Sirius : | Masse -> 250 kg | Vitesse -> 60.0 m/s\n",
      "Satellite Arcturus : | Masse -> 100 kg | Vitesse -> 0 m/s\n",
      "Satellite Procyon : | Masse -> 150 kg | Vitesse -> 20 m/s\n"
     ]
    }
   ],
   "source": [
    "print(s1)\n",
    "print(s2)\n",
    "print(s3)"
   ]
  },
  {
   "cell_type": "code",
   "execution_count": 8,
   "metadata": {
    "ExecuteTime": {
     "end_time": "2021-09-21T06:19:51.256989Z",
     "start_time": "2021-09-21T06:19:51.240040Z"
    }
   },
   "outputs": [
    {
     "data": {
      "text/plain": [
       "Sirius - Masse : 250 kg Vitesse : 60.0 m/s"
      ]
     },
     "execution_count": 8,
     "metadata": {},
     "output_type": "execute_result"
    }
   ],
   "source": [
    "s1\n"
   ]
  },
  {
   "cell_type": "code",
   "execution_count": 9,
   "metadata": {
    "ExecuteTime": {
     "end_time": "2021-09-21T06:20:01.225277Z",
     "start_time": "2021-09-21T06:20:01.216971Z"
    }
   },
   "outputs": [
    {
     "data": {
      "text/plain": [
       "'Le satellite Sirius (masse : 250 kg) a une vitesse de 60.0 m/s'"
      ]
     },
     "execution_count": 9,
     "metadata": {},
     "output_type": "execute_result"
    }
   ],
   "source": [
    "s1.infos()"
   ]
  },
  {
   "cell_type": "raw",
   "metadata": {},
   "source": [
    "Quand on met __repr__ en commentaire : s1 affiche <__main__.Satellite at 0x7f3b2407abe0>\n",
    "Quand on met __str__ en commentaire : print(s1) et s1 affichent la même chose, à savoir : Sirius - Masse : 250 kg Vitesse : 0 m/s"
   ]
  },
  {
   "cell_type": "markdown",
   "metadata": {},
   "source": [
    "### 3- Comptes bancaires"
   ]
  },
  {
   "cell_type": "markdown",
   "metadata": {
    "cell_style": "split"
   },
   "source": [
    "<div class=\"alert alert-warning\">\n",
    "<img src=\"Images/CR.png\" alt=\"logo CR\" width=5% align=right>\n",
    "\n",
    "Définir une classe CompteBancaire permettant d'instancier des objets représentant des comptes. \n",
    "<br><br>Le constructeur de cette classe initialisera deux attributs :\n",
    "- L'attribut numero, de type str, représentant le numéro de compte\n",
    "- L'attribut solde, de type float   \n",
    "<div>"
   ]
  },
  {
   "cell_type": "markdown",
   "metadata": {
    "cell_style": "split"
   },
   "source": [
    "<div class=\"alert alert-warning\">\n",
    "<img src=\"Images/CR.png\" alt=\"logo CR\" width=5% align=right>\n",
    "\n",
    "Créer les méthodes credit et debit permettant respectivement d'ajouter et de retirer une certaine somme. Ces méthodes possèderont deux paramètres :\n",
    "- Le paramètre montant, de type float, correspondant à la somme à ajouter ou à débiter\n",
    "- Le paramètre description, de type str, qui précise le type d'opération.\n",
    "<br><br>Ce paramètre sera initialisé par défaut à \"Type de crédit/débit non précisé\"   \n",
    "<div>"
   ]
  },
  {
   "cell_type": "markdown",
   "metadata": {
    "cell_style": "center"
   },
   "source": [
    "<div class=\"alert alert-warning\">\n",
    "<img src=\"Images/CR.png\" alt=\"logo CR\" width=5% align=right>\n",
    "\n",
    "Créer la méthode info_solde qui renvoie la chaîne de caractères suivante :\n",
    "\n",
    "Le solde du compte n°{numéro du compte} est de {valeur du solde} €.\n",
    "   \n",
    "<div>"
   ]
  },
  {
   "cell_type": "markdown",
   "metadata": {
    "cell_style": "split"
   },
   "source": [
    "<div class=\"alert alert-warning\">\n",
    "<img src=\"Images/CR.png\" alt=\"logo CR\" width=5% align=right>\n",
    "\n",
    "Dans cette question, on souhaite générer un fichier au format csv représentant un relevé du compte.\n",
    "<br><br>Ce fichier devra posséder les quatre champs suivants : \"Description\", \"Crédit\", \"Débit\" et \"Solde\".\n",
    "- Créer un nouvel attribut d'instance histo et l'initialiser à la valeur Solde initial,,,{valeur du solde}\\n.\n",
    "- Compléter les méthodes credit et debit pour ajouter l'enregistrement correspondant à chaque opération.\n",
    "- Créer la méthode d'instance genere_historique qui crée le fichier releve_{numéro du compte}.csv comme indiqué dans l'exemple ci-dessous.   \n",
    "<div>"
   ]
  },
  {
   "cell_type": "markdown",
   "metadata": {
    "cell_style": "split"
   },
   "source": [
    "<div class=\"alert alert-warning\">\n",
    "<img src=\"Images/CR.png\" alt=\"logo CR\" width=5% align=right>\n",
    "\n",
    "*Exemple d'utilisation* :\n",
    "\n",
    "compte = CompteBancaire('15667', 800)<br>\n",
    "compte.credit(350, 'Virement CAF')<br>\n",
    "compte.debit(200, 'Paiement CB')<br>\n",
    "compte.info_solde()<br>\n",
    "Le solde du compte n°15667 est de 950.00 €.<br>\n",
    "compte.credit(500)<br>\n",
    "compte.debit(15.75)<br>\n",
    "compte.info_solde()<br>\n",
    "Le solde du compte n°15667 est de 1434.25 €.<br>\n",
    "compte.credit(1786.84, 'Versement salaire')<br>\n",
    "compte.debit(60, 'Retrait DAB')<br>\n",
    "compte.info_solde()<br>\n",
    "Le solde du compte n°15667 est de 3161.09 €.<br>\n",
    "compte.genere_historique()<br>\n",
    "→ Voir fichier généré\n",
    "<div>"
   ]
  },
  {
   "cell_type": "code",
   "execution_count": null,
   "metadata": {
    "ExecuteTime": {
     "end_time": "2021-10-18T09:27:10.697642Z",
     "start_time": "2021-10-18T09:27:10.699Z"
    },
    "init_cell": true
   },
   "outputs": [],
   "source": [
    "import csv\n",
    "class CompteBanquaire:\n",
    "    def __init__(self, numero:str, solde:float):\n",
    "        self.numero=numero\n",
    "        self.solde=float(solde)\n",
    "        self.histo=float(solde)\n",
    "        CompteBanquaire.genere_historique(self)\n",
    "        \n",
    "    def debit(self, somme:float, motif:str=\"Motif non précisé\"):\n",
    "        if somme<0:\n",
    "            somme=abs(somme)\n",
    "        self.solde-=somme\n",
    "        self.motif=motif\n",
    "        CompteBanquaire.addinfo(self, somme, motif, self.solde, \"debit\")\n",
    "    \n",
    "    def credit(self, somme:float, motif:str=\"Motif non précisé\"):\n",
    "        if somme<0:\n",
    "            somme=abs(somme)\n",
    "        self.solde+=somme\n",
    "        self.motif=motif\n",
    "        CompteBanquaire.addinfo(self, somme, motif, self.solde, \"credit\")\n",
    "        \n",
    "    def info_solde(self):\n",
    "        return f'Le solde du compte n°{self.numero} est de {self.solde}€.'\n",
    "    \n",
    "    def addinfo(self, somme, motif, solde, typedepaiement):\n",
    "        nom=\"releve_\"+self.numero+\".csv\"\n",
    "        with open(nom, 'a', newline='') as f:\n",
    "            if typedepaiement==\"debit\":\n",
    "                infos=[motif, \"\", somme, solde]\n",
    "            if typedepaiement==\"credit\":\n",
    "                infos=[motif, somme, \"\", solde]\n",
    "            line=csv.writer(f, delimiter=\",\")\n",
    "            line.writerow(infos)\n",
    "    \n",
    "    def genere_historique(self):\n",
    "        nom=\"releve_\"+self.numero+\".csv\"\n",
    "        entete=[\"Description\", \"Crédit\", \"Débit\", \"Solde\"]\n",
    "        with open(nom, 'w', newline='') as f:\n",
    "            line=csv.writer(f, delimiter=\",\")\n",
    "            line.writerow(entete)"
   ]
  },
  {
   "cell_type": "code",
   "execution_count": 13,
   "metadata": {
    "ExecuteTime": {
     "end_time": "2021-09-22T06:21:51.147742Z",
     "start_time": "2021-09-22T06:21:51.143040Z"
    }
   },
   "outputs": [],
   "source": [
    "DeficitDeLaSecu=CompteBanquaire(\"666\", \"-500000\")"
   ]
  },
  {
   "cell_type": "code",
   "execution_count": 18,
   "metadata": {
    "ExecuteTime": {
     "end_time": "2021-09-22T06:21:53.385696Z",
     "start_time": "2021-09-22T06:21:53.380485Z"
    }
   },
   "outputs": [],
   "source": [
    "DeficitDeLaSecu.credit(1498, \"Retards de paiement de cotisations T2 2021\")"
   ]
  },
  {
   "cell_type": "code",
   "execution_count": 19,
   "metadata": {
    "ExecuteTime": {
     "end_time": "2021-09-22T06:21:53.805363Z",
     "start_time": "2021-09-22T06:21:53.799691Z"
    }
   },
   "outputs": [],
   "source": [
    "DeficitDeLaSecu.debit(1000000, \"Retrait DAB\")"
   ]
  },
  {
   "cell_type": "code",
   "execution_count": 11,
   "metadata": {
    "ExecuteTime": {
     "end_time": "2021-09-22T06:21:00.867255Z",
     "start_time": "2021-09-22T06:21:00.852456Z"
    }
   },
   "outputs": [
    {
     "data": {
      "text/plain": [
       "'Le solde du compte n°666 est de -2498502.0€.'"
      ]
     },
     "execution_count": 11,
     "metadata": {},
     "output_type": "execute_result"
    }
   ],
   "source": [
    "DeficitDeLaSecu.info_solde()"
   ]
  },
  {
   "cell_type": "code",
   "execution_count": 20,
   "metadata": {
    "ExecuteTime": {
     "end_time": "2021-09-22T06:23:48.065110Z",
     "start_time": "2021-09-22T06:23:48.060075Z"
    }
   },
   "outputs": [],
   "source": [
    "EricZemmour=CompteBanquaire(\"97558478514785785487554854748745874286485478569\", \"10000000000000000000\")"
   ]
  },
  {
   "cell_type": "code",
   "execution_count": null,
   "metadata": {},
   "outputs": [],
   "source": [
    "EricZemmour.debit(1000000, \"Publication livre \")"
   ]
  }
 ],
 "metadata": {
  "celltoolbar": "Initialization Cell",
  "hide_input": false,
  "kernelspec": {
   "display_name": "Python 3",
   "language": "python",
   "name": "python3"
  },
  "language_info": {
   "codemirror_mode": {
    "name": "ipython",
    "version": 3
   },
   "file_extension": ".py",
   "mimetype": "text/x-python",
   "name": "python",
   "nbconvert_exporter": "python",
   "pygments_lexer": "ipython3",
   "version": "3.6.10"
  },
  "latex_envs": {
   "LaTeX_envs_menu_present": true,
   "autoclose": false,
   "autocomplete": true,
   "bibliofile": "biblio.bib",
   "cite_by": "apalike",
   "current_citInitial": 1,
   "eqLabelWithNumbers": true,
   "eqNumInitial": 1,
   "hotkeys": {
    "equation": "Ctrl-E",
    "itemize": "Ctrl-I"
   },
   "labels_anchors": false,
   "latex_user_defs": false,
   "report_style_numbering": false,
   "user_envs_cfg": false
  },
  "nbTranslate": {
   "displayLangs": [
    "*"
   ],
   "hotkey": "alt-t",
   "langInMainMenu": true,
   "sourceLang": "en",
   "targetLang": "fr",
   "useGoogleTranslate": true
  },
  "toc": {
   "base_numbering": 1,
   "nav_menu": {},
   "number_sections": true,
   "sideBar": true,
   "skip_h1_title": false,
   "title_cell": "Table of Contents",
   "title_sidebar": "Contents",
   "toc_cell": false,
   "toc_position": {},
   "toc_section_display": true,
   "toc_window_display": false
  },
  "varInspector": {
   "cols": {
    "lenName": 16,
    "lenType": 16,
    "lenVar": 40
   },
   "kernels_config": {
    "python": {
     "delete_cmd_postfix": "",
     "delete_cmd_prefix": "del ",
     "library": "var_list.py",
     "varRefreshCmd": "print(var_dic_list())"
    },
    "r": {
     "delete_cmd_postfix": ") ",
     "delete_cmd_prefix": "rm(",
     "library": "var_list.r",
     "varRefreshCmd": "cat(var_dic_list()) "
    }
   },
   "types_to_exclude": [
    "module",
    "function",
    "builtin_function_or_method",
    "instance",
    "_Feature"
   ],
   "window_display": false
  }
 },
 "nbformat": 4,
 "nbformat_minor": 2
}
