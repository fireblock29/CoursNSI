{
 "cells": [
  {
   "cell_type": "markdown",
   "metadata": {},
   "source": [
    "# <center><font face=\"arial\" size=\"5\" color=#0101DF>NUMERIQUE ET SCIENCES INFORMATIQUES Terminale NSI</font></center>"
   ]
  },
  {
   "cell_type": "markdown",
   "metadata": {},
   "source": [
    "## <font color=#013ADF>Séquence N° 2 : Interface versus implémentation</font>"
   ]
  },
  {
   "cell_type": "markdown",
   "metadata": {},
   "source": [
    "<div class=\"alert alert-danger\" role=\"alert\">\n",
    "    \n",
    "Les objectifs de cette séquence sont :\n",
    "\n",
    "- Écrire la définition d'une classe ;\n",
    "- Accèder aux attributs et méthodes d'une classe ;\n",
    "- Spécifier une structure de données par son interface ;\n",
    "- Distinguer interface et implémentation ;\n",
    "- Écrire plusieurs implémentations d'une même structure de données.\n",
    "\n",
    "</div>"
   ]
  },
  {
   "cell_type": "markdown",
   "metadata": {},
   "source": [
    "### 1- Interfaces : définition, intérêt"
   ]
  },
  {
   "cell_type": "markdown",
   "metadata": {},
   "source": [
    "<div class=\"alert alert-success\">\n",
    "<img src=\"Images/warning.png\" alt=\"logo CR\" width=5% align=left>\n",
    "    \n",
    "Une interface est une description des possibilités fournies par une unité de code.\n",
    "\n",
    "Dans les langages orientés objet comme Python, les interfaces sont souvent définies par une collection de signatures de méthodes (nom de la méthode et arguments) qui doivent être fournies par une classe : Les méthodes y sont seulement déclarées.\n",
    "    \n",
    "Cela permet de définir un **ensemble de services visibles depuis l’extérieur** (l’API : Application Programming Interface).\n",
    "    \n",
    "Les interfaces sont donc utiles pour spécifier une sorte de cahier des charges, un contrat. En marquant qu'un type implémente une interface, nous donnons une garantie que l'implémentation fournit les méthodes spécifiées par l'interface, **sans nous préoccuper de la façon dont ces services sont réellement implémentés**.\n",
    "<br><br>\n",
    "- Quand vous utilisez range(0,4) en Python, vous savez que vous allez obtenir une liste de 4 éléments de 0 à 3, mais vous ne savez pas comment Python procède pour créer cette liste.\n",
    "- Rappelez vous l'utilisation de l'API OpenWeather : Avez-vous une idée de la manière dont est codée l'application ? Cela ne vous a pas empêché de l'utiliser !\n",
    "\n",
    "Le contrat permet donc de savoir très exactement ce que l'algorithme est capable de faire, mais il ne dit rien sur **comment** l'algorithme va s'y prendre pour résoudre le problème.\n",
    "\n",
    "Avec une interface définie :\n",
    "- On peut faire évoluer le code sans remettre en cause ce qui a été déjà développé ;\n",
    "- On peut développer indépendemment des classes (plusieurs développeurs) pour les agréger par la suite.\n",
    "<div>"
   ]
  },
  {
   "cell_type": "markdown",
   "metadata": {},
   "source": [
    "### 2- Interfaces et classes : exemple"
   ]
  },
  {
   "cell_type": "markdown",
   "metadata": {},
   "source": [
    "**Objectif** : Créer une classe 'Opérations' qui permette de faire la somme et le produit de 2 entiers.\n",
    "- Création de l'interface 'InterfaceOperation' ;\n",
    "- Implémentation de la classe avec 3 codes partiellement différents.\n"
   ]
  },
  {
   "cell_type": "raw",
   "metadata": {},
   "source": [
    "...............\n",
    ": Opérations  : \n",
    "...............\n",
    ":x : int      : \n",
    ":y : int      :\n",
    "...............\n",
    ":somme(): int : \n",
    ":produit():int:\n",
    "..............."
   ]
  },
  {
   "cell_type": "markdown",
   "metadata": {},
   "source": [
    "#### L'interface"
   ]
  },
  {
   "cell_type": "code",
   "execution_count": 4,
   "metadata": {
    "ExecuteTime": {
     "end_time": "2021-09-14T06:26:50.517070Z",
     "start_time": "2021-09-14T06:26:50.509454Z"
    }
   },
   "outputs": [],
   "source": [
    "# Définition de l'interface InterfaceOperations\n",
    "class InterfaceOperations():\n",
    "    def __init__(self):\n",
    "        pass\n",
    "    \n",
    "    def somme(self, x: int, y: int) -> int:\n",
    "        pass\n",
    "\n",
    "    def produit(self, x: int, y: int) -> int:\n",
    "        pass"
   ]
  },
  {
   "cell_type": "code",
   "execution_count": 5,
   "metadata": {
    "ExecuteTime": {
     "end_time": "2021-09-14T06:26:51.494721Z",
     "start_time": "2021-09-14T06:26:51.487840Z"
    }
   },
   "outputs": [],
   "source": [
    "# Création de la classe Operations\n",
    "class OperationsV1():\n",
    "    \n",
    "    def __init__(self):\n",
    "        pass\n",
    "    \n",
    "    def somme(self, x: int, y: int) -> int:\n",
    "        return x + y\n",
    "\n",
    "    def produit(self, x: int, y: int) -> int:\n",
    "        return x * y"
   ]
  },
  {
   "cell_type": "code",
   "execution_count": 6,
   "metadata": {
    "ExecuteTime": {
     "end_time": "2021-09-14T06:26:52.486311Z",
     "start_time": "2021-09-14T06:26:52.482223Z"
    }
   },
   "outputs": [],
   "source": [
    "# Création d'une instance de la classe OperationsV1\n",
    "op1=OperationsV1()"
   ]
  },
  {
   "cell_type": "code",
   "execution_count": 7,
   "metadata": {
    "ExecuteTime": {
     "end_time": "2021-09-14T06:26:53.444049Z",
     "start_time": "2021-09-14T06:26:53.437570Z"
    }
   },
   "outputs": [
    {
     "data": {
      "text/plain": [
       "13"
      ]
     },
     "execution_count": 7,
     "metadata": {},
     "output_type": "execute_result"
    }
   ],
   "source": [
    "op1.somme(5,8)"
   ]
  },
  {
   "cell_type": "code",
   "execution_count": 8,
   "metadata": {
    "ExecuteTime": {
     "end_time": "2021-09-14T06:27:00.666351Z",
     "start_time": "2021-09-14T06:27:00.659947Z"
    }
   },
   "outputs": [
    {
     "data": {
      "text/plain": [
       "40"
      ]
     },
     "execution_count": 8,
     "metadata": {},
     "output_type": "execute_result"
    }
   ],
   "source": [
    "op1.produit(5,8)"
   ]
  },
  {
   "cell_type": "code",
   "execution_count": 17,
   "metadata": {
    "ExecuteTime": {
     "end_time": "2021-09-14T06:29:24.397638Z",
     "start_time": "2021-09-14T06:29:24.389553Z"
    }
   },
   "outputs": [],
   "source": [
    "# Création de la classe OperationsV2\n",
    "# Calcule le produit de deux entiers de manière itérative\n",
    "# en utilisant uniquement l'opérateur `+`\n",
    "class OperationsV2():\n",
    "    \n",
    "    def __init__(self):\n",
    "        pass\n",
    "        \n",
    "    def somme(self, x: int, y: int) -> int:\n",
    "        return x + y\n",
    "\n",
    "    def produit(self, x: int, y: int) -> int:\n",
    "        resultat = 0\n",
    "        for i in range(x):\n",
    "            resultat += y\n",
    "        return resultat"
   ]
  },
  {
   "cell_type": "code",
   "execution_count": 18,
   "metadata": {
    "ExecuteTime": {
     "end_time": "2021-09-14T06:29:26.392568Z",
     "start_time": "2021-09-14T06:29:26.388369Z"
    }
   },
   "outputs": [],
   "source": [
    "# Création d'une instance de la classe OperationsV2\n",
    "op2=OperationsV2()"
   ]
  },
  {
   "cell_type": "code",
   "execution_count": 19,
   "metadata": {
    "ExecuteTime": {
     "end_time": "2021-09-14T06:29:33.006201Z",
     "start_time": "2021-09-14T06:29:32.999211Z"
    }
   },
   "outputs": [
    {
     "data": {
      "text/plain": [
       "13"
      ]
     },
     "execution_count": 19,
     "metadata": {},
     "output_type": "execute_result"
    }
   ],
   "source": [
    "op2.somme(5,8)"
   ]
  },
  {
   "cell_type": "code",
   "execution_count": 20,
   "metadata": {
    "ExecuteTime": {
     "end_time": "2021-09-14T06:29:33.536019Z",
     "start_time": "2021-09-14T06:29:33.529774Z"
    }
   },
   "outputs": [
    {
     "data": {
      "text/plain": [
       "40"
      ]
     },
     "execution_count": 20,
     "metadata": {},
     "output_type": "execute_result"
    }
   ],
   "source": [
    "op2.produit(5,8)"
   ]
  },
  {
   "cell_type": "code",
   "execution_count": 1,
   "metadata": {
    "ExecuteTime": {
     "end_time": "2021-09-14T06:32:10.761877Z",
     "start_time": "2021-09-14T06:32:10.754563Z"
    },
    "init_cell": true
   },
   "outputs": [],
   "source": [
    "# Création de la classe OperationsV3\n",
    "# Calcule le produit de manière récursive\n",
    "class OperationsV3():\n",
    "    \n",
    "    def __init__(self):\n",
    "        pass\n",
    "        \n",
    "    def somme(self, x: int, y: int) -> int:\n",
    "        return x + y\n",
    "\n",
    "    def produit(self, x: int, y: int) -> int:\n",
    "        if x == 0 or y == 0:\n",
    "            return 0\n",
    "        if x == 1:\n",
    "            return y\n",
    "        return y + self.produit(x - 1, y)"
   ]
  },
  {
   "cell_type": "markdown",
   "metadata": {},
   "source": [
    "###### [Exécution sur Python Tutor](https://pythontutor.com/visualize.html#code=%23%20Cr%C3%A9ation%20de%20la%20classe%20OperationsV3%0A%23%20Calcule%20le%20produit%20de%20mani%C3%A8re%20r%C3%A9cursive%0Aclass%20OperationsV3%28%29%3A%0A%20%20%20%20%0A%20%20%20%20def%20__init__%28self%29%3A%0A%20%20%20%20%20%20%20%20pass%0A%20%20%20%20%20%20%20%20%0A%20%20%20%20def%20somme%28self,%20x%3A%20int,%20y%3A%20int%29%20-%3E%20int%3A%0A%20%20%20%20%20%20%20%20return%20x%20%2B%20y%0A%0A%20%20%20%20def%20produit%28self,%20x%3A%20int,%20y%3A%20int%29%20-%3E%20int%3A%0A%20%20%20%20%20%20%20%20if%20x%20%3D%3D%200%20or%20y%20%3D%3D%200%3A%0A%20%20%20%20%20%20%20%20%20%20%20%20return%200%0A%20%20%20%20%20%20%20%20if%20x%20%3D%3D%201%3A%0A%20%20%20%20%20%20%20%20%20%20%20%20return%20y%0A%20%20%20%20%20%20%20%20return%20y%20%2B%20self.produit%28x%20-%201,%20y%29%0A%0Aop3%3DOperationsV3%28%29%0Aprint%28op3.produit%285,3%29%29&cumulative=false&curInstr=0&heapPrimitives=nevernest&mode=display&origin=opt-frontend.js&py=3&rawInputLstJSON=%5B%5D&textReferences=false)"
   ]
  },
  {
   "cell_type": "code",
   "execution_count": null,
   "metadata": {},
   "outputs": [],
   "source": [
    "5x3\n",
    "\n",
    "3+4x3\n",
    "3+3x3\n",
    "3+2x3\n",
    "3+1x3\n",
    "3\n",
    "\n",
    "15"
   ]
  },
  {
   "cell_type": "code",
   "execution_count": 2,
   "metadata": {
    "ExecuteTime": {
     "end_time": "2021-09-14T06:32:13.081336Z",
     "start_time": "2021-09-14T06:32:13.077459Z"
    }
   },
   "outputs": [],
   "source": [
    "# Création d'une instance de la classe OperationsV3\n",
    "op3=OperationsV3()"
   ]
  },
  {
   "cell_type": "code",
   "execution_count": 5,
   "metadata": {
    "ExecuteTime": {
     "end_time": "2021-09-14T06:32:20.616785Z",
     "start_time": "2021-09-14T06:32:20.610013Z"
    }
   },
   "outputs": [
    {
     "data": {
      "text/plain": [
       "13"
      ]
     },
     "execution_count": 5,
     "metadata": {},
     "output_type": "execute_result"
    }
   ],
   "source": [
    "op3.somme(5,8)"
   ]
  },
  {
   "cell_type": "code",
   "execution_count": 6,
   "metadata": {
    "ExecuteTime": {
     "end_time": "2021-09-14T06:32:20.943004Z",
     "start_time": "2021-09-14T06:32:20.936724Z"
    }
   },
   "outputs": [
    {
     "data": {
      "text/plain": [
       "40"
      ]
     },
     "execution_count": 6,
     "metadata": {},
     "output_type": "execute_result"
    }
   ],
   "source": [
    "op3.produit(5,8)"
   ]
  },
  {
   "cell_type": "markdown",
   "metadata": {},
   "source": [
    "<div class=\"alert alert-success\">\n",
    "On pourrait faire une quatrième version, celle de l'algorithme du paysan russe, ou de son homologue breton (voir livre page 245) pour faire le produit.\n",
    "<br><br>\n",
    "Vous devriez avoir compris la différence entre interface et implémentation.\n",
    "<div>\n"
   ]
  },
  {
   "cell_type": "code",
   "execution_count": null,
   "metadata": {},
   "outputs": [],
   "source": []
  }
 ],
 "metadata": {
  "celltoolbar": "Initialization Cell",
  "hide_input": false,
  "kernelspec": {
   "display_name": "Python 3",
   "language": "python",
   "name": "python3"
  },
  "language_info": {
   "codemirror_mode": {
    "name": "ipython",
    "version": 3
   },
   "file_extension": ".py",
   "mimetype": "text/x-python",
   "name": "python",
   "nbconvert_exporter": "python",
   "pygments_lexer": "ipython3",
   "version": "3.6.10"
  },
  "latex_envs": {
   "LaTeX_envs_menu_present": true,
   "autoclose": false,
   "autocomplete": true,
   "bibliofile": "biblio.bib",
   "cite_by": "apalike",
   "current_citInitial": 1,
   "eqLabelWithNumbers": true,
   "eqNumInitial": 1,
   "hotkeys": {
    "equation": "Ctrl-E",
    "itemize": "Ctrl-I"
   },
   "labels_anchors": false,
   "latex_user_defs": false,
   "report_style_numbering": false,
   "user_envs_cfg": false
  },
  "nbTranslate": {
   "displayLangs": [
    "*"
   ],
   "hotkey": "alt-t",
   "langInMainMenu": true,
   "sourceLang": "en",
   "targetLang": "fr",
   "useGoogleTranslate": true
  },
  "toc": {
   "base_numbering": 1,
   "nav_menu": {},
   "number_sections": true,
   "sideBar": true,
   "skip_h1_title": false,
   "title_cell": "Table of Contents",
   "title_sidebar": "Contents",
   "toc_cell": false,
   "toc_position": {},
   "toc_section_display": true,
   "toc_window_display": false
  },
  "varInspector": {
   "cols": {
    "lenName": 16,
    "lenType": 16,
    "lenVar": 40
   },
   "kernels_config": {
    "python": {
     "delete_cmd_postfix": "",
     "delete_cmd_prefix": "del ",
     "library": "var_list.py",
     "varRefreshCmd": "print(var_dic_list())"
    },
    "r": {
     "delete_cmd_postfix": ") ",
     "delete_cmd_prefix": "rm(",
     "library": "var_list.r",
     "varRefreshCmd": "cat(var_dic_list()) "
    }
   },
   "types_to_exclude": [
    "module",
    "function",
    "builtin_function_or_method",
    "instance",
    "_Feature"
   ],
   "window_display": false
  }
 },
 "nbformat": 4,
 "nbformat_minor": 2
}
