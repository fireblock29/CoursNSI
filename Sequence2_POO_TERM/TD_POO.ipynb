{
 "cells": [
  {
   "cell_type": "markdown",
   "metadata": {},
   "source": [
    "# <center><font face=\"arial\" size=\"5\" color=#0101DF>NUMERIQUE ET SCIENCES INFORMATIQUES Terminale NSI</font></center>"
   ]
  },
  {
   "cell_type": "markdown",
   "metadata": {},
   "source": [
    "## <font color=#013ADF>Séquence N° 2 : TD POO</font>"
   ]
  },
  {
   "cell_type": "markdown",
   "metadata": {},
   "source": [
    "<div class=\"alert alert-danger\" role=\"alert\">\n",
    "    \n",
    "Les objectifs de cette séquence sont :\n",
    "\n",
    "- Écrire la définition d'une classe ;\n",
    "- Accèder aux attributs et méthodes d'une classe ;\n",
    "- Spécifier une structure de données par son interface ;\n",
    "- Distinguer interface et implémentation ;\n",
    "- Écrire plusieurs implémentations d'une même structure de données.\n",
    "\n",
    "</div>"
   ]
  },
  {
   "cell_type": "markdown",
   "metadata": {},
   "source": [
    "<div class=\"alert alert-success\">\n",
    "<img src=\"Images/warning.png\" alt=\"logo CR\" width=5% align=left>\n",
    "\n",
    "Pour tous les exercices, on placera des docstrings et commentaires nécessaires. On indiquera le typage et on placera des assertions permettant de vérifier la bonne exécution du programme et les pré-conditions.\n",
    "\n",
    "</div>"
   ]
  },
  {
   "cell_type": "code",
   "execution_count": 3,
   "metadata": {
    "ExecuteTime": {
     "end_time": "2021-09-21T06:27:13.583188Z",
     "start_time": "2021-09-21T06:27:13.117843Z"
    }
   },
   "outputs": [
    {
     "name": "stdout",
     "output_type": "stream",
     "text": [
      "The nb_mypy extension is already loaded. To reload it, use:\n",
      "  %reload_ext nb_mypy\n"
     ]
    }
   ],
   "source": [
    "# https://pypi.org/project/nb-mypy/\n",
    "'''\n",
    "Le chargement de ce module permet de\n",
    "vérifier si le typage attendu est correct\n",
    "'''\n",
    "%load_ext nb_mypy"
   ]
  },
  {
   "cell_type": "markdown",
   "metadata": {},
   "source": [
    "### 1- Indice de Masse Corporelle (IMC)"
   ]
  },
  {
   "cell_type": "markdown",
   "metadata": {},
   "source": [
    "<div class=\"alert alert-warning\">\n",
    "<img src=\"Images/CR.png\" alt=\"logo CR\" width=5% align=right>\n",
    "    \n",
    "L'indice de masse corporelle (IMC) permet d'estimer la **masse idéale** en fonction de la taille. Son calcul est simple : il correspond au **masse divisée par le carré de la taille** (**IMC = masse en kg/taille² en m**). Le chiffre obtenu permet d'estimer la corpulence et éventuellement le surpoids ou l'obésité chez l'adulte, homme ou femme.\n",
    "\n",
    "- Définir une classe \"Personne\" ayant trois attributs définissant certaines caractéristiques d’une personne réelle : nom, taille et masse. Cette classe aura :\n",
    "- une méthode imc() qui détermine l’IMC de la personne.\n",
    "- une méthode interpretation() qui affiche \"Insuffisance pondérale\" si l’IMC est inférieur ou égale à 18,5 et qui affiche \"obésité\" si l’IMC est supérieur ou égale à 30. Dans l'intervalle, on affichera \"Masse corporelle satisfaisante\".\n",
    "-  Une methode spéciale \\__repr__ qui affichera le nom, l'imc et un commentaire lorsque l'objet sera invoqué.\n",
    "- Écrire un programme qui instancie cette classe et utilise ses méthodes.\n",
    "\n",
    "</div>"
   ]
  },
  {
   "cell_type": "code",
   "execution_count": 21,
   "metadata": {
    "ExecuteTime": {
     "end_time": "2021-09-27T08:36:38.949049Z",
     "start_time": "2021-09-27T08:36:38.930052Z"
    },
    "cell_style": "center"
   },
   "outputs": [
    {
     "name": "stdout",
     "output_type": "stream",
     "text": [
      "Pierre a un IMC de  24.69, Voici mon interprétation : Masse corporelle satisfaisante\n"
     ]
    }
   ],
   "source": [
    "class Personne:\n",
    "    '''\n",
    "    Classe Personne ayant 3 attributs :\n",
    "    - Nom (Chaine de caractères)\n",
    "    - Taille (En mètres)\n",
    "    - Masse (En kilogrammes)\n",
    "    '''\n",
    "    def __init__(self, nom:str, taille:float, masse:float):\n",
    "        '''\n",
    "        Constructeur\n",
    "        Initialisation des attributs d'instance\n",
    "        '''\n",
    "        assert taille>0 and masse>0, 'Vous devez exister pour calculer votre IMC, sinon vous êtes un fantôme, et là c\\'est très très grave !'\n",
    "        self.nom=nom\n",
    "        self.taille=taille\n",
    "        self.masse=masse\n",
    "        \n",
    "    def imc(self):\n",
    "        '''\n",
    "        Calcul de l\\'imc de la Personne\n",
    "        '''\n",
    "        return (self.masse)/(self.taille**2)\n",
    "    \n",
    "    def interpretation(self):\n",
    "        '''\n",
    "        Interprétation de l\\'IMC de la personne\n",
    "        3 cas possibles :\n",
    "        - IMC <=18.5 (Insuffisance pondérale)\n",
    "        - IMC >=30 (Obésité)\n",
    "        - IMC compris entre 18.5 et 30 (Masse corporelle satisfaisante)\n",
    "        '''\n",
    "        imcval=self.imc() #On reprend la valeur de l'IMC [Personne.imc(self)]\n",
    "        if imcval<=18.5:\n",
    "            return \"Insufficance pondérale\"\n",
    "        elif imcval>=30:\n",
    "            return \"Obésité\"\n",
    "        else:\n",
    "            return \"Masse corporelle satisfaisante\"\n",
    "    \n",
    "    def __repr__(self):\n",
    "        \"\"\"\n",
    "        Représentation des attributs de la personne\n",
    "        \"\"\"\n",
    "        return f'{self.nom} a un IMC de {self.imc(): .2f}, Voici mon interprétation : {Personne.interpretation(self)}'\n",
    "    \n",
    "if __name__=='__main__':\n",
    "    \"\"\"\n",
    "    Programme principal\n",
    "    \"\"\"\n",
    "    Pierrot = Personne('Pierre', 1.80, 80) #Définition de la personne Pierre\n",
    "    PierrotIMC=Pierrot.imc() #Calcul IMC\n",
    "    PierrotInterprétation=Pierrot.interpretation() #Interprétation IMC\n",
    "    print(Pierrot) #Affichage du tout\n",
    "    assert ((Personne('Pierre', 1.80, 80)).interpretation())==\"Masse corporelle satisfaisante\""
   ]
  },
  {
   "cell_type": "markdown",
   "metadata": {},
   "source": [
    "### 2- Cercle"
   ]
  },
  {
   "cell_type": "markdown",
   "metadata": {},
   "source": [
    "<div class=\"alert alert-warning\">\n",
    "<img src=\"Images/CR.png\" alt=\"logo CR\" width=5% align=right>\n",
    "    \n",
    "\n",
    "- Définir une classe Cercle implémentant l'interface InterfaceCercle ci-dessous qui se définit par son rayon et son unité (attributs d'instance r de type réel et u de type str).\n",
    "- Écrire un programme qui instancie cette classe et utilise ses méthodes.\n",
    "\n",
    "</div>"
   ]
  },
  {
   "cell_type": "code",
   "execution_count": null,
   "metadata": {},
   "outputs": [],
   "source": [
    "from math import pi\n",
    "class InterfaceCercle():\n",
    "    def __init__(self,r:float, u:str):\n",
    "        pass\n",
    "        \n",
    "    def surface(self)->str:\n",
    "        pass\n",
    "    \n",
    "    def perimetre(self)->str:\n",
    "        pass"
   ]
  },
  {
   "cell_type": "code",
   "execution_count": 1,
   "metadata": {
    "ExecuteTime": {
     "end_time": "2021-09-27T08:49:02.419404Z",
     "start_time": "2021-09-27T08:49:02.406627Z"
    }
   },
   "outputs": [
    {
     "name": "stdout",
     "output_type": "stream",
     "text": [
      "1256.6370614359173 cm²\n",
      "125.66370614359172 cm\n"
     ]
    }
   ],
   "source": [
    "from math import pi\n",
    "class Cercle():\n",
    "    \"\"\"Classe InterfaceCercle ayant 2 attributs : \n",
    "    - Le rayon du cercle (Nombre décimal)\n",
    "    - L'unité du cercle (Chaine de caractères)\n",
    "    \"\"\"\n",
    "    def __init__(self,r:float, u:str):\n",
    "        \"\"\"\n",
    "        Initialisation des attributs d'instance\n",
    "        \"\"\"\n",
    "        self.r=r\n",
    "        self.u=u\n",
    "        \n",
    "    def surface(self)->str:\n",
    "        \"\"\"\n",
    "        Calcul de la surface du cercle\n",
    "        \"\"\"\n",
    "        return f'{pi*(self.r**2)} {self.u}\\u00B2'\n",
    "    \n",
    "    \n",
    "    def perimetre(self)->str:\n",
    "        \"\"\"\n",
    "        Calcul de le périmètre du cercle\n",
    "        \"\"\"\n",
    "        return f'{pi*self.r*2} {self.u}'\n",
    "    \n",
    "if __name__=='__main__':\n",
    "    GrossePatate=Cercle(20, 'cm')\n",
    "    print(GrossePatate.surface())\n",
    "    print(GrossePatate.perimetre())"
   ]
  },
  {
   "cell_type": "code",
   "execution_count": 14,
   "metadata": {
    "ExecuteTime": {
     "end_time": "2021-09-27T08:58:28.590956Z",
     "start_time": "2021-09-27T08:58:28.578174Z"
    }
   },
   "outputs": [
    {
     "name": "stdout",
     "output_type": "stream",
     "text": [
      "1256.6370614359173 cm²\n",
      "125.66370614359172 cm\n"
     ]
    }
   ],
   "source": [
    "class Cercle():\n",
    "    \"\"\"Classe InterfaceCercle ayant 2 attributs : \n",
    "    - Le rayon du cercle (Nombre décimal)\n",
    "    - L'unité du cercle (Chaine de caractères)\n",
    "    \"\"\"\n",
    "    def __init__(self,r:float, u:str):\n",
    "        \"\"\"\n",
    "        Initialisation des attributs d'instance\n",
    "        \"\"\"\n",
    "        self.r=r\n",
    "        self.u=u\n",
    "        \n",
    "    def surface(self)->str:\n",
    "        \"\"\"\n",
    "        Calcul de la surface du cercle\n",
    "        \"\"\"\n",
    "        return pi*(self.r**2)\n",
    "    \n",
    "    def reprsurface(self):\n",
    "        return f'{self.surface()} {self.u}\\u00B2'\n",
    "    \n",
    "    def reprperimetre(self):\n",
    "        return f'{self.perimetre()} {self.u}'\n",
    "        \n",
    "    \n",
    "    def perimetre(self)->str:\n",
    "        \"\"\"\n",
    "        Calcul de le périmètre du cercle\n",
    "        \"\"\"\n",
    "        return f'{pi*self.r*2} {self.u}'\n",
    "    \n",
    "if __name__=='__main__':\n",
    "    GrossePatate=Cercle(20, 'cm')\n",
    "    print(GrossePatate.reprsurface())\n",
    "    print(GrossePatate.perimetre())"
   ]
  },
  {
   "cell_type": "code",
   "execution_count": 24,
   "metadata": {
    "ExecuteTime": {
     "end_time": "2021-09-27T08:37:39.588306Z",
     "start_time": "2021-09-27T08:37:39.572268Z"
    }
   },
   "outputs": [
    {
     "data": {
      "text/plain": [
       "'1256.6370614359173 cm²'"
      ]
     },
     "execution_count": 24,
     "metadata": {},
     "output_type": "execute_result"
    }
   ],
   "source": [
    "GrossePatate=Cercle(20, 'cm')\n",
    "GrossePatate.surface()\n",
    "#GrossePatate.perimetre()"
   ]
  },
  {
   "cell_type": "markdown",
   "metadata": {},
   "source": [
    "### 3- Domino"
   ]
  },
  {
   "cell_type": "markdown",
   "metadata": {
    "cell_style": "center"
   },
   "source": [
    "<div class=\"alert alert-warning\">\n",
    "<img src=\"Images/CR.png\" alt=\"logo CR\" width=5% align=right>\n",
    "\n",
    "Définir une classe \"Domino\" qui se définit par la valeur des points sur ce dernier. La classe Domino aura 3 méthodes :\n",
    "- \"affiche_points\" qui affiche le couple domino-valeur.\n",
    "- \"valeur\" qui donne la somme des points du domino.\n",
    "- une méthode spéciale \\__repr__ qui représente le domino sous la forme [ 5 | 4 ] par exemple.\n",
    "- Écrire un programme qui instancie cette classe et utilise ses méthodes.\n",
    "- Créer 2 dominos [2,6] et [4,3] et leur appliquer les méthodes.\n",
    "- Créer une liste de 7 dominos [6,valeur de 1 à 6] qui les affiche puis indique la somme de l’ensemble.\n",
    "\n",
    "\n",
    "</div>"
   ]
  },
  {
   "cell_type": "code",
   "execution_count": 5,
   "metadata": {
    "ExecuteTime": {
     "end_time": "2021-09-28T06:16:18.739673Z",
     "start_time": "2021-09-28T06:16:18.724335Z"
    },
    "cell_style": "center",
    "code_folding": [],
    "run_control": {
     "marked": false
    }
   },
   "outputs": [
    {
     "name": "stdout",
     "output_type": "stream",
     "text": [
      "Domino :  [6|6] | -> 12\n",
      "Domino :  [4|5] | -> 9\n",
      "Domino :  [6|1] | -> 7\n",
      "Domino :  [5|2] | -> 7\n",
      "Domino :  [5|2] | -> 7\n",
      "Domino :  [2|5] | -> 7\n",
      "Domino :  [5|4] | -> 9\n"
     ]
    }
   ],
   "source": [
    "from random import randint as UnNombreSTP\n",
    "class Domino :\n",
    "    # Constructeur\n",
    "    def __init__(self, A=0, B=0):\n",
    "        self.A = A\n",
    "        self.B = B\n",
    "        \n",
    " \n",
    "    # Méthode\n",
    "    def affiche_point(self):\n",
    "        \"\"\"\n",
    "        Affiche les points A et B du domino\n",
    "        \"\"\"\n",
    "        return f'Domino : ({self.A}, {self.B})'\n",
    "\n",
    "    def valeur(self):\n",
    "        \"\"\"\n",
    "        Calcule et retourne la sommes des faces du domino\n",
    "        \"\"\"\n",
    "        somme = self.A + self.B\n",
    "        return somme\n",
    "    \n",
    "    def __repr__(self):\n",
    "        \"\"\"\n",
    "        Représentation du domino\n",
    "        \"\"\"\n",
    "        return f'Domino :  [{self.A}|{self.B}]'\n",
    "    \n",
    "if __name__=='__main__':\n",
    "    #d1 = Domino(2,6)\n",
    "    #d2 = Domino(4,3)\n",
    "    assert Domino(3,6), valeur()==8\n",
    "    dominoliste=[]\n",
    "    for i in range(7): #création de la liste de 6 dominos\n",
    "        dominoliste.append((UnNombreSTP(1,6),UnNombreSTP(1,6)))\n",
    "    for elt in dominoliste:\n",
    "        elt=Domino(elt[0], elt[1]) #instanciation des dominos\n",
    "        print(f'{elt} | -> {elt.valeur()}') #affichage du domino, et de la valeur de ses 2 faces\n",
    "        "
   ]
  },
  {
   "cell_type": "code",
   "execution_count": 10,
   "metadata": {
    "ExecuteTime": {
     "end_time": "2021-09-22T06:29:03.281365Z",
     "start_time": "2021-09-22T06:29:03.274329Z"
    }
   },
   "outputs": [
    {
     "data": {
      "text/plain": [
       "Domino :  [2|6]"
      ]
     },
     "execution_count": 10,
     "metadata": {},
     "output_type": "execute_result"
    }
   ],
   "source": [
    "d1"
   ]
  },
  {
   "cell_type": "markdown",
   "metadata": {},
   "source": [
    "### 4- Fraction"
   ]
  },
  {
   "cell_type": "markdown",
   "metadata": {
    "cell_style": "center"
   },
   "source": [
    "<div class=\"alert alert-warning\">\n",
    "<img src=\"Images/CR.png\" alt=\"logo CR\" width=5% align=right>\n",
    "\n",
    "\n",
    "- Écrivez une classe Fraction implémentant l'interface \"InterfaceFraction\" qui crée des objets initialisés avec deux nombres entiers \"num\", \"den\" pour le numérateur et le dénominateur.\n",
    "- Ajoutez une méthode \"affiche()\" qui affiche une représentation de la fraction.\n",
    "- Ajoutez des méthodes spéciales (\\__add__, __sub__ ...) pour pouvoir utiliser les opérateurs +, -, *, /.\n",
    "    \n",
    "Pour réduire la fraction, vous pouvez employer la fonction math.gcd(a, b)du module math, qui calcule le plus grand commun diviseur entre deux entiers a et b, ou une des versions (itérative ou récursive) de l'algorithme d'Euclide abordé la séquence précédente.\n",
    "    \n",
    "On vérifiera que les deux objets sur lequels on veut réaliser l'opération sont de type \"Fraction\".\n",
    "\n",
    "\\>>> f = Fraction(3, 4)\n",
    "    \n",
    "\\>>> f.affiche()\n",
    "    \n",
    "3/4\n",
    "    \n",
    "\\>>> g = Fraction(1, 2)\n",
    "    \n",
    "\\>>> g.affiche()\n",
    "    \n",
    "1/2\n",
    "    \n",
    "\\>>> r1 = f + g\n",
    "    \n",
    "\\>>> r.affiche()\n",
    "    \n",
    "5/4\n",
    "    \n",
    "\\>>> r2 = f / g\n",
    "    \n",
    "\\>>> r2.affiche()\n",
    "    \n",
    "3/2\n",
    "</div>"
   ]
  },
  {
   "cell_type": "code",
   "execution_count": 23,
   "metadata": {
    "ExecuteTime": {
     "end_time": "2021-09-28T06:27:54.458298Z",
     "start_time": "2021-09-28T06:27:54.442384Z"
    },
    "cell_style": "center"
   },
   "outputs": [],
   "source": [
    "from math import gcd\n",
    "class Fraction:\n",
    "    \n",
    "    def __init__(self,num:int, den:int):\n",
    "        self.num=num\n",
    "        self.den=den\n",
    "        \n",
    "    def affiche(self):\n",
    "        return f'{self.num} / {self.den}'\n",
    "        \n",
    "    def simplifier(self):\n",
    "        pgcd=gcd(self.num,self.den)\n",
    "        self.num=self.num/pgcd\n",
    "        self.den=self.den/pgcd\n",
    "        return Fraction(self.num,self.den)\n",
    "        \n",
    "    def __add__(self, autre):\n",
    "        assert isinstance(autre, Fraction)\n",
    "        den = self.den * autre.den\n",
    "        num = self.num*autre.den + self.den*autre.num\n",
    "        return Fraction(num, den).simplifier()\n",
    "    \n",
    "    def __sub__(self, autre):\n",
    "        assert isinstance(autre, Fraction)\n",
    "        den = self.den * autre.den\n",
    "        num = self.num*autre.den - (self.den*autre.num)\n",
    "        return Fraction(num, den).simplifier()\n",
    "    \n",
    "    def __mul__(self, autre):\n",
    "        assert isinstance(autre, Fraction)\n",
    "        num = self.num * autre.num\n",
    "        den = self.den * autre.den\n",
    "        return Fraction(num, den).simplifier()\n",
    "    \n",
    "    def __truediv__(self, autre):\n",
    "        assert isinstance(autre, Fraction)\n",
    "        num = self.num * autre.den\n",
    "        den = self.den * autre.num\n",
    "        return Fraction(num, den).simplifier()"
   ]
  },
  {
   "cell_type": "code",
   "execution_count": 28,
   "metadata": {
    "ExecuteTime": {
     "end_time": "2021-09-28T06:29:53.561113Z",
     "start_time": "2021-09-28T06:29:53.556595Z"
    }
   },
   "outputs": [],
   "source": [
    "f1=Fraction(3, 4)\n",
    "f2 = Fraction(1,2)"
   ]
  },
  {
   "cell_type": "code",
   "execution_count": 32,
   "metadata": {
    "ExecuteTime": {
     "end_time": "2021-09-28T06:30:12.914106Z",
     "start_time": "2021-09-28T06:30:12.908510Z"
    }
   },
   "outputs": [
    {
     "name": "stdout",
     "output_type": "stream",
     "text": [
      "3.0 / 2.0\n"
     ]
    }
   ],
   "source": [
    "r=f1/f2\n",
    "print(r.affiche())\n",
    "#type(r)"
   ]
  },
  {
   "cell_type": "code",
   "execution_count": 98,
   "metadata": {
    "ExecuteTime": {
     "end_time": "2021-09-27T09:53:18.610618Z",
     "start_time": "2021-09-27T09:53:18.606735Z"
    }
   },
   "outputs": [],
   "source": [
    "f2=Fraction(1,2)"
   ]
  },
  {
   "cell_type": "code",
   "execution_count": 99,
   "metadata": {
    "ExecuteTime": {
     "end_time": "2021-09-27T09:53:19.341201Z",
     "start_time": "2021-09-27T09:53:19.336356Z"
    }
   },
   "outputs": [
    {
     "name": "stdout",
     "output_type": "stream",
     "text": [
      "3.0 / 2.0\n"
     ]
    }
   ],
   "source": [
    "r1=f1/f2\n",
    "print(r1)"
   ]
  },
  {
   "cell_type": "code",
   "execution_count": null,
   "metadata": {},
   "outputs": [],
   "source": []
  }
 ],
 "metadata": {
  "celltoolbar": "Initialization Cell",
  "hide_input": false,
  "kernelspec": {
   "display_name": "Python 3",
   "language": "python",
   "name": "python3"
  },
  "language_info": {
   "codemirror_mode": {
    "name": "ipython",
    "version": 3
   },
   "file_extension": ".py",
   "mimetype": "text/x-python",
   "name": "python",
   "nbconvert_exporter": "python",
   "pygments_lexer": "ipython3",
   "version": "3.6.10"
  },
  "latex_envs": {
   "LaTeX_envs_menu_present": true,
   "autoclose": false,
   "autocomplete": true,
   "bibliofile": "biblio.bib",
   "cite_by": "apalike",
   "current_citInitial": 1,
   "eqLabelWithNumbers": true,
   "eqNumInitial": 1,
   "hotkeys": {
    "equation": "Ctrl-E",
    "itemize": "Ctrl-I"
   },
   "labels_anchors": false,
   "latex_user_defs": false,
   "report_style_numbering": false,
   "user_envs_cfg": false
  },
  "nbTranslate": {
   "displayLangs": [
    "*"
   ],
   "hotkey": "alt-t",
   "langInMainMenu": true,
   "sourceLang": "en",
   "targetLang": "fr",
   "useGoogleTranslate": true
  },
  "toc": {
   "base_numbering": 1,
   "nav_menu": {},
   "number_sections": true,
   "sideBar": true,
   "skip_h1_title": false,
   "title_cell": "Table of Contents",
   "title_sidebar": "Contents",
   "toc_cell": false,
   "toc_position": {},
   "toc_section_display": true,
   "toc_window_display": false
  },
  "varInspector": {
   "cols": {
    "lenName": 16,
    "lenType": 16,
    "lenVar": 40
   },
   "kernels_config": {
    "python": {
     "delete_cmd_postfix": "",
     "delete_cmd_prefix": "del ",
     "library": "var_list.py",
     "varRefreshCmd": "print(var_dic_list())"
    },
    "r": {
     "delete_cmd_postfix": ") ",
     "delete_cmd_prefix": "rm(",
     "library": "var_list.r",
     "varRefreshCmd": "cat(var_dic_list()) "
    }
   },
   "types_to_exclude": [
    "module",
    "function",
    "builtin_function_or_method",
    "instance",
    "_Feature"
   ],
   "window_display": false
  }
 },
 "nbformat": 4,
 "nbformat_minor": 2
}
