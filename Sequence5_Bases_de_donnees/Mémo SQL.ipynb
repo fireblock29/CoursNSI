{
 "cells": [
  {
   "cell_type": "markdown",
   "metadata": {},
   "source": [
    "# MEMO SQL"
   ]
  },
  {
   "cell_type": "markdown",
   "metadata": {},
   "source": [
    "<img src=\"Images/SQL.png\" alt=\"logo CR\" width=40% align=center>"
   ]
  },
  {
   "cell_type": "markdown",
   "metadata": {},
   "source": [
    "## Mémo des commandes"
   ]
  },
  {
   "cell_type": "markdown",
   "metadata": {},
   "source": [
    "<u>**Table : Nom de la table**</u>\n",
    "\n",
    "\n",
    "\n",
    "**SUPPRESSION D'UNE TABLE**\n",
    "\n",
    "```SQL\n",
    "DROP TABLE nom_de_la_table;\n",
    "```\n",
    "\n",
    "**INSERTION D'UN ENREGISTREMENT**\n",
    "\n",
    "```SQL\n",
    "INSERT INTO Table (attribut1, attribut2) VALUES (valeur1, valeur2);\n",
    "```\n",
    "\n",
    "**SELECTIONNER DES ENREGISTREMENTS**\n",
    "\n",
    "```SQL\n",
    "SELECT * FROM Table; -- Séléctionne Tout\n",
    "SELECT attributs FROM Table;\n",
    "SELECT attributs FROM Table WHERE Selecteur;\n",
    "SELECT attributs FROM Table ORDER BY attribut DESC; -- ASC (ascendant) par défaut; DESC = décroissant\n",
    "SELECT DISTINCT attribut FROM Table ORDER BY attribut DESC; -- DISTINCT : évite l'apparition des doublons\n",
    "```\n",
    "> Remarque : Le sélecteur peut comporter des opérateurs logiques AND, OR, ...\n",
    "\n",
    "**FONCTION D'AGREGATION (Intervient sur plusieurs enregistrements)** \n",
    "\n",
    "```SQL\n",
    "SELECT COUNT(*) FROM nom_de_la_table WHERE Selecteur; -- Count\n",
    "SELECT AVG(attribut) FROM nom_de_la_table WHERE Selecteur; -- Average\n",
    "```\n",
    "\n",
    "**JOINTURE**\n",
    "\n",
    "```SQL\n",
    "SELECT attributs FROM TableA JOIN TableB ON TableA.cle1=TableB.cle2 WHERE Selecteur;\n",
    "INNER JOIN = JOIN\n",
    "```\n",
    "\n",
    "**MODIFICATION D'UN ENREGISTREMENT**\n",
    "\n",
    "```SQL\n",
    "UPDATE Table SET attribut1=valeur1, attibut2=valeur2 WHERE Selecteur;\n",
    "```\n",
    "\n",
    "**MODIFICATION D'UNE TABLE**\n",
    "\n",
    "```SQL\n",
    "ALTER TABLE Table ADD COLUMN attribut type;\n",
    "```\n",
    "\n",
    "**SUPPRESSION D'UN ENREGISTREMENT**\n",
    "\n",
    "```SQL\n",
    "DELETE FROM Table WHERE Selecteur;\n",
    "```\n",
    "\n",
    "**ASLIASING**\n",
    "```SQL\n",
    "Table AS T -- On peut ainsi utiliser la lettre T pour appeler la Table\n",
    "```"
   ]
  },
  {
   "cell_type": "markdown",
   "metadata": {},
   "source": [
    "## Types de données\n",
    "\n",
    "```SQL\n",
    "CHAR(t) -- Texte fixe de t caractères\n",
    "VARCHAR(t) -- Texte de t caractères variables\n",
    "TEXT -- Texte de 65 535 caractères max\n",
    "INT -- Nombre entier de -2 <sup>31</sup> à 2<sup>31</sup>-1 (signé) ou de 0 à 2<sup>31</sup>-1 (non signé)\n",
    "FLOAT -- Réel à virgule flottante\n",
    "DATE -- Date format AAAA-MM-JJ\n",
    "DATETIME -- Date et Heure format AAAA-MM-JJ HH:MI:SS\n",
    "```"
   ]
  },
  {
   "cell_type": "code",
   "execution_count": null,
   "metadata": {},
   "outputs": [],
   "source": []
  }
 ],
 "metadata": {
  "hide_input": false,
  "kernelspec": {
   "display_name": "Python 3",
   "language": "python",
   "name": "python3"
  },
  "language_info": {
   "codemirror_mode": {
    "name": "ipython",
    "version": 3
   },
   "file_extension": ".py",
   "mimetype": "text/x-python",
   "name": "python",
   "nbconvert_exporter": "python",
   "pygments_lexer": "ipython3",
   "version": "3.6.10"
  },
  "latex_envs": {
   "LaTeX_envs_menu_present": true,
   "autoclose": false,
   "autocomplete": true,
   "bibliofile": "biblio.bib",
   "cite_by": "apalike",
   "current_citInitial": 1,
   "eqLabelWithNumbers": true,
   "eqNumInitial": 1,
   "hotkeys": {
    "equation": "Ctrl-E",
    "itemize": "Ctrl-I"
   },
   "labels_anchors": false,
   "latex_user_defs": false,
   "report_style_numbering": false,
   "user_envs_cfg": false
  },
  "nbTranslate": {
   "displayLangs": [
    "*"
   ],
   "hotkey": "alt-t",
   "langInMainMenu": true,
   "sourceLang": "en",
   "targetLang": "fr",
   "useGoogleTranslate": true
  },
  "toc": {
   "base_numbering": 1,
   "nav_menu": {},
   "number_sections": true,
   "sideBar": true,
   "skip_h1_title": false,
   "title_cell": "Table of Contents",
   "title_sidebar": "Contents",
   "toc_cell": false,
   "toc_position": {},
   "toc_section_display": true,
   "toc_window_display": false
  },
  "varInspector": {
   "cols": {
    "lenName": 16,
    "lenType": 16,
    "lenVar": 40
   },
   "kernels_config": {
    "python": {
     "delete_cmd_postfix": "",
     "delete_cmd_prefix": "del ",
     "library": "var_list.py",
     "varRefreshCmd": "print(var_dic_list())"
    },
    "r": {
     "delete_cmd_postfix": ") ",
     "delete_cmd_prefix": "rm(",
     "library": "var_list.r",
     "varRefreshCmd": "cat(var_dic_list()) "
    }
   },
   "types_to_exclude": [
    "module",
    "function",
    "builtin_function_or_method",
    "instance",
    "_Feature"
   ],
   "window_display": false
  }
 },
 "nbformat": 4,
 "nbformat_minor": 4
}
