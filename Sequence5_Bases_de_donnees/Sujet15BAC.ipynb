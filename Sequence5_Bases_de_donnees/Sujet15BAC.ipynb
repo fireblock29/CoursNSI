{
 "cells": [
  {
   "cell_type": "code",
   "execution_count": 9,
   "metadata": {
    "ExecuteTime": {
     "end_time": "2021-12-11T15:50:01.145422Z",
     "start_time": "2021-12-11T15:50:01.134181Z"
    }
   },
   "outputs": [
    {
     "name": "stdout",
     "output_type": "stream",
     "text": [
      "{'min': -8, 'max': 98}\n"
     ]
    }
   ],
   "source": [
    "def RechercheMinMax(tab:list)->dict:\n",
    "    \"\"\"\n",
    "    Fonction de recherche du minimum et du maximum \n",
    "    d'un tableau de nombres non triés (passé en paramètre).\n",
    "    \"\"\"\n",
    "    mini,maxi=None,None\n",
    "    for i in tab:\n",
    "        #Si il n'y a pas de mini, ou si i est le mini\n",
    "        if not(mini) or i<mini:\n",
    "            mini=i\n",
    "        #Si il n'y a pas de maxi, ou si i est le maxi\n",
    "        elif not(maxi) or i>maxi:\n",
    "            maxi=i\n",
    "    return {'min':mini, 'max':maxi} #Dictionnaire Python\n",
    "\n",
    "\n",
    "#Programme principal\n",
    "if __name__=='__main__':\n",
    "    tableau1 = [0, 1, 4, 2, -2, 9, 3, 1, 7, 1]\n",
    "    tableau2 = []\n",
    "    \n",
    "    assert RechercheMinMax(tableau1)=={'min': -2, 'max': 9}, \"Erreur d'implémentation\"\n",
    "    assert RechercheMinMax(tableau2)=={'min': None, 'max': None}, \"Erreur d'implémentation\"\n",
    "    \n",
    "    print(RechercheMinMax([-2,-8,-6,56,87,54,2,65,98,15,23,5,-6,28]))"
   ]
  },
  {
   "cell_type": "code",
   "execution_count": 4,
   "metadata": {
    "ExecuteTime": {
     "end_time": "2021-12-11T15:48:29.402202Z",
     "start_time": "2021-12-11T15:48:29.388435Z"
    }
   },
   "outputs": [],
   "source": [
    "class Carte:\n",
    "    \"\"\"Initialise Couleur (entre 1 à 4), et Valeur (entre 1 à 13)\"\"\"\n",
    "    def __init__(self, c, v):\n",
    "        assert c>=0 and c<5, \"Erreur d'implémentation\"\n",
    "        assert v>=0 and v<14, \"Erreur d'implémentation\"\n",
    "        self.Couleur = c\n",
    "        self.Valeur = v\n",
    "\n",
    "    \"\"\"Renvoie le nom de la Carte As, 2, ... 10,\n",
    "       Valet, Dame, Roi\"\"\"\n",
    "    def getNom(self):\n",
    "        if ( self.Valeur > 1 and self.Valeur < 11):\n",
    "            return str( self.Valeur)\n",
    "        elif self.Valeur == 11:\n",
    "            return \"Valet\"\n",
    "        elif self.Valeur == 12:\n",
    "            return \"Dame\"\n",
    "        elif self.Valeur == 13:\n",
    "            return \"Roi\"\n",
    "        else:\n",
    "            return \"As\"\n",
    "\n",
    "    \"\"\"Renvoie la couleur de la Carte (parmi pique, coeur, carreau, trefle\"\"\"\n",
    "    def getCouleur(self):\n",
    "        return ['pique', 'coeur', 'carreau', 'trefle' ][self.Couleur-1]\n",
    "\n",
    "class PaquetDeCarte:\n",
    "    def __init__(self):\n",
    "        self.contenu = []\n",
    "\n",
    "    \"\"\"Remplit le paquet de cartes\"\"\"\n",
    "    def remplir(self):\n",
    "        for c in range(1,5):\n",
    "            for v in range(14):\n",
    "                self.contenu.append(Carte(c,v))\n",
    "\n",
    "    \"\"\"Renvoie la Carte qui se trouve à la position donnée\"\"\"\n",
    "    def getCarteAt(self, pos):\n",
    "        assert not(pos>52), 'Cette carte n\\'est pas dans le paquet'\n",
    "        carte = self.contenu[pos]\n",
    "        return carte"
   ]
  },
  {
   "cell_type": "code",
   "execution_count": 18,
   "metadata": {
    "ExecuteTime": {
     "end_time": "2021-12-11T15:54:30.866281Z",
     "start_time": "2021-12-11T15:54:30.859520Z"
    }
   },
   "outputs": [
    {
     "name": "stdout",
     "output_type": "stream",
     "text": [
      "6 de coeur\n"
     ]
    }
   ],
   "source": [
    "unPaquet = PaquetDeCarte()\n",
    "unPaquet.remplir()\n",
    "uneCarte = unPaquet.getCarteAt(20)\n",
    "print(uneCarte.getNom() + \" de \" + uneCarte.getCouleur())"
   ]
  },
  {
   "cell_type": "code",
   "execution_count": null,
   "metadata": {},
   "outputs": [],
   "source": []
  }
 ],
 "metadata": {
  "hide_input": false,
  "kernelspec": {
   "display_name": "Python 3",
   "language": "python",
   "name": "python3"
  },
  "language_info": {
   "codemirror_mode": {
    "name": "ipython",
    "version": 3
   },
   "file_extension": ".py",
   "mimetype": "text/x-python",
   "name": "python",
   "nbconvert_exporter": "python",
   "pygments_lexer": "ipython3",
   "version": "3.6.10"
  },
  "latex_envs": {
   "LaTeX_envs_menu_present": true,
   "autoclose": false,
   "autocomplete": true,
   "bibliofile": "biblio.bib",
   "cite_by": "apalike",
   "current_citInitial": 1,
   "eqLabelWithNumbers": true,
   "eqNumInitial": 1,
   "hotkeys": {
    "equation": "Ctrl-E",
    "itemize": "Ctrl-I"
   },
   "labels_anchors": false,
   "latex_user_defs": false,
   "report_style_numbering": false,
   "user_envs_cfg": false
  },
  "nbTranslate": {
   "displayLangs": [
    "*"
   ],
   "hotkey": "alt-t",
   "langInMainMenu": true,
   "sourceLang": "en",
   "targetLang": "fr",
   "useGoogleTranslate": true
  },
  "toc": {
   "base_numbering": 1,
   "nav_menu": {},
   "number_sections": true,
   "sideBar": true,
   "skip_h1_title": false,
   "title_cell": "Table of Contents",
   "title_sidebar": "Contents",
   "toc_cell": false,
   "toc_position": {},
   "toc_section_display": true,
   "toc_window_display": false
  },
  "varInspector": {
   "cols": {
    "lenName": 16,
    "lenType": 16,
    "lenVar": 40
   },
   "kernels_config": {
    "python": {
     "delete_cmd_postfix": "",
     "delete_cmd_prefix": "del ",
     "library": "var_list.py",
     "varRefreshCmd": "print(var_dic_list())"
    },
    "r": {
     "delete_cmd_postfix": ") ",
     "delete_cmd_prefix": "rm(",
     "library": "var_list.r",
     "varRefreshCmd": "cat(var_dic_list()) "
    }
   },
   "types_to_exclude": [
    "module",
    "function",
    "builtin_function_or_method",
    "instance",
    "_Feature"
   ],
   "window_display": false
  }
 },
 "nbformat": 4,
 "nbformat_minor": 4
}
