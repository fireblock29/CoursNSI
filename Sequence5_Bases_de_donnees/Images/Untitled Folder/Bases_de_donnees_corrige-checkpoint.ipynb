{
 "cells": [
  {
   "cell_type": "markdown",
   "metadata": {},
   "source": [
    "# <center><font face=\"arial\" size=\"5\" color=#0101DF>NUMERIQUE ET SCIENCES INFORMATIQUES Terminale NSI</font></center>"
   ]
  },
  {
   "cell_type": "markdown",
   "metadata": {},
   "source": [
    "## <font color=#013ADF>Séquence N° 6 : Bases de données - Structured Query Language (SG</font>"
   ]
  },
  {
   "cell_type": "markdown",
   "metadata": {},
   "source": [
    "<div class=\"alert alert-danger\" role=\"alert\">\n",
    "    \n",
    "Les objectifs de cette séquence sont :\n",
    "\n",
    "- Identifier les concepts définissant le modèle relationnel ;\n",
    "- Savoir distinguer la structure d'une base de données de son contenu ;\n",
    "- Repérer des anomalies dans le schéma d'une base de données ;\n",
    "- Identifier les services rendus par un système de gestion de bases de données relationnelles : persistance des données, gestion des accès concurrrents, efficacité de traitemenet des requêtes, sécurisation des accès ;\n",
    "- Identifier les composants d'une requête ;\n",
    "- Construire des requêtes d'interrogation à l'aide des clauses du langage SQL : SELECT, FROM, WHERE, JOIN ;\n",
    "- Construire des requêtes d'insertion et de mise à jour à l'aide de : UPDATE, INSERT, DELETE.\n",
    "\n",
    "\n",
    "</div>"
   ]
  },
  {
   "cell_type": "markdown",
   "metadata": {},
   "source": [
    "<div class=\"alert alert-warning\">\n",
    "<img src=\"Images/CR.png\" alt=\"logo CR\" width=5% align=right>\n",
    "    \n",
    "Travail préalable   \n",
    "\n",
    "- Reprendre la séquence 8 \"Données en table\" de la classe de première (notebook \"Elections.ipynb\"):\n",
    "    - vocabulaire : attribut, enregistrement, vecteur, projection, jointure, selection ;\n",
    "    - Lecture/écriture de fichiers CSV (pour révison : pas utilisé dans cette séquence).\n",
    "- Lire les chapitres 5  et 6 du livre.\n",
    "    \n",
    "*Remarques :*\n",
    "- On ne vous demande pas de savoir réaliser un modèle Entité/Association (ou Relation), mais de savoir le lire.\n",
    "- À ne pas perdre de vue : https://www.cnil.fr/fr/comprendre-le-rgpd\n",
    "    \n",
    "**Problématique :**\n",
    "\n",
    "Comment stocker les données sur les élèves de terminale de l'école ainsi que leur ville de résidence sous forme d'un code postal et du libellé de la ville ?\n",
    "\n",
    "\n",
    "\n",
    "| Id_eleve | nom     | prenom   |  statut   | code postal | libellé ville |\n",
    "| :------: | ------- | -------- | :-------: | :---------: | :-----------: |\n",
    "|    1     | Bourgon | Élise    | demi-pens |    29490    |   Guipavas    |\n",
    "|    2     | Jacq    | Christine | demi-pens |    29820    |    Guilers    |\n",
    "|    3     | Durand  | Mathis   |  externe  |    29200    |     Brest     |\n",
    "|    4     | Gontran | Élouan   | demi-pens |    29290    |  Saint Renan  |\n",
    "|    5     | Fox     | Titouan  | demi-pens |    29490    |   Guipavas    |\n",
    "|    6     | Majo    | Aya      |  externe  |    29200    |     Brest     |\n",
    "|    7     | Tripaux | Jean     |  interne  |    29160    |    Crozon     |\n",
    "|    8     | Chavin  | Hassan   |  interne  |    29590    |    Le Faou    |\n",
    "|    9     | Marvaux | Éloi     |  externe  |    29200    |     Brest     |\n",
    "|    10    | Savino  | Manel    |  interne  |    29830    | Ploudalmézeau |\n",
    "\n",
    "- On propose cette table. Que peut-on lui reprocher ?\n",
    "- Revisons le vocabulaire : attribut, champ, domaine, donnée enregistrement, vecteur, n-uplet, relation, projection, sélection, jointure\n",
    "<div>"
   ]
  },
  {
   "cell_type": "markdown",
   "metadata": {},
   "source": [
    "<div class=\"alert alert-danger\" role=\"alert\">\n",
    "\n",
    "- Redondance sur les codes postaux et villes → Volume de données (espace-disque) plus important ;\n",
    "- Risque d'incohérence des données : anomalie à l'insertion/modification → saisie de valeurs identiques (déménagement).\n",
    "    \n",
    "Saisie du schéma ci-dessous avec  l'outil en ligne : http://www.mocodo.net/\n",
    "<div>"
   ]
  },
  {
   "cell_type": "markdown",
   "metadata": {},
   "source": [
    "### 1- Le modèle Entité/Association (ou relation)"
   ]
  },
  {
   "cell_type": "markdown",
   "metadata": {},
   "source": [
    "<div class=\"alert alert-success\">\n",
    "\n",
    "\n",
    "<img src=\"Images/Villes.svg\" alt=\"ville_db\" width=30% align=center>   \n",
    "    \n",
    "\n",
    "**Comment lire ce modèle ?**\n",
    "    \n",
    "Une entité de la table **ELEVES** habite dans 1 et 1 seule VILLE ;\n",
    "\n",
    "Une entité de la table **VILLE** est habité par 0 ou plusieurs (N) élèves.\n",
    "    \n",
    "**Compte-tenu des cardinalités**, il en résulte la **création de 2 tables** ayant les attributs suivants :\n",
    "    \n",
    "    \n",
    "| Id_eleve | nom     | prenom   |  statut   | code postal |\n",
    "| :------: | ------- | -------- | :-------: | :---------: |\n",
    "|    1     | Bourgon | Élise    | demi-pens |    29490    |\n",
    "|    2     | Jacq    | Christine | demi-pens |    29820    |\n",
    "|    3     | Durand  | Mathis   |  externe  |    29200    |\n",
    "|    4     | Gontran | Élouan   | demi-pens |    29290    |\n",
    "|    5     | Fox     | Titouan  | demi-pens |    29490    |\n",
    "|    6     | Majo    | Aya      |  externe  |    29200    |\n",
    "|    7     | Tripaux | Jean     |  interne  |    29160    |\n",
    "|    8     | Chavin  | Hassan   |  interne  |    29590    |\n",
    "|    9     | Marvaux | Éloi     |  externe  |    29200    |\n",
    "|    10    | Savino  | Manel    |  interne  |    29830    |\n",
    "    \n",
    "Où **Id_Eleve** est la **clé primaire** de la table **ELEVES** et **Code_postal** est la **clé étrangère**.\n",
    "    \n",
    "| code postal | libellé ville |\n",
    "| :---------: | :-----------: |\n",
    "|    29490    |   Guipavas    |\n",
    "|    29820    |    Guilers    |\n",
    "|    29200    |     Brest     |\n",
    "|    29290    |  Saint Renan  |\n",
    "|    29160    |    Crozon     |\n",
    "|    29590    |    Le Faou    |\n",
    "|    29830    | Ploudalmézeau |\n",
    "    \n",
    "Où **Code postal** est la **clé primaire** de la table **VILLE**.\n",
    "\n",
    "<img src=\"Images/warning.png\" alt=\"warning\" width=5% align=left>\n",
    "    \n",
    "    \n",
    "Clé primaire : permet d'accéder aux données d'un enregistrement de façon claire et unique.\n",
    "    \n",
    "Clé étrangère : Lien avec l'identifiant d'une autre table.\n",
    "<div>"
   ]
  },
  {
   "cell_type": "markdown",
   "metadata": {},
   "source": [
    "### 2- Le modèle relationnel"
   ]
  },
  {
   "cell_type": "markdown",
   "metadata": {},
   "source": [
    "<div class=\"alert alert-success\">\n",
    "\n",
    "<img src=\"Images/modele_relationnel.png\" alt=\"relationnel\" width=40% align=center>\n",
    "    \n",
    "**ELEVE ( Id_eleve, nom, prenom, status, code postal )**\n",
    "    \n",
    "Le champ Id_eleve constitue la clef primaire de la table. C'était déjà un identifiant de l'entité ELEVE.\n",
    "    \n",
    "Les champs nom, prenom et status étaient déjà de simples attributs de l'entité ELEVE.\n",
    "    \n",
    "Le champ code postal est une clef étrangère. Il a migré à partir de l'entité VILLE par l'association de dépendance fonctionnelle HABITE en perdant son caractère identifiant.\n",
    "    \n",
    "**VILLE ( code postal, libelle_ville )**\n",
    "    \n",
    "Le champ code postal constitue la clef primaire de la table. C'était déjà un identifiant de l'entité VILLE.\n",
    "    \n",
    "Le champ libelle_ville était déjà un simple attribut de l'entité VILLE.\n",
    "<div>"
   ]
  },
  {
   "cell_type": "markdown",
   "metadata": {},
   "source": [
    "### 3- Le modèle physique : système de gestion de base de donnée relationnel (SGBD) relationnel"
   ]
  },
  {
   "cell_type": "markdown",
   "metadata": {},
   "source": [
    "#### 3-1 Architecture 3 tiers"
   ]
  },
  {
   "cell_type": "markdown",
   "metadata": {},
   "source": [
    "<img src=\"Images/architecture_3tiers.jpg\" alt=\"serveurs\" width=60% align=center>\n",
    "\n",
    "L'architecture classique est une architecture à 3 niveaux, c'est-à-dire que l'on a une architecture partagée entre :\n",
    "\n",
    "Le client qui demande des ressources (à partir de son navigateur)\n",
    "\n",
    "Le serveur d'application (serveur http) : le serveur chargé de fournir la ressource mais faisant appel à un autre serveur (Apache Nginx ...)\n",
    "\n",
    "Le serveur secondaire (serveur de base de données): fournit un service au premier serveur (Mysql, PostgreSQ ...)"
   ]
  },
  {
   "cell_type": "markdown",
   "metadata": {},
   "source": [
    "#### 3-2 SQLite"
   ]
  },
  {
   "cell_type": "markdown",
   "metadata": {},
   "source": [
    "**SQLite** est une bibliothèque qui propose un moteur de base de données relationnelle accessible par le langage SQL.\n",
    "\n",
    "https://sql.sh/sgbd/sqlite\n",
    "\n",
    "Contrairement aux serveurs de bases de données traditionnels, sa particularité est de ne pas reproduire le schéma habituel client-serveur mais d'être directement intégrée aux programmes. L'intégralité de la base de données (déclarations, tables, index et données) est stockée dans un fichier indépendant de la plateforme.\n",
    "\n",
    "En parcourant les répertoires de Firefox : /home/user/.mozilla/firefox/l11uob7t.default/, on peut y trouver plusieurs bases SQLite dont celle des cookies : cookies.sqlite\n",
    "\n",
    "\n",
    "**C'est cette option que nous allons choisir car moins lourde à mettre en oeuvre.**\n",
    "\n",
    "Pour visualiser le contenu d'une base, on peut utiliser :\n",
    "\n",
    "- DB browser for sqlite (à installer sur un poste) ;\n",
    "- Un outil en ligne : https://extendsclass.com/sqlite-browser.html\n",
    "- En ligne de commande ..."
   ]
  },
  {
   "cell_type": "markdown",
   "metadata": {},
   "source": [
    "#### 3-3 Propriétés d'un SGBD (ACID)"
   ]
  },
  {
   "cell_type": "markdown",
   "metadata": {},
   "source": [
    "<div class=\"alert alert-success\">\n",
    "    \n",
    "Un SGBD doit assurer un ensemble de fonctions :\n",
    "\n",
    "Le SGBD doit assurer la persistance des données. Il doit assurer la pérennité de la structure quelque soit les modifications. de plus l'accès aux données doit être garanti en toute circonstance : panne matérielle, logicielle, coupure de courant, etc.\n",
    "\n",
    "Le SGBD doit gérer les accès concurrents. Tout comme le système d'exploitation linux étudié en première, il gère un système de droits et de privilèges pour des utilisateurs et des groupes d'utilisateurs.\n",
    "    \n",
    "Le SGBD doit être efficace. Cette efficacité tient à des algorithmes puissants qui ne sont pas 'visibles' par les utilisateurs.\n",
    "\n",
    "Au sein d’une base de données, le terme de **transaction** désigne les opérations apportant des modifications aux données. Par exemple, un virement bancaire provoquant le débit du compte de l’émetteur et le crédit du compte du bénéficiaire est une transaction.\n",
    "\n",
    "Ces transactions doivent toutefois présenter quatre propriétés visant à garantir leur validité même en cas d’erreur ou de pannes informatiques. Ces quatre propriétés sont l’**atomicité**, la **cohérence**, l’**isolation** et la **durabilité**. Afin de mémoriser facilement ces attributs, Andreas Reuter et Theo Härder ont inventé l’acronyme  » ACID  » en 1983.\n",
    "\n",
    "L’**atomicité** des transactions au sein des bases de données signifie que tous les changements apportés aux données sont effectués totalement, ou pas du tout. Elle permet d’éviter que les changements prennent effet en cas de panne de l’application ou du serveur de la base de données en plein milieu de la transaction. Ainsi, la base de données ne risque pas d’être corrompue par des opérations imprévisibles et à moitié complétées.\n",
    "\n",
    "La **cohérence** signifie que les transactions doivent respecter les contraintes d’intégrité des données de la base de données. Ainsi, une transaction qui commence avec un ensemble de données cohérent doit résulter par un ensemble de données cohérent. Pour maintenir la cohérence, un système de base de données peut abandonner les transactions qui risquent de provoquer une incohérence.\n",
    "\n",
    "L’**isolation** signifie que les écritures et lectures des transactions réussies ne seront pas affectées par les écritures et lectures d’autres transactions, qu’elles soient ou non réussies.\n",
    "\n",
    "La **durabilité** garantit que les transactions réussies survivront de façon permanente et ne seront pas affectées par d’éventuelles pannes ou problèmes techniques. Les changements apportés aux données doivent être permanents.\n",
    "\n",
    "source : https://www.lebigdata.fr/acid-base-de-donnees-definition\n",
    "    \n",
    "<div>"
   ]
  },
  {
   "cell_type": "markdown",
   "metadata": {},
   "source": [
    "<div class=\"alert alert-warning\">\n",
    "<img src=\"Images/CR.png\" alt=\"logo CR\" width=5% align=right>\n",
    "    \n",
    "**Exercice**\n",
    "\n",
    "Pour chacun des sénarios suivant dire laquelle des 4 propriétés ACID est mise en jeu :\n",
    "\n",
    "1- On exécute intégralement une transaction. La machine exécutant le SGBD subit une panne de courant. Au redémarrage, l'effet de la transaction a bien été pris en compte.\n",
    "    \n",
    "2- Une table T2 contient des clés étrangères, référençant les clés d'une table T1. On exécute une transaction qui modifie T2. Après la transaction T2 contient toujours des clés étrangères.\n",
    "    \n",
    "3- Une transaction tente d'insérer 10 enregistrements dans une relation. L'insertion du 9ème enregistrement échoue, à cause d'une contrainte de clé primaire. La transaction est annulée et aucune des lignes ne se retrouve dans la relation.\n",
    "    \n",
    "4- Sur une relation R contenant un attribut \"n\" de type entier, on exécute deux transactions, \"en même temps\". La première ajoute 1 à toutes les données de l'attribut \"n\" et la seconde retire 1 à ce même attribut. Le contenu de la relation après exécution des transactions est le même."
   ]
  },
  {
   "cell_type": "markdown",
   "metadata": {},
   "source": [
    "<div class=\"alert alert-danger\" role=\"alert\">\n",
    "    \n",
    "1- Durabilité (journal de log)\n",
    "    \n",
    "2- Cohérence\n",
    "    \n",
    "3- Atomicité\n",
    "    \n",
    "4- Isolation"
   ]
  },
  {
   "cell_type": "markdown",
   "metadata": {},
   "source": [
    "### 4- Le langage SQL (Structured Query Language)"
   ]
  },
  {
   "cell_type": "markdown",
   "metadata": {},
   "source": [
    "Nous allons nous servir de la base de données décrite précédemment pour découvrir le langage SQL."
   ]
  },
  {
   "cell_type": "markdown",
   "metadata": {},
   "source": [
    "#### 4-1 Création d'une base de données"
   ]
  },
  {
   "cell_type": "markdown",
   "metadata": {},
   "source": [
    "Nous allons créer 3 bases de données identiques de 3 manières puis nous poursuivrons au travers ce notebook. Nous reviendrons en projet sur la création et la manipulation d'une base de données avec python.\n",
    "\n",
    "**4-1-1- Création en lignes de commande** :\n",
    "\n",
    "    - Ouvrir un terminal et placez vous dans votre home ;\n",
    "    - Création de la base de données que nous appelerons \"MyDB1\" : sqlite3 MyDB1.db\n",
    "    - Vous êtes dans l'environnement sqlite, le prompt a changé \">\"\n",
    "    - Pour vérifier la création : .database\n",
    "    - Pour obtenir de l'aide : .help\n",
    "    - Pour sortir : .exit (CTRL + D)\n",
    "    \n",
    "Un fichier MyDB1.db doit être présent dans votre répertoire.\n",
    "\n",
    "**4-1-2- Création à partir d'un script python** :\n"
   ]
  },
  {
   "cell_type": "code",
   "execution_count": null,
   "metadata": {},
   "outputs": [],
   "source": [
    "import sqlite3\n",
    "connexion = sqlite3.connect('MyDB2.db') # connection ,création si non existe\n",
    "curseur=connexion.cursor() # création d'un objet pour réaliser des requêtes"
   ]
  },
  {
   "cell_type": "markdown",
   "metadata": {},
   "source": [
    "Un fichier MyDB2.db doit être présent dans votre répertoire.\n",
    "\n",
    "Vous pouvez maintenant supprimer ces deux bases.\n",
    "\n",
    "**4-1-3- Création à partir du notebook** :\n",
    "\n",
    "Grâce à l'extension **ipython-sql** qu'il faut activer en validant la cellule suivante, nous allons pouvoir faire des requêtes SQL."
   ]
  },
  {
   "cell_type": "code",
   "execution_count": null,
   "metadata": {},
   "outputs": [],
   "source": [
    "%load_ext sql"
   ]
  },
  {
   "cell_type": "code",
   "execution_count": null,
   "metadata": {},
   "outputs": [],
   "source": [
    "%sql sqlite:///terminale.db -- Création de la base de données \"terminale.db\""
   ]
  },
  {
   "cell_type": "markdown",
   "metadata": {},
   "source": [
    "#### 4-2 Création d'une table"
   ]
  },
  {
   "cell_type": "markdown",
   "metadata": {},
   "source": [
    "<div class=\"alert alert-success\">\n",
    "    \n",
    "Cette première table est un peu plus complexe à créer car elle possède une clé étrangère. La dernière ligne permet de déclarer une contrainte sur cette clé afin d'indiquer à SQLite que \"code_postal\" est une clé étrangère. SQLite sera alors responsable de maintenir la cohérence entre les deux tables \"ELEVE\" et \"VILLE\".\n",
    "<div>"
   ]
  },
  {
   "cell_type": "code",
   "execution_count": null,
   "metadata": {},
   "outputs": [],
   "source": [
    "%%sql sqlite://\n",
    "    \n",
    "CREATE TABLE ELEVE\n",
    "(\n",
    "Id_eleve INTEGER PRIMARY KEY,\n",
    "nom TEXT NOT NULL,\n",
    "prenom TEXT,\n",
    "statut TEXT,\n",
    "code_postal INTEGER NOT NULL,\n",
    "FOREIGN KEY (code_postal) REFERENCES VILLE(code_postal)    \n",
    ");"
   ]
  },
  {
   "cell_type": "markdown",
   "metadata": {},
   "source": [
    "<div class=\"alert alert-warning\">\n",
    "<img src=\"Images/CR.png\" alt=\"logo CR\" width=5% align=right>\n",
    "    \n",
    "Par analogie avec la création précédente, créer la table ville.\n",
    "<div>"
   ]
  },
  {
   "cell_type": "code",
   "execution_count": null,
   "metadata": {},
   "outputs": [],
   "source": [
    "%%sql sqlite://\n",
    "    \n",
    "CREATE TABLE VILLE \n",
    "(\n",
    "code_postal INTEGER  NOT NULL PRIMARY KEY,\n",
    "libelle_ville   TEXT\n",
    ");"
   ]
  },
  {
   "cell_type": "markdown",
   "metadata": {},
   "source": [
    "#### 4-3 Suppression d'une table"
   ]
  },
  {
   "cell_type": "markdown",
   "metadata": {},
   "source": [
    "Si vous avez constaté une erreur après la création de la table et avant d'insérer des enregistrements, vous pouvez supprime une table avec la commande :"
   ]
  },
  {
   "cell_type": "code",
   "execution_count": null,
   "metadata": {},
   "outputs": [],
   "source": [
    "%%sql sqlite://\n",
    "    \n",
    "DROP TABLE NOM_DE_LA_TABLE;"
   ]
  },
  {
   "cell_type": "markdown",
   "metadata": {},
   "source": [
    "#### 4-4 Insertion des données"
   ]
  },
  {
   "cell_type": "code",
   "execution_count": null,
   "metadata": {},
   "outputs": [],
   "source": [
    "%%sql sqlite://\n",
    "\n",
    "INSERT INTO VILLE VALUES(29490,'Guipavas');\n",
    "INSERT INTO VILLE VALUES(29820,'Guilers');\n",
    "INSERT INTO VILLE VALUES(29200,'Brest');\n",
    "INSERT INTO VILLE VALUES(29160,'Crozon');\n",
    "INSERT INTO VILLE VALUES(29590,'Le Faou ');\n",
    "INSERT INTO VILLE VALUES(29830,'Ploudalmézeau');\n",
    "INSERT INTO VILLE VALUES(29290,'Saint Renan');"
   ]
  },
  {
   "cell_type": "code",
   "execution_count": null,
   "metadata": {},
   "outputs": [],
   "source": [
    "%%sql sqlite://\n",
    "\n",
    "INSERT INTO ELEVE VALUES(1,'Bourgon','Élise','demi-pens',29490);\n",
    "INSERT INTO ELEVE VALUES(2,'Jacq','Christine','demi-pens',29820);\n",
    "INSERT INTO ELEVE VALUES(3,'Durand','Mathis','externe',29200);\n",
    "INSERT INTO ELEVE VALUES(4,'Gontran','Élouan','demi-pens',29290);\n",
    "INSERT INTO ELEVE VALUES(5,'Fox','Titouan','demi-pens',29490 );\n",
    "INSERT INTO ELEVE VALUES(6,'Majo','Aya','externe',29200 );\n",
    "INSERT INTO ELEVE VALUES(7,'Tripaux','Jean','interne',29160 );\n",
    "INSERT INTO ELEVE VALUES(8,'Chavin','Hassan','interne',29590 );\n",
    "INSERT INTO ELEVE VALUES(9,'Marvaux','Éloi','externe',29200 );\n",
    "INSERT INTO ELEVE VALUES(10,'Savino','Manel','interne',29830 );"
   ]
  },
  {
   "cell_type": "markdown",
   "metadata": {},
   "source": [
    "<div class=\"alert alert-warning\">\n",
    "<img src=\"Images/CR.png\" alt=\"logo CR\" width=5% align=right>\n",
    "\n",
    "Avant d'aller plus loin, verifier vos saisies avec l'éditeur en ligne par exemple : https://extendsclass.com/sqlite-browser.html\n",
    "<div>"
   ]
  },
  {
   "cell_type": "markdown",
   "metadata": {},
   "source": [
    "#### 4-5 Interroger la base de données"
   ]
  },
  {
   "cell_type": "markdown",
   "metadata": {},
   "source": [
    "<div class=\"alert alert-success\">\n",
    "    \n",
    "Plutôt que d'utiliser l'outil en ligne, on aurait pu interroger la base de données. C'est ce que nous allons faire maintenant.\n",
    "<div>"
   ]
  },
  {
   "cell_type": "code",
   "execution_count": null,
   "metadata": {},
   "outputs": [],
   "source": [
    "%%sql sqlite://\n",
    "\n",
    "SELECT * FROM ELEVE;"
   ]
  },
  {
   "cell_type": "markdown",
   "metadata": {},
   "source": [
    "<div class=\"alert alert-warning\">\n",
    "<img src=\"Images/CR.png\" alt=\"logo CR\" width=5% align=right>\n",
    "\n",
    "- Formuler votre requête pour afficher l'intégralité de la table VILLE.\n",
    "<div>"
   ]
  },
  {
   "cell_type": "code",
   "execution_count": null,
   "metadata": {},
   "outputs": [],
   "source": [
    "%%sql sqlite://\n",
    "\n",
    "SELECT * FROM VILLE;"
   ]
  },
  {
   "cell_type": "markdown",
   "metadata": {},
   "source": [
    "<div class=\"alert alert-success\">\n",
    "    \n",
    "Afinons un peu les recherches en utilisant des clauses du langage SQL : WHERE, LIKE, COUNT, ORDER BY, DISTINCT, DESC et JOIN\n",
    "    \n",
    "- Voici une requête qui doit me donner le nom, prénom et le statut de tous les élèves qui habitent à Brest, autrement dit, qui ont le code postal 29200.\n",
    "    \n",
    "<div>"
   ]
  },
  {
   "cell_type": "code",
   "execution_count": null,
   "metadata": {},
   "outputs": [],
   "source": [
    "%%sql sqlite://\n",
    "\n",
    "SELECT nom, prenom, statut FROM ELEVE WHERE code_postal= 29200;"
   ]
  },
  {
   "cell_type": "markdown",
   "metadata": {},
   "source": [
    "<div class=\"alert alert-warning\">\n",
    "<img src=\"Images/CR.png\" alt=\"logo CR\" width=5% align=right>\n",
    "\n",
    "- Formuler des requêtes qui donnent les résultats suivants :\n",
    "    - La liste des élèves (nom et prénom) internes ;\n",
    "    - La ville dont le code postal est 29830\n",
    "<div>"
   ]
  },
  {
   "cell_type": "code",
   "execution_count": null,
   "metadata": {},
   "outputs": [],
   "source": [
    "%%sql sqlite://\n",
    "\n",
    "SELECT nom, prenom FROM ELEVE WHERE statut= 'interne';"
   ]
  },
  {
   "cell_type": "code",
   "execution_count": null,
   "metadata": {},
   "outputs": [],
   "source": [
    "%%sql sqlite://\n",
    "\n",
    "SELECT libelle_ville FROM VILLE WHERE code_postal= 29830;"
   ]
  },
  {
   "cell_type": "markdown",
   "metadata": {},
   "source": [
    "<div class=\"alert alert-success\">\n",
    "    \n",
    "Afinons un peu les recherches en utilisant des clauses du langage SQL : WHERE, LIKE, COUNT, ORDER BY, DISTINCT,  DESC et JOIN\n",
    "    \n",
    "- Voici une requête qui doit me donner le nom, prénom et le statut de tous les élèves qui habitent à Brest, autrement dit, qui ont le code postal 29200.\n",
    "<div>"
   ]
  },
  {
   "cell_type": "markdown",
   "metadata": {},
   "source": [
    "<div class=\"alert alert-warning\">\n",
    "<img src=\"Images/CR.png\" alt=\"logo CR\" width=5% align=right>\n",
    "\n",
    "- Que fait cette requête ? Détailler le rôle de chaque clause.\n",
    "<div>"
   ]
  },
  {
   "cell_type": "code",
   "execution_count": null,
   "metadata": {},
   "outputs": [],
   "source": [
    "%%sql sqlite://\n",
    "    \n",
    "SELECT nom, prenom FROM ELEVE WHERE nom LIKE 'C%' OR prenom LIKE 'M%';"
   ]
  },
  {
   "cell_type": "markdown",
   "metadata": {},
   "source": [
    "<div class=\"alert alert-danger\" role=\"alert\">\n",
    "    \n",
    "On sélectionne le nom et le prénom de la table ELEVE où le nom commence par C ou le prenom commence par M.\n",
    "<div>"
   ]
  },
  {
   "cell_type": "markdown",
   "metadata": {},
   "source": [
    "<div class=\"alert alert-warning\">\n",
    "<img src=\"Images/CR.png\" alt=\"logo CR\" width=5% align=right>\n",
    "\n",
    "- Par analogie avec la précédente, formuler une requête qui donne la liste des élèves (nom et prénom) dont le nom commence par D et qui sont externes.\n",
    "<div>"
   ]
  },
  {
   "cell_type": "code",
   "execution_count": null,
   "metadata": {},
   "outputs": [],
   "source": [
    "%%sql sqlite://\n",
    "    \n",
    "SELECT nom, prenom FROM ELEVE WHERE statut='externe' AND nom LIKE 'D%';"
   ]
  },
  {
   "cell_type": "markdown",
   "metadata": {},
   "source": [
    "<div class=\"alert alert-success\">\n",
    "     \n",
    "- Voici une requête qui doit me donner le nombre d'élèves qui habitent à Brest.\n",
    "    \n",
    "Remarque : D'autres fonctions de groupe existent : AVG, SUM, MIN, MAX (à vous de tester et d'identifer la fonction)\n",
    "<div>"
   ]
  },
  {
   "cell_type": "code",
   "execution_count": null,
   "metadata": {},
   "outputs": [],
   "source": [
    "%%sql sqlite://\n",
    "    \n",
    "SELECT COUNT(*) FROM ELEVE WHERE code_postal=29200;"
   ]
  },
  {
   "cell_type": "markdown",
   "metadata": {},
   "source": [
    "<div class=\"alert alert-success\">\n",
    "     \n",
    "- Voici une requête qui me donne le nom et prénom des élèves par ordre croissant (lexicographique). Por l'avoir dans l'ordre décroissant, il faut rajouter DESC à la fin de la requête.\n",
    "<div>"
   ]
  },
  {
   "cell_type": "code",
   "execution_count": null,
   "metadata": {},
   "outputs": [],
   "source": [
    "%%sql sqlite://\n",
    "    \n",
    "SELECT nom, prenom FROM ELEVE ORDER BY nom;"
   ]
  },
  {
   "cell_type": "markdown",
   "metadata": {},
   "source": [
    "<div class=\"alert alert-warning\">\n",
    "<img src=\"Images/CR.png\" alt=\"logo CR\" width=5% align=right>\n",
    "\n",
    "- Formuler une requête qui me donne la liste des codes postaux de la table ELEVE dans l'ordre croissant.\n",
    "\n",
    "J'aurais pu les obtenir et sans doublons à partir de la table VILLE. Cela va nous permettre d'introduire une nouvelle clause : DISTINCT.\n",
    "    \n",
    "- Placer la clause DISTINCT après le SELECT et constater la différence.\n",
    "<div>"
   ]
  },
  {
   "cell_type": "code",
   "execution_count": null,
   "metadata": {},
   "outputs": [],
   "source": [
    "%%sql sqlite://\n",
    "    \n",
    "SELECT code_postal FROM ELEVE ORDER BY code_postal;"
   ]
  },
  {
   "cell_type": "code",
   "execution_count": null,
   "metadata": {},
   "outputs": [],
   "source": [
    "%%sql sqlite://\n",
    "    \n",
    "SELECT DISTINCT code_postal FROM ELEVE ORDER BY code_postal;"
   ]
  },
  {
   "cell_type": "markdown",
   "metadata": {},
   "source": [
    "<div class=\"alert alert-success\">\n",
    "     \n",
    "Nous allons maintenant aborder des requêtes qui vont porter sur les 2 tables pour réaliser des jointures.\n",
    "    \n",
    "- Voici une premiere requête qui me donne le nom et prénom des élèves et la ville de résidence écrite de manière \"classique\", puis une seconde exploitant le fait que l'attribut \"code_postal\" est identique dans les 2 tables.\n",
    "    \n",
    "Remarque : Lorsqu'il y a ambiguïté sur le nom de l'attribut, on le fait précéder du nom de la table. attribut.\n",
    "<div>"
   ]
  },
  {
   "cell_type": "code",
   "execution_count": null,
   "metadata": {},
   "outputs": [],
   "source": [
    "%%sql sqlite://\n",
    "    \n",
    "SELECT nom, prenom, libelle_ville FROM ELEVE JOIN VILLE ON ELEVE.code_postal = VILLE.code_postal;"
   ]
  },
  {
   "cell_type": "code",
   "execution_count": null,
   "metadata": {},
   "outputs": [],
   "source": [
    "%%sql sqlite://\n",
    "    \n",
    "SELECT nom, prenom, libelle_ville FROM ELEVE JOIN VILLE USING (code_postal);"
   ]
  },
  {
   "cell_type": "markdown",
   "metadata": {},
   "source": [
    "#### 4-6 Insertion et mise à jour de la base de données"
   ]
  },
  {
   "cell_type": "markdown",
   "metadata": {},
   "source": [
    "<div class=\"alert alert-success\">\n",
    "<img src=\"Images/warning.png\" alt=\"Attention\" width=5% align=left>\n",
    "     \n",
    "Il faudra manipuler les requêtes qui vont suivre avec précaution car elles peuvent effacer des données, mais aussi altérer la cohérence des données.\n",
    "    \n",
    "**Conseil** : tester votre requête avec la clause SELECT. Si vous obtenez les données que vous voulez supprimer ou modifier, modifier la clause par DELETE ou DELETE.\n",
    "<div>"
   ]
  },
  {
   "cell_type": "markdown",
   "metadata": {},
   "source": [
    "<div class=\"alert alert-success\">\n",
    "     \n",
    "- Voici une requête insere dans la table VILLE, le code postal et le libellé de la ville LE CONQUET : 29232.\n",
    "<div>"
   ]
  },
  {
   "cell_type": "code",
   "execution_count": null,
   "metadata": {},
   "outputs": [],
   "source": [
    "%%sql sqlite://\n",
    "    \n",
    "INSERT INTO VILLE (code_postal, libelle_ville) VALUES (29232,'Le Conquet');"
   ]
  },
  {
   "cell_type": "markdown",
   "metadata": {},
   "source": [
    "<div class=\"alert alert-warning\">\n",
    "<img src=\"Images/CR.png\" alt=\"logo CR\" width=5% align=right>\n",
    "\n",
    "- Formuler une requête pour vérifier l'insertion.\n",
    "<div>"
   ]
  },
  {
   "cell_type": "code",
   "execution_count": null,
   "metadata": {},
   "outputs": [],
   "source": [
    "%%sql sqlite://\n",
    "    \n",
    "SELECT * FROM VILLE"
   ]
  },
  {
   "cell_type": "markdown",
   "metadata": {},
   "source": [
    "<div class=\"alert alert-success\">\n",
    "\n",
    "Hélas, je me suis trompé de code postal. Il s'agissait du 29217 !\n",
    "\n",
    "- Voici une requête qui devrait rectifier l'erreur.\n",
    "<div>"
   ]
  },
  {
   "cell_type": "code",
   "execution_count": null,
   "metadata": {},
   "outputs": [],
   "source": [
    "%%sql sqlite://\n",
    "    \n",
    "UPDATE VILLE SET code_postal=29217 WHERE libelle_ville='Le Conquet';"
   ]
  },
  {
   "cell_type": "markdown",
   "metadata": {},
   "source": [
    "<div class=\"alert alert-warning\">\n",
    "<img src=\"Images/CR.png\" alt=\"logo CR\" width=5% align=right>\n",
    "\n",
    "- Formuler une requête pour vérifier la modification.\n",
    "<div>"
   ]
  },
  {
   "cell_type": "code",
   "execution_count": null,
   "metadata": {},
   "outputs": [],
   "source": [
    "%%sql sqlite://\n",
    "    \n",
    "SELECT * FROM VILLE"
   ]
  },
  {
   "cell_type": "markdown",
   "metadata": {},
   "source": [
    "<div class=\"alert alert-warning\">\n",
    "<img src=\"Images/CR.png\" alt=\"logo CR\" width=5% align=right>\n",
    "\n",
    "    \n",
    "Fox titouan a déménagé sur Le Conquet. Il choisit de venir à l'internat de l'école.\n",
    "    \n",
    "- Formuler une requête unique pour procéder aux modifications.\n",
    "<div>"
   ]
  },
  {
   "cell_type": "code",
   "execution_count": null,
   "metadata": {},
   "outputs": [],
   "source": [
    "%%sql sqlite://\n",
    "    \n",
    "UPDATE ELEVE SET statut='interne',code_postal=29217 WHERE nom='Fox';"
   ]
  },
  {
   "cell_type": "code",
   "execution_count": null,
   "metadata": {},
   "outputs": [],
   "source": [
    "%%sql sqlite://\n",
    "    \n",
    "SELECT * FROM ELEVE;"
   ]
  },
  {
   "cell_type": "markdown",
   "metadata": {},
   "source": [
    "<div class=\"alert alert-success\">\n",
    "\n",
    "Je m'aperçois un peu tardivement que pour la gestion de l'internat, il aurait été souhaitable d'avoir le sexe de la personne.\n",
    "\n",
    "- Voici une requête va permettre de rajouter un attribut \"sexe\" à la table ELEVES.\n",
    "<div>"
   ]
  },
  {
   "cell_type": "code",
   "execution_count": null,
   "metadata": {},
   "outputs": [],
   "source": [
    "%%sql sqlite://\n",
    "    \n",
    "ALTER TABLE ELEVE ADD COLUMN sexe TEXT;"
   ]
  },
  {
   "cell_type": "markdown",
   "metadata": {},
   "source": [
    "<div class=\"alert alert-warning\">\n",
    "<img src=\"Images/CR.png\" alt=\"logo CR\" width=5% align=right>\n",
    "\n",
    "- Formuler une requête pour constater la modification et le type de donnée.\n",
    "<div>"
   ]
  },
  {
   "cell_type": "code",
   "execution_count": null,
   "metadata": {},
   "outputs": [],
   "source": [
    "%%sql sqlite://\n",
    "    \n",
    "SELECT * FROM ELEVE;"
   ]
  },
  {
   "cell_type": "markdown",
   "metadata": {},
   "source": [
    "<div class=\"alert alert-warning\">\n",
    "<img src=\"Images/CR.png\" alt=\"logo CR\" width=5% align=right>\n",
    "\n",
    "    \n",
    "Majo aya a déménagé et n'est plus au lycée. Il faut supprimer son enregistrement.\n",
    "    \n",
    "- Voici la requête qui convient.\n",
    "<div>"
   ]
  },
  {
   "cell_type": "code",
   "execution_count": null,
   "metadata": {},
   "outputs": [],
   "source": [
    "%%sql sqlite://\n",
    "    \n",
    "DELETE FROM ELEVE WHERE nom='Majo';"
   ]
  },
  {
   "cell_type": "markdown",
   "metadata": {},
   "source": [
    "<div class=\"alert alert-warning\">\n",
    "<img src=\"Images/CR.png\" alt=\"logo CR\" width=5% align=right>\n",
    "\n",
    "- Formuler une requête pour constater la modification et le type de donnée.\n",
    "<div>"
   ]
  },
  {
   "cell_type": "code",
   "execution_count": null,
   "metadata": {},
   "outputs": [],
   "source": [
    "%%sql sqlite://\n",
    "    \n",
    "SELECT * FROM ELEVE;"
   ]
  },
  {
   "cell_type": "markdown",
   "metadata": {},
   "source": [
    "<div class=\"alert alert-success\">\n",
    "\n",
    "Un nouvel élève arrive au lycée. Il s'agit de Monsieur Kappra Marcel qui habite à Saint Renan et qui sera externe.\n",
    "\n",
    "- Formuler une requête pour insérer cet enregistrement.\n",
    "<div>"
   ]
  },
  {
   "cell_type": "code",
   "execution_count": null,
   "metadata": {},
   "outputs": [],
   "source": [
    "%%sql sqlite://\n",
    "    \n",
    "INSERT INTO ELEVE (Id_eleve, nom, prenom, statut, code_postal, sexe) VALUES (6,'Kappra', 'Marcel', 'externe','29290','M');"
   ]
  },
  {
   "cell_type": "code",
   "execution_count": null,
   "metadata": {},
   "outputs": [],
   "source": [
    "%%sql sqlite://\n",
    "    \n",
    "SELECT * FROM ELEVE;"
   ]
  },
  {
   "cell_type": "markdown",
   "metadata": {},
   "source": [
    "<div class=\"alert alert-success\">\n",
    "\n",
    "    \n",
    "Pour apprendre à supprimer une table, nous allons en créer une à l'aide d'une requête. Nous allons créer une table \"Liste\" qui contiendra le nom, le prénom et la ville.\n",
    "    \n",
    "- Voici la requête .\n",
    "<div>"
   ]
  },
  {
   "cell_type": "code",
   "execution_count": null,
   "metadata": {},
   "outputs": [],
   "source": [
    "%%sql sqlite://\n",
    "\n",
    "CREATE TABLE Liste AS SELECT nom, prenom, libelle_ville FROM ELEVE JOIN VILLE USING (code_postal);\n"
   ]
  },
  {
   "cell_type": "markdown",
   "metadata": {},
   "source": [
    "<div class=\"alert alert-warning\">\n",
    "<img src=\"Images/CR.png\" alt=\"logo CR\" width=5% align=right>\n",
    "\n",
    "- Formuler une requête pour constater la modification et le type de donnée.\n",
    "<div>"
   ]
  },
  {
   "cell_type": "code",
   "execution_count": null,
   "metadata": {},
   "outputs": [],
   "source": [
    "%%sql sqlite://\n",
    "\n",
    "SELECT * FROM Liste;"
   ]
  },
  {
   "cell_type": "markdown",
   "metadata": {},
   "source": [
    "<div class=\"alert alert-success\">\n",
    "\n",
    "Voici la requête pour supprimer une table.\n",
    "<div>"
   ]
  },
  {
   "cell_type": "code",
   "execution_count": null,
   "metadata": {},
   "outputs": [],
   "source": [
    "%%sql sqlite://\n",
    "    \n",
    "DROP TABLE Liste;"
   ]
  },
  {
   "cell_type": "markdown",
   "metadata": {},
   "source": [
    "Pour vous entraîner :\n",
    "\n",
    "http://deptfod.cnam.fr/bd/tp/\n",
    "\n",
    "https://www.w3schools.com/sql/trysql.asp?filename=trysql_select_all"
   ]
  },
  {
   "cell_type": "markdown",
   "metadata": {},
   "source": [
    "### 5- Un autre exemple avec python"
   ]
  },
  {
   "cell_type": "markdown",
   "metadata": {},
   "source": [
    "<div class=\"alert alert-success\">\n",
    "\n",
    "Voici le modèle Entité/Association de la nouvelle base de données que l'on souhaite. Il s'agit de répertorier les élèves dans les groupes de spécialités et d'y associer un enseignant.\n",
    "    \n",
    "<img src=\"Images/Specialites.svg\" alt=\"ville_db\" width=60% align=center>   \n",
    "    \n",
    "Pour s'adapter aux classes de premières et terminales, 3 spécialités sont disponibles pour l'élève. Les enseignants ne peuvent intervenir que dans 2 spécialités au maximum.\n",
    "    \n",
    "    \n",
    "<div>"
   ]
  },
  {
   "cell_type": "markdown",
   "metadata": {},
   "source": [
    "<div class=\"alert alert-success\">\n",
    "\n",
    "Voici le modèle relationnel de la nouvelle base de données que l'on souhaite. Il s'agit de répertorier les élèves dans les groupes de spécialités et d'y associer un enseignant.\n",
    "    \n",
    "<img src=\"Images/Specialites.png\" alt=\"specialites_db\" width=80% align=center>   \n",
    "    \n",
    "**Pour information** : Pour passer du modèle Entité/Association au modèle relationnel, il y a 3 règles :\n",
    "    \n",
    "*Règle 1 : entité*\n",
    "\n",
    "*– Chaque entité donne une table.*\n",
    "\n",
    "*Règle 2 : association de type 1-n ou 1-1*\n",
    "\n",
    "*– L'identifiant de l'entité côté n est ajoutée du côté 1 où elle devient clé étrangère.*\n",
    "\n",
    "*Règle 3 : association de type n-n*\n",
    "\n",
    "*– Création d'une nouvelle table dont la clé primaire est l'ensemble des identifiants des entités concernées.*\n",
    "    \n",
    "    \n",
    "<div>"
   ]
  },
  {
   "cell_type": "markdown",
   "metadata": {},
   "source": [
    "<div class=\"alert alert-success\">\n",
    "    \n",
    "Le script ci-dessous crée :\n",
    "- Une base de données \"specialites.db\" ;\n",
    "- Les tables \"eleves\", \"groupes\", \"enseignants\" et \"forme\";\n",
    "\n",
    "Puis\n",
    "    \n",
    "- Valide les modifications avec un \"commit\" ;\n",
    "- Cloture la connection avec la base de donnée.\n",
    "\n",
    "On reconnaîtra les requêtes SQL.\n",
    "    \n",
    "Tout ce travail sera réalisé grâce à un objet \"cursor\".\n",
    "<br><br>\n",
    "\n",
    "*Remarque : pour éviter les messages d'erreur si vous executez 2 fois le script ci-dessous, j'ai prévu de supprimer les tables. donc évidemment le 'IF NOT EXISTS' est superflu.*\n",
    "<div>"
   ]
  },
  {
   "cell_type": "code",
   "execution_count": 18,
   "metadata": {},
   "outputs": [],
   "source": [
    "import sqlite3\n",
    "connexion = sqlite3.connect('specialites.db') # connection ,création si non existe\n",
    "curseur=connexion.cursor() # création d'un objet pour réaliser des requêtes\n",
    "\n",
    "curseur.executescript(\n",
    "    \n",
    "        \"\"\"\n",
    "\n",
    "        DROP TABLE IF EXISTS enseignants;\n",
    "        \n",
    "        CREATE TABLE IF NOT EXISTS enseignants\n",
    "        (\n",
    "        id_ens INTEGER PRIMARY KEY,\n",
    "        nom_ens TEXT NOT NULL,\n",
    "        prenom_ens TEXT,\n",
    "        sp1_ens TEXT NOT NULL,\n",
    "        sp2_ens TEXT NOT NULL\n",
    "        );\n",
    "        \n",
    "        DROP TABLE IF EXISTS eleves;\n",
    "        \n",
    "        CREATE TABLE IF NOT EXISTS eleves\n",
    "        (\n",
    "        id_eleve INTEGER PRIMARY KEY,\n",
    "        nom_el TEXT NOT NULL,\n",
    "        prenom_el TEXT,\n",
    "        classe INTEGER NOT NULL,\n",
    "        sp1 TEXT NOT NULL,\n",
    "        sp2 TEXT NOT NULL,\n",
    "        sp3 TEXT\n",
    "        );\n",
    "        \n",
    "        DROP TABLE IF EXISTS groupes;\n",
    "        \n",
    "        CREATE TABLE IF NOT EXISTS groupes\n",
    "        (\n",
    "        id_groupe INTEGER PRIMARY KEY,\n",
    "        nom_groupe TEXT NOT NULL,\n",
    "        nom_salle TEXT ,\n",
    "        id_enseignant INTEGER,\n",
    "        FOREIGN KEY (id_enseignant) REFERENCES enseignants(id_ens)\n",
    "        );\n",
    "                \n",
    "        DROP TABLE IF EXISTS forme;\n",
    "        \n",
    "        CREATE TABLE IF NOT EXISTS forme\n",
    "        (\n",
    "        id_eleve INTEGER,\n",
    "        id_groupe INTEGER,\n",
    "        FOREIGN KEY (id_eleve) REFERENCES eleves(id_eleve),\n",
    "        FOREIGN KEY (id_groupe) REFERENCES eleves(id_groupes)\n",
    "        );\n",
    "        \n",
    "        \"\"\"\n",
    "        )\n",
    "\n",
    "\n",
    "connexion.commit() # valide les modifications\n",
    "\n",
    "connexion.close() # déconnexion"
   ]
  },
  {
   "cell_type": "markdown",
   "metadata": {},
   "source": [
    "<div class=\"alert alert-success\">\n",
    "    \n",
    "Le script ci-dessous remplit les tables de quelques valeurs.\n",
    "    \n",
    "*Remarque : pour éviter les messages d'erreur si vous executez 2 fois le script ci-dessous, il faut ré-exécuter le script ci-dessus, c'est à dire supprimer les tables et les reconstruire.*\n",
    "   \n",
    "<div>"
   ]
  },
  {
   "cell_type": "code",
   "execution_count": 19,
   "metadata": {},
   "outputs": [],
   "source": [
    "import sqlite3\n",
    "connexion = sqlite3.connect('specialites.db') # connection ,création si non existe\n",
    "curseur=connexion.cursor() # création d'un objet pour réaliser des requêtes\n",
    "\n",
    "                      \n",
    "# À partir d'un script pour plusieurs requêtes\n",
    "# finir la ligne de commande par un ;\n",
    "curseur.executescript(\"\"\"       \n",
    "        INSERT INTO enseignants(id_ens,nom_ens,prenom_ens,sp1_ens,sp2_ens) VALUES (1,'DURANT','Pierre','SES','NSI');\n",
    "        INSERT INTO enseignants(id_ens,nom_ens,prenom_ens,sp1_ens,sp2_ens) VALUES (2,'DUPOND','Thierry','SES','SI');\n",
    "        INSERT INTO enseignants(id_ens,nom_ens,prenom_ens,sp1_ens,sp2_ens) VALUES (3,'NOAES','Gisèle','SI','Math');\n",
    "        INSERT INTO enseignants(id_ens,nom_ens,prenom_ens,sp1_ens,sp2_ens) VALUES (4,'EXCES','Carole','Hist-Geo','Arts');\n",
    "        INSERT INTO enseignants(id_ens,nom_ens,prenom_ens,sp1_ens,sp2_ens) VALUES (5,'STEFAN','Stéphane','Arts','LLCE')\n",
    "\n",
    "        \"\"\")\n",
    "\n",
    "curseur.executescript(\"\"\"\n",
    "        INSERT INTO eLeves(id_eleve,nom_el,prenom_el,classe,sp1,sp2,sp3) VALUES (1,'GOILLON','Jérôme',658,'Arts','Math','');\n",
    "        INSERT INTO eleves(id_eleve,nom_el,prenom_el,classe,sp1,sp2,sp3) VALUES (2,'HELIES','Alice',654,'SI','NSI','');\n",
    "         INSERT INTO eLeves(id_eleve,nom_el,prenom_el,classe,sp1,sp2,sp3) VALUES (3,'ELAN','Jérôme',658,'Math','NSI','');\n",
    "        INSERT INTO eleves(id_eleve,nom_el,prenom_el,classe,sp1,sp2,sp3) VALUES (4,'GARILLO','isidore',654,'SI','NSI','');\n",
    "         INSERT INTO eLeves(id_eleve,nom_el,prenom_el,classe,sp1,sp2,sp3) VALUES (5,'FINUSSON','Oscar',658,'Math','NSI','');\n",
    "        INSERT INTO eleves(id_eleve,nom_el,prenom_el,classe,sp1,sp2,sp3) VALUES (6,'DROPLIT','Gisèle',654,'SI','Arts','');\n",
    "         INSERT INTO eLeves(id_eleve,nom_el,prenom_el,classe,sp1,sp2,sp3) VALUES (7,'CHICAGO','Thierry',658,'Math','NSI','');\n",
    "        INSERT INTO eleves(id_eleve,nom_el,prenom_el,classe,sp1,sp2,sp3) VALUES (8,'DISRUT','Nora',654,'Hist-Geo','Math','');\n",
    "        INSERT INTO eleves(id_eleve,nom_el,prenom_el,classe,sp1,sp2,sp3) VALUES (9,'NOUILLE','Gilles',659,'SES','Hist-Geo','')\n",
    "        \"\"\")\n",
    "\n",
    "# exécution de plusieurs requêtes d'insertion : méthode 1\n",
    "# liste de tuples\n",
    "definir_groupe1=[(1,'NSI','K203',1),(2,'Math','I202',3),(3,'SI','K003',2)]\n",
    "for donnee in definir_groupe1:\n",
    "    curseur.execute(\"INSERT INTO groupes (id_groupe,nom_groupe,nom_salle,id_enseignant) VALUES (?,?,?,?)\", donnee)\n",
    "\n",
    "# la méthode executemany se passera de la boucle\n",
    "definir_groupe2=[(4,'SES','M301',1),(5,'Hist-Geo','M202',4),(6,'Arts','G003',5)]\n",
    "curseur.executemany(\"INSERT INTO groupes (id_groupe,nom_groupe,nom_salle,id_enseignant) VALUES (?,?,?,?)\", definir_groupe2)\n",
    "\n",
    "# À partir d'un tuple de dictionnaires\n",
    "forme_groupe =({'id_el':1,'id_gr':6},\n",
    "                {'id_el':1,'id_gr':2},\n",
    "                {'id_el':2,'id_gr':3},\n",
    "                {'id_el':2,'id_gr':1},\n",
    "                {'id_el':3,'id_gr':2},\n",
    "                {'id_el':3,'id_gr':1},\n",
    "                {'id_el':4,'id_gr':3},\n",
    "                {'id_el':4,'id_gr':1},\n",
    "                {'id_el':5,'id_gr':2},\n",
    "                {'id_el':5,'id_gr':1},\n",
    "                {'id_el':6,'id_gr':3},\n",
    "                {'id_el':6,'id_gr':6},\n",
    "                {'id_el':7,'id_gr':2},\n",
    "                {'id_el':7,'id_gr':1},\n",
    "                {'id_el':8,'id_gr':5},\n",
    "                {'id_el':8,'id_gr':2},\n",
    "                {'id_el':9,'id_gr':4},\n",
    "                {'id_el':9,'id_gr':5})\n",
    "curseur.executemany(\"INSERT INTO forme (id_eleve,id_groupe) VALUES (:id_el,:id_gr)\", forme_groupe )\n",
    "\n",
    "\n",
    "connexion.commit() # valide les modifications\n",
    "\n",
    "connexion.close() # déconnexion"
   ]
  },
  {
   "cell_type": "markdown",
   "metadata": {},
   "source": [
    "<div class=\"alert alert-success\">\n",
    "\n",
    "Formuler des requêtes pour interroger la base de données.\n",
    "<div>"
   ]
  },
  {
   "cell_type": "code",
   "execution_count": null,
   "metadata": {},
   "outputs": [],
   "source": [
    "import sqlite3\n",
    "connexion = sqlite3.connect('specialites.db') # connection ,création si non existe\n",
    "curseur=connexion.cursor() # création d'un objet pour réaliser des requêtes\n",
    "\n",
    "requete = \"SELECT * FROM eleves;\"\n",
    "curseur.execute(requete)\n",
    "resultats = curseur.fetchall()\n",
    "print(resultats)\n",
    "\n",
    "connexion.commit() # valide les modifications\n",
    "connexion.close() # déconnexion"
   ]
  },
  {
   "cell_type": "markdown",
   "metadata": {},
   "source": [
    "<div class=\"alert alert-success\">\n",
    "\n",
    "Création d'une fonction\n",
    "<div>"
   ]
  },
  {
   "cell_type": "code",
   "execution_count": null,
   "metadata": {},
   "outputs": [],
   "source": [
    "def specialites(curs, id):\n",
    "    requete = \"SELECT sp1, sp2 FROM eleves WHERE id_eleve = ?\" # ? : variable à insérer\n",
    "    curs.execute(requete, [id]) # [] liste des valeurs à substituer dans la requête\n",
    "    resultats = curs.fetchall()\n",
    "    if len(resultats) == 0:\n",
    "        return f'Cet élève n\\'existe pas'\n",
    "    return resultats[0][0],resultats[0][1]"
   ]
  },
  {
   "cell_type": "code",
   "execution_count": null,
   "metadata": {},
   "outputs": [],
   "source": [
    "import sqlite3\n",
    "connexion = sqlite3.connect('specialites.db') # connection ,création si non existe\n",
    "curseur=connexion.cursor() # création d'un objet pour réaliser des requêtes\n",
    "\n",
    "id=1 # id de l'élève\n",
    "print(specialites(curseur, id))\n",
    "\n",
    "connexion.close() # déconnexion"
   ]
  },
  {
   "cell_type": "markdown",
   "metadata": {},
   "source": [
    "<div class=\"alert alert-warning\">\n",
    "<img src=\"Images/CR.png\" alt=\"logo CR\" width=5% align=right>\n",
    "\n",
    "Avant d'aller plus loin, une requête difficile que nous ne pouvions pas faire sur la base de données précédentes.\n",
    "    \n",
    "- Formuler une requête qui me donne la liste des élèves (nom prénom ) d'une spécialité et l'enseignant associé.\n",
    "    \n",
    "<div>"
   ]
  },
  {
   "cell_type": "code",
   "execution_count": 1,
   "metadata": {},
   "outputs": [],
   "source": [
    "%load_ext sql"
   ]
  },
  {
   "cell_type": "code",
   "execution_count": 20,
   "metadata": {},
   "outputs": [
    {
     "name": "stdout",
     "output_type": "stream",
     "text": [
      "Done.\n"
     ]
    },
    {
     "data": {
      "text/html": [
       "<table>\n",
       "    <tr>\n",
       "        <th>id_eleve</th>\n",
       "        <th>nom_el</th>\n",
       "        <th>prenom_el</th>\n",
       "        <th>classe</th>\n",
       "        <th>sp1</th>\n",
       "        <th>sp2</th>\n",
       "        <th>sp3</th>\n",
       "    </tr>\n",
       "    <tr>\n",
       "        <td>1</td>\n",
       "        <td>GOILLON</td>\n",
       "        <td>Jérôme</td>\n",
       "        <td>658</td>\n",
       "        <td>Arts</td>\n",
       "        <td>Math</td>\n",
       "        <td></td>\n",
       "    </tr>\n",
       "    <tr>\n",
       "        <td>2</td>\n",
       "        <td>HELIES</td>\n",
       "        <td>Alice</td>\n",
       "        <td>654</td>\n",
       "        <td>SI</td>\n",
       "        <td>NSI</td>\n",
       "        <td></td>\n",
       "    </tr>\n",
       "    <tr>\n",
       "        <td>3</td>\n",
       "        <td>ELAN</td>\n",
       "        <td>Jérôme</td>\n",
       "        <td>658</td>\n",
       "        <td>Math</td>\n",
       "        <td>NSI</td>\n",
       "        <td></td>\n",
       "    </tr>\n",
       "    <tr>\n",
       "        <td>4</td>\n",
       "        <td>GARILLO</td>\n",
       "        <td>isidore</td>\n",
       "        <td>654</td>\n",
       "        <td>SI</td>\n",
       "        <td>NSI</td>\n",
       "        <td></td>\n",
       "    </tr>\n",
       "    <tr>\n",
       "        <td>5</td>\n",
       "        <td>FINUSSON</td>\n",
       "        <td>Oscar</td>\n",
       "        <td>658</td>\n",
       "        <td>Math</td>\n",
       "        <td>NSI</td>\n",
       "        <td></td>\n",
       "    </tr>\n",
       "    <tr>\n",
       "        <td>6</td>\n",
       "        <td>DROPLIT</td>\n",
       "        <td>Gisèle</td>\n",
       "        <td>654</td>\n",
       "        <td>SI</td>\n",
       "        <td>Arts</td>\n",
       "        <td></td>\n",
       "    </tr>\n",
       "    <tr>\n",
       "        <td>7</td>\n",
       "        <td>CHICAGO</td>\n",
       "        <td>Thierry</td>\n",
       "        <td>658</td>\n",
       "        <td>Math</td>\n",
       "        <td>NSI</td>\n",
       "        <td></td>\n",
       "    </tr>\n",
       "    <tr>\n",
       "        <td>8</td>\n",
       "        <td>DISRUT</td>\n",
       "        <td>Nora</td>\n",
       "        <td>654</td>\n",
       "        <td>Hist-Geo</td>\n",
       "        <td>Math</td>\n",
       "        <td></td>\n",
       "    </tr>\n",
       "    <tr>\n",
       "        <td>9</td>\n",
       "        <td>NOUILLE</td>\n",
       "        <td>Gilles</td>\n",
       "        <td>659</td>\n",
       "        <td>SES</td>\n",
       "        <td>Hist-Geo</td>\n",
       "        <td></td>\n",
       "    </tr>\n",
       "</table>"
      ],
      "text/plain": [
       "[(1, 'GOILLON', 'Jérôme', 658, 'Arts', 'Math', ''),\n",
       " (2, 'HELIES', 'Alice', 654, 'SI', 'NSI', ''),\n",
       " (3, 'ELAN', 'Jérôme', 658, 'Math', 'NSI', ''),\n",
       " (4, 'GARILLO', 'isidore', 654, 'SI', 'NSI', ''),\n",
       " (5, 'FINUSSON', 'Oscar', 658, 'Math', 'NSI', ''),\n",
       " (6, 'DROPLIT', 'Gisèle', 654, 'SI', 'Arts', ''),\n",
       " (7, 'CHICAGO', 'Thierry', 658, 'Math', 'NSI', ''),\n",
       " (8, 'DISRUT', 'Nora', 654, 'Hist-Geo', 'Math', ''),\n",
       " (9, 'NOUILLE', 'Gilles', 659, 'SES', 'Hist-Geo', '')]"
      ]
     },
     "execution_count": 20,
     "metadata": {},
     "output_type": "execute_result"
    }
   ],
   "source": [
    "%%sql sqlite:///specialites.db\n",
    "\n",
    "SELECT * FROM eleves"
   ]
  },
  {
   "cell_type": "code",
   "execution_count": 22,
   "metadata": {
    "scrolled": true
   },
   "outputs": [
    {
     "name": "stdout",
     "output_type": "stream",
     "text": [
      "Done.\n"
     ]
    },
    {
     "data": {
      "text/html": [
       "<table>\n",
       "    <tr>\n",
       "        <th>id_eleve</th>\n",
       "        <th>nom_el</th>\n",
       "        <th>prenom_el</th>\n",
       "        <th>classe</th>\n",
       "        <th>sp1</th>\n",
       "        <th>sp2</th>\n",
       "        <th>sp3</th>\n",
       "        <th>id_groupe</th>\n",
       "        <th>nom_groupe</th>\n",
       "        <th>nom_salle</th>\n",
       "        <th>id_enseignant</th>\n",
       "    </tr>\n",
       "    <tr>\n",
       "        <td>1</td>\n",
       "        <td>GOILLON</td>\n",
       "        <td>Jérôme</td>\n",
       "        <td>658</td>\n",
       "        <td>Arts</td>\n",
       "        <td>Math</td>\n",
       "        <td></td>\n",
       "        <td>6</td>\n",
       "        <td>Arts</td>\n",
       "        <td>G003</td>\n",
       "        <td>5</td>\n",
       "    </tr>\n",
       "    <tr>\n",
       "        <td>1</td>\n",
       "        <td>GOILLON</td>\n",
       "        <td>Jérôme</td>\n",
       "        <td>658</td>\n",
       "        <td>Arts</td>\n",
       "        <td>Math</td>\n",
       "        <td></td>\n",
       "        <td>2</td>\n",
       "        <td>Math</td>\n",
       "        <td>I202</td>\n",
       "        <td>3</td>\n",
       "    </tr>\n",
       "    <tr>\n",
       "        <td>2</td>\n",
       "        <td>HELIES</td>\n",
       "        <td>Alice</td>\n",
       "        <td>654</td>\n",
       "        <td>SI</td>\n",
       "        <td>NSI</td>\n",
       "        <td></td>\n",
       "        <td>3</td>\n",
       "        <td>SI</td>\n",
       "        <td>K003</td>\n",
       "        <td>2</td>\n",
       "    </tr>\n",
       "    <tr>\n",
       "        <td>2</td>\n",
       "        <td>HELIES</td>\n",
       "        <td>Alice</td>\n",
       "        <td>654</td>\n",
       "        <td>SI</td>\n",
       "        <td>NSI</td>\n",
       "        <td></td>\n",
       "        <td>1</td>\n",
       "        <td>NSI</td>\n",
       "        <td>K203</td>\n",
       "        <td>1</td>\n",
       "    </tr>\n",
       "    <tr>\n",
       "        <td>3</td>\n",
       "        <td>ELAN</td>\n",
       "        <td>Jérôme</td>\n",
       "        <td>658</td>\n",
       "        <td>Math</td>\n",
       "        <td>NSI</td>\n",
       "        <td></td>\n",
       "        <td>2</td>\n",
       "        <td>Math</td>\n",
       "        <td>I202</td>\n",
       "        <td>3</td>\n",
       "    </tr>\n",
       "    <tr>\n",
       "        <td>3</td>\n",
       "        <td>ELAN</td>\n",
       "        <td>Jérôme</td>\n",
       "        <td>658</td>\n",
       "        <td>Math</td>\n",
       "        <td>NSI</td>\n",
       "        <td></td>\n",
       "        <td>1</td>\n",
       "        <td>NSI</td>\n",
       "        <td>K203</td>\n",
       "        <td>1</td>\n",
       "    </tr>\n",
       "    <tr>\n",
       "        <td>4</td>\n",
       "        <td>GARILLO</td>\n",
       "        <td>isidore</td>\n",
       "        <td>654</td>\n",
       "        <td>SI</td>\n",
       "        <td>NSI</td>\n",
       "        <td></td>\n",
       "        <td>3</td>\n",
       "        <td>SI</td>\n",
       "        <td>K003</td>\n",
       "        <td>2</td>\n",
       "    </tr>\n",
       "    <tr>\n",
       "        <td>4</td>\n",
       "        <td>GARILLO</td>\n",
       "        <td>isidore</td>\n",
       "        <td>654</td>\n",
       "        <td>SI</td>\n",
       "        <td>NSI</td>\n",
       "        <td></td>\n",
       "        <td>1</td>\n",
       "        <td>NSI</td>\n",
       "        <td>K203</td>\n",
       "        <td>1</td>\n",
       "    </tr>\n",
       "    <tr>\n",
       "        <td>5</td>\n",
       "        <td>FINUSSON</td>\n",
       "        <td>Oscar</td>\n",
       "        <td>658</td>\n",
       "        <td>Math</td>\n",
       "        <td>NSI</td>\n",
       "        <td></td>\n",
       "        <td>2</td>\n",
       "        <td>Math</td>\n",
       "        <td>I202</td>\n",
       "        <td>3</td>\n",
       "    </tr>\n",
       "    <tr>\n",
       "        <td>5</td>\n",
       "        <td>FINUSSON</td>\n",
       "        <td>Oscar</td>\n",
       "        <td>658</td>\n",
       "        <td>Math</td>\n",
       "        <td>NSI</td>\n",
       "        <td></td>\n",
       "        <td>1</td>\n",
       "        <td>NSI</td>\n",
       "        <td>K203</td>\n",
       "        <td>1</td>\n",
       "    </tr>\n",
       "    <tr>\n",
       "        <td>6</td>\n",
       "        <td>DROPLIT</td>\n",
       "        <td>Gisèle</td>\n",
       "        <td>654</td>\n",
       "        <td>SI</td>\n",
       "        <td>Arts</td>\n",
       "        <td></td>\n",
       "        <td>3</td>\n",
       "        <td>SI</td>\n",
       "        <td>K003</td>\n",
       "        <td>2</td>\n",
       "    </tr>\n",
       "    <tr>\n",
       "        <td>6</td>\n",
       "        <td>DROPLIT</td>\n",
       "        <td>Gisèle</td>\n",
       "        <td>654</td>\n",
       "        <td>SI</td>\n",
       "        <td>Arts</td>\n",
       "        <td></td>\n",
       "        <td>6</td>\n",
       "        <td>Arts</td>\n",
       "        <td>G003</td>\n",
       "        <td>5</td>\n",
       "    </tr>\n",
       "    <tr>\n",
       "        <td>7</td>\n",
       "        <td>CHICAGO</td>\n",
       "        <td>Thierry</td>\n",
       "        <td>658</td>\n",
       "        <td>Math</td>\n",
       "        <td>NSI</td>\n",
       "        <td></td>\n",
       "        <td>2</td>\n",
       "        <td>Math</td>\n",
       "        <td>I202</td>\n",
       "        <td>3</td>\n",
       "    </tr>\n",
       "    <tr>\n",
       "        <td>7</td>\n",
       "        <td>CHICAGO</td>\n",
       "        <td>Thierry</td>\n",
       "        <td>658</td>\n",
       "        <td>Math</td>\n",
       "        <td>NSI</td>\n",
       "        <td></td>\n",
       "        <td>1</td>\n",
       "        <td>NSI</td>\n",
       "        <td>K203</td>\n",
       "        <td>1</td>\n",
       "    </tr>\n",
       "    <tr>\n",
       "        <td>8</td>\n",
       "        <td>DISRUT</td>\n",
       "        <td>Nora</td>\n",
       "        <td>654</td>\n",
       "        <td>Hist-Geo</td>\n",
       "        <td>Math</td>\n",
       "        <td></td>\n",
       "        <td>5</td>\n",
       "        <td>Hist-Geo</td>\n",
       "        <td>M202</td>\n",
       "        <td>4</td>\n",
       "    </tr>\n",
       "    <tr>\n",
       "        <td>8</td>\n",
       "        <td>DISRUT</td>\n",
       "        <td>Nora</td>\n",
       "        <td>654</td>\n",
       "        <td>Hist-Geo</td>\n",
       "        <td>Math</td>\n",
       "        <td></td>\n",
       "        <td>2</td>\n",
       "        <td>Math</td>\n",
       "        <td>I202</td>\n",
       "        <td>3</td>\n",
       "    </tr>\n",
       "    <tr>\n",
       "        <td>9</td>\n",
       "        <td>NOUILLE</td>\n",
       "        <td>Gilles</td>\n",
       "        <td>659</td>\n",
       "        <td>SES</td>\n",
       "        <td>Hist-Geo</td>\n",
       "        <td></td>\n",
       "        <td>4</td>\n",
       "        <td>SES</td>\n",
       "        <td>M301</td>\n",
       "        <td>1</td>\n",
       "    </tr>\n",
       "    <tr>\n",
       "        <td>9</td>\n",
       "        <td>NOUILLE</td>\n",
       "        <td>Gilles</td>\n",
       "        <td>659</td>\n",
       "        <td>SES</td>\n",
       "        <td>Hist-Geo</td>\n",
       "        <td></td>\n",
       "        <td>5</td>\n",
       "        <td>Hist-Geo</td>\n",
       "        <td>M202</td>\n",
       "        <td>4</td>\n",
       "    </tr>\n",
       "</table>"
      ],
      "text/plain": [
       "[(1, 'GOILLON', 'Jérôme', 658, 'Arts', 'Math', '', 6, 'Arts', 'G003', 5),\n",
       " (1, 'GOILLON', 'Jérôme', 658, 'Arts', 'Math', '', 2, 'Math', 'I202', 3),\n",
       " (2, 'HELIES', 'Alice', 654, 'SI', 'NSI', '', 3, 'SI', 'K003', 2),\n",
       " (2, 'HELIES', 'Alice', 654, 'SI', 'NSI', '', 1, 'NSI', 'K203', 1),\n",
       " (3, 'ELAN', 'Jérôme', 658, 'Math', 'NSI', '', 2, 'Math', 'I202', 3),\n",
       " (3, 'ELAN', 'Jérôme', 658, 'Math', 'NSI', '', 1, 'NSI', 'K203', 1),\n",
       " (4, 'GARILLO', 'isidore', 654, 'SI', 'NSI', '', 3, 'SI', 'K003', 2),\n",
       " (4, 'GARILLO', 'isidore', 654, 'SI', 'NSI', '', 1, 'NSI', 'K203', 1),\n",
       " (5, 'FINUSSON', 'Oscar', 658, 'Math', 'NSI', '', 2, 'Math', 'I202', 3),\n",
       " (5, 'FINUSSON', 'Oscar', 658, 'Math', 'NSI', '', 1, 'NSI', 'K203', 1),\n",
       " (6, 'DROPLIT', 'Gisèle', 654, 'SI', 'Arts', '', 3, 'SI', 'K003', 2),\n",
       " (6, 'DROPLIT', 'Gisèle', 654, 'SI', 'Arts', '', 6, 'Arts', 'G003', 5),\n",
       " (7, 'CHICAGO', 'Thierry', 658, 'Math', 'NSI', '', 2, 'Math', 'I202', 3),\n",
       " (7, 'CHICAGO', 'Thierry', 658, 'Math', 'NSI', '', 1, 'NSI', 'K203', 1),\n",
       " (8, 'DISRUT', 'Nora', 654, 'Hist-Geo', 'Math', '', 5, 'Hist-Geo', 'M202', 4),\n",
       " (8, 'DISRUT', 'Nora', 654, 'Hist-Geo', 'Math', '', 2, 'Math', 'I202', 3),\n",
       " (9, 'NOUILLE', 'Gilles', 659, 'SES', 'Hist-Geo', '', 4, 'SES', 'M301', 1),\n",
       " (9, 'NOUILLE', 'Gilles', 659, 'SES', 'Hist-Geo', '', 5, 'Hist-Geo', 'M202', 4)]"
      ]
     },
     "execution_count": 22,
     "metadata": {},
     "output_type": "execute_result"
    }
   ],
   "source": [
    "%%sql sqlite:///specialites.db\n",
    "\n",
    "SELECT * FROM eleves JOIN forme USING (id_eleve) JOIN groupes USING(id_groupe);"
   ]
  },
  {
   "cell_type": "code",
   "execution_count": 23,
   "metadata": {},
   "outputs": [
    {
     "name": "stdout",
     "output_type": "stream",
     "text": [
      "Done.\n"
     ]
    },
    {
     "data": {
      "text/html": [
       "<table>\n",
       "    <tr>\n",
       "        <th>id_groupe</th>\n",
       "        <th>nom_groupe</th>\n",
       "        <th>nom_salle</th>\n",
       "        <th>id_enseignant</th>\n",
       "        <th>id_ens</th>\n",
       "        <th>nom_ens</th>\n",
       "        <th>prenom_ens</th>\n",
       "        <th>sp1_ens</th>\n",
       "        <th>sp2_ens</th>\n",
       "    </tr>\n",
       "    <tr>\n",
       "        <td>1</td>\n",
       "        <td>NSI</td>\n",
       "        <td>K203</td>\n",
       "        <td>1</td>\n",
       "        <td>1</td>\n",
       "        <td>DURANT</td>\n",
       "        <td>Pierre</td>\n",
       "        <td>SES</td>\n",
       "        <td>NSI</td>\n",
       "    </tr>\n",
       "    <tr>\n",
       "        <td>2</td>\n",
       "        <td>Math</td>\n",
       "        <td>I202</td>\n",
       "        <td>3</td>\n",
       "        <td>3</td>\n",
       "        <td>NOAES</td>\n",
       "        <td>Gisèle</td>\n",
       "        <td>SI</td>\n",
       "        <td>Math</td>\n",
       "    </tr>\n",
       "    <tr>\n",
       "        <td>3</td>\n",
       "        <td>SI</td>\n",
       "        <td>K003</td>\n",
       "        <td>2</td>\n",
       "        <td>2</td>\n",
       "        <td>DUPOND</td>\n",
       "        <td>Thierry</td>\n",
       "        <td>SES</td>\n",
       "        <td>SI</td>\n",
       "    </tr>\n",
       "    <tr>\n",
       "        <td>4</td>\n",
       "        <td>SES</td>\n",
       "        <td>M301</td>\n",
       "        <td>1</td>\n",
       "        <td>1</td>\n",
       "        <td>DURANT</td>\n",
       "        <td>Pierre</td>\n",
       "        <td>SES</td>\n",
       "        <td>NSI</td>\n",
       "    </tr>\n",
       "    <tr>\n",
       "        <td>5</td>\n",
       "        <td>Hist-Geo</td>\n",
       "        <td>M202</td>\n",
       "        <td>4</td>\n",
       "        <td>4</td>\n",
       "        <td>EXCES</td>\n",
       "        <td>Carole</td>\n",
       "        <td>Hist-Geo</td>\n",
       "        <td>Arts</td>\n",
       "    </tr>\n",
       "    <tr>\n",
       "        <td>6</td>\n",
       "        <td>Arts</td>\n",
       "        <td>G003</td>\n",
       "        <td>5</td>\n",
       "        <td>5</td>\n",
       "        <td>STEFAN</td>\n",
       "        <td>Stéphane</td>\n",
       "        <td>Arts</td>\n",
       "        <td>LLCE</td>\n",
       "    </tr>\n",
       "</table>"
      ],
      "text/plain": [
       "[(1, 'NSI', 'K203', 1, 1, 'DURANT', 'Pierre', 'SES', 'NSI'),\n",
       " (2, 'Math', 'I202', 3, 3, 'NOAES', 'Gisèle', 'SI', 'Math'),\n",
       " (3, 'SI', 'K003', 2, 2, 'DUPOND', 'Thierry', 'SES', 'SI'),\n",
       " (4, 'SES', 'M301', 1, 1, 'DURANT', 'Pierre', 'SES', 'NSI'),\n",
       " (5, 'Hist-Geo', 'M202', 4, 4, 'EXCES', 'Carole', 'Hist-Geo', 'Arts'),\n",
       " (6, 'Arts', 'G003', 5, 5, 'STEFAN', 'Stéphane', 'Arts', 'LLCE')]"
      ]
     },
     "execution_count": 23,
     "metadata": {},
     "output_type": "execute_result"
    }
   ],
   "source": [
    "%%sql sqlite:///specialites.db\n",
    "\n",
    "SELECT * FROM groupes JOIN enseignants ON id_enseignant=id_ens;"
   ]
  },
  {
   "cell_type": "code",
   "execution_count": 31,
   "metadata": {},
   "outputs": [
    {
     "name": "stdout",
     "output_type": "stream",
     "text": [
      "Done.\n"
     ]
    },
    {
     "data": {
      "text/html": [
       "<table>\n",
       "    <tr>\n",
       "        <th>nom_el</th>\n",
       "        <th>prenom_el</th>\n",
       "        <th>nom_ens</th>\n",
       "        <th>prenom_ens</th>\n",
       "    </tr>\n",
       "    <tr>\n",
       "        <td>HELIES</td>\n",
       "        <td>Alice</td>\n",
       "        <td>DURANT</td>\n",
       "        <td>Pierre</td>\n",
       "    </tr>\n",
       "    <tr>\n",
       "        <td>ELAN</td>\n",
       "        <td>Jérôme</td>\n",
       "        <td>DURANT</td>\n",
       "        <td>Pierre</td>\n",
       "    </tr>\n",
       "    <tr>\n",
       "        <td>GARILLO</td>\n",
       "        <td>isidore</td>\n",
       "        <td>DURANT</td>\n",
       "        <td>Pierre</td>\n",
       "    </tr>\n",
       "    <tr>\n",
       "        <td>FINUSSON</td>\n",
       "        <td>Oscar</td>\n",
       "        <td>DURANT</td>\n",
       "        <td>Pierre</td>\n",
       "    </tr>\n",
       "    <tr>\n",
       "        <td>CHICAGO</td>\n",
       "        <td>Thierry</td>\n",
       "        <td>DURANT</td>\n",
       "        <td>Pierre</td>\n",
       "    </tr>\n",
       "</table>"
      ],
      "text/plain": [
       "[('HELIES', 'Alice', 'DURANT', 'Pierre'),\n",
       " ('ELAN', 'Jérôme', 'DURANT', 'Pierre'),\n",
       " ('GARILLO', 'isidore', 'DURANT', 'Pierre'),\n",
       " ('FINUSSON', 'Oscar', 'DURANT', 'Pierre'),\n",
       " ('CHICAGO', 'Thierry', 'DURANT', 'Pierre')]"
      ]
     },
     "execution_count": 31,
     "metadata": {},
     "output_type": "execute_result"
    }
   ],
   "source": [
    "%%sql sqlite:///specialites.db\n",
    "\n",
    "SELECT nom_el, prenom_el, nom_ens, prenom_ens FROM eleves JOIN forme USING (id_eleve) JOIN groupes USING (id_groupe) JOIN enseignants ON id_enseignant=id_ens WHERE (sp1='NSI' OR sp2='NSI') AND nom_groupe='NSI' ;"
   ]
  },
  {
   "cell_type": "markdown",
   "metadata": {},
   "source": [
    "### 6- Récupération de données en Open Data"
   ]
  },
  {
   "cell_type": "markdown",
   "metadata": {},
   "source": [
    "<div class=\"alert alert-success\">\n",
    "\n",
    "La saisie de données reste le point laborieux. Il existe sur Internet des jeux de données disponibles mise à la disposition de tous. C'est l'Opendata.\n",
    "    \n",
    "L'année dernière, lors de la séquence \"Données en table\", nous avons abordé ces notions et également le format de fichiers nommmé \"CSV\".\n",
    "    \n",
    "Nous allons ici utiliser des données issues de la métropole brestoise au format CSV. Grâce à une fonction qui va lire ce fichier, nous allons peupler une base de données. Nous pourrons ainsi manipuler une quantité de données importante plus significative d'une base réelle.\n",
    "    \n",
    "Quelques sites : \n",
    "\n",
    "https://www.data.gouv.fr/fr/organizations/brest-metropole-oceane/\n",
    "\n",
    "https://opendata.finistere.fr/explore/?sort=modified\n",
    "\n",
    "https://www.data.gouv.fr/fr/\n",
    "<div>"
   ]
  },
  {
   "cell_type": "markdown",
   "metadata": {},
   "source": [
    "<div class=\"alert alert-warning\">\n",
    "<img src=\"Images/CR.png\" alt=\"logo CR\" width=5% align=right>\n",
    "\n",
    "- En suivant le premier ce lien : https://www.data.gouv.fr/fr/organizations/brest-metropole-oceane/, télécharger la liste des arrêts et horaires des bus et tramways ;\n",
    "- Décompresser le fichier, vous y trouverez le fichier 'stops.txt' qui est au format CSV ;\n",
    "- En reprenant vos documents de l'année dernière, créer une fonction qui lit ce fichier ;\n",
    "- En s'inspirant des exemples en python fournis plus haut, créer une base de donnees 'transports.db' et une table 'arrets' ;\n",
    "- Créer une fonction qui alimente la table 'arret' avec les données du fichier 'stops.txt';\n",
    "- Créer une fonction qui renvoie les coordonnées GPS de l'arrêt lors que l'on lui passe en argument, le nom de l'arrêt.\n",
    "- Créer une fonction qui renvoie le nombre d'arrêts avec accès pour fauteuil roulant.\n",
    "<div>"
   ]
  },
  {
   "cell_type": "code",
   "execution_count": null,
   "metadata": {},
   "outputs": [],
   "source": [
    "import csv\n",
    "import sqlite3\n",
    "\n",
    "def create_table(conn,curs):\n",
    "    curs.executescript(\n",
    "    \"\"\"\n",
    "    DROP TABLE IF EXISTS arrets;\n",
    "    \n",
    "    CREATE TABLE IF NOT EXISTS arrets (\n",
    "    stop_id TEXT PRIMARY KEY,\n",
    "    stop_code TEXT,\n",
    "    stop_name TEXT,\n",
    "    stop_desc TEXT,\n",
    "    stop_lat TEXT,\n",
    "    stop_long TEXT,\n",
    "    zone_id TEXT,\n",
    "    stop_url TEXT,\n",
    "    location_type TEXT,\n",
    "    parent_station TEXT,\n",
    "    wheelchair_boarding TEXT\n",
    "    );\n",
    "    \"\"\"\n",
    "    )\n",
    "    conn.commit() # valide les modifications\n",
    "    \n",
    "def lecture_fichier(fichier) :\n",
    "    \"\"\"\n",
    "    La fonction lit le fichier csv et calcule le nombre d'inscrits\n",
    "    Entrée : fichier csv\n",
    "    Sortie : nombre de suffrages exprimés de type entier\n",
    "    \"\"\"\n",
    "    with open(fichier) as csv_file:\n",
    "        liste= list(csv.reader(csv_file, delimiter=',')) # Récupération d'une liste de liste\n",
    "        liste.pop(0)\n",
    "    return liste\n",
    "\n",
    "def peuple_table(conn,curs, enregistrements):\n",
    "    for enregistrement in enregistrements:\n",
    "        requete = \"INSERT INTO arrets (stop_id,stop_code,stop_name,stop_desc,stop_lat,stop_long,zone_id,stop_url,location_type,parent_station,wheelchair_boarding) VALUES(?,?,?,?,?,?,?,?,?,?,?)\"\n",
    "        curs.execute(requete, enregistrement) # liste des valeurs à substituer dans la requête\n",
    "        conn.commit() # valide les modifications\n",
    "\n",
    "def coordonnees_gps(conn, curs,nom):\n",
    "    requete = \"SELECT stop_lat, stop_long FROM arrets WHERE stop_name = ?\" # ? : variable à insérer\n",
    "    curs.execute(requete, [nom]) # [] liste des valeurs à substituer dans la requête\n",
    "    resultats = curs.fetchall()\n",
    "    return f'Les coordonnées GPS de l\\'arrêt {nom} sont : {resultats[0][0]} et {resultats[0][1]}'\n",
    "\n",
    "def nb_fauteuils(conn,curs):\n",
    "    requete = \"SELECT COUNT(*) FROM arrets WHERE wheelchair_boarding = 1\"\n",
    "    curs.execute(requete)\n",
    "    nombre = curs.fetchone()\n",
    "    return f'Le nombre d\\'arrêt permettant l\\'accès à un fauteuil roulant est {nombre[0]}'\n",
    "\n",
    "connexion = sqlite3.connect('transports.db') # connection ,création si non existe\n",
    "curseur=connexion.cursor() # création d'un objet pour réaliser des requêtes\n",
    "\n",
    "create_table(connexion, curseur)\n",
    "liste=lecture_fichier('stops.txt')\n",
    "peuple_table(connexion,curseur,liste)\n",
    "station='Liberté Multiplexe'\n",
    "print(coordonnees_gps(connexion, curseur, station))\n",
    "print(nb_fauteuils(connexion,curseur))\n",
    "\n",
    "connexion.close() # déconnexion"
   ]
  },
  {
   "cell_type": "code",
   "execution_count": null,
   "metadata": {},
   "outputs": [],
   "source": []
  },
  {
   "cell_type": "code",
   "execution_count": null,
   "metadata": {},
   "outputs": [],
   "source": []
  },
  {
   "cell_type": "code",
   "execution_count": null,
   "metadata": {},
   "outputs": [],
   "source": []
  },
  {
   "cell_type": "code",
   "execution_count": null,
   "metadata": {},
   "outputs": [],
   "source": []
  },
  {
   "cell_type": "code",
   "execution_count": null,
   "metadata": {},
   "outputs": [],
   "source": [
    "%load_ext sql"
   ]
  },
  {
   "cell_type": "code",
   "execution_count": null,
   "metadata": {},
   "outputs": [],
   "source": [
    "%sql sqlite:///specialites.db -- Connexion à la base de données"
   ]
  },
  {
   "cell_type": "code",
   "execution_count": null,
   "metadata": {},
   "outputs": [],
   "source": [
    "%%sql sqlite://\n",
    "\n",
    "SELECT * FROM eleves;"
   ]
  },
  {
   "cell_type": "code",
   "execution_count": null,
   "metadata": {
    "scrolled": false
   },
   "outputs": [],
   "source": [
    "%%sql sqlite://\n",
    "\n",
    "SELECT nom_eleve, prenom_eleve FROM eleves WHERE sp1='NSI' OR sp2='NSI' OR sp3='NSI';"
   ]
  },
  {
   "cell_type": "code",
   "execution_count": null,
   "metadata": {},
   "outputs": [],
   "source": [
    "%%sql sqlite://\n",
    "\n",
    "SELECT nom_eleve, prenom_eleve, sp1, sp2, nom_ens, prenom_ens, sp1_ens, sp2_ens FROM eleves JOIN forme USING(id_eleve) JOIN groupes USING(id_groupe) JOIN enseignants USING (id_ens);"
   ]
  },
  {
   "cell_type": "code",
   "execution_count": null,
   "metadata": {},
   "outputs": [],
   "source": [
    "%%sql sqlite://\n",
    "\n",
    "SELECT nom_eleve, "
   ]
  },
  {
   "cell_type": "code",
   "execution_count": null,
   "metadata": {},
   "outputs": [],
   "source": []
  },
  {
   "cell_type": "code",
   "execution_count": null,
   "metadata": {},
   "outputs": [],
   "source": []
  },
  {
   "cell_type": "code",
   "execution_count": null,
   "metadata": {},
   "outputs": [],
   "source": []
  },
  {
   "cell_type": "code",
   "execution_count": null,
   "metadata": {},
   "outputs": [],
   "source": []
  }
 ],
 "metadata": {
  "kernelspec": {
   "display_name": "Python 3",
   "language": "python",
   "name": "python3"
  },
  "language_info": {
   "codemirror_mode": {
    "name": "ipython",
    "version": 3
   },
   "file_extension": ".py",
   "mimetype": "text/x-python",
   "name": "python",
   "nbconvert_exporter": "python",
   "pygments_lexer": "ipython3",
   "version": "3.7.7"
  },
  "varInspector": {
   "cols": {
    "lenName": 16,
    "lenType": 16,
    "lenVar": 40
   },
   "kernels_config": {
    "python": {
     "delete_cmd_postfix": "",
     "delete_cmd_prefix": "del ",
     "library": "var_list.py",
     "varRefreshCmd": "print(var_dic_list())"
    },
    "r": {
     "delete_cmd_postfix": ") ",
     "delete_cmd_prefix": "rm(",
     "library": "var_list.r",
     "varRefreshCmd": "cat(var_dic_list()) "
    }
   },
   "types_to_exclude": [
    "module",
    "function",
    "builtin_function_or_method",
    "instance",
    "_Feature"
   ],
   "window_display": false
  }
 },
 "nbformat": 4,
 "nbformat_minor": 2
}
