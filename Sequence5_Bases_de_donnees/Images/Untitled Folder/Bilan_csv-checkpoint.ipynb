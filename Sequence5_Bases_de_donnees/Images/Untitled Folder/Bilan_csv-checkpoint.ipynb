{
 "cells": [
  {
   "cell_type": "markdown",
   "metadata": {},
   "source": [
    "# <center><font face=\"arial\" size=\"5\" color=#0101DF>NUMERIQUE ET SCIENCES INFORMATIQUES Terminale NSI</font></center>"
   ]
  },
  {
   "cell_type": "markdown",
   "metadata": {},
   "source": [
    "## <font color=#013ADF>Séquence N° 6 : Révisions sur les fichiers CSV</font>"
   ]
  },
  {
   "cell_type": "markdown",
   "metadata": {},
   "source": [
    "Pour tester les fonctions, vous devez disposer des fichiers name.csv et name_dict.csv dont voici respectivement un exemple de contenu :"
   ]
  },
  {
   "cell_type": "raw",
   "metadata": {},
   "source": [
    "joe,H,35\n",
    "jane,F,28\n",
    "théo,H,33\n",
    "Thierry,H,15"
   ]
  },
  {
   "cell_type": "raw",
   "metadata": {},
   "source": [
    "nom,sexe,age\n",
    "joe,H,35\n",
    "jane,F,28\n",
    "théo,H,33"
   ]
  },
  {
   "cell_type": "code",
   "execution_count": null,
   "metadata": {},
   "outputs": [],
   "source": [
    "\"\"\"\n",
    "Lecture d'un fichier CSV\n",
    "\n",
    "La fonction renvoie une liste\n",
    "et un dictionnaire qu'il faut\n",
    "générer simultanément.\n",
    "\"\"\"\n",
    "\n",
    "import csv\n",
    "\n",
    "def lecture_fichier(fichier:str) ->tuple:\n",
    "    with open('name.csv') as mon_fichier_csv:\n",
    "        lecteur_csv = csv.reader(mon_fichier_csv, delimiter=',')\n",
    "        # objet reader qui itère sur les lignes du fichier\n",
    "        liste_personnes = []\n",
    "        dico_personnes = {}\n",
    "        for ligne in lecteur_csv:\n",
    "            liste_personnes.append(ligne)\n",
    "            dico_personnes[ligne[0]]=(ligne[1],ligne[2])\n",
    "    return liste_personnes,dico_personnes\n",
    "\n",
    "table,dico= lecture_fichier('name.csv') # appel, puis décompression du tuple renvoyé\n",
    "print(table)\n",
    "print(dico)"
   ]
  },
  {
   "cell_type": "code",
   "execution_count": null,
   "metadata": {},
   "outputs": [],
   "source": [
    "\"\"\"\n",
    "Lecture d'un fichier CSV\n",
    "\n",
    "La fonction renvoie une liste\n",
    "de liste correspondant aux lignes\n",
    "du fichier.\n",
    "\"\"\"\n",
    "\n",
    "import csv\n",
    "\n",
    "def lecture_fichier(fichier:str)->list :\n",
    "    with open(fichier) as csv_file:\n",
    "        liste= list(csv.reader(csv_file, delimiter=',')) # Récupération d'une liste de liste\n",
    "    return liste\n",
    "\n",
    "test= lecture_fichier('name.csv')\n",
    "print(test)"
   ]
  },
  {
   "cell_type": "code",
   "execution_count": null,
   "metadata": {},
   "outputs": [],
   "source": [
    "import csv\n",
    "\n",
    "def lecture_fichier(fichier:str)->list:\n",
    "    with open(fichier) as csv_file:\n",
    "        lecteur= csv.DictReader(csv_file, delimiter=',')\n",
    "        # idem reader mais enveloppe la ligne dans un dictionnaire\n",
    "        # ordonné la première ligne conient les clés des dictionnaires\n",
    "        \"\"\"\n",
    "        équivalent à la compréhension de liste ci-dessous lst1\n",
    "        lst1=[]\n",
    "        for enregistrement in lecteur:\n",
    "            lst1.append(enregistrement)\n",
    "        \"\"\"\n",
    "        # liste de dictionnaires ordonnés OrderedDict\n",
    "        # lst1=[enregistrement for enregistrement in lecteur]\n",
    "        lst1=[]\n",
    "        # conversion des dictionnaires ordonnés en dictionnaires \"standarts\" python\n",
    "        lst2=[dict(enregistrement) for enregistrement in lecteur]\n",
    "        return lst1, lst2\n",
    "\n",
    "liste1, liste2= lecture_fichier('name_dict.csv')\n",
    "print(liste1)\n",
    "print(liste2)"
   ]
  },
  {
   "cell_type": "code",
   "execution_count": null,
   "metadata": {},
   "outputs": [],
   "source": [
    "\"\"\"\n",
    "Écriture dans fichier CSV\n",
    "\"\"\"\n",
    "\n",
    "import csv\n",
    "\n",
    "\n",
    "def ecriture_fichier(fichier:str, enregistrement:list):\n",
    "    with open(fichier, 'a') as contacts: # attribut 'a' pour append , \"w\" pour write (raz)\n",
    "        relation= csv.writer(contacts, delimiter=',')\n",
    "        relation.writerow(enregistrement)\n",
    "        \n",
    "nom_fichier='test.csv'\n",
    "enregistrement=['Thierry','H',15]\n",
    "ecriture_fichier(nom_fichier, enregistrement)"
   ]
  },
  {
   "cell_type": "code",
   "execution_count": null,
   "metadata": {},
   "outputs": [],
   "source": [
    "import csv\n",
    "\n",
    "\n",
    "def ecriture_fichier(fichier:str, enregistrement:dict):\n",
    "    with open(fichier, 'a') as csv_writer:\n",
    "        csv_writer = csv.DictWriter(csv_writer, delimiter=',', fieldnames=['nom', 'sexe', 'age'])\n",
    "        \"\"\"\n",
    "        équivalent à la compréhension\n",
    "        de dictionnaire ci-dessous\n",
    "        \n",
    "        attributs = {} \n",
    "        for n in csv_writer.fieldnames:\n",
    "            attributs[n] = n\n",
    "        \"\"\"\n",
    "        attributs={n:n for n in csv_writer.fieldnames}\n",
    "        csv_writer.writerow(attributs)\n",
    "        csv_writer.writerow(enregistrement)\n",
    "        \n",
    "nom_fichier='test_dict.csv'\n",
    "enregistrement={'nom': 'Thierry','sexe': 'H' ,'age':15}\n",
    "ecriture_fichier(nom_fichier, enregistrement)"
   ]
  },
  {
   "cell_type": "code",
   "execution_count": null,
   "metadata": {},
   "outputs": [],
   "source": []
  }
 ],
 "metadata": {
  "kernelspec": {
   "display_name": "Python 3",
   "language": "python",
   "name": "python3"
  },
  "language_info": {
   "codemirror_mode": {
    "name": "ipython",
    "version": 3
   },
   "file_extension": ".py",
   "mimetype": "text/x-python",
   "name": "python",
   "nbconvert_exporter": "python",
   "pygments_lexer": "ipython3",
   "version": "3.6.10"
  },
  "varInspector": {
   "cols": {
    "lenName": 16,
    "lenType": 16,
    "lenVar": 40
   },
   "kernels_config": {
    "python": {
     "delete_cmd_postfix": "",
     "delete_cmd_prefix": "del ",
     "library": "var_list.py",
     "varRefreshCmd": "print(var_dic_list())"
    },
    "r": {
     "delete_cmd_postfix": ") ",
     "delete_cmd_prefix": "rm(",
     "library": "var_list.r",
     "varRefreshCmd": "cat(var_dic_list()) "
    }
   },
   "position": {
    "height": "262.727px",
    "left": "1085.55px",
    "right": "20px",
    "top": "120px",
    "width": "350px"
   },
   "types_to_exclude": [
    "module",
    "function",
    "builtin_function_or_method",
    "instance",
    "_Feature"
   ],
   "window_display": true
  }
 },
 "nbformat": 4,
 "nbformat_minor": 4
}
