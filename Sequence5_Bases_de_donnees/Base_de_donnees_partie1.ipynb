{
 "cells": [
  {
   "cell_type": "markdown",
   "metadata": {},
   "source": [
    "# <center><font face=\"arial\" size=\"5\" color=#0101DF>NUMERIQUE ET SCIENCES INFORMATIQUES Terminale NSI</font></center>"
   ]
  },
  {
   "cell_type": "markdown",
   "metadata": {},
   "source": [
    "## <font color=#013ADF>Séquence N° 5 : Bases de données - Structured Query Language (SQL) 1ère partie</font>"
   ]
  },
  {
   "cell_type": "markdown",
   "metadata": {},
   "source": [
    "<div class=\"alert alert-danger\" role=\"alert\">\n",
    "    \n",
    "Les objectifs de cette séquence sont :\n",
    "\n",
    "- Identifier les concepts définissant le modèle relationnel ;\n",
    "- Savoir distinguer la structure d'une base de données de son contenu ;\n",
    "- Repérer des anomalies dans le schéma d'une base de données ;\n",
    "- Identifier les services rendus par un système de gestion de bases de données relationnelles : persistance des données, gestion des accès concurrrents, efficacité de traitemenet des requêtes, sécurisation des accès ;\n",
    "- Identifier les composants d'une requête ;\n",
    "- Construire des requêtes d'interrogation à l'aide des clauses du langage SQL : SELECT, FROM, WHERE, JOIN ;\n",
    "- Construire des requêtes d'insertion et de mise à jour à l'aide de : UPDATE, INSERT, DELETE.\n",
    "\n",
    "\n",
    "</div>"
   ]
  },
  {
   "cell_type": "markdown",
   "metadata": {},
   "source": [
    "<div class=\"alert alert-warning\">\n",
    "<img src=\"Images/CR.png\" alt=\"logo CR\" width=5% align=right>\n",
    "    \n",
    "Travail préalable   \n",
    "\n",
    "- Reprendre la séquence 8 \"Données en table\" de la classe de première (notebook \"Elections.ipynb\"):\n",
    "    - vocabulaire : attribut, enregistrement, vecteur, projection, jointure, selection ;\n",
    "    - Lecture/écriture de fichiers CSV.\n",
    "- Lire les chapitres 5  et 6 du livre.\n",
    "    \n",
    "*Remarques :*\n",
    "- On ne vous demande pas de savoir réaliser un modèle Entité/Association (ou Relation), mais de savoir le lire.\n",
    "- À ne pas perdre de vue : https://www.cnil.fr/fr/comprendre-le-rgpd\n",
    "    \n",
    "**Problématique :**\n",
    "\n",
    "Comment stocker les données sur les élèves de terminale de l'école ainsi que leur ville de résidence sous forme d'un code postal et du libellé de la ville ?\n",
    "\n",
    "\n",
    "\n",
    "| Id_eleve | nom     | prenom   |  statut   | code postal | libellé ville |\n",
    "| :------: | ------- | -------- | :-------: | :---------: | :-----------: |\n",
    "|    1     | Bourgon | Élise    | demi-pens |    29490    |   Guipavas    |\n",
    "|    2     | Jacq    | Christine | demi-pens |    29820    |    Guilers    |\n",
    "|    3     | Durand  | Mathis   |  externe  |    29200    |     Brest     |\n",
    "|    4     | Gontran | Élouan   | demi-pens |    29290    |  Saint Renan  |\n",
    "|    5     | Fox     | Titouan  | demi-pens |    29490    |   Guipavas    |\n",
    "|    6     | Majo    | Aya      |  externe  |    29200    |     Brest     |\n",
    "|    7     | Tripaux | Jean     |  interne  |    29160    |    Crozon     |\n",
    "|    8     | Chavin  | Hassan   |  interne  |    29590    |    Le Faou    |\n",
    "|    9     | Marvaux | Éloi     |  externe  |    29200    |     Brest     |\n",
    "|    10    | Savino  | Manel    |  interne  |    29830    | Ploudalmézeau, Terre de gens géniaux  |\n",
    "    \n",
    "- On propose cette table. Que peut-on lui reprocher ?\n",
    "- Revisons le vocabulaire : attribut, champ, domaine, donnée enregistrement, vecteur, n-uplet, relation, projection, sélection, jointure\n",
    "<div>"
   ]
  },
  {
   "cell_type": "markdown",
   "metadata": {},
   "source": [
    "Voc\n",
    "- Attribut : c'est l'intitulé d'une colonne (nom, statut, ...)\n",
    "- Domaine : (champ) -> Domaine de valeurs. C'est l'équivalent du typage en Python (TEXT, INTEGER, REAL, ...). Et pour quelques valeurs, le domaine est défini\n",
    "- Donnée, Enregistrement, Vecteur, N-Uplet : C'est une ligne d'une table de la BDD\n",
    "- Relation : Une table\n",
    "- Projection : C'est retenir un certain nombre d'attributs\n",
    "- Séléction : C'est choisir un certain nombre d'enregistrements\n",
    "- Jointure : C'est faire un lien entre plusieurs tables (2 mini) pour réunir ces tables et obtenir des attibuts appartenant à plusieurs tables"
   ]
  },
  {
   "cell_type": "markdown",
   "metadata": {},
   "source": [
    "### 1- Le modèle Entité/Association (ou relation)"
   ]
  },
  {
   "cell_type": "markdown",
   "metadata": {},
   "source": [
    "<div class=\"alert alert-success\">\n",
    "\n",
    "\n",
    "<img src=\"Images/Villes.svg\" alt=\"ville_db\" width=30% align=center>   \n",
    "    \n",
    "\n",
    "**Comment lire ce modèle ?**\n",
    "    \n",
    "Une entité de la table **ELEVES** habite dans 1 et 1 seule VILLE ;\n",
    "\n",
    "Une entité de la table **VILLE** est habité par 0 ou plusieurs (N) élèves.\n",
    "    \n",
    "**Compte-tenu des cardinalités**, il en résulte la **création de 2 tables** ayant les attributs suivants :\n",
    "    \n",
    "    \n",
    "| Id_eleve | nom     | prenom   |  statut   | code postal |\n",
    "| :------: | ------- | -------- | :-------: | :---------: |\n",
    "|    1     | Bourgon | Élise    | demi-pens |    29490    |\n",
    "|    2     | Jacq    | Christine | demi-pens |    29820    |\n",
    "|    3     | Durand  | Mathis   |  externe  |    29200    |\n",
    "|    4     | Gontran | Élouan   | demi-pens |    29290    |\n",
    "|    5     | Fox     | Titouan  | demi-pens |    29490    |\n",
    "|    6     | Majo    | Aya      |  externe  |    29200    |\n",
    "|    7     | Tripaux | Jean     |  interne  |    29160    |\n",
    "|    8     | Chavin  | Hassan   |  interne  |    29590    |\n",
    "|    9     | Marvaux | Éloi     |  externe  |    29200    |\n",
    "|    10    | Savino  | Manel    |  interne  |    29830    |\n",
    "    \n",
    "Où **Id_Eleve** est la **clé primaire** de la table **ELEVES** et **Code_postal** est la **clé étrangère**.\n",
    "    \n",
    "| code postal | libellé ville |\n",
    "| :---------: | :-----------: |\n",
    "|    29490    |   Guipavas    |\n",
    "|    29820    |    Guilers    |\n",
    "|    29200    |     Brest     |\n",
    "|    29290    |  Saint Renan  |\n",
    "|    29160    |    Crozon     |\n",
    "|    29590    |    Le Faou    |\n",
    "|    29830    | Ploudalmézeau |\n",
    "    \n",
    "Où **Code postal** est la **clé primaire** de la table **VILLE**.\n",
    "\n",
    "<img src=\"Images/warning.png\" alt=\"warning\" width=5% align=left>\n",
    "    \n",
    "    \n",
    "Clé primaire : permet d'accéder aux données d'un enregistrement de façon claire et unique.\n",
    "    \n",
    "Clé étrangère : Lien avec l'identifiant d'une autre table.\n",
    "<div>"
   ]
  },
  {
   "cell_type": "markdown",
   "metadata": {},
   "source": [
    "### 2- Le modèle relationnel"
   ]
  },
  {
   "cell_type": "markdown",
   "metadata": {},
   "source": [
    "<div class=\"alert alert-success\">\n",
    "\n",
    "<img src=\"Images/modele_relationnel.png\" alt=\"relationnel\" width=50% align=center>\n",
    "    \n",
    "**ELEVE ( Id_eleve, nom, prenom, status, code postal )**\n",
    "    \n",
    "Le champ Id_eleve constitue la clef primaire de la table. C'était déjà un identifiant de l'entité ELEVE.\n",
    "    \n",
    "Les champs nom, prenom et status étaient déjà de simples attributs de l'entité ELEVE.\n",
    "    \n",
    "Le champ code postal est une clef étrangère. Il a migré à partir de l'entité VILLE par l'association de dépendance fonctionnelle HABITE en perdant son caractère identifiant.\n",
    "    \n",
    "**VILLE ( code postal, libelle_ville )**\n",
    "    \n",
    "Le champ code postal constitue la clef primaire de la table. C'était déjà un identifiant de l'entité VILLE.\n",
    "    \n",
    "Le champ libelle_ville était déjà un simple attribut de l'entité VILLE.\n",
    "<div>"
   ]
  },
  {
   "cell_type": "markdown",
   "metadata": {},
   "source": [
    "### 3- Le modèle physique : système de gestion de base de donnée relationnel (SGBD) relationnel"
   ]
  },
  {
   "cell_type": "markdown",
   "metadata": {},
   "source": [
    "#### 3-1 Architecture 3 tiers"
   ]
  },
  {
   "cell_type": "markdown",
   "metadata": {},
   "source": [
    "<img src=\"Images/architecture_3tiers.jpg\" alt=\"serveurs\" width=60% align=center>\n",
    "\n",
    "L'architecture classique est une architecture à 3 niveaux, c'est-à-dire que l'on a une architecture partagée entre :\n",
    "\n",
    "Le client qui demande des ressources (à partir de son navigateur)\n",
    "\n",
    "Le serveur d'application (serveur http) : le serveur chargé de fournir la ressource mais faisant appel à un autre serveur (Apache Nginx ...)\n",
    "\n",
    "Le serveur secondaire (serveur de base de données): fournit un service au premier serveur (Mysql, PostgreSQ ...)"
   ]
  },
  {
   "cell_type": "markdown",
   "metadata": {},
   "source": [
    "#### 3-2 SQLite"
   ]
  },
  {
   "cell_type": "markdown",
   "metadata": {},
   "source": [
    "**SQLite** est une bibliothèque qui propose un moteur de base de données relationnelle accessible par le langage SQL.\n",
    "\n",
    "https://sql.sh/sgbd/sqlite\n",
    "\n",
    "Contrairement aux serveurs de bases de données traditionnels, sa particularité est de ne pas reproduire le schéma habituel client-serveur mais d'être directement intégrée aux programmes. L'intégralité de la base de données (déclarations, tables, index et données) est stockée dans un fichier indépendant de la plateforme.\n",
    "\n",
    "En parcourant les répertoires de Firefox : /home/user/.mozilla/firefox/l11uob7t.default/, on peut y trouver plusieurs bases SQLite dont celle des cookies : cookies.sqlite\n",
    "\n",
    "\n",
    "**C'est cette option que nous allons choisir car moins lourde à mettre en oeuvre.**\n",
    "\n",
    "Pour visualiser le contenu d'une base, on peut utiliser :\n",
    "\n",
    "- DB browser for sqlite (à installer sur un poste) ;\n",
    "- Un outil en ligne : https://extendsclass.com/sqlite-browser.html\n",
    "- En ligne de commande ..."
   ]
  },
  {
   "cell_type": "markdown",
   "metadata": {},
   "source": [
    "#### 3-3 Propriétés d'un SGBD (ACID)"
   ]
  },
  {
   "cell_type": "markdown",
   "metadata": {},
   "source": [
    "<div class=\"alert alert-success\">\n",
    "    \n",
    "Un SGBD doit assurer un ensemble de fonctions :\n",
    "\n",
    "Le SGBD doit assurer la persistance des données. Il doit assurer la pérennité de la structure quelque soit les modifications. de plus l'accès aux données doit être garanti en toute circonstance : panne matérielle, logicielle, coupure de courant, etc.\n",
    "\n",
    "Le SGBD doit gérer les accès concurrents. Tout comme le système d'exploitation linux étudié en première, il gère un système de droits et de privilèges pour des utilisateurs et des groupes d'utilisateurs.\n",
    "    \n",
    "Le SGBD doit être efficace. Cette efficacité tient à des algorithmes puissants qui ne sont pas 'visibles' par les utilisateurs.\n",
    "\n",
    "Au sein d’une base de données, le terme de **transaction** désigne les opérations apportant des modifications aux données. Par exemple, un virement bancaire provoquant le débit du compte de l’émetteur et le crédit du compte du bénéficiaire est une transaction.\n",
    "\n",
    "Ces transactions doivent toutefois présenter quatre propriétés visant à garantir leur validité même en cas d’erreur ou de pannes informatiques. Ces quatre propriétés sont l’**atomicité**, la **cohérence**, l’**isolation** et la **durabilité**. Afin de mémoriser facilement ces attributs, Andreas Reuter et Theo Härder ont inventé l’acronyme  » ACID  » en 1983.\n",
    "\n",
    "L’**atomicité** des transactions au sein des bases de données signifie que tous les changements apportés aux données sont effectués totalement, ou pas du tout. Elle permet d’éviter que les changements prennent effet en cas de panne de l’application ou du serveur de la base de données en plein milieu de la transaction. Ainsi, la base de données ne risque pas d’être corrompue par des opérations imprévisibles et à moitié complétées.\n",
    "\n",
    "La **cohérence** signifie que les transactions doivent respecter les contraintes d’intégrité des données de la base de données. Ainsi, une transaction qui commence avec un ensemble de données cohérent doit résulter par un ensemble de données cohérent. Pour maintenir la cohérence, un système de base de données peut abandonner les transactions qui risquent de provoquer une incohérence.\n",
    "\n",
    "L’**isolation** signifie que les écritures et lectures des transactions réussies ne seront pas affectées par les écritures et lectures d’autres transactions, qu’elles soient ou non réussies.\n",
    "\n",
    "La **durabilité** garantit que les transactions réussies survivront de façon permanente et ne seront pas affectées par d’éventuelles pannes ou problèmes techniques. Les changements apportés aux données doivent être permanents.\n",
    "\n",
    "source : https://www.lebigdata.fr/acid-base-de-donnees-definition\n",
    "    \n",
    "<div>"
   ]
  },
  {
   "cell_type": "markdown",
   "metadata": {},
   "source": [
    "<div class=\"alert alert-warning\">\n",
    "<img src=\"Images/CR.png\" alt=\"logo CR\" width=5% align=right>\n",
    "    \n",
    "**Exercice**\n",
    "\n",
    "Pour chacun des sénarios suivant dire laquelle des 4 propriétés ACID est mise en jeu :\n",
    "\n",
    "1- On exécute intégralement une transaction. La machine exécutant le SGBD subit une panne de courant. Au redémarrage, l'effet de la transaction a bien été pris en compte.\n",
    "    \n",
    "2- Une table T2 contient des clés étrangères, référençant les clés d'une table T1. On exécute une transaction qui modifie T2. Après la transaction T2 contient toujours des clés étrangères.\n",
    "    \n",
    "3- Une transaction tente d'insérer 10 enregistrements dans une relation. L'insertion du 9ème enregistrement échoue, à cause d'une contrainte de clé primaire. La transaction est annulée et aucune des lignes ne se retrouve dans la relation.\n",
    "    \n",
    "4- Sur une relation R contenant un attribut \"n\" de type entier, on exécute deux transactions, \"en même temps\". La première ajoute 1 à toutes les données de l'attribut \"n\" et la seconde retire 1 à ce même attribut. Le contenu de la relation après exécution des transactions est le même."
   ]
  },
  {
   "cell_type": "markdown",
   "metadata": {},
   "source": [
    "1 Durabilité\n",
    "2 Cohérence\n",
    "3 Atomicité\n",
    "4 Isolation"
   ]
  },
  {
   "cell_type": "markdown",
   "metadata": {},
   "source": [
    "### 4- Le langage SQL (Structured Query Language)"
   ]
  },
  {
   "cell_type": "markdown",
   "metadata": {},
   "source": [
    "Nous allons nous servir de la base de données décrite précédemment pour découvrir le langage SQL."
   ]
  },
  {
   "cell_type": "markdown",
   "metadata": {},
   "source": [
    "#### 4-1 Création d'une base de données"
   ]
  },
  {
   "cell_type": "markdown",
   "metadata": {},
   "source": [
    "Nous allons créer 3 bases de données identiques de 3 manières puis nous poursuivrons au travers ce notebook. Nous reviendrons en projet sur la création et la manipulation d'une base de données avec python.\n",
    "\n",
    "**4-1-1- Création en lignes de commande** :\n",
    "\n",
    "    - Ouvrir un terminal et placez vous dans votre home ;\n",
    "    - Création de la base de données que nous appelerons \"MyDB1\" : sqlite3 MyDB1.db\n",
    "    - Vous êtes dans l'environnement sqlite, le prompt a changé \">\"\n",
    "    - Pour vérifier la création : .database\n",
    "    - Pour obtenir de l'aide : .help\n",
    "    - Pour sortir : .exit (CTRL + D)\n",
    "    \n",
    "Un fichier MyDB1.db doit être présent dans votre répertoire.\n",
    "\n",
    "**4-1-2- Création à partir d'un script python** :\n"
   ]
  },
  {
   "cell_type": "code",
   "execution_count": null,
   "metadata": {
    "ExecuteTime": {
     "end_time": "2021-12-07T07:24:15.040509Z",
     "start_time": "2021-12-07T07:24:15.036198Z"
    }
   },
   "outputs": [],
   "source": [
    "import sqlite3\n",
    "connexion = sqlite3.connect('MyDB2.db') # connection ,création si non existe\n",
    "curseur=connexion.cursor() # création d'un objet pour réaliser des requêtes"
   ]
  },
  {
   "cell_type": "markdown",
   "metadata": {},
   "source": [
    "Un fichier MyDB2.db doit être présent dans votre répertoire.\n",
    "\n",
    "Vous pouvez maintenant supprimer ces deux bases.\n",
    "\n",
    "**4-1-3- Création à partir du notebook** :\n",
    "\n",
    "Grâce à l'extension **ipython-sql** qu'il faut activer en validant la cellule suivante, nous allons pouvoir faire des requêtes SQL."
   ]
  },
  {
   "cell_type": "code",
   "execution_count": 2,
   "metadata": {
    "ExecuteTime": {
     "end_time": "2021-12-07T08:24:07.273830Z",
     "start_time": "2021-12-07T08:24:07.135280Z"
    }
   },
   "outputs": [],
   "source": [
    "%load_ext sql"
   ]
  },
  {
   "cell_type": "code",
   "execution_count": 8,
   "metadata": {
    "ExecuteTime": {
     "end_time": "2021-12-07T08:24:45.673949Z",
     "start_time": "2021-12-07T08:24:45.667176Z"
    }
   },
   "outputs": [],
   "source": [
    "%reload_ext sql"
   ]
  },
  {
   "cell_type": "code",
   "execution_count": 9,
   "metadata": {
    "ExecuteTime": {
     "end_time": "2021-12-07T08:24:46.175075Z",
     "start_time": "2021-12-07T08:24:46.166825Z"
    }
   },
   "outputs": [
    {
     "name": "stdout",
     "output_type": "stream",
     "text": [
      "0 rows affected.\n"
     ]
    },
    {
     "data": {
      "text/plain": [
       "[]"
      ]
     },
     "execution_count": 9,
     "metadata": {},
     "output_type": "execute_result"
    }
   ],
   "source": [
    "%sql sqlite:///terminale.db -- Création de la base de données \"terminale.db\""
   ]
  },
  {
   "cell_type": "markdown",
   "metadata": {},
   "source": [
    "#### 4-2 Création d'une table"
   ]
  },
  {
   "cell_type": "markdown",
   "metadata": {},
   "source": [
    "<div class=\"alert alert-success\">\n",
    "    \n",
    "Cette première table est un peu plus complexe à créer car elle possède une clé étrangère. La dernière ligne permet de déclarer une contrainte sur cette clé afin d'indiquer à SQLite que \"code_postal\" est une clé étrangère. SQLite sera alors responsable de maintenir la cohérence entre les deux tables \"ELEVE\" et \"VILLE\".\n",
    "<div>"
   ]
  },
  {
   "cell_type": "code",
   "execution_count": 10,
   "metadata": {
    "ExecuteTime": {
     "end_time": "2021-12-07T08:24:51.322050Z",
     "start_time": "2021-12-07T08:24:51.312763Z"
    }
   },
   "outputs": [
    {
     "name": "stdout",
     "output_type": "stream",
     "text": [
      "Done.\n"
     ]
    },
    {
     "data": {
      "text/plain": [
       "[]"
      ]
     },
     "execution_count": 10,
     "metadata": {},
     "output_type": "execute_result"
    }
   ],
   "source": [
    "%%sql sqlite://\n",
    "    \n",
    "CREATE TABLE ELEVE\n",
    "(\n",
    "Id_eleve INTEGER PRIMARY KEY,\n",
    "nom TEXT NOT NULL,\n",
    "prenom TEXT,\n",
    "statut TEXT,\n",
    "code_postal INTEGER NOT NULL,\n",
    "FOREIGN KEY (code_postal) REFERENCES VILLE(code_postal)    \n",
    ");"
   ]
  },
  {
   "cell_type": "markdown",
   "metadata": {},
   "source": [
    "<div class=\"alert alert-warning\">\n",
    "<img src=\"Images/CR.png\" alt=\"logo CR\" width=5% align=right>\n",
    "    \n",
    "Par analogie avec la création précédente, créer la table ville.\n",
    "<div>"
   ]
  },
  {
   "cell_type": "code",
   "execution_count": 11,
   "metadata": {
    "ExecuteTime": {
     "end_time": "2021-12-07T08:24:56.523925Z",
     "start_time": "2021-12-07T08:24:56.515852Z"
    }
   },
   "outputs": [
    {
     "name": "stdout",
     "output_type": "stream",
     "text": [
      "Done.\n"
     ]
    },
    {
     "data": {
      "text/plain": [
       "[]"
      ]
     },
     "execution_count": 11,
     "metadata": {},
     "output_type": "execute_result"
    }
   ],
   "source": [
    "%%sql sqlite://\n",
    "    \n",
    "CREATE TABLE VILLE\n",
    "(\n",
    "code_postal INTEGER PRIMARY KEY,\n",
    "libelle_ville TEXT\n",
    ");"
   ]
  },
  {
   "cell_type": "markdown",
   "metadata": {},
   "source": [
    "#### 4-3 Suppression d'une table"
   ]
  },
  {
   "cell_type": "markdown",
   "metadata": {},
   "source": [
    "Si vous avez constaté une erreur après la création de la table et avant d'insérer des enregistrements, vous pouvez supprime une table avec la commande :"
   ]
  },
  {
   "cell_type": "code",
   "execution_count": 28,
   "metadata": {
    "ExecuteTime": {
     "end_time": "2021-12-07T07:28:51.716123Z",
     "start_time": "2021-12-07T07:28:51.709991Z"
    }
   },
   "outputs": [
    {
     "name": "stdout",
     "output_type": "stream",
     "text": [
      "(sqlite3.OperationalError) no such table: ELEVE\n",
      "[SQL: DROP TABLE ELEVE;]\n",
      "(Background on this error at: http://sqlalche.me/e/13/e3q8)\n"
     ]
    }
   ],
   "source": [
    "%%sql sqlite://\n",
    "    \n",
    "DROP TABLE ELEVE;"
   ]
  },
  {
   "cell_type": "markdown",
   "metadata": {},
   "source": [
    "#### 4-4 Insertion des données"
   ]
  },
  {
   "cell_type": "code",
   "execution_count": 12,
   "metadata": {
    "ExecuteTime": {
     "end_time": "2021-12-07T08:24:59.793879Z",
     "start_time": "2021-12-07T08:24:59.772650Z"
    }
   },
   "outputs": [
    {
     "name": "stdout",
     "output_type": "stream",
     "text": [
      "1 rows affected.\n",
      "1 rows affected.\n",
      "1 rows affected.\n",
      "1 rows affected.\n",
      "1 rows affected.\n",
      "1 rows affected.\n",
      "1 rows affected.\n"
     ]
    },
    {
     "data": {
      "text/plain": [
       "[]"
      ]
     },
     "execution_count": 12,
     "metadata": {},
     "output_type": "execute_result"
    }
   ],
   "source": [
    "%%sql sqlite://\n",
    "\n",
    "INSERT INTO VILLE VALUES(29490,'Guipavas');\n",
    "INSERT INTO VILLE VALUES(29820,'Guilers');\n",
    "INSERT INTO VILLE VALUES(29200,'Brest');\n",
    "INSERT INTO VILLE VALUES(29160,'Crozon');\n",
    "INSERT INTO VILLE VALUES(29590,'Le Faou ');\n",
    "INSERT INTO VILLE VALUES(29830,'Ploudalmézeau');\n",
    "INSERT INTO VILLE VALUES(29290,'Saint Renan');"
   ]
  },
  {
   "cell_type": "code",
   "execution_count": 13,
   "metadata": {
    "ExecuteTime": {
     "end_time": "2021-12-07T08:25:00.890230Z",
     "start_time": "2021-12-07T08:25:00.868674Z"
    }
   },
   "outputs": [
    {
     "name": "stdout",
     "output_type": "stream",
     "text": [
      "1 rows affected.\n",
      "1 rows affected.\n",
      "1 rows affected.\n",
      "1 rows affected.\n",
      "1 rows affected.\n",
      "1 rows affected.\n",
      "1 rows affected.\n",
      "1 rows affected.\n",
      "1 rows affected.\n",
      "1 rows affected.\n"
     ]
    },
    {
     "data": {
      "text/plain": [
       "[]"
      ]
     },
     "execution_count": 13,
     "metadata": {},
     "output_type": "execute_result"
    }
   ],
   "source": [
    "%%sql sqlite://\n",
    "\n",
    "INSERT INTO ELEVE VALUES(1,'Bourgon','Élise','demi-pens',29490);\n",
    "INSERT INTO ELEVE VALUES(2,'Jacq','Christine','demi-pens',29820);\n",
    "INSERT INTO ELEVE VALUES(3,'Durand','Mathis','externe',29200);\n",
    "INSERT INTO ELEVE VALUES(4,'Gontran','Élouan','demi-pens',29290);\n",
    "INSERT INTO ELEVE VALUES(5,'Fox','Titouan','demi-pens',29490 );\n",
    "INSERT INTO ELEVE VALUES(6,'Majo','Aya','externe',29200 );\n",
    "INSERT INTO ELEVE VALUES(7,'Tripaux','Jean','interne',29160 );\n",
    "INSERT INTO ELEVE VALUES(8,'Chavin','Hassan','interne',29590 );\n",
    "INSERT INTO ELEVE VALUES(9,'Marvaux','Éloi','externe',29200 );\n",
    "INSERT INTO ELEVE VALUES(10,'Savino','Manel','interne',29830 );"
   ]
  },
  {
   "cell_type": "markdown",
   "metadata": {},
   "source": [
    "<div class=\"alert alert-warning\">\n",
    "<img src=\"Images/CR.png\" alt=\"logo CR\" width=5% align=right>\n",
    "\n",
    "Avant d'aller plus loin, verifier vos saisies avec l'éditeur en ligne par exemple : https://extendsclass.com/sqlite-browser.html\n",
    "<div>"
   ]
  },
  {
   "cell_type": "markdown",
   "metadata": {},
   "source": [
    "#### 4-5 Interroger la base de données"
   ]
  },
  {
   "cell_type": "markdown",
   "metadata": {},
   "source": [
    "<div class=\"alert alert-success\">\n",
    "    \n",
    "Plutôt que d'utiliser l'outil en ligne, on aurait pu interroger la base de données. C'est ce que nous allons faire maintenant.\n",
    "<div>"
   ]
  },
  {
   "cell_type": "code",
   "execution_count": 31,
   "metadata": {
    "ExecuteTime": {
     "end_time": "2021-12-07T07:29:01.823446Z",
     "start_time": "2021-12-07T07:29:01.813975Z"
    }
   },
   "outputs": [
    {
     "name": "stdout",
     "output_type": "stream",
     "text": [
      "Done.\n"
     ]
    },
    {
     "data": {
      "text/html": [
       "<table>\n",
       "    <tr>\n",
       "        <th>Id_eleve</th>\n",
       "        <th>nom</th>\n",
       "        <th>prenom</th>\n",
       "        <th>statut</th>\n",
       "        <th>code_postal</th>\n",
       "    </tr>\n",
       "    <tr>\n",
       "        <td>1</td>\n",
       "        <td>Bourgon</td>\n",
       "        <td>Élise</td>\n",
       "        <td>demi-pens</td>\n",
       "        <td>29490</td>\n",
       "    </tr>\n",
       "    <tr>\n",
       "        <td>2</td>\n",
       "        <td>Jacq</td>\n",
       "        <td>Christine</td>\n",
       "        <td>demi-pens</td>\n",
       "        <td>29820</td>\n",
       "    </tr>\n",
       "    <tr>\n",
       "        <td>3</td>\n",
       "        <td>Durand</td>\n",
       "        <td>Mathis</td>\n",
       "        <td>externe</td>\n",
       "        <td>29200</td>\n",
       "    </tr>\n",
       "    <tr>\n",
       "        <td>4</td>\n",
       "        <td>Gontran</td>\n",
       "        <td>Élouan</td>\n",
       "        <td>demi-pens</td>\n",
       "        <td>29290</td>\n",
       "    </tr>\n",
       "    <tr>\n",
       "        <td>5</td>\n",
       "        <td>Fox</td>\n",
       "        <td>Titouan</td>\n",
       "        <td>demi-pens</td>\n",
       "        <td>29490</td>\n",
       "    </tr>\n",
       "    <tr>\n",
       "        <td>6</td>\n",
       "        <td>Majo</td>\n",
       "        <td>Aya</td>\n",
       "        <td>externe</td>\n",
       "        <td>29200</td>\n",
       "    </tr>\n",
       "    <tr>\n",
       "        <td>7</td>\n",
       "        <td>Tripaux</td>\n",
       "        <td>Jean</td>\n",
       "        <td>interne</td>\n",
       "        <td>29160</td>\n",
       "    </tr>\n",
       "    <tr>\n",
       "        <td>8</td>\n",
       "        <td>Chavin</td>\n",
       "        <td>Hassan</td>\n",
       "        <td>interne</td>\n",
       "        <td>29590</td>\n",
       "    </tr>\n",
       "    <tr>\n",
       "        <td>9</td>\n",
       "        <td>Marvaux</td>\n",
       "        <td>Éloi</td>\n",
       "        <td>externe</td>\n",
       "        <td>29200</td>\n",
       "    </tr>\n",
       "    <tr>\n",
       "        <td>10</td>\n",
       "        <td>Savino</td>\n",
       "        <td>Manel</td>\n",
       "        <td>interne</td>\n",
       "        <td>29830</td>\n",
       "    </tr>\n",
       "</table>"
      ],
      "text/plain": [
       "[(1, 'Bourgon', 'Élise', 'demi-pens', 29490),\n",
       " (2, 'Jacq', 'Christine', 'demi-pens', 29820),\n",
       " (3, 'Durand', 'Mathis', 'externe', 29200),\n",
       " (4, 'Gontran', 'Élouan', 'demi-pens', 29290),\n",
       " (5, 'Fox', 'Titouan', 'demi-pens', 29490),\n",
       " (6, 'Majo', 'Aya', 'externe', 29200),\n",
       " (7, 'Tripaux', 'Jean', 'interne', 29160),\n",
       " (8, 'Chavin', 'Hassan', 'interne', 29590),\n",
       " (9, 'Marvaux', 'Éloi', 'externe', 29200),\n",
       " (10, 'Savino', 'Manel', 'interne', 29830)]"
      ]
     },
     "execution_count": 31,
     "metadata": {},
     "output_type": "execute_result"
    }
   ],
   "source": [
    "%%sql sqlite://\n",
    "\n",
    "SELECT * FROM ELEVE;"
   ]
  },
  {
   "cell_type": "markdown",
   "metadata": {},
   "source": [
    "<div class=\"alert alert-warning\">\n",
    "<img src=\"Images/CR.png\" alt=\"logo CR\" width=5% align=right>\n",
    "\n",
    "- Formuler votre requête pour afficher l'intégralité de la table VILLE.\n",
    "<div>"
   ]
  },
  {
   "cell_type": "code",
   "execution_count": 32,
   "metadata": {
    "ExecuteTime": {
     "end_time": "2021-12-07T07:29:20.628403Z",
     "start_time": "2021-12-07T07:29:20.619577Z"
    }
   },
   "outputs": [
    {
     "name": "stdout",
     "output_type": "stream",
     "text": [
      "Done.\n"
     ]
    },
    {
     "data": {
      "text/html": [
       "<table>\n",
       "    <tr>\n",
       "        <th>code_postal</th>\n",
       "        <th>libelle_ville</th>\n",
       "    </tr>\n",
       "    <tr>\n",
       "        <td>29160</td>\n",
       "        <td>Crozon</td>\n",
       "    </tr>\n",
       "    <tr>\n",
       "        <td>29200</td>\n",
       "        <td>Brest</td>\n",
       "    </tr>\n",
       "    <tr>\n",
       "        <td>29290</td>\n",
       "        <td>Saint Renan</td>\n",
       "    </tr>\n",
       "    <tr>\n",
       "        <td>29490</td>\n",
       "        <td>Guipavas</td>\n",
       "    </tr>\n",
       "    <tr>\n",
       "        <td>29590</td>\n",
       "        <td>Le Faou </td>\n",
       "    </tr>\n",
       "    <tr>\n",
       "        <td>29820</td>\n",
       "        <td>Guilers</td>\n",
       "    </tr>\n",
       "    <tr>\n",
       "        <td>29830</td>\n",
       "        <td>Ploudalmézeau</td>\n",
       "    </tr>\n",
       "</table>"
      ],
      "text/plain": [
       "[(29160, 'Crozon'),\n",
       " (29200, 'Brest'),\n",
       " (29290, 'Saint Renan'),\n",
       " (29490, 'Guipavas'),\n",
       " (29590, 'Le Faou '),\n",
       " (29820, 'Guilers'),\n",
       " (29830, 'Ploudalmézeau')]"
      ]
     },
     "execution_count": 32,
     "metadata": {},
     "output_type": "execute_result"
    }
   ],
   "source": [
    "%%sql sqlite://\n",
    "\n",
    "SELECT * FROM VILLE;"
   ]
  },
  {
   "cell_type": "markdown",
   "metadata": {},
   "source": [
    "<div class=\"alert alert-success\">\n",
    "    \n",
    "Afinons un peu les recherches en utilisant des clauses du langage SQL : WHERE, LIKE, COUNT, ORDER BY, DISTINCT, DESC et JOIN\n",
    "    \n",
    "- Voici une requête qui doit me donner le nom, prénom et le statut de tous les élèves qui habitent à Brest, autrement dit, qui ont le code postal 29200.\n",
    "    \n",
    "<div>"
   ]
  },
  {
   "cell_type": "code",
   "execution_count": 33,
   "metadata": {
    "ExecuteTime": {
     "end_time": "2021-12-07T07:29:24.685132Z",
     "start_time": "2021-12-07T07:29:24.675964Z"
    }
   },
   "outputs": [
    {
     "name": "stdout",
     "output_type": "stream",
     "text": [
      "Done.\n"
     ]
    },
    {
     "data": {
      "text/html": [
       "<table>\n",
       "    <tr>\n",
       "        <th>nom</th>\n",
       "        <th>prenom</th>\n",
       "        <th>statut</th>\n",
       "    </tr>\n",
       "    <tr>\n",
       "        <td>Durand</td>\n",
       "        <td>Mathis</td>\n",
       "        <td>externe</td>\n",
       "    </tr>\n",
       "    <tr>\n",
       "        <td>Majo</td>\n",
       "        <td>Aya</td>\n",
       "        <td>externe</td>\n",
       "    </tr>\n",
       "    <tr>\n",
       "        <td>Marvaux</td>\n",
       "        <td>Éloi</td>\n",
       "        <td>externe</td>\n",
       "    </tr>\n",
       "</table>"
      ],
      "text/plain": [
       "[('Durand', 'Mathis', 'externe'),\n",
       " ('Majo', 'Aya', 'externe'),\n",
       " ('Marvaux', 'Éloi', 'externe')]"
      ]
     },
     "execution_count": 33,
     "metadata": {},
     "output_type": "execute_result"
    }
   ],
   "source": [
    "%%sql sqlite://\n",
    "\n",
    "SELECT nom, prenom, statut FROM ELEVE WHERE code_postal= 29200;"
   ]
  },
  {
   "cell_type": "markdown",
   "metadata": {},
   "source": [
    "<div class=\"alert alert-warning\">\n",
    "<img src=\"Images/CR.png\" alt=\"logo CR\" width=5% align=right>\n",
    "\n",
    "- Formuler des requêtes qui donnent les résultats suivants :\n",
    "    - La liste des élèves (nom et prénom) internes ;\n",
    "    - La ville dont le code postal est 29830\n",
    "<div>"
   ]
  },
  {
   "cell_type": "code",
   "execution_count": 35,
   "metadata": {
    "ExecuteTime": {
     "end_time": "2021-12-07T07:30:38.535758Z",
     "start_time": "2021-12-07T07:30:38.526521Z"
    }
   },
   "outputs": [
    {
     "name": "stdout",
     "output_type": "stream",
     "text": [
      "Done.\n"
     ]
    },
    {
     "data": {
      "text/html": [
       "<table>\n",
       "    <tr>\n",
       "        <th>Id_eleve</th>\n",
       "        <th>nom</th>\n",
       "        <th>prenom</th>\n",
       "        <th>statut</th>\n",
       "        <th>code_postal</th>\n",
       "    </tr>\n",
       "    <tr>\n",
       "        <td>7</td>\n",
       "        <td>Tripaux</td>\n",
       "        <td>Jean</td>\n",
       "        <td>interne</td>\n",
       "        <td>29160</td>\n",
       "    </tr>\n",
       "    <tr>\n",
       "        <td>8</td>\n",
       "        <td>Chavin</td>\n",
       "        <td>Hassan</td>\n",
       "        <td>interne</td>\n",
       "        <td>29590</td>\n",
       "    </tr>\n",
       "    <tr>\n",
       "        <td>10</td>\n",
       "        <td>Savino</td>\n",
       "        <td>Manel</td>\n",
       "        <td>interne</td>\n",
       "        <td>29830</td>\n",
       "    </tr>\n",
       "</table>"
      ],
      "text/plain": [
       "[(7, 'Tripaux', 'Jean', 'interne', 29160),\n",
       " (8, 'Chavin', 'Hassan', 'interne', 29590),\n",
       " (10, 'Savino', 'Manel', 'interne', 29830)]"
      ]
     },
     "execution_count": 35,
     "metadata": {},
     "output_type": "execute_result"
    }
   ],
   "source": [
    "%%sql sqlite://\n",
    "    \n",
    "SELECT * FROM ELEVE WHERE statut=\"interne\""
   ]
  },
  {
   "cell_type": "code",
   "execution_count": 37,
   "metadata": {
    "ExecuteTime": {
     "end_time": "2021-12-07T07:31:10.065060Z",
     "start_time": "2021-12-07T07:31:10.054921Z"
    }
   },
   "outputs": [
    {
     "name": "stdout",
     "output_type": "stream",
     "text": [
      "Done.\n"
     ]
    },
    {
     "data": {
      "text/html": [
       "<table>\n",
       "    <tr>\n",
       "        <th>code_postal</th>\n",
       "        <th>libelle_ville</th>\n",
       "    </tr>\n",
       "    <tr>\n",
       "        <td>29830</td>\n",
       "        <td>Ploudalmézeau</td>\n",
       "    </tr>\n",
       "</table>"
      ],
      "text/plain": [
       "[(29830, 'Ploudalmézeau')]"
      ]
     },
     "execution_count": 37,
     "metadata": {},
     "output_type": "execute_result"
    }
   ],
   "source": [
    "%%sql sqlite://\n",
    "\n",
    "SELECT * FROM VILLE WHERE code_postal=29830"
   ]
  },
  {
   "cell_type": "markdown",
   "metadata": {},
   "source": [
    "<div class=\"alert alert-success\">\n",
    "    \n",
    "Afinons un peu les recherches en utilisant des clauses du langage SQL : WHERE, LIKE, COUNT, ORDER BY, DISTINCT,  DESC et JOIN\n",
    "    \n",
    "- Voici une requête qui doit me donner le nom, prénom et le statut de tous les élèves qui habitent à Brest, autrement dit, qui ont le code postal 29200.\n",
    "<div>"
   ]
  },
  {
   "cell_type": "markdown",
   "metadata": {},
   "source": [
    "<div class=\"alert alert-warning\">\n",
    "<img src=\"Images/CR.png\" alt=\"logo CR\" width=5% align=right>\n",
    "\n",
    "- Que fait cette requête ? Détailler le rôle de chaque clause.\n",
    "<div>"
   ]
  },
  {
   "cell_type": "code",
   "execution_count": 38,
   "metadata": {
    "ExecuteTime": {
     "end_time": "2021-12-07T07:31:46.717079Z",
     "start_time": "2021-12-07T07:31:46.707740Z"
    }
   },
   "outputs": [
    {
     "name": "stdout",
     "output_type": "stream",
     "text": [
      "Done.\n"
     ]
    },
    {
     "data": {
      "text/html": [
       "<table>\n",
       "    <tr>\n",
       "        <th>nom</th>\n",
       "        <th>prenom</th>\n",
       "    </tr>\n",
       "    <tr>\n",
       "        <td>Durand</td>\n",
       "        <td>Mathis</td>\n",
       "    </tr>\n",
       "    <tr>\n",
       "        <td>Chavin</td>\n",
       "        <td>Hassan</td>\n",
       "    </tr>\n",
       "    <tr>\n",
       "        <td>Savino</td>\n",
       "        <td>Manel</td>\n",
       "    </tr>\n",
       "</table>"
      ],
      "text/plain": [
       "[('Durand', 'Mathis'), ('Chavin', 'Hassan'), ('Savino', 'Manel')]"
      ]
     },
     "execution_count": 38,
     "metadata": {},
     "output_type": "execute_result"
    }
   ],
   "source": [
    "%%sql sqlite://\n",
    "    \n",
    "SELECT nom, prenom FROM ELEVE WHERE nom LIKE 'C%' OR prenom LIKE 'M%';"
   ]
  },
  {
   "cell_type": "markdown",
   "metadata": {},
   "source": [
    "nom LIKE 'C%' --> Le nom commence par C\n",
    "\n",
    "OU\n",
    "\n",
    "prenom LIKE 'M%'; --> Le prénom commence par M"
   ]
  },
  {
   "cell_type": "markdown",
   "metadata": {},
   "source": [
    "<div class=\"alert alert-warning\">\n",
    "<img src=\"Images/CR.png\" alt=\"logo CR\" width=5% align=right>\n",
    "\n",
    "- Par analogie avec la précédente, formuler une requête qui donne la liste des élèves (nom et prénom) dont le nom commence par D et qui sont externes.\n",
    "<div>"
   ]
  },
  {
   "cell_type": "code",
   "execution_count": 49,
   "metadata": {
    "ExecuteTime": {
     "end_time": "2021-12-07T07:34:43.250057Z",
     "start_time": "2021-12-07T07:34:43.240091Z"
    }
   },
   "outputs": [
    {
     "name": "stdout",
     "output_type": "stream",
     "text": [
      "Done.\n"
     ]
    },
    {
     "data": {
      "text/html": [
       "<table>\n",
       "    <tr>\n",
       "        <th>nom</th>\n",
       "        <th>prenom</th>\n",
       "    </tr>\n",
       "    <tr>\n",
       "        <td>Durand</td>\n",
       "        <td>Mathis</td>\n",
       "    </tr>\n",
       "</table>"
      ],
      "text/plain": [
       "[('Durand', 'Mathis')]"
      ]
     },
     "execution_count": 49,
     "metadata": {},
     "output_type": "execute_result"
    }
   ],
   "source": [
    "%%sql sqlite://\n",
    "SELECT nom, prenom FROM ELEVE WHERE nom LIKE \"D%\" AND statut=\"externe\""
   ]
  },
  {
   "cell_type": "markdown",
   "metadata": {},
   "source": [
    "<div class=\"alert alert-success\">\n",
    "     \n",
    "- Voici une requête qui doit me donner le nombre d'élèves qui habitent à Brest.\n",
    "    \n",
    "Remarque : D'autres fonctions de groupe existent : AVG, SUM, MIN, MAX (à vous de tester et d'identifer la fonction)\n",
    "<div>"
   ]
  },
  {
   "cell_type": "code",
   "execution_count": 50,
   "metadata": {
    "ExecuteTime": {
     "end_time": "2021-12-07T07:35:00.747350Z",
     "start_time": "2021-12-07T07:35:00.736995Z"
    }
   },
   "outputs": [
    {
     "name": "stdout",
     "output_type": "stream",
     "text": [
      "Done.\n"
     ]
    },
    {
     "data": {
      "text/html": [
       "<table>\n",
       "    <tr>\n",
       "        <th>COUNT(*)</th>\n",
       "    </tr>\n",
       "    <tr>\n",
       "        <td>3</td>\n",
       "    </tr>\n",
       "</table>"
      ],
      "text/plain": [
       "[(3,)]"
      ]
     },
     "execution_count": 50,
     "metadata": {},
     "output_type": "execute_result"
    }
   ],
   "source": [
    "%%sql sqlite://\n",
    "    \n",
    "SELECT COUNT(*) FROM ELEVE WHERE code_postal=29200;"
   ]
  },
  {
   "cell_type": "markdown",
   "metadata": {},
   "source": [
    "<div class=\"alert alert-success\">\n",
    "     \n",
    "- Voici une requête qui me donne le nom et prénom des élèves par ordre croissant (lexicographique). Pour l'avoir dans l'ordre décroissant, il faut rajouter DESC à la fin de la requête.\n",
    "<div>"
   ]
  },
  {
   "cell_type": "code",
   "execution_count": 53,
   "metadata": {
    "ExecuteTime": {
     "end_time": "2021-12-07T07:35:25.287934Z",
     "start_time": "2021-12-07T07:35:25.278230Z"
    }
   },
   "outputs": [
    {
     "name": "stdout",
     "output_type": "stream",
     "text": [
      "Done.\n"
     ]
    },
    {
     "data": {
      "text/html": [
       "<table>\n",
       "    <tr>\n",
       "        <th>nom</th>\n",
       "        <th>prenom</th>\n",
       "    </tr>\n",
       "    <tr>\n",
       "        <td>Bourgon</td>\n",
       "        <td>Élise</td>\n",
       "    </tr>\n",
       "    <tr>\n",
       "        <td>Chavin</td>\n",
       "        <td>Hassan</td>\n",
       "    </tr>\n",
       "    <tr>\n",
       "        <td>Durand</td>\n",
       "        <td>Mathis</td>\n",
       "    </tr>\n",
       "    <tr>\n",
       "        <td>Fox</td>\n",
       "        <td>Titouan</td>\n",
       "    </tr>\n",
       "    <tr>\n",
       "        <td>Gontran</td>\n",
       "        <td>Élouan</td>\n",
       "    </tr>\n",
       "    <tr>\n",
       "        <td>Jacq</td>\n",
       "        <td>Christine</td>\n",
       "    </tr>\n",
       "    <tr>\n",
       "        <td>Majo</td>\n",
       "        <td>Aya</td>\n",
       "    </tr>\n",
       "    <tr>\n",
       "        <td>Marvaux</td>\n",
       "        <td>Éloi</td>\n",
       "    </tr>\n",
       "    <tr>\n",
       "        <td>Savino</td>\n",
       "        <td>Manel</td>\n",
       "    </tr>\n",
       "    <tr>\n",
       "        <td>Tripaux</td>\n",
       "        <td>Jean</td>\n",
       "    </tr>\n",
       "</table>"
      ],
      "text/plain": [
       "[('Bourgon', 'Élise'),\n",
       " ('Chavin', 'Hassan'),\n",
       " ('Durand', 'Mathis'),\n",
       " ('Fox', 'Titouan'),\n",
       " ('Gontran', 'Élouan'),\n",
       " ('Jacq', 'Christine'),\n",
       " ('Majo', 'Aya'),\n",
       " ('Marvaux', 'Éloi'),\n",
       " ('Savino', 'Manel'),\n",
       " ('Tripaux', 'Jean')]"
      ]
     },
     "execution_count": 53,
     "metadata": {},
     "output_type": "execute_result"
    }
   ],
   "source": [
    "%%sql sqlite://\n",
    "    \n",
    "SELECT nom, prenom FROM ELEVE ORDER BY nom;"
   ]
  },
  {
   "cell_type": "markdown",
   "metadata": {},
   "source": [
    "<div class=\"alert alert-warning\">\n",
    "<img src=\"Images/CR.png\" alt=\"logo CR\" width=5% align=right>\n",
    "\n",
    "- Formuler une requête qui me donne la liste des codes postaux de la table ELEVE dans l'ordre croissant.\n",
    "\n",
    "J'aurais pu les obtenir et sans doublons à partir de la table VILLE. Cela va nous permettre d'introduire une nouvelle clause : DISTINCT.\n",
    "    \n",
    "- Placer la clause DISTINCT après le SELECT et constater la différence.\n",
    "<div>"
   ]
  },
  {
   "cell_type": "code",
   "execution_count": 57,
   "metadata": {
    "ExecuteTime": {
     "end_time": "2021-12-07T07:37:38.897671Z",
     "start_time": "2021-12-07T07:37:38.888433Z"
    }
   },
   "outputs": [
    {
     "name": "stdout",
     "output_type": "stream",
     "text": [
      "Done.\n"
     ]
    },
    {
     "data": {
      "text/html": [
       "<table>\n",
       "    <tr>\n",
       "        <th>code_postal</th>\n",
       "    </tr>\n",
       "    <tr>\n",
       "        <td>29160</td>\n",
       "    </tr>\n",
       "    <tr>\n",
       "        <td>29200</td>\n",
       "    </tr>\n",
       "    <tr>\n",
       "        <td>29200</td>\n",
       "    </tr>\n",
       "    <tr>\n",
       "        <td>29200</td>\n",
       "    </tr>\n",
       "    <tr>\n",
       "        <td>29290</td>\n",
       "    </tr>\n",
       "    <tr>\n",
       "        <td>29490</td>\n",
       "    </tr>\n",
       "    <tr>\n",
       "        <td>29490</td>\n",
       "    </tr>\n",
       "    <tr>\n",
       "        <td>29590</td>\n",
       "    </tr>\n",
       "    <tr>\n",
       "        <td>29820</td>\n",
       "    </tr>\n",
       "    <tr>\n",
       "        <td>29830</td>\n",
       "    </tr>\n",
       "</table>"
      ],
      "text/plain": [
       "[(29160,),\n",
       " (29200,),\n",
       " (29200,),\n",
       " (29200,),\n",
       " (29290,),\n",
       " (29490,),\n",
       " (29490,),\n",
       " (29590,),\n",
       " (29820,),\n",
       " (29830,)]"
      ]
     },
     "execution_count": 57,
     "metadata": {},
     "output_type": "execute_result"
    }
   ],
   "source": [
    "%%sql sqlite://\n",
    "\n",
    "SELECT code_postal FROM ELEVE ORDER BY code_postal"
   ]
  },
  {
   "cell_type": "code",
   "execution_count": 58,
   "metadata": {
    "ExecuteTime": {
     "end_time": "2021-12-07T07:37:42.032667Z",
     "start_time": "2021-12-07T07:37:42.019900Z"
    }
   },
   "outputs": [
    {
     "name": "stdout",
     "output_type": "stream",
     "text": [
      "Done.\n"
     ]
    },
    {
     "data": {
      "text/html": [
       "<table>\n",
       "    <tr>\n",
       "        <th>code_postal</th>\n",
       "    </tr>\n",
       "    <tr>\n",
       "        <td>29160</td>\n",
       "    </tr>\n",
       "    <tr>\n",
       "        <td>29200</td>\n",
       "    </tr>\n",
       "    <tr>\n",
       "        <td>29200</td>\n",
       "    </tr>\n",
       "    <tr>\n",
       "        <td>29200</td>\n",
       "    </tr>\n",
       "    <tr>\n",
       "        <td>29290</td>\n",
       "    </tr>\n",
       "    <tr>\n",
       "        <td>29490</td>\n",
       "    </tr>\n",
       "    <tr>\n",
       "        <td>29490</td>\n",
       "    </tr>\n",
       "    <tr>\n",
       "        <td>29590</td>\n",
       "    </tr>\n",
       "    <tr>\n",
       "        <td>29820</td>\n",
       "    </tr>\n",
       "    <tr>\n",
       "        <td>29830</td>\n",
       "    </tr>\n",
       "</table>"
      ],
      "text/plain": [
       "[(29160,),\n",
       " (29200,),\n",
       " (29200,),\n",
       " (29200,),\n",
       " (29290,),\n",
       " (29490,),\n",
       " (29490,),\n",
       " (29590,),\n",
       " (29820,),\n",
       " (29830,)]"
      ]
     },
     "execution_count": 58,
     "metadata": {},
     "output_type": "execute_result"
    }
   ],
   "source": [
    "%%sql sqlite://\n",
    "\n",
    "SELECT code_postal FROM ELEVE ORDER BY code_postal"
   ]
  },
  {
   "cell_type": "markdown",
   "metadata": {},
   "source": [
    "<div class=\"alert alert-success\">\n",
    "     \n",
    "Nous allons maintenant aborder des requêtes qui vont porter sur les 2 tables pour réaliser des jointures.\n",
    "    \n",
    "- Voici une premiere requête qui me donne le nom et prénom des élèves et la ville de résidence écrite de manière \"classique\", puis une seconde exploitant le fait que l'attribut \"code_postal\" est identique dans les 2 tables.\n",
    "    \n",
    "Remarque : Lorsqu'il y a ambiguïté sur le nom de l'attribut, on le fait précéder du nom de la table. attribut.\n",
    "<div>"
   ]
  },
  {
   "cell_type": "code",
   "execution_count": 60,
   "metadata": {
    "ExecuteTime": {
     "end_time": "2021-12-07T07:42:33.327026Z",
     "start_time": "2021-12-07T07:42:33.313271Z"
    }
   },
   "outputs": [
    {
     "name": "stdout",
     "output_type": "stream",
     "text": [
      "Done.\n"
     ]
    },
    {
     "data": {
      "text/html": [
       "<table>\n",
       "    <tr>\n",
       "        <th>nom</th>\n",
       "        <th>prenom</th>\n",
       "        <th>libelle_ville</th>\n",
       "    </tr>\n",
       "    <tr>\n",
       "        <td>Bourgon</td>\n",
       "        <td>Élise</td>\n",
       "        <td>Guipavas</td>\n",
       "    </tr>\n",
       "    <tr>\n",
       "        <td>Jacq</td>\n",
       "        <td>Christine</td>\n",
       "        <td>Guilers</td>\n",
       "    </tr>\n",
       "    <tr>\n",
       "        <td>Durand</td>\n",
       "        <td>Mathis</td>\n",
       "        <td>Brest</td>\n",
       "    </tr>\n",
       "    <tr>\n",
       "        <td>Gontran</td>\n",
       "        <td>Élouan</td>\n",
       "        <td>Saint Renan</td>\n",
       "    </tr>\n",
       "    <tr>\n",
       "        <td>Fox</td>\n",
       "        <td>Titouan</td>\n",
       "        <td>Guipavas</td>\n",
       "    </tr>\n",
       "    <tr>\n",
       "        <td>Majo</td>\n",
       "        <td>Aya</td>\n",
       "        <td>Brest</td>\n",
       "    </tr>\n",
       "    <tr>\n",
       "        <td>Tripaux</td>\n",
       "        <td>Jean</td>\n",
       "        <td>Crozon</td>\n",
       "    </tr>\n",
       "    <tr>\n",
       "        <td>Chavin</td>\n",
       "        <td>Hassan</td>\n",
       "        <td>Le Faou </td>\n",
       "    </tr>\n",
       "    <tr>\n",
       "        <td>Marvaux</td>\n",
       "        <td>Éloi</td>\n",
       "        <td>Brest</td>\n",
       "    </tr>\n",
       "    <tr>\n",
       "        <td>Savino</td>\n",
       "        <td>Manel</td>\n",
       "        <td>Ploudalmézeau</td>\n",
       "    </tr>\n",
       "</table>"
      ],
      "text/plain": [
       "[('Bourgon', 'Élise', 'Guipavas'),\n",
       " ('Jacq', 'Christine', 'Guilers'),\n",
       " ('Durand', 'Mathis', 'Brest'),\n",
       " ('Gontran', 'Élouan', 'Saint Renan'),\n",
       " ('Fox', 'Titouan', 'Guipavas'),\n",
       " ('Majo', 'Aya', 'Brest'),\n",
       " ('Tripaux', 'Jean', 'Crozon'),\n",
       " ('Chavin', 'Hassan', 'Le Faou '),\n",
       " ('Marvaux', 'Éloi', 'Brest'),\n",
       " ('Savino', 'Manel', 'Ploudalmézeau')]"
      ]
     },
     "execution_count": 60,
     "metadata": {},
     "output_type": "execute_result"
    }
   ],
   "source": [
    "%%sql sqlite://\n",
    "    \n",
    "SELECT nom, prenom, libelle_ville FROM ELEVE JOIN VILLE ON ELEVE.code_postal = VILLE.code_postal;"
   ]
  },
  {
   "cell_type": "markdown",
   "metadata": {},
   "source": [
    "#### 4-6 Insertion et mise à jour de la base de données"
   ]
  },
  {
   "cell_type": "markdown",
   "metadata": {},
   "source": [
    "<div class=\"alert alert-success\">\n",
    "<img src=\"Images/warning.png\" alt=\"Attention\" width=5% align=left>\n",
    "     \n",
    "Il faudra manipuler les requêtes qui vont suivre avec précaution car elles peuvent effacer des données, mais aussi altérer la cohérence des données.\n",
    "    \n",
    "**Conseil** : tester votre requête avec la clause SELECT. Si vous obtenez les données que vous voulez supprimer ou modifier, modifier la clause par DELETE ou DELETE.\n",
    "<div>"
   ]
  },
  {
   "cell_type": "markdown",
   "metadata": {},
   "source": [
    "<div class=\"alert alert-success\">\n",
    "     \n",
    "- Voici une requête insere dans la table VILLE, le code postal et le libellé de la ville LE CONQUET : 29232.\n",
    "<div>"
   ]
  },
  {
   "cell_type": "code",
   "execution_count": 14,
   "metadata": {
    "ExecuteTime": {
     "end_time": "2021-12-07T08:25:12.164315Z",
     "start_time": "2021-12-07T08:25:12.152283Z"
    }
   },
   "outputs": [
    {
     "name": "stdout",
     "output_type": "stream",
     "text": [
      "1 rows affected.\n"
     ]
    },
    {
     "data": {
      "text/plain": [
       "[]"
      ]
     },
     "execution_count": 14,
     "metadata": {},
     "output_type": "execute_result"
    }
   ],
   "source": [
    "%%sql sqlite://\n",
    "    \n",
    "INSERT INTO VILLE (code_postal, libelle_ville) VALUES (29232,'Le Conquet');"
   ]
  },
  {
   "cell_type": "markdown",
   "metadata": {},
   "source": [
    "<div class=\"alert alert-warning\">\n",
    "<img src=\"Images/CR.png\" alt=\"logo CR\" width=5% align=right>\n",
    "\n",
    "- Formuler une requête pour vérifier l'insertion.\n",
    "<div>"
   ]
  },
  {
   "cell_type": "code",
   "execution_count": 65,
   "metadata": {
    "ExecuteTime": {
     "end_time": "2021-12-07T07:46:16.227777Z",
     "start_time": "2021-12-07T07:46:16.217679Z"
    }
   },
   "outputs": [
    {
     "name": "stdout",
     "output_type": "stream",
     "text": [
      "Done.\n"
     ]
    },
    {
     "data": {
      "text/html": [
       "<table>\n",
       "    <tr>\n",
       "        <th>libelle_ville</th>\n",
       "    </tr>\n",
       "    <tr>\n",
       "        <td>Le Conquet</td>\n",
       "    </tr>\n",
       "</table>"
      ],
      "text/plain": [
       "[('Le Conquet',)]"
      ]
     },
     "execution_count": 65,
     "metadata": {},
     "output_type": "execute_result"
    }
   ],
   "source": [
    "%%sql sqlite://\n",
    "\n",
    "SELECT libelle_ville FROM VILLE WHERE code_postal=29232"
   ]
  },
  {
   "cell_type": "markdown",
   "metadata": {},
   "source": [
    "<div class=\"alert alert-success\">\n",
    "\n",
    "Hélas, je me suis trompé de code postal. Il s'agissait du 29217 !\n",
    "\n",
    "- Voici une requête qui devrait rectifier l'erreur.\n",
    "<div>"
   ]
  },
  {
   "cell_type": "code",
   "execution_count": 15,
   "metadata": {
    "ExecuteTime": {
     "end_time": "2021-12-07T08:25:14.835733Z",
     "start_time": "2021-12-07T08:25:14.825764Z"
    }
   },
   "outputs": [
    {
     "name": "stdout",
     "output_type": "stream",
     "text": [
      "1 rows affected.\n"
     ]
    },
    {
     "data": {
      "text/plain": [
       "[]"
      ]
     },
     "execution_count": 15,
     "metadata": {},
     "output_type": "execute_result"
    }
   ],
   "source": [
    "%%sql sqlite://\n",
    "    \n",
    "UPDATE VILLE SET code_postal=29217 WHERE libelle_ville='Le Conquet';"
   ]
  },
  {
   "cell_type": "markdown",
   "metadata": {},
   "source": [
    "<div class=\"alert alert-warning\">\n",
    "<img src=\"Images/CR.png\" alt=\"logo CR\" width=5% align=right>\n",
    "\n",
    "- Formuler une requête pour vérifier la modification.\n",
    "<div>"
   ]
  },
  {
   "cell_type": "code",
   "execution_count": 67,
   "metadata": {
    "ExecuteTime": {
     "end_time": "2021-12-07T07:46:36.045077Z",
     "start_time": "2021-12-07T07:46:36.036279Z"
    }
   },
   "outputs": [
    {
     "name": "stdout",
     "output_type": "stream",
     "text": [
      "Done.\n"
     ]
    },
    {
     "data": {
      "text/html": [
       "<table>\n",
       "    <tr>\n",
       "        <th>libelle_ville</th>\n",
       "    </tr>\n",
       "    <tr>\n",
       "        <td>Le Conquet</td>\n",
       "    </tr>\n",
       "</table>"
      ],
      "text/plain": [
       "[('Le Conquet',)]"
      ]
     },
     "execution_count": 67,
     "metadata": {},
     "output_type": "execute_result"
    }
   ],
   "source": [
    "%%sql sqlite://\n",
    "\n",
    "SELECT libelle_ville FROM VILLE WHERE code_postal=29217"
   ]
  },
  {
   "cell_type": "markdown",
   "metadata": {},
   "source": [
    "<div class=\"alert alert-warning\">\n",
    "<img src=\"Images/CR.png\" alt=\"logo CR\" width=5% align=right>\n",
    "\n",
    "    \n",
    "Fox titouan a déménagé sur Le Conquet. Il choisit de venir à l'internat de l'école.\n",
    "    \n",
    "- Formuler une requête unique pour procéder aux modifications.\n",
    "<div>"
   ]
  },
  {
   "cell_type": "code",
   "execution_count": 16,
   "metadata": {
    "ExecuteTime": {
     "end_time": "2021-12-07T08:25:17.371388Z",
     "start_time": "2021-12-07T08:25:17.363149Z"
    }
   },
   "outputs": [
    {
     "name": "stdout",
     "output_type": "stream",
     "text": [
      "1 rows affected.\n"
     ]
    },
    {
     "data": {
      "text/plain": [
       "[]"
      ]
     },
     "execution_count": 16,
     "metadata": {},
     "output_type": "execute_result"
    }
   ],
   "source": [
    "%%sql sqlite://\n",
    "\n",
    "UPDATE ELEVE SET code_postal=29217, statut='interne' WHERE nom='Fox' AND prenom ='Titouan'"
   ]
  },
  {
   "cell_type": "markdown",
   "metadata": {},
   "source": [
    "<div class=\"alert alert-success\">\n",
    "\n",
    "Je m'aperçois un peu tardivement que pour la gestion de l'internat, il aurait été souhaitable d'avoir le sexe de la personne.\n",
    "\n",
    "- Voici une requête va permettre de rajouter un attribut \"sexe\" à la table ELEVES.\n",
    "<div>"
   ]
  },
  {
   "cell_type": "code",
   "execution_count": 17,
   "metadata": {
    "ExecuteTime": {
     "end_time": "2021-12-07T08:25:19.275488Z",
     "start_time": "2021-12-07T08:25:19.263652Z"
    }
   },
   "outputs": [
    {
     "name": "stdout",
     "output_type": "stream",
     "text": [
      "Done.\n"
     ]
    },
    {
     "data": {
      "text/plain": [
       "[]"
      ]
     },
     "execution_count": 17,
     "metadata": {},
     "output_type": "execute_result"
    }
   ],
   "source": [
    "%%sql sqlite://\n",
    "    \n",
    "ALTER TABLE ELEVE ADD COLUMN sexe TEXT;"
   ]
  },
  {
   "cell_type": "markdown",
   "metadata": {},
   "source": [
    "<div class=\"alert alert-warning\">\n",
    "<img src=\"Images/CR.png\" alt=\"logo CR\" width=5% align=right>\n",
    "\n",
    "- Formuler une requête pour constater la modification et le type de donnée.\n",
    "<div>"
   ]
  },
  {
   "cell_type": "code",
   "execution_count": 77,
   "metadata": {
    "ExecuteTime": {
     "end_time": "2021-12-07T07:58:57.068079Z",
     "start_time": "2021-12-07T07:58:57.056128Z"
    }
   },
   "outputs": [
    {
     "name": "stdout",
     "output_type": "stream",
     "text": [
      "Done.\n"
     ]
    },
    {
     "data": {
      "text/html": [
       "<table>\n",
       "    <tr>\n",
       "        <th>Id_eleve</th>\n",
       "        <th>nom</th>\n",
       "        <th>prenom</th>\n",
       "        <th>statut</th>\n",
       "        <th>code_postal</th>\n",
       "        <th>sexe</th>\n",
       "    </tr>\n",
       "    <tr>\n",
       "        <td>1</td>\n",
       "        <td>Bourgon</td>\n",
       "        <td>Élise</td>\n",
       "        <td>demi-pens</td>\n",
       "        <td>29490</td>\n",
       "        <td>None</td>\n",
       "    </tr>\n",
       "    <tr>\n",
       "        <td>2</td>\n",
       "        <td>Jacq</td>\n",
       "        <td>Christine</td>\n",
       "        <td>demi-pens</td>\n",
       "        <td>29820</td>\n",
       "        <td>None</td>\n",
       "    </tr>\n",
       "    <tr>\n",
       "        <td>3</td>\n",
       "        <td>Durand</td>\n",
       "        <td>Mathis</td>\n",
       "        <td>externe</td>\n",
       "        <td>29200</td>\n",
       "        <td>None</td>\n",
       "    </tr>\n",
       "    <tr>\n",
       "        <td>4</td>\n",
       "        <td>Gontran</td>\n",
       "        <td>Élouan</td>\n",
       "        <td>demi-pens</td>\n",
       "        <td>29290</td>\n",
       "        <td>None</td>\n",
       "    </tr>\n",
       "    <tr>\n",
       "        <td>5</td>\n",
       "        <td>Fox</td>\n",
       "        <td>Titouan</td>\n",
       "        <td>interne</td>\n",
       "        <td>29217</td>\n",
       "        <td>None</td>\n",
       "    </tr>\n",
       "    <tr>\n",
       "        <td>6</td>\n",
       "        <td>Majo</td>\n",
       "        <td>Aya</td>\n",
       "        <td>externe</td>\n",
       "        <td>29200</td>\n",
       "        <td>None</td>\n",
       "    </tr>\n",
       "    <tr>\n",
       "        <td>7</td>\n",
       "        <td>Tripaux</td>\n",
       "        <td>Jean</td>\n",
       "        <td>interne</td>\n",
       "        <td>29160</td>\n",
       "        <td>None</td>\n",
       "    </tr>\n",
       "    <tr>\n",
       "        <td>8</td>\n",
       "        <td>Chavin</td>\n",
       "        <td>Hassan</td>\n",
       "        <td>interne</td>\n",
       "        <td>29590</td>\n",
       "        <td>None</td>\n",
       "    </tr>\n",
       "    <tr>\n",
       "        <td>9</td>\n",
       "        <td>Marvaux</td>\n",
       "        <td>Éloi</td>\n",
       "        <td>externe</td>\n",
       "        <td>29200</td>\n",
       "        <td>None</td>\n",
       "    </tr>\n",
       "    <tr>\n",
       "        <td>10</td>\n",
       "        <td>Savino</td>\n",
       "        <td>Manel</td>\n",
       "        <td>interne</td>\n",
       "        <td>29830</td>\n",
       "        <td>None</td>\n",
       "    </tr>\n",
       "</table>"
      ],
      "text/plain": [
       "[(1, 'Bourgon', 'Élise', 'demi-pens', 29490, None),\n",
       " (2, 'Jacq', 'Christine', 'demi-pens', 29820, None),\n",
       " (3, 'Durand', 'Mathis', 'externe', 29200, None),\n",
       " (4, 'Gontran', 'Élouan', 'demi-pens', 29290, None),\n",
       " (5, 'Fox', 'Titouan', 'interne', 29217, None),\n",
       " (6, 'Majo', 'Aya', 'externe', 29200, None),\n",
       " (7, 'Tripaux', 'Jean', 'interne', 29160, None),\n",
       " (8, 'Chavin', 'Hassan', 'interne', 29590, None),\n",
       " (9, 'Marvaux', 'Éloi', 'externe', 29200, None),\n",
       " (10, 'Savino', 'Manel', 'interne', 29830, None)]"
      ]
     },
     "execution_count": 77,
     "metadata": {},
     "output_type": "execute_result"
    }
   ],
   "source": [
    "%%sql sqlite://\n",
    "\n",
    "SELECT * FROM ELEVE"
   ]
  },
  {
   "cell_type": "markdown",
   "metadata": {},
   "source": [
    "<div class=\"alert alert-warning\">\n",
    "<img src=\"Images/CR.png\" alt=\"logo CR\" width=5% align=right>\n",
    "\n",
    "    \n",
    "Majo aya a déménagé et n'est plus au lycée. Il faut supprimer son enregistrement.\n",
    "    \n",
    "- Voici la requête qui convient.\n",
    "<div>"
   ]
  },
  {
   "cell_type": "code",
   "execution_count": 18,
   "metadata": {
    "ExecuteTime": {
     "end_time": "2021-12-07T08:25:22.257610Z",
     "start_time": "2021-12-07T08:25:22.249382Z"
    }
   },
   "outputs": [
    {
     "name": "stdout",
     "output_type": "stream",
     "text": [
      "1 rows affected.\n"
     ]
    },
    {
     "data": {
      "text/plain": [
       "[]"
      ]
     },
     "execution_count": 18,
     "metadata": {},
     "output_type": "execute_result"
    }
   ],
   "source": [
    "%%sql sqlite://\n",
    "    \n",
    "DELETE FROM ELEVE WHERE nom='Majo' AND prenom='Aya' AND Id_eleve=6"
   ]
  },
  {
   "cell_type": "markdown",
   "metadata": {},
   "source": [
    "<div class=\"alert alert-warning\">\n",
    "<img src=\"Images/CR.png\" alt=\"logo CR\" width=5% align=right>\n",
    "\n",
    "- Formuler une requête pour constater la modification et le type de donnée.\n",
    "<div>"
   ]
  },
  {
   "cell_type": "code",
   "execution_count": 82,
   "metadata": {
    "ExecuteTime": {
     "end_time": "2021-12-07T08:00:44.252638Z",
     "start_time": "2021-12-07T08:00:44.243074Z"
    }
   },
   "outputs": [
    {
     "name": "stdout",
     "output_type": "stream",
     "text": [
      "Done.\n"
     ]
    },
    {
     "data": {
      "text/html": [
       "<table>\n",
       "    <tr>\n",
       "        <th>Id_eleve</th>\n",
       "        <th>nom</th>\n",
       "        <th>prenom</th>\n",
       "        <th>statut</th>\n",
       "        <th>code_postal</th>\n",
       "        <th>sexe</th>\n",
       "    </tr>\n",
       "</table>"
      ],
      "text/plain": [
       "[]"
      ]
     },
     "execution_count": 82,
     "metadata": {},
     "output_type": "execute_result"
    }
   ],
   "source": [
    "%%sql sqlite://\n",
    "\n",
    "SELECT * FROM ELEVE WHERE nom='Majo' AND prenom='Aya'"
   ]
  },
  {
   "cell_type": "markdown",
   "metadata": {},
   "source": [
    "<div class=\"alert alert-warning\">\n",
    "<img src=\"Images/CR.png\" alt=\"logo CR\" width=5% align=right>\n",
    "\n",
    "Un nouvel élève arrive au lycée. Il s'agit de Monsieur Kappra Marcel qui habite à Saint Renan et qui sera externe.\n",
    "\n",
    "- Formuler une requête pour insérer cet enregistrement ;\n",
    "- Profiter pour faire une mise à jour des enregistrements en indiquant le sexe des autres élèves.\n",
    "<div>"
   ]
  },
  {
   "cell_type": "code",
   "execution_count": 21,
   "metadata": {
    "ExecuteTime": {
     "end_time": "2021-12-07T08:25:28.908045Z",
     "start_time": "2021-12-07T08:25:28.895486Z"
    }
   },
   "outputs": [
    {
     "name": "stdout",
     "output_type": "stream",
     "text": [
      "1 rows affected.\n"
     ]
    },
    {
     "data": {
      "text/plain": [
       "[]"
      ]
     },
     "execution_count": 21,
     "metadata": {},
     "output_type": "execute_result"
    }
   ],
   "source": [
    "%%sql sqlite://\n",
    "    \n",
    "INSERT INTO ELEVE (Id_eleve, nom, prenom, statut, code_postal, sexe) VALUES (6, 'KAPPRA', 'Marcel', 'externe', 29280, 'M');"
   ]
  },
  {
   "cell_type": "code",
   "execution_count": 20,
   "metadata": {
    "ExecuteTime": {
     "end_time": "2021-12-07T08:25:27.343450Z",
     "start_time": "2021-12-07T08:25:27.333383Z"
    }
   },
   "outputs": [
    {
     "name": "stdout",
     "output_type": "stream",
     "text": [
      "1 rows affected.\n"
     ]
    },
    {
     "data": {
      "text/plain": [
       "[]"
      ]
     },
     "execution_count": 20,
     "metadata": {},
     "output_type": "execute_result"
    }
   ],
   "source": [
    "%%sql sqlite://\n",
    "    \n",
    "DELETE FROM ELEVE WHERE nom='KAPPRA'"
   ]
  },
  {
   "cell_type": "code",
   "execution_count": 22,
   "metadata": {
    "ExecuteTime": {
     "end_time": "2021-12-07T08:25:31.653653Z",
     "start_time": "2021-12-07T08:25:31.644385Z"
    }
   },
   "outputs": [
    {
     "name": "stdout",
     "output_type": "stream",
     "text": [
      "8 rows affected.\n"
     ]
    },
    {
     "data": {
      "text/plain": [
       "[]"
      ]
     },
     "execution_count": 22,
     "metadata": {},
     "output_type": "execute_result"
    }
   ],
   "source": [
    "%%sql sqlite://\n",
    "    \n",
    "UPDATE ELEVE SET sexe='M' WHERE Id_eleve=3 OR Id_eleve=4 OR Id_eleve=5 OR Id_eleve=6 OR Id_eleve=7 OR Id_eleve=8 OR Id_eleve=9 OR Id_eleve=10"
   ]
  },
  {
   "cell_type": "code",
   "execution_count": 24,
   "metadata": {
    "ExecuteTime": {
     "end_time": "2021-12-07T08:26:07.676234Z",
     "start_time": "2021-12-07T08:26:07.664559Z"
    }
   },
   "outputs": [
    {
     "name": "stdout",
     "output_type": "stream",
     "text": [
      "2 rows affected.\n"
     ]
    },
    {
     "data": {
      "text/plain": [
       "[]"
      ]
     },
     "execution_count": 24,
     "metadata": {},
     "output_type": "execute_result"
    }
   ],
   "source": [
    "%%sql sqlite://\n",
    "    \n",
    "UPDATE ELEVE SET sexe='F' WHERE Id_eleve=1 OR Id_eleve=2"
   ]
  },
  {
   "cell_type": "code",
   "execution_count": 25,
   "metadata": {
    "ExecuteTime": {
     "end_time": "2021-12-07T08:26:09.659063Z",
     "start_time": "2021-12-07T08:26:09.647852Z"
    }
   },
   "outputs": [
    {
     "name": "stdout",
     "output_type": "stream",
     "text": [
      "Done.\n"
     ]
    },
    {
     "data": {
      "text/html": [
       "<table>\n",
       "    <tr>\n",
       "        <th>Id_eleve</th>\n",
       "        <th>nom</th>\n",
       "        <th>prenom</th>\n",
       "        <th>statut</th>\n",
       "        <th>code_postal</th>\n",
       "        <th>sexe</th>\n",
       "    </tr>\n",
       "    <tr>\n",
       "        <td>1</td>\n",
       "        <td>Bourgon</td>\n",
       "        <td>Élise</td>\n",
       "        <td>demi-pens</td>\n",
       "        <td>29490</td>\n",
       "        <td>F</td>\n",
       "    </tr>\n",
       "    <tr>\n",
       "        <td>2</td>\n",
       "        <td>Jacq</td>\n",
       "        <td>Christine</td>\n",
       "        <td>demi-pens</td>\n",
       "        <td>29820</td>\n",
       "        <td>F</td>\n",
       "    </tr>\n",
       "    <tr>\n",
       "        <td>3</td>\n",
       "        <td>Durand</td>\n",
       "        <td>Mathis</td>\n",
       "        <td>externe</td>\n",
       "        <td>29200</td>\n",
       "        <td>M</td>\n",
       "    </tr>\n",
       "    <tr>\n",
       "        <td>4</td>\n",
       "        <td>Gontran</td>\n",
       "        <td>Élouan</td>\n",
       "        <td>demi-pens</td>\n",
       "        <td>29290</td>\n",
       "        <td>M</td>\n",
       "    </tr>\n",
       "    <tr>\n",
       "        <td>5</td>\n",
       "        <td>Fox</td>\n",
       "        <td>Titouan</td>\n",
       "        <td>interne</td>\n",
       "        <td>29217</td>\n",
       "        <td>M</td>\n",
       "    </tr>\n",
       "    <tr>\n",
       "        <td>6</td>\n",
       "        <td>KAPPRA</td>\n",
       "        <td>Marcel</td>\n",
       "        <td>externe</td>\n",
       "        <td>29280</td>\n",
       "        <td>M</td>\n",
       "    </tr>\n",
       "    <tr>\n",
       "        <td>7</td>\n",
       "        <td>Tripaux</td>\n",
       "        <td>Jean</td>\n",
       "        <td>interne</td>\n",
       "        <td>29160</td>\n",
       "        <td>M</td>\n",
       "    </tr>\n",
       "    <tr>\n",
       "        <td>8</td>\n",
       "        <td>Chavin</td>\n",
       "        <td>Hassan</td>\n",
       "        <td>interne</td>\n",
       "        <td>29590</td>\n",
       "        <td>M</td>\n",
       "    </tr>\n",
       "    <tr>\n",
       "        <td>9</td>\n",
       "        <td>Marvaux</td>\n",
       "        <td>Éloi</td>\n",
       "        <td>externe</td>\n",
       "        <td>29200</td>\n",
       "        <td>M</td>\n",
       "    </tr>\n",
       "    <tr>\n",
       "        <td>10</td>\n",
       "        <td>Savino</td>\n",
       "        <td>Manel</td>\n",
       "        <td>interne</td>\n",
       "        <td>29830</td>\n",
       "        <td>M</td>\n",
       "    </tr>\n",
       "</table>"
      ],
      "text/plain": [
       "[(1, 'Bourgon', 'Élise', 'demi-pens', 29490, 'F'),\n",
       " (2, 'Jacq', 'Christine', 'demi-pens', 29820, 'F'),\n",
       " (3, 'Durand', 'Mathis', 'externe', 29200, 'M'),\n",
       " (4, 'Gontran', 'Élouan', 'demi-pens', 29290, 'M'),\n",
       " (5, 'Fox', 'Titouan', 'interne', 29217, 'M'),\n",
       " (6, 'KAPPRA', 'Marcel', 'externe', 29280, 'M'),\n",
       " (7, 'Tripaux', 'Jean', 'interne', 29160, 'M'),\n",
       " (8, 'Chavin', 'Hassan', 'interne', 29590, 'M'),\n",
       " (9, 'Marvaux', 'Éloi', 'externe', 29200, 'M'),\n",
       " (10, 'Savino', 'Manel', 'interne', 29830, 'M')]"
      ]
     },
     "execution_count": 25,
     "metadata": {},
     "output_type": "execute_result"
    }
   ],
   "source": [
    "%%sql sqlite://\n",
    "\n",
    "SELECT * FROM ELEVE"
   ]
  },
  {
   "cell_type": "markdown",
   "metadata": {},
   "source": [
    "<div class=\"alert alert-success\">\n",
    "\n",
    "    \n",
    "Pour apprendre à supprimer une table, nous allons en créer une à l'aide d'une requête. Nous allons créer une table \"Liste\" qui contiendra le nom, le prénom et la ville.\n",
    "    \n",
    "- Voici la requête .\n",
    "<div>"
   ]
  },
  {
   "cell_type": "code",
   "execution_count": 26,
   "metadata": {
    "ExecuteTime": {
     "end_time": "2021-12-07T08:26:20.517914Z",
     "start_time": "2021-12-07T08:26:20.509365Z"
    }
   },
   "outputs": [
    {
     "name": "stdout",
     "output_type": "stream",
     "text": [
      "Done.\n"
     ]
    },
    {
     "data": {
      "text/plain": [
       "[]"
      ]
     },
     "execution_count": 26,
     "metadata": {},
     "output_type": "execute_result"
    }
   ],
   "source": [
    "%%sql sqlite://\n",
    "\n",
    "CREATE TABLE Liste AS SELECT nom, prenom, libelle_ville FROM ELEVE JOIN VILLE USING (code_postal);\n"
   ]
  },
  {
   "cell_type": "markdown",
   "metadata": {},
   "source": [
    "<div class=\"alert alert-warning\">\n",
    "<img src=\"Images/CR.png\" alt=\"logo CR\" width=5% align=right>\n",
    "\n",
    "- Formuler une requête pour constater la création.\n",
    "<div>"
   ]
  },
  {
   "cell_type": "code",
   "execution_count": 27,
   "metadata": {
    "ExecuteTime": {
     "end_time": "2021-12-07T08:26:35.169100Z",
     "start_time": "2021-12-07T08:26:35.158149Z"
    }
   },
   "outputs": [
    {
     "name": "stdout",
     "output_type": "stream",
     "text": [
      "Done.\n"
     ]
    },
    {
     "data": {
      "text/html": [
       "<table>\n",
       "    <tr>\n",
       "        <th>nom</th>\n",
       "        <th>prenom</th>\n",
       "        <th>libelle_ville</th>\n",
       "    </tr>\n",
       "    <tr>\n",
       "        <td>Bourgon</td>\n",
       "        <td>Élise</td>\n",
       "        <td>Guipavas</td>\n",
       "    </tr>\n",
       "    <tr>\n",
       "        <td>Jacq</td>\n",
       "        <td>Christine</td>\n",
       "        <td>Guilers</td>\n",
       "    </tr>\n",
       "    <tr>\n",
       "        <td>Durand</td>\n",
       "        <td>Mathis</td>\n",
       "        <td>Brest</td>\n",
       "    </tr>\n",
       "    <tr>\n",
       "        <td>Gontran</td>\n",
       "        <td>Élouan</td>\n",
       "        <td>Saint Renan</td>\n",
       "    </tr>\n",
       "    <tr>\n",
       "        <td>Fox</td>\n",
       "        <td>Titouan</td>\n",
       "        <td>Le Conquet</td>\n",
       "    </tr>\n",
       "    <tr>\n",
       "        <td>Tripaux</td>\n",
       "        <td>Jean</td>\n",
       "        <td>Crozon</td>\n",
       "    </tr>\n",
       "    <tr>\n",
       "        <td>Chavin</td>\n",
       "        <td>Hassan</td>\n",
       "        <td>Le Faou </td>\n",
       "    </tr>\n",
       "    <tr>\n",
       "        <td>Marvaux</td>\n",
       "        <td>Éloi</td>\n",
       "        <td>Brest</td>\n",
       "    </tr>\n",
       "    <tr>\n",
       "        <td>Savino</td>\n",
       "        <td>Manel</td>\n",
       "        <td>Ploudalmézeau</td>\n",
       "    </tr>\n",
       "</table>"
      ],
      "text/plain": [
       "[('Bourgon', 'Élise', 'Guipavas'),\n",
       " ('Jacq', 'Christine', 'Guilers'),\n",
       " ('Durand', 'Mathis', 'Brest'),\n",
       " ('Gontran', 'Élouan', 'Saint Renan'),\n",
       " ('Fox', 'Titouan', 'Le Conquet'),\n",
       " ('Tripaux', 'Jean', 'Crozon'),\n",
       " ('Chavin', 'Hassan', 'Le Faou '),\n",
       " ('Marvaux', 'Éloi', 'Brest'),\n",
       " ('Savino', 'Manel', 'Ploudalmézeau')]"
      ]
     },
     "execution_count": 27,
     "metadata": {},
     "output_type": "execute_result"
    }
   ],
   "source": [
    "%%sql sqlite://\n",
    "    \n",
    "SELECT * FROM Liste"
   ]
  },
  {
   "cell_type": "markdown",
   "metadata": {},
   "source": [
    "<div class=\"alert alert-success\">\n",
    "\n",
    "Voici la requête pour supprimer une table.\n",
    "<div>"
   ]
  },
  {
   "cell_type": "code",
   "execution_count": null,
   "metadata": {},
   "outputs": [],
   "source": [
    "%%sql sqlite://\n",
    "    \n",
    "DROP TABLE Liste;"
   ]
  }
 ],
 "metadata": {
  "hide_input": false,
  "kernelspec": {
   "display_name": "Python 3",
   "language": "python",
   "name": "python3"
  },
  "language_info": {
   "codemirror_mode": {
    "name": "ipython",
    "version": 3
   },
   "file_extension": ".py",
   "mimetype": "text/x-python",
   "name": "python",
   "nbconvert_exporter": "python",
   "pygments_lexer": "ipython3",
   "version": "3.6.10"
  },
  "latex_envs": {
   "LaTeX_envs_menu_present": true,
   "autoclose": false,
   "autocomplete": true,
   "bibliofile": "biblio.bib",
   "cite_by": "apalike",
   "current_citInitial": 1,
   "eqLabelWithNumbers": true,
   "eqNumInitial": 1,
   "hotkeys": {
    "equation": "Ctrl-E",
    "itemize": "Ctrl-I"
   },
   "labels_anchors": false,
   "latex_user_defs": false,
   "report_style_numbering": false,
   "user_envs_cfg": false
  },
  "nbTranslate": {
   "displayLangs": [
    "*"
   ],
   "hotkey": "alt-t",
   "langInMainMenu": true,
   "sourceLang": "en",
   "targetLang": "fr",
   "useGoogleTranslate": true
  },
  "toc": {
   "base_numbering": 1,
   "nav_menu": {},
   "number_sections": true,
   "sideBar": true,
   "skip_h1_title": false,
   "title_cell": "Table of Contents",
   "title_sidebar": "Contents",
   "toc_cell": false,
   "toc_position": {},
   "toc_section_display": true,
   "toc_window_display": false
  },
  "varInspector": {
   "cols": {
    "lenName": 16,
    "lenType": 16,
    "lenVar": 40
   },
   "kernels_config": {
    "python": {
     "delete_cmd_postfix": "",
     "delete_cmd_prefix": "del ",
     "library": "var_list.py",
     "varRefreshCmd": "print(var_dic_list())"
    },
    "r": {
     "delete_cmd_postfix": ") ",
     "delete_cmd_prefix": "rm(",
     "library": "var_list.r",
     "varRefreshCmd": "cat(var_dic_list()) "
    }
   },
   "types_to_exclude": [
    "module",
    "function",
    "builtin_function_or_method",
    "instance",
    "_Feature"
   ],
   "window_display": false
  }
 },
 "nbformat": 4,
 "nbformat_minor": 2
}
