{
 "cells": [
  {
   "cell_type": "markdown",
   "metadata": {},
   "source": [
    "# <center><font face=\"arial\" size=\"5\" color=#0101DF>NUMERIQUE ET SCIENCES INFORMATIQUES Terminale NSI</font></center>"
   ]
  },
  {
   "cell_type": "markdown",
   "metadata": {},
   "source": [
    "## <font color=#013ADF>Séquence N° 4 : Structures hiérarchiques : arbres, arbres binaires et arbre binaire de recherche</font>"
   ]
  },
  {
   "cell_type": "markdown",
   "metadata": {},
   "source": [
    "<div class=\"alert alert-danger\" role=\"alert\">\n",
    "    \n",
    "Les objectifs de cette séquence sont :\n",
    "\n",
    "- Identifier des situations nécessitant une structure de données arborescente ;\n",
    "- Évaluer quelques mesures des arbres binaires (taille, hauteur ...) ;\n",
    "- Calculer la taille et la hauteur d'un arbre ;\n",
    "- Parcourir un arbre de différentes façons (ordres infixe, préfixe ou suffixe ; ordre en largeur d'abord) ;\n",
    "- Rechercher une clé dans un arbre de recherche, insérer une clé.\n",
    "\n",
    "\n",
    "</div>"
   ]
  },
  {
   "cell_type": "markdown",
   "metadata": {},
   "source": [
    "<div class=\"alert alert-warning\">\n",
    "<img src=\"Images/CR.png\" alt=\"logo CR\" width=5% align=right>\n",
    "    \n",
    "Travail préalable   \n",
    "\n",
    "- Lire les chapitres 2  et 11 (pages 276 à 282) du livre ;\n",
    "- Donner des exemples nécessitant l'utilisation d'une structure de données arborescente (dans plusieurs domaines)\n",
    "\n",
    "Pour l'arbre suivant, indiquez :\n",
    "\n",
    "<img src=\"Images/def_arbre.png\" alt=\"arbre\" width=40% align=center>\n",
    "    \n",
    "- La clé du noeud \"racine\" ;\n",
    "- La clé des noeuds \"feuille\" de l'arbre ;\n",
    "- Le prédécesseur du noeud 7 ;\n",
    "- Un successeur du noeud 7 ;\n",
    "- Sa taille ;\n",
    "- Sa hauteur ;\n",
    "- S'il s'agit d'un arbre binaire ?\n",
    "- Donner la liste des noeuds rencontrés dans un parcours :\n",
    "    - En largeur ;\n",
    "    - En profondeur :\n",
    "        - Parcours préfixe ;\n",
    "        - Parcours suffixe (ou postfixe) ;\n",
    "        - Parcours infixe\n",
    "<div>"
   ]
  },
  {
   "cell_type": "markdown",
   "metadata": {},
   "source": [
    "<div class=\"alert alert-warning\">\n",
    "<img src=\"Images/CR.png\" alt=\"logo CR\" width=5% align=right>\n",
    "    \n",
    "Un autre exemple avant que vous ne me posiez la question : un arbre syntaxique.\n",
    "\n",
    "<img src=\"Images/arbre_syntaxique.png\" alt=\"arbre\" width=30% align=center>\n",
    " \n",
    "- Parcours infixe ?\n",
    "- Parcours préfixe ?\n",
    "- Parcours suffixe ?"
   ]
  },
  {
   "cell_type": "markdown",
   "metadata": {},
   "source": [
    "### 1- Les arbres binaires"
   ]
  },
  {
   "cell_type": "markdown",
   "metadata": {},
   "source": [
    "<img src=\"Images/arbre_binaire.png\" alt=\"arbre_binaire\" width=30% align=left>\n",
    "<img src=\"Images/recursion.png\" alt=\"def_recursif\" width=30% align=right>"
   ]
  },
  {
   "cell_type": "markdown",
   "metadata": {},
   "source": [
    "<div class=\"alert alert-warning\">\n",
    "<img src=\"Images/CR.png\" alt=\"logo CR\" width=5% align=right>\n",
    "    \n",
    "Travail préalable\n",
    "\n",
    "- Rappeler ici ce qu'est un arbre binaire ?\n",
    "- Donner une défintion récursive d'un arbre.\n",
    "<div>"
   ]
  },
  {
   "cell_type": "markdown",
   "metadata": {},
   "source": [
    "<img src=\"Images/arbre_binaire_2.png\" alt=\"arbre_binaire\" width=30% align=left>\n",
    "\n",
    "Voici une première représentation de cet arbre binaire.\n",
    "\n",
    "Observer attentivement les appels récursifs de la méthode **afficher** : Quelles sont les conditions d'arrêt ?"
   ]
  },
  {
   "cell_type": "code",
   "execution_count": null,
   "metadata": {},
   "outputs": [],
   "source": [
    "class Noeud:\n",
    "\n",
    "    def __init__(self,cle:str):\n",
    "      self.fils_gauche = None\n",
    "      self.fils_droit = None\n",
    "      self.cle = cle\n",
    "    \n",
    "    def afficher(self, level=0):\n",
    "        if self.fils_droit:\n",
    "            self.fils_droit.afficher(level + 1)\n",
    "        print(f\"{' ' * 4 * level}{self.cle}\")\n",
    "        if self.fils_gauche:\n",
    "            self.fils_gauche.afficher(level + 1)\n",
    "\n",
    "if __name__=='__main__':\n",
    "    n1 = Noeud('r')\n",
    "    n2 = Noeud('a')\n",
    "    n3 = Noeud('b')\n",
    "    n4 = Noeud('c')\n",
    "    n5 = Noeud('d')\n",
    "    n1.fils_gauche = n2\n",
    "    n1.fils_droit = n3\n",
    "    n3.fils_gauche = n4\n",
    "    n3.fils_droit = n5\n",
    "    n1.afficher()"
   ]
  },
  {
   "cell_type": "markdown",
   "metadata": {},
   "source": [
    "Voici une seconde représentation avec une liste d'adjacence dans un dictionnaire :"
   ]
  },
  {
   "cell_type": "code",
   "execution_count": null,
   "metadata": {},
   "outputs": [],
   "source": [
    "arbre = { 'r' : ['a','b'], 'a' : [None,None],'b' : ['c','d'], 'c' : [None,None], 'd' : [None,None]}"
   ]
  },
  {
   "cell_type": "markdown",
   "metadata": {},
   "source": [
    "*Remarque : On aurait pu utiliser une liste de listes, mais ça fait une révision sur les dictionnaires ! 😀*"
   ]
  },
  {
   "cell_type": "markdown",
   "metadata": {},
   "source": [
    "<div class=\"alert alert-warning\">\n",
    "<img src=\"Images/CR.png\" alt=\"logo CR\" width=5% align=right>\n",
    "    \n",
    "Travail demandé\n",
    "\n",
    "En s'inspirant des algorithmes **récursifs**  proposés dans le livre :\n",
    "\n",
    "- Créer une fonction qui détermine la hauteur\n",
    "- Créer une fonction qui détermine la taille\n",
    "- Créer une fonction qui réalise un parcours en profondeur préfixe\n",
    "- Créer une fonction qui réalise un parcours en profondeur infixe\n",
    "- Créer une fonction qui réalise un parcours en profondeur suffixe (postfixe)\n",
    "\n",
    "    \n",
    "En utilisant une structure **file** :\n",
    "    \n",
    "- Créer une fonction qui réalise un parcours en largeur. On propose l'algorithme suivant :\n",
    "```python\n",
    "    Fonction parcours_largeur(racine)\n",
    "    file\n",
    "    ajouter racine à file\n",
    "    tant que file est non vide :\n",
    "        défiler le nœud de début de file\n",
    "        Afficher le nœud \n",
    "        Ajouter le nœud de gauche puis de droite à la file.\n",
    "```\n",
    "\n",
    "<img src=\"Images/warning.png\" alt=\"warning\" width=5% align=left>\n",
    "<br>\n",
    "    \n",
    "**Faites \"tourner\" à la main cet algorithme sur le graphe précédent avant de l'implémenter.**\n",
    "<div>"
   ]
  },
  {
   "cell_type": "markdown",
   "metadata": {},
   "source": [
    "### 2- Les arbres binaires de recherche (ABR)"
   ]
  },
  {
   "cell_type": "markdown",
   "metadata": {},
   "source": [
    "<img src=\"Images/ABR.png\" alt=\"arbre_binaire_recherche\" width=30% align=center>"
   ]
  },
  {
   "cell_type": "markdown",
   "metadata": {},
   "source": [
    "**TAD (partiel) arbre binaire de recherche**\n",
    "\n",
    "Type : ABR\n",
    "\n",
    "Utilise : Donnée (de type entier), Booléen\n",
    "\n",
    "Opérations :\n",
    "    \n",
    "    constructeur : Donnée x ABR → ABR\n",
    "    \n",
    "    inserer : Donnée x ABR → ABR\n",
    "    \n",
    "    chercher : Donnée x ABR → Booléen\n",
    "    \n",
    " "
   ]
  },
  {
   "cell_type": "markdown",
   "metadata": {},
   "source": [
    "<div class=\"alert alert-warning\">\n",
    "<img src=\"Images/CR.png\" alt=\"logo CR\" width=5% align=right>\n",
    "    \n",
    "Travail préalable\n",
    "\n",
    "- Rappeler ici la particularité d'un arbre binaire de recherche ?\n",
    "<div>"
   ]
  },
  {
   "cell_type": "markdown",
   "metadata": {},
   "source": [
    "<div class=\"alert alert-warning\">\n",
    "<img src=\"Images/CR.png\" alt=\"logo CR\" width=5% align=right>\n",
    "\n",
    "Le type abstrait de données \"arbre binaire de recherche\" se limitera à l'interface précedente (référentiel de NSI).\n",
    "    \n",
    "Travail à faire\n",
    "\n",
    "- Implémenter une méthode constructeur prenant en arguments : la clé, le fils gauche, le fils droit et le père s'ils existent !\n",
    "- Implémenter une méthode permettant de chercher si une clé particulière et présente dans l'ABR\n",
    "- Implementer une méthode permettant d'insérer une clé dans l'ABR\n",
    "\n",
    "Remarque : réutiliser la méthode **afficher** proposée plus haut.    \n",
    "<div>"
   ]
  },
  {
   "cell_type": "markdown",
   "metadata": {},
   "source": [
    "### Conclusion"
   ]
  },
  {
   "cell_type": "markdown",
   "metadata": {},
   "source": [
    "<div class=\"alert alert-success\">\n",
    "<img src=\"Images/ABR_bis.png\" alt=\"binaire\" width=30% align=left>\n",
    "<br>   \n",
    "<img src=\"Images/ABR_degenere.png\" alt=\"degenere\" width=30% align=center>   \n",
    "<div>"
   ]
  },
  {
   "cell_type": "raw",
   "metadata": {},
   "source": []
  }
 ],
 "metadata": {
  "kernelspec": {
   "display_name": "Python 3",
   "language": "python",
   "name": "python3"
  },
  "language_info": {
   "codemirror_mode": {
    "name": "ipython",
    "version": 3
   },
   "file_extension": ".py",
   "mimetype": "text/x-python",
   "name": "python",
   "nbconvert_exporter": "python",
   "pygments_lexer": "ipython3",
   "version": "3.7.7"
  },
  "varInspector": {
   "cols": {
    "lenName": 16,
    "lenType": 16,
    "lenVar": 40
   },
   "kernels_config": {
    "python": {
     "delete_cmd_postfix": "",
     "delete_cmd_prefix": "del ",
     "library": "var_list.py",
     "varRefreshCmd": "print(var_dic_list())"
    },
    "r": {
     "delete_cmd_postfix": ") ",
     "delete_cmd_prefix": "rm(",
     "library": "var_list.r",
     "varRefreshCmd": "cat(var_dic_list()) "
    }
   },
   "types_to_exclude": [
    "module",
    "function",
    "builtin_function_or_method",
    "instance",
    "_Feature"
   ],
   "window_display": false
  }
 },
 "nbformat": 4,
 "nbformat_minor": 2
}
