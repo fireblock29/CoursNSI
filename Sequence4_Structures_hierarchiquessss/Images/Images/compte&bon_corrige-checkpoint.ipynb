{
 "cells": [
  {
   "cell_type": "markdown",
   "metadata": {},
   "source": [
    "# <center><font face=\"arial\" size=\"5\" color=#0101DF>NUMERIQUE ET SCIENCES INFORMATIQUES Terminale NSI</font></center>"
   ]
  },
  {
   "cell_type": "markdown",
   "metadata": {},
   "source": [
    "## <font color=#013ADF>Séquence N° 4 : Projet \"Le compte est bon !\"</font>"
   ]
  },
  {
   "cell_type": "markdown",
   "metadata": {},
   "source": [
    "### Règles du jeu"
   ]
  },
  {
   "cell_type": "markdown",
   "metadata": {},
   "source": [
    "L'application que l'on souhaite développer \"le compte est bon\" est un jeu, dérivé du célèbre jeu télévisé des chiffres et des lettres, mais adapté aux enfants. \n",
    "\n",
    "Les règles du jeu sont les suivantes :\n",
    "- Vous disposez de 5 nombres et vous devez obtenir le nombre cible, en combinant ces 5 nombres avec les 4 opérations élémentaires : addition, soustraction, division et multiplication.\n",
    "- Chaque nombre ne peut être utilisé qu'une seule fois, vous ne pouvez combiner que des nombres positifs et entiers.\n",
    "- Le nombre cible est toujours inférieur à 100 et les nombres à utiliser pour le trouver sont choisis entre 1 et 20.\n",
    "\n",
    "Exemple : le nombre cible est **29**, vous disposez des nombres **2 4 2 1 6**\n",
    "\n",
    "4 x 6 = 24\n",
    "\n",
    "**2 2 1 24**\n",
    "\n",
    "2 + 2 = 4\n",
    "\n",
    "**1 24 4**\n",
    "\n",
    "4 + 1 = 5\n",
    "\n",
    "**24 5**\n",
    "\n",
    "24 + 5 = 29"
   ]
  },
  {
   "cell_type": "markdown",
   "metadata": {},
   "source": [
    "https://www.solumaths.com/fr/jeux-maths-en-ligne/jeu-le-compte-est-bon#jouer-en-ligne"
   ]
  },
  {
   "cell_type": "markdown",
   "metadata": {},
   "source": [
    "On limitera le projet à la recherche de la solution. En effet, si le joueur le souhaite, il faut lui fournir une solution.\n",
    "\n",
    "Vous donnerez les étapes du traitement donnant la solution si elle exoiste sinon vous indiquerez qu'il n'y a pas de solution.\n",
    "\n",
    "*Remarque : si vous souhaitez réaliser l'IHM, vous ferez cela pendant vos vacances.*"
   ]
  },
  {
   "cell_type": "markdown",
   "metadata": {},
   "source": [
    "<div class=\"alert alert-success\">\n",
    "\n",
    "Voici quelques réflexions concernant la recherche d'une solution :\n",
    "\n",
    "- Vous allez faire une recherche en force brute, c'est à dire essayer de trouver la solution en combinant les opérations et les nombres ;\n",
    "- Le graphe ci-dessous donne la représentation du problème :\n",
    "\n",
    "<img src=\"Images/permutations.png\" alt=\"arbre\" width=60% align=center>\n",
    "\n",
    "\n",
    "Compte-tenu des règles du jeu :\n",
    "    \n",
    "- On peut se demander ce que donne :\n",
    "    - le résultat de la division d'un nombre par un second plus grand ;\n",
    "    \n",
    "    - la soustraction d'un nombre par un second plus grand ;\n",
    "\n",
    "    \n",
    "et en tirer les conséquences sur l'algorithme.\n",
    "\n",
    "<div>"
   ]
  },
  {
   "cell_type": "markdown",
   "metadata": {},
   "source": [
    "1 - on fait un algorithme qui sélectionne une paire\n",
    "\n",
    "2 - on fait une opération sur cette paire\n",
    "\n",
    "3 - si on a trouvé le nombre voulu, on quitte l'algorithme\n",
    "\n",
    "4 - on sauvegarde le tableau courant dans un tableau auxiliaire\n",
    "\n",
    "5 - avec le nombre obtenu après l'opération on obtient un tableau auxiliaire plus petit d'un élément\n",
    "\n",
    "6 - on trie le tableau auxiliaire\n",
    "\n",
    "7 - on fait un appel récursif pour recommencer le raisonnement sur ce tableau\n",
    "\n",
    "8 - si on n'a pas fini les quatre opérations, on boucle sur l'étape 2\n",
    "\n",
    "9 - si on n'a pas fini toutes les paires, on boucle sur l'étape 1"
   ]
  },
  {
   "cell_type": "markdown",
   "metadata": {},
   "source": [
    "Pour la liste de 5 nombres de l'exemple : 2 4 2 1 6\n",
    "\n",
    "Pour 5 nombres on a 10 paires à 4 possibilités\n",
    "\n",
    "2,4\n",
    "2,2\n",
    "2,1\n",
    "2,6\n",
    "4,2\n",
    "4,1\n",
    "4,6\n",
    "2,1\n",
    "2,6\n",
    "1,6\n",
    "\n",
    "On peut diviser ce nombre par 2 en triant la liste en ordre décroissant. En effet :\n",
    "- L'addition est identique\n",
    "- La soustraction n'a de sens que si nb1>=nb2 (résultat positif)\n",
    "- La multiplication est identique\n",
    "- La division n'a de sens que si nb1>=nb2 et si nb1 est multiple de nb2 (résultat entier)\n",
    "\n",
    "\n",
    "2,2\n",
    "2,1\n",
    "4,2\n",
    "4,1\n",
    "2,1\n"
   ]
  },
  {
   "cell_type": "markdown",
   "metadata": {},
   "source": [
    "### Solution possible"
   ]
  },
  {
   "cell_type": "code",
   "execution_count": null,
   "metadata": {},
   "outputs": [],
   "source": [
    "#!/usr/bin/env python3\n",
    "# -*- coding: utf-8 -*-\n",
    "\"\"\"\n",
    "Created on Sat Sep 26 13:11:14 2020\n",
    "\n",
    "@author: bruno\n",
    "\"\"\"\n",
    "from random import randint\n",
    "\n",
    "def tirage_cible(min:int=1,max:int=100)->int:\n",
    "    \"\"\"\n",
    "    Fonction qui tire un nombre entier au hasard\n",
    "    entre 2 bornes incluses : min et max.\n",
    "    min et max sont fixés par défaut à 1 et 100\n",
    "    Exemple : tirage_cible(min, max)\n",
    "    \"\"\"\n",
    "    return randint(min,max)\n",
    "\n",
    "def tirage_nombres(nb:int=5, min:int=1,max:int=20)->list:\n",
    "    \"\"\"\n",
    "    Fonction qui tire un nombre d'entiers au hasard\n",
    "    entre 2 bornes incluses : min et max.\n",
    "    min et max sont fixés par défaut à 1 et 20\n",
    "    le nombre nb est fixé par défaut à 5\n",
    "    Exemple : tirage_nombres(nb,min,max)\n",
    "    \"\"\"\n",
    "    liste=[]\n",
    "    for i in range (nb):\n",
    "        nb=randint(min,max)\n",
    "        liste.append(nb)\n",
    "        liste.sort(reverse=True)\n",
    "    return liste\n",
    "        \n",
    "def operations(liste:list, cible:int)->bool:\n",
    "    \"\"\"\n",
    "    Fonction qui affiche le parcours de l'arbre\n",
    "    en sens opposé jusqu'à la solution si elle \n",
    "    existe, et renvoie True si la solution est\n",
    "    trouvée False sinon\n",
    "    \"\"\"\n",
    "    long=len(liste)\n",
    "    operateurs = '+-*/'\n",
    "    # pour les 4 opérations +, -, *, /\n",
    "    for op in operateurs:\n",
    "        # création de paires de nombres nb1, nb2 dans la liste des nombres fournis\n",
    "        for nb1 in range(0, long):\n",
    "            for nb2 in range(nb1 + 1, long):\n",
    "                if op == '+':\n",
    "                    res = liste[nb1] + liste[nb2]\n",
    "                elif op == '-':\n",
    "                    res = liste[nb1] - liste[nb2]\n",
    "                elif op == '*':\n",
    "                    res = liste[nb1] * liste[nb2]\n",
    "                elif op == '/':\n",
    "                    res = liste[nb1] / liste[nb2]\n",
    "                    if type(res!=int):\n",
    "                        res = 0\n",
    "                # Si le résultat est nul (ou négatif), on abandonne la branche\n",
    "                # Normalement cas de division ou soustraction\n",
    "                # Si ordonné décroissant, pas de résultat négatif\n",
    "                if res > 0:\n",
    "                    # si le nombre cible est trouvé\n",
    "                    if res == cible:\n",
    "                        print(f'{liste[nb1]} {op} {liste[nb2]} = {res}')\n",
    "                        trouver=True\n",
    "                        return trouver\n",
    "                    # copie de la liste\n",
    "                    lst = liste[:]\n",
    "                    # remplacement des 2 nombres nb1 et nb2 par la somme pour nb1\n",
    "                    lst[nb1] = res\n",
    "                    # suppression de nb2\n",
    "                    lst.pop(nb2)\n",
    "                    # tri ordre décroissant : utilité à vérifier\n",
    "                    lst.sort(reverse=True)\n",
    "                    trouver = operations(lst, cible) # appel récursif avec la nouvelle liste\n",
    "                    if trouver:\n",
    "                        print(f'{liste[nb1]} {op} {liste[nb2]} = {res}')\n",
    "                        return trouver\n",
    "\n",
    "\n",
    "if __name__=='__main__':\n",
    "    nombre_cible=tirage_cible()\n",
    "    lst_nombres=tirage_nombres()\n",
    "   \n",
    "    solution = operations(lst_nombres, nombre_cible)\n",
    "    if not solution:\n",
    "        print(\"pas de solution\")"
   ]
  }
 ],
 "metadata": {
  "kernelspec": {
   "display_name": "Python 3",
   "language": "python",
   "name": "python3"
  },
  "language_info": {
   "codemirror_mode": {
    "name": "ipython",
    "version": 3
   },
   "file_extension": ".py",
   "mimetype": "text/x-python",
   "name": "python",
   "nbconvert_exporter": "python",
   "pygments_lexer": "ipython3",
   "version": "3.7.7"
  },
  "varInspector": {
   "cols": {
    "lenName": 16,
    "lenType": 16,
    "lenVar": 40
   },
   "kernels_config": {
    "python": {
     "delete_cmd_postfix": "",
     "delete_cmd_prefix": "del ",
     "library": "var_list.py",
     "varRefreshCmd": "print(var_dic_list())"
    },
    "r": {
     "delete_cmd_postfix": ") ",
     "delete_cmd_prefix": "rm(",
     "library": "var_list.r",
     "varRefreshCmd": "cat(var_dic_list()) "
    }
   },
   "types_to_exclude": [
    "module",
    "function",
    "builtin_function_or_method",
    "instance",
    "_Feature"
   ],
   "window_display": false
  }
 },
 "nbformat": 4,
 "nbformat_minor": 2
}
