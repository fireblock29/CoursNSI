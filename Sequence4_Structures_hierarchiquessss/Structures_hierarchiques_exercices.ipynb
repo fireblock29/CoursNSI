{
 "cells": [
  {
   "cell_type": "markdown",
   "metadata": {},
   "source": [
    "# <center><font face=\"arial\" size=\"5\" color=#0101DF>NUMERIQUE ET SCIENCES INFORMATIQUES Terminale NSI</font></center>"
   ]
  },
  {
   "cell_type": "markdown",
   "metadata": {},
   "source": [
    "## <font color=#013ADF>Séquence N° 4 : Structures de données hiérarchiques : Exercices</font>"
   ]
  },
  {
   "cell_type": "markdown",
   "metadata": {},
   "source": [
    "<div class=\"alert alert-danger\" role=\"alert\">\n",
    "    \n",
    "Les objectifs de cette séquence sont :\n",
    "\n",
    "- Identifier des situations nécessitant une structure de données arborescente ;\n",
    "- Évaluer quelques mesures des arbres binaires (taille, hauteur ...) ;\n",
    "- Calculer la taille et la hauteur d'un arbre ;\n",
    "- Parcourir un arbre de différentes façons (ordres infixe, préfixe ou suffixe ; ordre en largeur d'abord) ;\n",
    "- Rechercher une clé dans un arbre de recherche, insérer une clé.\n",
    "\n",
    "\n",
    "</div>"
   ]
  },
  {
   "cell_type": "markdown",
   "metadata": {},
   "source": [
    "### 1- Exercice 1"
   ]
  },
  {
   "cell_type": "markdown",
   "metadata": {},
   "source": [
    "<div class=\"alert alert-warning\">\n",
    "<img src=\"Images/CR.png\" alt=\"logo CR\" width=5% align=right>\n",
    "Soit l’arbre binaire suivant :\n",
    "    \n",
    "<img src=\"Images/Exercice_1.png\" alt=\"larbre\" width=40% align=center>\n",
    "\n",
    "- Déterminez la profondeur du noeud 3\n",
    "- Déterminez la hauteur de l’arbre\n",
    "- Parcourir l’arbre dans l’ordre suffixe\n",
    "- Expliquez pourquoi l’arbre binaire n’est pas un arbre binaire de recherche\n",
    "- Modifiez l’arbre binaire pour qu’il devienne un arbre binaire de recherche.\n",
    "- Parcourir le nouvel arbre dans l’ordre infixe\n",
    "\n",
    "\n",
    "<div>"
   ]
  },
  {
   "cell_type": "markdown",
   "metadata": {},
   "source": [
    "**Q1** : La profondeur du noeud 3 est 2 si l'on considère la racine : 0 (3 si racine : 1)\\\n",
    "**Q2** : L'arbre a une hauteur de 4 si racine : 1 (3 si racine 0)\\\n",
    "**Q3** : [2,3,4,8,7,6,5]\\\n",
    "**Q4** : Ce n'est pas un ABR car 2 est placé à droite de 3 alors que 2<3\\\n",
    "            Et 8 et 7 \\\n",
    "**Q5** : <img src=\"Images/aaa.jpg\" alt=\"logo CR\" width=50% align=center>\n",
    "**Q6** : [2,3,4,5,6,7,8]"
   ]
  },
  {
   "cell_type": "markdown",
   "metadata": {},
   "source": [
    "### 2- Exercice 2 (sujet 0 du bac NSI)"
   ]
  },
  {
   "cell_type": "markdown",
   "metadata": {
    "cell_style": "split"
   },
   "source": [
    "**Q° 1** \\\n",
    "Taille : 9 & Hauteur :4 si on considère racine -> 1\\\n",
    "\n",
    "\n",
    "\n",
    "\n",
    "\n",
    "\n",
    "\n",
    "\n",
    "\n",
    "\n",
    "\n",
    "\n",
    "\n",
    "\n",
    "\n",
    "\n",
    "\n",
    "**Q° 2**\\\n",
    "           1) G : 1010\\\n",
    "           2) I : 1101 : 13\\\n",
    "           3) On ajoute un bit pour chaque niveau. Donc, niveau 1 = 1 bit. Et niveau 4 = 4 bits.\\\n",
    "           4) Quelque soit la hauteur de l'arbre, on aura plus, ou le même nombre, de noeuds. Donc h ≤ n. Au rang h, on a 2<sup>h</sup> - 1 noeud.\n",
    "Donc, h ≤ n ≤ 2<sup>h</sup> − 1\n",
    "\n",
    "\n",
    "\n",
    "\n",
    "\n",
    "\n",
    "\n",
    "\n",
    "\n",
    "\n",
    "\n",
    "\n",
    "\n",
    "\n",
    "\n",
    "\n",
    "\n",
    "\n",
    "\n",
    "\n",
    "\n",
    "\n",
    "\n",
    "\n",
    "\n",
    "\n",
    "\n",
    "\n",
    "\n",
    "**Q° 3**\\\n",
    "A = 1\\\n",
    "B = 2\\\n",
    "C = 3\\\n",
    "D = 4\\\n",
    "E = 5\\\n",
    "F = 6\\\n",
    "G = 7\\\n",
    "H = 8\\\n",
    "I = 9\\\n",
    "J = 10\\\n",
    "K = 11\\\n",
    "L = 12\\\n",
    "M = 13\\\n",
    "N = 14\\\n",
    "O = 15\\\n",
    "\n",
    "[15,A,B,C,D,E,F,G,H,I,J,K,L,M,O]\\\n",
    "Le père est nécessairement avant son fils.\n",
    "Son indice est donc i/2 si le fils est à sa gauche, et (i-1) / 2 si le fils est à sa droite.\n",
    "\n",
    "\n",
    "\n",
    "\n",
    "\n",
    "\n",
    "\n",
    "\n",
    "\n",
    "**Q° 4**:\n"
   ]
  },
  {
   "cell_type": "markdown",
   "metadata": {
    "cell_style": "split"
   },
   "source": [
    "<div class=\"alert alert-warning\">\n",
    "<img src=\"Images/CR.png\" alt=\"logo CR\" width=5% align=right>\n",
    "Dans cet exercice, on utilisera la convention suivante : la hauteur d’un arbre binaire ne comportant qu’un nœud est 1.\n",
    "\n",
    "**Question 1** : Déterminer la taille et la hauteur de l’arbre binaire suivant :\n",
    "\n",
    "<img src=\"Images/Exercice_2.png\" alt=\"larbre\" width=40% align=center>\n",
    "\n",
    "**Question 2** : On décide de numéroter en binaire les nœuds d’un arbre binaire de la façon suivante :\n",
    "\n",
    "- la racine correspond à 1 ;\n",
    "- la numérotation pour un fils gauche s’obtient en ajoutant le chiffre 0 à droite au numéro de son père ;\n",
    "- la numérotation pour un fils droit s’obtient en ajoutant le chiffre 1 à droite au numéro de son père;\n",
    "\n",
    "Par exemple, dans l’arbre ci-dessous, on a utilisé ce procédé pour numéroter les nœuds A, B, C, E et F .\n",
    "    \n",
    "<img src=\"Images/Exercice_2-1.png\" alt=\"larbre\" width=60% align=center>\n",
    "\n",
    "1) Dans l’exemple précédent, quel est le numéro en binaire associé au nœud G ?\n",
    "\n",
    "2) Quel est le nœud dont le numéro en binaire vaut 13 en décimal ?\n",
    "\n",
    "3) En notant h la hauteur de l’arbre, sur combien de bits seront numérotés les nœuds les plus en bas ?\n",
    "\n",
    "4) Justifier que pour tout arbre de hauteur h et de taille n ≥ 2, on a : h ≤ n ≤ 2 <sup>h</sup> − 1\n",
    "    \n",
    "**Question 3** : Un arbre binaire est dit complet si tous les niveaux de l’arbre sont remplis.\n",
    "    \n",
    "<img src=\"Images/Exercice_2-2.png\" alt=\"larbre\" width=120% align=center>\n",
    "\n",
    "On décide de représenter un arbre binaire complet par un tableau de taille n + 1, où n est la taille de l’arbre, de la façon suivante :\n",
    "- La racine a pour indice 1 ;\n",
    "- Le fils gauche du nœud d’indice i a pour indice 2 × i ;\n",
    "- Le fils droit du nœud d’indice i a pour indice 2 × i + 1 ;\n",
    "- On place la taille n de l’arbre dans la case d’indice 0.\n",
    "\n",
    "Déterminer le tableau qui représente l’arbre binaire complet de l’exemple précédent.\n",
    "On considère le père du nœud d’indice i avec i ≥ 2. Quel est son indice dans le tableau ?\n",
    "\n",
    "**Question 4** :\n",
    "\n",
    "On se place dans le cas particulier d’un arbre binaire de recherche complet où les nœuds contiennent des entiers et pour lequel la valeur de chaque noeud est supérieure à celles des noeuds de son fils gauche, et inférieure à celles des noeuds de son fils droit.\n",
    "\n",
    "Écrire une fonction recherche ayant pour paramètres un arbre arbre et un élément element. Cette fonction renvoie True si element est dans l’arbre et False sinon. L’arbre sera représenté par un tableau comme dans la question précédente.\n",
    "</div>"
   ]
  },
  {
   "cell_type": "code",
   "execution_count": 3,
   "metadata": {
    "ExecuteTime": {
     "end_time": "2021-11-22T09:22:53.995869Z",
     "start_time": "2021-11-22T09:22:53.989059Z"
    },
    "cell_style": "center"
   },
   "outputs": [],
   "source": [
    "def recherche(abr : list, elt) -> bool:\n",
    "    \"\"\" recherche optimisée d'un élément dans un abr sous forme de vecteur \"\"\"\n",
    "    i = 1\n",
    "    while i < len(abr):\n",
    "        if elt == abr[i]:\n",
    "            return True\n",
    "        elif elt < abr[i]:\n",
    "            i = 2*i\n",
    "        else:\n",
    "            i = 2*i + 1\n",
    "    return False\n",
    "\n"
   ]
  },
  {
   "cell_type": "code",
   "execution_count": 8,
   "metadata": {
    "ExecuteTime": {
     "end_time": "2021-11-22T09:24:03.911734Z",
     "start_time": "2021-11-22T09:24:03.902650Z"
    }
   },
   "outputs": [
    {
     "data": {
      "text/plain": [
       "True"
      ]
     },
     "execution_count": 8,
     "metadata": {},
     "output_type": "execute_result"
    }
   ],
   "source": [
    "recherche([15,\"A\",\"B\",\"C\",\"D\",\"E\",\"F\",\"G\",\"H\",\"I\",\"J\",\"K\",\"L\",\"M\",\"O\"], \"A\")"
   ]
  },
  {
   "cell_type": "markdown",
   "metadata": {},
   "source": [
    "### 3- Exercice 3 (sujet du bac NSI 2021)"
   ]
  },
  {
   "cell_type": "markdown",
   "metadata": {},
   "source": [
    "<div class=\"alert alert-warning\">\n",
    "<img src=\"Images/CR.png\" alt=\"logo CR\" width=5% align=right>\n",
    "    \n",
    "Dans cet exercice, les arbres binaires de recherche ne peuvent pas comporter plusieurs fois la même clé. De plus, un arbre binaire de recherche limité à un nœud a une hauteur de 1. On considère l’arbre binaire de recherche représenté ci-dessous (figure 1), où val représente un entier :\n",
    "\n",
    "<img src=\"Images/Exercice_3.png\" alt=\"larbre\" width=60% align=center>\n",
    "    \n",
    "1)\n",
    "\n",
    "a) Donner le nombre de feuilles de cet arbre et préciser leur valeur (étiquette).\n",
    "\n",
    "b) Donner le sous arbre-gauche du nœud 23.\n",
    "\n",
    "c) Donner la hauteur et la taille de l’arbre.\n",
    "\n",
    "d) Donner les valeurs entières possibles de val pour cet arbre binaire de recherche.\n",
    "\n",
    "On suppose, pour la suite de cet exercice, que val est égal à 16.\n",
    "\n",
    "2) On rappelle qu’un parcours infixe depuis un nœud consiste, dans l’ordre, à faire un parcours infixe sur le sous arbre-gauche, afficher le nœud puis faire un parcours infixe sur le sous-arbre droit.\n",
    "\n",
    "Dans le cas d’un parcours suffixe, on fait un parcours suffixe sur le sous-arbre gauche puis un parcours suffixe sur le sous-arbre droit, avant d’afficher le nœud.\n",
    "\n",
    "a) Donner les valeurs d’affichage des nœuds dans le cas du parcours infixe de l’arbre.\n",
    "\n",
    "b) Donner les valeurs d’affichage des nœuds dans le cas du parcours suffixe de l’arbre.\n",
    "\n",
    "3) On considère la classe Noeud définie de la façon suivante en Python :\n",
    "\n",
    "</div>"
   ]
  },
  {
   "cell_type": "markdown",
   "metadata": {},
   "source": [
    "1)\n",
    "a)\n",
    "Il y a 4 feuilles dans cet arbre : 12, \"val\", 21, 32\n",
    "\n",
    "b)\n",
    "Le sous arbre gauche du noeud 23 est : 19->21\n",
    "\n",
    "c)\n",
    "La taille de l'arbre est 9 et sa hauteur est 4 si on compte à partir de 1\n",
    "\n",
    "d)\n",
    "Les valeurs possibles de val sont : [16,17]\n",
    "\n",
    "2)\n",
    "a)\n",
    "Parcours infixe : [12,13,15,16,18,19,21,23,32]\n",
    "\n",
    "b)\n",
    "Parcours suffixe : [12,13,16,15,21,19,32,23,18]\n",
    "\n",
    "3)\n"
   ]
  },
  {
   "cell_type": "code",
   "execution_count": 9,
   "metadata": {
    "ExecuteTime": {
     "end_time": "2021-11-22T09:36:35.050507Z",
     "start_time": "2021-11-22T09:36:35.034837Z"
    }
   },
   "outputs": [],
   "source": [
    "class Noeud():\n",
    "    def __init__(self, v):\n",
    "        self.ag = None\n",
    "        self.ad = None\n",
    "        self.v = v\n",
    "\n",
    "    def insere(self, v):\n",
    "        n = self\n",
    "        est_insere = False\n",
    "        while not est_insere :\n",
    "            if v == n.v:\n",
    "                est_insere = True\n",
    "            elif v < n.v:\n",
    "                if n.ag != None:\n",
    "                    n = n.ag\n",
    "                else:\n",
    "                    n.ag = Noeud(v)\n",
    "                    est_insere = True\n",
    "            else:\n",
    "                if n.ad != None:\n",
    "                    n = n.ad\n",
    "                else:\n",
    "                    n.ad = Noeud(v)\n",
    "                    est_insere = True\n",
    "\n",
    "    def insere_tout(self, vals):\n",
    "        for v in vals:\n",
    "            self.insere(v)"
   ]
  },
  {
   "cell_type": "code",
   "execution_count": 2,
   "metadata": {
    "ExecuteTime": {
     "end_time": "2021-11-22T10:51:41.522010Z",
     "start_time": "2021-11-22T10:51:41.517390Z"
    }
   },
   "outputs": [],
   "source": [
    "racine = Noeud(8)\n",
    "racine.insere_tout([12,13,15,16,19,21,32,23])"
   ]
  },
  {
   "cell_type": "markdown",
   "metadata": {},
   "source": [
    "<div class=\"alert alert-warning\">\n",
    "<img src=\"Images/CR.png\" alt=\"logo CR\" width=5% align=right>\n",
    "    \n",
    "a) Représenter l’arbre construit suite à l’exécution de l’instruction suivante :\n",
    "\n",
    "</div>\n",
    "<img src=\"Images/salut ça va.png\" alt=\"logo CR\" width=100% align=center>"
   ]
  },
  {
   "cell_type": "markdown",
   "metadata": {},
   "source": [
    "<div class=\"alert alert-warning\">\n",
    "<img src=\"Images/CR.png\" alt=\"logo CR\" width=5% align=right>\n",
    "b) Écrire les deux instructions permettant de construire l’arbre de la figure 1. On rappelle que le nombre val est égal à 16.\n",
    "\n",
    "4) Écrire une méthode recherche(self, v) qui prend en argument un entier v et renvoie la valeur True si cet entier est une étiquette de l’arbre, False sinon.\n",
    "</div>"
   ]
  },
  {
   "cell_type": "code",
   "execution_count": 1,
   "metadata": {
    "ExecuteTime": {
     "end_time": "2021-11-22T10:48:22.848179Z",
     "start_time": "2021-11-22T10:48:22.822420Z"
    }
   },
   "outputs": [
    {
     "name": "stdout",
     "output_type": "stream",
     "text": [
      "False\n"
     ]
    }
   ],
   "source": [
    "class Noeud():\n",
    "    def __init__(self, v):\n",
    "        self.ag = None\n",
    "        self.ad = None\n",
    "        self.v = v\n",
    "\n",
    "    def insere(self, v):\n",
    "        n = self\n",
    "        est_insere = False\n",
    "        while not est_insere :\n",
    "            if v == n.v:\n",
    "                est_insere = True\n",
    "            elif v < n.v:\n",
    "                if n.ag != None:\n",
    "                    n = n.ag\n",
    "                else:\n",
    "                    n.ag = Noeud(v)\n",
    "                    est_insere = True\n",
    "            else:\n",
    "                if n.ad != None:\n",
    "                    n = n.ad\n",
    "                else:\n",
    "                    n.ad = Noeud(v)\n",
    "                    est_insere = True\n",
    "\n",
    "    def insere_tout(self, vals):\n",
    "        for v in vals:\n",
    "            self.insere(v)\n",
    "    \n",
    "    def recherche(self, v:int):\n",
    "        if v == self.v:\n",
    "            return True\n",
    "        elif v < self.v and self.ag:\n",
    "            return self.ag.recherche(v)\n",
    "        elif v > self.v and self.ad:\n",
    "            return self.ad.recherche(v)\n",
    "        return False\n",
    "\n",
    "if __name__=='__main__':\n",
    "    racine = Noeud(18)\n",
    "    racine.insere_tout([15, 13, 12, 16, 23, 19, 21, 32])\n",
    "    print(racine.recherche(320))\n"
   ]
  },
  {
   "cell_type": "markdown",
   "metadata": {},
   "source": [
    "PRE [RGD]\n",
    "INF [GRD]\n",
    "SUF [GDR]"
   ]
  },
  {
   "cell_type": "markdown",
   "metadata": {},
   "source": [
    "racine : 1\n",
    "taille : 24\n",
    "hauteur : 7\n",
    "feuilles : 6,7,8,9,11,12,14,15,16,18,20,21,22,23,24\n",
    "noeud 4 : père : 3\n",
    "            frères : 10 11 12 13\n",
    "            fils : 5\n",
    "            hauteur : 4\n",
    "            profondeur"
   ]
  }
 ],
 "metadata": {
  "hide_input": false,
  "kernelspec": {
   "display_name": "Python 3",
   "language": "python",
   "name": "python3"
  },
  "language_info": {
   "codemirror_mode": {
    "name": "ipython",
    "version": 3
   },
   "file_extension": ".py",
   "mimetype": "text/x-python",
   "name": "python",
   "nbconvert_exporter": "python",
   "pygments_lexer": "ipython3",
   "version": "3.6.10"
  },
  "latex_envs": {
   "LaTeX_envs_menu_present": true,
   "autoclose": false,
   "autocomplete": true,
   "bibliofile": "biblio.bib",
   "cite_by": "apalike",
   "current_citInitial": 1,
   "eqLabelWithNumbers": true,
   "eqNumInitial": 1,
   "hotkeys": {
    "equation": "Ctrl-E",
    "itemize": "Ctrl-I"
   },
   "labels_anchors": false,
   "latex_user_defs": false,
   "report_style_numbering": false,
   "user_envs_cfg": false
  },
  "nbTranslate": {
   "displayLangs": [
    "*"
   ],
   "hotkey": "alt-t",
   "langInMainMenu": true,
   "sourceLang": "en",
   "targetLang": "fr",
   "useGoogleTranslate": true
  },
  "toc": {
   "base_numbering": 1,
   "nav_menu": {},
   "number_sections": true,
   "sideBar": true,
   "skip_h1_title": false,
   "title_cell": "Table of Contents",
   "title_sidebar": "Contents",
   "toc_cell": false,
   "toc_position": {},
   "toc_section_display": true,
   "toc_window_display": false
  },
  "varInspector": {
   "cols": {
    "lenName": 16,
    "lenType": 16,
    "lenVar": 40
   },
   "kernels_config": {
    "python": {
     "delete_cmd_postfix": "",
     "delete_cmd_prefix": "del ",
     "library": "var_list.py",
     "varRefreshCmd": "print(var_dic_list())"
    },
    "r": {
     "delete_cmd_postfix": ") ",
     "delete_cmd_prefix": "rm(",
     "library": "var_list.r",
     "varRefreshCmd": "cat(var_dic_list()) "
    }
   },
   "types_to_exclude": [
    "module",
    "function",
    "builtin_function_or_method",
    "instance",
    "_Feature"
   ],
   "window_display": false
  }
 },
 "nbformat": 4,
 "nbformat_minor": 2
}
