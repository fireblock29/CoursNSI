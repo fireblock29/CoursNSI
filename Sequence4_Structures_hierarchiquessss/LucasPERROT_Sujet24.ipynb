{
 "cells": [
  {
   "cell_type": "markdown",
   "metadata": {},
   "source": [
    "# Exercice 1"
   ]
  },
  {
   "cell_type": "code",
   "execution_count": 3,
   "metadata": {
    "ExecuteTime": {
     "end_time": "2021-11-28T12:09:19.745863Z",
     "start_time": "2021-11-28T12:09:19.733036Z"
    }
   },
   "outputs": [
    {
     "name": "stdout",
     "output_type": "stream",
     "text": [
      "11\n"
     ]
    }
   ],
   "source": [
    "def recherche(elt,tab:list)->int:\n",
    "    \"\"\"\n",
    "    Fonction de recherche de la dernière occurence d'un élément dans une liste.\n",
    "    Cette fonction prend en paramètres l'élément que l'on recherche (elt) \n",
    "    et la liste dans laquelle on souhaite chercher l'élément (tab)\n",
    "    \"\"\"\n",
    "    indice,indiceval=0,None #Instanciation de variables de mémorisation des indices\n",
    "    for i in tab: #Pour chaque élément de la liste\n",
    "        if i==elt: #Si cet élément correspond au caractère que l'on cherche\n",
    "            indiceval=indice #On retient l'indice actuel\n",
    "        indice+=1 #Incrémentation de l'indice\n",
    "    if not(indiceval): #Si indiceval est défini à \"None\"\n",
    "        return -1 #On retourne la valeur \"-1\"\n",
    "    return indiceval #Sinon, on retourne l'indice de la dernière occurence du caractère\n",
    "\n",
    "\n",
    "#Programme principal\n",
    "if __name__=='__main__':\n",
    "    assert recherche(1,[2,3,4])==-1 and recherche(1,[10,12,1,56])==2 and recherche(1,[8,1,10,1,7,1,8])==5, \"Erreur d'implémentation\"\n",
    "    print(recherche(5, [0,9,5,2,8,7,2,3,8,2,0,5,9,7]))"
   ]
  },
  {
   "cell_type": "markdown",
   "metadata": {},
   "source": [
    "# Exercice 2"
   ]
  },
  {
   "cell_type": "code",
   "execution_count": 1,
   "metadata": {
    "ExecuteTime": {
     "end_time": "2021-11-29T09:49:41.933077Z",
     "start_time": "2021-11-29T09:49:41.917069Z"
    }
   },
   "outputs": [
    {
     "name": "stdout",
     "output_type": "stream",
     "text": [
      "False\n",
      "192.168.0.254\n"
     ]
    }
   ],
   "source": [
    "class AdresseIP:\n",
    "    def __init__(self, adresse):\n",
    "        self.adresse = adresse\n",
    "        \n",
    "    def liste_octet(self):\n",
    "        \"\"\"renvoie une liste de nombres entiers,la liste des octets de l'adresse IP\"\"\"\n",
    "        return [int(i) for i in self.adresse.split(\".\")] \n",
    "    \n",
    "    def est_reservee(self):\n",
    "        \"\"\"renvoie True si l'adresse IP est une adresse réservée, False sinon\"\"\"\n",
    "        return self.adresse == '192.168.0.0' or self.adresse == '192.168.0.255'\n",
    "    \n",
    "    def adresse_suivante(self):\n",
    "        \"\"\"renvoie un objet de AdresseIP avec l'adresse IP qui suit l’adresse self si elle existe et False sinon\"\"\"\n",
    "        if self.liste_octet()[3] < 254:\n",
    "            octet_nouveau = self.liste_octet()[3] + 1\n",
    "            return AdresseIP('192.168.0.' + str(octet_nouveau))\n",
    "        else:\n",
    "            return False\n",
    "\n",
    "#Programme principal\n",
    "if __name__==\"__main__\":\n",
    "    #Définition de 3 adresses IP\n",
    "    adresse1=AdresseIP('192.168.0.1')\n",
    "    adresse2=AdresseIP('192.168.0.2')\n",
    "    adresse3=AdresseIP('192.168.0.0')\n",
    "    assert not(adresse1.est_reservee()) and adresse2.adresse_suivante().adresse=='192.168.0.3' and adresse3.est_reservee(), \"Erreur d'implémentation\"\n",
    "    \n",
    "    #Définition d'une 4ème adresse IP\n",
    "    adresse4=AdresseIP('192.168.0.253')\n",
    "    print(adresse4.est_reservee())\n",
    "    print(adresse4.adresse_suivante().adresse)"
   ]
  },
  {
   "cell_type": "code",
   "execution_count": null,
   "metadata": {},
   "outputs": [],
   "source": []
  }
 ],
 "metadata": {
  "hide_input": false,
  "kernelspec": {
   "display_name": "Python 3",
   "language": "python",
   "name": "python3"
  },
  "language_info": {
   "codemirror_mode": {
    "name": "ipython",
    "version": 3
   },
   "file_extension": ".py",
   "mimetype": "text/x-python",
   "name": "python",
   "nbconvert_exporter": "python",
   "pygments_lexer": "ipython3",
   "version": "3.6.10"
  },
  "latex_envs": {
   "LaTeX_envs_menu_present": true,
   "autoclose": false,
   "autocomplete": true,
   "bibliofile": "biblio.bib",
   "cite_by": "apalike",
   "current_citInitial": 1,
   "eqLabelWithNumbers": true,
   "eqNumInitial": 1,
   "hotkeys": {
    "equation": "Ctrl-E",
    "itemize": "Ctrl-I"
   },
   "labels_anchors": false,
   "latex_user_defs": false,
   "report_style_numbering": false,
   "user_envs_cfg": false
  },
  "nbTranslate": {
   "displayLangs": [
    "*"
   ],
   "hotkey": "alt-t",
   "langInMainMenu": true,
   "sourceLang": "en",
   "targetLang": "fr",
   "useGoogleTranslate": true
  },
  "toc": {
   "base_numbering": 1,
   "nav_menu": {},
   "number_sections": true,
   "sideBar": true,
   "skip_h1_title": false,
   "title_cell": "Table of Contents",
   "title_sidebar": "Contents",
   "toc_cell": false,
   "toc_position": {},
   "toc_section_display": true,
   "toc_window_display": false
  },
  "varInspector": {
   "cols": {
    "lenName": 16,
    "lenType": 16,
    "lenVar": 40
   },
   "kernels_config": {
    "python": {
     "delete_cmd_postfix": "",
     "delete_cmd_prefix": "del ",
     "library": "var_list.py",
     "varRefreshCmd": "print(var_dic_list())"
    },
    "r": {
     "delete_cmd_postfix": ") ",
     "delete_cmd_prefix": "rm(",
     "library": "var_list.r",
     "varRefreshCmd": "cat(var_dic_list()) "
    }
   },
   "types_to_exclude": [
    "module",
    "function",
    "builtin_function_or_method",
    "instance",
    "_Feature"
   ],
   "window_display": false
  }
 },
 "nbformat": 4,
 "nbformat_minor": 4
}
