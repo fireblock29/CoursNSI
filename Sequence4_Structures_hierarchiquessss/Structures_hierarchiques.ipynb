{
 "cells": [
  {
   "cell_type": "markdown",
   "metadata": {},
   "source": [
    "# <center><font face=\"arial\" size=\"5\" color=#0101DF>NUMERIQUE ET SCIENCES INFORMATIQUES Terminale NSI</font></center>\n"
   ]
  },
  {
   "cell_type": "markdown",
   "metadata": {},
   "source": []
  },
  {
   "cell_type": "markdown",
   "metadata": {},
   "source": [
    "## <font color=#013ADF>Séquence N° 4 : Structures hiérarchiques : arbres, arbres binaires et arbre binaire de recherche</font>"
   ]
  },
  {
   "cell_type": "markdown",
   "metadata": {},
   "source": [
    "<div class=\"alert alert-danger\" role=\"alert\">\n",
    "    \n",
    "Les objectifs de cette séquence sont :\n",
    "\n",
    "- Identifier des situations nécessitant une structure de données arborescente ;\n",
    "- Évaluer quelques mesures des arbres binaires (taille, hauteur ...) ;\n",
    "- Calculer la taille et la hauteur d'un arbre ;\n",
    "- Parcourir un arbre de différentes façons (ordres infixe, préfixe ou suffixe ; ordre en largeur d'abord) ;\n",
    "- Rechercher une clé dans un arbre de recherche, insérer une clé.\n",
    "\n",
    "\n",
    "</div>"
   ]
  },
  {
   "cell_type": "markdown",
   "metadata": {},
   "source": [
    "<div class=\"alert alert-warning\">\n",
    "<img src=\"Images/CR.png\" alt=\"logo CR\" width=5% align=right>\n",
    "    \n",
    "Travail préalable   \n",
    "\n",
    "- Lire les chapitres 2  et 11 (pages 276 à 282) du livre ;\n",
    "- Donner des exemples nécessitant l'utilisation d'une structure de données arborescente (dans plusieurs domaines)\n",
    "\n",
    "Pour l'arbre suivant, indiquez :\n",
    "\n",
    "<img src=\"Images/def_arbre.png\" alt=\"arbre\" width=40% align=center>\n",
    "    \n",
    "- La clé du noeud \"racine\" ;\n",
    "- La clé des noeuds \"feuille\" de l'arbre ;\n",
    "- Le prédécesseur du noeud 7 ;\n",
    "- Un successeur du noeud 7 ;\n",
    "- Sa taille ;\n",
    "- Sa hauteur ;\n",
    "- S'il s'agit d'un arbre binaire ?\n",
    "- Donner la liste des noeuds rencontrés dans un parcours :\n",
    "    - En largeur ;\n",
    "    - En profondeur :\n",
    "        - Parcours préfixe ;\n",
    "        - Parcours suffixe (ou postfixe) ;\n",
    "        - Parcours infixe\n",
    "<div>"
   ]
  },
  {
   "cell_type": "markdown",
   "metadata": {},
   "source": [
    "\n",
    "Arbre généalogique, hiérarchie administrative, arbre lexicographique, arbre syntaxique, tournoi sportif, formats json, xml ...\n",
    "    \n",
    "clé racine : 0\n",
    "\n",
    "clé feuille :9, 2, 6, 12, 13, 14\n",
    "\n",
    "Prédécesseur du noeud 7 : 3\n",
    "\n",
    "Successeur du noeud 7 : 12 ou 13\n",
    "\n",
    "Taille de l'arbre : 18\n",
    "\n",
    "Hauteur de l'arbre : 4\n",
    "\n",
    "Ce n'est pas un arbre binaire car le noeud 3 à 3 successeurs\n",
    "\n",
    "Parcours en largeur → niveau par niveau : 0, 1, 2, 3, 4, 5, 6, 7, 8, 9, 10, 11, 12, 13, 14, 15, 16, 17\n",
    "\n",
    "Parcours en profondeur :\n",
    "\n",
    "**Dans un parcours prefixe, chaque nœud est visite avant que ses enfants soient visites. (Racine Gauche Droite)**\n",
    "\n",
    "préfixe → 0, 1, 4, 9, 5, 10, 15, 11, 16, 17, 2, 3, 6, 7, 12, 13, 8, 14\n",
    "\n",
    "**Dans un parcours postfixe (ou suffixe), chaque nœud est visite après que ses enfants soient visites.(GDR)**\n",
    "\n",
    "suffixe → 9, 4, 15, 10, 16, 17, 11, 5, 1, 2, 6, 12, 13, 7, 14, 8, 3, 0\n",
    "\n",
    "**Dans un parcours infixe, chaque nœud est visité apres son enfant gauche mais avant son enfant droit. (GRD**\n",
    "\n",
    "infixe → 9, 4, 1, 15, 10, 5, 16, 11, 17, 2, 6, 3, 12, 7, 13, 8, 14"
   ]
  },
  {
   "cell_type": "markdown",
   "metadata": {},
   "source": [
    "<div class=\"alert alert-warning\">\n",
    "<img src=\"Images/CR.png\" alt=\"logo CR\" width=5% align=right>\n",
    "    \n",
    "Un autre exemple avant que vous ne me posiez la question : un arbre syntaxique.\n",
    "\n",
    "<img src=\"Images/arbre_syntaxique.png\" alt=\"arbre\" width=30% align=center>\n",
    " \n",
    "- Parcours infixe ?\n",
    "- Parcours préfixe ?\n",
    "- Parcours suffixe ?"
   ]
  },
  {
   "cell_type": "markdown",
   "metadata": {},
   "source": [
    "**infixe** : 2\\*3+7 --> Noeud dans ordre croissant\\\n",
    "**préfixe** : \\*2+37 --> Créa° arborescence OS\\\n",
    "**suffixe** : 237+* --> Supprimer une arborescence de fichers\\"
   ]
  },
  {
   "cell_type": "markdown",
   "metadata": {},
   "source": [
    "### 1- Les arbres binaires"
   ]
  },
  {
   "cell_type": "markdown",
   "metadata": {},
   "source": [
    "<img src=\"Images/arbre_binaire.png\" alt=\"arbre_binaire\" width=30% align=left>\n",
    "<img src=\"Images/recursion.png\" alt=\"def_recursif\" width=30% align=right>"
   ]
  },
  {
   "cell_type": "markdown",
   "metadata": {},
   "source": [
    "<div class=\"alert alert-warning\">\n",
    "<img src=\"Images/CR.png\" alt=\"logo CR\" width=5% align=right>\n",
    "    \n",
    "Travail préalable\n",
    "\n",
    "- Rappeler ici ce qu'est un arbre binaire ?\n",
    "- Donner une défintion récursive d'un arbre.\n",
    "<div>"
   ]
  },
  {
   "cell_type": "markdown",
   "metadata": {},
   "source": [
    "<img src=\"Images/arbre_binaire_2.png\" alt=\"arbre_binaire\" width=30% align=left>\n",
    "\n",
    "Voici une première représentation de cet arbre binaire.\n",
    "\n",
    "Observer attentivement les appels récursifs de la méthode **afficher** : Quelles sont les conditions d'arrêt ?"
   ]
  },
  {
   "cell_type": "code",
   "execution_count": null,
   "metadata": {
    "ExecuteTime": {
     "end_time": "2021-11-08T10:23:51.370313Z",
     "start_time": "2021-11-08T10:23:51.358101Z"
    }
   },
   "outputs": [],
   "source": [
    "class Noeud:\n",
    "\n",
    "    def __init__(self,cle:str):\n",
    "        self.fils_gauche = None\n",
    "        self.fils_droit = None\n",
    "        self.cle = cle\n",
    "    \n",
    "    def afficher(self, level=0):\n",
    "        if self.fils_droit:\n",
    "            self.fils_droit.afficher(level + 1)\n",
    "        print(f\"{' ' * 4 * level}{self.cle}\")\n",
    "        if self.fils_gauche:\n",
    "            self.fils_gauche.afficher(level + 1)\n",
    "\n",
    "if __name__=='__main__':\n",
    "    n1 = Noeud('r')\n",
    "    n2 = Noeud('a')\n",
    "    n3 = Noeud('b')\n",
    "    n4 = Noeud('c')\n",
    "    n5 = Noeud('d')\n",
    "    n1.fils_gauche = n2\n",
    "    n1.fils_droit = n3\n",
    "    n3.fils_gauche = n4\n",
    "    n3.fils_droit = n5\n",
    "    n1.afficher()"
   ]
  },
  {
   "cell_type": "markdown",
   "metadata": {},
   "source": [
    "Voici une seconde représentation avec une liste d'adjacence dans un dictionnaire :"
   ]
  },
  {
   "cell_type": "code",
   "execution_count": null,
   "metadata": {
    "ExecuteTime": {
     "end_time": "2021-11-08T10:24:00.189062Z",
     "start_time": "2021-11-08T10:24:00.180759Z"
    }
   },
   "outputs": [],
   "source": [
    "arbre = { 'r' : ['a','b'], 'a' : [None,None],'b' : ['c','d'], 'c' : [None,None], 'd' : [None,None]}\n",
    "print(arbre)"
   ]
  },
  {
   "cell_type": "markdown",
   "metadata": {},
   "source": [
    "*Remarque : On aurait pu utiliser une liste de listes, mais ça fait une révision sur les dictionnaires ! 😀*\\"
   ]
  },
  {
   "cell_type": "markdown",
   "metadata": {},
   "source": [
    "<div class=\"alert alert-warning\">\n",
    "<img src=\"Images/CR.png\" alt=\"logo CR\" width=5% align=right>\n",
    "    \n",
    "Travail demandé\n",
    "\n",
    "En s'inspirant des algorithmes **récursifs**  proposés dans le livre :\n",
    "\n",
    "- Créer une fonction qui détermine la hauteur\n",
    "- Créer une fonction qui détermine la taille\n",
    "- Créer une fonction qui réalise un parcours en profondeur préfixe\n",
    "- Créer une fonction qui réalise un parcours en profondeur infixe\n",
    "- Créer une fonction qui réalise un parcours en profondeur suffixe (postfixe)\n",
    "\n",
    "    \n",
    "En utilisant une structure **file** :\n",
    "    \n",
    "- Créer une fonction qui réalise un parcours en largeur. On propose l'algorithme suivant :\n",
    "```python\n",
    "    Fonction parcours_largeur(racine)\n",
    "    file\n",
    "    ajouter racine à file\n",
    "    tant que file est non vide :\n",
    "        défiler le nœud de début de file\n",
    "        Afficher le nœud \n",
    "        Ajouter le nœud de gauche puis de droite à la file.\n",
    "```\n",
    "\n",
    "<img src=\"Images/warning.png\" alt=\"warning\" width=5% align=left>\n",
    "<br>\n",
    "    \n",
    "**Faites \"tourner\" à la main cet algorithme sur le graphe précédent avant de l'implémenter.**\n",
    "<div>"
   ]
  },
  {
   "cell_type": "code",
   "execution_count": 1,
   "metadata": {
    "ExecuteTime": {
     "end_time": "2021-11-15T09:21:23.608991Z",
     "start_time": "2021-11-15T09:21:23.570640Z"
    }
   },
   "outputs": [
    {
     "name": "stdout",
     "output_type": "stream",
     "text": [
      "Hauteur de l'arbre : 2\n",
      "\n",
      "Taille de l'arbre : 5\n",
      "\n",
      "Parcours préfixe : ['r', 'a', 'b', 'c', 'd']\n",
      "\n",
      "Parcours infixe : ['a', 'r', 'c', 'b', 'd']\n",
      "\n",
      "Parcours suffixe : ['a', 'c', 'd', 'b', 'r']\n",
      "\n",
      "Parcours largeur : ['r', 'a', 'b', 'c', 'd']\n",
      "\n"
     ]
    }
   ],
   "source": [
    "from strucline import File\n",
    "arbre = { 'r' : ['a','b'], 'a' : [None,None],'b' : ['c','d'], 'c' : [None,None], 'd' : [None,None]}\n",
    "def item1(a):\n",
    "    liste=[]\n",
    "    for elt in a.keys():\n",
    "        liste.append(elt)\n",
    "    return liste[0]\n",
    "\n",
    "def hauteur(a:dict, noeud=item1(arbre)) :\n",
    "    \"\"\"\n",
    "    Hauteur d'un arbre\n",
    "    L'arbre est un dictionnaire\n",
    "    \"\"\"\n",
    "    if a[noeud][0] == None and a[noeud][1] == None : #Si droite et gauche None\n",
    "        return 0\n",
    "    else:\n",
    "        return 1+max(hauteur(arbre, arbre[noeud][0]), hauteur(arbre, arbre[noeud][1]))\n",
    "\n",
    "def taille(a:dict, noeud=item1(arbre)) :\n",
    "    \"\"\"\n",
    "    Taille d'un arbre\n",
    "    L'arbre est un dictionnaire\n",
    "    \"\"\"\n",
    "    if a[noeud][0] == None and a[noeud][1] == None : #Si droite et gauche None\n",
    "        return 1\n",
    "    else:\n",
    "        return 1+taille(arbre, arbre[noeud][0])+taille(arbre, arbre[noeud][1])\n",
    "    \n",
    "    \n",
    "def prefixe(parcours, a, noeud=item1(arbre)):\n",
    "    if noeud : #Si droite et gauche Non None\n",
    "        return (parcours.append(noeud), prefixe(parcours, a, a[noeud][0]), prefixe(parcours, a, a[noeud][1])) #RGD\n",
    "    \n",
    "def infixe(parcours, a, noeud=item1(arbre)):\n",
    "    if noeud : #Si droite et gauche Non None\n",
    "        return(infixe(parcours, a, a[noeud][0]), parcours.append(noeud), infixe(parcours, a, a[noeud][1])) #GRD\n",
    "    \n",
    "def suffixe(parcours, a, noeud=item1(arbre)):\n",
    "    if noeud : #Si droite et gauche Non None\n",
    "        return(suffixe(parcours, a, a[noeud][0]), suffixe(parcours, a, a[noeud][1]), parcours.append(noeud)) #GDR\n",
    "\n",
    "def largeur(arbre:dict, r=item1(arbre))->list:\n",
    "    \"\"\"\n",
    "    Parcours d'un arbre en largeur\n",
    "    L'arbre se présente sous la forme d'un dictionnaire\n",
    "    Et la racine de notre arbre est le résultat de l'exécution de la fonction item1()\n",
    "    Ce programme renvoie une liste\n",
    "    \"\"\"\n",
    "    file1=File() #Classe file préalablement importée\n",
    "    passage=[] \n",
    "    file1.enfiler(r) \n",
    "    while not(file1.est_vide()): \n",
    "        noeud = file1.defiler() \n",
    "        if noeud not in passage: \n",
    "            passage.append(noeud) \n",
    "            for suivant in arbre[noeud]: \n",
    "                if suivant and suivant not in passage: \n",
    "                    file1.enfiler(suivant) \n",
    "    return passage\n",
    "\n",
    "print(f'Hauteur de l\\'arbre : {hauteur(arbre)}\\n')\n",
    "\n",
    "print(f'Taille de l\\'arbre : {taille(arbre)}\\n')\n",
    "\n",
    "parcours_prefixe=[]\n",
    "pref=prefixe(parcours_prefixe, arbre)\n",
    "print(f'Parcours préfixe : {parcours_prefixe}\\n')\n",
    "\n",
    "parcours_infixe=[]\n",
    "pref=infixe(parcours_infixe, arbre)\n",
    "print(f'Parcours infixe : {parcours_infixe}\\n')\n",
    "\n",
    "parcours_suffixe=[]\n",
    "pref=suffixe(parcours_suffixe, arbre)\n",
    "print(f'Parcours suffixe : {parcours_suffixe}\\n')\n",
    "\n",
    "p=largeur(arbre)\n",
    "print(f'Parcours largeur : {p}\\n')"
   ]
  },
  {
   "cell_type": "raw",
   "metadata": {},
   "source": [
    "Parcours largeur\n",
    "\n",
    "\n",
    "contextualiser\n",
    "puis passer au code"
   ]
  },
  {
   "cell_type": "markdown",
   "metadata": {},
   "source": [
    "### 2- Les arbres binaires de recherche (ABR)"
   ]
  },
  {
   "cell_type": "markdown",
   "metadata": {},
   "source": [
    "<img src=\"Images/ABR.png\" alt=\"arbre_binaire_recherche\" width=30% align=center>"
   ]
  },
  {
   "cell_type": "markdown",
   "metadata": {},
   "source": [
    "**TAD (partiel) arbre binaire de recherche**\n",
    "\n",
    "Type : ABR\n",
    "\n",
    "Utilise : Donnée (de type entier), Booléen\n",
    "\n",
    "Opérations :\n",
    "    \n",
    "    constructeur : Donnée x ABR → ABR\n",
    "    \n",
    "    inserer : Donnée x ABR → ABR\n",
    "    \n",
    "    chercher : Donnée x ABR → Booléen\n",
    "    \n",
    " "
   ]
  },
  {
   "cell_type": "markdown",
   "metadata": {},
   "source": [
    "##### <div class=\"alert alert-warning\">\n",
    "<img src=\"Images/CR.png\" alt=\"logo CR\" width=5% align=right>\n",
    "    \n",
    "Travail préalable\n",
    "\n",
    "- Rappeler ici la particularité d'un arbre binaire de recherche ?\n",
    "</div>\n",
    "    \n",
    "<div class=\"alert alert-danger\">\n",
    "    Un arbre binaire de recherche est une arbre dans lql chaque clé d'un noeud est supérieure ou égale à la clé de son fils gauche, et strictement inférieure à la clé de son fils droit.\n",
    "    </div>"
   ]
  },
  {
   "cell_type": "markdown",
   "metadata": {},
   "source": [
    "<div class=\"alert alert-warning\">\n",
    "<img src=\"Images/CR.png\" alt=\"logo CR\" width=5% align=right>\n",
    "\n",
    "Le type abstrait de données \"arbre binaire de recherche\" se limitera à l'interface précedente (référentiel de NSI).\n",
    "    \n",
    "Travail à faire\n",
    "\n",
    "- Implémenter une méthode constructeur prenant en arguments : la clé, le fils gauche, le fils droit et le père s'ils existent !\n",
    "- Implémenter une méthode permettant de chercher si une clé particulière e**S**t présente dans l'ABR\n",
    "- Implementer une méthode permettant d'insérer une clé dans l'ABR\n",
    "\n",
    "Remarque : réutiliser la méthode **afficher** proposée plus haut.    \n",
    "<div>"
   ]
  },
  {
   "cell_type": "code",
   "execution_count": 2,
   "metadata": {
    "ExecuteTime": {
     "end_time": "2021-11-23T08:28:46.245875Z",
     "start_time": "2021-11-23T08:28:46.227054Z"
    }
   },
   "outputs": [
    {
     "name": "stdout",
     "output_type": "stream",
     "text": [
      "                                    150\n",
      "                        46\n",
      "            45\n",
      "                        31\n",
      "30\n",
      "            5\n",
      "False\n",
      "True\n"
     ]
    }
   ],
   "source": [
    "class Noeud():\n",
    "\n",
    "    def __init__(self,cle:int):\n",
    "        self.fg = None\n",
    "        self.fd = None\n",
    "        self.cle = cle\n",
    "    \n",
    "    \n",
    "    def afficher(self, level=0):\n",
    "        if self.fd:\n",
    "            self.fd.afficher(level + 1)\n",
    "        print(f\"{'   '*4* level}{self.cle}\")\n",
    "        if self.fg:\n",
    "            self.fg.afficher(level + 1)\n",
    "            \n",
    "            \n",
    "    def ajouter(self, cle):\n",
    "        if cle<self.cle:\n",
    "            if self.fg:\n",
    "                self.fg.ajouter(cle)\n",
    "            else:\n",
    "                self.fg=Noeud(cle)\n",
    "            return self.fg\n",
    "    \n",
    "        elif cle>self.cle:\n",
    "            if self.fd:\n",
    "                self.fd.ajouter(cle)\n",
    "            else:\n",
    "                self.fd=Noeud(cle)\n",
    "            return self.fd\n",
    "    \n",
    "    \n",
    "    def is_key(self, cle):\n",
    "        if self.cle==cle:\n",
    "            return True\n",
    "        if cle < self.cle and self.fg:\n",
    "            return self.fg.is_key(cle)\n",
    "        if cle > self.cle and self.fd:\n",
    "            return self.fd.is_key(cle)\n",
    "        return False\n",
    "    \n",
    "\n",
    "if __name__=='__main__':\n",
    "    noeudhuit=Noeud(30)\n",
    "\n",
    "    noeudhuit.ajouter(45)\n",
    "    noeudhuit.ajouter(46)\n",
    "    noeudhuit.ajouter(5)\n",
    "    noeudhuit.ajouter(150)\n",
    "    noeudhuit.ajouter(31)\n",
    "    noeudhuit.ajouter(30)\n",
    "\n",
    "    noeudhuit.afficher()\n",
    "\n",
    "    print(noeudhuit.is_key(9865875))\n",
    "    print(noeudhuit.is_key(45))"
   ]
  },
  {
   "cell_type": "code",
   "execution_count": 5,
   "metadata": {
    "ExecuteTime": {
     "end_time": "2021-11-16T08:10:25.939074Z",
     "start_time": "2021-11-16T08:10:25.925918Z"
    },
    "code_folding": [],
    "run_control": {
     "marked": false
    }
   },
   "outputs": [
    {
     "name": "stdout",
     "output_type": "stream",
     "text": [
      "                        501\n",
      "            500\n",
      "                        155\n",
      "45\n",
      "            21\n",
      "                        1\n",
      "True\n"
     ]
    }
   ],
   "source": [
    "class ABR():\n",
    "    def __init__(self):\n",
    "        self.racine=None\n",
    "    def ajouter(self, cle):\n",
    "        if self.racine:\n",
    "            self.racine.ajouter(cle)\n",
    "        else:\n",
    "            self.racine=Noeud(cle)\n",
    "            \n",
    "    def afficher(self, level=0):\n",
    "        if self.racine:\n",
    "            return self.racine.afficher()\n",
    "        \n",
    "    def is_key(self, cle):\n",
    "        if self.racine:\n",
    "            return self.racine.is_key(cle)\n",
    "        return False\n",
    "        \n",
    "        \n",
    "        \n",
    "if __name__=='__main__':\n",
    "    arbre=ABR()\n",
    "    arbre.ajouter(45)\n",
    "    arbre.ajouter(500)\n",
    "    arbre.ajouter(155)\n",
    "    arbre.ajouter(21)\n",
    "    arbre.ajouter(501)\n",
    "    arbre.ajouter(1)\n",
    "    arbre.afficher()\n",
    "    print(arbre.is_key(1))"
   ]
  },
  {
   "cell_type": "code",
   "execution_count": null,
   "metadata": {
    "ExecuteTime": {
     "start_time": "2021-11-30T16:33:28.858Z"
    }
   },
   "outputs": [],
   "source": [
    "class ABR():\n",
    "    def __init__(self):\n",
    "        self.racine=None\n",
    "    def ajouter(self, cle):\n",
    "        if self.racine:\n",
    "            self.racine.ajouter(cle)\n",
    "        else:\n",
    "            self.racine=Noeud(cle)\n",
    "            \n",
    "    def afficher(self, level=0):\n",
    "        if self.racine:\n",
    "            return self.racine.afficher()\n",
    "        \n",
    "    def is_key(self, cle):\n",
    "        if self.racine:\n",
    "            return self.racine.is_key(cle)\n",
    "        return False\n",
    "        \n",
    "        \n",
    "        \n",
    "if __name__=='__main__':\n",
    "    arbre=ABR()\n",
    "    arbre.ajouter(45)\n",
    "    arbre.ajouter(500)\n",
    "    arbre.ajouter(155)\n",
    "    arbre.ajouter(21)\n",
    "    arbre.ajouter(501)\n",
    "    arbre.ajouter(1)\n",
    "    arbre.afficher()\n",
    "    print(arbre.is_key(1))"
   ]
  },
  {
   "cell_type": "markdown",
   "metadata": {},
   "source": [
    "### Conclusion"
   ]
  },
  {
   "cell_type": "markdown",
   "metadata": {},
   "source": [
    "<div class=\"alert alert-success\">\n",
    "<img src=\"Images/ABR_bis.png\" alt=\"binaire\" width=30% align=left>\n",
    "<br>   \n",
    "<img src=\"Images/ABR_degenere.png\" alt=\"degenere\" width=30% align=center>   \n",
    "<div>"
   ]
  },
  {
   "cell_type": "code",
   "execution_count": null,
   "metadata": {
    "ExecuteTime": {
     "end_time": "2021-11-23T08:31:45.836779Z",
     "start_time": "2021-11-23T08:31:45.772030Z"
    }
   },
   "outputs": [],
   "source": []
  },
  {
   "cell_type": "markdown",
   "metadata": {
    "heading_collapsed": true
   },
   "source": [
    "### 4"
   ]
  },
  {
   "cell_type": "markdown",
   "metadata": {
    "hidden": true
   },
   "source": []
  },
  {
   "cell_type": "raw",
   "metadata": {
    "hidden": true
   },
   "source": [
    "\n",
    "\n",
    "\n",
    "\n",
    "\n",
    "\n",
    "\n",
    "\n",
    "\n",
    "\n",
    "\n",
    "\n",
    "\n",
    "                                                                              (@@) (  ) (@)  ( )  @@    ()    @     O     @     O      @\n",
    "                                                                         (   )\n",
    "                                                                     (@@@@)\n",
    "                                                                  (    )\n",
    "\n",
    "                                                                (@@@)\n",
    "                                                             ====        ________                ___________\n",
    "                                                         _D _|  |_______/        \\__I_I_____===__|_________|\n",
    "                                                          |(_)---  |   H\\________/ |   |        =|___ ___|      _________________\n",
    "                                                          /     |  |   H  |  |     |   |         ||_| |_||     _|                \\_____A\n",
    "                                                         |      |  |   H  |__--------------------| [___] |   =|                        |\n",
    "                                                         | ________|___H__/__|_____/[][]~\\_______|       |   -|                        |\n",
    "                                                         |/ |   |-----------I_____I [][] []  D   |=======|____|________________________|_\n",
    "                                                       __/ =| o |=-~~\\  /~~\\  /~~\\  /~~\\ ____Y___________|__|__________________________|_\n",
    "                                                        |/-=|___|=    ||    ||    ||    |_____/~\\___/          |_D__D__D_|  |_D__D__D_|\n",
    "                                                         \\_/      \\O=====O=====O=====O_/      \\_/               \\_/   \\_/    \\_/   \\_/\n",
    "\n",
    "\n",
    "\n",
    "\n",
    "\n",
    "\n",
    "\n",
    "\n",
    "\n",
    "\n",
    "\n",
    "\n",
    "\n",
    "\n",
    "\n",
    "\n",
    "\n",
    "\n",
    "\n",
    "\n"
   ]
  },
  {
   "cell_type": "markdown",
   "metadata": {
    "hidden": true
   },
   "source": [
    "Commande sl sur Linux"
   ]
  },
  {
   "cell_type": "markdown",
   "metadata": {},
   "source": []
  }
 ],
 "metadata": {
  "hide_input": false,
  "kernelspec": {
   "display_name": "Python 3.10.6 64-bit",
   "language": "python",
   "name": "python3"
  },
  "language_info": {
   "codemirror_mode": {
    "name": "ipython",
    "version": 3
   },
   "file_extension": ".py",
   "mimetype": "text/x-python",
   "name": "python",
   "nbconvert_exporter": "python",
   "pygments_lexer": "ipython3",
   "version": "3.10.6"
  },
  "latex_envs": {
   "LaTeX_envs_menu_present": true,
   "autoclose": false,
   "autocomplete": true,
   "bibliofile": "biblio.bib",
   "cite_by": "apalike",
   "current_citInitial": 1,
   "eqLabelWithNumbers": true,
   "eqNumInitial": 1,
   "hotkeys": {
    "equation": "Ctrl-E",
    "itemize": "Ctrl-I"
   },
   "labels_anchors": false,
   "latex_user_defs": false,
   "report_style_numbering": false,
   "user_envs_cfg": false
  },
  "nbTranslate": {
   "displayLangs": [
    "*"
   ],
   "hotkey": "alt-t",
   "langInMainMenu": true,
   "sourceLang": "en",
   "targetLang": "fr",
   "useGoogleTranslate": true
  },
  "toc": {
   "base_numbering": 1,
   "nav_menu": {},
   "number_sections": true,
   "sideBar": true,
   "skip_h1_title": false,
   "title_cell": "Table of Contents",
   "title_sidebar": "Contents",
   "toc_cell": false,
   "toc_position": {},
   "toc_section_display": true,
   "toc_window_display": false
  },
  "varInspector": {
   "cols": {
    "lenName": 16,
    "lenType": 16,
    "lenVar": 40
   },
   "kernels_config": {
    "python": {
     "delete_cmd_postfix": "",
     "delete_cmd_prefix": "del ",
     "library": "var_list.py",
     "varRefreshCmd": "print(var_dic_list())"
    },
    "r": {
     "delete_cmd_postfix": ") ",
     "delete_cmd_prefix": "rm(",
     "library": "var_list.r",
     "varRefreshCmd": "cat(var_dic_list()) "
    }
   },
   "types_to_exclude": [
    "module",
    "function",
    "builtin_function_or_method",
    "instance",
    "_Feature"
   ],
   "window_display": false
  },
  "vscode": {
   "interpreter": {
    "hash": "916dbcbb3f70747c44a77c7bcd40155683ae19c65e1c03b4aa3499c5328201f1"
   }
  }
 },
 "nbformat": 4,
 "nbformat_minor": 2
}
