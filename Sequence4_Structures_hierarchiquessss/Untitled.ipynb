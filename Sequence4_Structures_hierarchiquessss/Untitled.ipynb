{
 "cells": [
  {
   "cell_type": "code",
   "execution_count": null,
   "metadata": {},
   "outputs": [],
   "source": []
  },
  {
   "cell_type": "code",
   "execution_count": null,
   "metadata": {},
   "outputs": [],
   "source": []
  },
  {
   "cell_type": "code",
   "execution_count": null,
   "metadata": {
    "ExecuteTime": {
     "end_time": "2021-11-27T17:11:19.533665Z",
     "start_time": "2021-11-27T17:11:19.483442Z"
    },
    "code_folding": [
     1,
     17,
     23,
     31,
     42,
     54,
     65,
     76,
     84,
     92,
     99,
     102,
     107
    ],
    "run_control": {
     "marked": false
    }
   },
   "outputs": [
    {
     "ename": "",
     "evalue": "",
     "output_type": "error",
     "traceback": [
      "\u001b[1;31mLes cellules en cours d’exécution avec Python 3.10.6 64-bit nécessitent ipykernel package.\n",
      "\u001b[1;31mExécutez la commande suivante pour installer 'ipykernel' dans l’environnement Python. \n",
      "\u001b[1;31mCommande : '/bin/python3 -m pip install ipykernel -U --user --force-reinstall'"
     ]
    }
   ],
   "source": [
    "from heapq import heappush, heappop\n",
    "class Noeud:\n",
    "    def __init__(self,\n",
    "                 valeur: int,\n",
    "                 lettre: str = \"\",\n",
    "                 filsG = None,\n",
    "                 filsD = None) -> None:\n",
    "        self.valeur = valeur\n",
    "        self.lettre = lettre\n",
    "        self.filsG = filsG\n",
    "        self.filsD = filsD\n",
    "\n",
    "    def __lt__(self, n) -> bool:\n",
    "        \"\"\" \n",
    "        Teste si la valeur du noeud est bien inférieure à la valeur du noeud n.  \n",
    "        \"\"\"\n",
    "        return self.valeur < n.valeur\n",
    "def est_vide(n) -> bool:\n",
    "    \"\"\" Vérifie que n est le noeud vide \"\"\"\n",
    "    return n is None\n",
    "def est_feuille(n) -> bool:\n",
    "    \"\"\" Vérifie que le noeud est une feuille. \"\"\"\n",
    "    return est_vide(n.filsD) and est_vide(n.filsG)\n",
    "def parcours(n) -> None:\n",
    "    \"\"\"Parcours préfixe de l'arbre \"\"\"\n",
    "    if not est_vide(n):\n",
    "        print(n.valeur, end=\" \")\n",
    "        parcours(n.filsG)\n",
    "        parcours(n.filsD)\n",
    "    else:\n",
    "        print(\".\", end=\" \")\n",
    "def creation_dict_frequences(message: str):\n",
    "    \"\"\"\n",
    "    Établit la table des fréquences des caractères dans message.\n",
    "    \"\"\"\n",
    "    d = {}\n",
    "    for car in message:\n",
    "        if car not in d.keys():\n",
    "            d[car] = 1\n",
    "        else:\n",
    "            d[car] = d[car] + 1\n",
    "    return d\n",
    "def construction_arbre_huffman(dic_frequences):\n",
    "    \"\"\"\n",
    "    Construction de l'arbre de Huffman.\n",
    "    \"\"\"\n",
    "    file = []\n",
    "\n",
    "    # Intégration de tous les noeuds dans la file\n",
    "    for cle in dic_frequences.keys():\n",
    "        z = Noeud(dic_frequences[cle], cle)\n",
    "        heappush(file, z)\n",
    "\n",
    "    # Construction de l'Arbre\n",
    "    for i in range(len(dic_frequences) - 1):\n",
    "        x = heappop(file)\n",
    "        y = heappop(file)\n",
    "\n",
    "        z = Noeud(x.valeur + y.valeur)\n",
    "        z.filsG = y\n",
    "        z.filsD = x\n",
    "\n",
    "        heappush(file, z)\n",
    "\n",
    "    return heappop(file)\n",
    "def codes_huffman_parcours(n, dic, code: str) -> None:\n",
    "    \"\"\"\n",
    "    Parcours de l'arbre et construction des codes et du dictionnaire passé en argument. Les lettres constituent les valeurs et les codes les clés.\n",
    "\n",
    "    Algorithme récursif.\n",
    "    \"\"\"\n",
    "    if est_feuille(n):\n",
    "        dic[n.lettre] = code\n",
    "    else:\n",
    "        codes_huffman_parcours(n.filsG, dic, code + \"0\")\n",
    "        codes_huffman_parcours(n.filsD, dic, code + \"1\")\n",
    "def encodage(message: str, codes) -> str:\n",
    "    \"\"\"\n",
    "    Retourne la chaîne de bits produite par le codage de Huffman pour la chaîne message.\n",
    "    \"\"\"\n",
    "    rep = \"\"\n",
    "    for car in message:\n",
    "        rep += codes[car]\n",
    "    return rep\n",
    "def decodage(message_compresse: str, codes) -> str:\n",
    "    \"\"\"\n",
    "    Retourne le message non compressé à partir du codage de Huffman. \n",
    "    \"\"\"\n",
    "    rep = \"\"\n",
    "    temp = \"\"\n",
    "    for code in message_compresse:\n",
    "        temp += code\n",
    "        for (lettre, code_lettre) in codes.items():\n",
    "            if temp == code_lettre:\n",
    "                rep += lettre\n",
    "                temp = \"\"\n",
    "    return rep\n",
    "def lire_fichier(texte) :\n",
    "    ligne=[]\n",
    "    with open(texte, 'r') as txt:\n",
    "        texte=\"\"\n",
    "        lignes = txt.readlines()\n",
    "        for line in lignes:\n",
    "            ligne.append(line)\n",
    "        for i in ligne:\n",
    "            texte=texte+i+\"\"\n",
    "    return texte \n",
    "if __name__ == \"__main__\":\n",
    "    assert creation_dict_frequences(\"ABRACADABRA\") == {'A': 5,'B': 2,'R': 2,'C': 1,'D': 1}\n",
    "\n",
    "    message = lire_fichier('txt.txt')\n",
    "    frequences = {'A': 300,'B': 350,'C': 160,'D': 510,'E': 280,'F': 490,'G': 450,'H': 350}\n",
    "    \n",
    "    print(\"Lecture du fichier\")\n",
    "    print(lire_fichier('txt.txt'))\n",
    "    texte_a_encoder=lire_fichier('txt.txt')\n",
    "    \n",
    "    print(\"Dictionnaire des fréquences :\")\n",
    "    print(frequences)\n",
    "\n",
    "    print(\"\\nParcours de l'arbre :\")\n",
    "    arbre = construction_arbre_huffman(frequences)\n",
    "    parcours(arbre)\n",
    "\n",
    "    dic = {}  # Dictionnaire des codes\n",
    "    codes_huffman_parcours(arbre, dic, \"\")\n",
    "    print(\"\\n\\nCodes : \")\n",
    "    print(dic)\n",
    "\n",
    "    message_code = encodage(\"CACH\", dic)\n",
    "    print(\"\\nEncodage de CACHE\")\n",
    "    print(message_code)\n",
    "\n",
    "    message_decode = decodage(message_code, dic)\n",
    "    print(\"\\nDécodage de CACHE\")\n",
    "    print(message_decode)"
   ]
  },
  {
   "cell_type": "code",
   "execution_count": 27,
   "metadata": {
    "ExecuteTime": {
     "end_time": "2021-11-29T09:51:56.586423Z",
     "start_time": "2021-11-29T09:51:56.548902Z"
    },
    "code_folding": [
     13,
     22,
     55,
     63
    ],
    "run_control": {
     "marked": false
    }
   },
   "outputs": [
    {
     "name": "stdout",
     "output_type": "stream",
     "text": [
      "{'J': 2, 'a': 44, 's': 36, 'o': 34, 'n': 52, ' ': 137, 'é': 10, 't': 43, 'i': 32, 'u': 31, 'e': 74, 'f': 5, '.': 6, 'I': 3, 'l': 33, 'd': 26, ',': 11, 'p': 11, '1': 1, '5': 1, 'à': 4, 'U': 8, 'B': 1, 'O': 1, 'h': 5, 'y': 6, 'q': 7, 'r': 34, 'g': 6, 'è': 7, 'b': 5, 'm': 7, ':': 2, '\"': 6, 'E': 4, '-': 1, 'c': 12, '?': 1, 'û': 1, 'L': 7, 'C': 3, 'x': 2, 'R': 3, 'S': 2, 'T': 3, 'H': 3, 'A': 2, 'G': 2, 'M': 2, 'V': 1, 'j': 2, 'D': 1, 'v': 1, 'Q': 1, 'F': 2, '7': 1, '4': 1, '8': 2, '0': 1, '3': 1, '!': 1}\n",
      "Jason était un enfant. Il étudia, pendant 15 ans, à l UBO, la physique. Il rédigea une thèse répondant à la problématique :  \"Est-ce que l informatique est de la science ?\". Il dût s appuyer, sous contrainte, sur le témoignage du doyen du lycée La Croix Rouge La Salle : \"Tony HAUGUEL\". Ce dernier l insulta très fort en prenant compte de sa nomination. La légende raconte que Monsieur Jourdain a entendu des insultes telles que \"Va bien te faire enculer sale petit arabe juif roux\". Dès lors, le doctorant abandonna son projet de thèse, et devint le collègue de Tim QUEFFURUS, l éternel Laborantin d Honneur de LCR, et passa l entièreté de sa carrière sous les ordres de Monsieur Tony HAUGUEL, qui continua à l insulter tous les matins, de 7h48 à 8h03 !\n"
     ]
    }
   ],
   "source": [
    "import bisect\n",
    "import json\n",
    "class ArbreHuffman():\n",
    "    def __init__(self,lettre,nbocc,g=None,d=None):\n",
    "        self.lettre=lettre\n",
    "        self.nbocc=nbocc\n",
    "        self.gauche=g\n",
    "        self.droite=d\n",
    "    def est_feuille(self)->bool:\n",
    "        return not(self.gauche) and not(self.droite)\n",
    "    def __lt__(self,other):\n",
    "        return self.nbocc>other.nbocc\n",
    "    \n",
    "def parcours(arbre, chemin_en_cours,dico):\n",
    "    if not arbre:\n",
    "        return\n",
    "    if arbre.est_feuille():\n",
    "        dico[arbre.lettre]=chemin_en_cours\n",
    "    else:\n",
    "        parcours(arbre.gauche, chemin_en_cours + [0], dico)\n",
    "        parcours(arbre.droite, chemin_en_cours + [1], dico)\n",
    "        \n",
    "def fusionne(gauche,droite):\n",
    "    nbocc_total=gauche.nbocc+droite.nbocc\n",
    "    return ArbreHuffman(None,nbocc_total,gauche,droite)\n",
    "\n",
    "def compte_occurences(texte:str)->dict:\n",
    "    occ=dict()\n",
    "    for car in texte:\n",
    "        if car not in occ:\n",
    "            occ[f\"{car}\"]=0\n",
    "        occ[f\"{car}\"]=occ[f\"{car}\"]+1\n",
    "    return occ\n",
    "\n",
    "def construit_liste_arbres(texte:str)->list:\n",
    "    dic_occurences=compte_occurences(texte)\n",
    "    liste_arbres=[]\n",
    "    for lettre,occ in dic_occurences.items():\n",
    "        liste_arbres.append(ArbreHuffman(lettre,occ))\n",
    "    return liste_arbres\n",
    "\n",
    "def codage_huffman(texte:str)->dict:\n",
    "    liste_arbres=construit_liste_arbres(texte)\n",
    "    liste_arbres.sort()\n",
    "    while len(liste_arbres)>1:\n",
    "        droite=liste_arbres.pop()\n",
    "        gauche=liste_arbres.pop()\n",
    "        new_arbre=fusionne(gauche, droite)\n",
    "        bisect.insort(liste_arbres, new_arbre)\n",
    "    arbre_huffman=liste_arbres.pop()\n",
    "    dico={}\n",
    "    parcours(arbre_huffman,[],dico)\n",
    "    encode_message(dico,texte)\n",
    "    return dico\n",
    "\n",
    "def lire_fichier(texte) :\n",
    "    with open(texte, 'r') as txt:\n",
    "        lignes = txt.read()\n",
    "        return lignes\n",
    "\n",
    "def encode_message(dico,texte)->str:\n",
    "    encoded=\"\"\n",
    "    for car in texte:\n",
    "        for val in dico[car]:\n",
    "            encoded=encoded+f\"{val}\"\n",
    "    sauvegarde(encoded,dico)\n",
    "    return encoded\n",
    "\n",
    "def sauvegarde(encoded,dico):\n",
    "    file=open(\"huffman.txt\",mode=\"w\")\n",
    "    file.write(encoded)\n",
    "    file.close()\n",
    "    dic=open(\"decodage.txt\",mode=\"w\")\n",
    "    dic.write(json.dumps(dico))\n",
    "    dic.close()\n",
    "\n",
    "def decrypte(textfile, codefile):\n",
    "    decrypted,current=[],\"\"\n",
    "    with open(textfile) as txt:\n",
    "        texte=txt.read()\n",
    "    with open(codefile) as dic:\n",
    "        dictionnaire = dic.read()\n",
    "    dico = dictionnaire.replace(\"'\", '\"') \n",
    "    dico = json.loads(dico,encoding='utf-8')\n",
    "    reverse_code = dict(zip([\"\".join([str(y) for y in v]) for v in dico.values()], dico.keys()))\n",
    "    for c in texte:\n",
    "        current += c\n",
    "        if current in reverse_code:\n",
    "            decrypted.append(reverse_code[current])\n",
    "            current = \"\"\n",
    "    return \"\".join(decrypted)\n",
    "\n",
    "\n",
    "\n",
    "if __name__=='__main__':\n",
    "    texte=lire_fichier(\"txt.txt\")\n",
    "    dico=codage_huffman(texte)\n",
    "    #print(dico)\n",
    "    print(compte_occurences(texte))\n",
    "    print(decrypte(\"huffman.txt\",\"decodage.txt\"))\n",
    "    #print(compte_occurences(texte))"
   ]
  },
  {
   "cell_type": "markdown",
   "metadata": {
    "ExecuteTime": {
     "end_time": "2021-11-27T17:30:57.429529Z",
     "start_time": "2021-11-27T17:30:57.308176Z"
    }
   },
   "source": [
    "https://sigscrb-my.sharepoint.com/:i:/g/personal/perrotl_lacroixrouge-brest_fr/EZVlzbAuZZxPsaq_7-Q7tW0B3QVZCeQ-lO84pWeX6PF2ag"
   ]
  },
  {
   "cell_type": "markdown",
   "metadata": {
    "ExecuteTime": {
     "end_time": "2021-11-27T17:32:58.055281Z",
     "start_time": "2021-11-27T17:32:58.049064Z"
    }
   },
   "source": [
    "<div class=\"test\">\n",
    "<img src=\"Images/projet.png\" alt=\"Huffman\" width=100% align=center>\n",
    "<div>"
   ]
  },
  {
   "cell_type": "code",
   "execution_count": null,
   "metadata": {},
   "outputs": [],
   "source": []
  }
 ],
 "metadata": {
  "hide_input": false,
  "kernelspec": {
   "display_name": "Python 3.10.6 64-bit",
   "language": "python",
   "name": "python3"
  },
  "language_info": {
   "codemirror_mode": {
    "name": "ipython",
    "version": 3
   },
   "file_extension": ".py",
   "mimetype": "text/x-python",
   "name": "python",
   "nbconvert_exporter": "python",
   "pygments_lexer": "ipython3",
   "version": "3.10.6"
  },
  "latex_envs": {
   "LaTeX_envs_menu_present": true,
   "autoclose": false,
   "autocomplete": true,
   "bibliofile": "biblio.bib",
   "cite_by": "apalike",
   "current_citInitial": 1,
   "eqLabelWithNumbers": true,
   "eqNumInitial": 1,
   "hotkeys": {
    "equation": "Ctrl-E",
    "itemize": "Ctrl-I"
   },
   "labels_anchors": false,
   "latex_user_defs": false,
   "report_style_numbering": false,
   "user_envs_cfg": false
  },
  "nbTranslate": {
   "displayLangs": [
    "*"
   ],
   "hotkey": "alt-t",
   "langInMainMenu": true,
   "sourceLang": "en",
   "targetLang": "fr",
   "useGoogleTranslate": true
  },
  "toc": {
   "base_numbering": 1,
   "nav_menu": {},
   "number_sections": true,
   "sideBar": true,
   "skip_h1_title": false,
   "title_cell": "Table of Contents",
   "title_sidebar": "Contents",
   "toc_cell": false,
   "toc_position": {},
   "toc_section_display": true,
   "toc_window_display": false
  },
  "varInspector": {
   "cols": {
    "lenName": 16,
    "lenType": 16,
    "lenVar": 40
   },
   "kernels_config": {
    "python": {
     "delete_cmd_postfix": "",
     "delete_cmd_prefix": "del ",
     "library": "var_list.py",
     "varRefreshCmd": "print(var_dic_list())"
    },
    "r": {
     "delete_cmd_postfix": ") ",
     "delete_cmd_prefix": "rm(",
     "library": "var_list.r",
     "varRefreshCmd": "cat(var_dic_list()) "
    }
   },
   "types_to_exclude": [
    "module",
    "function",
    "builtin_function_or_method",
    "instance",
    "_Feature"
   ],
   "window_display": false
  },
  "vscode": {
   "interpreter": {
    "hash": "916dbcbb3f70747c44a77c7bcd40155683ae19c65e1c03b4aa3499c5328201f1"
   }
  }
 },
 "nbformat": 4,
 "nbformat_minor": 4
}
