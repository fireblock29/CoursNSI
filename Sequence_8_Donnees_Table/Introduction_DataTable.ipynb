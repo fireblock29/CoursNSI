{
 "cells": [
  {
   "cell_type": "markdown",
   "metadata": {},
   "source": [
    "# <center><font face=\"arial\" size=\"5\" color=#0101DF>NUMERIQUE ET SCIENCES INFORMATIQUES 1ère NSI</font></center>"
   ]
  },
  {
   "cell_type": "markdown",
   "metadata": {},
   "source": [
    "## <font color=#013ADF>Séquence N° 8 : document de formation pour le traitement de données en table</font>"
   ]
  },
  {
   "cell_type": "markdown",
   "metadata": {},
   "source": [
    "<div class=\"alert alert-danger\" role=\"alert\">\n",
    "    \n",
    "Vous allez découvrir ici quelques fonctions built-in de python qui peuvent vous être utiles pour réaliser les traitements sur les données en table.\n"
   ]
  },
  {
   "cell_type": "markdown",
   "metadata": {},
   "source": [
    "### 1- La fonction zip"
   ]
  },
  {
   "cell_type": "code",
   "execution_count": 3,
   "metadata": {
    "ExecuteTime": {
     "end_time": "2021-05-20T12:25:34.564187Z",
     "start_time": "2021-05-20T12:25:34.555822Z"
    }
   },
   "outputs": [
    {
     "name": "stdout",
     "output_type": "stream",
     "text": [
      "4 a\n",
      "7 b\n",
      "1 c\n",
      "9 d\n"
     ]
    }
   ],
   "source": [
    "l1 = [4,7,1,9]\n",
    "l2 = ['a','b','c','d']\n",
    "for i,j in zip(l1,l2):\n",
    "    print (i,j)"
   ]
  },
  {
   "cell_type": "code",
   "execution_count": 4,
   "metadata": {
    "ExecuteTime": {
     "end_time": "2021-05-20T12:25:37.261122Z",
     "start_time": "2021-05-20T12:25:37.251382Z"
    }
   },
   "outputs": [
    {
     "name": "stdout",
     "output_type": "stream",
     "text": [
      "4 a\n",
      "7 b\n"
     ]
    }
   ],
   "source": [
    "l1 = [4,7,1,9]\n",
    "l2 = ['a','b']\n",
    "for i,j in zip(l1,l2):\n",
    "    print (i,j)"
   ]
  },
  {
   "cell_type": "code",
   "execution_count": 5,
   "metadata": {
    "ExecuteTime": {
     "end_time": "2021-05-20T12:25:43.861238Z",
     "start_time": "2021-05-20T12:25:43.852241Z"
    }
   },
   "outputs": [
    {
     "name": "stdout",
     "output_type": "stream",
     "text": [
      "10\n",
      "9\n",
      "4\n",
      "10\n"
     ]
    }
   ],
   "source": [
    "l1 = [4,7,1,9]\n",
    "l2 = [6,2,3,1]\n",
    "for i,j in zip(l1,l2):\n",
    "    print (i+j)"
   ]
  },
  {
   "cell_type": "code",
   "execution_count": 6,
   "metadata": {
    "ExecuteTime": {
     "end_time": "2021-05-20T12:25:47.753935Z",
     "start_time": "2021-05-20T12:25:47.747567Z"
    }
   },
   "outputs": [
    {
     "name": "stdout",
     "output_type": "stream",
     "text": [
      "{'a': 4, 'b': 7, 'c': 1, 'd': 9}\n"
     ]
    }
   ],
   "source": [
    "l1 = [4,7,1,9]\n",
    "l2 = ['a','b','c','d']\n",
    "dico={j:i for i,j in zip(l1,l2)}\n",
    "print(dico)"
   ]
  },
  {
   "cell_type": "markdown",
   "metadata": {},
   "source": [
    "<div class=\"alert alert-warning\">\n",
    "<img src=\"Images/CR.png\" alt=\"logo CR\" width=5% align=right>\n",
    "\n",
    "Expliquez ici ce que réalise cette fonction ?\n",
    "    \n",
    "        Cette fonction attache les éléments de la lise 1 avec celui de la liste 2 qui lui est associé par l'index."
   ]
  },
  {
   "cell_type": "markdown",
   "metadata": {},
   "source": [
    "### 2- La fonction filter"
   ]
  },
  {
   "cell_type": "code",
   "execution_count": 7,
   "metadata": {
    "ExecuteTime": {
     "end_time": "2021-05-20T12:26:53.443993Z",
     "start_time": "2021-05-20T12:26:53.433179Z"
    }
   },
   "outputs": [
    {
     "name": "stdout",
     "output_type": "stream",
     "text": [
      "0 2 4 6 8 "
     ]
    }
   ],
   "source": [
    "def pair(x):\n",
    "    return x%2==0\n",
    "\n",
    "ma_liste = range(10)\n",
    "new_liste=filter(pair, ma_liste)\n",
    "for x in new_liste:\n",
    "    print(x,end=\" \")\n",
    "\n",
    "# Notons que l'on pourrez faire :\n",
    "new_liste=[x for x in range(10) if x%2==0]"
   ]
  },
  {
   "cell_type": "code",
   "execution_count": 11,
   "metadata": {
    "ExecuteTime": {
     "end_time": "2021-05-20T12:27:43.750850Z",
     "start_time": "2021-05-20T12:27:43.740541Z"
    }
   },
   "outputs": [
    {
     "name": "stdout",
     "output_type": "stream",
     "text": [
      "51 66 [51, 66]\n"
     ]
    }
   ],
   "source": [
    "def sup50(x):\n",
    "    return x>50\n",
    "\n",
    "ma_liste=[12,51,66,25,4]\n",
    "new_liste=filter(sup50,ma_liste)\n",
    "for x in new_liste:\n",
    "    print(x,end=\" \")\n",
    "\n",
    "# De même\n",
    "new_liste=[x for x in ma_liste if x>50]\n",
    "print(new_liste)"
   ]
  },
  {
   "cell_type": "markdown",
   "metadata": {},
   "source": [
    "<div class=\"alert alert-warning\">\n",
    "<img src=\"Images/CR.png\" alt=\"logo CR\" width=5% align=right>\n",
    "\n",
    "Expliquez ici ce que réalise cette fonction ?\n",
    "\n",
    "    Cette fonction permet de n'afficher des éléments d'une liste que s'ils respectent une condition"
   ]
  },
  {
   "cell_type": "markdown",
   "metadata": {},
   "source": [
    "### 3- La fonction sorted"
   ]
  },
  {
   "cell_type": "markdown",
   "metadata": {},
   "source": [
    "La syntaxe de sorted est la suivante :\n",
    "\n",
    "sorted(iterable, key=None, reverse=False)\n",
    "\n",
    "L'argument \"iterable\" est obligatoire, c'est celui qu'il faut trier. Ce peut être une chaîne de caractères, une liste, un dictionnaire, un tuple ...\n",
    "\n",
    "L'argument \"key\" est optionnel. C'est un critère qui permet de personnaliser le tri.\n",
    "\n",
    "L'argument \"reverse\" est également optionnel, il permet d'inverser l'ordre du tri (croissant, décroissant).\n"
   ]
  },
  {
   "cell_type": "code",
   "execution_count": 12,
   "metadata": {
    "ExecuteTime": {
     "end_time": "2021-05-20T12:27:59.931174Z",
     "start_time": "2021-05-20T12:27:59.924888Z"
    }
   },
   "outputs": [
    {
     "name": "stdout",
     "output_type": "stream",
     "text": [
      "['d', 'c', 'b', 'a']\n",
      "[1, 4, 7, 9]\n"
     ]
    }
   ],
   "source": [
    "l1 = [4,7,1,9]\n",
    "l2 = ['a','b','c','d']\n",
    "\n",
    "print(sorted(l2, reverse=True))\n",
    "print(sorted(l1))"
   ]
  },
  {
   "cell_type": "code",
   "execution_count": 20,
   "metadata": {
    "ExecuteTime": {
     "end_time": "2021-05-20T12:31:10.918913Z",
     "start_time": "2021-05-20T12:31:10.911542Z"
    }
   },
   "outputs": [
    {
     "name": "stdout",
     "output_type": "stream",
     "text": [
      "['abcd', 'abc', 'ab', 'a']\n",
      "['a', 'ab', 'abc', 'abcd']\n"
     ]
    }
   ],
   "source": [
    "dico={'a': 4, 'ab': 7, 'abc': 1, 'abcd': 9}\n",
    "\n",
    "print(sorted(dico, key=len, reverse=True))\n",
    "print(sorted(dico))\n"
   ]
  },
  {
   "cell_type": "code",
   "execution_count": 16,
   "metadata": {
    "ExecuteTime": {
     "end_time": "2021-05-20T12:30:17.997804Z",
     "start_time": "2021-05-20T12:30:17.990420Z"
    }
   },
   "outputs": [
    {
     "name": "stdout",
     "output_type": "stream",
     "text": [
      "Tri par defaut : [3, 7, 11, 15]\n",
      "Tri avec pour critère la clé: [7, 15, 3, 11]\n"
     ]
    }
   ],
   "source": [
    "# Trie une liste d'entiers en fonction\n",
    "# du reste de la division  par 7 \n",
    "  \n",
    "def function(x): \n",
    "    return x % 7\n",
    "  \n",
    "liste = [15, 3, 11, 7] \n",
    "  \n",
    "print (\"Tri par defaut :\", sorted(liste) )\n",
    "print (\"Tri avec pour critère la clé:\", sorted(liste, key = function) )\n"
   ]
  },
  {
   "cell_type": "markdown",
   "metadata": {},
   "source": [
    "### 4- La fonction eval"
   ]
  },
  {
   "cell_type": "code",
   "execution_count": 21,
   "metadata": {
    "ExecuteTime": {
     "end_time": "2021-05-20T12:31:56.202622Z",
     "start_time": "2021-05-20T12:31:56.186754Z"
    }
   },
   "outputs": [
    {
     "data": {
      "text/plain": [
       "True"
      ]
     },
     "execution_count": 21,
     "metadata": {},
     "output_type": "execute_result"
    }
   ],
   "source": [
    "\"\"\"\n",
    "La fonction eval() nous permet d’exécuter des chaînes de\n",
    "caractères en tant qu' instruction Python. Elle accepte\n",
    "une chaîne de caractère et retourne un objet.\n",
    "\"\"\"\n",
    "eval(\"2 > 1\")"
   ]
  },
  {
   "cell_type": "code",
   "execution_count": 22,
   "metadata": {
    "ExecuteTime": {
     "end_time": "2021-05-20T12:31:58.824170Z",
     "start_time": "2021-05-20T12:31:58.817900Z"
    }
   },
   "outputs": [
    {
     "data": {
      "text/plain": [
       "6"
      ]
     },
     "execution_count": 22,
     "metadata": {},
     "output_type": "execute_result"
    }
   ],
   "source": [
    "eval(\"sum([1,2,3])\")"
   ]
  },
  {
   "cell_type": "code",
   "execution_count": 23,
   "metadata": {
    "ExecuteTime": {
     "end_time": "2021-05-20T12:32:04.848100Z",
     "start_time": "2021-05-20T12:32:04.842213Z"
    }
   },
   "outputs": [
    {
     "data": {
      "text/plain": [
       "'BONJOUR'"
      ]
     },
     "execution_count": 23,
     "metadata": {},
     "output_type": "execute_result"
    }
   ],
   "source": [
    "eval('\"bonjour\".upper()')"
   ]
  },
  {
   "cell_type": "markdown",
   "metadata": {},
   "source": [
    "### 5- Les fonctions lambda"
   ]
  },
  {
   "cell_type": "markdown",
   "metadata": {},
   "source": [
    "Les lambdas Python sont de petites fonctions anonymes, soumises à une syntaxe plus restrictive mais plus concise que les fonctions Python classiques. La syntaxe est la suivante :\n",
    "\n",
    "**lambda arguments:expression**"
   ]
  },
  {
   "cell_type": "code",
   "execution_count": 25,
   "metadata": {
    "ExecuteTime": {
     "end_time": "2021-05-20T12:32:31.073657Z",
     "start_time": "2021-05-20T12:32:31.065453Z"
    }
   },
   "outputs": [
    {
     "name": "stdout",
     "output_type": "stream",
     "text": [
      "30\n"
     ]
    }
   ],
   "source": [
    "# Ce que nous savons faire :\n",
    "def additionne(a,b,c):\n",
    "    return a+b+c\n",
    "\n",
    "resultat = additionne(10, 10, 10)\n",
    "print(resultat)"
   ]
  },
  {
   "cell_type": "code",
   "execution_count": 26,
   "metadata": {
    "ExecuteTime": {
     "end_time": "2021-05-20T12:32:32.894779Z",
     "start_time": "2021-05-20T12:32:32.887989Z"
    }
   },
   "outputs": [
    {
     "name": "stdout",
     "output_type": "stream",
     "text": [
      "30\n"
     ]
    }
   ],
   "source": [
    "# Ce que nous pourrions faire\n",
    "additionne = lambda a, b, c: a + b + c\n",
    "print(additionne(10, 10, 10))"
   ]
  },
  {
   "cell_type": "code",
   "execution_count": null,
   "metadata": {},
   "outputs": [],
   "source": []
  }
 ],
 "metadata": {
  "hide_input": false,
  "kernelspec": {
   "display_name": "Python 3",
   "language": "python",
   "name": "python3"
  },
  "language_info": {
   "codemirror_mode": {
    "name": "ipython",
    "version": 3
   },
   "file_extension": ".py",
   "mimetype": "text/x-python",
   "name": "python",
   "nbconvert_exporter": "python",
   "pygments_lexer": "ipython3",
   "version": "3.6.10"
  },
  "latex_envs": {
   "LaTeX_envs_menu_present": true,
   "autoclose": false,
   "autocomplete": true,
   "bibliofile": "biblio.bib",
   "cite_by": "apalike",
   "current_citInitial": 1,
   "eqLabelWithNumbers": true,
   "eqNumInitial": 1,
   "hotkeys": {
    "equation": "Ctrl-E",
    "itemize": "Ctrl-I"
   },
   "labels_anchors": false,
   "latex_user_defs": false,
   "report_style_numbering": false,
   "user_envs_cfg": false
  },
  "nbTranslate": {
   "displayLangs": [
    "*"
   ],
   "hotkey": "alt-t",
   "langInMainMenu": true,
   "sourceLang": "en",
   "targetLang": "fr",
   "useGoogleTranslate": true
  },
  "toc": {
   "base_numbering": 1,
   "nav_menu": {},
   "number_sections": true,
   "sideBar": true,
   "skip_h1_title": false,
   "title_cell": "Table of Contents",
   "title_sidebar": "Contents",
   "toc_cell": false,
   "toc_position": {},
   "toc_section_display": true,
   "toc_window_display": false
  },
  "varInspector": {
   "cols": {
    "lenName": 16,
    "lenType": 16,
    "lenVar": 40
   },
   "kernels_config": {
    "python": {
     "delete_cmd_postfix": "",
     "delete_cmd_prefix": "del ",
     "library": "var_list.py",
     "varRefreshCmd": "print(var_dic_list())"
    },
    "r": {
     "delete_cmd_postfix": ") ",
     "delete_cmd_prefix": "rm(",
     "library": "var_list.r",
     "varRefreshCmd": "cat(var_dic_list()) "
    }
   },
   "types_to_exclude": [
    "module",
    "function",
    "builtin_function_or_method",
    "instance",
    "_Feature"
   ],
   "window_display": false
  }
 },
 "nbformat": 4,
 "nbformat_minor": 2
}
