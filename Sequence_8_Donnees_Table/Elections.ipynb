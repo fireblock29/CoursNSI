{
 "cells": [
  {
   "cell_type": "markdown",
   "metadata": {},
   "source": [
    "# <center><font face=\"arial\" size=\"5\" color=#0101DF>NUMERIQUE ET SCIENCES INFORMATIQUES 1ère NSI</font></center>"
   ]
  },
  {
   "cell_type": "markdown",
   "metadata": {},
   "source": [
    "## <font color=#013ADF>Séquence N° 8 : Traitement de données en table</font>"
   ]
  },
  {
   "cell_type": "markdown",
   "metadata": {},
   "source": [
    "<div class=\"alert alert-danger\" role=\"alert\">\n",
    "    \n",
    "Les objectifs de cette séquence sont :\n",
    "- d'importer une table depuis un fichier CSV ;\n",
    "- rechercher des enregistrements vérifiants des critères ;\n",
    "- trier une table selon un attribut ;\n",
    "- construire une nouvelle table en combinant les données de 2 tables.\n",
    "<div>"
   ]
  },
  {
   "cell_type": "markdown",
   "metadata": {},
   "source": [
    "### 1- L'OpenData"
   ]
  },
  {
   "cell_type": "markdown",
   "metadata": {},
   "source": [
    "<div class=\"alert alert-success\" role=\"alert\">\n",
    "\n",
    "Les données que nous allons utilisées sont disponibles sur Internet sans aucune condition d'accès : c'est l'OpenData.\n",
    "\n",
    "Pour en savoir un peu plus : https://youtu.be/aHxv_2BMJfw\n",
    "\n",
    "Quelques sites plus ou moins prôche de nous :\n",
    "\n",
    "https://www.data.gouv.fr/fr/organizations/brest-metropole-oceane/\n",
    "\n",
    "https://opendata.finistere.fr/explore/?sort=modified\n",
    "\n",
    "https://www.data.gouv.fr/fr/posts/les-donnees-des-elections/\n",
    "\n",
    "Les données sur lesquelles nous allons travailler, sont issues de ce dernier site. Elles concernent les résultats du premier tour des élections présidentielles 2017.\n",
    "<div>"
   ]
  },
  {
   "cell_type": "markdown",
   "metadata": {},
   "source": [
    "### 2- L'étude"
   ]
  },
  {
   "cell_type": "markdown",
   "metadata": {},
   "source": [
    "**Problématique** : Les conditions de remboursement des frais de campagne électorale dépendent du score du candidat. Trois cas de figure sont possibles :\n",
    "\n",
    "- Le candidat est éliminé à l’issue du premier tour et obtient **moins de 5 % des suffrages exprimés** : ce dernier peut alors prétendre à un remboursement de ses frais de campagne à hauteur de 4,75 % du montant du plafond de dépenses autorisé, soit une somme de 800 423 euros.\n",
    "- Le candidat est éliminé à l’issue du premier tour, mais obtient **plus de 5 % des suffrages exprimés** : le candidat peut prétendre à un remboursement de ses frais de campagne à hauteur de 47,5 % du montant du plafond de dépenses autorisé, soit une somme de 8 004 225 euros.\n",
    "- Le candidat est qualifié pour le second tour de l’élection : le candidat peut alors prétendre à un remboursement de ses frais de campagne à hauteur de 47,5 % du montant du plafond spécifique aux candidats du second tour, soit une somme de 10 691 775 euros.\n",
    "\n",
    "**On souhaite connaître la somme à rembourser à chaque candidat non-qualifé au second tour de l'élection présidentielle de 2017.**\n",
    "\n",
    "Pour plus de détails : https://www.interieur.gouv.fr/Archives/Archives-elections/Election-presidentielle-2017/Election-presidentielle-2017-le-financement-de-la-campagne\n",
    "\n",
    "On dispose pour ce travail, de **3 tables (relations)**.\n",
    "\n",
    "### Répartition des votes (repartition_votes.csv)\n",
    "\n",
    "![](Images/table_def.png)\n",
    "Exprimés = Votants - (Blanc + Nuls)\n",
    "\n",
    "### Répartition pour la Métropole (Presidentielle_metropole.csv)\n",
    "\n",
    "| **Candidat**             | **Voix** | **%_ins** | **%_exp** |\n",
    "| ------------------------ | -------- | --------- | --------- |\n",
    "| M. DUPONT-AIGNAN Nicolas | 1665507  | 3,75      | 4,8       |\n",
    "| Mme LE PEN Marine        | 7465123  | 16,8      | 21,52     |\n",
    "| M. MACRON Emmanuel       | 8267074  | 18,6      | 23,83     |\n",
    "| M. HAMON Benoît          | 2189394  | 4,93      | 6,31      |\n",
    "| Mme ARTHAUD Nathalie     | 219219   | 0,49      | 0,63      |\n",
    "| M. POUTOU Philippe       | 376935   | 0,85      | 1,09      |\n",
    "| M. CHEMINADE Jacques     | 62166    | 0,14      | 0,18      |\n",
    "| M. LASSALLE Jean         | 427564   | 0,96      | 1,23      |\n",
    "| M. MÉLENCHON Jean-Luc    | 6803933  | 15,31     | 19,61     |\n",
    "| M. ASSELINEAU François   | 313831   | 0,71      | 0,9       |\n",
    "| M. FILLON François       | 6899161  | 15,52     | 19,89     |\n",
    "\n",
    "### Répartition pour les départements d'Outre-mer (Presidentielle_outre-mer.csv)\n",
    "\n",
    "| **Candidat**             | **Voix** | **%_ins** | **%_exp** |\n",
    "| ------------------------ | -------- | --------- | --------- |\n",
    "| M. DUPONT-AIGNAN Nicolas | 20656    | 1,1       | 2,55      |\n",
    "| Mme LE PEN Marine        | 177442   | 9,46      | 21,9      |\n",
    "| M. MACRON Emmanuel       | 165393   | 8,82      | 20,41     |\n",
    "| M. HAMON Benoît          | 63802    | 3,4       | 7,87      |\n",
    "| Mme ARTHAUD Nathalie     | 11853    | 0,63      | 1,46      |\n",
    "| M. POUTOU Philippe       | 14156    | 0,76      | 1,75      |\n",
    "| M. CHEMINADE Jacques     | 2390     | 0,13      | 0,29      |\n",
    "| M. LASSALLE Jean         | 5207     | 0,28      | 0,64      |\n",
    "| M. MÉLENCHON Jean-Luc    | 168326   | 8,98      | 20,77     |\n",
    "| M. ASSELINEAU François   | 13138    | 0,7       | 1,62      |\n",
    "| M. FILLON François       | 168005   | 8,96      | 20,73     |"
   ]
  },
  {
   "cell_type": "markdown",
   "metadata": {},
   "source": [
    "<div class=\"alert alert-warning\">\n",
    "<img src=\"Images/CR.png\" alt=\"logo CR\" width=5% align=right>\n",
    "\n",
    "> Si vous deviez répondre à la problématique sans utiliser l'informatique, quelle serait votre démarche ?\n",
    "<div>"
   ]
  },
  {
   "cell_type": "markdown",
   "metadata": {},
   "source": [
    "#### 2-1- Chargement des données"
   ]
  },
  {
   "cell_type": "markdown",
   "metadata": {},
   "source": [
    "Les données à manipuler sont dans 3 fichiers de type CSV. Nous allons les traiter de **2 manières différentes** :\n",
    "\n",
    "- En ce qui concerne les fichiers \"Presidentielle_metropole\" et \"Presidentielle_outre-mer\", la fonction doit renvoyer une liste de dictionnaires non ordonnés."
   ]
  },
  {
   "cell_type": "code",
   "execution_count": 2,
   "metadata": {
    "ExecuteTime": {
     "end_time": "2021-06-03T05:32:16.682505Z",
     "start_time": "2021-06-03T05:32:16.674599Z"
    }
   },
   "outputs": [],
   "source": [
    "import csv\n",
    "\n",
    "def lecture_fichier(fichier):\n",
    "    \"\"\"\n",
    "    La fonction lit un fichier CSV et génère un dictionnaire\n",
    "    dont les clés sont extraites de la première ligne du fichier\n",
    "    \n",
    "    Entrée :    Un fichier texte. Chaque ligne comporte les valeurs\n",
    "                séparée par des virgules.\n",
    "                La première ligne contient le nom des attributs\n",
    "    Sortie :    une liste de dictionnaires non ordonnés\n",
    "    \"\"\"\n",
    "    with open(fichier) as csv_file:\n",
    "        lecteur= csv.DictReader(csv_file, delimiter=',')\n",
    "        return [dict(ligne) for ligne in lecteur] # conversion des dictionnaires ordonnés en dictionnaires"
   ]
  },
  {
   "cell_type": "code",
   "execution_count": 3,
   "metadata": {
    "ExecuteTime": {
     "end_time": "2021-06-03T05:32:17.130963Z",
     "start_time": "2021-06-03T05:32:17.122611Z"
    }
   },
   "outputs": [
    {
     "name": "stdout",
     "output_type": "stream",
     "text": [
      "[{'Candidat': 'M. DUPONT-AIGNAN Nicolas', 'Voix': '1665507', '%_ins': '3.75', '%_exp': '4.8'}, {'Candidat': 'Mme LE PEN Marine', 'Voix': '7465123', '%_ins': '16.8', '%_exp': '21.52'}, {'Candidat': 'M. MACRON Emmanuel', 'Voix': '8267074', '%_ins': '18.6', '%_exp': '23.83'}, {'Candidat': 'M. HAMON Benoît', 'Voix': '2189394', '%_ins': '4.93', '%_exp': '6.31'}, {'Candidat': 'Mme ARTHAUD Nathalie', 'Voix': '219219', '%_ins': '0.49', '%_exp': '0.63'}, {'Candidat': 'M. POUTOU Philippe', 'Voix': '376935', '%_ins': '0.85', '%_exp': '1.09'}, {'Candidat': 'M. CHEMINADE Jacques', 'Voix': '62166', '%_ins': '0.14', '%_exp': '0.18'}, {'Candidat': 'M. LASSALLE Jean', 'Voix': '427564', '%_ins': '0.96', '%_exp': '1.23'}, {'Candidat': 'M. MÉLENCHON Jean-Luc', 'Voix': '6803933', '%_ins': '15.31', '%_exp': '19.61'}, {'Candidat': 'M. ASSELINEAU François', 'Voix': '313831', '%_ins': '0.71', '%_exp': '0.9'}, {'Candidat': 'M. FILLON François', 'Voix': '6899161', '%_ins': '15.52', '%_exp': '19.89'}]\n",
      "salut mec\n",
      "[{'Candidat': 'M. DUPONT-AIGNAN Nicolas', 'Voix': '20656', '%_ins': '1.1', '%_exp': '2.55'}, {'Candidat': 'Mme LE PEN Marine', 'Voix': '177442', '%_ins': '9.46', '%_exp': '21.9'}, {'Candidat': 'M. MACRON Emmanuel', 'Voix': '165393', '%_ins': '8.82', '%_exp': '20.41'}, {'Candidat': 'M. HAMON Benoît', 'Voix': '63802', '%_ins': '3.4', '%_exp': '7.87'}, {'Candidat': 'Mme ARTHAUD Nathalie', 'Voix': '11853', '%_ins': '0.63', '%_exp': '1.46'}, {'Candidat': 'M. POUTOU Philippe', 'Voix': '14156', '%_ins': '0.76', '%_exp': '1.75'}, {'Candidat': 'M. CHEMINADE Jacques', 'Voix': '2390', '%_ins': '0.13', '%_exp': '0.29'}, {'Candidat': 'M. LASSALLE Jean', 'Voix': '5207', '%_ins': '0.28', '%_exp': '0.64'}, {'Candidat': 'M. MÉLENCHON Jean-Luc', 'Voix': '168326', '%_ins': '8.98', '%_exp': '20.77'}, {'Candidat': 'M. ASSELINEAU François', 'Voix': '13138', '%_ins': '0.76', '%_exp': '1.62'}, {'Candidat': 'M. FILLON François', 'Voix': '168005', '%_ins': '8.96', '%_exp': '20.73'}]\n"
     ]
    }
   ],
   "source": [
    "print(lecture_fichier('Presidentielle_metropole.csv'))\n",
    "print(\"salut mec\")\n",
    "print(lecture_fichier('Presidentielle_outre-mer.csv'))"
   ]
  },
  {
   "cell_type": "markdown",
   "metadata": {},
   "source": [
    "- En ce qui concerne le fichier \"Repartition_votes\", la fonction est un peu particulière car après avoir lut le fichier, elle renvoie le nombre de suffrages exprimés. En effet, les autres informations ne nous sont pas utiles."
   ]
  },
  {
   "cell_type": "code",
   "execution_count": 4,
   "metadata": {
    "ExecuteTime": {
     "end_time": "2021-06-03T05:32:18.388824Z",
     "start_time": "2021-06-03T05:32:18.382605Z"
    }
   },
   "outputs": [],
   "source": [
    "import csv\n",
    "\n",
    "def lecture_repartition(fichier) :\n",
    "    \"\"\"\n",
    "    La fonction lit le fichier csv et calcule le nombre d'inscrits\n",
    "    Entrée : fichier csv\n",
    "    Sortie : nombre de suffrages exprimés de type entier\n",
    "    \"\"\"\n",
    "    with open(fichier) as csv_file:\n",
    "        liste= list(csv.reader(csv_file, delimiter=',')) # Récupération d'une liste de liste\n",
    "        exprimes=liste.pop(-1) # Récupération de la dernière liste\n",
    "    return (int(exprimes[1])+int(exprimes[2])) # Renvoi du nombre de suffrages exprimés\n"
   ]
  },
  {
   "cell_type": "code",
   "execution_count": 5,
   "metadata": {
    "ExecuteTime": {
     "end_time": "2021-06-03T05:32:18.749864Z",
     "start_time": "2021-06-03T05:32:18.745398Z"
    }
   },
   "outputs": [],
   "source": [
    "imp=lecture_repartition('Repartition_votes.csv')"
   ]
  },
  {
   "cell_type": "markdown",
   "metadata": {},
   "source": [
    "#### 2-2- Projection : sélectionne un ou plusieurs attributs (colonne) d'une table "
   ]
  },
  {
   "cell_type": "markdown",
   "metadata": {},
   "source": [
    "<div class=\"alert alert-warning\">\n",
    "<img src=\"Images/CR.png\" alt=\"logo CR\" width=5% align=right>\n",
    "\n",
    "Les 2 tables \"Presidentielle_metropole\" et \"Presidentielle_outre-mer\" possèdent 4 attributs : Candidat, Voix, %_ins et %_exp. Les 2 derniers ne nous intéressent pas, il faut donc les éliminer des deux tables.\n",
    "\n",
    "- Compléter la fonction ci-dessous qui doit réaliser cette tâche.\n",
    "<div>"
   ]
  },
  {
   "cell_type": "code",
   "execution_count": 6,
   "metadata": {
    "ExecuteTime": {
     "end_time": "2021-06-03T05:32:20.040063Z",
     "start_time": "2021-06-03T05:32:20.028577Z"
    },
    "scrolled": true
   },
   "outputs": [
    {
     "name": "stdout",
     "output_type": "stream",
     "text": [
      "[{'M. DUPONT-AIGNAN Nicolas': '1665507'}, {'Mme LE PEN Marine': '7465123'}, {'M. MACRON Emmanuel': '8267074'}, {'M. HAMON Benoît': '2189394'}, {'Mme ARTHAUD Nathalie': '219219'}, {'M. POUTOU Philippe': '376935'}, {'M. CHEMINADE Jacques': '62166'}, {'M. LASSALLE Jean': '427564'}, {'M. MÉLENCHON Jean-Luc': '6803933'}, {'M. ASSELINEAU François': '313831'}, {'M. FILLON François': '6899161'}]\n",
      "[{'M. DUPONT-AIGNAN Nicolas': '20656'}, {'Mme LE PEN Marine': '177442'}, {'M. MACRON Emmanuel': '165393'}, {'M. HAMON Benoît': '63802'}, {'Mme ARTHAUD Nathalie': '11853'}, {'M. POUTOU Philippe': '14156'}, {'M. CHEMINADE Jacques': '2390'}, {'M. LASSALLE Jean': '5207'}, {'M. MÉLENCHON Jean-Luc': '168326'}, {'M. ASSELINEAU François': '13138'}, {'M. FILLON François': '168005'}]\n"
     ]
    }
   ],
   "source": [
    "def lecture_fichier(fichier):\n",
    "    \"\"\"\n",
    "    La fonction lit un fichier CSV et génère un dictionnaire\n",
    "    dont les clés sont extraites de la première ligne du fichier\n",
    "    \n",
    "    Entrée :    Un fichier texte. Chaque ligne comporte les valeurs\n",
    "                séparée par des virgules.\n",
    "                La première ligne contient le nom des attributs\n",
    "    Sortie :    une liste de dictionnaires non ordonnés\n",
    "    \"\"\"\n",
    "    with open(fichier) as csv_file:\n",
    "        lecteur= csv.DictReader(csv_file, delimiter=',')\n",
    "        return [dict(ligne) for ligne in lecteur] # conversion des dictionnaires ordonnés en dictionnaires\n",
    "    \n",
    "def projection(table, liste_attributs):\n",
    "    \"\"\"\n",
    "    La fonction sélectionne un ou plusieurs attributs (colonne)d'une table\n",
    "    Entrée : une liste de dictionnaires et une liste d'attributs à retenir\n",
    "    Sortie : une liste de dictionnaires contenant uniquement les attributs\n",
    "     \n",
    "    new_liste=[]\n",
    "    for elt in table:\n",
    "        new_liste.append((elt[\"Candidat\"], elt[\"Voix\"]))\n",
    "    \"\"\"\n",
    "    return [{elt[\"Candidat\"]:elt[\"Voix\"]} for elt in table]\n",
    "    \n",
    "   \n",
    "    \n",
    "data=lecture_fichier('Presidentielle_metropole.csv')\n",
    "#print(data)\n",
    "new_data=projection(data,['Candidat','Voix'])\n",
    "print(new_data)\n",
    "data2=lecture_fichier('Presidentielle_outre-mer.csv')\n",
    "new_data2=projection(data2,['Candidat','Voix'])\n",
    "print(new_data2)"
   ]
  },
  {
   "cell_type": "code",
   "execution_count": null,
   "metadata": {
    "ExecuteTime": {
     "end_time": "2021-05-20T13:17:22.792751Z",
     "start_time": "2021-05-20T13:17:22.779785Z"
    },
    "run_control": {
     "marked": false
    }
   },
   "outputs": [],
   "source": []
  },
  {
   "cell_type": "markdown",
   "metadata": {},
   "source": [
    "<div class=\"alert alert-warning\">\n",
    "<img src=\"Images/CR.png\" alt=\"logo CR\" width=5% align=right>\n",
    "\n",
    "Les 2 tables \"Presidentielle_metropole\" et \"Presidentielle_outre-mer\" possèdent maintenant 2 attributs : Candidat et Voix. Cependant le type de 'Voix' ne permet pas de réaliser des calculs.\n",
    "\n",
    "- Compléter la fonction ci-dessous qui doit réaliser cette tâche.\n",
    "<div>"
   ]
  },
  {
   "cell_type": "code",
   "execution_count": 7,
   "metadata": {
    "ExecuteTime": {
     "end_time": "2021-06-03T05:32:20.786489Z",
     "start_time": "2021-06-03T05:32:20.780524Z"
    }
   },
   "outputs": [],
   "source": [
    "def conversion_type(table):\n",
    "    \"\"\"\n",
    "    La fonction reçoit une table et convertit\n",
    "    la valeur de la clé 'Voix' en type entier\n",
    "    Entrée : liste de dictionnaires dont les valeurs sont de type str\n",
    "    Sortie : liste de dictionnaires dont les valeurs sont de type entier\n",
    "    \"\"\"\n",
    "    newtable=[]\n",
    "    \"\"\"\n",
    "    for i in table:\n",
    "        for cle,valeur in i.items():\n",
    "            a=valeur\n",
    "            a=int(a)\n",
    "            newtable.append({cle:int(a)})\n",
    "            \"\"\"\n",
    "    for i in table:\n",
    "        for c in i:\n",
    "            i[c] = int(i[c])\n",
    "    return table\n",
    "convtable=conversion_type(new_data)\n",
    "convtable2=conversion_type(new_data2)\n"
   ]
  },
  {
   "cell_type": "code",
   "execution_count": 8,
   "metadata": {
    "ExecuteTime": {
     "end_time": "2021-06-03T05:32:20.807211Z",
     "start_time": "2021-06-03T05:32:20.796496Z"
    }
   },
   "outputs": [
    {
     "name": "stdout",
     "output_type": "stream",
     "text": [
      "M. DUPONT-AIGNAN Nicolas 1665507\n",
      "Mme LE PEN Marine 7465123\n",
      "M. MACRON Emmanuel 8267074\n",
      "M. HAMON Benoît 2189394\n",
      "Mme ARTHAUD Nathalie 219219\n",
      "M. POUTOU Philippe 376935\n",
      "M. CHEMINADE Jacques 62166\n",
      "M. LASSALLE Jean 427564\n",
      "M. MÉLENCHON Jean-Luc 6803933\n",
      "M. ASSELINEAU François 313831\n",
      "M. FILLON François 6899161\n"
     ]
    }
   ],
   "source": [
    "for i in convtable:\n",
    "    for c,v in i.items():\n",
    "        print(c,v)"
   ]
  },
  {
   "cell_type": "markdown",
   "metadata": {},
   "source": [
    "#### 2-3- Jointure de 2 tables (nombre voix métrôpole + outre-mer)"
   ]
  },
  {
   "cell_type": "markdown",
   "metadata": {},
   "source": [
    "<div class=\"alert alert-warning\">\n",
    "<img src=\"Images/CR.png\" alt=\"logo CR\" width=5% align=right>\n",
    "    \n",
    "Il nous faut à présent connaître le nombre de voix total des candidats. On va fusionner les 2 tables métropole et outre-mer. L'attribut commun sera le nom du candidat.\n",
    "\n",
    "- Compléter la fonction ci-dessous qui doit réaliser cette tâche. C'est ici que l'on va tirer avantage de la fonction built-in \"zip\" aperçue sur le document de formation précédent.\n",
    "<div>"
   ]
  },
  {
   "cell_type": "code",
   "execution_count": 31,
   "metadata": {
    "ExecuteTime": {
     "end_time": "2021-06-03T05:38:43.697071Z",
     "start_time": "2021-06-03T05:38:43.687219Z"
    }
   },
   "outputs": [],
   "source": [
    "def jointure(table_om, table_m):\n",
    "    \"\"\"\n",
    "    La fonction reçoit les deux tables et additionne\n",
    "    le nombre de voix du candidat en métropole et outre-mer\n",
    "    Entrée : 2 listes de dictionnaires ayant pour clés 'Candidat' et 'Voix'\n",
    "    Sortie : 1 liste de listes ayant pour valeurs le nom du candidat et\n",
    "            son total de voix (metropole + outre-mer)\n",
    "    \"\"\"\n",
    "    l1=[]\n",
    "    noms=[]\n",
    "    l2=[]\n",
    "    lsum=[]\n",
    "    lsumoff={}\n",
    "    for elt in convtable:\n",
    "        for c,v in elt.items():\n",
    "            noms.append(c)\n",
    "            l1.append(v)\n",
    "    for elt in convtable2:\n",
    "        for c,v in elt.items():\n",
    "            l2.append(v)\n",
    "    for i in range(len(l1)):\n",
    "        lsum.append(l1[i]+l2[i])\n",
    "    for i in range (len(lsum)):\n",
    "        lsumoff[noms[i]]=lsum[i]\n",
    "    return lsumoff\n",
    "joint=jointure(convtable, convtable2)"
   ]
  },
  {
   "cell_type": "markdown",
   "metadata": {},
   "source": [
    "#### 2-3- Tri selon critères (classement selon le nombre de voix)"
   ]
  },
  {
   "cell_type": "code",
   "execution_count": 32,
   "metadata": {
    "ExecuteTime": {
     "end_time": "2021-06-03T05:38:45.691170Z",
     "start_time": "2021-06-03T05:38:45.685237Z"
    }
   },
   "outputs": [
    {
     "data": {
      "text/plain": [
       "{'M. DUPONT-AIGNAN Nicolas': 1686163,\n",
       " 'Mme LE PEN Marine': 7642565,\n",
       " 'M. MACRON Emmanuel': 8432467,\n",
       " 'M. HAMON Benoît': 2253196,\n",
       " 'Mme ARTHAUD Nathalie': 231072,\n",
       " 'M. POUTOU Philippe': 391091,\n",
       " 'M. CHEMINADE Jacques': 64556,\n",
       " 'M. LASSALLE Jean': 432771,\n",
       " 'M. MÉLENCHON Jean-Luc': 6972259,\n",
       " 'M. ASSELINEAU François': 326969,\n",
       " 'M. FILLON François': 7067166}"
      ]
     },
     "execution_count": 32,
     "metadata": {},
     "output_type": "execute_result"
    }
   ],
   "source": [
    "joint"
   ]
  },
  {
   "cell_type": "markdown",
   "metadata": {},
   "source": [
    "<div class=\"alert alert-warning\">\n",
    "<img src=\"Images/CR.png\" alt=\"logo CR\" width=5% align=right>\n",
    "  \n",
    "\n",
    "On va maintenant classer les candidats dans l'ordre décroissant du nombre de suffrages exprimés.\n",
    "\n",
    "- Compléter la fonction ci-dessous qui doit réaliser cette tâche. C'est ici que l'on va tirer avantage de la fonction built-in \"sorted\" aperçue sur le document de formation précédent.\n",
    "<div>"
   ]
  },
  {
   "cell_type": "code",
   "execution_count": 35,
   "metadata": {
    "ExecuteTime": {
     "end_time": "2021-06-03T05:40:40.685820Z",
     "start_time": "2021-06-03T05:40:40.680420Z"
    }
   },
   "outputs": [],
   "source": [
    "def tri(table, mode):\n",
    "    \"\"\"\n",
    "    La fonction trie la table fournie selon le nombre de voix\n",
    "    des candidats dans le sens décroissant.\n",
    "    Entrées : une liste de liste, le critère de tri : entier\n",
    "            et le mode de tri booléen True ou False\n",
    "    Sortie une liste triée\n",
    "    \"\"\"\n",
    "    tableoff=sorted(table.items(), key=lambda i:i[1])\n",
    "    return tableoff\n",
    "    \n",
    "    "
   ]
  },
  {
   "cell_type": "code",
   "execution_count": 36,
   "metadata": {
    "ExecuteTime": {
     "end_time": "2021-06-03T05:40:41.421134Z",
     "start_time": "2021-06-03T05:40:41.416202Z"
    }
   },
   "outputs": [
    {
     "name": "stdout",
     "output_type": "stream",
     "text": [
      "[('M. CHEMINADE Jacques', 64556), ('Mme ARTHAUD Nathalie', 231072), ('M. ASSELINEAU François', 326969), ('M. POUTOU Philippe', 391091), ('M. LASSALLE Jean', 432771), ('M. DUPONT-AIGNAN Nicolas', 1686163), ('M. HAMON Benoît', 2253196), ('M. MÉLENCHON Jean-Luc', 6972259), ('M. FILLON François', 7067166), ('Mme LE PEN Marine', 7642565), ('M. MACRON Emmanuel', 8432467)]\n"
     ]
    }
   ],
   "source": [
    "newl=tri(joint, False)\n",
    "print(newl)"
   ]
  },
  {
   "cell_type": "markdown",
   "metadata": {},
   "source": [
    "#### 2-4- Sélection dans une table (>= 5% exprimé)"
   ]
  },
  {
   "cell_type": "markdown",
   "metadata": {},
   "source": [
    "<div class=\"alert alert-warning\">\n",
    "<img src=\"Images/CR.png\" alt=\"logo CR\" width=5% align=right>\n",
    "  \n",
    "- Calculer le nombre de voix correspondant à 5% des suffrages exprimés ;\n",
    "- Éliminer de la liste triée précédemment les candidats allant au second tour de l'élections, c'est à dire les 2 candidats qui ont le plus de voix ;\n",
    "- Créer une fonction qui génère une liste des candidats recalés au premier tour ayant obtenus au moins 5% des suffrages exprimés. Pour cela, compléter la fonction ci-dessous qui doit réaliser cette tâche.\n",
    "<div>"
   ]
  },
  {
   "cell_type": "code",
   "execution_count": 41,
   "metadata": {
    "ExecuteTime": {
     "end_time": "2021-06-03T05:42:57.466793Z",
     "start_time": "2021-06-03T05:42:57.457120Z"
    }
   },
   "outputs": [],
   "source": [
    "def select(table,critere):\n",
    "    \"\"\"\n",
    "    La fonction sélectionne des lignes de la table passée\n",
    "    en paramètre vérifiant un critère également passé\n",
    "    en paramètre\n",
    "    Entrée : une liste de listes\n",
    "    Sortie : une liste de listes répondant au critère\n",
    "    \"\"\"\n",
    "    cand47_5=[]\n",
    "    cand4_75=[]\n",
    "    crit=int(imp*(critere/100))\n",
    "    sec=[table[-1][0],table[-2][0]]\n",
    "    for i in table[0:-2]:\n",
    "        if i[1]>=crit:\n",
    "            cand47_5.append(i[0])\n",
    "        elif i[1]<crit:\n",
    "            cand4_75.append(i[0])\n",
    "    return sec,cand47_5,cand4_75"
   ]
  },
  {
   "cell_type": "code",
   "execution_count": 42,
   "metadata": {
    "ExecuteTime": {
     "end_time": "2021-06-03T05:42:58.202821Z",
     "start_time": "2021-06-03T05:42:58.191978Z"
    }
   },
   "outputs": [
    {
     "ename": "ValueError",
     "evalue": "too many values to unpack (expected 2)",
     "output_type": "error",
     "traceback": [
      "\u001b[0;31m---------------------------------------------------------------------------\u001b[0m",
      "\u001b[0;31mValueError\u001b[0m                                Traceback (most recent call last)",
      "\u001b[0;32m<ipython-input-42-04dfd61ef774>\u001b[0m in \u001b[0;36m<module>\u001b[0;34m\u001b[0m\n\u001b[0;32m----> 1\u001b[0;31m \u001b[0mcand47_5\u001b[0m\u001b[0;34m,\u001b[0m\u001b[0mcand4_75\u001b[0m\u001b[0;34m=\u001b[0m\u001b[0mselect\u001b[0m\u001b[0;34m(\u001b[0m\u001b[0mnewl\u001b[0m\u001b[0;34m,\u001b[0m \u001b[0;36m5\u001b[0m\u001b[0;34m)\u001b[0m\u001b[0;34m\u001b[0m\u001b[0;34m\u001b[0m\u001b[0m\n\u001b[0m",
      "\u001b[0;31mValueError\u001b[0m: too many values to unpack (expected 2)"
     ]
    }
   ],
   "source": [
    "cand47_5,cand4_75=select(newl, 5)"
   ]
  },
  {
   "cell_type": "code",
   "execution_count": 53,
   "metadata": {
    "ExecuteTime": {
     "end_time": "2021-06-03T05:49:04.058094Z",
     "start_time": "2021-06-03T05:49:04.029029Z"
    }
   },
   "outputs": [
    {
     "name": "stdout",
     "output_type": "stream",
     "text": [
      "Les candidats M. MACRON Emmanuel et Mme LE PEN Marine passent au second tour !\n",
      "Les candidats M. HAMON Benoît M. MÉLENCHON Jean-Luc M. FILLON François vont bénéficier d'un remboursement de 47.5% de leurs frais de campagne\n",
      "Les candidats M. CHEMINADE Jacques Mme ARTHAUD Nathalie M. ASSELINEAU François M. POUTOU Philippe M. LASSALLE Jean M. DUPONT-AIGNAN Nicolas vont bénéficier d'un remboursement de 4.75% de leurs frais de campagne\n"
     ]
    },
    {
     "ename": "TypeError",
     "evalue": "'_csv.writer' object is not iterable",
     "output_type": "error",
     "traceback": [
      "\u001b[0;31m---------------------------------------------------------------------------\u001b[0m",
      "\u001b[0;31mTypeError\u001b[0m                                 Traceback (most recent call last)",
      "\u001b[0;32m<ipython-input-53-b197c0cf9598>\u001b[0m in \u001b[0;36m<module>\u001b[0;34m\u001b[0m\n\u001b[1;32m     25\u001b[0m     \u001b[0mwriter\u001b[0m \u001b[0;34m=\u001b[0m \u001b[0mcsv\u001b[0m\u001b[0;34m.\u001b[0m\u001b[0mwriter\u001b[0m\u001b[0;34m(\u001b[0m\u001b[0mfile\u001b[0m\u001b[0;34m)\u001b[0m\u001b[0;34m\u001b[0m\u001b[0;34m\u001b[0m\u001b[0m\n\u001b[1;32m     26\u001b[0m     \u001b[0mc\u001b[0m \u001b[0;34m=\u001b[0m \u001b[0mcsv\u001b[0m\u001b[0;34m.\u001b[0m\u001b[0mwriter\u001b[0m\u001b[0;34m(\u001b[0m\u001b[0mopen\u001b[0m\u001b[0;34m(\u001b[0m\u001b[0;34m\"MONFICHIER.csv\"\u001b[0m\u001b[0;34m,\u001b[0m \u001b[0;34m\"wb\"\u001b[0m\u001b[0;34m)\u001b[0m\u001b[0;34m)\u001b[0m\u001b[0;34m\u001b[0m\u001b[0;34m\u001b[0m\u001b[0m\n\u001b[0;32m---> 27\u001b[0;31m     \u001b[0;32mfor\u001b[0m \u001b[0mrow\u001b[0m \u001b[0;32min\u001b[0m \u001b[0mc\u001b[0m\u001b[0;34m:\u001b[0m\u001b[0;34m\u001b[0m\u001b[0;34m\u001b[0m\u001b[0m\n\u001b[0m\u001b[1;32m     28\u001b[0m         \u001b[0mprint\u001b[0m \u001b[0;34m(\u001b[0m\u001b[0mrow\u001b[0m\u001b[0;34m)\u001b[0m\u001b[0;34m\u001b[0m\u001b[0;34m\u001b[0m\u001b[0m\n\u001b[1;32m     29\u001b[0m \u001b[0;32mfinally\u001b[0m\u001b[0;34m:\u001b[0m\u001b[0;34m\u001b[0m\u001b[0;34m\u001b[0m\u001b[0m\n",
      "\u001b[0;31mTypeError\u001b[0m: '_csv.writer' object is not iterable"
     ]
    }
   ],
   "source": [
    "imp=lecture_repartition('Repartition_votes.csv')\n",
    "data=lecture_fichier('Presidentielle_metropole.csv')\n",
    "new_data=projection(data,['Candidat','Voix'])\n",
    "data2=lecture_fichier('Presidentielle_outre-mer.csv')\n",
    "new_data2=projection(data2,['Candidat','Voix'])\n",
    "convtable=conversion_type(new_data)\n",
    "convtable2=conversion_type(new_data2)\n",
    "joint=jointure(convtable, convtable2)\n",
    "newl=tri(joint, False)\n",
    "sec,cand47_5,cand4_75=select(newl, 5)\n",
    "print(f\"Les candidats {sec[0]} et {sec[1]} passent au second tour !\")\n",
    "print(f\"Les candidats\", end=\" \")\n",
    "for i in cand47_5:\n",
    "    print(i, end=\" \")\n",
    "print(\"vont bénéficier d'un remboursement de 47.5% de leurs frais de campagne\")\n",
    "print(f\"Les candidats\", end=\" \")\n",
    "for i in cand4_75:\n",
    "    print(i, end=\" \")\n",
    "print(\"vont bénéficier d'un remboursement de 4.75% de leurs frais de campagne\")"
   ]
  },
  {
   "cell_type": "markdown",
   "metadata": {},
   "source": [
    "#### 2-5- Algorithme -Affichage - Sauvegarde du traitement"
   ]
  },
  {
   "cell_type": "markdown",
   "metadata": {},
   "source": [
    "<div class=\"alert alert-warning\">\n",
    "<img src=\"Images/CR.png\" alt=\"logo CR\" width=5% align=right>\n",
    "  \n",
    "- Tracer l'algorithme d'appel des fonctions réalisées ;\n",
    "- Afficher les résultats du traitement : \n",
    "    - Nom des candidats dont le nombre de voix ≥ 5% des suffrages exprimés\n",
    "    - Nom des candidats dont le nombre de voix est < 5%\n",
    "- Sauvegarder les résultats du traitement dans 2 fichiers csv.\n",
    "<div>"
   ]
  }
 ],
 "metadata": {
  "hide_input": false,
  "kernelspec": {
   "display_name": "Python 3",
   "language": "python",
   "name": "python3"
  },
  "language_info": {
   "codemirror_mode": {
    "name": "ipython",
    "version": 3
   },
   "file_extension": ".py",
   "mimetype": "text/x-python",
   "name": "python",
   "nbconvert_exporter": "python",
   "pygments_lexer": "ipython3",
   "version": "3.6.10"
  },
  "latex_envs": {
   "LaTeX_envs_menu_present": true,
   "autoclose": false,
   "autocomplete": true,
   "bibliofile": "biblio.bib",
   "cite_by": "apalike",
   "current_citInitial": 1,
   "eqLabelWithNumbers": true,
   "eqNumInitial": 1,
   "hotkeys": {
    "equation": "Ctrl-E",
    "itemize": "Ctrl-I"
   },
   "labels_anchors": false,
   "latex_user_defs": false,
   "report_style_numbering": false,
   "user_envs_cfg": false
  },
  "nbTranslate": {
   "displayLangs": [
    "*"
   ],
   "hotkey": "alt-t",
   "langInMainMenu": true,
   "sourceLang": "en",
   "targetLang": "fr",
   "useGoogleTranslate": true
  },
  "toc": {
   "base_numbering": 1,
   "nav_menu": {
    "height": "329px",
    "width": "651px"
   },
   "number_sections": true,
   "sideBar": true,
   "skip_h1_title": false,
   "title_cell": "Table of Contents",
   "title_sidebar": "Contents",
   "toc_cell": false,
   "toc_position": {},
   "toc_section_display": true,
   "toc_window_display": false
  },
  "varInspector": {
   "cols": {
    "lenName": 16,
    "lenType": 16,
    "lenVar": 40
   },
   "kernels_config": {
    "python": {
     "delete_cmd_postfix": "",
     "delete_cmd_prefix": "del ",
     "library": "var_list.py",
     "varRefreshCmd": "print(var_dic_list())"
    },
    "r": {
     "delete_cmd_postfix": ") ",
     "delete_cmd_prefix": "rm(",
     "library": "var_list.r",
     "varRefreshCmd": "cat(var_dic_list()) "
    }
   },
   "types_to_exclude": [
    "module",
    "function",
    "builtin_function_or_method",
    "instance",
    "_Feature"
   ],
   "window_display": false
  }
 },
 "nbformat": 4,
 "nbformat_minor": 2
}
