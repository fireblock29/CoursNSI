{
 "cells": [
  {
   "cell_type": "markdown",
   "metadata": {
    "lang": "en"
   },
   "source": [
    "# <center><font face=\"arial\" size=\"5\" color=#0101DF>NUMERIQUE ET SCIENCES INFORMATIQUES Terminale NSI</font></center>\n",
    "# https://cutt.ly/aTGQopm\n",
    "#https://github.com/bhrigu123/huffman-coding/blob/master/huffman.py\n"
   ]
  },
  {
   "cell_type": "markdown",
   "metadata": {},
   "source": [
    "## <font color=#013ADF>Séquence N° 4 : Projet \"Compression selon la méthode de HUFMANN\"</font>"
   ]
  },
  {
   "cell_type": "markdown",
   "metadata": {
    "lang": "en"
   },
   "source": [
    "On a et on aura toujours besoin de compresser les données, la réduction de la taille des fichiers facilitant leur stockage, leur transfert sur un réseau.\n",
    "Plusieurs techniques sont utilisées, certaines avec pertes, d'autres sans pertes. N'hésitez pas à vous informer sur ces techniques pour votre culture personnelle.\n",
    "\n",
    "Vous allez ici implémenter l'agorithme de compression sans perte de **David Albert Huffman**, qui l'a publié en 1952. "
   ]
  },
  {
   "cell_type": "markdown",
   "metadata": {},
   "source": [
    "### Principe"
   ]
  },
  {
   "cell_type": "markdown",
   "metadata": {},
   "source": [
    "Le principe est coder un motif (ici des caractères) sur un nombre variable de bits, en utilisant peu de bits pour les caractères fréquents et plus de bits pour les caractères rares. Ce codage dépend donc du fichier à compresser. \n",
    "Les propriétés d'un tel codage doivent être les suivantes :\n",
    "\n",
    "- Chaque caractère est codé sur un nombre différent de bits ;\n",
    "- Les codes des caractères fréquents dans le fichier sont courts, ceux des caractères rares sont plus longs. Il utilise la notion de **code préfixe** ;\n",
    "\n",
    "code préfixe : https://fr.wikipedia.org/wiki/Code_pr%C3%A9fixe\n",
    "- Bien que les codes soient de longueur variable, on peut décoder le fichier compressé de façon unique.\n",
    "\n",
    "En effet, lorsqu'on décode le fichier compressé en le lisant linéairement, dès que l'on reconnaît le code d'un caractère, on sait que l'on ne pourra pas le compléter en un autre code.\n",
    "\n",
    "L'algorithme de Huffman, qui garantit ces propriétés, fonctionne de la façon suivante :\n",
    "- On calcule d'abord les fréquences d'apparition de chaque caractère dans le fichier à compresser ;\n",
    "- On calcule ensuite pour chaque caractère un code satisfaisant les propriétés énoncées précédemment ;\n",
    "- On écrit ce code au début du fichier compressé (pour que le décompresseur y ait accès),suivi des données compressées elles-mêmes.\n",
    "\n",
    "Pour calculer le code de chaque caractère, l'algorithme construit un arbre binaire par itérations :\n",
    "- Les feuilles de l'arbre sont les caractères apparaissant dans le fichier ;\n",
    "- Deux nœuds n1 et n2 de fréquences minimales sont choisis. On construit un nouveau nœud n qui devient :\n",
    "    - père de n1 et n2, et dont la fréquence est la somme de celles de n1 et n2 ;\n",
    "    - On répète l'étape précédente jusqu'à atteindre une unique racine.\n",
    "    \n",
    "Vous pouvez visualiser le processus en suivant le lien suivant : http://lwh.free.fr/pages/algo/compression/huffman.html\n"
   ]
  },
  {
   "cell_type": "markdown",
   "metadata": {},
   "source": [
    "Si dans l'animation utilisée, vous saisissez le texte : \"abracadabra\", vous devriez obtenir un graphe ressemblant à celui ci-dessous.\n",
    "\n",
    "On constate que la taille du texte qui contient 11 caractères est en bits est de 11 x 8 bits = 88 bits.\n",
    "\n",
    "La compression a affecté aux caractères, les codes suivants :\n",
    "\n",
    "a : 0\n",
    "r : 10\n",
    "b : 111\n",
    "c : 1100\n",
    "d : 1101\n",
    "\n",
    "La lecture du code se fait en parcourant le graphe en profondeur (voir ci-dessous).\n",
    "\n",
    "Pour 5 x a : 5 bits, 2 x r : 4 bits, 2 x b : 6 bits, 1 x c : 4 bits et 1 x d : 4 bits, soit un total de 23 bits que voici : 01111001100011010111100\n",
    "\n",
    "Le taux de compression est de 26 % environ.\n",
    "\n",
    "Lors de l'interprétation du message binaire :\n",
    "- Le message commence par 0, ce ne peut être qu'un \"a\" ;\n",
    "- Une serie de 1, 4 \"1\" successifs n'existe pas, donc c'est \"b\" avec le code \"111\" ;\n",
    "- Un mot \"100...\" n'existe pas, c'est donc le \"r\" avec le code \"10\" ;\n",
    "- Le code \"01...\" n'existe pas, il s'agit donc d'un \"a\" ;\n",
    "- ..."
   ]
  },
  {
   "cell_type": "markdown",
   "metadata": {},
   "source": [
    "<div class=\"alert alert-success\">\n",
    "\n",
    "\n",
    "\n",
    "<img src=\"Images/abracadabra.png\" alt=\"Huffman\" width=75% align=center>\n",
    "\n",
    "\n",
    "\n",
    "\n",
    "<div>"
   ]
  },
  {
   "cell_type": "markdown",
   "metadata": {},
   "source": [
    "### Travail demandé"
   ]
  },
  {
   "cell_type": "markdown",
   "metadata": {},
   "source": [
    "1- On vous demande d'implémenter l'algorithme de HUFFMAN semi-adaptatif en suivant les contraintes ci-dessous. Dans sa version finale, l'application devra :\n",
    "\n",
    "- Lire le texte à compresser dans un fichier ;\n",
    "- Les caractères utilisés dans le message et leur fréquence d'apparition seront stockés dans un dictionnaire ;\n",
    "- L'ensemble des caractères et leur code binaire associés seront stockés dans un dictionnaire ;\n",
    "- Le texte compressé et son dictionnaire de décodage dans un fichier texte.\n",
    "\n",
    "Voici quelques pistes de travail :\n",
    "- On créera une classe **Noeud**. Vous serez amener à définir le comportement de la méthode spéciale `__lt__` afin de pouvoir comparer la fréquence de 2 objets de type Noeud lors de la construction de l'arbre ;\n",
    "- Pour distinguer les feuilles et les noeuds internes de l'arbre, il faudra nommer les noeuds internes.\n",
    "- Pour construire l'arbre, on utilisera la notion de **tas (heap)**, on importera le module **heapq** dont vous avez une démonstration ci-dessous (avec le lien vers la documentation);\n",
    "- Pour pouvoir réaliser la décompression (semi-adaptatif), il nous faut le dictionnaire des codes affectés aux caractères. On peut imaginer sérialiser le dictionnaire (voir ci-dessous) et le placer dans le fichier compressé sauvegardé, sans le compresser lui-même.\n",
    "\n",
    "2- Fatalement, il faut réaliser l'application inverse qui après lecture du fichier compressé et du dictionnaire de décodage, va restituer le message en clair.\n",
    "\n",
    "*Remarques : Implicitement, il vous faut spécifier le typage des données, prévoir les assertions nécessaires, faire une approche la plus fonctionnelle possible.*"
   ]
  },
  {
   "cell_type": "code",
   "execution_count": 36,
   "metadata": {
    "ExecuteTime": {
     "end_time": "2021-11-23T08:17:12.528719Z",
     "start_time": "2021-11-23T08:17:12.520156Z"
    }
   },
   "outputs": [
    {
     "name": "stdout",
     "output_type": "stream",
     "text": [
      "Help on built-in function sorted in module builtins:\n",
      "\n",
      "sorted(iterable, /, *, key=None, reverse=False)\n",
      "    Return a new list containing all items from the iterable in ascending order.\n",
      "    \n",
      "    A custom key function can be supplied to customize the sort order, and the\n",
      "    reverse flag can be set to request the result in descending order.\n",
      "\n"
     ]
    }
   ],
   "source": [
    "help(sorted)"
   ]
  },
  {
   "cell_type": "code",
   "execution_count": 1,
   "metadata": {
    "ExecuteTime": {
     "end_time": "2021-11-24T07:50:57.710667Z",
     "start_time": "2021-11-24T07:50:57.704966Z"
    }
   },
   "outputs": [],
   "source": [
    "dico_sort={\"a\":1,\"b\":1,\"c\":1,\"d\":2,\"f\":3,\"o\":5}"
   ]
  },
  {
   "cell_type": "code",
   "execution_count": 2,
   "metadata": {
    "ExecuteTime": {
     "end_time": "2021-11-24T07:50:58.488558Z",
     "start_time": "2021-11-24T07:50:58.477147Z"
    }
   },
   "outputs": [
    {
     "name": "stdout",
     "output_type": "stream",
     "text": [
      "La plus petite valeur du tas était : (1, 'a'), tas : [(1, 'b'), (2, 'd'), (1, 'c'), (5, 'o'), (3, 'f')]\n",
      "La plus petite valeur du tas était : (1, 'b'), tas : [(1, 'c'), (2, 'd'), (3, 'f'), (5, 'o')]\n",
      "La plus petite valeur du tas était : (1, 'c'), tas : [(2, 'd'), (5, 'o'), (3, 'f')]\n",
      "La plus petite valeur du tas était : (2, 'd'), tas : [(3, 'f'), (5, 'o')]\n",
      "La plus petite valeur du tas était : (3, 'f'), tas : [(5, 'o')]\n",
      "La plus petite valeur du tas était : (5, 'o'), tas : []\n",
      "[(1, 'a'), (1, 'b'), (1, 'c'), (2, 'd'), (3, 'f'), (5, 'o')]\n"
     ]
    }
   ],
   "source": [
    "#!/usr/bin/env python3\n",
    "# -*- coding: utf-8 -*-\n",
    "\"\"\"\n",
    "https://docs.python.org/fr/3/library/heapq.html\n",
    "\n",
    "\"\"\"\n",
    "import heapq\n",
    "save=[]\n",
    "def test_heapq (dico:dict)->list:\n",
    "    global save\n",
    "    tas=[]\n",
    "    for cle in dico:\n",
    "        heapq.heappush(tas,(dico[cle],cle))\n",
    "    while tas:\n",
    "        valeur=heapq.heappop(tas)\n",
    "        save.append(valeur)\n",
    "        print(f'La plus petite valeur du tas était : {valeur}, tas : {tas}')\n",
    "    return save # vide\n",
    "\n",
    "# programme principal\n",
    "if __name__=='__main__':\n",
    "    sortietas=test_heapq(dico_sort)\n",
    "    print(sortietas)"
   ]
  },
  {
   "cell_type": "code",
   "execution_count": 3,
   "metadata": {
    "ExecuteTime": {
     "end_time": "2021-11-24T07:50:59.578012Z",
     "start_time": "2021-11-24T07:50:59.570448Z"
    }
   },
   "outputs": [],
   "source": [
    "class Noeud:\n",
    "    def __init__(self,cle:str,val=0, fg=None, fd=None):\n",
    "        self.fils_gauche = fg\n",
    "        self.fils_droit = fd\n",
    "        self.cle = cle\n",
    "        self.val = val\n",
    "    \n",
    "    def afficher(self, level=0):\n",
    "        if self.fils_droit:\n",
    "            self.fils_droit.afficher(level + 1)\n",
    "        print(f\"{' ' * 4 * level}{self.cle}\")\n",
    "        if self.fils_gauche:\n",
    "            self.fils_gauche.afficher(level + 1)\n",
    "    "
   ]
  },
  {
   "cell_type": "raw",
   "metadata": {},
   "source": [
    "Les feuilles de l'arbre sont les caractères apparaissant dans le fichier ;\n",
    "Deux nœuds n1 et n2 de fréquences minimales sont choisis. On construit un nouveau nœud n qui devient :\n",
    "père de n1 et n2, et dont la fréquence est la somme de celles de n1 et n2 ;\n",
    "On répète l'étape précédente jusqu'à atteindre une unique racine."
   ]
  },
  {
   "cell_type": "code",
   "execution_count": 4,
   "metadata": {
    "ExecuteTime": {
     "end_time": "2021-11-24T07:51:00.884533Z",
     "start_time": "2021-11-24T07:51:00.878511Z"
    }
   },
   "outputs": [],
   "source": [
    "n1=sortietas[0]\n",
    "n2=sortietas[1]\n",
    "a=Noeud(n1[1], n1[0])\n",
    "b=Noeud(n2[1], n2[0])\n",
    "c=Noeud(a.val+b.val, a.val+b.val, a, b)"
   ]
  },
  {
   "cell_type": "code",
   "execution_count": 5,
   "metadata": {
    "ExecuteTime": {
     "end_time": "2021-11-24T07:51:01.177927Z",
     "start_time": "2021-11-24T07:51:01.167231Z"
    }
   },
   "outputs": [
    {
     "name": "stdout",
     "output_type": "stream",
     "text": [
      "La plus petite valeur du tas était : (0, 'e'), tas : [(1, 'c'), (3, 'd'), (2, 'b'), (4, 'a')]\n",
      "La plus petite valeur du tas était : (1, 'c'), tas : [(2, 'b'), (3, 'd'), (4, 'a')]\n",
      "La plus petite valeur du tas était : (2, 'b'), tas : [(3, 'd'), (4, 'a')]\n",
      "La plus petite valeur du tas était : (3, 'd'), tas : [(4, 'a')]\n",
      "La plus petite valeur du tas était : (4, 'a'), tas : []\n"
     ]
    }
   ],
   "source": [
    "#!/usr/bin/env python3\n",
    "# -*- coding: utf-8 -*-\n",
    "\"\"\"\n",
    "https://docs.python.org/fr/3/library/heapq.html\n",
    "\n",
    "\"\"\"\n",
    "import heapq\n",
    "\n",
    "def test_heapq (dico:dict)->list:\n",
    "    tas=[]\n",
    "    for cle in dico:\n",
    "        heapq.heappush(tas,(dico[cle],cle))\n",
    "    while tas:\n",
    "        valeur=heapq.heappop(tas)\n",
    "        print(f'La plus petite valeur du tas était : {valeur}, tas : {tas}')\n",
    "    return tas # vide\n",
    "\n",
    "# programme principal\n",
    "if __name__=='__main__':\n",
    "    lst1=['a','b','c','d','e']\n",
    "    lst2=[4,2,1,3,0]\n",
    "    dictionnaire={cle :valeur for cle, valeur in zip(lst1, lst2)}\n",
    "    lst_sortie_tas=test_heapq(dictionnaire)"
   ]
  },
  {
   "cell_type": "markdown",
   "metadata": {},
   "source": [
    "#### Sérialisation"
   ]
  },
  {
   "cell_type": "code",
   "execution_count": 6,
   "metadata": {
    "ExecuteTime": {
     "end_time": "2021-11-24T07:51:01.784853Z",
     "start_time": "2021-11-24T07:51:01.776264Z"
    }
   },
   "outputs": [
    {
     "name": "stdout",
     "output_type": "stream",
     "text": [
      "{\"musique\": \"rock\", \"nombre\": 6, \"88\": \"bidon\", \"liste\": [1, 5, 8], \"dico\": {\"cle\": \"valeur\"}, \"etat\": true}\n",
      "<class 'str'>\n"
     ]
    }
   ],
   "source": [
    "\"\"\"\n",
    "Rappel du format JSON\n",
    "\"\"\"\n",
    "import json\n",
    "\n",
    "exemple={\"musique\":\"rock\", \"nombre\":6, \"88\":\"bidon\", \"liste\":[1,5,8], \"dico\":{\"cle\":\"valeur\"}, \"etat\":True}\n",
    "\n",
    "\n",
    "# Transforme mon dictionnaire en chaine de caractères\n",
    "chaine_json=json.dumps(exemple)\n",
    "\n",
    "print(chaine_json)\n",
    "print(type(chaine_json))"
   ]
  },
  {
   "cell_type": "markdown",
   "metadata": {},
   "source": [
    "#### Désérialisation"
   ]
  },
  {
   "cell_type": "code",
   "execution_count": 7,
   "metadata": {
    "ExecuteTime": {
     "end_time": "2021-11-24T07:51:02.361655Z",
     "start_time": "2021-11-24T07:51:02.355006Z"
    }
   },
   "outputs": [
    {
     "name": "stdout",
     "output_type": "stream",
     "text": [
      "{'musique': 'rock', 'nombre': 6, '88': 'bidon', 'liste': [1, 5, 8], 'dico': {'cle': 'valeur'}, 'etat': True}\n",
      "<class 'dict'>\n"
     ]
    }
   ],
   "source": [
    "\"\"\"\n",
    "Rappel du format JSON\n",
    "\"\"\"\n",
    "import json\n",
    "\n",
    "dictionnaire=json.loads(chaine_json,encoding='utf-8')\n",
    "\n",
    "print(dictionnaire)\n",
    "print(type(dictionnaire))"
   ]
  },
  {
   "cell_type": "code",
   "execution_count": 1,
   "metadata": {
    "ExecuteTime": {
     "end_time": "2021-11-29T09:21:33.389640Z",
     "start_time": "2021-11-29T09:20:37.642345Z"
    }
   },
   "outputs": [
    {
     "ename": "KeyboardInterrupt",
     "evalue": "",
     "output_type": "error",
     "traceback": [
      "\u001b[0;31m---------------------------------------------------------------------------\u001b[0m",
      "\u001b[0;31mKeyboardInterrupt\u001b[0m                         Traceback (most recent call last)",
      "\u001b[0;32m<ipython-input-1-898ef33e82e6>\u001b[0m in \u001b[0;36m<module>\u001b[0;34m\u001b[0m\n\u001b[1;32m      7\u001b[0m \u001b[0;32mfrom\u001b[0m \u001b[0murllib\u001b[0m\u001b[0;34m.\u001b[0m\u001b[0mrequest\u001b[0m \u001b[0;32mimport\u001b[0m \u001b[0murlretrieve\u001b[0m\u001b[0;34m\u001b[0m\u001b[0;34m\u001b[0m\u001b[0m\n\u001b[1;32m      8\u001b[0m \u001b[0;34m\u001b[0m\u001b[0m\n\u001b[0;32m----> 9\u001b[0;31m \u001b[0murlretrieve\u001b[0m\u001b[0;34m(\u001b[0m\u001b[0;34m'https://www.gutenberg.org/files/2650/2650-0.txt'\u001b[0m\u001b[0;34m,\u001b[0m \u001b[0;34m'swann.txt'\u001b[0m\u001b[0;34m)\u001b[0m\u001b[0;34m\u001b[0m\u001b[0;34m\u001b[0m\u001b[0m\n\u001b[0m\u001b[1;32m     10\u001b[0m \u001b[0mfile\u001b[0m \u001b[0;34m=\u001b[0m \u001b[0mopen\u001b[0m\u001b[0;34m(\u001b[0m\u001b[0;34m'swann.txt'\u001b[0m\u001b[0;34m,\u001b[0m \u001b[0;34m'r'\u001b[0m\u001b[0;34m)\u001b[0m\u001b[0;34m.\u001b[0m\u001b[0mread\u001b[0m\u001b[0;34m(\u001b[0m\u001b[0;34m)\u001b[0m\u001b[0;34m\u001b[0m\u001b[0;34m\u001b[0m\u001b[0m\n\u001b[1;32m     11\u001b[0m \u001b[0;31m#print(file)\u001b[0m\u001b[0;34m\u001b[0m\u001b[0;34m\u001b[0m\u001b[0;34m\u001b[0m\u001b[0m\n",
      "\u001b[0;32m/opt/tljh/user/lib/python3.6/urllib/request.py\u001b[0m in \u001b[0;36murlretrieve\u001b[0;34m(url, filename, reporthook, data)\u001b[0m\n\u001b[1;32m    275\u001b[0m \u001b[0;34m\u001b[0m\u001b[0m\n\u001b[1;32m    276\u001b[0m             \u001b[0;32mwhile\u001b[0m \u001b[0;32mTrue\u001b[0m\u001b[0;34m:\u001b[0m\u001b[0;34m\u001b[0m\u001b[0;34m\u001b[0m\u001b[0m\n\u001b[0;32m--> 277\u001b[0;31m                 \u001b[0mblock\u001b[0m \u001b[0;34m=\u001b[0m \u001b[0mfp\u001b[0m\u001b[0;34m.\u001b[0m\u001b[0mread\u001b[0m\u001b[0;34m(\u001b[0m\u001b[0mbs\u001b[0m\u001b[0;34m)\u001b[0m\u001b[0;34m\u001b[0m\u001b[0;34m\u001b[0m\u001b[0m\n\u001b[0m\u001b[1;32m    278\u001b[0m                 \u001b[0;32mif\u001b[0m \u001b[0;32mnot\u001b[0m \u001b[0mblock\u001b[0m\u001b[0;34m:\u001b[0m\u001b[0;34m\u001b[0m\u001b[0;34m\u001b[0m\u001b[0m\n\u001b[1;32m    279\u001b[0m                     \u001b[0;32mbreak\u001b[0m\u001b[0;34m\u001b[0m\u001b[0;34m\u001b[0m\u001b[0m\n",
      "\u001b[0;32m/opt/tljh/user/lib/python3.6/http/client.py\u001b[0m in \u001b[0;36mread\u001b[0;34m(self, amt)\u001b[0m\n\u001b[1;32m    457\u001b[0m             \u001b[0;31m# Amount is given, implement using readinto\u001b[0m\u001b[0;34m\u001b[0m\u001b[0;34m\u001b[0m\u001b[0;34m\u001b[0m\u001b[0m\n\u001b[1;32m    458\u001b[0m             \u001b[0mb\u001b[0m \u001b[0;34m=\u001b[0m \u001b[0mbytearray\u001b[0m\u001b[0;34m(\u001b[0m\u001b[0mamt\u001b[0m\u001b[0;34m)\u001b[0m\u001b[0;34m\u001b[0m\u001b[0;34m\u001b[0m\u001b[0m\n\u001b[0;32m--> 459\u001b[0;31m             \u001b[0mn\u001b[0m \u001b[0;34m=\u001b[0m \u001b[0mself\u001b[0m\u001b[0;34m.\u001b[0m\u001b[0mreadinto\u001b[0m\u001b[0;34m(\u001b[0m\u001b[0mb\u001b[0m\u001b[0;34m)\u001b[0m\u001b[0;34m\u001b[0m\u001b[0;34m\u001b[0m\u001b[0m\n\u001b[0m\u001b[1;32m    460\u001b[0m             \u001b[0;32mreturn\u001b[0m \u001b[0mmemoryview\u001b[0m\u001b[0;34m(\u001b[0m\u001b[0mb\u001b[0m\u001b[0;34m)\u001b[0m\u001b[0;34m[\u001b[0m\u001b[0;34m:\u001b[0m\u001b[0mn\u001b[0m\u001b[0;34m]\u001b[0m\u001b[0;34m.\u001b[0m\u001b[0mtobytes\u001b[0m\u001b[0;34m(\u001b[0m\u001b[0;34m)\u001b[0m\u001b[0;34m\u001b[0m\u001b[0;34m\u001b[0m\u001b[0m\n\u001b[1;32m    461\u001b[0m         \u001b[0;32melse\u001b[0m\u001b[0;34m:\u001b[0m\u001b[0;34m\u001b[0m\u001b[0;34m\u001b[0m\u001b[0m\n",
      "\u001b[0;32m/opt/tljh/user/lib/python3.6/http/client.py\u001b[0m in \u001b[0;36mreadinto\u001b[0;34m(self, b)\u001b[0m\n\u001b[1;32m    501\u001b[0m         \u001b[0;31m# connection, and the user is reading more bytes than will be provided\u001b[0m\u001b[0;34m\u001b[0m\u001b[0;34m\u001b[0m\u001b[0;34m\u001b[0m\u001b[0m\n\u001b[1;32m    502\u001b[0m         \u001b[0;31m# (for example, reading in 1k chunks)\u001b[0m\u001b[0;34m\u001b[0m\u001b[0;34m\u001b[0m\u001b[0;34m\u001b[0m\u001b[0m\n\u001b[0;32m--> 503\u001b[0;31m         \u001b[0mn\u001b[0m \u001b[0;34m=\u001b[0m \u001b[0mself\u001b[0m\u001b[0;34m.\u001b[0m\u001b[0mfp\u001b[0m\u001b[0;34m.\u001b[0m\u001b[0mreadinto\u001b[0m\u001b[0;34m(\u001b[0m\u001b[0mb\u001b[0m\u001b[0;34m)\u001b[0m\u001b[0;34m\u001b[0m\u001b[0;34m\u001b[0m\u001b[0m\n\u001b[0m\u001b[1;32m    504\u001b[0m         \u001b[0;32mif\u001b[0m \u001b[0;32mnot\u001b[0m \u001b[0mn\u001b[0m \u001b[0;32mand\u001b[0m \u001b[0mb\u001b[0m\u001b[0;34m:\u001b[0m\u001b[0;34m\u001b[0m\u001b[0;34m\u001b[0m\u001b[0m\n\u001b[1;32m    505\u001b[0m             \u001b[0;31m# Ideally, we would raise IncompleteRead if the content-length\u001b[0m\u001b[0;34m\u001b[0m\u001b[0;34m\u001b[0m\u001b[0;34m\u001b[0m\u001b[0m\n",
      "\u001b[0;32m/opt/tljh/user/lib/python3.6/socket.py\u001b[0m in \u001b[0;36mreadinto\u001b[0;34m(self, b)\u001b[0m\n\u001b[1;32m    584\u001b[0m         \u001b[0;32mwhile\u001b[0m \u001b[0;32mTrue\u001b[0m\u001b[0;34m:\u001b[0m\u001b[0;34m\u001b[0m\u001b[0;34m\u001b[0m\u001b[0m\n\u001b[1;32m    585\u001b[0m             \u001b[0;32mtry\u001b[0m\u001b[0;34m:\u001b[0m\u001b[0;34m\u001b[0m\u001b[0;34m\u001b[0m\u001b[0m\n\u001b[0;32m--> 586\u001b[0;31m                 \u001b[0;32mreturn\u001b[0m \u001b[0mself\u001b[0m\u001b[0;34m.\u001b[0m\u001b[0m_sock\u001b[0m\u001b[0;34m.\u001b[0m\u001b[0mrecv_into\u001b[0m\u001b[0;34m(\u001b[0m\u001b[0mb\u001b[0m\u001b[0;34m)\u001b[0m\u001b[0;34m\u001b[0m\u001b[0;34m\u001b[0m\u001b[0m\n\u001b[0m\u001b[1;32m    587\u001b[0m             \u001b[0;32mexcept\u001b[0m \u001b[0mtimeout\u001b[0m\u001b[0;34m:\u001b[0m\u001b[0;34m\u001b[0m\u001b[0;34m\u001b[0m\u001b[0m\n\u001b[1;32m    588\u001b[0m                 \u001b[0mself\u001b[0m\u001b[0;34m.\u001b[0m\u001b[0m_timeout_occurred\u001b[0m \u001b[0;34m=\u001b[0m \u001b[0;32mTrue\u001b[0m\u001b[0;34m\u001b[0m\u001b[0;34m\u001b[0m\u001b[0m\n",
      "\u001b[0;32m/opt/tljh/user/lib/python3.6/ssl.py\u001b[0m in \u001b[0;36mrecv_into\u001b[0;34m(self, buffer, nbytes, flags)\u001b[0m\n\u001b[1;32m   1010\u001b[0m                   \u001b[0;34m\"non-zero flags not allowed in calls to recv_into() on %s\"\u001b[0m \u001b[0;34m%\u001b[0m\u001b[0;34m\u001b[0m\u001b[0;34m\u001b[0m\u001b[0m\n\u001b[1;32m   1011\u001b[0m                   self.__class__)\n\u001b[0;32m-> 1012\u001b[0;31m             \u001b[0;32mreturn\u001b[0m \u001b[0mself\u001b[0m\u001b[0;34m.\u001b[0m\u001b[0mread\u001b[0m\u001b[0;34m(\u001b[0m\u001b[0mnbytes\u001b[0m\u001b[0;34m,\u001b[0m \u001b[0mbuffer\u001b[0m\u001b[0;34m)\u001b[0m\u001b[0;34m\u001b[0m\u001b[0;34m\u001b[0m\u001b[0m\n\u001b[0m\u001b[1;32m   1013\u001b[0m         \u001b[0;32melse\u001b[0m\u001b[0;34m:\u001b[0m\u001b[0;34m\u001b[0m\u001b[0;34m\u001b[0m\u001b[0m\n\u001b[1;32m   1014\u001b[0m             \u001b[0;32mreturn\u001b[0m \u001b[0msocket\u001b[0m\u001b[0;34m.\u001b[0m\u001b[0mrecv_into\u001b[0m\u001b[0;34m(\u001b[0m\u001b[0mself\u001b[0m\u001b[0;34m,\u001b[0m \u001b[0mbuffer\u001b[0m\u001b[0;34m,\u001b[0m \u001b[0mnbytes\u001b[0m\u001b[0;34m,\u001b[0m \u001b[0mflags\u001b[0m\u001b[0;34m)\u001b[0m\u001b[0;34m\u001b[0m\u001b[0;34m\u001b[0m\u001b[0m\n",
      "\u001b[0;32m/opt/tljh/user/lib/python3.6/ssl.py\u001b[0m in \u001b[0;36mread\u001b[0;34m(self, len, buffer)\u001b[0m\n\u001b[1;32m    872\u001b[0m             \u001b[0;32mraise\u001b[0m \u001b[0mValueError\u001b[0m\u001b[0;34m(\u001b[0m\u001b[0;34m\"Read on closed or unwrapped SSL socket.\"\u001b[0m\u001b[0;34m)\u001b[0m\u001b[0;34m\u001b[0m\u001b[0;34m\u001b[0m\u001b[0m\n\u001b[1;32m    873\u001b[0m         \u001b[0;32mtry\u001b[0m\u001b[0;34m:\u001b[0m\u001b[0;34m\u001b[0m\u001b[0;34m\u001b[0m\u001b[0m\n\u001b[0;32m--> 874\u001b[0;31m             \u001b[0;32mreturn\u001b[0m \u001b[0mself\u001b[0m\u001b[0;34m.\u001b[0m\u001b[0m_sslobj\u001b[0m\u001b[0;34m.\u001b[0m\u001b[0mread\u001b[0m\u001b[0;34m(\u001b[0m\u001b[0mlen\u001b[0m\u001b[0;34m,\u001b[0m \u001b[0mbuffer\u001b[0m\u001b[0;34m)\u001b[0m\u001b[0;34m\u001b[0m\u001b[0;34m\u001b[0m\u001b[0m\n\u001b[0m\u001b[1;32m    875\u001b[0m         \u001b[0;32mexcept\u001b[0m \u001b[0mSSLError\u001b[0m \u001b[0;32mas\u001b[0m \u001b[0mx\u001b[0m\u001b[0;34m:\u001b[0m\u001b[0;34m\u001b[0m\u001b[0;34m\u001b[0m\u001b[0m\n\u001b[1;32m    876\u001b[0m             \u001b[0;32mif\u001b[0m \u001b[0mx\u001b[0m\u001b[0;34m.\u001b[0m\u001b[0margs\u001b[0m\u001b[0;34m[\u001b[0m\u001b[0;36m0\u001b[0m\u001b[0;34m]\u001b[0m \u001b[0;34m==\u001b[0m \u001b[0mSSL_ERROR_EOF\u001b[0m \u001b[0;32mand\u001b[0m \u001b[0mself\u001b[0m\u001b[0;34m.\u001b[0m\u001b[0msuppress_ragged_eofs\u001b[0m\u001b[0;34m:\u001b[0m\u001b[0;34m\u001b[0m\u001b[0;34m\u001b[0m\u001b[0m\n",
      "\u001b[0;32m/opt/tljh/user/lib/python3.6/ssl.py\u001b[0m in \u001b[0;36mread\u001b[0;34m(self, len, buffer)\u001b[0m\n\u001b[1;32m    629\u001b[0m         \"\"\"\n\u001b[1;32m    630\u001b[0m         \u001b[0;32mif\u001b[0m \u001b[0mbuffer\u001b[0m \u001b[0;32mis\u001b[0m \u001b[0;32mnot\u001b[0m \u001b[0;32mNone\u001b[0m\u001b[0;34m:\u001b[0m\u001b[0;34m\u001b[0m\u001b[0;34m\u001b[0m\u001b[0m\n\u001b[0;32m--> 631\u001b[0;31m             \u001b[0mv\u001b[0m \u001b[0;34m=\u001b[0m \u001b[0mself\u001b[0m\u001b[0;34m.\u001b[0m\u001b[0m_sslobj\u001b[0m\u001b[0;34m.\u001b[0m\u001b[0mread\u001b[0m\u001b[0;34m(\u001b[0m\u001b[0mlen\u001b[0m\u001b[0;34m,\u001b[0m \u001b[0mbuffer\u001b[0m\u001b[0;34m)\u001b[0m\u001b[0;34m\u001b[0m\u001b[0;34m\u001b[0m\u001b[0m\n\u001b[0m\u001b[1;32m    632\u001b[0m         \u001b[0;32melse\u001b[0m\u001b[0;34m:\u001b[0m\u001b[0;34m\u001b[0m\u001b[0;34m\u001b[0m\u001b[0m\n\u001b[1;32m    633\u001b[0m             \u001b[0mv\u001b[0m \u001b[0;34m=\u001b[0m \u001b[0mself\u001b[0m\u001b[0;34m.\u001b[0m\u001b[0m_sslobj\u001b[0m\u001b[0;34m.\u001b[0m\u001b[0mread\u001b[0m\u001b[0;34m(\u001b[0m\u001b[0mlen\u001b[0m\u001b[0;34m)\u001b[0m\u001b[0;34m\u001b[0m\u001b[0;34m\u001b[0m\u001b[0m\n",
      "\u001b[0;31mKeyboardInterrupt\u001b[0m: "
     ]
    }
   ],
   "source": [
    "\"\"\"\n",
    "Pour aller plus loin\n",
    "\n",
    "Il faut être patient ...\n",
    "\"\"\"\n",
    "\n",
    "from urllib.request import urlretrieve\n",
    "\n",
    "urlretrieve('https://www.gutenberg.org/files/2650/2650-0.txt', 'swann.txt')\n",
    "file = open('swann.txt', 'r').read()\n",
    "#print(file)"
   ]
  },
  {
   "cell_type": "code",
   "execution_count": null,
   "metadata": {},
   "outputs": [],
   "source": []
  }
 ],
 "metadata": {
  "hide_input": false,
  "kernelspec": {
   "display_name": "Python 3",
   "language": "python",
   "name": "python3"
  },
  "language_info": {
   "codemirror_mode": {
    "name": "ipython",
    "version": 3
   },
   "file_extension": ".py",
   "mimetype": "text/x-python",
   "name": "python",
   "nbconvert_exporter": "python",
   "pygments_lexer": "ipython3",
   "version": "3.6.10"
  },
  "latex_envs": {
   "LaTeX_envs_menu_present": true,
   "autoclose": false,
   "autocomplete": true,
   "bibliofile": "biblio.bib",
   "cite_by": "apalike",
   "current_citInitial": 1,
   "eqLabelWithNumbers": true,
   "eqNumInitial": 1,
   "hotkeys": {
    "equation": "Ctrl-E",
    "itemize": "Ctrl-I"
   },
   "labels_anchors": false,
   "latex_user_defs": false,
   "report_style_numbering": false,
   "user_envs_cfg": false
  },
  "nbTranslate": {
   "displayLangs": [
    "*"
   ],
   "hotkey": "alt-t",
   "langInMainMenu": true,
   "sourceLang": "en",
   "targetLang": "fr",
   "useGoogleTranslate": true
  },
  "toc": {
   "base_numbering": 1,
   "nav_menu": {},
   "number_sections": true,
   "sideBar": true,
   "skip_h1_title": false,
   "title_cell": "Table of Contents",
   "title_sidebar": "Contents",
   "toc_cell": false,
   "toc_position": {},
   "toc_section_display": true,
   "toc_window_display": false
  },
  "varInspector": {
   "cols": {
    "lenName": 16,
    "lenType": 16,
    "lenVar": 40
   },
   "kernels_config": {
    "python": {
     "delete_cmd_postfix": "",
     "delete_cmd_prefix": "del ",
     "library": "var_list.py",
     "varRefreshCmd": "print(var_dic_list())"
    },
    "r": {
     "delete_cmd_postfix": ") ",
     "delete_cmd_prefix": "rm(",
     "library": "var_list.r",
     "varRefreshCmd": "cat(var_dic_list()) "
    }
   },
   "types_to_exclude": [
    "module",
    "function",
    "builtin_function_or_method",
    "instance",
    "_Feature"
   ],
   "window_display": false
  }
 },
 "nbformat": 4,
 "nbformat_minor": 4
}
