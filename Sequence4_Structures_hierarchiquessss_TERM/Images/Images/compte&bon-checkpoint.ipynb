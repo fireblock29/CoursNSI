{
 "cells": [
  {
   "cell_type": "markdown",
   "metadata": {},
   "source": [
    "# <center><font face=\"arial\" size=\"5\" color=#0101DF>NUMERIQUE ET SCIENCES INFORMATIQUES Terminale NSI</font></center>"
   ]
  },
  {
   "cell_type": "markdown",
   "metadata": {},
   "source": [
    "## <font color=#013ADF>Séquence N° 4 : Projet \"Le compte est bon !\"</font>"
   ]
  },
  {
   "cell_type": "markdown",
   "metadata": {},
   "source": [
    "### Règles du jeu"
   ]
  },
  {
   "cell_type": "markdown",
   "metadata": {},
   "source": [
    "L'application que l'on souhaite développer \"le compte est bon\" est un jeu, dérivé du célèbre jeu télévisé des chiffres et des lettres, mais adapté aux enfants. \n",
    "\n",
    "Les règles du jeu sont les suivantes :\n",
    "- Vous disposez de 5 nombres et vous devez obtenir le nombre cible, en combinant ces 5 nombres avec les 4 opérations élémentaires : addition, soustraction, division et multiplication.\n",
    "- Chaque nombre ne peut être utilisé qu'une seule fois, vous ne pouvez combiner que des nombres positifs et entiers.\n",
    "- Le nombre cible est toujours inférieur à 100 et les nombres à utiliser pour le trouver sont choisis entre 1 et 20.\n",
    "\n",
    "Exemple : le nombre cible est **29**, vous disposez des nombres **2 4 2 1 6**\n",
    "\n",
    "4 x 6 = 24\n",
    "\n",
    "**2 2 1 24**\n",
    "\n",
    "2 + 2 = 4\n",
    "\n",
    "**1 24 4**\n",
    "\n",
    "4 + 1 = 5\n",
    "\n",
    "**24 5**\n",
    "\n",
    "24 + 5 = 29"
   ]
  },
  {
   "cell_type": "markdown",
   "metadata": {},
   "source": [
    "https://www.solumaths.com/fr/jeux-maths-en-ligne/jeu-le-compte-est-bon#jouer-en-ligne"
   ]
  },
  {
   "cell_type": "markdown",
   "metadata": {},
   "source": [
    "On limitera le projet à la recherche de la solution. En effet, si le joueur le souhaite, il faut lui fournir une solution.\n",
    "\n",
    "*Remarque : si vous souhaitez réaliser l'IHM, vous ferez cela pendant vos vacances.*"
   ]
  },
  {
   "cell_type": "markdown",
   "metadata": {},
   "source": [
    "<div class=\"alert alert-success\">\n",
    "\n",
    "Voici quelques réflexions concernant la recherche d'une solution :\n",
    "\n",
    "- Vous allez faire une recherche en force brute, c'est à dire essayer de trouver la solution en combinant les opérations et les nombres ;\n",
    "- Le graphe ci-dessous donne la représentation du problème :\n",
    "\n",
    "<img src=\"Images/permutations.png\" alt=\"arbre\" width=60% align=center>\n",
    "\n",
    "\n",
    "Compte-tenu des règles du jeu :\n",
    "    \n",
    "- On peut se demander ce que donne :\n",
    "    - le résultat de la division d'un nombre par un second plus grand ;\n",
    "    \n",
    "    - la soustraction d'un nombre par un second plus grand ;\n",
    "\n",
    "    \n",
    "et en tirer les conséquences sur l'algorithme.\n",
    "\n",
    "<div>"
   ]
  }
 ],
 "metadata": {
  "kernelspec": {
   "display_name": "Python 3",
   "language": "python",
   "name": "python3"
  },
  "language_info": {
   "codemirror_mode": {
    "name": "ipython",
    "version": 3
   },
   "file_extension": ".py",
   "mimetype": "text/x-python",
   "name": "python",
   "nbconvert_exporter": "python",
   "pygments_lexer": "ipython3",
   "version": "3.7.7"
  },
  "varInspector": {
   "cols": {
    "lenName": 16,
    "lenType": 16,
    "lenVar": 40
   },
   "kernels_config": {
    "python": {
     "delete_cmd_postfix": "",
     "delete_cmd_prefix": "del ",
     "library": "var_list.py",
     "varRefreshCmd": "print(var_dic_list())"
    },
    "r": {
     "delete_cmd_postfix": ") ",
     "delete_cmd_prefix": "rm(",
     "library": "var_list.r",
     "varRefreshCmd": "cat(var_dic_list()) "
    }
   },
   "types_to_exclude": [
    "module",
    "function",
    "builtin_function_or_method",
    "instance",
    "_Feature"
   ],
   "window_display": false
  }
 },
 "nbformat": 4,
 "nbformat_minor": 2
}
