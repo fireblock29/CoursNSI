{
 "cells": [
  {
   "cell_type": "markdown",
   "metadata": {},
   "source": [
    "# <center><font face=\"arial\" size=\"5\" color=#0101DF>NUMERIQUE ET SCIENCES INFORMATIQUES Terminale NSI</font></center>"
   ]
  },
  {
   "cell_type": "markdown",
   "metadata": {},
   "source": [
    "## <font color=#013ADF>Séquence N° 4 : Correction du devoir</font>"
   ]
  },
  {
   "cell_type": "markdown",
   "metadata": {},
   "source": [
    "### Exercice 1"
   ]
  },
  {
   "cell_type": "markdown",
   "metadata": {},
   "source": [
    "taille = 5\n",
    "\n",
    "Hauteur 3\n",
    "\n",
    "Il s'agit bien d'un ARB car la clé du noeud fils gauche est inférieure à la clé du racine et la clé du noeud fils droit est supérieur à la clé de la racine et ceci récursivement.\n",
    "\n",
    "Préfixe : 30, 16, 9, 20, 40\n",
    "\n",
    "Infixe : 9, 16, 20, 30, 40\n",
    "\n",
    "Suffixe : 9, 20, 16, 40, 30\n",
    "\n",
    "Largeur : 30, 16, 40, 9, 20\n",
    "\n",
    "Voir démonstration en cours.\n",
    "\n",
    "Brièvement, un arbre dégénéré (filiforme) a une hauteur h = n.\n",
    "\n",
    "Dans le cas d'un arbre complet :\n",
    "\n",
    "pour une hauteur de 1, la taille est 1,\n",
    "\n",
    "pour une hauteur de 2, la taille est 3,\n",
    "\n",
    "pour une hauteur de 3, la taille est 7 \n",
    "\n",
    "...\n",
    "\n",
    "cela vérifie donc la relation 2<sup>h</sup>-1 qu'il faudrait démontrer par récurence.\n"
   ]
  },
  {
   "cell_type": "markdown",
   "metadata": {},
   "source": [
    "### Exercice 2"
   ]
  },
  {
   "cell_type": "markdown",
   "metadata": {},
   "source": [
    "racine -> Lea\n",
    "\n",
    "feuilles -> Marc, Lea, Claire, Theo, Marie, Louis, Anne et Kevin"
   ]
  },
  {
   "cell_type": "code",
   "execution_count": null,
   "metadata": {},
   "outputs": [],
   "source": [
    "# Question 1.a\n",
    "def vainqueur(arb):\n",
    "    return racine(arb)\n",
    "\n",
    "def finale(arb):\n",
    "    fg = gauche(arb)\n",
    "    fd = droit(arb)\n",
    "    return [racine(fg), racine(fd)]"
   ]
  },
  {
   "cell_type": "code",
   "execution_count": null,
   "metadata": {},
   "outputs": [],
   "source": [
    "# Question 2 a et b\n",
    "def occurrences(arb, nom):\n",
    "    if est_vide(arb):\n",
    "        return 0\n",
    "    elif racine(arb) == nom:\n",
    "        res = 1\n",
    "    else:\n",
    "        res = 0\n",
    "    return res + occurrences(gauche(arb), nom) + occurrences(droit(arb), nom)\n",
    "\n",
    "def a_gagne(arb, nom):\n",
    "    return occurrences(arb,nom) > 1"
   ]
  },
  {
   "cell_type": "markdown",
   "metadata": {},
   "source": [
    "Question 3.a\n",
    "\n",
    "Les instructions proposées renvoient une valeur erronée dans le cas où le paramètre \"nom\" correspond au vainqueur du tournoi. En effet, si on considère l’arbre proposé à la question 1.a, occurrences(arb, “Lea”) renvoie 4 alors que Lea a joué seulement 3 matchs."
   ]
  },
  {
   "cell_type": "code",
   "execution_count": null,
   "metadata": {},
   "outputs": [],
   "source": [
    "# Question 3.b\n",
    "def nombre_matchs(arb, nom):\n",
    "    if vainqueur(arb)==nom :\n",
    "        return occurrences(arb, nom) - 1\n",
    "    else :\n",
    "        return occurrences(arb, nom)"
   ]
  },
  {
   "cell_type": "code",
   "execution_count": null,
   "metadata": {},
   "outputs": [],
   "source": [
    "# Question 4\n",
    "def liste_joueurs(arb):\n",
    "    if est_vide (arb):\n",
    "        return []\n",
    "    elif est_vide(gauche(arb)) and est_vide(droit(arb)) :\n",
    "        return [racine(arb)]\n",
    "    else :\n",
    "        return liste_joueurs(gauche(arb)) + liste_joueurs(droit(arb))"
   ]
  }
 ],
 "metadata": {
  "hide_input": false,
  "kernelspec": {
   "display_name": "Python 3",
   "language": "python",
   "name": "python3"
  },
  "language_info": {
   "codemirror_mode": {
    "name": "ipython",
    "version": 3
   },
   "file_extension": ".py",
   "mimetype": "text/x-python",
   "name": "python",
   "nbconvert_exporter": "python",
   "pygments_lexer": "ipython3",
   "version": "3.6.10"
  },
  "latex_envs": {
   "LaTeX_envs_menu_present": true,
   "autoclose": false,
   "autocomplete": true,
   "bibliofile": "biblio.bib",
   "cite_by": "apalike",
   "current_citInitial": 1,
   "eqLabelWithNumbers": true,
   "eqNumInitial": 1,
   "hotkeys": {
    "equation": "Ctrl-E",
    "itemize": "Ctrl-I"
   },
   "labels_anchors": false,
   "latex_user_defs": false,
   "report_style_numbering": false,
   "user_envs_cfg": false
  },
  "nbTranslate": {
   "displayLangs": [
    "*"
   ],
   "hotkey": "alt-t",
   "langInMainMenu": true,
   "sourceLang": "en",
   "targetLang": "fr",
   "useGoogleTranslate": true
  },
  "toc": {
   "base_numbering": 1,
   "nav_menu": {},
   "number_sections": true,
   "sideBar": true,
   "skip_h1_title": false,
   "title_cell": "Table of Contents",
   "title_sidebar": "Contents",
   "toc_cell": false,
   "toc_position": {},
   "toc_section_display": true,
   "toc_window_display": false
  },
  "varInspector": {
   "cols": {
    "lenName": 16,
    "lenType": 16,
    "lenVar": 40
   },
   "kernels_config": {
    "python": {
     "delete_cmd_postfix": "",
     "delete_cmd_prefix": "del ",
     "library": "var_list.py",
     "varRefreshCmd": "print(var_dic_list())"
    },
    "r": {
     "delete_cmd_postfix": ") ",
     "delete_cmd_prefix": "rm(",
     "library": "var_list.r",
     "varRefreshCmd": "cat(var_dic_list()) "
    }
   },
   "types_to_exclude": [
    "module",
    "function",
    "builtin_function_or_method",
    "instance",
    "_Feature"
   ],
   "window_display": false
  }
 },
 "nbformat": 4,
 "nbformat_minor": 2
}
