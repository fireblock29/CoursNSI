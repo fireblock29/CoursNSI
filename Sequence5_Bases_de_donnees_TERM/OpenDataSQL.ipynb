{
 "cells": [
  {
   "cell_type": "code",
   "execution_count": 1,
   "metadata": {
    "ExecuteTime": {
     "end_time": "2022-02-18T19:19:12.651895Z",
     "start_time": "2022-02-18T19:19:12.564618Z"
    }
   },
   "outputs": [
    {
     "name": "stdout",
     "output_type": "stream",
     "text": [
      "[(48.40994, -4.485379), (48.409554, -4.485374), (48.410255, -4.485921)]\n",
      "763\n"
     ]
    }
   ],
   "source": [
    "import csv\n",
    "import sqlite3\n",
    "\n",
    "def lire_fichier():\n",
    "    \"\"\"\n",
    "    Lecture du fichiers stops.txt du dossier BIBUS\n",
    "    Renvoie les différentes lignes sous forme de liste\n",
    "    \"\"\"\n",
    "    liste=[]\n",
    "    with open('BIBUS/stops.txt') as f:\n",
    "        lire=csv.reader(f, delimiter=',')\n",
    "        for ligne in lire:\n",
    "            liste.append(ligne)\n",
    "    return liste\n",
    "\n",
    "def execode():\n",
    "    \"\"\"\n",
    "    Exécution de code SQL\n",
    "    Ici, la méthode crée la table arrets si elle n'existe pas\n",
    "    \"\"\"\n",
    "    connexion = sqlite3.connect('transports.db')\n",
    "    curseur=connexion.cursor()\n",
    "    curseur.executescript(\n",
    "    \"\"\"\n",
    "    CREATE TABLE IF NOT EXISTS arrets(\n",
    "    stop_id TEXT PRIMARY KEY NOT NULL,\n",
    "    stop_name TEXT,\n",
    "    stop_lat REAL,\n",
    "    stop_lon REAL,\n",
    "    wheelchair_boarding INT\n",
    "    )\n",
    "    \"\"\")\n",
    "    connexion.commit() #Sauvegarde des changements\n",
    "    connexion.close() #Fermeture de la DB\n",
    "    \n",
    "def connect(db):\n",
    "    \"\"\"\n",
    "    Connexion à la DB passée en paramètre\n",
    "    Renvoie la connexion et le curseur, utile pour les manipulations\n",
    "    \"\"\"\n",
    "    connexion = sqlite3.connect(f'{db}.db')\n",
    "    curseur=connexion.cursor()\n",
    "    return connexion, curseur\n",
    "\n",
    "def inputall(liste):\n",
    "    \"\"\"\n",
    "    Ajout de tous les éléments à la DB\n",
    "    A n'exécuter qu'une fois\n",
    "    \"\"\"\n",
    "    connexion, curseur=connect(\"transports\")\n",
    "    liste.pop(0) #Suppression du 1er élément, correspondant aux attributs\n",
    "    for elt in liste:\n",
    "        curseur.execute(\n",
    "            \"\"\"INSERT INTO arrets (stop_id, stop_name, stop_lat, stop_lon, wheelchair_boarding) \n",
    "            VALUES (?,?,?,?,?)\"\"\",elt)\n",
    "        connexion.commit()\n",
    "    connexion.close()\n",
    "\n",
    "def selectall():\n",
    "    \"\"\"\n",
    "    Selection de l'entièreté de la DB\n",
    "    \"\"\"\n",
    "    connexion, curseur=connect(\"transports\")\n",
    "    curseur.execute(\"SELECT * FROM arrets\")\n",
    "    rows = curseur.fetchall()\n",
    "    connexion.close()    \n",
    "    return rows\n",
    "\n",
    "def GPS(arret):\n",
    "    \"\"\"\n",
    "    Renvoie les coordonnées GPS lat et long de l'arret passé en paramètre\n",
    "    \"\"\"\n",
    "    connexion, curseur=connect(\"transports\")\n",
    "    curseur.execute(\"SELECT stop_lat, stop_lon FROM arrets WHERE stop_name=?\", [arret])\n",
    "    rows = curseur.fetchall()\n",
    "    connexion.close()\n",
    "    return rows\n",
    "\n",
    "def accesPMR():\n",
    "    \"\"\"\n",
    "    Renvoie le nombre d'arret (count) possédant un accès PMR\n",
    "    \"\"\"\n",
    "    connexion, curseur=connect(\"transports\")\n",
    "    curseur.execute(\"SELECT count(wheelchair_boarding) FROM arrets WHERE wheelchair_boarding=1\")\n",
    "    row = curseur.fetchone()\n",
    "    connexion.close()\n",
    "    return row[0]\n",
    "        \n",
    "    \n",
    "#Programme principal\n",
    "if __name__=='__main__':\n",
    "    liste=lire_fichier()\n",
    "    execode()\n",
    "    #inputall(liste)\n",
    "    selectall()\n",
    "    print(GPS('Mirabeau'))\n",
    "    print(accesPMR())"
   ]
  },
  {
   "cell_type": "code",
   "execution_count": null,
   "metadata": {},
   "outputs": [],
   "source": []
  }
 ],
 "metadata": {
  "hide_input": false,
  "kernelspec": {
   "display_name": "Python 3",
   "language": "python",
   "name": "python3"
  },
  "language_info": {
   "codemirror_mode": {
    "name": "ipython",
    "version": 3
   },
   "file_extension": ".py",
   "mimetype": "text/x-python",
   "name": "python",
   "nbconvert_exporter": "python",
   "pygments_lexer": "ipython3",
   "version": "3.6.10"
  },
  "latex_envs": {
   "LaTeX_envs_menu_present": true,
   "autoclose": false,
   "autocomplete": true,
   "bibliofile": "biblio.bib",
   "cite_by": "apalike",
   "current_citInitial": 1,
   "eqLabelWithNumbers": true,
   "eqNumInitial": 1,
   "hotkeys": {
    "equation": "Ctrl-E",
    "itemize": "Ctrl-I"
   },
   "labels_anchors": false,
   "latex_user_defs": false,
   "report_style_numbering": false,
   "user_envs_cfg": false
  },
  "nbTranslate": {
   "displayLangs": [
    "*"
   ],
   "hotkey": "alt-t",
   "langInMainMenu": true,
   "sourceLang": "en",
   "targetLang": "fr",
   "useGoogleTranslate": true
  },
  "toc": {
   "base_numbering": 1,
   "nav_menu": {},
   "number_sections": true,
   "sideBar": true,
   "skip_h1_title": false,
   "title_cell": "Table of Contents",
   "title_sidebar": "Contents",
   "toc_cell": false,
   "toc_position": {},
   "toc_section_display": true,
   "toc_window_display": false
  },
  "varInspector": {
   "cols": {
    "lenName": 16,
    "lenType": 16,
    "lenVar": 40
   },
   "kernels_config": {
    "python": {
     "delete_cmd_postfix": "",
     "delete_cmd_prefix": "del ",
     "library": "var_list.py",
     "varRefreshCmd": "print(var_dic_list())"
    },
    "r": {
     "delete_cmd_postfix": ") ",
     "delete_cmd_prefix": "rm(",
     "library": "var_list.r",
     "varRefreshCmd": "cat(var_dic_list()) "
    }
   },
   "types_to_exclude": [
    "module",
    "function",
    "builtin_function_or_method",
    "instance",
    "_Feature"
   ],
   "window_display": false
  }
 },
 "nbformat": 4,
 "nbformat_minor": 4
}
