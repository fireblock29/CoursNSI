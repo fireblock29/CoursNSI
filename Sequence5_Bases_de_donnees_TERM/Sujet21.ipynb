{
 "cells": [
  {
   "cell_type": "markdown",
   "metadata": {},
   "source": [
    "**Exercice 1**"
   ]
  },
  {
   "cell_type": "code",
   "execution_count": 2,
   "metadata": {
    "ExecuteTime": {
     "end_time": "2021-12-05T10:20:00.729355Z",
     "start_time": "2021-12-05T10:20:00.715751Z"
    }
   },
   "outputs": [],
   "source": [
    "def taille(arbre:dict,lettre:str):\n",
    "    \"\"\"\n",
    "    Fonction prenant en paramètre un arbre, sous la forme d'un dictionnaire, ainsi qu'un caractère.\n",
    "    Cette fonction renvoit la taille où se trouve le caractère demandé sur l'arbre.\n",
    "    \"\"\"\n",
    "    if not lettre in arbre: #Si l'arbre est vide\n",
    "        return 0\n",
    "    if arbre[lettre][0]!='' and arbre[lettre][1]!='': #Si le caractère n'est pas feuille\n",
    "        return 1+taille(arbre,arbre[lettre][0])+taille(arbre,arbre[lettre][1])\n",
    "    elif arbre[lettre][0]=='' and arbre[lettre][1]!='': #Si le caractère est feuille à gauche, mais pas à droite\n",
    "        return 1+taille(arbre,arbre[lettre][1])\n",
    "    elif arbre[lettre][0]!='' and arbre[lettre][1]=='': #Si le caractère est feuille à droite, mais pas à gauche\n",
    "        return 1+taille(arbre,arbre[lettre][0])\n",
    "    else : #Sinon (= si le caractère est feuille)\n",
    "        return 1"
   ]
  },
  {
   "cell_type": "code",
   "execution_count": 3,
   "metadata": {
    "ExecuteTime": {
     "end_time": "2021-12-05T10:20:01.063066Z",
     "start_time": "2021-12-05T10:20:01.053749Z"
    }
   },
   "outputs": [],
   "source": [
    "#Définition de différents arbres pour effectuer des tests\n",
    "\n",
    "a= {'F':['B','G'], 'B':['A','D'], 'A':['',''], 'D':['C','E'], 'C':['',''], 'E':['',''], 'G':['','I'], 'I':['','H'],'H':['','']}\n",
    "b = {'A':['','']}\n",
    "c = {'A':['B',''], 'B':['','']}\n",
    "d = {}"
   ]
  },
  {
   "cell_type": "code",
   "execution_count": 4,
   "metadata": {
    "ExecuteTime": {
     "end_time": "2021-12-05T10:20:01.400191Z",
     "start_time": "2021-12-05T10:20:01.393527Z"
    }
   },
   "outputs": [],
   "source": [
    "#Assertions pour vérifier le bon fonctionnement du programme\n",
    "\n",
    "assert taille(d, 'A') == 0, \"Erreur d'implémentation\"\n",
    "assert taille(b, 'A') == 1, \"Erreur d'implémentation\"\n",
    "assert taille(b, 'B') == 0, \"Erreur d'implémentation\"\n",
    "assert taille(c, 'A') == 2, \"Erreur d'implémentation\"\n",
    "assert taille(a, 'F') == 9, \"Erreur d'implémentation\""
   ]
  },
  {
   "cell_type": "markdown",
   "metadata": {
    "ExecuteTime": {
     "end_time": "2021-12-04T13:30:48.430992Z",
     "start_time": "2021-12-04T13:30:48.423449Z"
    }
   },
   "source": [
    "**Exercice 2**"
   ]
  },
  {
   "cell_type": "code",
   "execution_count": 1,
   "metadata": {
    "ExecuteTime": {
     "end_time": "2021-12-04T14:04:53.590376Z",
     "start_time": "2021-12-04T14:04:53.581138Z"
    }
   },
   "outputs": [],
   "source": [
    "def tri_iteratif(tab : list) -> list:\n",
    "    for k in range(len(tab), 0, -1):\n",
    "        imax = k-1\n",
    "        for i in range(0, k-1):\n",
    "            if tab[i] > tab[imax]:\n",
    "                imax = i\n",
    "        if tab[imax] > tab[k-1]:\n",
    "            tab[k-1], tab[imax] = tab[imax], tab[k-1]\n",
    "    return tab"
   ]
  },
  {
   "cell_type": "code",
   "execution_count": 4,
   "metadata": {
    "ExecuteTime": {
     "end_time": "2021-12-04T14:05:08.366042Z",
     "start_time": "2021-12-04T14:05:08.358998Z"
    }
   },
   "outputs": [],
   "source": [
    "#Assertions pour vérifier le bon fonctionnement du programme\n",
    "\n",
    "assert tri_iteratif([]) == []\n",
    "assert tri_iteratif([1]) == [1]\n",
    "assert tri_iteratif([2, 1]) == [1, 2]\n",
    "assert tri_iteratif([8, 5, 3, 4, 1]) == [1, 3, 4, 5, 8]\n",
    "assert tri_iteratif([41, 55, 21, 18, 12, 6, 25]) == [6, 12, 18, 21, 25, 41, 55]"
   ]
  },
  {
   "cell_type": "code",
   "execution_count": null,
   "metadata": {},
   "outputs": [],
   "source": []
  }
 ],
 "metadata": {
  "hide_input": false,
  "kernelspec": {
   "display_name": "Python 3",
   "language": "python",
   "name": "python3"
  },
  "language_info": {
   "codemirror_mode": {
    "name": "ipython",
    "version": 3
   },
   "file_extension": ".py",
   "mimetype": "text/x-python",
   "name": "python",
   "nbconvert_exporter": "python",
   "pygments_lexer": "ipython3",
   "version": "3.6.10"
  },
  "latex_envs": {
   "LaTeX_envs_menu_present": true,
   "autoclose": false,
   "autocomplete": true,
   "bibliofile": "biblio.bib",
   "cite_by": "apalike",
   "current_citInitial": 1,
   "eqLabelWithNumbers": true,
   "eqNumInitial": 1,
   "hotkeys": {
    "equation": "Ctrl-E",
    "itemize": "Ctrl-I"
   },
   "labels_anchors": false,
   "latex_user_defs": false,
   "report_style_numbering": false,
   "user_envs_cfg": false
  },
  "nbTranslate": {
   "displayLangs": [
    "*"
   ],
   "hotkey": "alt-t",
   "langInMainMenu": true,
   "sourceLang": "en",
   "targetLang": "fr",
   "useGoogleTranslate": true
  },
  "toc": {
   "base_numbering": 1,
   "nav_menu": {},
   "number_sections": true,
   "sideBar": true,
   "skip_h1_title": false,
   "title_cell": "Table of Contents",
   "title_sidebar": "Contents",
   "toc_cell": false,
   "toc_position": {},
   "toc_section_display": true,
   "toc_window_display": false
  },
  "varInspector": {
   "cols": {
    "lenName": 16,
    "lenType": 16,
    "lenVar": 40
   },
   "kernels_config": {
    "python": {
     "delete_cmd_postfix": "",
     "delete_cmd_prefix": "del ",
     "library": "var_list.py",
     "varRefreshCmd": "print(var_dic_list())"
    },
    "r": {
     "delete_cmd_postfix": ") ",
     "delete_cmd_prefix": "rm(",
     "library": "var_list.r",
     "varRefreshCmd": "cat(var_dic_list()) "
    }
   },
   "types_to_exclude": [
    "module",
    "function",
    "builtin_function_or_method",
    "instance",
    "_Feature"
   ],
   "window_display": false
  }
 },
 "nbformat": 4,
 "nbformat_minor": 4
}
