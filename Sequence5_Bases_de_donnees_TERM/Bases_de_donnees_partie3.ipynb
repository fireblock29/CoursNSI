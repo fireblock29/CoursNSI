{
 "cells": [
  {
   "cell_type": "markdown",
   "metadata": {},
   "source": [
    "# <center><font face=\"arial\" size=\"5\" color=#0101DF>NUMERIQUE ET SCIENCES INFORMATIQUES Terminale NSI</font></center>"
   ]
  },
  {
   "cell_type": "markdown",
   "metadata": {},
   "source": [
    "## <font color=#013ADF>Séquence N° 5 : Bases de données - Structured Query Language (SQL) 1ère partie</font>"
   ]
  },
  {
   "cell_type": "markdown",
   "metadata": {},
   "source": [
    "<div class=\"alert alert-danger\" role=\"alert\">\n",
    "    \n",
    "Les objectifs de cette séquence sont :\n",
    "\n",
    "- Identifier les concepts définissant le modèle relationnel ;\n",
    "- Savoir distinguer la structure d'une base de données de son contenu ;\n",
    "- Repérer des anomalies dans le schéma d'une base de données ;\n",
    "- Identifier les services rendus par un système de gestion de bases de données relationnelles : persistance des données, gestion des accès concurrrents, efficacité de traitemenet des requêtes, sécurisation des accès ;\n",
    "- Identifier les composants d'une requête ;\n",
    "- Construire des requêtes d'interrogation à l'aide des clauses du langage SQL : SELECT, FROM, WHERE, JOIN ;\n",
    "- Construire des requêtes d'insertion et de mise à jour à l'aide de : UPDATE, INSERT, DELETE.\n",
    "\n",
    "\n",
    "</div>"
   ]
  },
  {
   "cell_type": "markdown",
   "metadata": {},
   "source": [
    "<div class=\"alert alert-success\">\n",
    "<img src=\"Images/employes.png\" alt=\"BDD\" width=50% align=center>\n",
    "    \n",
    "Saisir avec l'application DB Browser for SQLite la base de données `Employes.db` comportant une seule table `employes`ci-dessus.\n",
    "<div>"
   ]
  },
  {
   "cell_type": "markdown",
   "metadata": {},
   "source": [
    "<div class=\"alert alert-warning\">\n",
    "<img src=\"Images/CR.png\" alt=\"logo CR\" width=5% align=right>\n",
    "\n",
    "- Formuler votre requête pour afficher l'intégralité de la table employes.\n",
    "<div>"
   ]
  },
  {
   "cell_type": "code",
   "execution_count": 2,
   "metadata": {
    "ExecuteTime": {
     "end_time": "2021-12-13T10:16:29.038892Z",
     "start_time": "2021-12-13T10:16:28.885885Z"
    }
   },
   "outputs": [],
   "source": [
    "%load_ext sql"
   ]
  },
  {
   "cell_type": "code",
   "execution_count": 3,
   "metadata": {
    "ExecuteTime": {
     "end_time": "2021-12-13T10:16:29.264903Z",
     "start_time": "2021-12-13T10:16:29.258724Z"
    }
   },
   "outputs": [],
   "source": [
    "%reload_ext sql"
   ]
  },
  {
   "cell_type": "code",
   "execution_count": 5,
   "metadata": {
    "ExecuteTime": {
     "end_time": "2021-12-13T09:39:51.538329Z",
     "start_time": "2021-12-13T09:39:51.507525Z"
    }
   },
   "outputs": [
    {
     "name": "stdout",
     "output_type": "stream",
     "text": [
      "Done.\n"
     ]
    },
    {
     "data": {
      "text/html": [
       "<table>\n",
       "    <tr>\n",
       "        <th>ID</th>\n",
       "        <th>nom</th>\n",
       "        <th>echelle_remu</th>\n",
       "        <th>salaire</th>\n",
       "        <th>age</th>\n",
       "    </tr>\n",
       "    <tr>\n",
       "        <td>1</td>\n",
       "        <td>Jean</td>\n",
       "        <td>1</td>\n",
       "        <td>2500.2</td>\n",
       "        <td>29</td>\n",
       "    </tr>\n",
       "    <tr>\n",
       "        <td>2</td>\n",
       "        <td>Michel</td>\n",
       "        <td>2</td>\n",
       "        <td>1200.0</td>\n",
       "        <td>21</td>\n",
       "    </tr>\n",
       "    <tr>\n",
       "        <td>3</td>\n",
       "        <td>Joséphine</td>\n",
       "        <td>1</td>\n",
       "        <td>2435.1</td>\n",
       "        <td>35</td>\n",
       "    </tr>\n",
       "    <tr>\n",
       "        <td>5</td>\n",
       "        <td>Hélène</td>\n",
       "        <td>1</td>\n",
       "        <td>2480.99</td>\n",
       "        <td>28</td>\n",
       "    </tr>\n",
       "    <tr>\n",
       "        <td>6</td>\n",
       "        <td>Céline</td>\n",
       "        <td>2</td>\n",
       "        <td>1200.0</td>\n",
       "        <td>28</td>\n",
       "    </tr>\n",
       "    <tr>\n",
       "        <td>7</td>\n",
       "        <td>Jacques</td>\n",
       "        <td>2</td>\n",
       "        <td>1250.3</td>\n",
       "        <td>26</td>\n",
       "    </tr>\n",
       "    <tr>\n",
       "        <td>8</td>\n",
       "        <td>Charles</td>\n",
       "        <td>1</td>\n",
       "        <td>800.0</td>\n",
       "        <td>19</td>\n",
       "    </tr>\n",
       "</table>"
      ],
      "text/plain": [
       "[(1, 'Jean', 1, 2500.2, 29),\n",
       " (2, 'Michel', 2, 1200.0, 21),\n",
       " (3, 'Joséphine', 1, 2435.1, 35),\n",
       " (5, 'Hélène', 1, 2480.99, 28),\n",
       " (6, 'Céline', 2, 1200.0, 28),\n",
       " (7, 'Jacques', 2, 1250.3, 26),\n",
       " (8, 'Charles', 1, 800.0, 19)]"
      ]
     },
     "execution_count": 5,
     "metadata": {},
     "output_type": "execute_result"
    }
   ],
   "source": [
    "%%sql sqlite:///employes.db\n",
    "SELECT * FROM employes"
   ]
  },
  {
   "cell_type": "markdown",
   "metadata": {},
   "source": [
    "<div class=\"alert alert-success\">\n",
    "    \n",
    "Nous allons utiliser des fonctions d'agrégation. Elles permettent de faire des calculs sur un ensemble de valeurs et retourner un résultat unique. Elles associent plusieurs enregistrements en entrée et renvoient une valeur unique en sortie sauf dans le cas où elles utilisent la clause GROUP BY. \n",
    "<div>"
   ]
  },
  {
   "cell_type": "markdown",
   "metadata": {},
   "source": [
    "<div class=\"alert alert-warning\">\n",
    "<img src=\"Images/CR.png\" alt=\"logo CR\" width=5% align=right>\n",
    "\n",
    "- Formuler des requêtes qui donnent les résultats suivants :\n",
    "    - Renvoie le salaire moyen des employés (AVG);\n",
    "    - Renvoie le salaire moyen des employés de l'échelle de rémunération 1 ;\n",
    "    - Renvoie le salaire le plus petit (MIN);\n",
    "    - Renvoie le salaire le plus grand (MAX).\n",
    "<div>"
   ]
  },
  {
   "cell_type": "code",
   "execution_count": 35,
   "metadata": {
    "ExecuteTime": {
     "end_time": "2021-12-13T10:13:08.729690Z",
     "start_time": "2021-12-13T10:13:08.715460Z"
    }
   },
   "outputs": [
    {
     "name": "stdout",
     "output_type": "stream",
     "text": [
      "Done.\n"
     ]
    },
    {
     "data": {
      "text/html": [
       "<table>\n",
       "    <tr>\n",
       "        <th>AVG(salaire)</th>\n",
       "    </tr>\n",
       "    <tr>\n",
       "        <td>1704.5271428571427</td>\n",
       "    </tr>\n",
       "</table>"
      ],
      "text/plain": [
       "[(1704.5271428571427,)]"
      ]
     },
     "execution_count": 35,
     "metadata": {},
     "output_type": "execute_result"
    }
   ],
   "source": [
    "%%sql sqlite:///employes.db\n",
    "SELECT AVG(salaire) FROM employes; -- SELECT ROUND(AVG(salaire),2) FROM employes;"
   ]
  },
  {
   "cell_type": "code",
   "execution_count": 9,
   "metadata": {
    "ExecuteTime": {
     "end_time": "2021-12-13T09:43:23.647319Z",
     "start_time": "2021-12-13T09:43:23.638037Z"
    }
   },
   "outputs": [
    {
     "name": "stdout",
     "output_type": "stream",
     "text": [
      "Done.\n"
     ]
    },
    {
     "data": {
      "text/html": [
       "<table>\n",
       "    <tr>\n",
       "        <th>AVG(salaire)</th>\n",
       "    </tr>\n",
       "    <tr>\n",
       "        <td>1695.2271428571426</td>\n",
       "    </tr>\n",
       "</table>"
      ],
      "text/plain": [
       "[(1695.2271428571426,)]"
      ]
     },
     "execution_count": 9,
     "metadata": {},
     "output_type": "execute_result"
    }
   ],
   "source": [
    "%%sql sqlite:///employes.db\n",
    "SELECT AVG(salaire) FROM employes WHERE echelle_remu=1;"
   ]
  },
  {
   "cell_type": "code",
   "execution_count": 11,
   "metadata": {
    "ExecuteTime": {
     "end_time": "2021-12-13T09:43:39.642864Z",
     "start_time": "2021-12-13T09:43:39.629803Z"
    }
   },
   "outputs": [
    {
     "name": "stdout",
     "output_type": "stream",
     "text": [
      "Done.\n"
     ]
    },
    {
     "data": {
      "text/html": [
       "<table>\n",
       "    <tr>\n",
       "        <th>MIN(salaire)</th>\n",
       "    </tr>\n",
       "    <tr>\n",
       "        <td>800.0</td>\n",
       "    </tr>\n",
       "</table>"
      ],
      "text/plain": [
       "[(800.0,)]"
      ]
     },
     "execution_count": 11,
     "metadata": {},
     "output_type": "execute_result"
    }
   ],
   "source": [
    "%%sql sqlite:///employes.db\n",
    "SELECT MIN(salaire) FROM employes;"
   ]
  },
  {
   "cell_type": "code",
   "execution_count": 12,
   "metadata": {
    "ExecuteTime": {
     "end_time": "2021-12-13T09:43:47.620327Z",
     "start_time": "2021-12-13T09:43:47.610075Z"
    }
   },
   "outputs": [
    {
     "name": "stdout",
     "output_type": "stream",
     "text": [
      "Done.\n"
     ]
    },
    {
     "data": {
      "text/html": [
       "<table>\n",
       "    <tr>\n",
       "        <th>MAX(salaire)</th>\n",
       "    </tr>\n",
       "    <tr>\n",
       "        <td>2500.2</td>\n",
       "    </tr>\n",
       "</table>"
      ],
      "text/plain": [
       "[(2500.2,)]"
      ]
     },
     "execution_count": 12,
     "metadata": {},
     "output_type": "execute_result"
    }
   ],
   "source": [
    "%%sql sqlite:///employes.db\n",
    "SELECT MAX(salaire) FROM employes;"
   ]
  },
  {
   "cell_type": "markdown",
   "metadata": {},
   "source": [
    "<div class=\"alert alert-warning\">\n",
    "<img src=\"Images/CR.png\" alt=\"logo CR\" width=5% align=right>\n",
    "\n",
    "- Formuler des requêtes qui donnent les résultats suivants :\n",
    "    - Renvoie le nombre de salariés ;\n",
    "    - Renvoie le nombre de salariés dont l'échelle de rémunération est 2;\n",
    "    - Modifie le salaire de Joséphine pour qu'il soit identique à celui de Jean ;\n",
    "    - Renvoie le nombre de salaires différents de l'entreprise ;\n",
    "    - Renvoie le montant des salaires mensuels à payer (SUM) ;\n",
    "    - Renvoie la liste des employés classés selon l'ordre de salaires décroissants ;\n",
    "\n",
    "- Charles qui estimait que son salaire était insuffisant a démissionné :\n",
    "    - Mettre à jour la base de données ;\n",
    "    \n",
    "- Son remplaçant se nomme Jean. Il est âgé de 19 ans. Il aura un salaire de 800 euros dans l'échelle de rémunération 1.\n",
    "    - Mettre à jour la base de données.\n",
    "\n",
    "    \n",
    "<div>"
   ]
  },
  {
   "cell_type": "code",
   "execution_count": 13,
   "metadata": {
    "ExecuteTime": {
     "end_time": "2021-12-13T09:44:37.047182Z",
     "start_time": "2021-12-13T09:44:37.032986Z"
    }
   },
   "outputs": [
    {
     "name": "stdout",
     "output_type": "stream",
     "text": [
      "Done.\n"
     ]
    },
    {
     "data": {
      "text/html": [
       "<table>\n",
       "    <tr>\n",
       "        <th>COUNT(*)</th>\n",
       "    </tr>\n",
       "    <tr>\n",
       "        <td>7</td>\n",
       "    </tr>\n",
       "</table>"
      ],
      "text/plain": [
       "[(7,)]"
      ]
     },
     "execution_count": 13,
     "metadata": {},
     "output_type": "execute_result"
    }
   ],
   "source": [
    "%%sql sqlite:///employes.db\n",
    "SELECT COUNT(*) FROM employes;"
   ]
  },
  {
   "cell_type": "code",
   "execution_count": 5,
   "metadata": {
    "ExecuteTime": {
     "end_time": "2021-12-13T10:17:34.434614Z",
     "start_time": "2021-12-13T10:17:34.425216Z"
    }
   },
   "outputs": [
    {
     "name": "stdout",
     "output_type": "stream",
     "text": [
      "Done.\n"
     ]
    },
    {
     "data": {
      "text/html": [
       "<table>\n",
       "    <tr>\n",
       "        <th>COUNT(*)</th>\n",
       "    </tr>\n",
       "    <tr>\n",
       "        <td>3</td>\n",
       "    </tr>\n",
       "</table>"
      ],
      "text/plain": [
       "[(3,)]"
      ]
     },
     "execution_count": 5,
     "metadata": {},
     "output_type": "execute_result"
    }
   ],
   "source": [
    "%%sql sqlite:///employes.db\n",
    "SELECT COUNT(*) FROM employes WHERE echelle_remu=2;"
   ]
  },
  {
   "cell_type": "code",
   "execution_count": 18,
   "metadata": {
    "ExecuteTime": {
     "end_time": "2021-12-13T09:50:43.595456Z",
     "start_time": "2021-12-13T09:50:43.564932Z"
    }
   },
   "outputs": [
    {
     "name": "stdout",
     "output_type": "stream",
     "text": [
      "1 rows affected.\n"
     ]
    },
    {
     "data": {
      "text/plain": [
       "[]"
      ]
     },
     "execution_count": 18,
     "metadata": {},
     "output_type": "execute_result"
    }
   ],
   "source": [
    "%%sql sqlite:///employes.db\n",
    "UPDATE employes \n",
    "SET salaire=2500.2\n",
    "WHERE nom = 'Joséphine'"
   ]
  },
  {
   "cell_type": "code",
   "execution_count": 20,
   "metadata": {
    "ExecuteTime": {
     "end_time": "2021-12-13T09:52:10.673020Z",
     "start_time": "2021-12-13T09:52:10.662300Z"
    }
   },
   "outputs": [
    {
     "name": "stdout",
     "output_type": "stream",
     "text": [
      "Done.\n"
     ]
    },
    {
     "data": {
      "text/html": [
       "<table>\n",
       "    <tr>\n",
       "        <th>COUNT(DISTINCT salaire)</th>\n",
       "    </tr>\n",
       "    <tr>\n",
       "        <td>5</td>\n",
       "    </tr>\n",
       "</table>"
      ],
      "text/plain": [
       "[(5,)]"
      ]
     },
     "execution_count": 20,
     "metadata": {},
     "output_type": "execute_result"
    }
   ],
   "source": [
    "%%sql sqlite:///employes.db\n",
    "SELECT COUNT(DISTINCT salaire) FROM employes;"
   ]
  },
  {
   "cell_type": "code",
   "execution_count": 4,
   "metadata": {
    "ExecuteTime": {
     "end_time": "2021-12-13T10:16:33.448271Z",
     "start_time": "2021-12-13T10:16:33.416481Z"
    }
   },
   "outputs": [
    {
     "name": "stdout",
     "output_type": "stream",
     "text": [
      "Done.\n"
     ]
    },
    {
     "data": {
      "text/html": [
       "<table>\n",
       "    <tr>\n",
       "        <th>Somme de salaires</th>\n",
       "    </tr>\n",
       "    <tr>\n",
       "        <td>11931.689999999999</td>\n",
       "    </tr>\n",
       "</table>"
      ],
      "text/plain": [
       "[(11931.689999999999,)]"
      ]
     },
     "execution_count": 4,
     "metadata": {},
     "output_type": "execute_result"
    }
   ],
   "source": [
    "%%sql sqlite:///employes.db\n",
    "SELECT SUM(salaire) AS 'Somme de salaires' FROM employes;"
   ]
  },
  {
   "cell_type": "code",
   "execution_count": 22,
   "metadata": {
    "ExecuteTime": {
     "end_time": "2021-12-13T09:56:01.303667Z",
     "start_time": "2021-12-13T09:56:01.292520Z"
    }
   },
   "outputs": [
    {
     "name": "stdout",
     "output_type": "stream",
     "text": [
      "Done.\n"
     ]
    },
    {
     "data": {
      "text/html": [
       "<table>\n",
       "    <tr>\n",
       "        <th>ID</th>\n",
       "        <th>nom</th>\n",
       "        <th>echelle_remu</th>\n",
       "        <th>salaire</th>\n",
       "        <th>age</th>\n",
       "    </tr>\n",
       "    <tr>\n",
       "        <td>1</td>\n",
       "        <td>Jean</td>\n",
       "        <td>1</td>\n",
       "        <td>2500.2</td>\n",
       "        <td>29</td>\n",
       "    </tr>\n",
       "    <tr>\n",
       "        <td>3</td>\n",
       "        <td>Joséphine</td>\n",
       "        <td>1</td>\n",
       "        <td>2500.2</td>\n",
       "        <td>35</td>\n",
       "    </tr>\n",
       "    <tr>\n",
       "        <td>5</td>\n",
       "        <td>Hélène</td>\n",
       "        <td>1</td>\n",
       "        <td>2480.99</td>\n",
       "        <td>28</td>\n",
       "    </tr>\n",
       "    <tr>\n",
       "        <td>7</td>\n",
       "        <td>Jacques</td>\n",
       "        <td>2</td>\n",
       "        <td>1250.3</td>\n",
       "        <td>26</td>\n",
       "    </tr>\n",
       "    <tr>\n",
       "        <td>2</td>\n",
       "        <td>Michel</td>\n",
       "        <td>2</td>\n",
       "        <td>1200.0</td>\n",
       "        <td>21</td>\n",
       "    </tr>\n",
       "    <tr>\n",
       "        <td>6</td>\n",
       "        <td>Céline</td>\n",
       "        <td>2</td>\n",
       "        <td>1200.0</td>\n",
       "        <td>28</td>\n",
       "    </tr>\n",
       "    <tr>\n",
       "        <td>8</td>\n",
       "        <td>Charles</td>\n",
       "        <td>1</td>\n",
       "        <td>800.0</td>\n",
       "        <td>19</td>\n",
       "    </tr>\n",
       "</table>"
      ],
      "text/plain": [
       "[(1, 'Jean', 1, 2500.2, 29),\n",
       " (3, 'Joséphine', 1, 2500.2, 35),\n",
       " (5, 'Hélène', 1, 2480.99, 28),\n",
       " (7, 'Jacques', 2, 1250.3, 26),\n",
       " (2, 'Michel', 2, 1200.0, 21),\n",
       " (6, 'Céline', 2, 1200.0, 28),\n",
       " (8, 'Charles', 1, 800.0, 19)]"
      ]
     },
     "execution_count": 22,
     "metadata": {},
     "output_type": "execute_result"
    }
   ],
   "source": [
    "%%sql sqlite:///employes.db\n",
    "SELECT * FROM employes ORDER BY salaire DESC;"
   ]
  },
  {
   "cell_type": "code",
   "execution_count": null,
   "metadata": {},
   "outputs": [],
   "source": [
    "%%sql sqlite:///employes.db\n",
    "SELECT * FROM employes ORDER BY salaire DESC;"
   ]
  },
  {
   "cell_type": "code",
   "execution_count": 24,
   "metadata": {
    "ExecuteTime": {
     "end_time": "2021-12-13T09:58:11.408344Z",
     "start_time": "2021-12-13T09:58:11.373658Z"
    }
   },
   "outputs": [
    {
     "name": "stdout",
     "output_type": "stream",
     "text": [
      "1 rows affected.\n"
     ]
    },
    {
     "data": {
      "text/plain": [
       "[]"
      ]
     },
     "execution_count": 24,
     "metadata": {},
     "output_type": "execute_result"
    }
   ],
   "source": [
    "%%sql sqlite:///employes.db\n",
    "DELETE FROM employes WHERE nom='Charles'"
   ]
  },
  {
   "cell_type": "code",
   "execution_count": 28,
   "metadata": {
    "ExecuteTime": {
     "end_time": "2021-12-13T10:00:00.794050Z",
     "start_time": "2021-12-13T10:00:00.769704Z"
    }
   },
   "outputs": [
    {
     "name": "stdout",
     "output_type": "stream",
     "text": [
      "1 rows affected.\n"
     ]
    },
    {
     "data": {
      "text/plain": [
       "[]"
      ]
     },
     "execution_count": 28,
     "metadata": {},
     "output_type": "execute_result"
    }
   ],
   "source": [
    "%%sql sqlite:///employes.db\n",
    "INSERT INTO employes (nom, echelle_remu, salaire, age) VALUES ('Jean', 1, 800, 19)"
   ]
  },
  {
   "cell_type": "markdown",
   "metadata": {},
   "source": [
    "<div class=\"alert alert-warning\">\n",
    "<img src=\"Images/CR.png\" alt=\"logo CR\" width=5% align=right>\n",
    "\n",
    "Le choix de l'attribut `nom` n'a pas été très judicieux. On souhaite ajouter un attribut `prenom`, puis de copier le nom dans ce nouvel attribut. On remplace à titre provisoire, le nom par un point d'interrogation.\n",
    "    \n",
    "- Modifier la table `employes`;\n",
    "\n",
    "    \n",
    "<div>"
   ]
  },
  {
   "cell_type": "code",
   "execution_count": 30,
   "metadata": {
    "ExecuteTime": {
     "end_time": "2021-12-13T10:02:31.708988Z",
     "start_time": "2021-12-13T10:02:31.686283Z"
    }
   },
   "outputs": [
    {
     "name": "stdout",
     "output_type": "stream",
     "text": [
      "Done.\n"
     ]
    },
    {
     "data": {
      "text/plain": [
       "[]"
      ]
     },
     "execution_count": 30,
     "metadata": {},
     "output_type": "execute_result"
    }
   ],
   "source": [
    "%%sql sqlite:///employes.db\n",
    "ALTER TABLE employes ADD COLUMN prenom TEXT;"
   ]
  },
  {
   "cell_type": "code",
   "execution_count": 33,
   "metadata": {
    "ExecuteTime": {
     "end_time": "2021-12-13T10:04:24.142222Z",
     "start_time": "2021-12-13T10:04:24.115563Z"
    }
   },
   "outputs": [
    {
     "name": "stdout",
     "output_type": "stream",
     "text": [
      "7 rows affected.\n",
      "7 rows affected.\n"
     ]
    },
    {
     "data": {
      "text/plain": [
       "[]"
      ]
     },
     "execution_count": 33,
     "metadata": {},
     "output_type": "execute_result"
    }
   ],
   "source": [
    "%%sql sqlite:///employes.db\n",
    "UPDATE employes SET prenom=nom;\n",
    "UPDATE employes SET nom=\"?\";"
   ]
  },
  {
   "cell_type": "code",
   "execution_count": 34,
   "metadata": {
    "ExecuteTime": {
     "end_time": "2021-12-13T10:04:37.325084Z",
     "start_time": "2021-12-13T10:04:37.314789Z"
    }
   },
   "outputs": [
    {
     "name": "stdout",
     "output_type": "stream",
     "text": [
      "Done.\n"
     ]
    },
    {
     "data": {
      "text/html": [
       "<table>\n",
       "    <tr>\n",
       "        <th>ID</th>\n",
       "        <th>nom</th>\n",
       "        <th>echelle_remu</th>\n",
       "        <th>salaire</th>\n",
       "        <th>age</th>\n",
       "        <th>prenom</th>\n",
       "    </tr>\n",
       "    <tr>\n",
       "        <td>1</td>\n",
       "        <td>?</td>\n",
       "        <td>1</td>\n",
       "        <td>2500.2</td>\n",
       "        <td>29</td>\n",
       "        <td>Jean</td>\n",
       "    </tr>\n",
       "    <tr>\n",
       "        <td>2</td>\n",
       "        <td>?</td>\n",
       "        <td>2</td>\n",
       "        <td>1200.0</td>\n",
       "        <td>21</td>\n",
       "        <td>Michel</td>\n",
       "    </tr>\n",
       "    <tr>\n",
       "        <td>3</td>\n",
       "        <td>?</td>\n",
       "        <td>1</td>\n",
       "        <td>2500.2</td>\n",
       "        <td>35</td>\n",
       "        <td>Joséphine</td>\n",
       "    </tr>\n",
       "    <tr>\n",
       "        <td>5</td>\n",
       "        <td>?</td>\n",
       "        <td>1</td>\n",
       "        <td>2480.99</td>\n",
       "        <td>28</td>\n",
       "        <td>Hélène</td>\n",
       "    </tr>\n",
       "    <tr>\n",
       "        <td>6</td>\n",
       "        <td>?</td>\n",
       "        <td>2</td>\n",
       "        <td>1200.0</td>\n",
       "        <td>28</td>\n",
       "        <td>Céline</td>\n",
       "    </tr>\n",
       "    <tr>\n",
       "        <td>7</td>\n",
       "        <td>?</td>\n",
       "        <td>2</td>\n",
       "        <td>1250.3</td>\n",
       "        <td>26</td>\n",
       "        <td>Jacques</td>\n",
       "    </tr>\n",
       "    <tr>\n",
       "        <td>9</td>\n",
       "        <td>?</td>\n",
       "        <td>1</td>\n",
       "        <td>800.0</td>\n",
       "        <td>19</td>\n",
       "        <td>Jean</td>\n",
       "    </tr>\n",
       "</table>"
      ],
      "text/plain": [
       "[(1, '?', 1, 2500.2, 29, 'Jean'),\n",
       " (2, '?', 2, 1200.0, 21, 'Michel'),\n",
       " (3, '?', 1, 2500.2, 35, 'Joséphine'),\n",
       " (5, '?', 1, 2480.99, 28, 'Hélène'),\n",
       " (6, '?', 2, 1200.0, 28, 'Céline'),\n",
       " (7, '?', 2, 1250.3, 26, 'Jacques'),\n",
       " (9, '?', 1, 800.0, 19, 'Jean')]"
      ]
     },
     "execution_count": 34,
     "metadata": {},
     "output_type": "execute_result"
    }
   ],
   "source": [
    "%%sql sqlite:///employes.db\n",
    "SELECT * FROM employes"
   ]
  },
  {
   "cell_type": "code",
   "execution_count": null,
   "metadata": {},
   "outputs": [],
   "source": []
  }
 ],
 "metadata": {
  "hide_input": false,
  "kernelspec": {
   "display_name": "Python 3",
   "language": "python",
   "name": "python3"
  },
  "language_info": {
   "codemirror_mode": {
    "name": "ipython",
    "version": 3
   },
   "file_extension": ".py",
   "mimetype": "text/x-python",
   "name": "python",
   "nbconvert_exporter": "python",
   "pygments_lexer": "ipython3",
   "version": "3.6.10"
  },
  "latex_envs": {
   "LaTeX_envs_menu_present": true,
   "autoclose": false,
   "autocomplete": true,
   "bibliofile": "biblio.bib",
   "cite_by": "apalike",
   "current_citInitial": 1,
   "eqLabelWithNumbers": true,
   "eqNumInitial": 1,
   "hotkeys": {
    "equation": "Ctrl-E",
    "itemize": "Ctrl-I"
   },
   "labels_anchors": false,
   "latex_user_defs": false,
   "report_style_numbering": false,
   "user_envs_cfg": false
  },
  "nbTranslate": {
   "displayLangs": [
    "*"
   ],
   "hotkey": "alt-t",
   "langInMainMenu": true,
   "sourceLang": "en",
   "targetLang": "fr",
   "useGoogleTranslate": true
  },
  "toc": {
   "base_numbering": 1,
   "nav_menu": {},
   "number_sections": true,
   "sideBar": true,
   "skip_h1_title": false,
   "title_cell": "Table of Contents",
   "title_sidebar": "Contents",
   "toc_cell": false,
   "toc_position": {},
   "toc_section_display": true,
   "toc_window_display": false
  },
  "varInspector": {
   "cols": {
    "lenName": 16,
    "lenType": 16,
    "lenVar": 40
   },
   "kernels_config": {
    "python": {
     "delete_cmd_postfix": "",
     "delete_cmd_prefix": "del ",
     "library": "var_list.py",
     "varRefreshCmd": "print(var_dic_list())"
    },
    "r": {
     "delete_cmd_postfix": ") ",
     "delete_cmd_prefix": "rm(",
     "library": "var_list.r",
     "varRefreshCmd": "cat(var_dic_list()) "
    }
   },
   "types_to_exclude": [
    "module",
    "function",
    "builtin_function_or_method",
    "instance",
    "_Feature"
   ],
   "window_display": false
  }
 },
 "nbformat": 4,
 "nbformat_minor": 2
}
