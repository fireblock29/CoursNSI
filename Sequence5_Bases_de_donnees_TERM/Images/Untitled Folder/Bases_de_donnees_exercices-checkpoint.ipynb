{
 "cells": [
  {
   "cell_type": "markdown",
   "metadata": {},
   "source": [
    "# <center><font face=\"arial\" size=\"5\" color=#0101DF>NUMERIQUE ET SCIENCES INFORMATIQUES Terminale NSI</font></center>"
   ]
  },
  {
   "cell_type": "markdown",
   "metadata": {},
   "source": [
    "## <font color=#013ADF>Séquence N° 5 : Bases de données - Structured Query Language (SQL) Exercices</font>"
   ]
  },
  {
   "cell_type": "markdown",
   "metadata": {},
   "source": [
    "<div class=\"alert alert-danger\" role=\"alert\">\n",
    "    \n",
    "Les objectifs de cette séquence sont :\n",
    "\n",
    "- Identifier les concepts définissant le modèle relationnel ;\n",
    "- Savoir distinguer la structure d'une base de données de son contenu ;\n",
    "- Repérer des anomalies dans le schéma d'une base de données ;\n",
    "- Identifier les services rendus par un système de gestion de bases de données relationnelles : persistance des données, gestion des accès concurrrents, efficacité de traitemenet des requêtes, sécurisation des accès ;\n",
    "- Identifier les composants d'une requête ;\n",
    "- Construire des requêtes d'interrogation à l'aide des clauses du langage SQL : SELECT, FROM, WHERE, JOIN ;\n",
    "- Construire des requêtes d'insertion et de mise à jour à l'aide de : UPDATE, INSERT, DELETE.\n",
    "\n",
    "\n",
    "</div>"
   ]
  },
  {
   "cell_type": "markdown",
   "metadata": {},
   "source": [
    "### 1- Exercice 1"
   ]
  },
  {
   "cell_type": "markdown",
   "metadata": {},
   "source": [
    "<div class=\"alert alert-warning\">\n",
    "<img src=\"Images/CR.png\" alt=\"logo CR\" width=5% align=right>\n",
    "\n",
    "Un ski-club utilise une base de données constituée de 2 tables :\n",
    "\n",
    "- une table ADHERENTS\n",
    "- une table STATIONS \n",
    "\n",
    "Dans la table ADHERENTS  on trouve un attribut “ref_station” qui  permet de connaître les stations de ski préférées des adhérents.\n",
    "\n",
    "**Table ADHERENTS**\n",
    "\n",
    "| num_licence | nom    | prenom  | annee_naissance | ref_station |\n",
    "| ----------- | ------ | ------- | --------------- | ----------- |\n",
    "| 12558       | Doe    | John    | 1988            | 5           |\n",
    "| 13668       | Vect   | Alice   | 1974            | 6           |\n",
    "| 1777        | Dect   | Bob     | 1967            | 3           |\n",
    "| 13447       | Beau   | Tristan | 1999            | 4           |\n",
    "| 1141        | Pabeau | John    | 1975            | 3           |\n",
    "\n",
    "**table STATIONS**\n",
    "\n",
    "| ref  | nom              | altitude_max |\n",
    "| ---- | ---------------- | ------------ |\n",
    "| 3    | Le grand Bornand | 2050         |\n",
    "| 4    | La clusaz        | 2616         |\n",
    "| 5    | Flaine           | 2510         |\n",
    "| 6    | Avoriaz          | 2466         |\n",
    "\n",
    "1. Comment appelle-t-on l’attribut ref_station de la table ADHERENTS ?\n",
    "2. Écrire la requête SQL permettant d’obtenir le nom des stations ayant une altitude maxi strictement supérieure à 2500 m.\n",
    "3. Écrire une requête SQL permettant d’obtenir le numéro de licence des adhérents nés après 1980 et ayant pour prénom John.\n",
    "4. Donnez le résultat de la requête SQL suivante :\n",
    "\n",
    "```sql\n",
    "SELECT nom \n",
    "FROM ADHERENTS \n",
    "WHERE num_licence > 2000 OR  ref_station = 3\n",
    "```\n",
    "\n",
    "1. Donnez le résultat de la requête SQL suivante :\n",
    "\n",
    "```sql\n",
    "SELECT STATIONS.nom\n",
    "FROM STATIONS\n",
    "INNER JOIN ADHERENTS ON ADHERENTS.ref_station = STATIONS.ref\n",
    "WHERE annee_naissance > 1975\n",
    "```\n",
    "<div>"
   ]
  },
  {
   "cell_type": "markdown",
   "metadata": {},
   "source": [
    "### 2- Exercice 2 (sujet du bac NSI 2021)"
   ]
  },
  {
   "cell_type": "markdown",
   "metadata": {},
   "source": [
    "<div class=\"alert alert-warning\">\n",
    "<img src=\"Images/CR.png\" alt=\"logo CR\" width=5% align=right>\n",
    "\n",
    "L’énoncé de cet exercice utilise les mots du langage SQL suivants :\n",
    "\n",
    "SELECT FROM, WHERE, JOIN ON, INSERT INTO VALUES, UPDATE, SET, DELETE, COUNT, AND,OR.\n",
    "\n",
    "Pour la gestion des réservations clients, on dispose d’une base de  données nommée « gare » dont le schéma relationnel est le suivant :\n",
    "\n",
    "Train (<u>numT</u>, provenance, destination, horaireArrivee, horaireDepart)\n",
    "\n",
    "Reservation (<u>numR</u>, nomClient, prenomClient, prix, #numT)\n",
    "\n",
    "Les attributs soulignés sont des clés primaires. L’attribut précédé de # est une clé étrangère. La clé étrangère Reservation.numT fait référence à la clé primaire Train.numT.\n",
    "\n",
    "Les attributs horaireDepart et horaireArrivee sont de type TIME et  s’écrivent selon le format \"hh:mm\", où \"hh\" représente les heures et  \"mm\" les minutes.\n",
    "\n",
    "1) Quel nom générique donne-t-on aux logiciels qui assurent, entre  autres, la persistance des données, l’efficacité de traitement des  requêtes et la sécurisation des accès pour les bases de données ?\n",
    "\n",
    "2. \n",
    "\n",
    "a) On considère les requêtes SQL suivantes :\n",
    "\n",
    "```sql\n",
    "DELETE FROM Train WHERE numT = 1241 ;\n",
    "DELETE FROM Reservation WHERE numT = 1241 ;\n",
    "```\n",
    "\n",
    "Sachant que le train n°1241 a été enregistré dans la table Train et que des  réservations pour ce train ont été enregistrées dans la table  Reservation, expliquer pourquoi cette suite d’instructions renvoie une  erreur.\n",
    "\n",
    "b) Citer un cas pour lequel l’insertion d’un enregistrement dans la table Reservation n’est pas possible.\n",
    "\n",
    "3. Écrire des requêtes SQL correspondant à chacune des instructions suivantes :\n",
    "\n",
    "a. Donner tous les numéros des trains dont la destination est « Lyon ».\n",
    "\n",
    "b. Ajouter une réservation n°1307 de 33 € pour M. Alan Turing dans le train n°654.\n",
    "\n",
    "c. Suite à un changement, l’horaire d’arrivée du train n°7869 est programmé à 08 h 11. Mettre à jour la base de données en conséquence.\n",
    "\n",
    "4. Que permet de déterminer la requête suivante ?\n",
    "\n",
    "```sql\n",
    "SELECT COUNT(*) FROM Reservation \n",
    "WHERE nomClient = \"Hopper\" AND prenomClient = \"Grace\";\n",
    "```\n",
    "\n",
    "5. Écrire la requête qui renvoie les destinations et les prix des réservations effectuées par Grace Hopper.\n",
    "    \n",
    "</div>"
   ]
  },
  {
   "cell_type": "markdown",
   "metadata": {},
   "source": [
    "### 3- Exercice 3 (sujet du bac NSI 2021)"
   ]
  },
  {
   "cell_type": "markdown",
   "metadata": {},
   "source": [
    "<div class=\"alert alert-warning\">\n",
    "<img src=\"Images/CR.png\" alt=\"logo CR\" width=5% align=right>\n",
    "\n",
    "Une restauratrice a mis en place un site Web pour gérer ses  réservations en ligne. Chaque client peut s’inscrire en saisissant ses  identifiants. Une fois connecté, il peut effectuer une réservation en  renseignant le jour et l’heure. Il peut également commander son menu en  ligne et écrire un avis sur le restaurant. Le gestionnaire du site Web a créé une base de données associée au site  nommée restaurant, contenant les quatre relations du schéma relationnel  ci-dessous :\n",
    "\n",
    "<img src=\"Images/Exercice_3.png\" alt=\"Exercice_3\" width=80% align=center>\n",
    "    \n",
    "Dans le schéma relationnel précédent, un attribut souligné indique  qu’il s’agit d’une clé primaire. Un attibut précédé du symbole # indique qu’il s’agit d’une clé étrangère et la flèche associée indique  l’attribut référencé. Ainsi, par exemple, l'attribut idPlat de la  relation Commande est une clé étrangère qui fait référence à l'attribut  idPlat de la relation Plat. Dans la suite, les mots clés suivants du langage SQL pourront être  utilisés dans les requêtes :  SELECT, FROM, WHERE, JOIN, ON, DELETE, UPDATE, SET, INSERT INTO, AND,  OR.\n",
    "\n",
    "1.  Parmi les trois requêtes suivantes, écrites dans le langage SQL,  laquelle renvoie les valeurs de tous les attributs des plats de la  catégorie 'entrée' :\n",
    "\n",
    "```sql\n",
    "R1\n",
    "SELECT nom, prix\n",
    "FROM Plat\n",
    "WHERE categorie  = 'entrée';\n",
    "\n",
    "R2\n",
    "SELECT *\n",
    "FROM Plat\n",
    "WHERE categorie  = 'entrée';\n",
    "\n",
    "R3\n",
    "UPDATE Plat\n",
    "SET categorie  = 'entrée'\n",
    "WHERE 1;\n",
    "```\n",
    "\n",
    "2. Écrire, dans le langage SQL, des requêtes d’interrogation sur la base  de données restaurant permettant de réaliser les tâches suivantes :\n",
    "\n",
    "a) Afficher les noms et les avis des clients ayant effectué une réservation pour la date du '2021-06-05' à l’heure '19:30:00'.\n",
    "\n",
    "b) Afficher le nom des plats des catégories 'plat principal' et 'dessert', correspondant aux commandes de la date '2021-04-12'.\n",
    "\n",
    "3.  Que réalise la requête SQL suivante ?\n",
    "\n",
    "```sql\n",
    "INSERT INTO Plat\n",
    "VALUES(58,'Pêche Melba', 'dessert', 'Pêches et glace vanille', 6.5);\n",
    "```\n",
    "\n",
    "4. Écrire des requêtes SQL permettant de réaliser les tâches suivantes :\n",
    "\n",
    "a) Supprimer les commandes ayant comme idReservation la valeur 2047.\n",
    "\n",
    "b) Augmenter de 5% tous les prix de la relation plat strictement inférieurs à 20.00.\n",
    "\n",
    "\n",
    "\n",
    "</div>"
   ]
  },
  {
   "cell_type": "markdown",
   "metadata": {},
   "source": [
    "### 4- Exercice 4 (sujet du bac NSI 2021)"
   ]
  },
  {
   "cell_type": "markdown",
   "metadata": {},
   "source": [
    "<div class=\"alert alert-warning\">\n",
    "<img src=\"Images/CR.png\" alt=\"logo CR\" width=5% align=right>\n",
    "\n",
    "On considère dans cet exercice une gestion simplifiée des emprunts des ouvrages d’un CDI. La base de données utilisée sera constituée de trois relations (ou tables) nommées Eleves, Livres et Emprunts selon le schéma relationnel suivant :\n",
    "    \n",
    "<img src=\"Images/Exercice_4.png\" alt=\"Exercice_4\" width=80% align=center> \n",
    "    \n",
    "Dans ce schéma relationnel, un attribut souligné indique qu’il s’agit d’une clé primaire. Le symbole # devant un attribut indique qu’il s’agit d’une clé étrangère et la flèche associée indique l’attribut référencé. Ainsi, l’attribut idEleve de la relation Emprunts est une clé étrangère qui fait référence à la clé primaire idEleve de la relation Eleves.\n",
    "    \n",
    "1. Expliquer pourquoi le code SQL ci-dessous provoque une erreur.\n",
    "    \n",
    "```sql\n",
    "INSERT INTO Eleves VALUES (128, 'Dupont', 'Jean','T1') ;\n",
    "INSERT INTO Eleves VALUES (200, 'Dupont', 'Jean','T1') ;\n",
    "INSERT INTO Eleves VALUES (128, 'Dubois', 'Jean','T2') ;\n",
    "```\n",
    "\n",
    "\n",
    "2. Dans la définition de la relation Emprunts, qu’est-ce qui assure qu’on ne peut pas enregistrer un emprunt pour un élève qui n’a pas encore été inscrit dans la relation Eleves ?\n",
    "    \n",
    "3. Écrire une requête SQL qui renvoie les titres des ouvrages de Molière détenus par le CDI.\n",
    "\n",
    "4. Décrire le résultat renvoyé par la requête ci-dessous.\n",
    "\n",
    "```sql\n",
    "SELECT COUNT(*)\n",
    "FROM Eleves\n",
    "WHERE classe = 'T2' ;\n",
    "```\n",
    "    \n",
    "5. Camille a emprunté le livre Les misérables. Le code ci-dessous a permis d’enregistrer cet emprunt.\n",
    "    \n",
    "```sql    \n",
    "INSERT INTO Emprunts\n",
    "VALUES (640, 192, '9782070409228','2020-09-15',NULL);\n",
    "```\n",
    "    \n",
    "Camille a restitué le livre le 30 septembre 2020. Recopier et compléter la requête ci-dessous de manière à mettre à jour la date de retour dans la base de données.\n",
    "```sql\n",
    "UPDATE Emprunts SET ........................ WHERE ........................ ;\n",
    "```\n",
    "    \n",
    "6. Décrire le résultat renvoyé par la requête ci-dessous.\n",
    "```sql\n",
    "SELECT DISTINCT nom, prenom\n",
    "FROM Eleves, Emprunts\n",
    "WHERE Eleves.idEleve = Emprunts.idEleve\n",
    "AND Eleves.classe = 'T2' ;\n",
    "```\n",
    "    \n",
    "7. Écrire une requête SQL qui permet de lister les noms et prénoms des élèves qui ont emprunté le livre Les misérables.\n",
    "</div>"
   ]
  },
  {
   "cell_type": "code",
   "execution_count": null,
   "metadata": {},
   "outputs": [],
   "source": []
  }
 ],
 "metadata": {
  "kernelspec": {
   "display_name": "Python 3",
   "language": "python",
   "name": "python3"
  },
  "language_info": {
   "codemirror_mode": {
    "name": "ipython",
    "version": 3
   },
   "file_extension": ".py",
   "mimetype": "text/x-python",
   "name": "python",
   "nbconvert_exporter": "python",
   "pygments_lexer": "ipython3",
   "version": "3.8.3"
  },
  "varInspector": {
   "cols": {
    "lenName": 16,
    "lenType": 16,
    "lenVar": 40
   },
   "kernels_config": {
    "python": {
     "delete_cmd_postfix": "",
     "delete_cmd_prefix": "del ",
     "library": "var_list.py",
     "varRefreshCmd": "print(var_dic_list())"
    },
    "r": {
     "delete_cmd_postfix": ") ",
     "delete_cmd_prefix": "rm(",
     "library": "var_list.r",
     "varRefreshCmd": "cat(var_dic_list()) "
    }
   },
   "types_to_exclude": [
    "module",
    "function",
    "builtin_function_or_method",
    "instance",
    "_Feature"
   ],
   "window_display": false
  }
 },
 "nbformat": 4,
 "nbformat_minor": 2
}
