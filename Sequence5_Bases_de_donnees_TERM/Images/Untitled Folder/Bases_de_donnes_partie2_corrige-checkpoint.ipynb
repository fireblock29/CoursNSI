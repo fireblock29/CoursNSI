{
 "cells": [
  {
   "cell_type": "markdown",
   "metadata": {},
   "source": [
    "# <center><font face=\"arial\" size=\"5\" color=#0101DF>NUMERIQUE ET SCIENCES INFORMATIQUES Terminale NSI</font></center>"
   ]
  },
  {
   "cell_type": "markdown",
   "metadata": {},
   "source": [
    "## <font color=#013ADF>Séquence N° 6 : Bases de données - Structured Query Language (SQL) 2ème partie</font>"
   ]
  },
  {
   "cell_type": "markdown",
   "metadata": {},
   "source": [
    "<div class=\"alert alert-danger\" role=\"alert\">\n",
    "    \n",
    "Les objectifs de cette séquence sont :\n",
    "\n",
    "- Identifier les concepts définissant le modèle relationnel ;\n",
    "- Savoir distinguer la structure d'une base de données de son contenu ;\n",
    "- Repérer des anomalies dans le schéma d'une base de données ;\n",
    "- Identifier les services rendus par un système de gestion de bases de données relationnelles : persistance des données, gestion des accès concurrrents, efficacité de traitemenet des requêtes, sécurisation des accès ;\n",
    "- Identifier les composants d'une requête ;\n",
    "- Construire des requêtes d'interrogation à l'aide des clauses du langage SQL : SELECT, FROM, WHERE, JOIN ;\n",
    "- Construire des requêtes d'insertion et de mise à jour à l'aide de : UPDATE, INSERT, DELETE.\n",
    "\n",
    "\n",
    "</div>"
   ]
  },
  {
   "cell_type": "markdown",
   "metadata": {},
   "source": [
    "### 5- Un autre exemple avec python"
   ]
  },
  {
   "cell_type": "markdown",
   "metadata": {},
   "source": [
    "<div class=\"alert alert-success\">\n",
    "\n",
    "Voici le modèle Entité/Association de la nouvelle base de données que l'on souhaite. Il s'agit de répertorier les élèves dans les groupes de spécialités et d'y associer un enseignant.\n",
    "    \n",
    "<img src=\"Images/Specialites.svg\" alt=\"ville_db\" width=60% align=center>   \n",
    "    \n",
    "Pour s'adapter aux classes de premières et terminales, 3 spécialités sont disponibles pour l'élève. Les enseignants ne peuvent intervenir que dans 2 spécialités au maximum.\n",
    "    \n",
    "    \n",
    "<div>"
   ]
  },
  {
   "cell_type": "markdown",
   "metadata": {},
   "source": [
    "<div class=\"alert alert-success\">\n",
    "\n",
    "Voici le modèle relationnel de la nouvelle base de données que l'on souhaite. Il s'agit de répertorier les élèves dans les groupes de spécialités et d'y associer un enseignant.\n",
    "    \n",
    "<img src=\"Images/Specialites.png\" alt=\"specialites_db\" width=80% align=center>   \n",
    "    \n",
    "**Pour information** : Pour passer du modèle Entité/Association au modèle relationnel, il y a 3 règles :\n",
    "    \n",
    "*Règle 1 : entité*\n",
    "\n",
    "*– Chaque entité donne une table.*\n",
    "\n",
    "*Règle 2 : association de type 1-n ou 1-1*\n",
    "\n",
    "*– L'identifiant de l'entité côté n est ajoutée du côté 1 où elle devient clé étrangère.*\n",
    "\n",
    "*Règle 3 : association de type n-n*\n",
    "\n",
    "*– Création d'une nouvelle table dont la clé primaire est l'ensemble des identifiants des entités concernées.*\n",
    "    \n",
    "    \n",
    "<div>"
   ]
  },
  {
   "cell_type": "markdown",
   "metadata": {},
   "source": [
    "<div class=\"alert alert-success\">\n",
    "    \n",
    "Le script ci-dessous crée :\n",
    "- Une base de données \"specialites.db\" ;\n",
    "- Les tables \"eleves\", \"groupes\", \"enseignants\" et \"forme\";\n",
    "\n",
    "Puis\n",
    "    \n",
    "- Valide les modifications avec un \"commit\" ;\n",
    "- Cloture la connection avec la base de donnée.\n",
    "\n",
    "On reconnaîtra les requêtes SQL.\n",
    "    \n",
    "Tout ce travail sera réalisé grâce à un objet \"cursor\".\n",
    "<br><br>\n",
    "\n",
    "*Remarque : pour éviter les messages d'erreur si vous executez 2 fois le script ci-dessous, j'ai prévu de supprimer les tables. donc évidemment le 'IF NOT EXISTS' est superflu.*\n",
    "<div>"
   ]
  },
  {
   "cell_type": "code",
   "execution_count": null,
   "metadata": {},
   "outputs": [],
   "source": [
    "import sqlite3\n",
    "connexion = sqlite3.connect('specialites.db') # connection ,création si non existe\n",
    "curseur=connexion.cursor() # création d'un objet pour réaliser des requêtes\n",
    "\n",
    "curseur.executescript(\n",
    "    \n",
    "        \"\"\"\n",
    "\n",
    "        DROP TABLE IF EXISTS enseignants;\n",
    "        \n",
    "        CREATE TABLE IF NOT EXISTS enseignants\n",
    "        (\n",
    "        id_ens INTEGER PRIMARY KEY,\n",
    "        nom_ens TEXT NOT NULL,\n",
    "        prenom_ens TEXT,\n",
    "        sp1_ens TEXT NOT NULL,\n",
    "        sp2_ens TEXT NOT NULL\n",
    "        );\n",
    "        \n",
    "        DROP TABLE IF EXISTS eleves;\n",
    "        \n",
    "        CREATE TABLE IF NOT EXISTS eleves\n",
    "        (\n",
    "        id_eleve INTEGER PRIMARY KEY,\n",
    "        nom_el TEXT NOT NULL,\n",
    "        prenom_el TEXT,\n",
    "        classe INTEGER NOT NULL,\n",
    "        sp1 TEXT NOT NULL,\n",
    "        sp2 TEXT NOT NULL,\n",
    "        sp3 TEXT\n",
    "        );\n",
    "        \n",
    "        DROP TABLE IF EXISTS groupes;\n",
    "        \n",
    "        CREATE TABLE IF NOT EXISTS groupes\n",
    "        (\n",
    "        id_groupe INTEGER PRIMARY KEY,\n",
    "        nom_groupe TEXT NOT NULL,\n",
    "        nom_salle TEXT ,\n",
    "        id_enseignant INTEGER,\n",
    "        FOREIGN KEY (id_enseignant) REFERENCES enseignants(id_ens)\n",
    "        );\n",
    "                \n",
    "        DROP TABLE IF EXISTS forme;\n",
    "        \n",
    "        CREATE TABLE IF NOT EXISTS forme\n",
    "        (\n",
    "        id_eleve INTEGER,\n",
    "        id_groupe INTEGER,\n",
    "        FOREIGN KEY (id_eleve) REFERENCES eleves(id_eleve),\n",
    "        FOREIGN KEY (id_groupe) REFERENCES eleves(id_groupes)\n",
    "        );\n",
    "        \n",
    "        \"\"\"\n",
    "        )\n",
    "\n",
    "\n",
    "connexion.commit() # valide les modifications\n",
    "\n",
    "connexion.close() # déconnexion"
   ]
  },
  {
   "cell_type": "markdown",
   "metadata": {},
   "source": [
    "<div class=\"alert alert-success\">\n",
    "    \n",
    "Le script ci-dessous remplit les tables de quelques valeurs.\n",
    "    \n",
    "*Remarque : pour éviter les messages d'erreur si vous executez 2 fois le script ci-dessous, il faut ré-exécuter le script ci-dessus, c'est à dire supprimer les tables et les reconstruire.*\n",
    "   \n",
    "<div>"
   ]
  },
  {
   "cell_type": "code",
   "execution_count": null,
   "metadata": {},
   "outputs": [],
   "source": [
    "import sqlite3\n",
    "connexion = sqlite3.connect('specialites.db') # connection ,création si non existe\n",
    "curseur=connexion.cursor() # création d'un objet pour réaliser des requêtes\n",
    "\n",
    "                      \n",
    "# À partir d'un script pour plusieurs requêtes\n",
    "# finir la ligne de commande par un ;\n",
    "curseur.executescript(\"\"\"       \n",
    "        INSERT INTO enseignants(id_ens,nom_ens,prenom_ens,sp1_ens,sp2_ens) VALUES (1,'DURANT','Pierre','SES','NSI');\n",
    "        INSERT INTO enseignants(id_ens,nom_ens,prenom_ens,sp1_ens,sp2_ens) VALUES (2,'DUPOND','Thierry','SES','SI');\n",
    "        INSERT INTO enseignants(id_ens,nom_ens,prenom_ens,sp1_ens,sp2_ens) VALUES (3,'NOAES','Gisèle','SI','Math');\n",
    "        INSERT INTO enseignants(id_ens,nom_ens,prenom_ens,sp1_ens,sp2_ens) VALUES (4,'EXCES','Carole','Hist-Geo','Arts');\n",
    "        INSERT INTO enseignants(id_ens,nom_ens,prenom_ens,sp1_ens,sp2_ens) VALUES (5,'STEFAN','Stéphane','Arts','LLCE')\n",
    "\n",
    "        \"\"\")\n",
    "\n",
    "curseur.executescript(\"\"\"\n",
    "        INSERT INTO eLeves(id_eleve,nom_el,prenom_el,classe,sp1,sp2,sp3) VALUES (1,'GOILLON','Jérôme',658,'Arts','Math','');\n",
    "        INSERT INTO eleves(id_eleve,nom_el,prenom_el,classe,sp1,sp2,sp3) VALUES (2,'HELIES','Alice',654,'SI','NSI','');\n",
    "         INSERT INTO eLeves(id_eleve,nom_el,prenom_el,classe,sp1,sp2,sp3) VALUES (3,'ELAN','Jérôme',658,'Math','NSI','');\n",
    "        INSERT INTO eleves(id_eleve,nom_el,prenom_el,classe,sp1,sp2,sp3) VALUES (4,'GARILLO','isidore',654,'SI','NSI','');\n",
    "         INSERT INTO eLeves(id_eleve,nom_el,prenom_el,classe,sp1,sp2,sp3) VALUES (5,'FINUSSON','Oscar',658,'Math','NSI','');\n",
    "        INSERT INTO eleves(id_eleve,nom_el,prenom_el,classe,sp1,sp2,sp3) VALUES (6,'DROPLIT','Gisèle',654,'SI','Arts','');\n",
    "         INSERT INTO eLeves(id_eleve,nom_el,prenom_el,classe,sp1,sp2,sp3) VALUES (7,'CHICAGO','Thierry',658,'Math','NSI','');\n",
    "        INSERT INTO eleves(id_eleve,nom_el,prenom_el,classe,sp1,sp2,sp3) VALUES (8,'DISRUT','Nora',654,'Hist-Geo','Math','');\n",
    "        INSERT INTO eleves(id_eleve,nom_el,prenom_el,classe,sp1,sp2,sp3) VALUES (9,'NOUILLE','Gilles',659,'SES','Hist-Geo','')\n",
    "        \"\"\")\n",
    "\n",
    "# exécution de plusieurs requêtes d'insertion : méthode 1\n",
    "# liste de tuples\n",
    "definir_groupe1=[(1,'NSI','K203',1),(2,'Math','I202',3),(3,'SI','K003',2)]\n",
    "for donnee in definir_groupe1:\n",
    "    curseur.execute(\"INSERT INTO groupes (id_groupe,nom_groupe,nom_salle,id_enseignant) VALUES (?,?,?,?)\", donnee)\n",
    "\n",
    "# la méthode executemany se passera de la boucle\n",
    "definir_groupe2=[(4,'SES','M301',1),(5,'Hist-Geo','M202',4),(6,'Arts','G003',5)]\n",
    "curseur.executemany(\"INSERT INTO groupes (id_groupe,nom_groupe,nom_salle,id_enseignant) VALUES (?,?,?,?)\", definir_groupe2)\n",
    "\n",
    "# À partir d'un tuple de dictionnaires\n",
    "forme_groupe =({'id_el':1,'id_gr':6},\n",
    "                {'id_el':1,'id_gr':2},\n",
    "                {'id_el':2,'id_gr':3},\n",
    "                {'id_el':2,'id_gr':1},\n",
    "                {'id_el':3,'id_gr':2},\n",
    "                {'id_el':3,'id_gr':1},\n",
    "                {'id_el':4,'id_gr':3},\n",
    "                {'id_el':4,'id_gr':1},\n",
    "                {'id_el':5,'id_gr':2},\n",
    "                {'id_el':5,'id_gr':1},\n",
    "                {'id_el':6,'id_gr':3},\n",
    "                {'id_el':6,'id_gr':6},\n",
    "                {'id_el':7,'id_gr':2},\n",
    "                {'id_el':7,'id_gr':1},\n",
    "                {'id_el':8,'id_gr':5},\n",
    "                {'id_el':8,'id_gr':2},\n",
    "                {'id_el':9,'id_gr':4},\n",
    "                {'id_el':9,'id_gr':5})\n",
    "curseur.executemany(\"INSERT INTO forme (id_eleve,id_groupe) VALUES (:id_el,:id_gr)\", forme_groupe )\n",
    "\n",
    "\n",
    "connexion.commit() # valide les modifications\n",
    "\n",
    "connexion.close() # déconnexion"
   ]
  },
  {
   "cell_type": "markdown",
   "metadata": {},
   "source": [
    "<div class=\"alert alert-success\">\n",
    "\n",
    "Formuler des requêtes pour interroger la base de données.\n",
    "<div>"
   ]
  },
  {
   "cell_type": "code",
   "execution_count": null,
   "metadata": {},
   "outputs": [],
   "source": [
    "import sqlite3\n",
    "connexion = sqlite3.connect('specialites.db') # connection ,création si non existe\n",
    "curseur=connexion.cursor() # création d'un objet pour réaliser des requêtes\n",
    "\n",
    "requete = \"SELECT * FROM eleves;\"\n",
    "curseur.execute(requete)\n",
    "resultats = curseur.fetchall()\n",
    "print(resultats)\n",
    "\n",
    "connexion.commit() # valide les modifications\n",
    "connexion.close() # déconnexion"
   ]
  },
  {
   "cell_type": "markdown",
   "metadata": {},
   "source": [
    "<div class=\"alert alert-success\">\n",
    "\n",
    "Création d'une fonction\n",
    "<div>"
   ]
  },
  {
   "cell_type": "code",
   "execution_count": null,
   "metadata": {},
   "outputs": [],
   "source": [
    "def specialites(curs, id):\n",
    "    requete = \"SELECT sp1, sp2 FROM eleves WHERE id_eleve = ?\" # ? : variable à insérer\n",
    "    curs.execute(requete, [id]) # [] liste des valeurs à substituer dans la requête\n",
    "    resultats = curs.fetchall()\n",
    "    if len(resultats) == 0:\n",
    "        return f'Cet élève n\\'existe pas'\n",
    "    return resultats[0][0],resultats[0][1]"
   ]
  },
  {
   "cell_type": "code",
   "execution_count": null,
   "metadata": {},
   "outputs": [],
   "source": [
    "import sqlite3\n",
    "connexion = sqlite3.connect('specialites.db') # connection ,création si non existe\n",
    "curseur=connexion.cursor() # création d'un objet pour réaliser des requêtes\n",
    "\n",
    "id=1 # id de l'élève\n",
    "print(specialites(curseur, id))\n",
    "\n",
    "connexion.close() # déconnexion"
   ]
  },
  {
   "cell_type": "markdown",
   "metadata": {},
   "source": [
    "<div class=\"alert alert-warning\">\n",
    "<img src=\"Images/CR.png\" alt=\"logo CR\" width=5% align=right>\n",
    "\n",
    "Avant d'aller plus loin, formulons quelques requêtes que nous ne pouvions pas faire sur la base de données précédente.\n",
    "    \n",
    "- Formuler une requête qui me fournisse la liste des élèves (nom,prénom, classe et leurs spécialités) ;\n",
    "- Formuler une requête qui me fournisse la liste des élèves (nom,prénom, classe) ainsi que le nom du groupe et la classe pour groupe spécifié ;\n",
    "- Formuler une requête qui me fournisse la liste des groupes, la salle où se pratique la spécialité, le nom et le prénom de l'enseignant associé ;\n",
    "- Formuler une requête qui me fournisse la liste des élèves ayant pour spécialité 'NSI' et le nom de leur professeur.\n",
    "    \n",
    "<div>"
   ]
  },
  {
   "cell_type": "code",
   "execution_count": null,
   "metadata": {},
   "outputs": [],
   "source": [
    "%load_ext sql"
   ]
  },
  {
   "cell_type": "code",
   "execution_count": null,
   "metadata": {},
   "outputs": [],
   "source": [
    "%%sql sqlite:///specialites.db\n",
    "\n",
    "SELECT * FROM eleves;"
   ]
  },
  {
   "cell_type": "code",
   "execution_count": null,
   "metadata": {
    "scrolled": true
   },
   "outputs": [],
   "source": [
    "%%sql sqlite:///specialites.db\n",
    "\n",
    "SELECT nom_el, prenom_el, classe, nom_groupe, nom_salle  FROM eleves JOIN forme USING (id_eleve) JOIN groupes USING(id_groupe) where nom_groupe='NSI';"
   ]
  },
  {
   "cell_type": "code",
   "execution_count": null,
   "metadata": {},
   "outputs": [],
   "source": [
    "%%sql sqlite:///specialites.db\n",
    "\n",
    "SELECT nom_groupe, nom_salle, nom_ens, prenom_ens FROM groupes JOIN enseignants ON id_enseignant=id_ens;"
   ]
  },
  {
   "cell_type": "code",
   "execution_count": null,
   "metadata": {},
   "outputs": [],
   "source": [
    "%%sql sqlite:///specialites.db\n",
    "\n",
    "SELECT nom_el, prenom_el, nom_ens, prenom_ens FROM eleves JOIN forme USING (id_eleve) JOIN groupes USING (id_groupe) JOIN enseignants ON id_enseignant=id_ens WHERE (sp1='NSI' OR sp2='NSI') AND nom_groupe='NSI' ;"
   ]
  },
  {
   "cell_type": "markdown",
   "metadata": {},
   "source": [
    "### 6- Récupération de données en Open Data"
   ]
  },
  {
   "cell_type": "markdown",
   "metadata": {},
   "source": [
    "<div class=\"alert alert-success\">\n",
    "\n",
    "La saisie de données reste le point laborieux. Il existe sur Internet des jeux de données disponibles mise à la disposition de tous. C'est l'Opendata.\n",
    "    \n",
    "L'année dernière, lors de la séquence \"Données en table\", nous avons abordé ces notions et également le format de fichiers nommmé \"CSV\".\n",
    "    \n",
    "Nous allons ici utiliser des données issues de la métropole brestoise au format CSV. Grâce à une fonction qui va lire ce fichier, nous allons peupler une base de données. Nous pourrons ainsi manipuler une quantité de données importante plus significative d'une base réelle.\n",
    "    \n",
    "Quelques sites : \n",
    "\n",
    "https://www.data.gouv.fr/fr/organizations/brest-metropole-oceane/\n",
    "\n",
    "https://opendata.finistere.fr/explore/?sort=modified\n",
    "\n",
    "https://www.data.gouv.fr/fr/\n",
    "<div>"
   ]
  },
  {
   "cell_type": "markdown",
   "metadata": {},
   "source": [
    "<div class=\"alert alert-warning\">\n",
    "<img src=\"Images/CR.png\" alt=\"logo CR\" width=5% align=right>\n",
    "\n",
    "- En suivant le premier ce lien : https://www.data.gouv.fr/fr/organizations/brest-metropole-oceane/, télécharger la liste des arrêts et horaires des bus et tramways ;\n",
    "- Décompresser le fichier, vous y trouverez le fichier 'stops.txt' qui est au format CSV ;\n",
    "- En reprenant vos documents de l'année dernière, créer une fonction qui lit ce fichier ;\n",
    "- En s'inspirant des exemples en python fournis plus haut, créer une base de donnees 'transports.db' et une table 'arrets' ;\n",
    "- Créer une fonction qui alimente la table 'arret' avec les données du fichier 'stops.txt';\n",
    "- Créer une fonction qui renvoie les coordonnées GPS de l'arrêt lors que l'on lui passe en argument, le nom de l'arrêt.\n",
    "- Créer une fonction qui renvoie le nombre d'arrêts avec accès pour fauteuil roulant.\n",
    "<div>"
   ]
  },
  {
   "cell_type": "code",
   "execution_count": null,
   "metadata": {},
   "outputs": [],
   "source": [
    "import csv\n",
    "import sqlite3\n",
    "\n",
    "def create_table(conn,curs):\n",
    "    curs.executescript(\n",
    "    \"\"\"\n",
    "    DROP TABLE IF EXISTS arrets;\n",
    "    \n",
    "    CREATE TABLE IF NOT EXISTS arrets (\n",
    "    stop_id TEXT PRIMARY KEY,\n",
    "    stop_code TEXT,\n",
    "    stop_name TEXT,\n",
    "    stop_desc TEXT,\n",
    "    stop_lat TEXT,\n",
    "    stop_long TEXT,\n",
    "    zone_id TEXT,\n",
    "    stop_url TEXT,\n",
    "    location_type TEXT,\n",
    "    parent_station TEXT,\n",
    "    wheelchair_boarding TEXT\n",
    "    );\n",
    "    \"\"\"\n",
    "    )\n",
    "    conn.commit() # valide les modifications\n",
    "    \n",
    "def lecture_fichier(fichier) :\n",
    "    \"\"\"\n",
    "    La fonction lit le fichier csv et calcule le nombre d'inscrits\n",
    "    Entrée : fichier csv\n",
    "    Sortie : nombre de suffrages exprimés de type entier\n",
    "    \"\"\"\n",
    "    with open(fichier) as csv_file:\n",
    "        liste= list(csv.reader(csv_file, delimiter=',')) # Récupération d'une liste de liste\n",
    "        liste.pop(0)\n",
    "    return liste\n",
    "\n",
    "def peuple_table(conn,curs, enregistrements):\n",
    "    for enregistrement in enregistrements:\n",
    "        requete = \"INSERT INTO arrets (stop_id,stop_code,stop_name,stop_desc,stop_lat,stop_long,zone_id,stop_url,location_type,parent_station,wheelchair_boarding) VALUES(?,?,?,?,?,?,?,?,?,?,?)\"\n",
    "        curs.execute(requete, enregistrement) # liste des valeurs à substituer dans la requête\n",
    "        conn.commit() # valide les modifications\n",
    "\n",
    "def coordonnees_gps(conn, curs,nom):\n",
    "    requete = \"SELECT stop_lat, stop_long FROM arrets WHERE stop_name = ?\" # ? : variable à insérer\n",
    "    curs.execute(requete, [nom]) # [] liste des valeurs à substituer dans la requête\n",
    "    resultats = curs.fetchall()\n",
    "    return f'Les coordonnées GPS de l\\'arrêt {nom} sont : {resultats[0][0]} et {resultats[0][1]}'\n",
    "\n",
    "def nb_fauteuils(conn,curs):\n",
    "    requete = \"SELECT COUNT(*) FROM arrets WHERE wheelchair_boarding = 1\"\n",
    "    curs.execute(requete)\n",
    "    nombre = curs.fetchone()\n",
    "    return f'Le nombre d\\'arrêt permettant l\\'accès à un fauteuil roulant est {nombre[0]}'\n",
    "\n",
    "connexion = sqlite3.connect('transports.db') # connection ,création si non existe\n",
    "curseur=connexion.cursor() # création d'un objet pour réaliser des requêtes\n",
    "\n",
    "create_table(connexion, curseur)\n",
    "liste=lecture_fichier('stops.txt')\n",
    "peuple_table(connexion,curseur,liste)\n",
    "station='Liberté Multiplexe'\n",
    "print(coordonnees_gps(connexion, curseur, station))\n",
    "print(nb_fauteuils(connexion,curseur))\n",
    "\n",
    "connexion.close() # déconnexion"
   ]
  }
 ],
 "metadata": {
  "kernelspec": {
   "display_name": "Python 3",
   "language": "python",
   "name": "python3"
  },
  "language_info": {
   "codemirror_mode": {
    "name": "ipython",
    "version": 3
   },
   "file_extension": ".py",
   "mimetype": "text/x-python",
   "name": "python",
   "nbconvert_exporter": "python",
   "pygments_lexer": "ipython3",
   "version": "3.7.7"
  },
  "varInspector": {
   "cols": {
    "lenName": 16,
    "lenType": 16,
    "lenVar": 40
   },
   "kernels_config": {
    "python": {
     "delete_cmd_postfix": "",
     "delete_cmd_prefix": "del ",
     "library": "var_list.py",
     "varRefreshCmd": "print(var_dic_list())"
    },
    "r": {
     "delete_cmd_postfix": ") ",
     "delete_cmd_prefix": "rm(",
     "library": "var_list.r",
     "varRefreshCmd": "cat(var_dic_list()) "
    }
   },
   "types_to_exclude": [
    "module",
    "function",
    "builtin_function_or_method",
    "instance",
    "_Feature"
   ],
   "window_display": false
  }
 },
 "nbformat": 4,
 "nbformat_minor": 2
}
