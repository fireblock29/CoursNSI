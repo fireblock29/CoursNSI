{
 "cells": [
  {
   "cell_type": "markdown",
   "metadata": {},
   "source": [
    "# <center><font face=\"arial\" size=\"5\" color=#0101DF>NUMERIQUE ET SCIENCES INFORMATIQUES Terminale NSI</font></center>"
   ]
  },
  {
   "cell_type": "markdown",
   "metadata": {},
   "source": [
    "## <font color=#013ADF>Séquence N° 5 : Bases de données - Structured Query Language (SQL) 2ème partie</font>"
   ]
  },
  {
   "cell_type": "markdown",
   "metadata": {},
   "source": [
    "<div class=\"alert alert-danger\" role=\"alert\">\n",
    "    \n",
    "Les objectifs de cette séquence sont :\n",
    "\n",
    "- Identifier les concepts définissant le modèle relationnel ;\n",
    "- Savoir distinguer la structure d'une base de données de son contenu ;\n",
    "- Repérer des anomalies dans le schéma d'une base de données ;\n",
    "- Identifier les services rendus par un système de gestion de bases de données relationnelles : persistance des données, gestion des accès concurrrents, efficacité de traitemenet des requêtes, sécurisation des accès ;\n",
    "- Identifier les composants d'une requête ;\n",
    "- Construire des requêtes d'interrogation à l'aide des clauses du langage SQL : SELECT, FROM, WHERE, JOIN ;\n",
    "- Construire des requêtes d'insertion et de mise à jour à l'aide de : UPDATE, INSERT, DELETE.\n",
    "\n",
    "\n",
    "</div>"
   ]
  },
  {
   "cell_type": "markdown",
   "metadata": {},
   "source": [
    "### 5- Un autre exemple avec python"
   ]
  },
  {
   "cell_type": "markdown",
   "metadata": {},
   "source": [
    "<div class=\"alert alert-success\">\n",
    "\n",
    "Voici le modèle Entité/Association de la nouvelle base de données que l'on souhaite. Il s'agit de répertorier les élèves dans les groupes de spécialités et d'y associer un enseignant.\n",
    "    \n",
    "<img src=\"Images/Specialites.svg\" alt=\"ville_db\" width=60% align=center>   \n",
    "    \n",
    "Pour s'adapter aux classes de premières et terminales, 3 spécialités sont disponibles pour l'élève. Les enseignants ne peuvent intervenir que dans 2 spécialités au maximum.\n",
    "    \n",
    "    \n",
    "<div>"
   ]
  },
  {
   "cell_type": "markdown",
   "metadata": {},
   "source": [
    "<div class=\"alert alert-success\">\n",
    "\n",
    "Voici le modèle relationnel de la nouvelle base de données que l'on souhaite. Il s'agit de répertorier les élèves dans les groupes de spécialités et d'y associer un enseignant.\n",
    "    \n",
    "<img src=\"Images/Specialites.png\" alt=\"specialites_db\" width=80% align=center>   \n",
    "    \n",
    "**Pour information** : Pour passer du modèle Entité/Association au modèle relationnel, il y a 3 règles :\n",
    "    \n",
    "*Règle 1 : entité*\n",
    "\n",
    "*– Chaque entité donne une table.*\n",
    "\n",
    "*Règle 2 : association de type 1-n ou 1-1*\n",
    "\n",
    "*– L'identifiant de l'entité côté n est ajoutée du côté 1 où elle devient clé étrangère.*\n",
    "\n",
    "*Règle 3 : association de type n-n*\n",
    "\n",
    "*– Création d'une nouvelle table dont la clé primaire est l'ensemble des identifiants des entités concernées.*\n",
    "    \n",
    "    \n",
    "<div>"
   ]
  },
  {
   "cell_type": "markdown",
   "metadata": {},
   "source": [
    "<div class=\"alert alert-success\">\n",
    "    \n",
    "Le script ci-dessous crée :\n",
    "- Une base de données \"specialites.db\" ;\n",
    "- Les tables \"eleves\", \"groupes\", \"enseignants\" et \"forme\";\n",
    "\n",
    "Puis\n",
    "    \n",
    "- Valide les modifications avec un \"commit\" ;\n",
    "- Cloture la connection avec la base de donnée.\n",
    "\n",
    "On reconnaîtra les requêtes SQL.\n",
    "    \n",
    "Tout ce travail sera réalisé grâce à un objet \"cursor\".\n",
    "<br><br>\n",
    "\n",
    "*Remarque : pour éviter les messages d'erreur si vous executez 2 fois le script ci-dessous, j'ai prévu de supprimer les tables. donc évidemment le 'IF NOT EXISTS' est superflu.*\n",
    "<div>"
   ]
  },
  {
   "cell_type": "code",
   "execution_count": 1,
   "metadata": {
    "ExecuteTime": {
     "end_time": "2021-12-08T08:00:29.982648Z",
     "start_time": "2021-12-08T08:00:29.861085Z"
    }
   },
   "outputs": [],
   "source": [
    "import sqlite3\n",
    "connexion = sqlite3.connect('specialites.db') # connection ,création si non existe\n",
    "curseur=connexion.cursor() # création d'un objet pour réaliser des requêtes\n",
    "\n",
    "curseur.executescript(\n",
    "    \n",
    "        \"\"\"\n",
    "\n",
    "        DROP TABLE IF EXISTS enseignants;\n",
    "        \n",
    "        CREATE TABLE IF NOT EXISTS enseignants\n",
    "        (\n",
    "        id_ens INTEGER PRIMARY KEY,\n",
    "        nom_ens TEXT NOT NULL,\n",
    "        prenom_ens TEXT,\n",
    "        sp1_ens TEXT NOT NULL,\n",
    "        sp2_ens TEXT NOT NULL\n",
    "        );\n",
    "        \n",
    "        DROP TABLE IF EXISTS eleves;\n",
    "        \n",
    "        CREATE TABLE IF NOT EXISTS eleves\n",
    "        (\n",
    "        id_eleve INTEGER PRIMARY KEY,\n",
    "        nom_el TEXT NOT NULL,\n",
    "        prenom_el TEXT,\n",
    "        classe INTEGER NOT NULL,\n",
    "        sp1 TEXT NOT NULL,\n",
    "        sp2 TEXT NOT NULL,\n",
    "        sp3 TEXT\n",
    "        );\n",
    "        \n",
    "        DROP TABLE IF EXISTS groupes;\n",
    "        \n",
    "        CREATE TABLE IF NOT EXISTS groupes\n",
    "        (\n",
    "        id_groupe INTEGER PRIMARY KEY,\n",
    "        nom_groupe TEXT NOT NULL,\n",
    "        nom_salle TEXT ,\n",
    "        id_enseignant INTEGER,\n",
    "        FOREIGN KEY (id_enseignant) REFERENCES enseignants(id_ens)\n",
    "        );\n",
    "                \n",
    "        DROP TABLE IF EXISTS forme;\n",
    "        \n",
    "        CREATE TABLE IF NOT EXISTS forme\n",
    "        (\n",
    "        id_eleve INTEGER,\n",
    "        id_groupe INTEGER,\n",
    "        FOREIGN KEY (id_eleve) REFERENCES eleves(id_eleve),\n",
    "        FOREIGN KEY (id_groupe) REFERENCES groupes(id_groupes)\n",
    "        );\n",
    "        \n",
    "        \"\"\"\n",
    "        )\n",
    "\n",
    "\n",
    "connexion.commit() # valide les modifications\n",
    "\n",
    "connexion.close() # déconnexion"
   ]
  },
  {
   "cell_type": "markdown",
   "metadata": {},
   "source": [
    "<div class=\"alert alert-success\">\n",
    "    \n",
    "Le script ci-dessous remplit les tables de quelques valeurs.\n",
    "    \n",
    "*Remarque : pour éviter les messages d'erreur si vous executez 2 fois le script ci-dessous, il faut ré-exécuter le script ci-dessus, c'est à dire supprimer les tables et les reconstruire.*\n",
    "   \n",
    "<div>"
   ]
  },
  {
   "cell_type": "code",
   "execution_count": 2,
   "metadata": {
    "ExecuteTime": {
     "end_time": "2021-12-08T08:00:32.215557Z",
     "start_time": "2021-12-08T08:00:32.020103Z"
    }
   },
   "outputs": [],
   "source": [
    "import sqlite3\n",
    "connexion = sqlite3.connect('specialites.db') # connection ,création si non existe\n",
    "curseur=connexion.cursor() # création d'un objet pour réaliser des requêtes\n",
    "\n",
    "                      \n",
    "# À partir d'un script pour plusieurs requêtes\n",
    "# finir la ligne de commande par un ;\n",
    "curseur.executescript(\"\"\"       \n",
    "        INSERT INTO enseignants(id_ens,nom_ens,prenom_ens,sp1_ens,sp2_ens) VALUES (1,'DURANT','Pierre','SES','NSI');\n",
    "        INSERT INTO enseignants(id_ens,nom_ens,prenom_ens,sp1_ens,sp2_ens) VALUES (2,'DUPOND','Thierry','SES','SI');\n",
    "        INSERT INTO enseignants(id_ens,nom_ens,prenom_ens,sp1_ens,sp2_ens) VALUES (3,'NOAES','Gisèle','SI','Math');\n",
    "        INSERT INTO enseignants(id_ens,nom_ens,prenom_ens,sp1_ens,sp2_ens) VALUES (4,'EXCES','Carole','Hist-Geo','Arts');\n",
    "        INSERT INTO enseignants(id_ens,nom_ens,prenom_ens,sp1_ens,sp2_ens) VALUES (5,'STEFAN','Stéphane','Arts','LLCE')\n",
    "\n",
    "        \"\"\")\n",
    "\n",
    "curseur.executescript(\"\"\"\n",
    "        INSERT INTO eLeves(id_eleve,nom_el,prenom_el,classe,sp1,sp2,sp3) VALUES (1,'GOILLON','Jérôme',658,'Arts','Math','');\n",
    "        INSERT INTO eleves(id_eleve,nom_el,prenom_el,classe,sp1,sp2,sp3) VALUES (2,'HELIES','Alice',654,'SI','NSI','');\n",
    "         INSERT INTO eLeves(id_eleve,nom_el,prenom_el,classe,sp1,sp2,sp3) VALUES (3,'ELAN','Jérôme',658,'Math','NSI','');\n",
    "        INSERT INTO eleves(id_eleve,nom_el,prenom_el,classe,sp1,sp2,sp3) VALUES (4,'GARILLO','isidore',654,'SI','NSI','');\n",
    "         INSERT INTO eLeves(id_eleve,nom_el,prenom_el,classe,sp1,sp2,sp3) VALUES (5,'FINUSSON','Oscar',658,'Math','NSI','');\n",
    "        INSERT INTO eleves(id_eleve,nom_el,prenom_el,classe,sp1,sp2,sp3) VALUES (6,'DROPLIT','Gisèle',654,'SI','Arts','');\n",
    "         INSERT INTO eLeves(id_eleve,nom_el,prenom_el,classe,sp1,sp2,sp3) VALUES (7,'CHICAGO','Thierry',658,'Math','NSI','');\n",
    "        INSERT INTO eleves(id_eleve,nom_el,prenom_el,classe,sp1,sp2,sp3) VALUES (8,'DISRUT','Nora',654,'Hist-Geo','Math','');\n",
    "        INSERT INTO eleves(id_eleve,nom_el,prenom_el,classe,sp1,sp2,sp3) VALUES (9,'NOUILLE','Gilles',659,'SES','Hist-Geo','')\n",
    "        \"\"\")\n",
    "\n",
    "# exécution de plusieurs requêtes d'insertion : méthode 1\n",
    "# liste de tuples\n",
    "definir_groupe1=[(1,'NSI','K203',1),(2,'Math','I202',3),(3,'SI','K003',2)]\n",
    "for donnee in definir_groupe1:\n",
    "    curseur.execute(\"INSERT INTO groupes (id_groupe,nom_groupe,nom_salle,id_enseignant) VALUES (?,?,?,?)\", donnee)\n",
    "\n",
    "# la méthode executemany se passera de la boucle\n",
    "definir_groupe2=[(4,'SES','M301',1),(5,'Hist-Geo','M202',4),(6,'Arts','G003',5)]\n",
    "curseur.executemany(\"INSERT INTO groupes (id_groupe,nom_groupe,nom_salle,id_enseignant) VALUES (?,?,?,?)\", definir_groupe2)\n",
    "\n",
    "# À partir d'un tuple de dictionnaires\n",
    "forme_groupe =({'id_el':1,'id_gr':6},\n",
    "                {'id_el':1,'id_gr':2},\n",
    "                {'id_el':2,'id_gr':3},\n",
    "                {'id_el':2,'id_gr':1},\n",
    "                {'id_el':3,'id_gr':2},\n",
    "                {'id_el':3,'id_gr':1},\n",
    "                {'id_el':4,'id_gr':3},\n",
    "                {'id_el':4,'id_gr':1},\n",
    "                {'id_el':5,'id_gr':2},\n",
    "                {'id_el':5,'id_gr':1},\n",
    "                {'id_el':6,'id_gr':3},\n",
    "                {'id_el':6,'id_gr':6},\n",
    "                {'id_el':7,'id_gr':2},\n",
    "                {'id_el':7,'id_gr':1},\n",
    "                {'id_el':8,'id_gr':5},\n",
    "                {'id_el':8,'id_gr':2},\n",
    "                {'id_el':9,'id_gr':4},\n",
    "                {'id_el':9,'id_gr':5})\n",
    "curseur.executemany(\"INSERT INTO forme (id_eleve,id_groupe) VALUES (:id_el,:id_gr)\", forme_groupe )\n",
    "\n",
    "\n",
    "connexion.commit() # valide les modifications\n",
    "\n",
    "connexion.close() # déconnexion"
   ]
  },
  {
   "cell_type": "markdown",
   "metadata": {},
   "source": [
    "<div class=\"alert alert-success\">\n",
    "\n",
    "Formuler des requêtes pour interroger la base de données.\n",
    "<div>"
   ]
  },
  {
   "cell_type": "code",
   "execution_count": 3,
   "metadata": {
    "ExecuteTime": {
     "end_time": "2021-12-08T08:00:34.964171Z",
     "start_time": "2021-12-08T08:00:34.952657Z"
    }
   },
   "outputs": [
    {
     "name": "stdout",
     "output_type": "stream",
     "text": [
      "[(1, 'GOILLON', 'Jérôme', 658, 'Arts', 'Math', ''), (2, 'HELIES', 'Alice', 654, 'SI', 'NSI', ''), (3, 'ELAN', 'Jérôme', 658, 'Math', 'NSI', ''), (4, 'GARILLO', 'isidore', 654, 'SI', 'NSI', ''), (5, 'FINUSSON', 'Oscar', 658, 'Math', 'NSI', ''), (6, 'DROPLIT', 'Gisèle', 654, 'SI', 'Arts', ''), (7, 'CHICAGO', 'Thierry', 658, 'Math', 'NSI', ''), (8, 'DISRUT', 'Nora', 654, 'Hist-Geo', 'Math', ''), (9, 'NOUILLE', 'Gilles', 659, 'SES', 'Hist-Geo', '')]\n"
     ]
    }
   ],
   "source": [
    "import sqlite3\n",
    "connexion = sqlite3.connect('specialites.db') # connection ,création si non existe\n",
    "curseur=connexion.cursor() # création d'un objet pour réaliser des requêtes\n",
    "\n",
    "requete = \"SELECT * FROM eleves;\"\n",
    "curseur.execute(requete)\n",
    "resultats = curseur.fetchall()\n",
    "print(resultats)\n",
    "\n",
    "connexion.commit() # valide les modifications\n",
    "connexion.close() # déconnexion"
   ]
  },
  {
   "cell_type": "markdown",
   "metadata": {},
   "source": [
    "<div class=\"alert alert-success\">\n",
    "\n",
    "Création d'une fonction\n",
    "<div>"
   ]
  },
  {
   "cell_type": "code",
   "execution_count": 4,
   "metadata": {
    "ExecuteTime": {
     "end_time": "2021-12-08T08:00:37.456962Z",
     "start_time": "2021-12-08T08:00:37.448316Z"
    }
   },
   "outputs": [],
   "source": [
    "def specialites(curs, id):\n",
    "    requete = \"SELECT sp1, sp2 FROM eleves WHERE id_eleve = ?\" # ? : variable à insérer\n",
    "    curs.execute(requete, [id]) # [] liste des valeurs à substituer dans la requête\n",
    "    resultats = curs.fetchall()\n",
    "    if len(resultats) == 0:\n",
    "        return f'Cet élève n\\'existe pas'\n",
    "    return resultats[0][0],resultats[0][1]"
   ]
  },
  {
   "cell_type": "code",
   "execution_count": 5,
   "metadata": {
    "ExecuteTime": {
     "end_time": "2021-12-08T08:00:38.446414Z",
     "start_time": "2021-12-08T08:00:38.438970Z"
    }
   },
   "outputs": [
    {
     "name": "stdout",
     "output_type": "stream",
     "text": [
      "('Arts', 'Math')\n"
     ]
    }
   ],
   "source": [
    "import sqlite3\n",
    "connexion = sqlite3.connect('specialites.db') # connection ,création si non existe\n",
    "curseur=connexion.cursor() # création d'un objet pour réaliser des requêtes\n",
    "\n",
    "id=1 # id de l'élève\n",
    "print(specialites(curseur, id))\n",
    "\n",
    "connexion.close() # déconnexion"
   ]
  },
  {
   "cell_type": "markdown",
   "metadata": {},
   "source": [
    "<div class=\"alert alert-warning\">\n",
    "<img src=\"Images/CR.png\" alt=\"logo CR\" width=5% align=right>\n",
    "\n",
    "Avant d'aller plus loin, formulons quelques requêtes que nous ne pouvions pas faire sur la base de données précédente.\n",
    "    \n",
    "- Formuler une requête qui me fournisse la liste des élèves (nom,prénom, classe et leurs spécialités) ;\n",
    "- Formuler une requête qui me fournisse la liste des élèves (nom,prénom, classe) ainsi que le nom du groupe et la classe pour groupe spécifié ;\n",
    "- Formuler une requête qui me fournisse la liste des groupes, la salle où se pratique la spécialité, le nom et le prénom de l'enseignant associé ;\n",
    "- Formuler une requête qui me fournisse la liste des élèves ayant pour spécialité 'NSI' et le nom de leur professeur.\n",
    "    \n",
    "<div>"
   ]
  },
  {
   "cell_type": "code",
   "execution_count": 7,
   "metadata": {
    "ExecuteTime": {
     "end_time": "2021-12-08T08:02:07.415921Z",
     "start_time": "2021-12-08T08:02:07.408136Z"
    }
   },
   "outputs": [
    {
     "name": "stdout",
     "output_type": "stream",
     "text": [
      "The sql extension is already loaded. To reload it, use:\n",
      "  %reload_ext sql\n"
     ]
    }
   ],
   "source": [
    "%load_ext sql"
   ]
  },
  {
   "cell_type": "code",
   "execution_count": 8,
   "metadata": {
    "ExecuteTime": {
     "end_time": "2021-12-08T08:02:19.700267Z",
     "start_time": "2021-12-08T08:02:19.691592Z"
    }
   },
   "outputs": [],
   "source": [
    "%reload_ext sql"
   ]
  },
  {
   "cell_type": "code",
   "execution_count": 52,
   "metadata": {
    "ExecuteTime": {
     "end_time": "2021-12-08T08:39:52.586245Z",
     "start_time": "2021-12-08T08:39:52.574217Z"
    }
   },
   "outputs": [
    {
     "name": "stdout",
     "output_type": "stream",
     "text": [
      "Done.\n"
     ]
    },
    {
     "data": {
      "text/html": [
       "<table>\n",
       "    <tr>\n",
       "        <th>id_eleve</th>\n",
       "        <th>nom_el</th>\n",
       "        <th>prenom_el</th>\n",
       "        <th>classe</th>\n",
       "        <th>sp1</th>\n",
       "        <th>sp2</th>\n",
       "        <th>sp3</th>\n",
       "    </tr>\n",
       "    <tr>\n",
       "        <td>1</td>\n",
       "        <td>GOILLON</td>\n",
       "        <td>Jérôme</td>\n",
       "        <td>658</td>\n",
       "        <td>Arts</td>\n",
       "        <td>Math</td>\n",
       "        <td></td>\n",
       "    </tr>\n",
       "    <tr>\n",
       "        <td>2</td>\n",
       "        <td>HELIES</td>\n",
       "        <td>Alice</td>\n",
       "        <td>654</td>\n",
       "        <td>SI</td>\n",
       "        <td>NSI</td>\n",
       "        <td></td>\n",
       "    </tr>\n",
       "    <tr>\n",
       "        <td>3</td>\n",
       "        <td>ELAN</td>\n",
       "        <td>Jérôme</td>\n",
       "        <td>658</td>\n",
       "        <td>Math</td>\n",
       "        <td>NSI</td>\n",
       "        <td></td>\n",
       "    </tr>\n",
       "    <tr>\n",
       "        <td>4</td>\n",
       "        <td>GARILLO</td>\n",
       "        <td>isidore</td>\n",
       "        <td>654</td>\n",
       "        <td>SI</td>\n",
       "        <td>NSI</td>\n",
       "        <td></td>\n",
       "    </tr>\n",
       "    <tr>\n",
       "        <td>5</td>\n",
       "        <td>FINUSSON</td>\n",
       "        <td>Oscar</td>\n",
       "        <td>658</td>\n",
       "        <td>Math</td>\n",
       "        <td>NSI</td>\n",
       "        <td></td>\n",
       "    </tr>\n",
       "    <tr>\n",
       "        <td>6</td>\n",
       "        <td>DROPLIT</td>\n",
       "        <td>Gisèle</td>\n",
       "        <td>654</td>\n",
       "        <td>SI</td>\n",
       "        <td>Arts</td>\n",
       "        <td></td>\n",
       "    </tr>\n",
       "    <tr>\n",
       "        <td>7</td>\n",
       "        <td>CHICAGO</td>\n",
       "        <td>Thierry</td>\n",
       "        <td>658</td>\n",
       "        <td>Math</td>\n",
       "        <td>NSI</td>\n",
       "        <td></td>\n",
       "    </tr>\n",
       "    <tr>\n",
       "        <td>8</td>\n",
       "        <td>DISRUT</td>\n",
       "        <td>Nora</td>\n",
       "        <td>654</td>\n",
       "        <td>Hist-Geo</td>\n",
       "        <td>Math</td>\n",
       "        <td></td>\n",
       "    </tr>\n",
       "    <tr>\n",
       "        <td>9</td>\n",
       "        <td>NOUILLE</td>\n",
       "        <td>Gilles</td>\n",
       "        <td>659</td>\n",
       "        <td>SES</td>\n",
       "        <td>Hist-Geo</td>\n",
       "        <td></td>\n",
       "    </tr>\n",
       "</table>"
      ],
      "text/plain": [
       "[(1, 'GOILLON', 'Jérôme', 658, 'Arts', 'Math', ''),\n",
       " (2, 'HELIES', 'Alice', 654, 'SI', 'NSI', ''),\n",
       " (3, 'ELAN', 'Jérôme', 658, 'Math', 'NSI', ''),\n",
       " (4, 'GARILLO', 'isidore', 654, 'SI', 'NSI', ''),\n",
       " (5, 'FINUSSON', 'Oscar', 658, 'Math', 'NSI', ''),\n",
       " (6, 'DROPLIT', 'Gisèle', 654, 'SI', 'Arts', ''),\n",
       " (7, 'CHICAGO', 'Thierry', 658, 'Math', 'NSI', ''),\n",
       " (8, 'DISRUT', 'Nora', 654, 'Hist-Geo', 'Math', ''),\n",
       " (9, 'NOUILLE', 'Gilles', 659, 'SES', 'Hist-Geo', '')]"
      ]
     },
     "execution_count": 52,
     "metadata": {},
     "output_type": "execute_result"
    }
   ],
   "source": [
    "%%sql sqlite:///specialites.db\n",
    "    /* 1 */\n",
    "SELECT * FROM eleves;"
   ]
  },
  {
   "cell_type": "code",
   "execution_count": 54,
   "metadata": {
    "ExecuteTime": {
     "end_time": "2021-12-08T08:42:14.025827Z",
     "start_time": "2021-12-08T08:42:14.013123Z"
    }
   },
   "outputs": [
    {
     "name": "stdout",
     "output_type": "stream",
     "text": [
      "Done.\n"
     ]
    },
    {
     "data": {
      "text/html": [
       "<table>\n",
       "    <tr>\n",
       "        <th>nom_el</th>\n",
       "        <th>prenom_el</th>\n",
       "        <th>nom_groupe</th>\n",
       "        <th>nom_salle</th>\n",
       "    </tr>\n",
       "    <tr>\n",
       "        <td>GOILLON</td>\n",
       "        <td>Jérôme</td>\n",
       "        <td>Arts</td>\n",
       "        <td>G003</td>\n",
       "    </tr>\n",
       "    <tr>\n",
       "        <td>DROPLIT</td>\n",
       "        <td>Gisèle</td>\n",
       "        <td>Arts</td>\n",
       "        <td>G003</td>\n",
       "    </tr>\n",
       "    <tr>\n",
       "        <td>DISRUT</td>\n",
       "        <td>Nora</td>\n",
       "        <td>Hist-Geo</td>\n",
       "        <td>M202</td>\n",
       "    </tr>\n",
       "    <tr>\n",
       "        <td>NOUILLE</td>\n",
       "        <td>Gilles</td>\n",
       "        <td>Hist-Geo</td>\n",
       "        <td>M202</td>\n",
       "    </tr>\n",
       "    <tr>\n",
       "        <td>GOILLON</td>\n",
       "        <td>Jérôme</td>\n",
       "        <td>Math</td>\n",
       "        <td>I202</td>\n",
       "    </tr>\n",
       "    <tr>\n",
       "        <td>ELAN</td>\n",
       "        <td>Jérôme</td>\n",
       "        <td>Math</td>\n",
       "        <td>I202</td>\n",
       "    </tr>\n",
       "    <tr>\n",
       "        <td>FINUSSON</td>\n",
       "        <td>Oscar</td>\n",
       "        <td>Math</td>\n",
       "        <td>I202</td>\n",
       "    </tr>\n",
       "    <tr>\n",
       "        <td>CHICAGO</td>\n",
       "        <td>Thierry</td>\n",
       "        <td>Math</td>\n",
       "        <td>I202</td>\n",
       "    </tr>\n",
       "    <tr>\n",
       "        <td>DISRUT</td>\n",
       "        <td>Nora</td>\n",
       "        <td>Math</td>\n",
       "        <td>I202</td>\n",
       "    </tr>\n",
       "    <tr>\n",
       "        <td>HELIES</td>\n",
       "        <td>Alice</td>\n",
       "        <td>NSI</td>\n",
       "        <td>K203</td>\n",
       "    </tr>\n",
       "    <tr>\n",
       "        <td>ELAN</td>\n",
       "        <td>Jérôme</td>\n",
       "        <td>NSI</td>\n",
       "        <td>K203</td>\n",
       "    </tr>\n",
       "    <tr>\n",
       "        <td>GARILLO</td>\n",
       "        <td>isidore</td>\n",
       "        <td>NSI</td>\n",
       "        <td>K203</td>\n",
       "    </tr>\n",
       "    <tr>\n",
       "        <td>FINUSSON</td>\n",
       "        <td>Oscar</td>\n",
       "        <td>NSI</td>\n",
       "        <td>K203</td>\n",
       "    </tr>\n",
       "    <tr>\n",
       "        <td>CHICAGO</td>\n",
       "        <td>Thierry</td>\n",
       "        <td>NSI</td>\n",
       "        <td>K203</td>\n",
       "    </tr>\n",
       "    <tr>\n",
       "        <td>NOUILLE</td>\n",
       "        <td>Gilles</td>\n",
       "        <td>SES</td>\n",
       "        <td>M301</td>\n",
       "    </tr>\n",
       "    <tr>\n",
       "        <td>HELIES</td>\n",
       "        <td>Alice</td>\n",
       "        <td>SI</td>\n",
       "        <td>K003</td>\n",
       "    </tr>\n",
       "    <tr>\n",
       "        <td>GARILLO</td>\n",
       "        <td>isidore</td>\n",
       "        <td>SI</td>\n",
       "        <td>K003</td>\n",
       "    </tr>\n",
       "    <tr>\n",
       "        <td>DROPLIT</td>\n",
       "        <td>Gisèle</td>\n",
       "        <td>SI</td>\n",
       "        <td>K003</td>\n",
       "    </tr>\n",
       "</table>"
      ],
      "text/plain": [
       "[('GOILLON', 'Jérôme', 'Arts', 'G003'),\n",
       " ('DROPLIT', 'Gisèle', 'Arts', 'G003'),\n",
       " ('DISRUT', 'Nora', 'Hist-Geo', 'M202'),\n",
       " ('NOUILLE', 'Gilles', 'Hist-Geo', 'M202'),\n",
       " ('GOILLON', 'Jérôme', 'Math', 'I202'),\n",
       " ('ELAN', 'Jérôme', 'Math', 'I202'),\n",
       " ('FINUSSON', 'Oscar', 'Math', 'I202'),\n",
       " ('CHICAGO', 'Thierry', 'Math', 'I202'),\n",
       " ('DISRUT', 'Nora', 'Math', 'I202'),\n",
       " ('HELIES', 'Alice', 'NSI', 'K203'),\n",
       " ('ELAN', 'Jérôme', 'NSI', 'K203'),\n",
       " ('GARILLO', 'isidore', 'NSI', 'K203'),\n",
       " ('FINUSSON', 'Oscar', 'NSI', 'K203'),\n",
       " ('CHICAGO', 'Thierry', 'NSI', 'K203'),\n",
       " ('NOUILLE', 'Gilles', 'SES', 'M301'),\n",
       " ('HELIES', 'Alice', 'SI', 'K003'),\n",
       " ('GARILLO', 'isidore', 'SI', 'K003'),\n",
       " ('DROPLIT', 'Gisèle', 'SI', 'K003')]"
      ]
     },
     "execution_count": 54,
     "metadata": {},
     "output_type": "execute_result"
    }
   ],
   "source": [
    "%%sql sqlite:///specialites.db\n",
    "    /* 2 - V OFF */\n",
    "SELECT nom_el,prenom_el, nom_groupe, nom_salle \n",
    "FROM eleves \n",
    "JOIN forme ON eleves.id_eleve=forme.id_eleve \n",
    "JOIN groupes ON forme.id_groupe=groupes.id_groupe \n",
    "ORDER BY nom_groupe;"
   ]
  },
  {
   "cell_type": "code",
   "execution_count": 55,
   "metadata": {
    "ExecuteTime": {
     "end_time": "2021-12-08T08:42:50.412908Z",
     "start_time": "2021-12-08T08:42:50.400687Z"
    }
   },
   "outputs": [
    {
     "name": "stdout",
     "output_type": "stream",
     "text": [
      "Done.\n"
     ]
    },
    {
     "data": {
      "text/html": [
       "<table>\n",
       "    <tr>\n",
       "        <th>nom_el</th>\n",
       "        <th>prenom_el</th>\n",
       "        <th>nom_groupe</th>\n",
       "        <th>nom_salle</th>\n",
       "    </tr>\n",
       "    <tr>\n",
       "        <td>GOILLON</td>\n",
       "        <td>Jérôme</td>\n",
       "        <td>Arts</td>\n",
       "        <td>G003</td>\n",
       "    </tr>\n",
       "    <tr>\n",
       "        <td>DROPLIT</td>\n",
       "        <td>Gisèle</td>\n",
       "        <td>Arts</td>\n",
       "        <td>G003</td>\n",
       "    </tr>\n",
       "    <tr>\n",
       "        <td>DISRUT</td>\n",
       "        <td>Nora</td>\n",
       "        <td>Hist-Geo</td>\n",
       "        <td>M202</td>\n",
       "    </tr>\n",
       "    <tr>\n",
       "        <td>NOUILLE</td>\n",
       "        <td>Gilles</td>\n",
       "        <td>Hist-Geo</td>\n",
       "        <td>M202</td>\n",
       "    </tr>\n",
       "    <tr>\n",
       "        <td>GOILLON</td>\n",
       "        <td>Jérôme</td>\n",
       "        <td>Math</td>\n",
       "        <td>I202</td>\n",
       "    </tr>\n",
       "    <tr>\n",
       "        <td>ELAN</td>\n",
       "        <td>Jérôme</td>\n",
       "        <td>Math</td>\n",
       "        <td>I202</td>\n",
       "    </tr>\n",
       "    <tr>\n",
       "        <td>FINUSSON</td>\n",
       "        <td>Oscar</td>\n",
       "        <td>Math</td>\n",
       "        <td>I202</td>\n",
       "    </tr>\n",
       "    <tr>\n",
       "        <td>CHICAGO</td>\n",
       "        <td>Thierry</td>\n",
       "        <td>Math</td>\n",
       "        <td>I202</td>\n",
       "    </tr>\n",
       "    <tr>\n",
       "        <td>DISRUT</td>\n",
       "        <td>Nora</td>\n",
       "        <td>Math</td>\n",
       "        <td>I202</td>\n",
       "    </tr>\n",
       "    <tr>\n",
       "        <td>HELIES</td>\n",
       "        <td>Alice</td>\n",
       "        <td>NSI</td>\n",
       "        <td>K203</td>\n",
       "    </tr>\n",
       "    <tr>\n",
       "        <td>ELAN</td>\n",
       "        <td>Jérôme</td>\n",
       "        <td>NSI</td>\n",
       "        <td>K203</td>\n",
       "    </tr>\n",
       "    <tr>\n",
       "        <td>GARILLO</td>\n",
       "        <td>isidore</td>\n",
       "        <td>NSI</td>\n",
       "        <td>K203</td>\n",
       "    </tr>\n",
       "    <tr>\n",
       "        <td>FINUSSON</td>\n",
       "        <td>Oscar</td>\n",
       "        <td>NSI</td>\n",
       "        <td>K203</td>\n",
       "    </tr>\n",
       "    <tr>\n",
       "        <td>CHICAGO</td>\n",
       "        <td>Thierry</td>\n",
       "        <td>NSI</td>\n",
       "        <td>K203</td>\n",
       "    </tr>\n",
       "    <tr>\n",
       "        <td>NOUILLE</td>\n",
       "        <td>Gilles</td>\n",
       "        <td>SES</td>\n",
       "        <td>M301</td>\n",
       "    </tr>\n",
       "    <tr>\n",
       "        <td>HELIES</td>\n",
       "        <td>Alice</td>\n",
       "        <td>SI</td>\n",
       "        <td>K003</td>\n",
       "    </tr>\n",
       "    <tr>\n",
       "        <td>GARILLO</td>\n",
       "        <td>isidore</td>\n",
       "        <td>SI</td>\n",
       "        <td>K003</td>\n",
       "    </tr>\n",
       "    <tr>\n",
       "        <td>DROPLIT</td>\n",
       "        <td>Gisèle</td>\n",
       "        <td>SI</td>\n",
       "        <td>K003</td>\n",
       "    </tr>\n",
       "</table>"
      ],
      "text/plain": [
       "[('GOILLON', 'Jérôme', 'Arts', 'G003'),\n",
       " ('DROPLIT', 'Gisèle', 'Arts', 'G003'),\n",
       " ('DISRUT', 'Nora', 'Hist-Geo', 'M202'),\n",
       " ('NOUILLE', 'Gilles', 'Hist-Geo', 'M202'),\n",
       " ('GOILLON', 'Jérôme', 'Math', 'I202'),\n",
       " ('ELAN', 'Jérôme', 'Math', 'I202'),\n",
       " ('FINUSSON', 'Oscar', 'Math', 'I202'),\n",
       " ('CHICAGO', 'Thierry', 'Math', 'I202'),\n",
       " ('DISRUT', 'Nora', 'Math', 'I202'),\n",
       " ('HELIES', 'Alice', 'NSI', 'K203'),\n",
       " ('ELAN', 'Jérôme', 'NSI', 'K203'),\n",
       " ('GARILLO', 'isidore', 'NSI', 'K203'),\n",
       " ('FINUSSON', 'Oscar', 'NSI', 'K203'),\n",
       " ('CHICAGO', 'Thierry', 'NSI', 'K203'),\n",
       " ('NOUILLE', 'Gilles', 'SES', 'M301'),\n",
       " ('HELIES', 'Alice', 'SI', 'K003'),\n",
       " ('GARILLO', 'isidore', 'SI', 'K003'),\n",
       " ('DROPLIT', 'Gisèle', 'SI', 'K003')]"
      ]
     },
     "execution_count": 55,
     "metadata": {},
     "output_type": "execute_result"
    }
   ],
   "source": [
    "%%sql sqlite:///specialites.db\n",
    "    /* 2 - V NON OFF AVEC ALIASES */\n",
    "SELECT nom_el,prenom_el, nom_groupe, nom_salle \n",
    "FROM eleves AS e\n",
    "JOIN forme AS f ON e.id_eleve=f.id_eleve \n",
    "JOIN groupes AS g ON f.id_groupe=g.id_groupe \n",
    "ORDER BY nom_groupe;"
   ]
  },
  {
   "cell_type": "code",
   "execution_count": 39,
   "metadata": {
    "ExecuteTime": {
     "end_time": "2021-12-08T08:22:07.404681Z",
     "start_time": "2021-12-08T08:22:07.394327Z"
    }
   },
   "outputs": [
    {
     "name": "stdout",
     "output_type": "stream",
     "text": [
      "Done.\n"
     ]
    },
    {
     "data": {
      "text/html": [
       "<table>\n",
       "    <tr>\n",
       "        <th>nom_groupe</th>\n",
       "        <th>nom_salle</th>\n",
       "        <th>nom_ens</th>\n",
       "        <th>prenom_ens</th>\n",
       "    </tr>\n",
       "    <tr>\n",
       "        <td>NSI</td>\n",
       "        <td>K203</td>\n",
       "        <td>DURANT</td>\n",
       "        <td>Pierre</td>\n",
       "    </tr>\n",
       "    <tr>\n",
       "        <td>Math</td>\n",
       "        <td>I202</td>\n",
       "        <td>NOAES</td>\n",
       "        <td>Gisèle</td>\n",
       "    </tr>\n",
       "    <tr>\n",
       "        <td>SI</td>\n",
       "        <td>K003</td>\n",
       "        <td>DUPOND</td>\n",
       "        <td>Thierry</td>\n",
       "    </tr>\n",
       "    <tr>\n",
       "        <td>SES</td>\n",
       "        <td>M301</td>\n",
       "        <td>DURANT</td>\n",
       "        <td>Pierre</td>\n",
       "    </tr>\n",
       "    <tr>\n",
       "        <td>Hist-Geo</td>\n",
       "        <td>M202</td>\n",
       "        <td>EXCES</td>\n",
       "        <td>Carole</td>\n",
       "    </tr>\n",
       "    <tr>\n",
       "        <td>Arts</td>\n",
       "        <td>G003</td>\n",
       "        <td>STEFAN</td>\n",
       "        <td>Stéphane</td>\n",
       "    </tr>\n",
       "</table>"
      ],
      "text/plain": [
       "[('NSI', 'K203', 'DURANT', 'Pierre'),\n",
       " ('Math', 'I202', 'NOAES', 'Gisèle'),\n",
       " ('SI', 'K003', 'DUPOND', 'Thierry'),\n",
       " ('SES', 'M301', 'DURANT', 'Pierre'),\n",
       " ('Hist-Geo', 'M202', 'EXCES', 'Carole'),\n",
       " ('Arts', 'G003', 'STEFAN', 'Stéphane')]"
      ]
     },
     "execution_count": 39,
     "metadata": {},
     "output_type": "execute_result"
    }
   ],
   "source": [
    "%%sql sqlite:///specialites.db\n",
    "SELECT nom_groupe, nom_salle, nom_ens, prenom_ens FROM groupes\n",
    "JOIN enseignants ON groupes.id_enseignant=enseignants.id_ens"
   ]
  },
  {
   "cell_type": "code",
   "execution_count": 37,
   "metadata": {
    "ExecuteTime": {
     "end_time": "2021-12-08T08:19:42.539016Z",
     "start_time": "2021-12-08T08:19:42.529929Z"
    }
   },
   "outputs": [
    {
     "name": "stdout",
     "output_type": "stream",
     "text": [
      "Done.\n"
     ]
    },
    {
     "data": {
      "text/html": [
       "<table>\n",
       "    <tr>\n",
       "        <th>id_ens</th>\n",
       "        <th>nom_ens</th>\n",
       "        <th>prenom_ens</th>\n",
       "        <th>sp1_ens</th>\n",
       "        <th>sp2_ens</th>\n",
       "    </tr>\n",
       "    <tr>\n",
       "        <td>1</td>\n",
       "        <td>DURANT</td>\n",
       "        <td>Pierre</td>\n",
       "        <td>SES</td>\n",
       "        <td>NSI</td>\n",
       "    </tr>\n",
       "    <tr>\n",
       "        <td>2</td>\n",
       "        <td>DUPOND</td>\n",
       "        <td>Thierry</td>\n",
       "        <td>SES</td>\n",
       "        <td>SI</td>\n",
       "    </tr>\n",
       "    <tr>\n",
       "        <td>3</td>\n",
       "        <td>NOAES</td>\n",
       "        <td>Gisèle</td>\n",
       "        <td>SI</td>\n",
       "        <td>Math</td>\n",
       "    </tr>\n",
       "    <tr>\n",
       "        <td>4</td>\n",
       "        <td>EXCES</td>\n",
       "        <td>Carole</td>\n",
       "        <td>Hist-Geo</td>\n",
       "        <td>Arts</td>\n",
       "    </tr>\n",
       "    <tr>\n",
       "        <td>5</td>\n",
       "        <td>STEFAN</td>\n",
       "        <td>Stéphane</td>\n",
       "        <td>Arts</td>\n",
       "        <td>LLCE</td>\n",
       "    </tr>\n",
       "</table>"
      ],
      "text/plain": [
       "[(1, 'DURANT', 'Pierre', 'SES', 'NSI'),\n",
       " (2, 'DUPOND', 'Thierry', 'SES', 'SI'),\n",
       " (3, 'NOAES', 'Gisèle', 'SI', 'Math'),\n",
       " (4, 'EXCES', 'Carole', 'Hist-Geo', 'Arts'),\n",
       " (5, 'STEFAN', 'Stéphane', 'Arts', 'LLCE')]"
      ]
     },
     "execution_count": 37,
     "metadata": {},
     "output_type": "execute_result"
    }
   ],
   "source": [
    "%%sql sqlite:///specialites.db\n",
    "SELECT * FROM enseignants;"
   ]
  },
  {
   "cell_type": "markdown",
   "metadata": {
    "ExecuteTime": {
     "end_time": "2021-12-08T08:23:29.272985Z",
     "start_time": "2021-12-08T08:23:29.265843Z"
    }
   },
   "source": [
    "Formuler une requête qui me fournisse la liste des élèves ayant pour spécialité 'NSI' et le nom de leur professeur."
   ]
  },
  {
   "cell_type": "code",
   "execution_count": 59,
   "metadata": {
    "ExecuteTime": {
     "end_time": "2021-12-08T08:48:37.995844Z",
     "start_time": "2021-12-08T08:48:37.984319Z"
    }
   },
   "outputs": [
    {
     "name": "stdout",
     "output_type": "stream",
     "text": [
      "Done.\n"
     ]
    },
    {
     "data": {
      "text/html": [
       "<table>\n",
       "    <tr>\n",
       "        <th>nom_el</th>\n",
       "        <th>prenom_el</th>\n",
       "        <th>nom_ens</th>\n",
       "        <th>prenom_ens</th>\n",
       "    </tr>\n",
       "    <tr>\n",
       "        <td>HELIES</td>\n",
       "        <td>Alice</td>\n",
       "        <td>DURANT</td>\n",
       "        <td>Pierre</td>\n",
       "    </tr>\n",
       "    <tr>\n",
       "        <td>ELAN</td>\n",
       "        <td>Jérôme</td>\n",
       "        <td>DURANT</td>\n",
       "        <td>Pierre</td>\n",
       "    </tr>\n",
       "    <tr>\n",
       "        <td>GARILLO</td>\n",
       "        <td>isidore</td>\n",
       "        <td>DURANT</td>\n",
       "        <td>Pierre</td>\n",
       "    </tr>\n",
       "    <tr>\n",
       "        <td>FINUSSON</td>\n",
       "        <td>Oscar</td>\n",
       "        <td>DURANT</td>\n",
       "        <td>Pierre</td>\n",
       "    </tr>\n",
       "    <tr>\n",
       "        <td>CHICAGO</td>\n",
       "        <td>Thierry</td>\n",
       "        <td>DURANT</td>\n",
       "        <td>Pierre</td>\n",
       "    </tr>\n",
       "</table>"
      ],
      "text/plain": [
       "[('HELIES', 'Alice', 'DURANT', 'Pierre'),\n",
       " ('ELAN', 'Jérôme', 'DURANT', 'Pierre'),\n",
       " ('GARILLO', 'isidore', 'DURANT', 'Pierre'),\n",
       " ('FINUSSON', 'Oscar', 'DURANT', 'Pierre'),\n",
       " ('CHICAGO', 'Thierry', 'DURANT', 'Pierre')]"
      ]
     },
     "execution_count": 59,
     "metadata": {},
     "output_type": "execute_result"
    }
   ],
   "source": [
    "%%sql sqlite:///specialites.db\n",
    "SELECT nom_el, prenom_el, nom_ens, prenom_ens FROM eleves\n",
    "JOIN forme ON eleves.id_eleve = forme.id_eleve\n",
    "JOIN groupes ON forme.id_groupe=groupes.id_groupe\n",
    "JOIN enseignants ON groupes.id_enseignant=enseignants.id_ens\n",
    "WHERE nom_groupe='NSI' --sp1 = 'NSI' OR sp2='NSI') AND (sp1_ens='NSI' OR sp2_ens='NSI') "
   ]
  },
  {
   "cell_type": "markdown",
   "metadata": {},
   "source": [
    "### 6- Récupération de données en Open Data"
   ]
  },
  {
   "cell_type": "markdown",
   "metadata": {},
   "source": [
    "<div class=\"alert alert-success\">\n",
    "\n",
    "La saisie de données reste le point laborieux. Il existe sur Internet des jeux de données disponibles mise à la disposition de tous. C'est l'Opendata.\n",
    "    \n",
    "L'année dernière, lors de la séquence \"Données en table\", nous avons abordé ces notions et également le format de fichiers nommmé \"CSV\".\n",
    "    \n",
    "Nous allons ici utiliser des données issues de la métropole brestoise au format CSV. Grâce à une fonction qui va lire ce fichier, nous allons peupler une base de données. Nous pourrons ainsi manipuler une quantité de données importante plus significative d'une base réelle.\n",
    "    \n",
    "Quelques sites : \n",
    "\n",
    "https://www.data.gouv.fr/fr/organizations/brest-metropole-oceane/\n",
    "\n",
    "https://opendata.finistere.fr/explore/?sort=modified\n",
    "\n",
    "https://www.data.gouv.fr/fr/\n",
    "<div>"
   ]
  },
  {
   "cell_type": "markdown",
   "metadata": {},
   "source": [
    "<div class=\"alert alert-warning\">\n",
    "<img src=\"Images/CR.png\" alt=\"logo CR\" width=5% align=right>\n",
    "\n",
    "- En suivant le premier ce lien : https://www.data.gouv.fr/fr/organizations/brest-metropole-oceane/, télécharger la liste des arrêts et horaires des bus et tramways ;\n",
    "- Décompresser le fichier, vous y trouverez le fichier 'stops.txt' qui est au format CSV ;\n",
    "- En reprenant vos documents de l'année dernière, créer une fonction qui lit ce fichier ;\n",
    "- En s'inspirant des exemples en python fournis plus haut, créer une base de donnees 'transports.db' et une table 'arrets' ;\n",
    "- Créer une fonction qui alimente la table 'arret' avec les données du fichier 'stops.txt';\n",
    "- Créer une fonction qui renvoie les coordonnées GPS de l'arrêt lors que l'on lui passe en argument, le nom de l'arrêt.\n",
    "- Créer une fonction qui renvoie le nombre d'arrêts avec accès pour fauteuil roulant.\n",
    "<div>"
   ]
  },
  {
   "cell_type": "code",
   "execution_count": 49,
   "metadata": {
    "ExecuteTime": {
     "end_time": "2021-12-15T08:43:04.574695Z",
     "start_time": "2021-12-15T08:43:04.546744Z"
    }
   },
   "outputs": [
    {
     "name": "stdout",
     "output_type": "stream",
     "text": [
      "[(48.40994, -4.485379), (48.409554, -4.485374), (48.410255, -4.485921)]\n",
      "763\n"
     ]
    }
   ],
   "source": [
    "import csv\n",
    "import sqlite3\n",
    "\n",
    "def lire_fichier():\n",
    "    \"\"\"\n",
    "    Lecture du fichiers stops.txt du dossier BIBUS\n",
    "    Renvoie les différentes lignes sous forme de liste\n",
    "    \"\"\"\n",
    "    liste=[]\n",
    "    with open('BIBUS/stops.txt') as f:\n",
    "        lire=csv.reader(f, delimiter=',')\n",
    "        for ligne in lire:\n",
    "            liste.append(ligne)\n",
    "    return liste\n",
    "\n",
    "def execode():\n",
    "    \"\"\"\n",
    "    Exécution de code SQL\n",
    "    Ici, la méthode crée la table arrets si elle n'existe pas\n",
    "    \"\"\"\n",
    "    connexion = sqlite3.connect('transports.db')\n",
    "    curseur=connexion.cursor()\n",
    "    curseur.executescript(\n",
    "    \"\"\"\n",
    "    CREATE TABLE IF NOT EXISTS arrets(\n",
    "    stop_id TEXT PRIMARY KEY NOT NULL,\n",
    "    stop_name TEXT,\n",
    "    stop_lat REAL,\n",
    "    stop_lon REAL,\n",
    "    wheelchair_boarding INT\n",
    "    )\n",
    "    \"\"\")\n",
    "    connexion.commit() #Sauvegarde des changements\n",
    "    connexion.close() #Fermeture de la DB\n",
    "    \n",
    "def connect(db):\n",
    "    \"\"\"\n",
    "    Connexion à la DB passée en paramètre\n",
    "    Renvoie la connexion et le curseur, utile pour les manipulations\n",
    "    \"\"\"\n",
    "    connexion = sqlite3.connect(f'{db}.db')\n",
    "    curseur=connexion.cursor()\n",
    "    return connexion, curseur\n",
    "\n",
    "def inputall(liste):\n",
    "    \"\"\"\n",
    "    Ajout de tous les éléments à la DB\n",
    "    A n'exécuter qu'une fois\n",
    "    \"\"\"\n",
    "    connexion, curseur=connect(\"transports\")\n",
    "    liste.pop(0) #Suppression du 1er élément, correspondant aux attributs\n",
    "    for elt in liste:\n",
    "        curseur.execute(\n",
    "            \"\"\"INSERT INTO arrets (stop_id, stop_name, stop_lat, stop_lon, wheelchair_boarding) \n",
    "            VALUES (?,?,?,?,?)\"\"\",elt)\n",
    "        connexion.commit()\n",
    "    connexion.close()\n",
    "\n",
    "def selectall():\n",
    "    \"\"\"\n",
    "    Selection de l'entièreté de la DB\n",
    "    \"\"\"\n",
    "    connexion, curseur=connect(\"transports\")\n",
    "    curseur.execute(\"SELECT * FROM arrets\")\n",
    "    rows = curseur.fetchall()\n",
    "    connexion.close()    \n",
    "    return rows\n",
    "\n",
    "def GPS(arret):\n",
    "    \"\"\"\n",
    "    Renvoie les coordonnées GPS lat et long de l'arret passé en paramètre\n",
    "    \"\"\"\n",
    "    connexion, curseur=connect(\"transports\")\n",
    "    curseur.execute(\"SELECT stop_lat, stop_lon FROM arrets WHERE stop_name=?\", [arret])\n",
    "    rows = curseur.fetchall()\n",
    "    connexion.close()\n",
    "    return rows\n",
    "\n",
    "def accesPMR():\n",
    "    \"\"\"\n",
    "    Renvoie le nombre d'arret (count) possédant un accès PMR\n",
    "    \"\"\"\n",
    "    connexion, curseur=connect(\"transports\")\n",
    "    curseur.execute(\"SELECT count(wheelchair_boarding) FROM arrets WHERE wheelchair_boarding=1\")\n",
    "    row = curseur.fetchone()\n",
    "    connexion.close()\n",
    "    return row[0]\n",
    "        \n",
    "    \n",
    "#Programme principal\n",
    "if __name__=='__main__':\n",
    "    liste=lire_fichier()\n",
    "    execode()\n",
    "    #inputall(liste)\n",
    "    selectall()\n",
    "    print(GPS('Mirabeau'))\n",
    "    print(accesPMR())"
   ]
  },
  {
   "cell_type": "code",
   "execution_count": null,
   "metadata": {},
   "outputs": [],
   "source": []
  }
 ],
 "metadata": {
  "hide_input": false,
  "kernelspec": {
   "display_name": "Python 3",
   "language": "python",
   "name": "python3"
  },
  "language_info": {
   "codemirror_mode": {
    "name": "ipython",
    "version": 3
   },
   "file_extension": ".py",
   "mimetype": "text/x-python",
   "name": "python",
   "nbconvert_exporter": "python",
   "pygments_lexer": "ipython3",
   "version": "3.6.10"
  },
  "latex_envs": {
   "LaTeX_envs_menu_present": true,
   "autoclose": false,
   "autocomplete": true,
   "bibliofile": "biblio.bib",
   "cite_by": "apalike",
   "current_citInitial": 1,
   "eqLabelWithNumbers": true,
   "eqNumInitial": 1,
   "hotkeys": {
    "equation": "Ctrl-E",
    "itemize": "Ctrl-I"
   },
   "labels_anchors": false,
   "latex_user_defs": false,
   "report_style_numbering": false,
   "user_envs_cfg": false
  },
  "nbTranslate": {
   "displayLangs": [
    "*"
   ],
   "hotkey": "alt-t",
   "langInMainMenu": true,
   "sourceLang": "en",
   "targetLang": "fr",
   "useGoogleTranslate": true
  },
  "toc": {
   "base_numbering": 1,
   "nav_menu": {},
   "number_sections": true,
   "sideBar": true,
   "skip_h1_title": false,
   "title_cell": "Table of Contents",
   "title_sidebar": "Contents",
   "toc_cell": false,
   "toc_position": {},
   "toc_section_display": true,
   "toc_window_display": false
  },
  "varInspector": {
   "cols": {
    "lenName": 16,
    "lenType": 16,
    "lenVar": 40
   },
   "kernels_config": {
    "python": {
     "delete_cmd_postfix": "",
     "delete_cmd_prefix": "del ",
     "library": "var_list.py",
     "varRefreshCmd": "print(var_dic_list())"
    },
    "r": {
     "delete_cmd_postfix": ") ",
     "delete_cmd_prefix": "rm(",
     "library": "var_list.r",
     "varRefreshCmd": "cat(var_dic_list()) "
    }
   },
   "types_to_exclude": [
    "module",
    "function",
    "builtin_function_or_method",
    "instance",
    "_Feature"
   ],
   "window_display": false
  }
 },
 "nbformat": 4,
 "nbformat_minor": 2
}
