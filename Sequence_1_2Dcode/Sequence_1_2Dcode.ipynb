{
 "cells": [
  {
   "cell_type": "markdown",
   "metadata": {},
   "source": [
    "# <center><font face=\"arial\" size=\"5\" color=#0101DF>NUMERIQUE ET SCIENCES INFORMATIQUES 1ère NSI</font></center>"
   ]
  },
  {
   "cell_type": "markdown",
   "metadata": {},
   "source": [
    "## <font color=#013ADF>Séquence N° 1 : Projet 2D code</font>"
   ]
  },
  {
   "cell_type": "markdown",
   "metadata": {},
   "source": [
    "## Problématique<a name=\"M0\"></a>"
   ]
  },
  {
   "cell_type": "markdown",
   "metadata": {},
   "source": [
    "Pour anonymer les copies lors de l'organisation de concours et/ou examens, on souhaite générer un 2D code élémentaire   qui contiendra le nom et le prénom du candidat. Lors d'un concours, le candidat apposera sur ses copies, un sticker contenant le 2D code à la place de décliner son identité.\n",
    "\n",
    "On a confié à votre équipe le développement de l’application qui générera ce 2D code. Il s'agit d'une version très simplifiée des QR codes. (https://fr.wikipedia.org/wiki/Code_QR)\n",
    "\n",
    "En entrée : le nom et le prénom de l’élève (chaque mot commence par une lettre majuscule);\n",
    "\n",
    "En sortie : un 2D code (matrice de carrés noir ou blanc) codant le nom et le prénom."
   ]
  },
  {
   "cell_type": "markdown",
   "metadata": {},
   "source": [
    "*Par exemple : Jourdain Bruno donnerait* ![2Dcode](Images/2d_code.jpeg)"
   ]
  },
  {
   "cell_type": "markdown",
   "metadata": {},
   "source": [
    ">La succession de carrés blancs ou noirs semble indiquer l'utilisation d'un codage binaire (2 choix seulement). Ce codage est utilisé par les ordinateurs puisque les composants électroniques logiques élémentaires qui les composent, ne savent manipuler que cela : présence ou non d'un signal."
   ]
  },
  {
   "cell_type": "code",
   "execution_count": null,
   "metadata": {},
   "outputs": [],
   "source": [
    "#Votre application ici"
   ]
  }
 ],
 "metadata": {
  "kernelspec": {
   "display_name": "Python 3",
   "language": "python",
   "name": "python3"
  },
  "language_info": {
   "codemirror_mode": {
    "name": "ipython",
    "version": 3
   },
   "file_extension": ".py",
   "mimetype": "text/x-python",
   "name": "python",
   "nbconvert_exporter": "python",
   "pygments_lexer": "ipython3",
   "version": "3.6.10"
  },
  "varInspector": {
   "cols": {
    "lenName": 16,
    "lenType": 16,
    "lenVar": 40
   },
   "kernels_config": {
    "python": {
     "delete_cmd_postfix": "",
     "delete_cmd_prefix": "del ",
     "library": "var_list.py",
     "varRefreshCmd": "print(var_dic_list())"
    },
    "r": {
     "delete_cmd_postfix": ") ",
     "delete_cmd_prefix": "rm(",
     "library": "var_list.r",
     "varRefreshCmd": "cat(var_dic_list()) "
    }
   },
   "position": {
    "height": "272.85px",
    "left": "1062.5px",
    "right": "32px",
    "top": "104px",
    "width": "345.5px"
   },
   "types_to_exclude": [
    "module",
    "function",
    "builtin_function_or_method",
    "instance",
    "_Feature"
   ],
   "window_display": false
  }
 },
 "nbformat": 4,
 "nbformat_minor": 2
}
