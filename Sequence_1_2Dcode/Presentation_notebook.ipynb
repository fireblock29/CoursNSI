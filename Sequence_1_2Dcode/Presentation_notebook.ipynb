{
 "cells": [
  {
   "cell_type": "markdown",
   "metadata": {},
   "source": [
    "# <center><font face=\"arial\" size=\"5\" color=#0101DF>NUMERIQUE ET SCIENCES INFORMATIQUES 1ère NSI</font></center>"
   ]
  },
  {
   "cell_type": "markdown",
   "metadata": {},
   "source": [
    "# <font color=#013ADF>Présentation de Jupyter notebook</font>"
   ]
  },
  {
   "cell_type": "markdown",
   "metadata": {},
   "source": [
    ">Ce document a pour objectif de vous faire rapidement explorer les **fonctionnalités de base** de l'interpréteur interactif **jupyter** en mode **Notebook**.\n",
    "\n",
    "Mais tout d'abord **félicitations** d'être déjà parvenu à ouvrir ce notebook !\n",
    "\n",
    "***"
   ]
  },
  {
   "cell_type": "markdown",
   "metadata": {},
   "source": [
    "### Édition et exécution d'une cellule de code"
   ]
  },
  {
   "cell_type": "markdown",
   "metadata": {},
   "source": [
    "\n",
    "Un notebook jupyter consiste en **cellules** individuelles pouvant contenir du **code** Python, du **texte** (avec formatage Markdown, HTML et LaTeX) ou des **graphiques**. Commençons par les cellules de type Code.\n",
    "\n",
    "**1)** Placez le curseur dans la 1ère cellule **Entrée[ ]:** ci-dessous puis frappez `<enter>`. Que se passe-t-il ? Rien d'autre que l'insertion d'un saut de ligne... C'est normal, car dans une cellule de type \"Code\" (c'est-à-dire préfixée par **Entrée[ ]:**) on est par défaut en mode **édition de code** Python !\n",
    "\n",
    "\n",
    "Pour **exécuter le code** Python d'une cellule, il faut en effet frapper `<maj-enter>` (ou cliquer sur le bouton <button class='fa fa-step-forward icon-step-forward'></button>, ou encore utiliser le menu `Cellule>Exécuter les cellules...`). Essayez !"
   ]
  },
  {
   "cell_type": "code",
   "execution_count": 3,
   "metadata": {},
   "outputs": [
    {
     "data": {
      "text/plain": [
       "51"
      ]
     },
     "execution_count": 3,
     "metadata": {},
     "output_type": "execute_result"
    }
   ],
   "source": [
    "12 + 39"
   ]
  },
  {
   "cell_type": "code",
   "execution_count": 2,
   "metadata": {},
   "outputs": [
    {
     "data": {
      "text/plain": [
       "'Bienvenue en spécialité NSI !'"
      ]
     },
     "execution_count": 2,
     "metadata": {},
     "output_type": "execute_result"
    }
   ],
   "source": [
    "\"Bienvenue en spécialité NSI !\""
   ]
  },
  {
   "cell_type": "markdown",
   "metadata": {},
   "source": [
    "Une ligne **Out[ ]:** devrait être apparue en dessous de la 1ère expression, affichant le résultat de celle-ci ! Le curseur est alors automatiquement passé dans la cellule d'en-dessous que vous pouvez exécuter à son tour.\n",
    "\n",
    "*Notez qu'il est aussi possible de frapper  `<ctrl-enter>`. Dans ce cas, le curseur **reste dans la cellule** après l'exécution du code.*"
   ]
  },
  {
   "cell_type": "markdown",
   "metadata": {},
   "source": [
    "**2)** Exécutez maintenant le code de la cellule ci-dessous."
   ]
  },
  {
   "cell_type": "code",
   "execution_count": 16,
   "metadata": {},
   "outputs": [
    {
     "name": "stdout",
     "output_type": "stream",
     "text": [
      "La somme de ces 2 nombres vaut : 16\n"
     ]
    }
   ],
   "source": [
    "a, b = 6, 10      # affectation simultanée de 2 variables\n",
    "print('La somme de ces 2 nombres vaut :', a + b)"
   ]
  },
  {
   "cell_type": "markdown",
   "metadata": {},
   "source": [
    "Remarquez que l'exécution du code ci-dessus n'a retourné aucune valeur. Il n'y a pas de prompt Out[ ]. "
   ]
  },
  {
   "cell_type": "markdown",
   "metadata": {},
   "source": [
    "**3)** Peut-on **modifier le code** d'une cellule puis le **ré-exécuter** ? Bien sûr !  \n",
    "Expérimentez cela dans la cellule ci-dessus en modifiant la valeur des variables a et b, puis frappez à nouveau `<maj-enter>`"
   ]
  },
  {
   "cell_type": "markdown",
   "metadata": {},
   "source": [
    "### Création et destruction de cellules de code"
   ]
  },
  {
   "cell_type": "markdown",
   "metadata": {},
   "source": [
    "**4)** Comment puis-je créer **mes propres cellules** de code ?\n",
    "\n",
    "- sélectionnez d'abord la cellule juste au-dessus de l'emplacement où vous désirez insérer votre propre cellule  \n",
    "- puis cliquez sur le bouton <button class='fa fa-plus icon-plus btn btn-xs btn-default'></button> ou utiliser le menu."
   ]
  },
  {
   "cell_type": "markdown",
   "metadata": {},
   "source": [
    "Exercez-vous en créant, juste en-dessous de la présente cellule, une nouvelle cellule. "
   ]
  },
  {
   "cell_type": "markdown",
   "metadata": {},
   "source": [
    "Insérez-y l'instruction :\n",
    "\n",
    "    print('Ma première cellule !')\n",
    "\n",
    "puis exécutez le code de cette cellule."
   ]
  },
  {
   "cell_type": "markdown",
   "metadata": {},
   "source": [
    "**5)** Pour détruire une cellule, sélectionnez-la puis cliquez sur le bouton <button class='fa fa-cut icon-cut btn  btn-xs btn-default'></button> (ou au menu). Exercez-vous en détruisant la cellule ci-dessous. Puis rétablissez-la (allez voir dans le menu Édition)"
   ]
  },
  {
   "cell_type": "markdown",
   "metadata": {},
   "source": [
    "### Création de cellules de texte"
   ]
  },
  {
   "cell_type": "markdown",
   "metadata": {},
   "source": [
    "Il existe 2 types de cellules de texte, selon le choix effectué à l'aide du menu déroulant (Code par défaut) :\n",
    "- **Texte brut NBConvert** (texte) : cellules de texte sans aucun formatage, directement éditables sans devoir _double-cliquer_ dedans ;\n",
    "- **Markdown** : cellules dans lesquelles le texte est soumis à un formatage selon la syntaxe Markdown ; les éventuelles balises HTML et le code LaTeX sont également interprétés...\n"
   ]
  },
  {
   "cell_type": "markdown",
   "metadata": {},
   "source": [
    "**6)** Créez juste ci-dessous une cellule de type **Raw NBConvert** (texte). Pour cela, créez une cellule par le procédé standard (elle sera donc de type Code), puis changez son type à l'aide du menu déroulant. Constatez que la cellule reste toujours en mode édition."
   ]
  },
  {
   "cell_type": "markdown",
   "metadata": {},
   "source": [
    "*S'agissant des cellules de texte au format **Markdown**, cela suppose quelques notions relatives au langage de balisage Markdown : en voici quelques unes.*\n",
    "\n",
    "<center><b>(cliquez moi, cliquez moi !)</b></center>\n",
    "\n",
    "# titre\n",
    "## sous-titre\n",
    "\n",
    "*italique* ou _italique_\n",
    "\n",
    "**gras**\n",
    "\n",
    ">citation : retrait à droite + barre verticale\n",
    "\n",
    "*,-,+ : liste non ordonnée\n",
    "\n",
    "1. : liste ordonnée\n",
    "\n",
    "*** ou — entouré d’un saut de ligne : filet de séparation\n",
    "\n",
    "\n",
    "< > : lien vers un URL\n",
    "\n",
    "![texte alternatif](URL vers image / ...) : image\n",
    "\n",
    "[![texte alternatif](URL vers image / ...)](URL lien) : image servant de lien\n",
    "\n",
    "*Il est même possible d'introduire du **code LaTeX** :*\n",
    "\n",
    "$$f(x) = x^2 - x^{1 \\over \\pi}$$\n",
    "\n",
    "et pour finir les exemples, une séparation :\n",
    "\n",
    "*** \n",
    "\n",
    "**7)** Créez juste ci-dessous une cellule de type **Markdown** et tentez quelques figures de style sur du texte."
   ]
  },
  {
   "cell_type": "markdown",
   "metadata": {},
   "source": [
    "[![test](https://image.shutterstock.com/image-photo/white-transparent-leaf-on-mirror-260nw-577160911.jpg)](https://google.com)"
   ]
  },
  {
   "cell_type": "markdown",
   "metadata": {},
   "source": [
    "$$f(x) = x^2 - x^{1 \\over \\pi}$$"
   ]
  },
  {
   "cell_type": "markdown",
   "metadata": {},
   "source": [
    "### Sauvegarder et imprimer un notebook"
   ]
  },
  {
   "cell_type": "markdown",
   "metadata": {},
   "source": [
    "**8)** Lorsque vous avez terminé de travailler dans un notebook, **n'oubliez pas de le sauvegarder** avec le bouton <button class='fa fa-save icon-save btn  btn-xs btn-default'></button> (ou au menu). Sachez que jupyter effectue par défaut des sauvegardes à intervalle régulier, et que `Fichier>Restaurer une sauvegarde` permet de revenir à un état enregistré."
   ]
  },
  {
   "cell_type": "markdown",
   "metadata": {},
   "source": [
    "### Pour terminer...\n",
    "\n",
    "*Mentionnons quelques autres fonctionnalités utiles :*"
   ]
  },
  {
   "cell_type": "markdown",
   "metadata": {},
   "source": [
    "- En mode édition, bordures vertes, lorsque le curseur est en début de ligne ou lorsque vous avez sélectionné du texte, l'appui sur la touche `<Tab>` indente les lignes correspondantes.\n",
    "- La touche `<ESC>` passe en mode commande, les bordures sont alors bleues. Notez bien que dans ce mode, certaines touches du clavier sont associées à des actions sur le notebook. Tenter de saisir du texte dans ce mode peut donc produire des effets inattendus.\n"
   ]
  },
  {
   "cell_type": "markdown",
   "metadata": {},
   "source": [
    "- Pour **créer vos propres notebooks**, utilisez le bouton `[Nouveau]` dans la première fenêtre \"jupyter Dashboard\", ou faites `Fichier>Nouveau Notebook` depuis n'importe quelle fenêtre de notebook, sélectionnez alors **Python 3**. N'oubliez ensuite pas de donner un nom de fichier à votre notebook en cliquant dans le champ \"Untitled\" au haut de la fenêtre du nouveau notebook\n",
    "- Pour **effacer tous les sorties [out]** d'un notebook, vous pouvez faire `Cellule>Toutes les sorties>Effacer`"
   ]
  },
  {
   "cell_type": "markdown",
   "metadata": {},
   "source": [
    ">**Voilà un petit tour d'horizon des possibilités de jupyter notebook. Je vous invite à naviguer dans le menu et à consulter l'aide si besoin.\n",
    "La majorité de nos travaux et vos compte-rendus seront rédigés sur des notebooks.**\n",
    "\n",
    "*Bien sûr, ce document peut servir d'exemple pour débuter.*"
   ]
  }
 ],
 "metadata": {
  "kernelspec": {
   "display_name": "Python 3",
   "language": "python",
   "name": "python3"
  },
  "language_info": {
   "codemirror_mode": {
    "name": "ipython",
    "version": 3
   },
   "file_extension": ".py",
   "mimetype": "text/x-python",
   "name": "python",
   "nbconvert_exporter": "python",
   "pygments_lexer": "ipython3",
   "version": "3.6.10"
  },
  "varInspector": {
   "cols": {
    "lenName": 16,
    "lenType": 16,
    "lenVar": 40
   },
   "kernels_config": {
    "python": {
     "delete_cmd_postfix": "",
     "delete_cmd_prefix": "del ",
     "library": "var_list.py",
     "varRefreshCmd": "print(var_dic_list())"
    },
    "r": {
     "delete_cmd_postfix": ") ",
     "delete_cmd_prefix": "rm(",
     "library": "var_list.r",
     "varRefreshCmd": "cat(var_dic_list()) "
    }
   },
   "types_to_exclude": [
    "module",
    "function",
    "builtin_function_or_method",
    "instance",
    "_Feature"
   ],
   "window_display": false
  }
 },
 "nbformat": 4,
 "nbformat_minor": 2
}
