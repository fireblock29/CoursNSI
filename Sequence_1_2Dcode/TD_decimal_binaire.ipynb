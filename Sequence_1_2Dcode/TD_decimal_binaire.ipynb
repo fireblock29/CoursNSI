{
 "cells": [
  {
   "cell_type": "markdown",
   "metadata": {},
   "source": [
    "# <center><font face=\"arial\" size=\"5\" color=#0101DF>NUMERIQUE ET SCIENCES INFORMATIQUES 1ère NSI</font></center>"
   ]
  },
  {
   "cell_type": "markdown",
   "metadata": {},
   "source": [
    "## <font color=#013ADF>TD de renforcement sur les conversions de bases 2 et 10 et les fonctions</font>"
   ]
  },
  {
   "cell_type": "markdown",
   "metadata": {},
   "source": [
    "**Problème 1 :** On vous demande de réaliser une fonction qui permette la conversion d'un mot **binaire en décimal**."
   ]
  },
  {
   "cell_type": "markdown",
   "metadata": {},
   "source": [
    "Avant de réaliser cette fonction, voici quelques instructions à analyser. La manipulation sur la variable s'appelle du \"slicing\"."
   ]
  },
  {
   "cell_type": "code",
   "execution_count": 1,
   "metadata": {},
   "outputs": [
    {
     "name": "stdout",
     "output_type": "stream",
     "text": [
      "hello\n"
     ]
    }
   ],
   "source": [
    "chaine=\"olleh\"\n",
    "chaine = chaine[::-1]\n",
    "print(chaine)"
   ]
  },
  {
   "cell_type": "code",
   "execution_count": 6,
   "metadata": {},
   "outputs": [],
   "source": [
    "# Fonction de conversion binaire -> decimal\n",
    "def bin2dec(bin):\n",
    "    decnum = 0\n",
    "    for i in bin:\n",
    "        decnum = decnum * 2 + int(i)\n",
    "    return decnum\n",
    "\n",
    "# Programme principal\n",
    "#nbr_binaire = input(\"Entrez le nombre binaire à convertir :\")\n",
    "#nbr_decimal=binaire_vers_decimal(nbr_binaire)\n",
    "#print(f'Le mot binaire {nbr_binaire} vaut en décimal {nbr_decimal}.')"
   ]
  },
  {
   "cell_type": "code",
   "execution_count": 13,
   "metadata": {},
   "outputs": [
    {
     "data": {
      "text/plain": [
       "10"
      ]
     },
     "execution_count": 13,
     "metadata": {},
     "output_type": "execute_result"
    }
   ],
   "source": [
    "bin2dec(\"0114\")"
   ]
  },
  {
   "cell_type": "code",
   "execution_count": 3,
   "metadata": {},
   "outputs": [],
   "source": [
    "#def bin2dec(b):\n",
    "#    b = str(b)\n",
    "#    nb = 0\n",
    "#    p = 0\n",
    "#    for i in b[::-1]:\n",
    "#        i = int(i)\n",
    "#        if i == 0:\n",
    "#            p+=1\n",
    "#        else:\n",
    "#            nb = nb+i**p\n",
    "#            p+=1\n",
    "#    return nb"
   ]
  },
  {
   "cell_type": "code",
   "execution_count": null,
   "metadata": {},
   "outputs": [],
   "source": [
    "\"\"\"\n",
    "fonction binaire (n):\n",
    "    Si n > 1\n",
    "        binaire(n//2)\n",
    "    finsi\n",
    "    afficher n%2, fin =\"\")\n",
    "fin fonction\n",
    "\n",
    "nb <- entrer un nb décimal\n",
    "binaire(nb)\n",
    "\n",
    "\"\"\""
   ]
  },
  {
   "cell_type": "code",
   "execution_count": 4,
   "metadata": {},
   "outputs": [
    {
     "data": {
      "text/plain": [
       "2"
      ]
     },
     "execution_count": 4,
     "metadata": {},
     "output_type": "execute_result"
    }
   ],
   "source": [
    "bin2dec(101)"
   ]
  },
  {
   "cell_type": "markdown",
   "metadata": {},
   "source": [
    "**Problème 2 :** On vous demande de réaliser une fonction qui permette la conversion d'un mot **decimal en binaire**, sans utiliser la fonction bin()."
   ]
  },
  {
   "cell_type": "code",
   "execution_count": 21,
   "metadata": {},
   "outputs": [
    {
     "name": "stdout",
     "output_type": "stream",
     "text": [
      "Entrez un nombre decimal: 13\n",
      "1101"
     ]
    }
   ],
   "source": [
    "#Fonction de conversion decimal -> binaire\n",
    "def dec2bin(nb):\n",
    "    \"\"\"\n",
    "    Fonction recevant en entrée un entier décimal et retournant la représentation de\n",
    "    ce nombre en binaire sous la forme d'une chaine de caractère.\n",
    "    équivalent.\n",
    "    Exemple :\n",
    "        Entrée : 13\n",
    "        Sortie : 1101\n",
    "    \"\"\"\n",
    "    int(nb)\n",
    "    if nb > 1:\n",
    "        dec2bin(nb // 2)\n",
    "    print (nb % 2, end='')\n",
    "\n",
    "\n",
    "#Programme principal\n",
    "# Demande à l'utilisateur d'entrer un nombre\n",
    "nb_dec = int(input(\"Entrez un nombre decimal: \"))\n",
    "nb_bin = dec2bin(nb_dec)\n",
    "#print(f'Le nombre décimal {nb_dec} vaut en binaire {nb_bin}.')"
   ]
  },
  {
   "cell_type": "code",
   "execution_count": 36,
   "metadata": {},
   "outputs": [
    {
     "name": "stdout",
     "output_type": "stream",
     "text": [
      "1110"
     ]
    }
   ],
   "source": [
    "dec2bin(14)"
   ]
  },
  {
   "cell_type": "code",
   "execution_count": 32,
   "metadata": {},
   "outputs": [
    {
     "name": "stdout",
     "output_type": "stream",
     "text": [
      "Entrez un nb : 1\n",
      "bin : 1 = dec 1\n"
     ]
    }
   ],
   "source": [
    "def bin2dec(mot):\n",
    "    nombre =0\n",
    "    j = 0\n",
    "    for i in list(mot[::-1]):\n",
    "        assert i == \"0\" or i ==\"1\", \"nb binaire : que 0 ou 1\"\n",
    "        nombre += int(i)*2**j\n",
    "        j+=1\n",
    "    return nombre\n",
    "\n",
    "nb_bin = input(\"Entrez un nb : \")\n",
    "nb_dec = bin2dec(nb_bin)\n",
    "print(f'bin : {nb_bin} = dec {nb_dec}')"
   ]
  },
  {
   "cell_type": "code",
   "execution_count": null,
   "metadata": {},
   "outputs": [],
   "source": [
    "\"\"\"\n",
    "fonc bin2dec mot\n",
    "    nombre <- 0\n",
    "    j <- 0\n",
    "    pour i dans la liste mot inversée\n",
    "        s'assurer que i est soit 1 soit 0, sinon afficher \"nb binaire : que 0 ou 1\"\n",
    "        nombre <- nombre + entier i * 2 ** j\n",
    "        j <- j+1\n",
    "    retourner nombre\n",
    "\n",
    "nb_bin <- entrer un nombre ?\n",
    "nb_dec <- bin2dec(nb_bin)\n",
    "afficher \"bin : {nb_bin} = dec {nb_dec}\"\n",
    "\"\"\""
   ]
  },
  {
   "cell_type": "code",
   "execution_count": 1,
   "metadata": {},
   "outputs": [
    {
     "name": "stdout",
     "output_type": "stream",
     "text": [
      "Entrez un nb decimal 0x45\n"
     ]
    },
    {
     "ename": "ValueError",
     "evalue": "invalid literal for int() with base 10: '0x45'",
     "output_type": "error",
     "traceback": [
      "\u001b[0;31m---------------------------------------------------------------------------\u001b[0m",
      "\u001b[0;31mValueError\u001b[0m                                Traceback (most recent call last)",
      "\u001b[0;32m<ipython-input-1-87f12e4ff3ba>\u001b[0m in \u001b[0;36m<module>\u001b[0;34m\u001b[0m\n\u001b[1;32m      8\u001b[0m     \u001b[0;32mreturn\u001b[0m \u001b[0mvaleur\u001b[0m\u001b[0;34m\u001b[0m\u001b[0;34m\u001b[0m\u001b[0m\n\u001b[1;32m      9\u001b[0m \u001b[0;34m\u001b[0m\u001b[0m\n\u001b[0;32m---> 10\u001b[0;31m \u001b[0mnb_dec\u001b[0m \u001b[0;34m=\u001b[0m \u001b[0mint\u001b[0m\u001b[0;34m(\u001b[0m\u001b[0minput\u001b[0m\u001b[0;34m(\u001b[0m\u001b[0;34m'Entrez un nb decimal '\u001b[0m\u001b[0;34m)\u001b[0m\u001b[0;34m)\u001b[0m\u001b[0;34m\u001b[0m\u001b[0;34m\u001b[0m\u001b[0m\n\u001b[0m\u001b[1;32m     11\u001b[0m \u001b[0mnb_bin\u001b[0m \u001b[0;34m=\u001b[0m \u001b[0mdec2bin\u001b[0m\u001b[0;34m(\u001b[0m\u001b[0mnb_dec\u001b[0m\u001b[0;34m)\u001b[0m\u001b[0;34m\u001b[0m\u001b[0;34m\u001b[0m\u001b[0m\n\u001b[1;32m     12\u001b[0m \u001b[0mprint\u001b[0m\u001b[0;34m(\u001b[0m\u001b[0;34mf'Le nb dec {nb_dec} vaut en binaire {nb_bin}'\u001b[0m\u001b[0;34m)\u001b[0m\u001b[0;34m\u001b[0m\u001b[0;34m\u001b[0m\u001b[0m\n",
      "\u001b[0;31mValueError\u001b[0m: invalid literal for int() with base 10: '0x45'"
     ]
    }
   ],
   "source": [
    "def dec2bin(nb:int)->str:\n",
    "    assert type(nb)==int, \"Ce n'est pas un nb entier\"\n",
    "    valeur=\"\"\n",
    "    while nb > 0:\n",
    "        valeur+=str(nb%2)\n",
    "        nb=nb//2\n",
    "    valeur=valeur[::-1]\n",
    "    return valeur\n",
    "\n",
    "nb_dec = int(input('Entrez un nb decimal '))\n",
    "nb_bin = dec2bin(nb_dec)\n",
    "print(f'Le nb dec {nb_dec} vaut en binaire {nb_bin}')\n"
   ]
  },
  {
   "cell_type": "code",
   "execution_count": null,
   "metadata": {},
   "outputs": [],
   "source": [
    "\"\"\"\n",
    "fonc dec2bin nb\n",
    "    valeur <- \"\"\n",
    "    tant que nb>0:\n",
    "        valeur <- valeur+str(nb%2)\n",
    "        nb <- nb//2\n",
    "    valeur = valeur[::-1]\n",
    "    retourner la valeur\n",
    "    \n",
    "nb_dec <- entrer un nombre ?\n",
    "nb_bin <- dec2bin(nb_dec)\n",
    "afficher \"dec : {nb_dec} = bin {nb_bin}\"\n",
    "\"\"\""
   ]
  },
  {
   "cell_type": "code",
   "execution_count": null,
   "metadata": {},
   "outputs": [],
   "source": []
  }
 ],
 "metadata": {
  "kernelspec": {
   "display_name": "Python 3",
   "language": "python",
   "name": "python3"
  },
  "language_info": {
   "codemirror_mode": {
    "name": "ipython",
    "version": 3
   },
   "file_extension": ".py",
   "mimetype": "text/x-python",
   "name": "python",
   "nbconvert_exporter": "python",
   "pygments_lexer": "ipython3",
   "version": "3.6.10"
  },
  "varInspector": {
   "cols": {
    "lenName": 16,
    "lenType": 16,
    "lenVar": 40
   },
   "kernels_config": {
    "python": {
     "delete_cmd_postfix": "",
     "delete_cmd_prefix": "del ",
     "library": "var_list.py",
     "varRefreshCmd": "print(var_dic_list())"
    },
    "r": {
     "delete_cmd_postfix": ") ",
     "delete_cmd_prefix": "rm(",
     "library": "var_list.r",
     "varRefreshCmd": "cat(var_dic_list()) "
    }
   },
   "types_to_exclude": [
    "module",
    "function",
    "builtin_function_or_method",
    "instance",
    "_Feature"
   ],
   "window_display": false
  }
 },
 "nbformat": 4,
 "nbformat_minor": 2
}
