{
 "cells": [
  {
   "cell_type": "markdown",
   "metadata": {},
   "source": [
    "# <center><font face=\"arial\" size=\"5\" color=#0101DF>NUMERIQUE ET SCIENCES INFORMATIQUES 1ère NSI</font></center>"
   ]
  },
  {
   "cell_type": "markdown",
   "metadata": {},
   "source": [
    "## <font color=#013ADF>TD encodage des caractères</font>"
   ]
  },
  {
   "cell_type": "markdown",
   "metadata": {},
   "source": [
    "### Défi 1 :"
   ]
  },
  {
   "cell_type": "markdown",
   "metadata": {},
   "source": [
    "Représenter en binaire le point de code des caractères \"a, à, α et ☯\" encodé en UTF-8."
   ]
  },
  {
   "cell_type": "markdown",
   "metadata": {},
   "source": [
    "<div class=\"alert alert-warning\">\n",
    "<img src=\"Images/CR.png\" alt=\"logo CR\" width=5% align=right>\n",
    "\n",
    "| Caractère| Point de code (hexa) | Codage binaire UTF-8  |\n",
    "| :--- |---:| ---:|\n",
    "|a| 0x61  |                |\n",
    "|à| 0xE0       |                |\n",
    "|α| 0x03B1       |                      |\n",
    "|☯| 0x262F       |                    |\n",
    "<div>"
   ]
  },
  {
   "cell_type": "raw",
   "metadata": {},
   "source": [
    "A   0x61 = 0110 et 0001\n",
    "    61 < 7F\n",
    "    Donc 1 octet\n",
    "    0110 0001\n",
    "    0x61\n",
    "\n",
    "à   0xE0\n",
    "    E = 14 = 1110 et 0 =0000\n",
    "    E0 > 7F\n",
    "    Donc 2 octets\n",
    "    11000011 10100000\n",
    "    0xC3A0\n",
    "    \n",
    "Alpha 0x3B1\n",
    "    3 = 0011\n",
    "    B = 1011\n",
    "    1 = 0001\n",
    "    03BI > 7F\n",
    "    Donc 2 octets\n",
    "    11001110 10110001\n",
    "    0xCEB1\n",
    "    \n",
    "Ying 0x262F\n",
    "Yang 262F > 7FF\n",
    "    2 = 0010\n",
    "    6 = 0110\n",
    "    2 = 0010\n",
    "    F = 1111\n",
    "    3 octets\n",
    "    11100010 10011000 10101111\n",
    "    0xE298AF\n",
    "    \n",
    "\n"
   ]
  },
  {
   "cell_type": "markdown",
   "metadata": {},
   "source": [
    "<div class=\"alert alert-success\" role=\"alert\">\n",
    "    \n",
    "Pour vérifier et/ou s'entraîner: <http://hapax.qc.ca/conversion.fr.html>\n",
    "<div>"
   ]
  },
  {
   "cell_type": "markdown",
   "metadata": {},
   "source": [
    "###  Défi 2 :"
   ]
  },
  {
   "cell_type": "markdown",
   "metadata": {},
   "source": [
    "<div class=\"alert alert-warning\">\n",
    "<img src=\"Images/CR.png\" alt=\"logo CR\" width=5% align=right>\n",
    "\n",
    "Écrire dans un fichier texte, la phrase suivante :  Depuis le passage à l'Euro (€), le coût de la vie a augmenté.\n",
    "\n",
    "Nous allons faire une radioscopie de ce fichier. Ouvrir le fichier sauvegardé précédemment avec un éditeur hexadécimal (<https://hexed.it/>) et visualiser l’encodage des caractères.\n",
    "\n",
    "- Quel est le point de code du caractère € ?\\\n",
    "    E2 82 AC\n",
    "- Comment est décodé le fichier si l'on choisit l'encodage ISO8859-1 ?\\\n",
    "    Les accents ne sont toujours pas correctement en place\n",
    "<div>"
   ]
  },
  {
   "cell_type": "code",
   "execution_count": 48,
   "metadata": {},
   "outputs": [
    {
     "data": {
      "text/plain": [
       "68"
      ]
     },
     "execution_count": 48,
     "metadata": {},
     "output_type": "execute_result"
    }
   ],
   "source": [
    "ord('D')"
   ]
  },
  {
   "cell_type": "code",
   "execution_count": 42,
   "metadata": {},
   "outputs": [
    {
     "data": {
      "text/plain": [
       "' '"
      ]
     },
     "execution_count": 42,
     "metadata": {},
     "output_type": "execute_result"
    }
   ],
   "source": [
    "chr(0x20)"
   ]
  },
  {
   "cell_type": "code",
   "execution_count": 32,
   "metadata": {},
   "outputs": [
    {
     "name": "stdout",
     "output_type": "stream",
     "text": [
      "0x20ac\n"
     ]
    }
   ],
   "source": [
    "print(hex(8364))"
   ]
  },
  {
   "cell_type": "markdown",
   "metadata": {},
   "source": [
    "### **3-3)** Défi 3 :"
   ]
  },
  {
   "cell_type": "markdown",
   "metadata": {},
   "source": [
    "<div class=\"alert alert-warning\">\n",
    "<img src=\"Images/CR.png\" alt=\"logo CR\" width=5% align=right>\n",
    "\n",
    "Concevez un éditeur hexadécimal qui affiche les valeurs hexadécimales des caractères contenus dans une variable de type \"String\" par ligne de 10 octets.On donne ci-dessous la chaine de caractères.\n",
    "<div>"
   ]
  },
  {
   "cell_type": "code",
   "execution_count": 17,
   "metadata": {},
   "outputs": [
    {
     "name": "stdout",
     "output_type": "stream",
     "text": [
      "44 65 70 75 69 73 20 6c 65 20 ac \n",
      "20 70 61 73 73 61 67 65 20 e0 \n",
      "20 6c 27 65 75 72 6f 20 28 20 ac \n",
      "29 2c 20 6c 65 20 63 6f fb 74 \n",
      "20 64 65 20 4c 61 20 76 69 65 \n",
      "20 61 20 61 75 67 6d 65 6e 74 \n",
      "e9 2e "
     ]
    }
   ],
   "source": [
    "texte=\"Depuis le passage à l'euro (€), le coût de La vie a augmenté.\"\n",
    "texte\n",
    "liste=[]\n",
    "for i in texte:\n",
    "    nb = hex(ord(i))\n",
    "    liste.append(nb[2:])\n",
    "compteur = 0\n",
    "for e in liste:\n",
    "    #print(e, end=' ')\n",
    "    compteur+=len(e)\n",
    "    if len(e)>2:\n",
    "        print(e[:2], end=' ')\n",
    "        print(e[2:], end = ' ')\n",
    "    else:\n",
    "        print(e, end=' ')\n",
    "    if compteur >= 20:\n",
    "        print(\"\")\n",
    "        compteur = 0\n",
    "        "
   ]
  },
  {
   "cell_type": "code",
   "execution_count": 47,
   "metadata": {},
   "outputs": [
    {
     "name": "stdout",
     "output_type": "stream",
     "text": [
      "44 65 70 75 69 73 20 6c 65 20 \n",
      "70 61 73 73 61 67 65 20 e0 20 \n",
      "6c 27 65 75 72 6f 20 28 20 ac \n",
      "29 2c 20 6c 65 20 63 6f fb 74 \n",
      "20 64 65 20 4c 61 20 76 69 65 \n",
      "20 61 20 61 75 67 6d 65 6e 74 \n",
      "e9 2e \n"
     ]
    }
   ],
   "source": [
    "texte=\"Depuis le passage à l'euro (€), le coût de La vie a augmenté.\"\n",
    "def edithexa(bits:int,texte:str):\n",
    "    compteur=0\n",
    "    chaine=''\n",
    "    for c in texte:\n",
    "        cdec=ord(c)\n",
    "        chex=hex(cdec)\n",
    "        if cdec > 255:\n",
    "            chaine+=chex[2:4]+\" \"+chex[4:6]+\" \"\n",
    "            compteur+=2\n",
    "        else:\n",
    "            chaine+=chex[2:]+\" \"\n",
    "            compteur+=1\n",
    "        if compteur >= bits:\n",
    "            chaine+='\\n'\n",
    "            compteur=0\n",
    "    return chaine\n",
    "dump=edithexa(10,texte)\n",
    "print(dump)"
   ]
  },
  {
   "cell_type": "code",
   "execution_count": 46,
   "metadata": {},
   "outputs": [
    {
     "data": {
      "text/plain": [
       "'44 65 70 75 69 73 20 6c 65 20 \\n 70 61 73 73 61 67 65 20 e0 20 \\n 6c 27 65 75 72 6f 20 28 20 ac \\n 29 2c 20 6c 65 20 63 6f fb 74 \\n 20 64 65 20 4c 61 20 76 69 65 \\n 20 61 20 61 75 67 6d 65 6e 74 \\n e9 2e '"
      ]
     },
     "execution_count": 46,
     "metadata": {},
     "output_type": "execute_result"
    }
   ],
   "source": [
    "edithexa(10,\"Depuis le passage à l'euro (€), le coût de La vie a augmenté.\")"
   ]
  },
  {
   "cell_type": "code",
   "execution_count": null,
   "metadata": {},
   "outputs": [],
   "source": [
    "'''\n",
    "texte <- \"depuis le passage...\"\n",
    "pour car in texte\n",
    "    convertir car en hexa\n",
    "    afficher valeur hexa\n",
    "    compteur <- compteur + 1\n",
    "    si compteur >= 0\n",
    "        retour à la ligne\n",
    "        compteur <- 0\n",
    "    fin si\n",
    "fin pour\n",
    "\n",
    "'''"
   ]
  },
  {
   "cell_type": "code",
   "execution_count": null,
   "metadata": {},
   "outputs": [],
   "source": [
    "texte=\"Depuis le passage à l'euro (€), le coût de La vie a augmenté.\""
   ]
  },
  {
   "cell_type": "markdown",
   "metadata": {},
   "source": [
    "### **3-4)** Défi 4 :"
   ]
  },
  {
   "cell_type": "markdown",
   "metadata": {},
   "source": [
    "<div class=\"alert alert-warning\">\n",
    "<img src=\"Images/CR.png\" alt=\"logo CR\" width=5% align=right>\n",
    "\n",
    "Concevez un éditeur de texte qui interprète un fichier hexadécimal représentant un texte encodé en UTF-8. On fournit ci-dessous le contenu de la variable \"memoire\".\n",
    "<div>"
   ]
  },
  {
   "cell_type": "code",
   "execution_count": 51,
   "metadata": {},
   "outputs": [
    {
     "name": "stdout",
     "output_type": "stream",
     "text": [
      "Depuis le passage à l'euro (€), le coût de la vie a augmenté."
     ]
    }
   ],
   "source": [
    "#!/usr/bin/env python3\n",
    "# -*- coding: utf-8 -*-\n",
    "\"\"\"\n",
    "Created on Mon Apr 29 15:13:12 2019\n",
    "\n",
    "\"\"\"\n",
    "\n",
    "memoire= 0x44,0x65,0x70,0x75,0x69,0x73,0x20,0x6c,0x65,0x20,0x70,0x61,0x73,0x73,0x61,0x67,0x65,0x20,0xe0,0x20,0x6c,0x27,0x65,0x75,0x72,0x6f,0x20,0x28,0x20ac,0x29,0x2c,0x20,0x6c,0x65,0x20,0x63,0x6f,0xfb,0x74,0x20,0x64,0x65,0x20,0x6c,0x61,0x20,0x76,0x69,0x65,0x20,0x61,0x20,0x61,0x75,0x67,0x6d,0x65,0x6e,0x74,0xe9,0x2e\n",
    "for e in memoire:\n",
    "    print(chr(e), end=\"\")"
   ]
  },
  {
   "cell_type": "code",
   "execution_count": 54,
   "metadata": {},
   "outputs": [
    {
     "ename": "TypeError",
     "evalue": "'str' object cannot be interpreted as an integer",
     "output_type": "error",
     "traceback": [
      "\u001b[0;31m---------------------------------------------------------------------------\u001b[0m",
      "\u001b[0;31mTypeError\u001b[0m                                 Traceback (most recent call last)",
      "\u001b[0;32m<ipython-input-54-5531d8c2775a>\u001b[0m in \u001b[0;36m<module>\u001b[0;34m\u001b[0m\n\u001b[0;32m----> 1\u001b[0;31m \u001b[0mord\u001b[0m\u001b[0;34m(\u001b[0m\u001b[0mhex\u001b[0m\u001b[0;34m(\u001b[0m\u001b[0;34m'u'\u001b[0m\u001b[0;34m)\u001b[0m\u001b[0;34m)\u001b[0m\u001b[0;34m\u001b[0m\u001b[0;34m\u001b[0m\u001b[0m\n\u001b[0m",
      "\u001b[0;31mTypeError\u001b[0m: 'str' object cannot be interpreted as an integer"
     ]
    }
   ],
   "source": [
    "ord(hex('u'))"
   ]
  },
  {
   "cell_type": "code",
   "execution_count": null,
   "metadata": {},
   "outputs": [],
   "source": []
  }
 ],
 "metadata": {
  "kernelspec": {
   "display_name": "Python 3",
   "language": "python",
   "name": "python3"
  },
  "language_info": {
   "codemirror_mode": {
    "name": "ipython",
    "version": 3
   },
   "file_extension": ".py",
   "mimetype": "text/x-python",
   "name": "python",
   "nbconvert_exporter": "python",
   "pygments_lexer": "ipython3",
   "version": "3.6.10"
  },
  "varInspector": {
   "cols": {
    "lenName": 16,
    "lenType": 16,
    "lenVar": 40
   },
   "kernels_config": {
    "python": {
     "delete_cmd_postfix": "",
     "delete_cmd_prefix": "del ",
     "library": "var_list.py",
     "varRefreshCmd": "print(var_dic_list())"
    },
    "r": {
     "delete_cmd_postfix": ") ",
     "delete_cmd_prefix": "rm(",
     "library": "var_list.r",
     "varRefreshCmd": "cat(var_dic_list()) "
    }
   },
   "types_to_exclude": [
    "module",
    "function",
    "builtin_function_or_method",
    "instance",
    "_Feature"
   ],
   "window_display": false
  }
 },
 "nbformat": 4,
 "nbformat_minor": 2
}
