{
 "cells": [
  {
   "cell_type": "markdown",
   "metadata": {},
   "source": [
    "# <center><font face=\"arial\" size=\"5\" color=#0101DF>NUMERIQUE ET SCIENCES INFORMATIQUES 1ère NSI</font></center>"
   ]
  },
  {
   "cell_type": "markdown",
   "metadata": {},
   "source": [
    "## <font color=#013ADF>Présentation de Github et Git</font>"
   ]
  },
  {
   "cell_type": "markdown",
   "metadata": {},
   "source": [
    ">Ce document a pour objectif de vous expliquer comment télécharger les cours et exercices  dans votre espace sur le serveur JUPYTER."
   ]
  },
  {
   "cell_type": "markdown",
   "metadata": {},
   "source": [
    "### Mise en situation :\n",
    "\n",
    "Sur GitHub, vous construisez un profil, vous y déposez des projets à partager et vous vous connectez avec d’autres utilisateurs en suivant leurs comptes. Même si la plupart des utilisateurs y déposent des projets de programmes ou de code, rien ne vous empêche d’y placer des textes ou tout type de fichier à présenter dans vos répertoires de projets.\n",
    "\n",
    "J'ai placé les cours de NSI sur mon compte GITHUB.\n",
    "\n",
    "**GitHub** est basé sur **Git**, une création de [Linus Torwald](https://fr.wikipedia.org/wiki/Linus_Torvalds) qui est l'inventeur du [noyau Linux](https://fr.wikipedia.org/wiki/Noyau_Linux).\n",
    "\n",
    "Git est un logiciel de contrôle de version, ce qui signifie qu’il gère les modifications d’un projet sans écraser le travail précédent."
   ]
  },
  {
   "cell_type": "markdown",
   "metadata": {},
   "source": [
    "![git_github](Images/git_distant.png) \n",
    "<center>Voici les commandes étudiées et le comportement associé</center>"
   ]
  },
  {
   "cell_type": "markdown",
   "metadata": {},
   "source": [
    "## Besoin :\n",
    "*Le professeur dépose le travail à faire sur son compte GitHub. Je veux en faire une copie sur mon espace du serveur jupyterhub (à l'école et/ou chez moi).*"
   ]
  },
  {
   "cell_type": "markdown",
   "metadata": {},
   "source": [
    "## Cloner un dépôt GitHub :\n",
    "### Copier dans un dossier nommé `Documents` sur le serveur, le répertoire 1_NSI se situant dans le dépot Github du professeur."
   ]
  },
  {
   "cell_type": "markdown",
   "metadata": {},
   "source": [
    "> Si on ne précise pas le nom du dossier à la fin de l'instruction, alors c'est le nom du dépôt GitHub cloné qui est attribué par défaut au dossier auquel il sera lié. Le clonage a lieu dans le répertoire courant (où est lancé la commande)."
   ]
  },
  {
   "cell_type": "markdown",
   "metadata": {},
   "source": [
    "**1)** Dans la première fenêtre \"écran d'accueil jupyter\" (Home):\n",
    "- Créer un répertoire `Documents` (Nouveau, répertoire, le renommer);\n",
    "- Ouvrir un terminal (Nouveau, terminal) et se déplacer dans le répertoire \"Documents\" (cd Documents) \n",
    "- Écrire la commande : git clone https://github.com/Bjourdain/1_NSI"
   ]
  },
  {
   "cell_type": "markdown",
   "metadata": {},
   "source": [
    "**Le clonage** est une opération qui n'est effectuée **qu'une seule fois**. "
   ]
  },
  {
   "cell_type": "markdown",
   "metadata": {},
   "source": [
    "### Vérifier l'initialisation, la récupération de fichiers et l'état de votre copie de travail.\n",
    "\n",
    "**2)** Se déplacer dans le répertoire Documents/NSI et écrire les commandes suivantes pour vérifier :\n",
    "- git remote -v\n",
    "- ls -al\n",
    "- git status"
   ]
  },
  {
   "cell_type": "markdown",
   "metadata": {},
   "source": [
    "Le clonage et l'initialisation étant réalisée, pour récupérer le travail, il suffira de taper la commande **(et aucune autre)**:\n",
    "- git pull origin master"
   ]
  },
  {
   "cell_type": "markdown",
   "metadata": {},
   "source": [
    "> `origin` est le nom de la liaison distante (remote) et `master` est le nom de la branche principale"
   ]
  },
  {
   "cell_type": "markdown",
   "metadata": {},
   "source": [
    "**Si vous modifiez un document, une mise à jour avec la commande précédente se soldera par un échec. Pour conserver le document modifié, déplacez le dans un autre répertoire.**"
   ]
  }
 ],
 "metadata": {
  "kernelspec": {
   "display_name": "Python 3",
   "language": "python",
   "name": "python3"
  },
  "language_info": {
   "codemirror_mode": {
    "name": "ipython",
    "version": 3
   },
   "file_extension": ".py",
   "mimetype": "text/x-python",
   "name": "python",
   "nbconvert_exporter": "python",
   "pygments_lexer": "ipython3",
   "version": "3.6.10"
  },
  "varInspector": {
   "cols": {
    "lenName": 16,
    "lenType": 16,
    "lenVar": 40
   },
   "kernels_config": {
    "python": {
     "delete_cmd_postfix": "",
     "delete_cmd_prefix": "del ",
     "library": "var_list.py",
     "varRefreshCmd": "print(var_dic_list())"
    },
    "r": {
     "delete_cmd_postfix": ") ",
     "delete_cmd_prefix": "rm(",
     "library": "var_list.r",
     "varRefreshCmd": "cat(var_dic_list()) "
    }
   },
   "types_to_exclude": [
    "module",
    "function",
    "builtin_function_or_method",
    "instance",
    "_Feature"
   ],
   "window_display": false
  }
 },
 "nbformat": 4,
 "nbformat_minor": 2
}
