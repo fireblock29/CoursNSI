{
 "cells": [
  {
   "cell_type": "markdown",
   "metadata": {},
   "source": [
    "# <center><font face=\"arial\" size=\"5\" color=#0101DF>NUMERIQUE ET SCIENCES INFORMATIQUES 1ère NSI</font></center>"
   ]
  },
  {
   "cell_type": "markdown",
   "metadata": {},
   "source": [
    "## <font color=#013ADF>TD les fonctions</font>"
   ]
  },
  {
   "cell_type": "code",
   "execution_count": null,
   "metadata": {},
   "outputs": [],
   "source": [
    "from metakernel import register_ipython_magics\n",
    "register_ipython_magics()"
   ]
  },
  {
   "cell_type": "markdown",
   "metadata": {},
   "source": [
    "> Une fonction va permettre de compacter le code car elle pourra être utilisée de nombreuses fois en l'appelant. Si la fonction ne renvoie aucun résultat, on l'appelle une procédure."
   ]
  },
  {
   "cell_type": "markdown",
   "metadata": {},
   "source": [
    ">* Exécutez ce programme et observez les résultats obtenus."
   ]
  },
  {
   "cell_type": "code",
   "execution_count": 2,
   "metadata": {},
   "outputs": [
    {
     "name": "stdout",
     "output_type": "stream",
     "text": [
      "15\n",
      "10\n",
      "7\n"
     ]
    }
   ],
   "source": [
    "#%%tutor\n",
    "# -*- coding: utf-8 -*-\n",
    "\"\"\"\n",
    "Addition\n",
    "\"\"\"\n",
    "\n",
    "def addition(x:int,y:int=2)->int: # annotations de typage attendu (non traité en l'état par l'interpréteur python)\n",
    "    \"\"\"\n",
    "    Additionne les 2 nombres\n",
    "    passés en arguments\n",
    "    \"\"\"\n",
    "    return x+y # renvoie la somme de x et y\n",
    "\n",
    "print(addition(10,5)) # appel de la fonction 'addition' et affichage de la somme\n",
    "resultat=addition(7,3) # appel de la fonction 'addition' et stockage dans une variable 'resultat'\n",
    "print(resultat) # affichage de la variable 'resultat'\n",
    "print(addition(5)) # appel de la fonction 'addition' avec un seul argument, la fonction utilise la valeur de y par défaut"
   ]
  },
  {
   "cell_type": "code",
   "execution_count": 39,
   "metadata": {},
   "outputs": [],
   "source": [
    "#fonction division\n",
    "def division(x:int,y:int)->float:\n",
    "    \"\"\"\n",
    "    Fonction qui prend en paramètres 2 entiers et renvoie la valeur de la division du 1er nombre par le 2ème\n",
    "    \"\"\"\n",
    "    #if y == 0:\n",
    "        #print(\"Y ne doit pas être égal à 0 !\")\n",
    "        #return\n",
    "    #assert y != 0, 'Le diviseur doit être différent de 0'\n",
    "    try:\n",
    "        print(x,y)\n",
    "        return x/y\n",
    "    except ZeroDivisionError:\n",
    "        print(\"Le diviseur doit être différent de 0\")"
   ]
  },
  {
   "cell_type": "code",
   "execution_count": 41,
   "metadata": {},
   "outputs": [
    {
     "name": "stdout",
     "output_type": "stream",
     "text": [
      "2 1\n"
     ]
    },
    {
     "data": {
      "text/plain": [
       "2.0"
      ]
     },
     "execution_count": 41,
     "metadata": {},
     "output_type": "execute_result"
    }
   ],
   "source": [
    "division(2,1)"
   ]
  },
  {
   "cell_type": "markdown",
   "metadata": {},
   "source": [
    ">* Exécutez ce programme et observez les résultats obtenus."
   ]
  },
  {
   "cell_type": "code",
   "execution_count": 6,
   "metadata": {},
   "outputs": [
    {
     "name": "stdout",
     "output_type": "stream",
     "text": [
      "Entrez la valeur du rayon de la sphère en mm : -98\n"
     ]
    },
    {
     "ename": "AssertionError",
     "evalue": "La valeur doit être supérieure à 0",
     "output_type": "error",
     "traceback": [
      "\u001b[0;31m---------------------------------------------------------------------------\u001b[0m",
      "\u001b[0;31mAssertionError\u001b[0m                            Traceback (most recent call last)",
      "\u001b[0;32m<ipython-input-6-69eac79710ef>\u001b[0m in \u001b[0;36m<module>\u001b[0;34m\u001b[0m\n\u001b[1;32m     28\u001b[0m \u001b[0;31m#Ici débute le programme principal\u001b[0m\u001b[0;34m\u001b[0m\u001b[0;34m\u001b[0m\u001b[0;34m\u001b[0m\u001b[0m\n\u001b[1;32m     29\u001b[0m \u001b[0mrayon\u001b[0m \u001b[0;34m=\u001b[0m \u001b[0mfloat\u001b[0m\u001b[0;34m(\u001b[0m\u001b[0minput\u001b[0m\u001b[0;34m(\u001b[0m\u001b[0;34m\"Entrez la valeur du rayon de la sphère en mm : \"\u001b[0m\u001b[0;34m)\u001b[0m\u001b[0;34m)\u001b[0m\u001b[0;34m\u001b[0m\u001b[0;34m\u001b[0m\u001b[0m\n\u001b[0;32m---> 30\u001b[0;31m \u001b[0mprint\u001b[0m\u001b[0;34m(\u001b[0m\u001b[0;34mf\"Le volume de cette sphère vaut : {volume_sphere(rayon):.2f} mm3\"\u001b[0m\u001b[0;34m)\u001b[0m\u001b[0;34m\u001b[0m\u001b[0;34m\u001b[0m\u001b[0m\n\u001b[0m\u001b[1;32m     31\u001b[0m \u001b[0mcote\u001b[0m \u001b[0;34m=\u001b[0m \u001b[0mfloat\u001b[0m\u001b[0;34m(\u001b[0m\u001b[0minput\u001b[0m\u001b[0;34m(\u001b[0m\u001b[0;34m\"Entrez la valeur du côté d'un cube en mm : \"\u001b[0m\u001b[0;34m)\u001b[0m\u001b[0;34m)\u001b[0m\u001b[0;34m\u001b[0m\u001b[0;34m\u001b[0m\u001b[0m\n\u001b[1;32m     32\u001b[0m \u001b[0mprint\u001b[0m\u001b[0;34m(\u001b[0m\u001b[0;34mf\"Le volume du cube vaut : {cube(cote):.2f} mm3\"\u001b[0m\u001b[0;34m)\u001b[0m\u001b[0;34m\u001b[0m\u001b[0;34m\u001b[0m\u001b[0m\n",
      "\u001b[0;32m<ipython-input-6-69eac79710ef>\u001b[0m in \u001b[0;36mvolume_sphere\u001b[0;34m(r)\u001b[0m\n\u001b[1;32m     23\u001b[0m     \u001b[0mRetourne\u001b[0m \u001b[0mle\u001b[0m \u001b[0mvolume\u001b[0m \u001b[0md\u001b[0m\u001b[0;31m'\u001b[0m\u001b[0mune\u001b[0m \u001b[0mspère\u001b[0m \u001b[0mde\u001b[0m \u001b[0mrayon\u001b[0m \u001b[0mégal\u001b[0m \u001b[0mà\u001b[0m \u001b[0mla\u001b[0m \u001b[0mvaleur\u001b[0m \u001b[0msaisie\u001b[0m\u001b[0;34m\u001b[0m\u001b[0;34m\u001b[0m\u001b[0m\n\u001b[1;32m     24\u001b[0m     \"\"\"\n\u001b[0;32m---> 25\u001b[0;31m     \u001b[0;32massert\u001b[0m \u001b[0mr\u001b[0m\u001b[0;34m>\u001b[0m\u001b[0;36m0\u001b[0m\u001b[0;34m,\u001b[0m\u001b[0;34m'La valeur doit être supérieure à 0'\u001b[0m\u001b[0;34m\u001b[0m\u001b[0;34m\u001b[0m\u001b[0m\n\u001b[0m\u001b[1;32m     26\u001b[0m     \u001b[0;32mreturn\u001b[0m \u001b[0;36m4.0\u001b[0m \u001b[0;34m/\u001b[0m \u001b[0;36m3.0\u001b[0m \u001b[0;34m*\u001b[0m \u001b[0mpi\u001b[0m \u001b[0;34m*\u001b[0m \u001b[0mcube\u001b[0m\u001b[0;34m(\u001b[0m\u001b[0mr\u001b[0m\u001b[0;34m)\u001b[0m\u001b[0;34m\u001b[0m\u001b[0;34m\u001b[0m\u001b[0m\n\u001b[1;32m     27\u001b[0m \u001b[0;34m\u001b[0m\u001b[0m\n",
      "\u001b[0;31mAssertionError\u001b[0m: La valeur doit être supérieure à 0"
     ]
    }
   ],
   "source": [
    "#%%tutor\n",
    "# -*- coding: utf-8 -*-\n",
    "\"\"\"\n",
    "Calcul de volumes\n",
    "\"\"\"\n",
    "\n",
    "from math import pi\n",
    "\n",
    "#voici une fonction\n",
    "def cube(x:float)->float:\n",
    "    \"\"\"\n",
    "    Reçoit en entrée une valeur réelle positive\n",
    "    Retourne cette valeur à la puissance 3.\n",
    "    Exemple : x = 3 , la valeur retournée est 9.\n",
    "    \"\"\"\n",
    "    assert x>0,'La valeur doit être supérieure à 0'\n",
    "    return x**3\n",
    "       \n",
    "#voici une autre fonction \n",
    "def volume_sphere(r:float)->float:\n",
    "    \"\"\"\n",
    "    Reçoit en entrée une valeur réelle positive\n",
    "    Retourne le volume d'une spère de rayon égal à la valeur saisie\n",
    "    \"\"\"\n",
    "    assert r>0,'La valeur doit être supérieure à 0'\n",
    "    return 4.0 / 3.0 * pi * cube(r)\n",
    "\n",
    "#Ici débute le programme principal\n",
    "rayon = float(input(\"Entrez la valeur du rayon de la sphère en mm : \"))\n",
    "print(f\"Le volume de cette sphère vaut : {volume_sphere(rayon):.2f} mm3\")\n",
    "cote = float(input(\"Entrez la valeur du côté d'un cube en mm : \"))\n",
    "print(f\"Le volume du cube vaut : {cube(cote):.2f} mm3\")\n",
    "print(x)\n",
    "print(r)"
   ]
  },
  {
   "cell_type": "markdown",
   "metadata": {},
   "source": [
    ">* Que font ces deux fonctions ?\\\n",
    "Elles calculent le volume d'une sphère et d'un cube\n",
    "* Dans quel ordre et par qui sont appelées les fonctions ?\\\n",
    "la fonction volume_sphere est exécutée, et ensuite, la fonction cube est exécutée.\n",
    "Les fonctions sont appelées à travers la fonction print\n",
    "* Quel est le nom de la variable qui contient le rayon de la sphère dans le programme principal, les fonctions ?\\\n",
    "La variable se nomme \"rayon\", et les fonctions se nomment cube et volume_sphere\n",
    "* Quelle est l’instruction qui renvoie la valeur calculée dans la fonction ?\\\n",
    "L'instruction renvoyant la valeur calculée est la fonction print()\n",
    "* Quel est l’intérêt de définir et d’appeler des fonctions ?\\\n",
    "Cela permet de raccourcir les programmes.\n",
    "* Que se passe-t-il si en fin de programme, on ajoute l’instruction : print(x) ou print(r) ? Justifiez\\\n",
    "Cela fait des erreurs car r et x ne sont pas définis.\n",
    "* Que se passe-t-il si vous saisissez une valeur négative ou nulle ?\\\n",
    "Cela fait une erreur : le nombre doit être supérieur à 0\n",
    "* Tapez ci-dessous l'instruction help(cube), help(volume_sphere)"
   ]
  },
  {
   "cell_type": "code",
   "execution_count": 8,
   "metadata": {},
   "outputs": [
    {
     "name": "stdout",
     "output_type": "stream",
     "text": [
      "Help on function volume_sphere in module __main__:\n",
      "\n",
      "volume_sphere(r:float) -> float\n",
      "    Reçoit en entrée une valeur réelle positive\n",
      "    Retourne le volume d'une spère de rayon égal à la valeur saisie\n",
      "\n"
     ]
    }
   ],
   "source": [
    "help(volume_sphere)"
   ]
  },
  {
   "cell_type": "markdown",
   "metadata": {},
   "source": [
    "***\n",
    "Voici l'heure du défi !"
   ]
  },
  {
   "cell_type": "markdown",
   "metadata": {},
   "source": [
    "**Défi**\n",
    "\n",
    "* Écrivez une fonction qui teste si le **nombre** passé en argument de la fonction est **pair**.\n",
    "* Commentez votre code et la fonction (**docstrings**).\n",
    "* Testez votre programme en saisissant quelques valeurs.\n",
    "\n",
    "*Remarque :*"
   ]
  },
  {
   "cell_type": "code",
   "execution_count": 30,
   "metadata": {},
   "outputs": [],
   "source": [
    "\"\"\"\n",
    "fonction pair\n",
    "    si nombre / 2 est un nb entier\n",
    "        afficher le nombre est pair\n",
    "    sinon\n",
    "        afficher le nombre est impair\n",
    "fin fonction\n",
    "\"\"\"\n",
    "\n",
    "def pair(nb):\n",
    "    \"\"\"\n",
    "    Cette fonction vérifie la parité d'un nombre.\n",
    "    \"\"\"\n",
    "    assert type(nb)==int,'Le nombre doit être un entier'\n",
    "    if nb%2 == 0:\n",
    "        print(f\"le nombre {nb} est pair\" )\n",
    "    else:\n",
    "        print(f\"le nombre {nb} est impair\" )"
   ]
  },
  {
   "cell_type": "code",
   "execution_count": 32,
   "metadata": {},
   "outputs": [
    {
     "name": "stdout",
     "output_type": "stream",
     "text": [
      "le nombre -98 est pair\n"
     ]
    }
   ],
   "source": [
    "pair(-98)"
   ]
  },
  {
   "cell_type": "markdown",
   "metadata": {},
   "source": [
    "Vous venez de prendre du temps pour développer une fonction. Est-elle correcte ? Vous avez fait des essais, mais y a t-il un cas où la fonction va retourner un résultat faux ?"
   ]
  },
  {
   "cell_type": "markdown",
   "metadata": {},
   "source": [
    ">Après avoir consulté la fonction ci-dessous, exécutez la."
   ]
  },
  {
   "cell_type": "code",
   "execution_count": 8,
   "metadata": {},
   "outputs": [],
   "source": [
    "def test_parite(nb:int)-> bool:\n",
    "    \"\"\"\n",
    "    Cette fonction reçoit en entrée un nombre entier.\n",
    "    Elle teste si ce nombre est pair\n",
    "    puis renvoit en sortie 0 ou 1.\n",
    "    Précondition : Le nombre doit être entier.\n",
    "    Postcondition : 0 si pair, 1 si impair\n",
    "    Tests :\n",
    "    >>> test_parite(8)\n",
    "    0\n",
    "    >>> test_parite(7)\n",
    "    1\n",
    "    \"\"\"\n",
    "\n",
    "    return nb%2"
   ]
  },
  {
   "cell_type": "code",
   "execution_count": 9,
   "metadata": {},
   "outputs": [
    {
     "data": {
      "text/plain": [
       "1"
      ]
     },
     "execution_count": 9,
     "metadata": {},
     "output_type": "execute_result"
    }
   ],
   "source": [
    "test_parite(45)"
   ]
  },
  {
   "cell_type": "markdown",
   "metadata": {},
   "source": [
    "Exécutez maintenant, les 3 cellules de code ci-dessous."
   ]
  },
  {
   "cell_type": "code",
   "execution_count": 49,
   "metadata": {},
   "outputs": [
    {
     "data": {
      "text/plain": [
       "TestResults(failed=0, attempted=2)"
      ]
     },
     "execution_count": 49,
     "metadata": {},
     "output_type": "execute_result"
    }
   ],
   "source": [
    "import doctest\n",
    "doctest.testmod()\n"
   ]
  },
  {
   "cell_type": "code",
   "execution_count": 50,
   "metadata": {},
   "outputs": [
    {
     "name": "stdout",
     "output_type": "stream",
     "text": [
      "Trying:\n",
      "    test_parite(8)\n",
      "Expecting:\n",
      "    0\n",
      "ok\n",
      "Trying:\n",
      "    test_parite(7)\n",
      "Expecting:\n",
      "    1\n",
      "ok\n",
      "2 items had no tests:\n",
      "    __main__\n",
      "    __main__.division\n",
      "1 items passed all tests:\n",
      "   2 tests in __main__.test_parite\n",
      "2 tests in 3 items.\n",
      "2 passed and 0 failed.\n",
      "Test passed.\n"
     ]
    },
    {
     "data": {
      "text/plain": [
       "TestResults(failed=0, attempted=2)"
      ]
     },
     "execution_count": 50,
     "metadata": {},
     "output_type": "execute_result"
    }
   ],
   "source": [
    "import doctest\n",
    "doctest.testmod(verbose = True)"
   ]
  },
  {
   "cell_type": "code",
   "execution_count": 3,
   "metadata": {},
   "outputs": [
    {
     "name": "stdout",
     "output_type": "stream",
     "text": [
      "Help on function test_parite in module __main__:\n",
      "\n",
      "test_parite(nb:int) -> bool\n",
      "    Cette fonction reçoit en entrée un nombre entier.\n",
      "    Elle teste si ce nombre est pair\n",
      "    puis renvoit en sortie 0 ou 1.\n",
      "    Précondition : Le nombre doit être entier.\n",
      "    Postcondition : 0 si pair, 1 si impair\n",
      "    Tests :\n",
      "    >>> test_parite(8)\n",
      "    0\n",
      "    >>> test_parite(7)\n",
      "    1\n",
      "\n"
     ]
    }
   ],
   "source": [
    "help(test_parite)"
   ]
  },
  {
   "cell_type": "markdown",
   "metadata": {},
   "source": [
    "Modifier maintenant le second test de parité : remplacez 1 par 0 et relancez les tests !"
   ]
  },
  {
   "cell_type": "code",
   "execution_count": 13,
   "metadata": {},
   "outputs": [
    {
     "name": "stdout",
     "output_type": "stream",
     "text": [
      "Entrez un nombre decimal: 2047\n",
      "11111111111\n",
      "\n"
     ]
    }
   ],
   "source": [
    "def binaire(n):\n",
    "    if n > 1:\n",
    "        binaire(n // 2)\n",
    "    print(n % 2, end='')\n",
    "# Demande à l'utilisateur d'entrer un nombre\n",
    "nb = int(input(\"Entrez un nombre decimal: \"))\n",
    "binaire(nb)\n",
    "print(\"\\n\")\n",
    "\n",
    "\"\"\"\n",
    "fonction binaire (n):\n",
    "    Si n > 1\n",
    "        binaire(n//2)\n",
    "    finsi\n",
    "    afficher n%2, fin =\"\")\n",
    "fin fonction\n",
    "\n",
    "nb <- entrer un nb décimal\n",
    "binaire(nb)\n",
    "\n",
    "\"\"\"\n"
   ]
  },
  {
   "cell_type": "markdown",
   "metadata": {},
   "source": [
    "Pratique pour valider ses fonctions. Vous voyez que le docstring en plus de renseigner l'utilisateur sur le mode d'emploi de la fonction, va permettre de faire des tests."
   ]
  },
  {
   "cell_type": "code",
   "execution_count": null,
   "metadata": {},
   "outputs": [],
   "source": []
  }
 ],
 "metadata": {
  "kernelspec": {
   "display_name": "Python 3",
   "language": "python",
   "name": "python3"
  },
  "language_info": {
   "codemirror_mode": {
    "name": "ipython",
    "version": 3
   },
   "file_extension": ".py",
   "mimetype": "text/x-python",
   "name": "python",
   "nbconvert_exporter": "python",
   "pygments_lexer": "ipython3",
   "version": "3.6.10"
  },
  "varInspector": {
   "cols": {
    "lenName": 16,
    "lenType": 16,
    "lenVar": 40
   },
   "kernels_config": {
    "python": {
     "delete_cmd_postfix": "",
     "delete_cmd_prefix": "del ",
     "library": "var_list.py",
     "varRefreshCmd": "print(var_dic_list())"
    },
    "r": {
     "delete_cmd_postfix": ") ",
     "delete_cmd_prefix": "rm(",
     "library": "var_list.r",
     "varRefreshCmd": "cat(var_dic_list()) "
    }
   },
   "types_to_exclude": [
    "module",
    "function",
    "builtin_function_or_method",
    "instance",
    "_Feature"
   ],
   "window_display": false
  }
 },
 "nbformat": 4,
 "nbformat_minor": 2
}
