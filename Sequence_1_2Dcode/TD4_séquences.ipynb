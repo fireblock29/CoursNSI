{
 "cells": [
  {
   "cell_type": "markdown",
   "metadata": {},
   "source": [
    "# <center><font face=\"arial\" size=\"5\" color=#0101DF>NUMERIQUE ET SCIENCES INFORMATIQUES 1ère NSI</font></center>"
   ]
  },
  {
   "cell_type": "markdown",
   "metadata": {},
   "source": [
    "## <font color=#013ADF>TD les séquences</font>"
   ]
  },
  {
   "cell_type": "code",
   "execution_count": 1,
   "metadata": {},
   "outputs": [],
   "source": [
    "from metakernel import register_ipython_magics\n",
    "register_ipython_magics()"
   ]
  },
  {
   "cell_type": "markdown",
   "metadata": {},
   "source": [
    "> Les opérations de base que l'on peut faire sur les séquences sont :\n",
    "* L'appartenance (in s) et la non appartenance (not in s);\n",
    "* La concaténation a + b ;\n",
    "* L'accès par indice s[i] ;\n",
    "* Le slicing [i : j : k]."
   ]
  },
  {
   "cell_type": "markdown",
   "metadata": {},
   "source": [
    "**1)** Les listes"
   ]
  },
  {
   "cell_type": "markdown",
   "metadata": {},
   "source": [
    ">Une liste est une séquence qui contient des variables, quelques que soient leurs types (chaîne de caractères, entier, réel, liste …). C'est un **objet mutable**, c'est à dire que l'on peut modifier directement dans la mémoire."
   ]
  },
  {
   "cell_type": "markdown",
   "metadata": {},
   "source": [
    "**Quelques opérations sur les listes**"
   ]
  },
  {
   "cell_type": "markdown",
   "metadata": {},
   "source": [
    "> À partir de la liste 's' ci-dessous, exécutez les commandes suivantes et justifiez la réponse :\n",
    "* type(s)\n",
    "* 'a' in s\n",
    "* 'b' in s\n",
    "* s[0]"
   ]
  },
  {
   "cell_type": "code",
   "execution_count": 6,
   "metadata": {},
   "outputs": [
    {
     "name": "stdout",
     "output_type": "stream",
     "text": [
      "True\n"
     ]
    }
   ],
   "source": [
    "#%%tutor\n",
    "s=[1,'a',True,1.5]\n",
    "print(s[2])\n"
   ]
  },
  {
   "cell_type": "markdown",
   "metadata": {},
   "source": [
    ">* Exécutez ces programmes et observez le résultat obtenu."
   ]
  },
  {
   "cell_type": "code",
   "execution_count": 7,
   "metadata": {},
   "outputs": [
    {
     "name": "stdout",
     "output_type": "stream",
     "text": [
      "Voici une liste : [1, 4, 3, 7, 5, 4]\n"
     ]
    }
   ],
   "source": [
    "#%%tutor\n",
    "# -*- coding: utf-8 -*-\n",
    "\"\"\"\n",
    "Créer une liste\n",
    "\"\"\"\n",
    "MaListe=[1,4,3,7,5,4]\n",
    "print(\"Voici une liste :\",MaListe)"
   ]
  },
  {
   "cell_type": "code",
   "execution_count": 8,
   "metadata": {},
   "outputs": [
    {
     "name": "stdout",
     "output_type": "stream",
     "text": [
      "Le troisème élément de la liste est : 3\n"
     ]
    }
   ],
   "source": [
    "#%%tutor\n",
    "# -*- coding: utf-8 -*-\n",
    "\"\"\"\n",
    "Extraire un élément d'une liste\n",
    "\"\"\"\n",
    "MaListe=[1,4,3,7,5,4]\n",
    "#prendre un element d'une liste : (le premier élément est indexé par 0)\n",
    "print(\"Le troisème élément de la liste est :\",MaListe[2]) "
   ]
  },
  {
   "cell_type": "code",
   "execution_count": 9,
   "metadata": {},
   "outputs": [
    {
     "name": "stdout",
     "output_type": "stream",
     "text": [
      "3\n"
     ]
    }
   ],
   "source": [
    "#%%tutor\n",
    "# -*- coding: utf-8 -*-\n",
    "\"\"\"\n",
    "Retourner l'index\n",
    "d'un élément de la liste\n",
    "\"\"\"\n",
    "MaListe=[1,4,3,7,5,4]\n",
    "#retourner l'index d'un élément de la liste avec la methode .index()\n",
    "Index=MaListe.index(7)\n",
    "print(Index) "
   ]
  },
  {
   "cell_type": "code",
   "execution_count": 11,
   "metadata": {},
   "outputs": [
    {
     "name": "stdout",
     "output_type": "stream",
     "text": [
      "6\n"
     ]
    }
   ],
   "source": [
    "#%%tutor\n",
    "# -*- coding: utf-8 -*-\n",
    "\"\"\"\n",
    "Retourne la longueur\n",
    "de la liste\n",
    "\"\"\"\n",
    "MaListe=[1,4,3,7,5,4]\n",
    "#retourner la longueur de la liste avec la methode len()\n",
    "Longueur=len(MaListe)\n",
    "print(Longueur) "
   ]
  },
  {
   "cell_type": "code",
   "execution_count": 14,
   "metadata": {},
   "outputs": [
    {
     "name": "stdout",
     "output_type": "stream",
     "text": [
      "[1, 4, 3, 7, 5, 4, 54]\n"
     ]
    }
   ],
   "source": [
    "#%%tutor\n",
    "# -*- coding: utf-8 -*-\n",
    "\"\"\"\n",
    "Ajouter un élément\n",
    "à la fin de la liste\n",
    "\"\"\"\n",
    "MaListe=[1,4,3,7,5,4]\n",
    "#ajouter un élément à la fin de la liste avec la methode .append(element)\n",
    "MaListe.append(54)\n",
    "print(MaListe) "
   ]
  },
  {
   "cell_type": "code",
   "execution_count": 16,
   "metadata": {},
   "outputs": [
    {
     "name": "stdout",
     "output_type": "stream",
     "text": [
      "[1, 4, 3, 7, 5, 4, 2, 'intru', 4]\n"
     ]
    }
   ],
   "source": [
    "#%%tutor\n",
    "# -*- coding: utf-8 -*-\n",
    "\"\"\"\n",
    "Ajouter des éléments\n",
    "à la liste\n",
    "\"\"\"\n",
    "MaListe=[1,4,3,7,5,4]\n",
    "#ajouter les éléments d'une liste à la fin de la liste avec la methode .extend(liste)\n",
    "MaListe.extend([2,\"intru\",4])\n",
    "print(MaListe) "
   ]
  },
  {
   "cell_type": "code",
   "execution_count": 18,
   "metadata": {},
   "outputs": [
    {
     "name": "stdout",
     "output_type": "stream",
     "text": [
      "[1, 3, 7, 5, 4]\n",
      "[1, 3, 7, 5]\n"
     ]
    }
   ],
   "source": [
    "#%%tutor\n",
    "# -*- coding: utf-8 -*-\n",
    "\"\"\"\n",
    "Retirer un élément\n",
    "à la liste\n",
    "\"\"\"\n",
    "MaListe=[1,4,3,7,5,4]\n",
    "#enlever un element d'une liste avec la methode .remove(element)\n",
    "MaListe.remove(4)\n",
    "print(MaListe) \n",
    "MaListe.remove(4)\n",
    "print(MaListe) "
   ]
  },
  {
   "cell_type": "code",
   "execution_count": 1,
   "metadata": {},
   "outputs": [
    {
     "name": "stdout",
     "output_type": "stream",
     "text": [
      "Le nombre de \"5\" dans la liste est :  1\n"
     ]
    }
   ],
   "source": [
    "#%%tutor\n",
    "# -*- coding: utf-8 -*-\n",
    "\"\"\"\n",
    "Éditeur de Spyder\n",
    "\n",
    "Ceci est un script temporaire.\n",
    "\"\"\"\n",
    "MaListe=[1,4,3,7,5,4]\n",
    "#compter le nombre d'apparition d'un élément\n",
    "#dans une liste avec la methode .count(element)\n",
    "Nombre=MaListe.count(5)\n",
    "print('Le nombre de \"5\" dans la liste est : ',Nombre) "
   ]
  },
  {
   "cell_type": "markdown",
   "metadata": {},
   "source": [
    "**2)** Les chaînes de caractères"
   ]
  },
  {
   "cell_type": "markdown",
   "metadata": {},
   "source": [
    "> Les chaînes de caractères sont des **objets immuables**, c'est-à-dire qu'il n'est pas possible de faire de modification en place. Certaines des méthodes de liste précédentes fonctionnent tout de même sur les chaînes de caractères."
   ]
  },
  {
   "cell_type": "markdown",
   "metadata": {},
   "source": [
    ">* Faites fonctionner toutes les méthodes précédentes sur une chaîne à l’aide du programme ci-dessous."
   ]
  },
  {
   "cell_type": "code",
   "execution_count": 11,
   "metadata": {},
   "outputs": [
    {
     "name": "stdout",
     "output_type": "stream",
     "text": [
      "Le vie est belllle 1\n",
      "['La', 'vie', 'est', 'belllle', '1']\n",
      "3\n"
     ]
    }
   ],
   "source": [
    "#%%tutor\n",
    "# -*- coding: utf-8 -*-\n",
    "\"\"\"\n",
    "Programme de test\n",
    "des méthodes\n",
    "\"\"\"\n",
    "MaChaine='La vie est belllle 1'\n",
    "print(MaChaine.replace(\"La\", \"Le\"))\n",
    "MaChaine = MaChaine.split()\n",
    "print(MaChaine)\n",
    "print(len(MaChaine[1]))\n",
    "#print('Le quatrième caratère de ma chaine est : ',MaChaine[3])"
   ]
  },
  {
   "cell_type": "markdown",
   "metadata": {},
   "source": [
    ">* Indiquez les méthodes qui fonctionnent avec les chaînes.\n",
    "* Testez ces autres méthodes utiles : .upper(), .lower(), .split(), .find(), .replace()"
   ]
  },
  {
   "cell_type": "markdown",
   "metadata": {},
   "source": [
    "* Il est possible de transformer une chaîne de caractères en une liste afin de lui appliquer des méthodes supplémentaires, puis de retransformer la liste en chaine de caractères avec la méthode \"join()\"."
   ]
  },
  {
   "cell_type": "markdown",
   "metadata": {},
   "source": [
    "**3)** Les tuples"
   ]
  },
  {
   "cell_type": "markdown",
   "metadata": {},
   "source": [
    "> Un tuple contient une séquence d'**objets quelconques**. Il est **immuable**, on ne peut pas faire de modification en place. Une fois créé, le tuple ne plus être modifié !"
   ]
  },
  {
   "cell_type": "code",
   "execution_count": 29,
   "metadata": {},
   "outputs": [
    {
     "data": {
      "text/plain": [
       "int"
      ]
     },
     "execution_count": 29,
     "metadata": {},
     "output_type": "execute_result"
    }
   ],
   "source": [
    "#%%tutor\n",
    "#définition d'un tuple vide\n",
    "t=()\n",
    "#définition d'un tuple d'un seul élément\n",
    "t=(4,)\n",
    "type(t)\n",
    "#attention à la nuance !\n",
    "t1=(4)\n",
    "type(t1)"
   ]
  },
  {
   "cell_type": "code",
   "execution_count": 31,
   "metadata": {},
   "outputs": [
    {
     "ename": "TypeError",
     "evalue": "'tuple' object does not support item assignment",
     "output_type": "error",
     "traceback": [
      "\u001b[0;31m---------------------------------------------------------------------------\u001b[0m",
      "\u001b[0;31mTypeError\u001b[0m                                 Traceback (most recent call last)",
      "\u001b[0;32m<ipython-input-31-a0ef4cbd726c>\u001b[0m in \u001b[0;36m<module>\u001b[0;34m\u001b[0m\n\u001b[1;32m      4\u001b[0m \u001b[0mt\u001b[0m\u001b[0;34m\u001b[0m\u001b[0;34m\u001b[0m\u001b[0m\n\u001b[1;32m      5\u001b[0m \u001b[0;31m#est-il vraiment immuable ? décommentez la ligne ci-dessous\u001b[0m\u001b[0;34m\u001b[0m\u001b[0;34m\u001b[0m\u001b[0;34m\u001b[0m\u001b[0m\n\u001b[0;32m----> 6\u001b[0;31m \u001b[0mt\u001b[0m\u001b[0;34m[\u001b[0m\u001b[0;36m1\u001b[0m\u001b[0;34m]\u001b[0m\u001b[0;34m=\u001b[0m\u001b[0;34m'non'\u001b[0m\u001b[0;34m\u001b[0m\u001b[0;34m\u001b[0m\u001b[0m\n\u001b[0m",
      "\u001b[0;31mTypeError\u001b[0m: 'tuple' object does not support item assignment"
     ]
    }
   ],
   "source": [
    "#%%tutor\n",
    "#définition d'un tuple contenant un nombre quelconque d'objets\n",
    "t=(2,'oui',True,4.8)\n",
    "t\n",
    "#est-il vraiment immuable ? décommentez la ligne ci-dessous\n",
    "#t[1]='non'"
   ]
  },
  {
   "cell_type": "markdown",
   "metadata": {},
   "source": [
    "> Quelles méthodes déjà aperçues à tester sur le tuple ci-dessous !\n",
    "* len(t)\n",
    "* t.index(True)"
   ]
  },
  {
   "cell_type": "code",
   "execution_count": 34,
   "metadata": {},
   "outputs": [
    {
     "name": "stdout",
     "output_type": "stream",
     "text": [
      "2\n"
     ]
    }
   ],
   "source": [
    "#%%tutor\n",
    "t=(2,'oui',True,4.8)\n",
    "print(t.index(True))\n"
   ]
  },
  {
   "cell_type": "markdown",
   "metadata": {},
   "source": [
    "***\n",
    "Voici l'heure du défi !"
   ]
  },
  {
   "cell_type": "markdown",
   "metadata": {},
   "source": [
    "**Défi**\n",
    "\n",
    "Il s’agit de trouver le mot le plus long dans une phrase placée dans le programme dans une variable de type chaîne de caractères. Lorsque le mot le plus long sera trouvé, on affichera le rang de la première lettre du mot dans la chaîne, sa longueur (nombre de caractères) puis on l’affichera. Enfin on le remplacera par le mot « excellent ».\n",
    "\n",
    "* Écrivez l’algorithme puis le programme qui effectuera les tâches précisées.\n",
    "\n",
    "*Remarque : Si vous n’avez pas testé les méthodes proposées, vous aurez du mal à réaliser ce défi."
   ]
  },
  {
   "cell_type": "code",
   "execution_count": 4,
   "metadata": {},
   "outputs": [
    {
     "name": "stdout",
     "output_type": "stream",
     "text": [
      "Quelle est la chaine ?\n",
      "Bonjour à tous, je m'appelle l'ovni et je suis gentil\n",
      "Position de l'index :  19\n",
      "Longueur du mot : 9\n",
      "Le mot le plus long est m'appelle\n",
      "Bonjour à tous, je excellent l'ovni et je suis gentil\n"
     ]
    }
   ],
   "source": [
    "\"\"\"\n",
    "début\n",
    "    Chaine <- input : Quelle est la chaine ?\n",
    "    typer chaine en string\n",
    "    \n",
    "    Découper Chaine en mots\n",
    "    pour mot dans chaine:\n",
    "        ajouter le nombre de lettre de chaque mot de \"chaine\" dans la liste 'a'\n",
    "        \n",
    "\"\"\"\n",
    "a =[]\n",
    "chaine = str(input(\"Quelle est la chaine ?\\n\"))\n",
    "motlong=\"\"\n",
    "for mot in chaine.split():\n",
    "    if len(mot)>len(motlong):\n",
    "        motlong=mot\n",
    "print(\"Position de l'index : \", chaine.find(motlong))\n",
    "print(\"Longueur du mot :\", len(motlong))\n",
    "print(\"Le mot le plus long est\", motlong)\n",
    "chaine = chaine.replace(motlong, 'excellent')\n",
    "print(chaine)\n",
    "    \n",
    "    \n",
    "\n",
    "\n",
    "    "
   ]
  }
 ],
 "metadata": {
  "kernelspec": {
   "display_name": "Python 3",
   "language": "python",
   "name": "python3"
  },
  "language_info": {
   "codemirror_mode": {
    "name": "ipython",
    "version": 3
   },
   "file_extension": ".py",
   "mimetype": "text/x-python",
   "name": "python",
   "nbconvert_exporter": "python",
   "pygments_lexer": "ipython3",
   "version": "3.6.10"
  },
  "varInspector": {
   "cols": {
    "lenName": 16,
    "lenType": 16,
    "lenVar": 40
   },
   "kernels_config": {
    "python": {
     "delete_cmd_postfix": "",
     "delete_cmd_prefix": "del ",
     "library": "var_list.py",
     "varRefreshCmd": "print(var_dic_list())"
    },
    "r": {
     "delete_cmd_postfix": ") ",
     "delete_cmd_prefix": "rm(",
     "library": "var_list.r",
     "varRefreshCmd": "cat(var_dic_list()) "
    }
   },
   "types_to_exclude": [
    "module",
    "function",
    "builtin_function_or_method",
    "instance",
    "_Feature"
   ],
   "window_display": false
  }
 },
 "nbformat": 4,
 "nbformat_minor": 2
}
