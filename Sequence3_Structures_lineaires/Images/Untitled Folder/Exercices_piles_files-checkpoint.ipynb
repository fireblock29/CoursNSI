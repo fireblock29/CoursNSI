{
 "cells": [
  {
   "cell_type": "code",
   "execution_count": null,
   "metadata": {},
   "outputs": [],
   "source": []
  },
  {
   "cell_type": "markdown",
   "metadata": {},
   "source": [
    "<div class=\"alert alert-warning\">\n",
    "<img src=\"Images/CR.png\" alt=\"logo CR\" width=5% align=right>\n",
    "\n",
    "Travail à faire\n",
    "\n",
    "- Implémenter une file avec 2 piles\n",
    "    \n",
    "**1-** Définir une classe **FileV2** implémentant l'interface **InterfaceFile**.\n",
    "<br>Le constructeur devra initialiser deux attributs d'instance **p1** et **p2** avec des piles vides.\n",
    "    \n",
    "**2-** Compléter le corps des méthodes d'instances **est_vide**, **enfiler**, **defiler** et **afficher**.\n",
    "<div>"
   ]
  },
  {
   "cell_type": "markdown",
   "metadata": {},
   "source": [
    "**Voici le principe du traitement**\n",
    "<img src=\"Images/file_2piles.png\" alt=\"file\" width=30% align=center>"
   ]
  },
  {
   "cell_type": "markdown",
   "metadata": {},
   "source": [
    "## Solution possible"
   ]
  },
  {
   "cell_type": "code",
   "execution_count": null,
   "metadata": {},
   "outputs": [],
   "source": [
    "class FileV2(implements(InterfaceFile)):\n",
    "    def __init__(self):\n",
    "        self.entree = Pile()\n",
    "        self.sortie = Pile()\n",
    "    \n",
    "    def est_vide(self):\n",
    "        return self.entree.est_vide() \\\n",
    "                and self.sortie.est_vide()\n",
    "    \n",
    "    def enfiler(self, donnee):\n",
    "        self.entree.empiler(donnee)\n",
    "        \n",
    "    def defiler(self):\n",
    "        if self.sortie.est_vide():\n",
    "            while not self.entree.est_vide():\n",
    "                self.sortie.empiler(self.entree.depiler())\n",
    "        return self.sortie.depiler()\n",
    "    \n",
    "    def afficher(self): # problème d'affichage\n",
    "        self.entree.afficher()"
   ]
  },
  {
   "cell_type": "code",
   "execution_count": null,
   "metadata": {},
   "outputs": [],
   "source": [
    "f1=FileV2()\n",
    "f1.enfiler(3)\n",
    "f1.enfiler(5)\n",
    "f1.enfiler(4)\n",
    "f1.afficher()\n",
    "f1.defiler()\n",
    "f1.afficher()"
   ]
  }
 ],
 "metadata": {
  "kernelspec": {
   "display_name": "Python 3",
   "language": "python",
   "name": "python3"
  },
  "language_info": {
   "codemirror_mode": {
    "name": "ipython",
    "version": 3
   },
   "file_extension": ".py",
   "mimetype": "text/x-python",
   "name": "python",
   "nbconvert_exporter": "python",
   "pygments_lexer": "ipython3",
   "version": "3.7.7"
  },
  "varInspector": {
   "cols": {
    "lenName": 16,
    "lenType": 16,
    "lenVar": 40
   },
   "kernels_config": {
    "python": {
     "delete_cmd_postfix": "",
     "delete_cmd_prefix": "del ",
     "library": "var_list.py",
     "varRefreshCmd": "print(var_dic_list())"
    },
    "r": {
     "delete_cmd_postfix": ") ",
     "delete_cmd_prefix": "rm(",
     "library": "var_list.r",
     "varRefreshCmd": "cat(var_dic_list()) "
    }
   },
   "types_to_exclude": [
    "module",
    "function",
    "builtin_function_or_method",
    "instance",
    "_Feature"
   ],
   "window_display": false
  }
 },
 "nbformat": 4,
 "nbformat_minor": 4
}
