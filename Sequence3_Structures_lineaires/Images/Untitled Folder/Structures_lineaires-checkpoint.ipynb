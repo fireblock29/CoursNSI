{
 "cells": [
  {
   "cell_type": "markdown",
   "metadata": {},
   "source": [
    "# <center><font face=\"arial\" size=\"5\" color=#0101DF>NUMERIQUE ET SCIENCES INFORMATIQUES Terminale NSI</font></center>"
   ]
  },
  {
   "cell_type": "markdown",
   "metadata": {},
   "source": [
    "## <font color=#013ADF>Séquence N° 3 : Structures linéaires : listes, piles et files</font>"
   ]
  },
  {
   "cell_type": "markdown",
   "metadata": {},
   "source": [
    "<div class=\"alert alert-danger\" role=\"alert\">\n",
    "    \n",
    "Les objectifs de cette séquence sont :\n",
    "\n",
    "- Distinguer des structures par le jeu des méthodes qui les caractérisent ;\n",
    "- Choisir une structure de données adaptée à la situation à modéliser ;\n",
    "- Distinguer la recherche d'une valeur dans une liste et dans un dictionnaire.\n",
    "\n",
    "\n",
    "</div>"
   ]
  },
  {
   "cell_type": "markdown",
   "metadata": {},
   "source": [
    "<div class=\"alert alert-warning\">\n",
    "<img src=\"Images/CR.png\" alt=\"logo CR\" width=5% align=right>\n",
    "    \n",
    "Travail préalable   \n",
    "\n",
    "- Lire le chapitre 1 du livre ;\n",
    "- Indiquer en 2 lignes, ce veut dire l'acronyme **TAD** et ce qu'il représente ;\n",
    "- Rechercher des cas d'utilisation des piles en informatique (usage courant) ;\n",
    "- Rechercher des cas d'utilisation des files en informatique (usage courant) ;\n",
    "- Quelle est la différence de comportement entre une pile et une file ?\n",
    "<br><br>\n",
    "Pour stocker en mémoire une liste de données, on peut utiliser un tableau ou une liste chaînée.\n",
    "- Citer quelques avantages et inconvénients des 2 moyens de mémorisation."
   ]
  },
  {
   "cell_type": "markdown",
   "metadata": {},
   "source": [
    "### 1- Implémentation  d'une liste (chainée) "
   ]
  },
  {
   "cell_type": "markdown",
   "metadata": {},
   "source": [
    "La liste implémentée sera une liste dite chaînée puisque le noeud (ou cellule) pointe vers le noeud suivant ou vers un noeud vide (⊥).\n",
    "\n",
    "On peut en faire cette représentation schématique : \n",
    "![](Images/liste_chainee.png)\n",
    "\n",
    "Une liste est soit la valeur vide (None en python), soit un objet de la classe \"Noeud\" dont l'attribut \"noeud suivant\" contient une liste. C'est une définition récursive de la notion de liste."
   ]
  },
  {
   "cell_type": "markdown",
   "metadata": {},
   "source": [
    "**Interface retenue pour les listes (chaînées) :**"
   ]
  },
  {
   "cell_type": "code",
   "execution_count": 1,
   "metadata": {},
   "outputs": [],
   "source": [
    "from interface import Interface, implements\n",
    "\n",
    "class InterfaceLliste(Interface):\n",
    "    def __init__(self, donnee=None, liste=None):\n",
    "        '''\n",
    "        Constructeur permettant de créer une nouvelle liste. Cette liste peut être :\n",
    "            - Une liste vide\n",
    "            - Une liste ayant pour tête le maillon contenant donnee et pour queue liste\n",
    "                argument donnee : Donnée à ajouter en tête de liste\n",
    "                argument liste : Liste représentant la queue de nouvelle liste\n",
    "        '''\n",
    "        pass\n",
    " \n",
    "    def est_vide(self) -> bool:\n",
    "        '''\n",
    "        Méthode permettant de tester si la liste est vide\n",
    "        renvoie True si la liste est vide, False sinon\n",
    "        '''\n",
    "        pass\n",
    "          \n",
    "    def inserer(self, donnee : int):\n",
    "        '''\n",
    "        Méthode permettant d'ajouter un noeud en tête de liste\n",
    "        argument donnee : donnée du noeud à ajouter\n",
    "        '''\n",
    "        pass\n",
    "     \n",
    "    def supprimer(self) -> int:\n",
    "        '''\n",
    "        Méthode permettant de supprimer le noeud en tête de liste\n",
    "        et renvoie la donnée du nouveau noeud de tête\n",
    "        '''\n",
    "        pass\n",
    "\n",
    "    def get_tete(self)-> int:\n",
    "        '''\n",
    "        Méthode permettant de renvoyer la donnée du noeud en tête\n",
    "        de liste\n",
    "        '''\n",
    "        pass\n",
    "     \n",
    "    def get_queue(self): # -> Lliste\n",
    "        '''\n",
    "        Méthode permettant de renvoyer la queue de la liste\n",
    "        '''\n",
    "        pass\n",
    "    \n",
    "    def longueur(self) -> int:\n",
    "        '''\n",
    "        Méthode qui renvoie la longueur de la liste chaînée\n",
    "        '''\n",
    "        pass\n",
    "  \n"
   ]
  },
  {
   "cell_type": "markdown",
   "metadata": {},
   "source": [
    "### Première implémentation : Une liste chaînéee selon l'interface proposée ci-dessus, utilisant l'objet built-in de python list."
   ]
  },
  {
   "cell_type": "markdown",
   "metadata": {},
   "source": [
    "<div class=\"alert alert-warning\">\n",
    "<img src=\"Images/CR.png\" alt=\"logo CR\" width=5% align=right>\n",
    "    \n",
    "Travail à faire   \n",
    "    \n",
    "    \n",
    "- La chaîne vide sera représentée par **None**\n",
    "- Une chaîne ne possédant qu'un seul noeud sera représentée par une liste.\n",
    "  <br>*Exemple* : **[6, None]**\n",
    "- Une chaîne possédant plusieurs noeuds sera représentée par des listes imbriquées.\n",
    "  <br>*Exemple* : **[5, [1, [3, None]]]**\n",
    "\n",
    "**1-** Définir une classe **Lliste** (pour Linked list) implémentant l'interface **InterfaceLliste**.\n",
    "<br>Le constructeur aura deux arguments :\n",
    "- L'argument **donnee** : type choisi (des entiers pour nous), avec pour valeur par défaut **None**\n",
    "- L'argument **liste** : type **Lliste**, ayant pour valeur par défaut **None**\n",
    "\n",
    "Il devra initialiser l'attribut d'instance **tete** qui représente le premier noeud de la liste.\n",
    "Trois cas de figures possibles :\n",
    "- La liste est vide : l'attribut **tete** est initialisé à **None**\n",
    "- La liste comporte un seul noeud : l'attribut **tete** est initialisé avec les valeurs **[{donnee}, None]**\n",
    "- La liste comporte plus d'un noeud : l'attribut **tete** est initialisé avec les valeurs **[{donnee}, {tete du second noeud}]**\n",
    "\n",
    "*Exemple* :\n",
    "```python\n",
    "# Instanciation des objets\n",
    "l1=Lliste()\n",
    "l2=Lliste(5)\n",
    "l3=Lliste(6,l2)\n",
    "l4=Lliste(5,Lliste(4,Lliste(3)))\n",
    "\n",
    "# Attributs des objets instanciés\n",
    "None\n",
    "[5  None]\n",
    "[6  [5, None]]\n",
    "[5  [4, [3, None]]]\n",
    "```\n",
    "**2-** Implémenter une méthode d'instance **afficher** qui permette d'obtenir les affichages donnés ci-dessus en exemple.\n",
    "\n",
    "**3-** Implémenter la méthode d'instance **est_vide**.\n",
    "\n",
    "**4-** Implémenter la méthode d'instance **inserer**.\n",
    "- Prend en paramètre une valeur **donne**\n",
    "- Affecte à l'attribut **tete** :\n",
    "   - Les valeurs **[{donnee}, None]** si **tete** contient **None**\n",
    "   - Les valeurs **[{donnee}, {ancienne valeur de tete}]** sinon\n",
    "\n",
    "**5-** Implémenter la méthode d'instance **supprimer** qui permet de :\n",
    "- Modifier l'attribut **tete** en lui affectant les valeurs du second noeud\n",
    "- Renvoyer la valeur de la donnée du noeud supprimé\n",
    "<br>Si la liste est vide, une assertion renverra le message 'La liste est vide'.\n",
    "\n",
    "**6-** Implémenter la méthode d'instance **get_tete** qui renvoie la valeur de la donnée en tête de liste si la liste est non vide et une assertion qui renverra le message 'La liste est vide' sinon.\n",
    "\n",
    "**7-** Implémenter la méthode d'instance **get_queue** qui renvoie la liste représentant la queue de liste si la liste est non vide et une assertion qui renverra le message 'La liste est vide' sinon.\n",
    "\n",
    "**8-** Implémenter la méthode d'instance **longueur**\n",
    "<div>"
   ]
  },
  {
   "cell_type": "markdown",
   "metadata": {},
   "source": [
    "### Seconde implémentation : Création d'une classe Noeud"
   ]
  },
  {
   "cell_type": "markdown",
   "metadata": {},
   "source": [
    "<div class=\"alert alert-warning\">\n",
    "<img src=\"Images/CR.png\" alt=\"logo CR\" width=5% align=right>\n",
    "\n",
    "Travail à faire\n",
    "\n",
    "**1-**Créer une classe \"Noeud\" contenant les trois méthodes suivantes :\n",
    "- Le constructeur qui initialise deux attributs d'instance **donnee** et **suivant** :\n",
    "    - L'attribut **donnee**, de type entier, sera initialisée à l'aide de l'argument **donnee**.\n",
    "    - L'attribut **suivant**, de type **Noeud**, sera initialisé avec l'argument de type **Noeud** qui aura pour valeur par défaut **None**.\n",
    "- La méthode d'instance **afficher_noeud** qui affichera la donnée du noeud selon le format donné ci-dessous en exemple.\n",
    "- La méthode spéciale `__repr__` qui renverra de manière récursive, la chaîne de caractères représentant le premier noeud ainsi que ses successeurs.\n",
    "\n",
    "*Exemple d'exécution* :\n",
    "```python\n",
    "# Instanciation\n",
    "n1 = Noeud()   \n",
    "n2 = Noeud(2)  \n",
    "n3 = Noeud(1, n2)\n",
    "n4 = Noeud(4, Noeud(5, Noeud(6, Noeud(7,None))))\n",
    "\n",
    "# Demande d'affichage\n",
    "print(n1)  \n",
    "print(n2) \n",
    "print(n3)\n",
    "print(n4)\n",
    "print(n1.afficher_noeud())\n",
    "n4.afficher_noeud()\n",
    "\n",
    "# Résultats obtenus  \n",
    "[2  None]\n",
    "[1  [2  None]]\n",
    "[4  [5  [6  [7  None]]]]\n",
    "[None  . ]\n",
    "'[4  . ]'\n",
    "```\n",
    "<div>"
   ]
  },
  {
   "cell_type": "markdown",
   "metadata": {},
   "source": [
    "<div class=\"alert alert-success\">\n",
    "<img src=\"Images/warning.png\" alt=\"logo warn\" width=5% align=left>\n",
    "    \n",
    "Remarquons que si je renomme par exemple n4 -> liste, j'ai bien une liste chaînée !\n",
    "\n",
    "liste = Noeud(4, Noeud(5, Noeud(6, Noeud(7,None))))\n",
    "<div>"
   ]
  },
  {
   "cell_type": "markdown",
   "metadata": {},
   "source": [
    "<div class=\"alert alert-warning\">\n",
    "<img src=\"Images/CR.png\" alt=\"logo CR\" width=5% align=right>\n",
    "\n",
    "Travail à faire\n",
    "    \n",
    "**2-**Définir une classe **Lliste** implémentant l'interface **Lliste**.\n",
    "<br>Le constructeur aura deux arguments :\n",
    "- L'argument **donnee** : type entier, avec pour valeur par défaut **None**\n",
    "- L'argument **liste** : type **Lliste**, avec pour valeur par défaut **None**\n",
    " \n",
    "Il devra initialiser l'attribut d'instance **tete** qui représente le premier noeud de la liste.\n",
    "Trois cas sont possibles :\n",
    "- La liste est vide : l'attribut **tete** est initialisé à **None** ;\n",
    "- La liste comporte un seul noeud : l'attribut **tete** est initialisé avec le noeud **[{donnee} None]** ;\n",
    "- La liste comporte plus d'un noeud : l'attribut **tete** est initialisé avec le noeud : **[donnee, noeud de tete de la liste passée en argument]**\n",
    "\n",
    "La méthode spéciale `__repr__` qui renverra de manière récursive, la chaîne de caractères représentant le premier noeud ainsi que ses successeurs ou le message 'La liste est vide' si celle-ci l'est.\n",
    "    \n",
    "*Exemple d'exécution* :\n",
    "```python\n",
    "# Instanciation\n",
    "l1=Liste()\n",
    "l2=Liste(2)\n",
    "l3=Liste(3,l2)\n",
    "    \n",
    "# Demande d'affichage\n",
    "print(l1)\n",
    "print(l2)\n",
    "print(l3)\n",
    "\n",
    "# Résultats obtenus \n",
    "La liste est vide\n",
    "[2 None]\n",
    "[3 [2  None]]\n",
    "```   \n",
    "\n",
    "<img src=\"Images/warning.png\" alt=\"logo warn\" width=5% align=left>\n",
    "    \n",
    "**Pour le travail qui suit, prévoir les assertions nécessaires**\n",
    "<br><br><br>\n",
    "\n",
    "**3-**Implémenter les méthodes d'instance **est_vide**, **inserer**, **supprimer**.\n",
    "\n",
    "-> Pour la méthode **inserer**, on verifiera que la donnée insérée est bien de type entier avec la fonction **isinstance** native de python.\n",
    "    \n",
    "**4-**Implémenter les méthodes d'instance **get_tete**, **get_queue**.\n",
    "\n",
    "**5-**Implémenter la méthode d'instance **longueur**\n",
    "\n",
    "**6-**Implémenter la méthode d'instance **afficher** qui affichera **None** si la liste est vide ou la suite des noeuds sous la forme :\n",
    "    \n",
    "*Exemple :* Pour une liste [12 [10  [7  None]]] : [12  . ] [10  . ] [7  . ] None\n",
    "<div>"
   ]
  },
  {
   "cell_type": "markdown",
   "metadata": {},
   "source": [
    "### 2- Implémentation  d'une pile"
   ]
  },
  {
   "cell_type": "markdown",
   "metadata": {},
   "source": [
    "<div class=\"alert alert-success\">\n",
    "<img src=\"Images/warning.png\" alt=\"logo warn\" width=5% align=left>\n",
    "    \n",
    "Ici encore, on pourrait utilser des types natifs de python. Vous avez les solutions dans votre livre et je vous encourage à les analyser et à tester. Ces solutions sont normalement plus simples que celles abordées ici et consistent à \"brider\" les possibilités originelles de ces types.\n",
    "<br><br>\n",
    "Nous avons passé du temps à implémenter une liste chaînee, on va donc naturellement s'en servir pour implémenter une pile puis une file.\n",
    "<br><br>\n",
    "Pour vérifier votre travail, vous implémenterez pour les piles et les files, une méthode d'instance **afficher** qui appelera la méthode **afficher** de la classe **Lliste** (qui elle-même appelle la méthode d'instance **afficher_noeud**).\n",
    "<div>"
   ]
  },
  {
   "cell_type": "markdown",
   "metadata": {},
   "source": [
    "**On décide d'utiliser l'interface suivante pour les piles :**"
   ]
  },
  {
   "cell_type": "code",
   "execution_count": 7,
   "metadata": {},
   "outputs": [],
   "source": [
    "from interface import Interface, implements\n",
    "\n",
    "class InterfacePile(Interface):\n",
    "    def __init__(self):\n",
    "        '''\n",
    "        Constructeur permettant la création d'une pile vide\n",
    "        '''\n",
    "        pass\n",
    "\n",
    "    def est_vide(self) -> bool:\n",
    "        '''\n",
    "        Méthode permettant de tester si la pile est vide\n",
    "        et renvoie True si la pile est vide, False sinon\n",
    "        '''\n",
    "        pass\n",
    "\n",
    "    def empiler(self, donnee):\n",
    "        '''\n",
    "        Méthode permettant d'empiler \"donnee\" au sommet de la pile\n",
    "        argument donnee : donnée à empiler\n",
    "        '''\n",
    "        pass\n",
    "\n",
    "    def depiler(self):\n",
    "        '''\n",
    "        Méthode permettant de dépiler l'élément au sommet de la pile\n",
    "        et renvoie la donnée au sommet de la pile\n",
    "        '''\n",
    "        pass"
   ]
  },
  {
   "cell_type": "markdown",
   "metadata": {},
   "source": [
    "### 3- Implémentation  d'une file"
   ]
  },
  {
   "cell_type": "markdown",
   "metadata": {},
   "source": [
    "**On décide d'utiliser l'interface suivante pour les files :**"
   ]
  },
  {
   "cell_type": "code",
   "execution_count": 10,
   "metadata": {},
   "outputs": [],
   "source": [
    "from interface import Interface, implements\n",
    "class InterfaceFile(Interface):\n",
    "    def __init__(self):\n",
    "        '''\n",
    "        Constructeur permettant la création d'une file vide\n",
    "        '''\n",
    "        pass\n",
    " \n",
    "    def est_vide(self) -> bool:\n",
    "        '''\n",
    "        Méthode permettant de tester si la file est vide\n",
    "        et renvoie True si la file est vide, False sinon\n",
    "        '''\n",
    "        pass\n",
    "\n",
    "    def enfiler(self, donnee):\n",
    "        '''\n",
    "        Méthode permettant d'ajouter \"donnee\" en fin de file\n",
    "        argument donnee : donnée à ajouter\n",
    "        '''\n",
    "        pass\n",
    "\n",
    "    def defiler(self):\n",
    "        '''\n",
    "        Méthode qui supprime et renvoie le premier élément de la file\n",
    "        '''\n",
    "        pass\n"
   ]
  },
  {
   "cell_type": "markdown",
   "metadata": {},
   "source": [
    "### 3- Interface  d'un dictionnaire"
   ]
  },
  {
   "cell_type": "markdown",
   "metadata": {},
   "source": [
    "<div class=\"alert alert-warning\">\n",
    "<img src=\"Images/CR.png\" alt=\"logo CR\" width=5% align=right>\n",
    "\n",
    "Travail à faire\n",
    "\n",
    "Dans cette partie, vous allez réaliser une démarche inverse. Le type **dictionnaire** est natif en python.\n",
    "<br><br>\n",
    "On vous demande d'écrire l'interface de la classe **dict** pour les méthodes d'instances utilisée en première.\n",
    "\n",
    "**1-** Rappeler comment l'on peut obtenir la liste des méthodes d'un objet.\n",
    "\n",
    "**2-** Ecrire l'interface pour quelques méthodes couramment utilisées."
   ]
  },
  {
   "cell_type": "code",
   "execution_count": null,
   "metadata": {},
   "outputs": [],
   "source": [
    "dir (dict)"
   ]
  },
  {
   "cell_type": "code",
   "execution_count": null,
   "metadata": {},
   "outputs": [],
   "source": [
    "help(dict)"
   ]
  },
  {
   "cell_type": "code",
   "execution_count": null,
   "metadata": {},
   "outputs": [],
   "source": []
  }
 ],
 "metadata": {
  "kernelspec": {
   "display_name": "Python 3",
   "language": "python",
   "name": "python3"
  },
  "language_info": {
   "codemirror_mode": {
    "name": "ipython",
    "version": 3
   },
   "file_extension": ".py",
   "mimetype": "text/x-python",
   "name": "python",
   "nbconvert_exporter": "python",
   "pygments_lexer": "ipython3",
   "version": "3.7.7"
  },
  "varInspector": {
   "cols": {
    "lenName": 16,
    "lenType": 16,
    "lenVar": 40
   },
   "kernels_config": {
    "python": {
     "delete_cmd_postfix": "",
     "delete_cmd_prefix": "del ",
     "library": "var_list.py",
     "varRefreshCmd": "print(var_dic_list())"
    },
    "r": {
     "delete_cmd_postfix": ") ",
     "delete_cmd_prefix": "rm(",
     "library": "var_list.r",
     "varRefreshCmd": "cat(var_dic_list()) "
    }
   },
   "types_to_exclude": [
    "module",
    "function",
    "builtin_function_or_method",
    "instance",
    "_Feature"
   ],
   "window_display": false
  }
 },
 "nbformat": 4,
 "nbformat_minor": 2
}
