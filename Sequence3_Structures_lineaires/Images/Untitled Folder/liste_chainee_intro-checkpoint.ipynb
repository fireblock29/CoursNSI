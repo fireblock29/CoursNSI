{
 "cells": [
  {
   "cell_type": "code",
   "execution_count": null,
   "metadata": {},
   "outputs": [],
   "source": [
    "class Noeud:\n",
    "    \"\"\"\n",
    "    classe implémentant un noeud (ou maillon).\n",
    "    Le premier argument passé à l'instanciation est la donnée\n",
    "    Le second set le lien vers le noeud suivant.\n",
    "    \"\"\"\n",
    "    \n",
    "    def __init__(self,donnee=None, noeud_suivant=None):\n",
    "        self.donnee=donnee\n",
    "        self.suivant=noeud_suivant\n",
    "\n",
    "    def __repr__(self):\n",
    "        \"\"\"\n",
    "        Méthode qui permet d'afficher\n",
    "        de manière récursive la liste chainée\n",
    "        à partir du noeud passé en paramètre\n",
    "        \"\"\"\n",
    "        return f'[{self.donnee} : {self.suivant}]'\n",
    "    \n",
    "    def affiche(self): # faire un test avec la méthode __str__ pour voir la différence.\n",
    "        \"\"\"\n",
    "        Méthode qui permet d'afficher\n",
    "        le noeud passé en paramètre\n",
    "        \"\"\"\n",
    "        return f'[{self.donnee} : . ]'\n",
    "    \n",
    "if __name__=='__main__':\n",
    "    n1=Noeud(3)\n",
    "    n2=Noeud(2)\n",
    "    n3=Noeud(1)\n",
    "    "
   ]
  },
  {
   "cell_type": "code",
   "execution_count": null,
   "metadata": {},
   "outputs": [],
   "source": [
    "n1.donnee"
   ]
  },
  {
   "cell_type": "code",
   "execution_count": null,
   "metadata": {},
   "outputs": [],
   "source": [
    "print(n1.suivant)"
   ]
  },
  {
   "cell_type": "code",
   "execution_count": null,
   "metadata": {},
   "outputs": [],
   "source": [
    "n3.suivant=n2\n",
    "n2.suivant=n1"
   ]
  },
  {
   "cell_type": "code",
   "execution_count": null,
   "metadata": {},
   "outputs": [],
   "source": [
    "print(n1)"
   ]
  },
  {
   "cell_type": "code",
   "execution_count": null,
   "metadata": {},
   "outputs": [],
   "source": [
    "n1"
   ]
  },
  {
   "cell_type": "code",
   "execution_count": null,
   "metadata": {},
   "outputs": [],
   "source": [
    "print(n2)"
   ]
  },
  {
   "cell_type": "code",
   "execution_count": null,
   "metadata": {},
   "outputs": [],
   "source": [
    "print(n3.affiche())"
   ]
  },
  {
   "cell_type": "code",
   "execution_count": null,
   "metadata": {},
   "outputs": [],
   "source": [
    "class Liste:\n",
    "    \n",
    "    def __init__(self,donnee=None, liste=None):\n",
    "\n",
    "        if donnee==None:\n",
    "            self.tete=None\n",
    "        elif liste==None:\n",
    "            self.tete=Noeud(donnee,None)\n",
    "        else:\n",
    "            self.tete=Noeud(donnee,liste.tete)\n",
    "    \n",
    "    def __repr__(self):\n",
    "        return f'{self.tete}'\n",
    "    \n",
    "    def insere(self,donnee):\n",
    "        self.tete=Noeud(donnee,self.tete)\n",
    "    \n",
    "    def supprime(self):\n",
    "        self.tete=self.tete.suivant\n",
    "    \n",
    "    def get_tete(self):\n",
    "        return self.tete\n",
    "    \n",
    "    def get_queue(self):\n",
    "        return self.tete.suivant\n",
    "        "
   ]
  },
  {
   "cell_type": "code",
   "execution_count": null,
   "metadata": {},
   "outputs": [],
   "source": [
    "l1=Liste()\n",
    "l2=Liste(1)\n",
    "l3=Liste(2,l1)\n",
    "l4=Liste(1,Liste(2,Liste(3)))\n",
    "l4.insere(0)"
   ]
  },
  {
   "cell_type": "code",
   "execution_count": null,
   "metadata": {},
   "outputs": [],
   "source": [
    "l4"
   ]
  },
  {
   "cell_type": "code",
   "execution_count": null,
   "metadata": {},
   "outputs": [],
   "source": [
    "l3"
   ]
  },
  {
   "cell_type": "code",
   "execution_count": null,
   "metadata": {},
   "outputs": [],
   "source": [
    "l4.supprime()"
   ]
  },
  {
   "cell_type": "code",
   "execution_count": null,
   "metadata": {},
   "outputs": [],
   "source": [
    "l4"
   ]
  },
  {
   "cell_type": "code",
   "execution_count": null,
   "metadata": {},
   "outputs": [],
   "source": [
    "type(l4.get_tete())"
   ]
  },
  {
   "cell_type": "code",
   "execution_count": null,
   "metadata": {},
   "outputs": [],
   "source": [
    "l4.get_tete().affiche()"
   ]
  },
  {
   "cell_type": "code",
   "execution_count": null,
   "metadata": {},
   "outputs": [],
   "source": [
    "print(l4.get_tete().affiche())"
   ]
  },
  {
   "cell_type": "code",
   "execution_count": null,
   "metadata": {},
   "outputs": [],
   "source": [
    "print(l4.get_queue().affiche())"
   ]
  },
  {
   "cell_type": "code",
   "execution_count": null,
   "metadata": {},
   "outputs": [],
   "source": []
  }
 ],
 "metadata": {
  "kernelspec": {
   "display_name": "Python 3",
   "language": "python",
   "name": "python3"
  },
  "language_info": {
   "codemirror_mode": {
    "name": "ipython",
    "version": 3
   },
   "file_extension": ".py",
   "mimetype": "text/x-python",
   "name": "python",
   "nbconvert_exporter": "python",
   "pygments_lexer": "ipython3",
   "version": "3.7.7"
  },
  "varInspector": {
   "cols": {
    "lenName": 16,
    "lenType": 16,
    "lenVar": 40
   },
   "kernels_config": {
    "python": {
     "delete_cmd_postfix": "",
     "delete_cmd_prefix": "del ",
     "library": "var_list.py",
     "varRefreshCmd": "print(var_dic_list())"
    },
    "r": {
     "delete_cmd_postfix": ") ",
     "delete_cmd_prefix": "rm(",
     "library": "var_list.r",
     "varRefreshCmd": "cat(var_dic_list()) "
    }
   },
   "types_to_exclude": [
    "module",
    "function",
    "builtin_function_or_method",
    "instance",
    "_Feature"
   ],
   "window_display": false
  }
 },
 "nbformat": 4,
 "nbformat_minor": 4
}
