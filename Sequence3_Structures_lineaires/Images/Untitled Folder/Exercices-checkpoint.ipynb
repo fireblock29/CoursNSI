{
 "cells": [
  {
   "cell_type": "markdown",
   "metadata": {},
   "source": [
    "# <center><font face=\"arial\" size=\"5\" color=#0101DF>NUMERIQUE ET SCIENCES INFORMATIQUES Terminale NSI</font></center>"
   ]
  },
  {
   "cell_type": "markdown",
   "metadata": {},
   "source": [
    "## <font color=#013ADF>Révisions</font>"
   ]
  },
  {
   "cell_type": "markdown",
   "metadata": {},
   "source": [
    "Les exercices ne sont pas classés par ordre de difficultés."
   ]
  },
  {
   "cell_type": "markdown",
   "metadata": {},
   "source": [
    "### 1- Les tours de Hanoï"
   ]
  },
  {
   "cell_type": "markdown",
   "metadata": {},
   "source": [
    "<div class=\"alert alert-success\">\n",
    "\n",
    "<img src=\"Images/Hanoi.png\" alt=\"Les tours de Hanoï\" width=50% align=center>  \n",
    "    \n",
    "</div>"
   ]
  },
  {
   "cell_type": "markdown",
   "metadata": {},
   "source": [
    "<div class=\"alert alert-success\">\n",
    "\n",
    "    \n",
    "Le but du jeu est de déplacer entièrement la pile initiale sur la dernière tige.\n",
    "\n",
    "– Le joueur ne doit bouger qu’un disque à la fois ;\n",
    "    \n",
    "– Seul un petit disque peut être placé sur un plus gros disque ;\n",
    "    \n",
    "https://www.youtube.com/watch?v=w_9P7icYh7Y\n",
    "    \n",
    "Différentes approches ou point de vue :\n",
    "\n",
    "https://www.youtube.com/watch?v=rOnRbPKvGQg\n",
    "    \n",
    "https://twitter.com/ikeikey/status/1333335232292872194\n",
    "    \n",
    "Une explication détaillée sur Wikipédia (observer en particulier le graphe des tours pour passer de AAA à CCC)\n",
    "\n",
    "https://fr.wikipedia.org/wiki/Tours_de_Hano%C3%AF\n",
    "</div>"
   ]
  },
  {
   "cell_type": "markdown",
   "metadata": {},
   "source": [
    "<div class=\"alert alert-warning\">\n",
    "<img src=\"Images/CR.png\" alt=\"logo CR\" width=5% align=right>\n",
    "\n",
    "Travail à faire\n",
    "\n",
    "- Réaliser une fonction récursive implémentant les règles du jeu.\n",
    "\n",
    "</div>"
   ]
  },
  {
   "cell_type": "code",
   "execution_count": 7,
   "metadata": {
    "ExecuteTime": {
     "end_time": "2021-10-18T16:35:22.388493Z",
     "start_time": "2021-10-18T16:35:22.373114Z"
    }
   },
   "outputs": [
    {
     "name": "stdout",
     "output_type": "stream",
     "text": [
      "True\n",
      "Pile d'entrée : []\n",
      "Pile de sortie : [455, 4, 45]\n"
     ]
    }
   ],
   "source": [
    "from strucline import Pile\n",
    "class File_abstraite():\n",
    "    def __init__(self):\n",
    "        self.pile_entree=Pile()\n",
    "        self.pile_sortie=Pile()\n",
    "        \n",
    "    def est_vide(self):\n",
    "        return self.pile_entree.est_vide() and self.pile_sortie.est_vide()\n",
    "    \n",
    "    def enfiler(self, val):\n",
    "        self.pile_entree.empiler(val)\n",
    "        \n",
    "    def defiler(self):\n",
    "        if self.pile_sortie.est_vide():\n",
    "            transvaser(self)\n",
    "        else:\n",
    "            self.pile_sortie.depiler()\n",
    "    \n",
    "    def __repr__(self):\n",
    "        if self.est_vide():\n",
    "            return \"None\"\n",
    "        return f\"Pile d'entrée : {self.pile_entree.pile}\\nPile de sortie : {self.pile_sortie.pile}\"\n",
    "        \n",
    "    \n",
    "\n",
    "                \n",
    "                \n",
    "def transvaser(file_tr):\n",
    "    while not(file_tr.pile_entree.est_vide()):\n",
    "        file_tr.pile_sortie.empiler(file_tr.pile_entree.depiler())\n",
    "        \n",
    "        \n",
    "        \n",
    "if __name__=='__main__':\n",
    "    file1=File_abstraite()\n",
    "    print(file1.est_vide())\n",
    "    file1.enfiler(45)\n",
    "    file1.enfiler(4)\n",
    "    file1.enfiler(455)\n",
    "    file1.defiler()\n",
    "    print(file1)"
   ]
  },
  {
   "cell_type": "markdown",
   "metadata": {},
   "source": [
    "### 2- Réaliser une file avec deux piles"
   ]
  },
  {
   "cell_type": "markdown",
   "metadata": {},
   "source": [
    "<div class=\"alert alert-success\">\n",
    "Le principe est simple :\n",
    "\n",
    "- Lorsqu'on veut enfiler un élément dans la file abstraite, on dépose en réalité l'élément dans une structure de données pile qu'on nommera pile_entree.\n",
    "- Lorsqu'on veut défiler un élément de la file abstraite, on va chercher en réalité le sommet d'une structure de données pile qu'on nommera pile_sortie.\n",
    "\n",
    "<img src=\"Images/file2piles.png\" alt=\"Une file avec 2 piles\" width=50% align=center>  \n",
    "\n",
    "Comment faire ?\n",
    "    \n",
    "Lorsqu'on veut défiler les données de la file, deux cas se présentent :\n",
    "\n",
    "- Si la pile de sortie est vide, on dépile l'intégralité de la pile d'entree dans la pile de sortie : cela va permettre d'inverser les positions respectives du premier arrivé et du dernier arrivé de la pile d'entree.\n",
    "- Si la pile de sortie n'est pas vide, on dépile juste la pile de sortie.\n",
    "</div>"
   ]
  },
  {
   "cell_type": "markdown",
   "metadata": {
    "ExecuteTime": {
     "end_time": "2021-10-18T09:20:08.978687Z",
     "start_time": "2021-10-18T09:20:08.970556Z"
    }
   },
   "source": [
    "<div class=\"alert alert-warning\">\n",
    "<img src=\"Images/CR.png\" alt=\"logo CR\" width=5% align=right>\n",
    "\n",
    "Travail à faire\n",
    "\n",
    "- Réaliser la structure implémentant cette file abstraite selon le paradigme fonctionnel et/ou orienté objet ;\n",
    "- Placer des vérifications sur les pré et postconditions (assertion), ainsi que des tests unitaires (doctest);\n",
    "\n",
    "</div>"
   ]
  },
  {
   "cell_type": "code",
   "execution_count": null,
   "metadata": {},
   "outputs": [],
   "source": [
    "class "
   ]
  },
  {
   "cell_type": "markdown",
   "metadata": {},
   "source": [
    "### 3- Calculatrice polonaise inverse"
   ]
  },
  {
   "cell_type": "markdown",
   "metadata": {},
   "source": [
    "<div class=\"alert alert-success\">\n",
    "Dans l'écriture usuelle des expressions algébriques, les parenthèses sont indispensables. Elles permettent par exemple de distinguer les expressions 1 + 2 x 3 et (1 + 2) x 3.\n",
    "\n",
    "Avec la notation préfixée (appelée aussi notation polonaise inverse, en référence à un mathématicien polonais, Jan Lukasiewic), les parenthèses ne sont plus nécessaires, ni aucune règle de priorité.\n",
    "\n",
    "Ainsi l'expression polonaise inverse décrite par la chaîne de caractères : '1 2 3 * + 4 *' désigne l'expression usuellement notée (1 + 2 x 3) x 4\n",
    "\n",
    "Pour évaluer cette expression, on observe un à un les éléments de l'expression et on effectue les actions suivantes :\n",
    "\n",
    "- si l'élément est un nombre, on le stocke dans une structure de donnée linéaire à définir.\n",
    "- Si l'élément est un opérateur, on on récupère les deux nombres dernièrement stockés, on leur applique l'opérateur, et on restocke le résultat.\n",
    "\n",
    "</div>"
   ]
  },
  {
   "cell_type": "markdown",
   "metadata": {},
   "source": [
    "<div class=\"alert alert-warning\">\n",
    "<img src=\"Images/CR.png\" alt=\"logo CR\" width=5% align=right>\n",
    "\n",
    "Travail à faire\n",
    "\n",
    "- Écrire une telle fonction d'évaluation prenant en paramètre une liste d'entiers et d'opérateurs représentant une expression en notation polonaise inverse et renvoyant la valeur de cette expression. Si l'expression est mal écrite, on renverra une erreur.\n",
    "- Placer des vérifications sur les pré et postconditions (assertion), ainsi que des tests unitaires (doctest);\n",
    "\n",
    "</div>\n"
   ]
  },
  {
   "cell_type": "markdown",
   "metadata": {},
   "source": [
    "### 4- Chaînes bien parenthésées"
   ]
  },
  {
   "cell_type": "markdown",
   "metadata": {},
   "source": [
    "<div class=\"alert alert-success\">\n",
    "\n",
    "On considère une chaîne de caractères incluant des parenthèses de toutes formes. La chaîne est dite bien parenthésée, si chaque paranthése ouvrante est associée à une parenthése fermante de même forme.\n",
    "</div>"
   ]
  },
  {
   "cell_type": "markdown",
   "metadata": {},
   "source": [
    "<div class=\"alert alert-warning\">\n",
    "<img src=\"Images/CR.png\" alt=\"logo CR\" width=5% align=right>\n",
    "\n",
    "Travail à faire\n",
    "\n",
    "- Écrire une fonction prenant en paramètre une chaîne de caractères contenant, entre autres, des parenthéses et qui renvoie True si la chaîne est bien parenthésée et False sinon.\n",
    "</div>"
   ]
  },
  {
   "cell_type": "markdown",
   "metadata": {},
   "source": [
    "### 5- Le problème de Josèphe. "
   ]
  },
  {
   "cell_type": "markdown",
   "metadata": {},
   "source": [
    "<div class=\"alert alert-success\">\n",
    "    \n",
    "https://fr.wikipedia.org/wiki/Problème_de_Josèphe\n",
    "    \n",
    "On place en cercle les joueurs. On décide d'un joueur point de départ et on élimine ce joueur. Puis on compte 3 joueurs et on élimine le 3ème. On compte ensuite 3 joueurs en partant du suivant et on élimine...etc. Le problème est de prévoir le gagnant.\n",
    "\n",
    "<img src=\"Images/Josephe.png\" alt=\"Le problème de Josèphe\" width=80% align=center>  \n",
    "\n",
    "\n",
    "</div>"
   ]
  },
  {
   "cell_type": "markdown",
   "metadata": {},
   "source": [
    "<div class=\"alert alert-warning\">\n",
    "<img src=\"Images/CR.png\" alt=\"logo CR\" width=5% align=right>\n",
    "\n",
    "Travail à faire\n",
    "\n",
    "- Écrire une fonction utilisant une file, prenant en paramètres la liste des joueurs et le module (dans l'exemple, le module est 3) et qui renvoie le gagnant ;\n",
    "- Placer des vérifications sur les pré et postconditions (assertion), ainsi que des tests unitaires (doctest);\n",
    "</div>"
   ]
  },
  {
   "cell_type": "markdown",
   "metadata": {},
   "source": [
    "### 6- Liste chaînée immuable (non-mutable)"
   ]
  },
  {
   "cell_type": "markdown",
   "metadata": {},
   "source": [
    "<div class=\"alert alert-warning\">\n",
    "<img src=\"Images/CR.png\" alt=\"logo CR\" width=5% align=right>\n",
    "\n",
    "Travail à faire\n",
    "\n",
    "- Implémenter une liste chaînée immuable d'entiers avec l'objet built-in de python tuple ;\n",
    "- Placer des vérifications sur les pré et postconditions (assertion), ainsi que des tests unitaires (doctest);\n",
    "</div>"
   ]
  },
  {
   "cell_type": "code",
   "execution_count": null,
   "metadata": {},
   "outputs": [],
   "source": [
    "def listeVide()-> tuple  :\n",
    "    '''\n",
    "    renvoie une liste chaînée vide\n",
    "    '''\n",
    "    pass\n",
    "\n",
    "def estListeVide(llst) -> bool : \n",
    "    '''\n",
    "    llst : LISTE\n",
    "    '''\n",
    "    pass\n",
    "\n",
    "def cons(x:int,llst : tuple)  : \n",
    "    '''\n",
    "    ajoute x en tête de llst\n",
    "    '''\n",
    "    pass\n",
    "\n",
    "def queue(llst)->tuple :\n",
    "    '''\n",
    "    renvoie la queue de llst\n",
    "    '''\n",
    "    pass\n",
    "\n",
    "def tete(llst) :\n",
    "    '''\n",
    "    renvoie l'entier de la tête de llst\n",
    "    '''\n",
    "    pass\n",
    "\n",
    "def longueur(llst) -> int :\n",
    "    '''\n",
    "    llst : LISTE\n",
    "    '''\n",
    "    pass\n",
    "\n",
    "liste=listeVide()\n",
    "print(id(liste))\n",
    "print('longueur de liste vide =',longueur(liste))\n",
    "print('estListeVide(liste vide) =',estListeVide(liste))\n",
    "liste=cons(1,liste)\n",
    "print(id(liste))\n",
    "print('après ajout de 1 en tête =',liste)\n",
    "liste=cons('A',liste)\n",
    "print(id(liste))\n",
    "print('après ajout de A en tête =',liste)\n",
    "liste=cons((1,2),liste)\n",
    "print(id(liste))\n",
    "print('après ajout de (1,2) en tête =',liste)\n",
    "liste=queue(liste)\n",
    "print(id(liste))\n",
    "print('après suppression de la tête =',liste)\n",
    "print('longueur de la liste =',longueur(liste))\n",
    "print('tête de liste : ',tete(liste))"
   ]
  }
 ],
 "metadata": {
  "hide_input": false,
  "kernelspec": {
   "display_name": "Python 3",
   "language": "python",
   "name": "python3"
  },
  "language_info": {
   "codemirror_mode": {
    "name": "ipython",
    "version": 3
   },
   "file_extension": ".py",
   "mimetype": "text/x-python",
   "name": "python",
   "nbconvert_exporter": "python",
   "pygments_lexer": "ipython3",
   "version": "3.6.10"
  },
  "latex_envs": {
   "LaTeX_envs_menu_present": true,
   "autoclose": false,
   "autocomplete": true,
   "bibliofile": "biblio.bib",
   "cite_by": "apalike",
   "current_citInitial": 1,
   "eqLabelWithNumbers": true,
   "eqNumInitial": 1,
   "hotkeys": {
    "equation": "Ctrl-E",
    "itemize": "Ctrl-I"
   },
   "labels_anchors": false,
   "latex_user_defs": false,
   "report_style_numbering": false,
   "user_envs_cfg": false
  },
  "nbTranslate": {
   "displayLangs": [
    "*"
   ],
   "hotkey": "alt-t",
   "langInMainMenu": true,
   "sourceLang": "en",
   "targetLang": "fr",
   "useGoogleTranslate": true
  },
  "toc": {
   "base_numbering": 1,
   "nav_menu": {},
   "number_sections": true,
   "sideBar": true,
   "skip_h1_title": false,
   "title_cell": "Table of Contents",
   "title_sidebar": "Contents",
   "toc_cell": false,
   "toc_position": {},
   "toc_section_display": true,
   "toc_window_display": false
  },
  "varInspector": {
   "cols": {
    "lenName": 16,
    "lenType": 16,
    "lenVar": 40
   },
   "kernels_config": {
    "python": {
     "delete_cmd_postfix": "",
     "delete_cmd_prefix": "del ",
     "library": "var_list.py",
     "varRefreshCmd": "print(var_dic_list())"
    },
    "r": {
     "delete_cmd_postfix": ") ",
     "delete_cmd_prefix": "rm(",
     "library": "var_list.r",
     "varRefreshCmd": "cat(var_dic_list()) "
    }
   },
   "types_to_exclude": [
    "module",
    "function",
    "builtin_function_or_method",
    "instance",
    "_Feature"
   ],
   "window_display": false
  }
 },
 "nbformat": 4,
 "nbformat_minor": 2
}
