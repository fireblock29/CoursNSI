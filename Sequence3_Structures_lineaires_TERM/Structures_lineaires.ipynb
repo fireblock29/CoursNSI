{
 "cells": [
  {
   "cell_type": "markdown",
   "metadata": {},
   "source": [
    "# <center><font face=\"arial\" size=\"5\" color=#0101DF>NUMERIQUE ET SCIENCES INFORMATIQUES Terminale NSI</font></center>"
   ]
  },
  {
   "cell_type": "markdown",
   "metadata": {},
   "source": [
    "## <font color=#013ADF>Séquence N° 3 : Structures de données linéaires : listes, piles et files</font>"
   ]
  },
  {
   "cell_type": "markdown",
   "metadata": {},
   "source": [
    "<div class=\"alert alert-danger\" role=\"alert\">\n",
    "    \n",
    "Les objectifs de cette séquence sont :\n",
    "\n",
    "- Distinguer des structures par le jeu des méthodes qui les caractérisent ;\n",
    "- Choisir une structure de données adaptée à la situation à modéliser ;\n",
    "- Distinguer la recherche d'une valeur dans une liste et dans un dictionnaire.\n",
    "\n",
    "\n",
    "</div>"
   ]
  },
  {
   "cell_type": "markdown",
   "metadata": {},
   "source": [
    "<div class=\"alert alert-warning\">\n",
    "<img src=\"Images/CR.png\" alt=\"logo CR\" width=5% align=right>\n",
    "    \n",
    "Travail préalable   \n",
    "\n",
    "- Lire le chapitre 1 du livre ;\n",
    "- Indiquer en 2 lignes, ce veut dire l'acronyme **TAD** et ce qu'il représente ;\n",
    "- Rechercher des cas d'utilisation des piles en informatique (usage courant) ;\n",
    "- Rechercher des cas d'utilisation des files en informatique (usage courant) ;\n",
    "- Quelle est la différence de comportement entre une pile et une file ?\n",
    "<br><br>\n",
    "Pour stocker en mémoire une liste de données, on peut utiliser un tableau ou une liste chaînée.\n",
    "- Citer quelques avantages et inconvénients des 2 moyens de mémorisation."
   ]
  },
  {
   "cell_type": "raw",
   "metadata": {},
   "source": [
    "TAD pour Type Abstrait de Données décrit le type de données et l'interface de la représentation des données souhaitées, indépendamment de l'implémentation\n",
    "\n",
    "On peut utiliser des piles pour inverser un tableau, un mot, pour mémoriser des informations, CTRL-Z (Undo), Navigation internet (Retour de pages)\n",
    "\n",
    "On peut utiliser une file pour mémoriser temporairement des informations qui doivent être traitées (mémoire tampon : gestion de l'impression de docs\n",
    "\n",
    "Comportement d'une pile : LIFO (Last In First Out)\n",
    "\n",
    "Comportement d'une file : FIFO (First In First Out)\n",
    "\n",
    "\n",
    "\n",
    "Avantages des tableaux par rapport aux listes :\n",
    "\n",
    "    - TAB : Tous les éléments sont consécutifs. Coût en temps identique (Tableau[2]; Tableau[4])\n",
    "      Liste : Pas le cas pour la liste chaînée (On part toujours du début)\n",
    "      \n",
    "    - TAB : Position des éléments implicite (Espace mémoire minimal)\n",
    "      Liste : Pas le cas pour la liste chaînée\n",
    "      \n",
    "    - TAB : Taille du tableau pré-définie (Si c'est plein, c'est plein)\n",
    "      Liste : Taille limitée à l'espace mémoire (Insertion et suppression plus aisée)"
   ]
  },
  {
   "cell_type": "markdown",
   "metadata": {},
   "source": [
    "### 1- Implémentation  d'une liste (chainée) "
   ]
  },
  {
   "cell_type": "markdown",
   "metadata": {},
   "source": [
    "La liste implémentée sera une liste dite chaînée puisque le noeud (ou cellule) pointe vers le noeud suivant ou vers un noeud vide (⊥).\n",
    "\n",
    "On peut en faire cette représentation schématique : \n",
    "![](Images/liste_chainee.png)\n",
    "\n",
    "Une liste est soit la valeur vide (None en python), soit un objet de la classe \"Noeud\" dont l'attribut \"noeud suivant\" contient une liste. C'est une définition récursive de la notion de liste."
   ]
  },
  {
   "cell_type": "markdown",
   "metadata": {},
   "source": [
    "**TAD liste**\n",
    "\n",
    "Type : Liste\n",
    "\n",
    "Utilise : Donnée (de type entier), Booléen, Entier\n",
    "\n",
    "Opérations :\n",
    "    \n",
    "    est_vide : Liste → Booleen\n",
    "    \n",
    "    inserer : Liste → Donnée\n",
    "    \n",
    "    supprimer : Liste → Liste\n",
    "    \n",
    "    constructeur : Donnée x Liste → Liste\n",
    "                   ou\n",
    "                   → Liste\n",
    "    \n",
    "    get_tete : → Donnée\n",
    "    \n",
    "    get_queue : → Liste\n",
    "    \n",
    "    longueur : → Entier\n",
    "    \n",
    "Pré-conditions :\n",
    "\n",
    "    get_tete(Liste) : ¬ est_vide(Liste)\n",
    "    get_queue(Liste) : ¬ est_vide(Liste)\n",
    "    supprimer(Liste) : ¬ est_vide(Liste)"
   ]
  },
  {
   "cell_type": "markdown",
   "metadata": {},
   "source": [
    "**Interface retenue pour les listes (chaînées) :**\n"
   ]
  },
  {
   "cell_type": "code",
   "execution_count": 1,
   "metadata": {
    "ExecuteTime": {
     "end_time": "2021-11-16T09:14:28.791201Z",
     "start_time": "2021-11-16T09:14:28.781780Z"
    }
   },
   "outputs": [],
   "source": [
    "# Oublies pas de te déconnecter man\n",
    "class InterfaceLliste():\n",
    "    def __init__(self, donnee=None, liste=None):\n",
    "        '''\n",
    "        Constructeur permettant de créer une nouvelle liste. Cette liste peut être :\n",
    "            - Une liste vide\n",
    "            - Une liste ayant pour tête le maillon contenant donnee et pour queue liste\n",
    "                argument donnee : Donnée à ajouter en tête de liste\n",
    "                argument liste : Liste représentant la queue de nouvelle liste\n",
    "        '''\n",
    "        \n",
    "        pass\n",
    " \n",
    "    def est_vide(self) -> bool:\n",
    "        '''\n",
    "        Méthode permettant de tester si la liste est vide\n",
    "        renvoie True si la liste est vide, False sinon\n",
    "        '''\n",
    "        pass\n",
    "          \n",
    "    def inserer(self, donnee : int):\n",
    "        '''\n",
    "        Méthode permettant d'ajouter un noeud en tête de liste\n",
    "        argument donnee : donnée du noeud à ajouter\n",
    "        '''\n",
    "        pass\n",
    "     \n",
    "    def supprimer(self) -> int:\n",
    "        '''\n",
    "        Méthode permettant de supprimer le noeud en tête de liste\n",
    "        et renvoie la donnée du nouveau noeud de tête\n",
    "        '''\n",
    "        pass\n",
    "\n",
    "    def get_tete(self)-> int:\n",
    "        '''\n",
    "        Méthode permettant de renvoyer la donnée du noeud en tête\n",
    "        de liste\n",
    "        '''\n",
    "        pass\n",
    "     \n",
    "    def get_queue(self): # -> Lliste\n",
    "        '''\n",
    "        Méthode permettant de renvoyer la queue de la liste\n",
    "        '''\n",
    "        pass\n",
    "    \n",
    "    def longueur(self) -> int:\n",
    "        '''\n",
    "        Méthode qui renvoie la longueur de la liste chaînée\n",
    "        '''\n",
    "        pass\n",
    "  \n"
   ]
  },
  {
   "cell_type": "code",
   "execution_count": 2,
   "metadata": {
    "ExecuteTime": {
     "end_time": "2021-11-09T16:31:43.674053Z",
     "start_time": "2021-11-09T16:31:43.655722Z"
    }
   },
   "outputs": [],
   "source": [
    "class Lliste():\n",
    "    def __init__(self, donnee=None, liste=None):\n",
    "        '''\n",
    "        Constructeur permettant de créer une nouvelle liste. Cette liste peut être :\n",
    "            - Une liste vide\n",
    "            - Une liste ayant pour tête le maillon contenant donnee et pour queue liste\n",
    "                argument donnee : Donnée à ajouter en tête de liste\n",
    "                argument liste : Liste représentant la queue de nouvelle liste\n",
    "        '''\n",
    "        if donnee==None:\n",
    "            self.tete=None\n",
    "        elif liste==None:\n",
    "            self.tete=[donnee,None]\n",
    "        else:\n",
    "            self.tete=[donnee,liste.tete]\n",
    "            \n",
    "    def __repr__(self):\n",
    "        \"\"\"\n",
    "        Méthode de représentation de la liste chaînée\n",
    "        \"\"\"\n",
    "        if self.tete is None:\n",
    "            return f\"{None}\"\n",
    "        else:\n",
    "            donnee, suivant = self.tete\n",
    "            if suivant is None:\n",
    "                return f'[{donnee} None]'\n",
    "            else:\n",
    "                return f'[{donnee} {suivant}]'\n",
    " \n",
    "    def est_vide(self) -> bool:\n",
    "        '''\n",
    "        Méthode permettant de tester si la liste est vide\n",
    "        renvoie True si la liste est vide, False sinon\n",
    "        '''\n",
    "        return self.tete==None\n",
    "          \n",
    "    def inserer(self, donnee : int):\n",
    "        '''\n",
    "        Méthode permettant d'ajouter un noeud en tête de liste\n",
    "        argument donnee : donnée du noeud à ajouter\n",
    "        '''\n",
    "        if self.est_vide():\n",
    "            self.tete=[donnee,None]\n",
    "        else:\n",
    "            self.tete=[donnee,self.tete]\n",
    "     \n",
    "    def supprimer(self) -> int:\n",
    "        '''\n",
    "        Méthode permettant de supprimer le noeud en tête de liste\n",
    "        et renvoie la donnée du nouveau noeud de tête\n",
    "        '''\n",
    "        if self.est_vide():\n",
    "            return None\n",
    "        self.tete=self.tete[1] #self.get_queue()\n",
    "        return self.tete\n",
    "            \n",
    "\n",
    "    def get_tete(self)-> int:\n",
    "        '''\n",
    "        Méthode permettant de renvoyer la donnée du noeud en tête\n",
    "        de liste\n",
    "        '''\n",
    "        if self.est_vide():\n",
    "            return None\n",
    "        return self.tete[0]\n",
    "     \n",
    "    def get_queue(self): # -> Lliste\n",
    "        '''\n",
    "        Méthode permettant de renvoyer la queue de la liste\n",
    "        '''\n",
    "        if self.est_vide():\n",
    "            return None\n",
    "        return self.tete[1]\n",
    "    \n",
    "    \"\"\"\n",
    "    def longueur(self) -> int:\n",
    "        '''\n",
    "        Méthode qui renvoie la longueur de la liste chaînée\n",
    "        Version itérative\n",
    "        '''\n",
    "        long=0\n",
    "        if self.tete==None:\n",
    "            return 0\n",
    "        noeud=self.tete\n",
    "        while noeud!=None:\n",
    "            long+=1\n",
    "            noeud=noeud[1]if self.tete[1]==None or tete==None:\n",
    "            return 0\n",
    "        #return 1+self.longueur(self.tete[1], self.get_queue()[1:])\n",
    "        return long\n",
    "    \"\"\"\n",
    "    \n",
    "    def longueur(self) -> int:\n",
    "        '''\n",
    "        Méthode qui renvoie la longueur de la liste chaînée\n",
    "        Version récursive\n",
    "        '''\n",
    "        if self.est_vide():\n",
    "            return 0\n",
    "        def longueurbis(tete):\n",
    "            if tete[1]==None:\n",
    "                return 0\n",
    "            return 1+longueurbis(tete[1])\n",
    "        return 1+longueurbis(self.tete)\n",
    "        \n",
    "        \n"
   ]
  },
  {
   "cell_type": "code",
   "execution_count": 49,
   "metadata": {
    "ExecuteTime": {
     "end_time": "2021-10-12T07:11:24.831866Z",
     "start_time": "2021-10-12T07:11:24.823055Z"
    }
   },
   "outputs": [
    {
     "name": "stdout",
     "output_type": "stream",
     "text": [
      "[5 [4, [3, None]]]\n",
      "3\n",
      "0\n"
     ]
    }
   ],
   "source": [
    "l1=Lliste()\n",
    "l2=Lliste(5)\n",
    "l3=Lliste(6,l2)\n",
    "l4=Lliste(5,Lliste(4,Lliste(3)))\n",
    "#l4.inserer(48)\n",
    "#print(l4.get_tete())\n",
    "#print(l4.supprimer())\n",
    "print(l4)\n",
    "\n",
    "print(l4.longueur())\n",
    "l4.inserer(48)\n",
    "print(l1.longueur())\n",
    "\n",
    "\n"
   ]
  },
  {
   "cell_type": "markdown",
   "metadata": {
    "heading_collapsed": true
   },
   "source": [
    "### Première implémentation : Une liste chaînée selon l'interface proposée ci-dessus, utilisant l'objet built-in de python list."
   ]
  },
  {
   "cell_type": "markdown",
   "metadata": {
    "hidden": true
   },
   "source": [
    "<div class=\"alert alert-warning\">\n",
    "<img src=\"Images/CR.png\" alt=\"logo CR\" width=5% align=right>\n",
    "    \n",
    "Travail à faire   \n",
    "    \n",
    "    \n",
    "- La chaîne vide sera représentée par **None**\n",
    "- Une chaîne ne possédant qu'un seul noeud sera représentée par une liste.\n",
    "  <br>*Exemple* : **[6, None]**\n",
    "- Une chaîne possédant plusieurs noeuds sera représentée par des listes imbriquées.\n",
    "  <br>*Exemple* : **[5, [1, [3, None]]]**\n",
    "\n",
    "**1-** Définir une classe **Lliste** (pour Linked list) implémentant l'interface **InterfaceLliste**.\n",
    "<br>Le constructeur aura deux arguments :\n",
    "- L'argument **donnee** : type choisi (des entiers pour nous), avec pour valeur par défaut **None**\n",
    "- L'argument **liste** : type **Lliste**, ayant pour valeur par défaut **None**\n",
    "\n",
    "Il devra initialiser l'attribut d'instance **tete** qui représente le premier noeud de la liste.\n",
    "Trois cas de figures possibles :\n",
    "- La liste est vide : l'attribut **tete** est initialisé à **None**\n",
    "- La liste comporte un seul noeud : l'attribut **tete** est initialisé avec les valeurs **[{donnee}, None]**\n",
    "- La liste comporte plus d'un noeud : l'attribut **tete** est initialisé avec les valeurs **[{donnee}, {tete du second noeud}]**\n",
    "\n",
    "*Exemple* :\n",
    "```python\n",
    "# Instanciation des objets\n",
    "l1=Lliste()\n",
    "l2=Lliste(5)\n",
    "l3=Lliste(6,l2)\n",
    "l4=Lliste(5,Lliste(4,Lliste(3)))\n",
    "\n",
    "# Attributs des objets instanciés\n",
    "None\n",
    "[5  None]\n",
    "[6  [5, None]]\n",
    "[5  [4, [3, None]]]\n",
    "```\n",
    "**2-** Implémenter une méthode d'instance **afficher** qui permette d'obtenir les affichages donnés ci-dessus en exemple.\n",
    "\n",
    "**3-** Implémenter la méthode d'instance **est_vide**.\n",
    "\n",
    "**4-** Implémenter la méthode d'instance **inserer**.\n",
    "- Prend en paramètre une valeur **donne**\n",
    "- Affecte à l'attribut **tete** :\n",
    "   - Les valeurs **[{donnee}, None]** si **tete** contient **None**\n",
    "   - Les valeurs **[{donnee}, {ancienne valeur de tete}]** sinon\n",
    "\n",
    "**5-** Implémenter la méthode d'instance **supprimer** qui permet de :\n",
    "- Modifier l'attribut **tete** en lui affectant les valeurs du second noeud\n",
    "- Renvoyer la valeur de la donnée du noeud supprimé\n",
    "<br>Si la liste est vide, une assertion renverra le message 'La liste est vide'.\n",
    "\n",
    "**6-** Implémenter la méthode d'instance **get_tete** qui renvoie la valeur de la donnée en tête de liste si la liste est non vide et une assertion qui renverra le message 'La liste est vide' sinon.\n",
    "\n",
    "**7-** Implémenter la méthode d'instance **get_queue** qui renvoie la liste représentant la queue de liste si la liste est non vide et une assertion qui renverra le message 'La liste est vide' sinon.\n",
    "\n",
    "**8-** Implémenter la méthode d'instance **longueur**\n",
    "<div>"
   ]
  },
  {
   "cell_type": "markdown",
   "metadata": {
    "heading_collapsed": true
   },
   "source": [
    "### Seconde implémentation : Création d'une classe Noeud"
   ]
  },
  {
   "cell_type": "markdown",
   "metadata": {
    "hidden": true
   },
   "source": [
    "<div class=\"alert alert-warning\">\n",
    "<img src=\"Images/CR.png\" alt=\"logo CR\" width=5% align=right>\n",
    "\n",
    "Travail à faire\n",
    "\n",
    "**1-**Créer une classe \"Noeud\" contenant les trois méthodes suivantes :\n",
    "- Le constructeur qui initialise deux attributs d'instance **donnee** et **suivant** :\n",
    "    - L'attribut **donnee**, de type entier, sera initialisée à l'aide de l'argument **donnee**.\n",
    "    - L'attribut **suivant**, de type **Noeud**, sera initialisé avec l'argument de type **Noeud** qui aura pour valeur par défaut **None**.\n",
    "- La méthode d'instance **afficher_noeud** qui affichera la donnée du noeud selon le format donné ci-dessous en exemple.\n",
    "- La méthode spéciale `__repr__` qui renverra de manière récursive, la chaîne de caractères représentant le premier noeud ainsi que ses successeurs.\n",
    "\n",
    "*Exemple d'exécution* :\n",
    "```python\n",
    "# Instanciation\n",
    "n1 = Noeud()   \n",
    "n2 = Noeud(2)  \n",
    "n3 = Noeud(1, n2)\n",
    "n4 = Noeud(4, Noeud(5, Noeud(6, Noeud(7,None))))\n",
    "\n",
    "# Demande d'affichage\n",
    "print(n1)  \n",
    "print(n2) \n",
    "print(n3)\n",
    "print(n4)\n",
    "print(n1.afficher_noeud())\n",
    "n4.afficher_noeud()\n",
    "\n",
    "# Résultats obtenus\n",
    "[None  None]\n",
    "[2  None]\n",
    "[1  [2  None]]\n",
    "[4  [5  [6  [7  None]]]]\n",
    "[None  . ]\n",
    "'[4  . ]'\n",
    "```\n",
    "<div>"
   ]
  },
  {
   "cell_type": "code",
   "execution_count": 19,
   "metadata": {
    "ExecuteTime": {
     "end_time": "2021-10-11T09:02:38.901544Z",
     "start_time": "2021-10-11T09:02:38.889842Z"
    },
    "hidden": true
   },
   "outputs": [
    {
     "name": "stdout",
     "output_type": "stream",
     "text": [
      "[None  None]\n",
      "[4  [5  [6  [7  None]]]]\n"
     ]
    }
   ],
   "source": [
    "class Noeud():\n",
    "    def __init__(self, donnee:int=None, suivant=None):\n",
    "        if suivant:\n",
    "            assert isinstance(suivant, Noeud) \n",
    "        self.donnee=donnee\n",
    "        self.suivant=suivant\n",
    "    \n",
    "    def afficher_noeud(self):\n",
    "        return f'[{self.donnee} . ]'\n",
    "     \n",
    "    def __repr__(self):\n",
    "        return f'[{self.donnee}  {self.suivant}]'\n",
    "\n",
    "        \n",
    "if __name__ == \"__main__\":\n",
    "    n1 = Noeud()   \n",
    "    n2 = Noeud(2)  \n",
    "    n3 = Noeud(1, n2)\n",
    "    n4 = Noeud(4, Noeud(5, Noeud(6, Noeud(7,None))))\n",
    "    print(n1)\n",
    "    print(n4)\n"
   ]
  },
  {
   "cell_type": "markdown",
   "metadata": {
    "hidden": true
   },
   "source": [
    "<div class=\"alert alert-success\">\n",
    "<img src=\"Images/warning.png\" alt=\"logo warn\" width=5% align=left>\n",
    "    \n",
    "Remarquons que si je renomme par exemple n4 -> liste, j'ai bien une liste chaînée !\n",
    "\n",
    "liste = Noeud(4, Noeud(5, Noeud(6, Noeud(7,None))))\n",
    "<div>"
   ]
  },
  {
   "cell_type": "markdown",
   "metadata": {
    "hidden": true
   },
   "source": [
    "<div class=\"alert alert-warning\">\n",
    "<img src=\"Images/CR.png\" alt=\"logo CR\" width=5% align=right>\n",
    "\n",
    "Travail à faire\n",
    "    \n",
    "**2-**Définir une classe **Lliste** implémentant l'interface **Lliste**, utilisant la classe **Noeud**.\n",
    "<br>Le constructeur aura deux arguments :\n",
    "- L'argument **donnee** : type entier, avec pour valeur par défaut **None**\n",
    "- L'argument **liste** : type **Lliste**, avec pour valeur par défaut **None**\n",
    " \n",
    "Il devra initialiser l'attribut d'instance **tete** qui représente le premier noeud de la liste.\n",
    "Trois cas sont possibles :\n",
    "- La liste est vide : l'attribut **tete** est initialisé à **None** ;\n",
    "- La liste comporte un seul noeud : l'attribut **tete** est initialisé avec le noeud **[{donnee} None]** ;\n",
    "- La liste comporte plus d'un noeud : l'attribut **tete** est initialisé avec le noeud : **[donnee, noeud de tete de la liste passée en argument]**\n",
    "\n",
    "La méthode spéciale `__repr__` qui renverra de manière récursive, la chaîne de caractères représentant le premier noeud ainsi que ses successeurs ou le message 'La liste est vide' si celle-ci l'est.\n",
    "    \n",
    "*Exemple d'exécution* :\n",
    "```python\n",
    "# Instanciation\n",
    "l1=Lliste()\n",
    "l2=Lliste(2)\n",
    "l3=Lliste(3,l2)\n",
    "    \n",
    "# Demande d'affichage\n",
    "print(l1)\n",
    "print(l2)\n",
    "print(l3)\n",
    "\n",
    "# Résultats obtenus \n",
    "La liste est vide\n",
    "[2 None]\n",
    "[3 [2  None]]\n",
    "```   \n",
    "\n",
    "<img src=\"Images/warning.png\" alt=\"logo warn\" width=5% align=left>\n",
    "    \n",
    "**Pour le travail qui suit, prévoir les assertions nécessaires**\n",
    "<br><br><br>\n",
    "\n",
    "**3-**Implémenter les méthodes d'instance **est_vide**, **inserer**, **supprimer**.\n",
    "\n",
    "-> Pour la méthode **inserer**, on verifiera que la donnée insérée est bien de type entier avec la fonction **isinstance** native de python.\n",
    "    \n",
    "**4-**Implémenter les méthodes d'instance **get_tete**, **get_queue**.\n",
    "\n",
    "**5-**Implémenter la méthode d'instance **longueur**\n",
    "\n",
    "**6-**Implémenter la méthode d'instance **afficher** qui affichera **None** si la liste est vide ou la suite des noeuds sous la forme :\n",
    "    \n",
    "*Exemple :* Pour une liste [12 [10  [7  None]]] : [12  . ] [10  . ] [7  . ] None\n",
    "<div>"
   ]
  },
  {
   "cell_type": "code",
   "execution_count": 1,
   "metadata": {
    "ExecuteTime": {
     "end_time": "2021-10-18T08:14:15.025128Z",
     "start_time": "2021-10-18T08:14:14.962119Z"
    },
    "hidden": true
   },
   "outputs": [
    {
     "name": "stdout",
     "output_type": "stream",
     "text": [
      "#PROGRAMME PRINCIPAL DE LA CLASSE NOEUD\n",
      "\n",
      "\n",
      "[None . ]\n",
      "[2 . ]\n",
      "[1  [2  None]]\n",
      "[4  [5  [6  [7  None]]]] \n",
      " \n",
      " \n",
      "\n",
      "#PROGRAMME PRINCIPAL DE LA CLASSE Lliste\n",
      "\n",
      "\n",
      "None\n",
      "True\n",
      "[45  None] \n",
      "\n",
      "\n",
      "[2  None]\n",
      "2\n",
      "None \n",
      "\n",
      "\n",
      "[3  [2  None]]\n",
      "3\n",
      "[2  None]\n",
      "[59  [2  None]]\n",
      "2\n",
      "[59 . ] [2 . ] None\n"
     ]
    }
   ],
   "source": [
    "class Noeud():\n",
    "    def __init__(self, donnee:int=None, suivant=None):\n",
    "        \"\"\"\n",
    "        Constructeur permettant de créer un nouveau Noeud et prenant en paramètres :\n",
    "        - la donnée (par défaut None)\n",
    "        - la queue (suivant; par défaut None)\n",
    "        \"\"\"\n",
    "        if suivant:\n",
    "            assert isinstance(suivant, Noeud) \n",
    "        self.donnee=donnee\n",
    "        self.suivant=suivant\n",
    "    \n",
    "    def afficher_noeud(self):\n",
    "        \"\"\"\n",
    "        On affiche le Noeud demandé\n",
    "        \"\"\"\n",
    "        return f'[{self.donnee} . ]'\n",
    "     \n",
    "    def __repr__(self):\n",
    "        \"\"\"\n",
    "        Méthode de représentation du Noeud demandé\n",
    "        \"\"\"\n",
    "        return f'[{self.donnee}  {self.suivant}]'\n",
    "\n",
    "\n",
    "#Programme principal\n",
    "#On crée 4 Noeuds et on teste les méthodes\n",
    "if __name__ == \"__main__\":\n",
    "    n1 = Noeud()   \n",
    "    n2 = Noeud(2)  \n",
    "    n3 = Noeud(1, n2)\n",
    "    n4 = Noeud(4, Noeud(5, Noeud(6, Noeud(7,None))))\n",
    "    print(\"#PROGRAMME PRINCIPAL DE LA CLASSE NOEUD\\n\\n\")\n",
    "    print(n1.afficher_noeud())\n",
    "    print(n2.afficher_noeud())\n",
    "    print(n3)\n",
    "    print(n4, \"\\n \\n \\n\")\n",
    "\n",
    "    \n",
    "    \n",
    "    \n",
    "    \n",
    "    \n",
    "class Lliste(Noeud):\n",
    "    def __init__(self, donnee=None, liste=None):\n",
    "        '''\n",
    "        Constructeur permettant de créer une nouvelle liste. Cette liste peut être :\n",
    "            - Une liste vide\n",
    "            - Une liste ayant pour tête le maillon contenant donnee et pour queue liste\n",
    "                argument donnee : Donnée à ajouter en tête de liste\n",
    "                argument liste : Liste représentant la queue de nouvelle liste\n",
    "        '''\n",
    "        if donnee is None:\n",
    "            self.tete=None\n",
    "        elif liste is None:\n",
    "            self.tete=Noeud(donnee,None)\n",
    "        else:\n",
    "            self.tete=Noeud(donnee,liste.tete)\n",
    "            \n",
    "    def __repr__(self):\n",
    "        \"\"\"\n",
    "        Méthode de représentation de la liste chaînée\n",
    "        \"\"\"\n",
    "        if self.l_est_vide():\n",
    "            return 'None'\n",
    "        else:\n",
    "            return f'{self.tete}'\n",
    " \n",
    "    def l_est_vide(self) -> bool:\n",
    "        '''\n",
    "        Méthode permettant de tester si la liste est vide\n",
    "        renvoie True si la liste est vide, False sinon\n",
    "        '''\n",
    "        return self.tete==None or self.tete=='None'\n",
    "          \n",
    "    def inserer(self, donnee : int):\n",
    "        '''\n",
    "        Méthode permettant d'ajouter un noeud en tête de liste\n",
    "        argument donnee : donnée du noeud à ajouter\n",
    "        '''\n",
    "        if self.l_est_vide():\n",
    "            self.tete=Noeud(donnee,None)\n",
    "        else:\n",
    "            self.tete=Noeud(donnee,self.tete)\n",
    "     \n",
    "    def supprimer(self) -> int:\n",
    "        '''\n",
    "        Méthode permettant de supprimer le noeud en tête de liste\n",
    "        et renvoie la donnée du nouveau noeud de tête\n",
    "        '''\n",
    "        if self.l_est_vide():\n",
    "            return None\n",
    "        elt=self.tete.donnee\n",
    "        self.tete=self.tete.suivant #self.get_queue()\n",
    "        return elt\n",
    "    \n",
    "            \n",
    "\n",
    "    def get_tete(self)-> int:\n",
    "        '''\n",
    "        Méthode permettant de renvoyer la donnée du noeud en tête\n",
    "        de liste\n",
    "        '''\n",
    "        if self.l_est_vide():\n",
    "            return None\n",
    "        #return self.tete[0]\n",
    "        return self.tete.donnee\n",
    "     \n",
    "    def get_queue(self): # -> Lliste\n",
    "        '''\n",
    "        Méthode permettant de renvoyer la queue de la liste\n",
    "        '''\n",
    "        if self.l_est_vide():\n",
    "            return None\n",
    "        liste = Lliste()\n",
    "        liste.tete = self.tete.suivant\n",
    "        return liste\n",
    "\n",
    "    \n",
    "    def longueur(self) -> int:\n",
    "        '''\n",
    "        Méthode qui renvoie la longueur de la liste chaînée\n",
    "        Version récursive\n",
    "        '''\n",
    "        if self.l_est_vide():\n",
    "            return 0\n",
    "        def longueurbis(noeud): #Utilisation d'un wrapper pour résoudre le problème de manière récursive\n",
    "            if noeud is None:\n",
    "                return 0\n",
    "            return 1 + longueurbis(noeud.suivant)\n",
    "        return longueurbis(self.tete)\n",
    "    \n",
    "    \n",
    "    def afficher(self):\n",
    "        if self.l_est_vide():\n",
    "            return 'None'\n",
    "        donnee = self.tete\n",
    "        while donnee is not None:\n",
    "            print(donnee.afficher_noeud(), end=' ')\n",
    "            donnee = donnee.suivant\n",
    "        return 'None'\n",
    "        \n",
    "        \n",
    "if __name__=='__main__':\n",
    "    \n",
    "    # Instanciation\n",
    "    l1=Lliste()\n",
    "    l2=Lliste(2)\n",
    "    l3=Lliste(3,l2)\n",
    "\n",
    "    # Demande d'affichage\n",
    "    # L1\n",
    "    print(\"#PROGRAMME PRINCIPAL DE LA CLASSE Lliste\\n\\n\")\n",
    "    print(l1)\n",
    "    print(l1.l_est_vide())\n",
    "    l1.inserer(45)\n",
    "    print(l1, \"\\n\\n\")\n",
    "    # L2\n",
    "    print(l2)\n",
    "    print(l2.get_tete())\n",
    "    print(l2.get_queue(), \"\\n\\n\")\n",
    "    # L3\n",
    "    print(l3)\n",
    "    print(l3.supprimer())\n",
    "    print(l3)\n",
    "    l3.inserer(59)\n",
    "    print(l3)\n",
    "    print(l3.longueur())\n",
    "    print(l3.afficher())"
   ]
  },
  {
   "cell_type": "code",
   "execution_count": null,
   "metadata": {
    "ExecuteTime": {
     "end_time": "2021-10-11T09:16:36.674641Z",
     "start_time": "2021-10-11T09:16:36.649632Z"
    },
    "hidden": true
   },
   "outputs": [],
   "source": [
    "La liste est vide\n",
    "[2 None]\n",
    "[3 [2  None]]"
   ]
  },
  {
   "cell_type": "code",
   "execution_count": null,
   "metadata": {
    "ExecuteTime": {
     "end_time": "2021-10-11T09:22:56.243089Z",
     "start_time": "2021-10-11T09:22:56.217056Z"
    },
    "hidden": true
   },
   "outputs": [],
   "source": []
  },
  {
   "cell_type": "markdown",
   "metadata": {
    "heading_collapsed": true
   },
   "source": [
    "### 2- Implémentation  d'une pile"
   ]
  },
  {
   "cell_type": "markdown",
   "metadata": {
    "hidden": true
   },
   "source": [
    "<div class=\"alert alert-success\">\n",
    "<img src=\"Images/warning.png\" alt=\"logo warn\" width=5% align=left>\n",
    "    \n",
    "\n",
    "Pour vérifier votre travail, vous implémenterez pour les piles et les files, une méthode d'instance **afficher**, non décrite dans l'interface.\n",
    "<div>"
   ]
  },
  {
   "cell_type": "markdown",
   "metadata": {
    "hidden": true
   },
   "source": [
    "**TAD pile**\n",
    "\n",
    "Type : Pile\n",
    "\n",
    "Utilise : Donnée (de type entier), Booléen\n",
    "\n",
    "Opérations :\n",
    "    \n",
    "    est_vide : Pile → Booleen\n",
    "    \n",
    "    empiler : Pile → Donnée\n",
    "    \n",
    "    depiler : Pile → Donnée\n",
    "    \n",
    "    constructeur : → Pile\n",
    "   \n",
    "    \n",
    "Pré-conditions :\n",
    "\n",
    "    depiler(Pile) : ¬ est_vide(Pile)\n"
   ]
  },
  {
   "cell_type": "code",
   "execution_count": null,
   "metadata": {
    "ExecuteTime": {
     "end_time": "2021-10-12T07:18:52.748397Z",
     "start_time": "2021-10-12T07:18:52.728660Z"
    },
    "hidden": true
   },
   "outputs": [],
   "source": []
  },
  {
   "cell_type": "markdown",
   "metadata": {
    "hidden": true
   },
   "source": [
    "**On décide d'utiliser l'interface suivante pour les piles :**"
   ]
  },
  {
   "cell_type": "code",
   "execution_count": null,
   "metadata": {
    "hidden": true
   },
   "outputs": [],
   "source": [
    "class InterfacePile():\n",
    "    def __init__(self):\n",
    "        '''\n",
    "        Constructeur permettant la création d'une pile vide\n",
    "        '''\n",
    "        pass\n",
    "\n",
    "    def est_vide(self) -> bool:\n",
    "        '''\n",
    "        Méthode permettant de tester si la pile est vide\n",
    "        et renvoie True si la pile est vide, False sinon\n",
    "        '''\n",
    "        pass\n",
    "\n",
    "    def empiler(self, donnee):\n",
    "        '''\n",
    "        Méthode permettant d'empiler \"donnee\" au sommet de la pile\n",
    "        argument donnee : donnée à empiler\n",
    "        '''\n",
    "        pass\n",
    "\n",
    "    def depiler(self):\n",
    "        '''\n",
    "        Méthode permettant de dépiler l'élément au sommet de la pile\n",
    "        et renvoie la donnée au sommet de la pile\n",
    "        '''\n",
    "        pass"
   ]
  },
  {
   "cell_type": "markdown",
   "metadata": {},
   "source": [
    "### Première implémentation : Une pile selon l'interface proposée ci-dessus, utilisant l'objet built-in de python list."
   ]
  },
  {
   "cell_type": "code",
   "execution_count": 7,
   "metadata": {
    "ExecuteTime": {
     "end_time": "2021-10-13T06:15:06.675258Z",
     "start_time": "2021-10-13T06:15:06.647362Z"
    }
   },
   "outputs": [
    {
     "name": "stdout",
     "output_type": "stream",
     "text": [
      "True\n",
      "======\n",
      "| 55 |\n",
      "======\n",
      "| 98 |\n",
      "======\n",
      "|1500|\n",
      "======\n",
      "|985 |\n",
      "======\n",
      "\n",
      "======\n",
      "| 55 |\n",
      "======\n",
      "| 98 |\n",
      "======\n",
      "|1500|\n",
      "======\n",
      "\n"
     ]
    }
   ],
   "source": [
    "class Pile():\n",
    "    def __init__(self):\n",
    "        '''\n",
    "        Constructeur permettant la création d'une pile vide\n",
    "        '''\n",
    "        self.pile=[]\n",
    "\n",
    "    def est_vide(self) -> bool:\n",
    "        '''\n",
    "        Méthode permettant de tester si la pile est vide\n",
    "        et renvoie True si la pile est vide, False sinon\n",
    "        '''\n",
    "        return len(self.pile)==0\n",
    "\n",
    "    def empiler(self, donnee):\n",
    "        '''\n",
    "        Méthode permettant d'empiler \"donnee\" au sommet de la pile\n",
    "        argument donnee : donnée à empiler\n",
    "        '''\n",
    "        self.pile.append(donnee)\n",
    "\n",
    "    def depiler(self):\n",
    "        '''\n",
    "        Méthode permettant de dépiler l'élément au sommet de la pile\n",
    "        et renvoie la donnée au sommet de la pile\n",
    "        '''\n",
    "        assert not(self.est_vide())\n",
    "        \"\"\"if self.est_vide():\n",
    "            return Opération Impossible\"\"\"\n",
    "        elt=self.pile[-1]\n",
    "        #self.pile.pop(-1)\n",
    "        return self.pile.pop()\n",
    "        \n",
    "    def __repr__(self):\n",
    "        print(\"======\")\n",
    "        for elt in self.pile:\n",
    "            if elt<100:\n",
    "                print(f\"| {elt} |\")\n",
    "            elif elt>999:\n",
    "                print(f\"|{elt}|\")\n",
    "            else:\n",
    "                print(f\"|{elt} |\")\n",
    "            print(\"======\")\n",
    "        return \"\"\n",
    "    \n",
    "if __name__==\"__main__\":\n",
    "    JeanPile=Pile()\n",
    "#JeanPile.depiler()\n",
    "print(JeanPile.est_vide())\n",
    "JeanPile.empiler(55)\n",
    "JeanPile.empiler(98)\n",
    "JeanPile.empiler(1500)\n",
    "JeanPile.empiler(985)\n",
    "print(JeanPile)\n",
    "JeanPile.depiler()\n",
    "print(JeanPile)"
   ]
  },
  {
   "cell_type": "markdown",
   "metadata": {
    "heading_collapsed": true
   },
   "source": [
    "### Seconde implémentation : Une pile selon l'interface proposée ci-dessus, utilisant l'objet Llist créé précédemment"
   ]
  },
  {
   "cell_type": "code",
   "execution_count": 9,
   "metadata": {
    "ExecuteTime": {
     "end_time": "2021-10-13T06:52:30.123072Z",
     "start_time": "2021-10-13T06:52:30.104324Z"
    },
    "hidden": true
   },
   "outputs": [
    {
     "name": "stdout",
     "output_type": "stream",
     "text": [
      "[47 . ] [46 . ] [45 . ] None\n"
     ]
    }
   ],
   "source": [
    "class Pile():\n",
    "    def __init__(self):\n",
    "        '''\n",
    "        Constructeur permettant la création d'une pile vide\n",
    "        '''\n",
    "        self.pile=Lliste()\n",
    "\n",
    "    def est_vide(self) -> bool:\n",
    "        '''\n",
    "        Méthode permettant de tester si la pile est vide\n",
    "        et renvoie True si la pile est vide, False sinon\n",
    "        '''\n",
    "        return self.pile.l_est_vide()\n",
    "\n",
    "    def empiler(self, donnee):\n",
    "        '''\n",
    "        Méthode permettant d'empiler \"donnee\" au sommet de la pile\n",
    "        argument donnee : donnée à empiler\n",
    "        '''\n",
    "        self.pile.inserer(donnee)\n",
    "\n",
    "    def depiler(self):\n",
    "        '''\n",
    "        Méthode permettant de dépiler l'élément au sommet de la pile\n",
    "        et renvoie la donnée au sommet de la pile\n",
    "        '''\n",
    "        assert not(self.est_vide())\n",
    "        return self.pile.supprimer()\n",
    "        \n",
    "    def __repr__(self):\n",
    "        return self.pile.afficher()\n",
    "            \n",
    "    \n",
    "if __name__==\"__main__\":\n",
    "    JeanPile=Pile()\n",
    "    #JeanPile.depiler()\n",
    "    #print(JeanPile.est_vide())\n",
    "    JeanPile.empiler(45)\n",
    "    JeanPile.empiler(46)\n",
    "    JeanPile.empiler(47)\n",
    "    #print(JeanPile.pile)\n",
    "    #JeanPile.depiler()\n",
    "    print(JeanPile)\n",
    "    "
   ]
  },
  {
   "cell_type": "markdown",
   "metadata": {},
   "source": [
    "### 3- Implémentation  d'une file"
   ]
  },
  {
   "cell_type": "markdown",
   "metadata": {},
   "source": [
    "**TAD file**\n",
    "\n",
    "Type : File\n",
    "\n",
    "Utilise : Donnée (de type entier), Booléen\n",
    "\n",
    "Opérations :\n",
    "    \n",
    "    est_vide : File → Booleen\n",
    "    \n",
    "    enfiler : File → Donnée\n",
    "    \n",
    "    defiler : File → Donnée\n",
    "    \n",
    "    constructeur : → File\n",
    "   \n",
    "    \n",
    "Pré-conditions :\n",
    "\n",
    "    defiler(File) : ¬ est_vide(File)\n"
   ]
  },
  {
   "cell_type": "markdown",
   "metadata": {},
   "source": [
    "**On décide d'utiliser l'interface suivante pour les files :**"
   ]
  },
  {
   "cell_type": "code",
   "execution_count": null,
   "metadata": {},
   "outputs": [],
   "source": [
    "class InterfaceFile():\n",
    "    def __init__(self):\n",
    "        '''\n",
    "        Constructeur permettant la création d'une file vide\n",
    "        '''\n",
    "        pass\n",
    " \n",
    "    def est_vide(self) -> bool:\n",
    "        '''\n",
    "        Méthode permettant de tester si la file est vide\n",
    "        et renvoie True si la file est vide, False sinon\n",
    "        '''\n",
    "        pass\n",
    "\n",
    "    def enfiler(self, donnee):\n",
    "        '''\n",
    "        Méthode permettant d'ajouter \"donnee\" en fin de file\n",
    "        argument donnee : donnée à ajouter\n",
    "        '''\n",
    "        pass\n",
    "\n",
    "    def defiler(self):\n",
    "        '''\n",
    "        Méthode qui supprime et renvoie le premier élément de la file\n",
    "        '''\n",
    "        pass\n"
   ]
  },
  {
   "cell_type": "markdown",
   "metadata": {},
   "source": [
    "### Première implémentation : Une file selon l'interface proposée ci-dessus, utilisant l'objet built-in de python list."
   ]
  },
  {
   "cell_type": "code",
   "execution_count": 20,
   "metadata": {
    "ExecuteTime": {
     "end_time": "2021-10-13T07:08:17.582483Z",
     "start_time": "2021-10-13T07:08:17.563223Z"
    }
   },
   "outputs": [
    {
     "name": "stdout",
     "output_type": "stream",
     "text": [
      "True\n",
      "|55|-->|98|-->|1500|-->|985|\n",
      "\n",
      "|98|-->|1500|-->|985|\n",
      "\n"
     ]
    }
   ],
   "source": [
    "class File():\n",
    "    def __init__(self):\n",
    "        '''\n",
    "        Constructeur permettant la création d'une pile vide\n",
    "        '''\n",
    "        self.file=[]\n",
    "\n",
    "    def est_vide(self) -> bool:\n",
    "        '''\n",
    "        Méthode permettant de tester si la pile est vide\n",
    "        et renvoie True si la pile est vide, False sinon\n",
    "        '''\n",
    "        return len(self.file)==0\n",
    "\n",
    "    def enfiler(self, donnee):\n",
    "        '''\n",
    "        Méthode permettant d'empiler \"donnee\" au sommet de la pile\n",
    "        argument donnee : donnée à empiler\n",
    "        '''\n",
    "        self.file.append(donnee)\n",
    "\n",
    "    def defiler(self):\n",
    "        '''\n",
    "        Méthode permettant de dépiler l'élément au sommet de la pile\n",
    "        et renvoie la donnée au sommet de la pile\n",
    "        '''\n",
    "        assert not(self.est_vide())\n",
    "        \"\"\"if self.est_vide():\n",
    "            return Opération Impossible\"\"\"\n",
    "        return self.file.pop(0)\n",
    "        \n",
    "    def __repr__(self):\n",
    "        for elt in self.file[0:-1]:\n",
    "            print(f\"|{elt}|\", end=\"-->\")\n",
    "        print(f'|{self.file[-1]}|')\n",
    "        return \"\"\n",
    "    \n",
    "if __name__==\"__main__\":\n",
    "    JeanFile=File()\n",
    "#JeanPile.depiler()\n",
    "print(JeanFile.est_vide())\n",
    "JeanFile.enfiler(55)\n",
    "JeanFile.enfiler(98)\n",
    "JeanFile.enfiler(1500)\n",
    "JeanFile.enfiler(985)\n",
    "print(JeanFile)\n",
    "JeanFile.defiler()\n",
    "print(JeanFile)"
   ]
  },
  {
   "cell_type": "markdown",
   "metadata": {
    "heading_collapsed": true
   },
   "source": [
    "### Seconde implémentation : Une file selon l'interface proposée ci-dessus, utilisant l'objet Llist créé précédemment"
   ]
  },
  {
   "cell_type": "code",
   "execution_count": 2,
   "metadata": {
    "ExecuteTime": {
     "end_time": "2021-10-18T08:14:18.978605Z",
     "start_time": "2021-10-18T08:14:18.964595Z"
    },
    "hidden": true
   },
   "outputs": [
    {
     "name": "stdout",
     "output_type": "stream",
     "text": [
      "True\n",
      "[45 . ] [46 . ] [47 . ] None\n"
     ]
    }
   ],
   "source": [
    "class File():\n",
    "    def __init__(self):\n",
    "        '''\n",
    "        Constructeur permettant la création d'une pile vide\n",
    "        '''\n",
    "        self.file=Lliste()\n",
    "\n",
    "    def est_vide(self) -> bool:\n",
    "        '''\n",
    "        Méthode permettant de tester si la pile est vide\n",
    "        et renvoie True si la pile est vide, False sinon\n",
    "        '''\n",
    "        return self.file.l_est_vide()\n",
    "\n",
    "    def enfiler(self, donnee):\n",
    "        '''\n",
    "        Méthode permettant d'empiler \"donnee\" au sommet de la pile\n",
    "        argument donnee : donnée à empiler\n",
    "        '''\n",
    "        #cas où la tête est vide, on place la donnée en tête de file\n",
    "        if self.file.tete == None:\n",
    "            self.file.inserer(donnee)\n",
    "            \n",
    "        #cas où la tête est pleine, on crée une nouveau noeud pour placer notre donnée en tête de file\n",
    "        tete = self.file.tete\n",
    "        while tete.suivant != None:\n",
    "            tete = tete.suivant\n",
    "        tete.suivant = Noeud(donnee)\n",
    "\n",
    "    def defiler(self):\n",
    "        '''\n",
    "        Méthode permettant de dépiler l'élément au sommet de la pile\n",
    "        et renvoie la donnée au sommet de la pile\n",
    "        '''\n",
    "        assert not(self.est_vide())\n",
    "        return self.file.supprimer()\n",
    "        \n",
    "    def __repr__(self):\n",
    "        return self.file.afficher()\n",
    "            \n",
    "    \n",
    "if __name__==\"__main__\":\n",
    "    JeanFile=File()\n",
    "    print(JeanFile.est_vide())\n",
    "    JeanFile.enfiler(45)\n",
    "    JeanFile.enfiler(46)\n",
    "    JeanFile.enfiler(47)\n",
    "    JeanFile.defiler()\n",
    "    print(JeanFile)\n",
    "    "
   ]
  },
  {
   "cell_type": "markdown",
   "metadata": {
    "hidden": true
   },
   "source": [
    "<div class=\"alert alert-warning\">\n",
    "<img src=\"Images/CR.png\" alt=\"logo CR\" width=5% align=right>\n",
    "\n",
    "Travail à faire\n",
    "\n",
    "Les piles et les files seront utilisées ultérieurement pour des parcours d'arbres. Afin de réutiliser le code réalisé ici, créez un module contenant ces 2 structures linaires que l'on importera le moment venu.\n",
    "    \n",
    "</div>"
   ]
  },
  {
   "cell_type": "markdown",
   "metadata": {},
   "source": [
    "### 3- Interface  d'un dictionnaire"
   ]
  },
  {
   "cell_type": "markdown",
   "metadata": {},
   "source": [
    "<div class=\"alert alert-warning\">\n",
    "<img src=\"Images/CR.png\" alt=\"logo CR\" width=5% align=right>\n",
    "\n",
    "Travail à faire\n",
    "\n",
    "Dans cette partie, vous allez réaliser une démarche inverse. Le type **dictionnaire** est natif en python.\n",
    "<br><br>\n",
    "On vous demande d'écrire l'interface de la classe **dict** pour les méthodes d'instances utilisée en première.\n",
    "\n",
    "**1-** Rappeler comment l'on peut obtenir la liste des méthodes d'un objet.\n",
    "    \n",
    "\n",
    "**2-** Ecrire l'interface pour quelques méthodes couramment utilisées."
   ]
  },
  {
   "cell_type": "code",
   "execution_count": 20,
   "metadata": {
    "ExecuteTime": {
     "end_time": "2021-10-18T08:35:11.177308Z",
     "start_time": "2021-10-18T08:35:11.161665Z"
    }
   },
   "outputs": [
    {
     "name": "stdout",
     "output_type": "stream",
     "text": [
      "|24|-->|87|-->|66|-->|23|-->|39|-->|93|-->|59|-->|80|-->|67|-->|94|-->|69|-->|73|-->|39|-->|78|\n",
      "\n",
      "======\n",
      "| 27 |\n",
      "======\n",
      "| 73 |\n",
      "======\n",
      "| 94 |\n",
      "======\n",
      "| 32 |\n",
      "======\n",
      "| 62 |\n",
      "======\n",
      "| 32 |\n",
      "======\n",
      "| 77 |\n",
      "======\n",
      "\n"
     ]
    }
   ],
   "source": [
    "from strucline import Pile, File\n",
    "from random import randint\n",
    "z=File()\n",
    "z.est_vide()\n",
    "for i in range(15):\n",
    "    z.enfiler(randint(1, 100))\n",
    "z.defiler()\n",
    "print(z)\n",
    "\n",
    "p=Pile()\n",
    "p.est_vide()\n",
    "for i in range(8):\n",
    "    p.empiler(randint(10, 100))\n",
    "p.depiler()\n",
    "print(p)\n",
    "\n"
   ]
  },
  {
   "cell_type": "code",
   "execution_count": 1,
   "metadata": {
    "ExecuteTime": {
     "end_time": "2021-10-18T08:49:21.334592Z",
     "start_time": "2021-10-18T08:49:21.319375Z"
    }
   },
   "outputs": [
    {
     "data": {
      "text/plain": [
       "['__class__',\n",
       " '__contains__',\n",
       " '__delattr__',\n",
       " '__delitem__',\n",
       " '__dir__',\n",
       " '__doc__',\n",
       " '__eq__',\n",
       " '__format__',\n",
       " '__ge__',\n",
       " '__getattribute__',\n",
       " '__getitem__',\n",
       " '__gt__',\n",
       " '__hash__',\n",
       " '__init__',\n",
       " '__init_subclass__',\n",
       " '__iter__',\n",
       " '__le__',\n",
       " '__len__',\n",
       " '__lt__',\n",
       " '__ne__',\n",
       " '__new__',\n",
       " '__reduce__',\n",
       " '__reduce_ex__',\n",
       " '__repr__',\n",
       " '__setattr__',\n",
       " '__setitem__',\n",
       " '__sizeof__',\n",
       " '__str__',\n",
       " '__subclasshook__',\n",
       " 'clear',\n",
       " 'copy',\n",
       " 'fromkeys',\n",
       " 'get',\n",
       " 'items',\n",
       " 'keys',\n",
       " 'pop',\n",
       " 'popitem',\n",
       " 'setdefault',\n",
       " 'update',\n",
       " 'values']"
      ]
     },
     "execution_count": 1,
     "metadata": {},
     "output_type": "execute_result"
    }
   ],
   "source": [
    "dir(dict)"
   ]
  },
  {
   "cell_type": "code",
   "execution_count": 2,
   "metadata": {
    "ExecuteTime": {
     "end_time": "2021-10-18T08:49:25.763804Z",
     "start_time": "2021-10-18T08:49:25.743296Z"
    }
   },
   "outputs": [
    {
     "name": "stdout",
     "output_type": "stream",
     "text": [
      "Help on class dict in module builtins:\n",
      "\n",
      "class dict(object)\n",
      " |  dict() -> new empty dictionary\n",
      " |  dict(mapping) -> new dictionary initialized from a mapping object's\n",
      " |      (key, value) pairs\n",
      " |  dict(iterable) -> new dictionary initialized as if via:\n",
      " |      d = {}\n",
      " |      for k, v in iterable:\n",
      " |          d[k] = v\n",
      " |  dict(**kwargs) -> new dictionary initialized with the name=value pairs\n",
      " |      in the keyword argument list.  For example:  dict(one=1, two=2)\n",
      " |  \n",
      " |  Methods defined here:\n",
      " |  \n",
      " |  __contains__(self, key, /)\n",
      " |      True if D has a key k, else False.\n",
      " |  \n",
      " |  __delitem__(self, key, /)\n",
      " |      Delete self[key].\n",
      " |  \n",
      " |  __eq__(self, value, /)\n",
      " |      Return self==value.\n",
      " |  \n",
      " |  __ge__(self, value, /)\n",
      " |      Return self>=value.\n",
      " |  \n",
      " |  __getattribute__(self, name, /)\n",
      " |      Return getattr(self, name).\n",
      " |  \n",
      " |  __getitem__(...)\n",
      " |      x.__getitem__(y) <==> x[y]\n",
      " |  \n",
      " |  __gt__(self, value, /)\n",
      " |      Return self>value.\n",
      " |  \n",
      " |  __init__(self, /, *args, **kwargs)\n",
      " |      Initialize self.  See help(type(self)) for accurate signature.\n",
      " |  \n",
      " |  __iter__(self, /)\n",
      " |      Implement iter(self).\n",
      " |  \n",
      " |  __le__(self, value, /)\n",
      " |      Return self<=value.\n",
      " |  \n",
      " |  __len__(self, /)\n",
      " |      Return len(self).\n",
      " |  \n",
      " |  __lt__(self, value, /)\n",
      " |      Return self<value.\n",
      " |  \n",
      " |  __ne__(self, value, /)\n",
      " |      Return self!=value.\n",
      " |  \n",
      " |  __new__(*args, **kwargs) from builtins.type\n",
      " |      Create and return a new object.  See help(type) for accurate signature.\n",
      " |  \n",
      " |  __repr__(self, /)\n",
      " |      Return repr(self).\n",
      " |  \n",
      " |  __setitem__(self, key, value, /)\n",
      " |      Set self[key] to value.\n",
      " |  \n",
      " |  __sizeof__(...)\n",
      " |      D.__sizeof__() -> size of D in memory, in bytes\n",
      " |  \n",
      " |  clear(...)\n",
      " |      D.clear() -> None.  Remove all items from D.\n",
      " |  \n",
      " |  copy(...)\n",
      " |      D.copy() -> a shallow copy of D\n",
      " |  \n",
      " |  fromkeys(iterable, value=None, /) from builtins.type\n",
      " |      Returns a new dict with keys from iterable and values equal to value.\n",
      " |  \n",
      " |  get(...)\n",
      " |      D.get(k[,d]) -> D[k] if k in D, else d.  d defaults to None.\n",
      " |  \n",
      " |  items(...)\n",
      " |      D.items() -> a set-like object providing a view on D's items\n",
      " |  \n",
      " |  keys(...)\n",
      " |      D.keys() -> a set-like object providing a view on D's keys\n",
      " |  \n",
      " |  pop(...)\n",
      " |      D.pop(k[,d]) -> v, remove specified key and return the corresponding value.\n",
      " |      If key is not found, d is returned if given, otherwise KeyError is raised\n",
      " |  \n",
      " |  popitem(...)\n",
      " |      D.popitem() -> (k, v), remove and return some (key, value) pair as a\n",
      " |      2-tuple; but raise KeyError if D is empty.\n",
      " |  \n",
      " |  setdefault(...)\n",
      " |      D.setdefault(k[,d]) -> D.get(k,d), also set D[k]=d if k not in D\n",
      " |  \n",
      " |  update(...)\n",
      " |      D.update([E, ]**F) -> None.  Update D from dict/iterable E and F.\n",
      " |      If E is present and has a .keys() method, then does:  for k in E: D[k] = E[k]\n",
      " |      If E is present and lacks a .keys() method, then does:  for k, v in E: D[k] = v\n",
      " |      In either case, this is followed by: for k in F:  D[k] = F[k]\n",
      " |  \n",
      " |  values(...)\n",
      " |      D.values() -> an object providing a view on D's values\n",
      " |  \n",
      " |  ----------------------------------------------------------------------\n",
      " |  Data and other attributes defined here:\n",
      " |  \n",
      " |  __hash__ = None\n",
      "\n"
     ]
    }
   ],
   "source": [
    "help(dict)"
   ]
  },
  {
   "cell_type": "markdown",
   "metadata": {},
   "source": [
    "### TAD dico\n",
    "\n",
    "**Type : dictionnaire\\\n",
    "Paramètre : clé, valeur\\\n",
    "Utilise : booléen, dictionnaire**\n",
    "\n",
    "##### Opérations : \n",
    "    est_présent : dico x cle -> bool (python : in dico)\n",
    "    ajouter : dico x clef x valeur -> dico (dico['cle']=valeur)\n",
    "    supprimer : dico x cle -> dico (dico.pop(\"cle\")\n",
    "    constructeur : dico: -> dico (dico={})\n",
    "    get_valeur: dico x cle -> valeur (dico[\"cle\"] ou dico.get(\"cle\")\n",
    "    get_cles: dico -> dico(cles) (dico.keys())\n",
    "    get_valeurs: dico -> dico(valeurs) (dico.values())\n",
    "    get_items : dico -> dico(items) (dico.items())\n",
    "    \n",
    "##### pré condition:\n",
    "    get_valeur(dico, cle): est_present(dico, cle)\n",
    "    "
   ]
  },
  {
   "cell_type": "code",
   "execution_count": null,
   "metadata": {},
   "outputs": [],
   "source": []
  }
 ],
 "metadata": {
  "hide_input": false,
  "kernelspec": {
   "display_name": "Python 3",
   "language": "python",
   "name": "python3"
  },
  "language_info": {
   "codemirror_mode": {
    "name": "ipython",
    "version": 3
   },
   "file_extension": ".py",
   "mimetype": "text/x-python",
   "name": "python",
   "nbconvert_exporter": "python",
   "pygments_lexer": "ipython3",
   "version": "3.6.10"
  },
  "latex_envs": {
   "LaTeX_envs_menu_present": true,
   "autoclose": false,
   "autocomplete": true,
   "bibliofile": "biblio.bib",
   "cite_by": "apalike",
   "current_citInitial": 1,
   "eqLabelWithNumbers": true,
   "eqNumInitial": 1,
   "hotkeys": {
    "equation": "Ctrl-E",
    "itemize": "Ctrl-I"
   },
   "labels_anchors": false,
   "latex_user_defs": false,
   "report_style_numbering": false,
   "user_envs_cfg": false
  },
  "nbTranslate": {
   "displayLangs": [
    "*"
   ],
   "hotkey": "alt-t",
   "langInMainMenu": true,
   "sourceLang": "en",
   "targetLang": "fr",
   "useGoogleTranslate": true
  },
  "toc": {
   "base_numbering": 1,
   "nav_menu": {},
   "number_sections": true,
   "sideBar": true,
   "skip_h1_title": false,
   "title_cell": "Table of Contents",
   "title_sidebar": "Contents",
   "toc_cell": false,
   "toc_position": {},
   "toc_section_display": true,
   "toc_window_display": false
  },
  "varInspector": {
   "cols": {
    "lenName": 16,
    "lenType": 16,
    "lenVar": 40
   },
   "kernels_config": {
    "python": {
     "delete_cmd_postfix": "",
     "delete_cmd_prefix": "del ",
     "library": "var_list.py",
     "varRefreshCmd": "print(var_dic_list())"
    },
    "r": {
     "delete_cmd_postfix": ") ",
     "delete_cmd_prefix": "rm(",
     "library": "var_list.r",
     "varRefreshCmd": "cat(var_dic_list()) "
    }
   },
   "types_to_exclude": [
    "module",
    "function",
    "builtin_function_or_method",
    "instance",
    "_Feature"
   ],
   "window_display": false
  }
 },
 "nbformat": 4,
 "nbformat_minor": 2
}
