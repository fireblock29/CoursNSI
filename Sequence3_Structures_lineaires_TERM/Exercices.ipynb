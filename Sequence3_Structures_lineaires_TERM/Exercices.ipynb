{
 "cells": [
  {
   "cell_type": "markdown",
   "metadata": {},
   "source": [
    "# <center><font face=\"arial\" size=\"5\" color=#0101DF>NUMERIQUE ET SCIENCES INFORMATIQUES Terminale NSI</font></center>"
   ]
  },
  {
   "cell_type": "markdown",
   "metadata": {},
   "source": [
    "## <font color=#013ADF>Révisions</font>"
   ]
  },
  {
   "cell_type": "markdown",
   "metadata": {},
   "source": [
    "Les exercices ne sont pas classés par ordre de difficultés."
   ]
  },
  {
   "cell_type": "markdown",
   "metadata": {},
   "source": [
    "### 1- Les tours de Hanoï"
   ]
  },
  {
   "cell_type": "markdown",
   "metadata": {},
   "source": [
    "<div class=\"alert alert-success\">\n",
    "\n",
    "<img src=\"Images/Hanoi.png\" alt=\"Les tours de Hanoï\" width=50% align=center>  \n",
    "    \n",
    "</div>"
   ]
  },
  {
   "cell_type": "markdown",
   "metadata": {},
   "source": [
    "<div class=\"alert alert-success\">\n",
    "\n",
    "    \n",
    "Le but du jeu est de déplacer entièrement la pile initiale sur la dernière tige.\n",
    "\n",
    "– Le joueur ne doit bouger qu’un disque à la fois ;\n",
    "    \n",
    "– Seul un petit disque peut être placé sur un plus gros disque ;\n",
    "    \n",
    "https://www.youtube.com/watch?v=w_9P7icYh7Y\n",
    "    \n",
    "Différentes approches ou point de vue :\n",
    "\n",
    "https://www.youtube.com/watch?v=rOnRbPKvGQg\n",
    "    \n",
    "https://twitter.com/ikeikey/status/1333335232292872194\n",
    "    \n",
    "Une explication détaillée sur Wikipédia (observer en particulier le graphe des tours pour passer de AAA à CCC)\n",
    "\n",
    "https://fr.wikipedia.org/wiki/Tours_de_Hano%C3%AF\n",
    "</div>"
   ]
  },
  {
   "cell_type": "markdown",
   "metadata": {},
   "source": [
    "<div class=\"alert alert-warning\">\n",
    "<img src=\"Images/CR.png\" alt=\"logo CR\" width=5% align=right>\n",
    "\n",
    "Travail à faire\n",
    "\n",
    "- Réaliser une fonction récursive implémentant les règles du jeu.\n",
    "\n",
    "</div>"
   ]
  },
  {
   "cell_type": "markdown",
   "metadata": {
    "ExecuteTime": {
     "end_time": "2021-10-25T08:55:41.199153Z",
     "start_time": "2021-10-25T08:55:41.190946Z"
    }
   },
   "source": [
    "<div class=\"alert alert-success\">\n",
    "\n",
    "<img src=\"Images/hanoi.gif\" alt=\"Les tours de Hanoï\" width=50% align=center>  \n",
    "    \n",
    "</div>"
   ]
  },
  {
   "cell_type": "code",
   "execution_count": 23,
   "metadata": {
    "ExecuteTime": {
     "end_time": "2021-11-08T09:35:14.164105Z",
     "start_time": "2021-11-08T09:35:05.882427Z"
    }
   },
   "outputs": [
    {
     "data": {
      "image/png": "[encoded data removed]",
      "text/plain": [
       "<Figure size 432x288 with 1 Axes>"
      ]
     },
     "metadata": {
      "needs_background": "light"
     },
     "output_type": "display_data"
    }
   ],
   "source": [
    "import matplotlib.pyplot as plt\n",
    "coup=0\n",
    "#liste=[TdH(n,'A','B','C') for n in range(2,25)]\n",
    "plt.plot(liste)\n",
    "plt.show()\n",
    "plt.close()"
   ]
  },
  {
   "cell_type": "code",
   "execution_count": 18,
   "metadata": {
    "ExecuteTime": {
     "end_time": "2021-11-08T09:34:05.860401Z",
     "start_time": "2021-11-08T09:34:05.848377Z"
    }
   },
   "outputs": [
    {
     "data": {
      "text/plain": [
       "7"
      ]
     },
     "execution_count": 18,
     "metadata": {},
     "output_type": "execute_result"
    }
   ],
   "source": [
    "coup=0\n",
    "def TdH(n , A, B, C):\n",
    "    \"\"\"\n",
    "    Fonction implémenant les règles du jeu des Tours de Hanoi\n",
    "    \"\"\"\n",
    "    global coup #comptage du nb de coup; variable globale pour éviter la remise à 0 à chaque appel récursif\n",
    "    coup+=1\n",
    "    if n==1: #si il n'y a qu'un seul disque\n",
    "        #print(\"Disque 1 de\",A,\"jusqu'à\",B)\n",
    "        return \n",
    "    TdH(n-1, A, C, B) #appel récursif\n",
    "    #print(\"Disque\",n,\"de\",A,\"jusqu'à\",B)\n",
    "    TdH(n-1, C, B, A) #appel récursif\n",
    "    return coup #nb de coup\n",
    "          \n",
    "TdH(3,'A','B','C')"
   ]
  },
  {
   "cell_type": "markdown",
   "metadata": {
    "heading_collapsed": true
   },
   "source": [
    "### 2- Réaliser une file avec deux piles"
   ]
  },
  {
   "cell_type": "markdown",
   "metadata": {
    "hidden": true
   },
   "source": [
    "<div class=\"alert alert-success\">\n",
    "Le principe est simple :\n",
    "\n",
    "- Lorsqu'on veut enfiler un élément dans la file abstraite, on dépose en réalité l'élément dans une structure de données pile qu'on nommera pile_entree.\n",
    "- Lorsqu'on veut défiler un élément de la file abstraite, on va chercher en réalité le sommet d'une structure de données pile qu'on nommera pile_sortie.\n",
    "\n",
    "<img src=\"Images/file2piles.png\" alt=\"Une file avec 2 piles\" width=50% align=center>  \n",
    "\n",
    "Comment faire ?\n",
    "    \n",
    "Lorsqu'on veut défiler les données de la file, deux cas se présentent :\n",
    "\n",
    "- Si la pile de sortie est vide, on dépile l'intégralité de la pile d'entree dans la pile de sortie : cela va permettre d'inverser les positions respectives du premier arrivé et du dernier arrivé de la pile d'entree.\n",
    "- Si la pile de sortie n'est pas vide, on dépile juste la pile de sortie.\n",
    "</div>"
   ]
  },
  {
   "cell_type": "markdown",
   "metadata": {
    "ExecuteTime": {
     "end_time": "2021-10-18T09:20:08.978687Z",
     "start_time": "2021-10-18T09:20:08.970556Z"
    },
    "hidden": true
   },
   "source": [
    "<div class=\"alert alert-warning\">\n",
    "<img src=\"Images/CR.png\" alt=\"logo CR\" width=5% align=right>\n",
    "\n",
    "Travail à faire\n",
    "\n",
    "- Réaliser la structure implémentant cette file abstraite selon le paradigme fonctionnel et/ou orienté objet ;\n",
    "- Placer des vérifications sur les pré et postconditions (assertion), ainsi que des tests unitaires (doctest);\n",
    "\n",
    "</div>"
   ]
  },
  {
   "cell_type": "code",
   "execution_count": 4,
   "metadata": {
    "ExecuteTime": {
     "end_time": "2021-10-19T06:07:05.101132Z",
     "start_time": "2021-10-19T06:07:05.087021Z"
    },
    "hidden": true
   },
   "outputs": [
    {
     "name": "stdout",
     "output_type": "stream",
     "text": [
      "True\n",
      "Pile d'entrée : [45, 4, 455]\n",
      "Pile de sortie : [] \n",
      "\n",
      "Pile d'entrée : []\n",
      "Pile de sortie : [455, 4, 45]\n"
     ]
    }
   ],
   "source": [
    "from strucline import Pile\n",
    "class File_abstraite():\n",
    "    def __init__(self):\n",
    "        self.pile_entree=Pile()\n",
    "        self.pile_sortie=Pile()\n",
    "        \n",
    "    def est_vide(self):\n",
    "        return self.pile_entree.est_vide() and self.pile_sortie.est_vide()\n",
    "    \n",
    "    def enfiler(self, val):\n",
    "        self.pile_entree.empiler(val)\n",
    "        \n",
    "    def defiler(self):\n",
    "        if self.pile_sortie.est_vide():\n",
    "            transvaser(self)\n",
    "        else:\n",
    "            self.pile_sortie.depiler()\n",
    "    \n",
    "    def __repr__(self):\n",
    "        if self.est_vide():\n",
    "            return \"None\"\n",
    "        return f\"Pile d'entrée : {self.pile_entree.pile}\\nPile de sortie : {self.pile_sortie.pile}\"\n",
    "    \n",
    "                \n",
    "def transvaser(file_tr):\n",
    "    while not(file_tr.pile_entree.est_vide()):\n",
    "        file_tr.pile_sortie.empiler(file_tr.pile_entree.depiler())\n",
    "        \n",
    "        \n",
    "        \n",
    "if __name__=='__main__':\n",
    "    file1=File_abstraite()\n",
    "    print(file1.est_vide())\n",
    "    file1.enfiler(45)\n",
    "    file1.enfiler(4)\n",
    "    file1.enfiler(455)\n",
    "    print(file1, \"\\n\")\n",
    "    file1.defiler()\n",
    "    print(file1)"
   ]
  },
  {
   "cell_type": "markdown",
   "metadata": {
    "heading_collapsed": true
   },
   "source": [
    "### 3- Calculatrice polonaise inverse"
   ]
  },
  {
   "cell_type": "markdown",
   "metadata": {
    "hidden": true
   },
   "source": [
    "<div class=\"alert alert-success\">\n",
    "Dans l'écriture usuelle des expressions algébriques, les parenthèses sont indispensables. Elles permettent par exemple de distinguer les expressions 1 + 2 x 3 et (1 + 2) x 3.\n",
    "\n",
    "Avec la notation préfixée (appelée aussi notation polonaise inverse, en référence à un mathématicien polonais, Jan Lukasiewic), les parenthèses ne sont plus nécessaires, ni aucune règle de priorité.\n",
    "\n",
    "Ainsi l'expression polonaise inverse décrite par la chaîne de caractères : '1 2 3 * + 4 *' désigne l'expression usuellement notée (1 + 2 x 3) x 4\n",
    "\n",
    "Pour évaluer cette expression, on observe un à un les éléments de l'expression et on effectue les actions suivantes :\n",
    "\n",
    "- si l'élément est un nombre, on le stocke dans une structure de donnée linéaire à définir.\n",
    "- Si l'élément est un opérateur, on récupère les deux nombres dernièrement stockés, on leur applique l'opérateur, et on restocke le résultat.\n",
    "\n",
    "</div>"
   ]
  },
  {
   "cell_type": "markdown",
   "metadata": {
    "hidden": true
   },
   "source": [
    "<div class=\"alert alert-warning\">\n",
    "<img src=\"Images/CR.png\" alt=\"logo CR\" width=5% align=right>\n",
    "\n",
    "Travail à faire\n",
    "\n",
    "- Écrire une telle fonction d'évaluation prenant en paramètre une liste d'entiers et d'opérateurs représentant une expression en notation polonaise inverse et renvoyant la valeur de cette expression. Si l'expression est mal écrite, on renverra une erreur.\n",
    "- Placer des vérifications sur les pré et postconditions (assertion), ainsi que des tests unitaires (doctest);\n",
    "\n",
    "</div>\n"
   ]
  },
  {
   "cell_type": "code",
   "execution_count": 5,
   "metadata": {
    "ExecuteTime": {
     "end_time": "2021-10-20T06:10:04.101977Z",
     "start_time": "2021-10-20T06:10:04.088472Z"
    },
    "code_folding": [],
    "hidden": true,
    "run_control": {
     "marked": false
    }
   },
   "outputs": [
    {
     "name": "stdout",
     "output_type": "stream",
     "text": [
      "[-72270]\n"
     ]
    }
   ],
   "source": [
    "from strucline import Pile\n",
    "import doctest\n",
    "class Calcul_pol():\n",
    "    \"\"\"\n",
    "    >>> K = Calcul_pol()\n",
    "    >>> K.empiler(5)\n",
    "    >>> K.empiler(8)\n",
    "    >>> K.empiler(\"+\")\n",
    "    >>> K.calcul()\n",
    "    13\n",
    "    \"\"\"\n",
    "    def __init__(self):\n",
    "        self.pile_nb = Pile()\n",
    "        \n",
    "    def empiler(self, val):\n",
    "        if val==\"+\" or val==\"-\" or val==\"*\" or val==\"/\":\n",
    "            self.pile_nb.empiler(val)\n",
    "            self.calcul()\n",
    "            return \"\"\n",
    "        self.pile_nb.empiler(val)\n",
    "        \n",
    "    def calcul(self):\n",
    "        if len(self.pile_nb.pile)<=2:\n",
    "            return self.pile_nb.pile\n",
    "        k=self.pile_nb.depiler()\n",
    "        result=eval(f'{self.pile_nb.depiler()} {k} {self.pile_nb.depiler()}')\n",
    "        self.empiler(result)\n",
    "        return result          \n",
    "\n",
    "\n",
    "if __name__=='__main__':\n",
    "    kalkul=Calcul_pol()\n",
    "    kalkul.empiler(12)\n",
    "    kalkul.empiler(45)\n",
    "    kalkul.empiler(98)\n",
    "    kalkul.empiler(\"+\")\n",
    "    kalkul.empiler(\"*\")\n",
    "    kalkul.empiler(98)\n",
    "    kalkul.empiler(\"-\")\n",
    "    kalkul.empiler(12)\n",
    "    kalkul.empiler(\"+\")\n",
    "    kalkul.empiler(45)\n",
    "    kalkul.empiler(\"*\")\n",
    "    print(kalkul.calcul())"
   ]
  },
  {
   "cell_type": "code",
   "execution_count": 7,
   "metadata": {
    "ExecuteTime": {
     "end_time": "2021-10-19T06:58:35.315881Z",
     "start_time": "2021-10-19T06:58:35.309209Z"
    },
    "hidden": true
   },
   "outputs": [
    {
     "name": "stdout",
     "output_type": "stream",
     "text": [
      "Help on built-in function eval in module builtins:\n",
      "\n",
      "eval(source, globals=None, locals=None, /)\n",
      "    Evaluate the given source in the context of globals and locals.\n",
      "    \n",
      "    The source may be a string representing a Python expression\n",
      "    or a code object as returned by compile().\n",
      "    The globals must be a dictionary and locals can be any mapping,\n",
      "    defaulting to the current globals and locals.\n",
      "    If only globals is given, locals defaults to it.\n",
      "\n"
     ]
    }
   ],
   "source": [
    "help(eval)"
   ]
  },
  {
   "cell_type": "code",
   "execution_count": 10,
   "metadata": {
    "ExecuteTime": {
     "end_time": "2021-10-20T06:19:39.939503Z",
     "start_time": "2021-10-20T06:19:39.926375Z"
    },
    "hidden": true
   },
   "outputs": [
    {
     "name": "stdout",
     "output_type": "stream",
     "text": [
      "9.0\n",
      "28.0\n"
     ]
    }
   ],
   "source": [
    "from strucline import Pile\n",
    "def evalu(exp:list)->float:\n",
    "    pile=Pile()\n",
    "    for elt in exp:\n",
    "        if isinstance(elt, int):\n",
    "            pile.empiler(elt)\n",
    "        else:\n",
    "            n1=pile.depiler()\n",
    "            n2=pile.depiler()\n",
    "            pile.empiler(eval(str(n1) + elt + str(n2)))\n",
    "    solu = float(pile.depiler())\n",
    "    assert pile.est_vide()\n",
    "    return solu\n",
    "\n",
    "if __name__ == '__main__':\n",
    "    r1=evalu([6,3,4,2,10,'/','-','*','+'])\n",
    "    print(r1)\n",
    "    r2=evalu([1,2,3,'*','+',4,'*'])\n",
    "    print(r2)"
   ]
  },
  {
   "cell_type": "markdown",
   "metadata": {
    "heading_collapsed": true
   },
   "source": [
    "### 4- Chaînes bien parenthésées"
   ]
  },
  {
   "cell_type": "markdown",
   "metadata": {
    "hidden": true
   },
   "source": [
    "<div class=\"alert alert-success\">\n",
    "\n",
    "On considère une chaîne de caractères incluant des parenthèses de toutes formes. La chaîne est dite bien parenthésée, si chaque paranthése ouvrante est associée à une parenthése fermante de même forme.\n",
    "</div>"
   ]
  },
  {
   "cell_type": "markdown",
   "metadata": {
    "hidden": true
   },
   "source": [
    "<div class=\"alert alert-warning\">\n",
    "<img src=\"Images/CR.png\" alt=\"logo CR\" width=10% align=right>\n",
    "\n",
    "Travail à faire\n",
    "\n",
    "- Écrire une fonction prenant en paramètre une chaîne de caractères contenant, entre autres, des parenthéses et qui renvoie True si la chaîne est bien parenthésée et False sinon.\n",
    "</div>"
   ]
  },
  {
   "cell_type": "code",
   "execution_count": 16,
   "metadata": {
    "ExecuteTime": {
     "end_time": "2021-10-20T07:36:48.338024Z",
     "start_time": "2021-10-20T07:36:48.323847Z"
    },
    "code_folding": [],
    "hidden": true
   },
   "outputs": [
    {
     "name": "stdout",
     "output_type": "stream",
     "text": [
      "True\n"
     ]
    }
   ],
   "source": [
    "from strucline import Pile\n",
    "def parenthesage(expression):\n",
    "    P=Pile()  \n",
    "    for e in expression: \n",
    "        if e=='(' or e=='{' or e=='[': \n",
    "            P.empiler(e)  \n",
    "        if e==')' or e=='}' or e==']':\n",
    "            if P.est_vide() :  \n",
    "                return False\n",
    "            else:\n",
    "                #print(len(P.pile))\n",
    "                if len(P.pile)>=1:\n",
    "                    if P.pile[-1]=='(' and e==')':\n",
    "                        P.depiler()\n",
    "                    elif P.pile[-1]=='{' and e=='}':\n",
    "                        P.depiler()\n",
    "                    elif P.pile[-1]=='[' and e==']':\n",
    "                        P.depiler()\n",
    "                #else:\n",
    "                    #print(P.pile)\n",
    "    if P.est_vide():\n",
    "        return True\n",
    "        return False\n",
    "print(parenthesage(\"(6*4)(4+5)[[()]{}]\"))"
   ]
  },
  {
   "cell_type": "code",
   "execution_count": 8,
   "metadata": {
    "ExecuteTime": {
     "end_time": "2021-11-08T09:22:57.596307Z",
     "start_time": "2021-11-08T09:22:57.585839Z"
    },
    "hidden": true
   },
   "outputs": [
    {
     "name": "stdout",
     "output_type": "stream",
     "text": [
      "True\n"
     ]
    }
   ],
   "source": [
    "from strucline import Pile\n",
    "def parenthesage(exp):\n",
    "    P=Pile()\n",
    "    dico={'(':')', '[':']', '{':'}'}\n",
    "    for elt in exp:\n",
    "        if elt in dico.keys():\n",
    "            P.empiler(elt)\n",
    "        elif elt in dico.values():\n",
    "            vals,keys=list(dico.values()),list(dico.keys())\n",
    "            if not(P.depiler()==keys[vals.index(elt)]):\n",
    "                return False\n",
    "    return P.est_vide()\n",
    "\n",
    "print(parenthesage(\"(6*4)(4+5)[6[9872(982)58]{}]\"))\n",
    "                "
   ]
  },
  {
   "cell_type": "code",
   "execution_count": 31,
   "metadata": {
    "ExecuteTime": {
     "end_time": "2021-10-20T06:43:00.055198Z",
     "start_time": "2021-10-20T06:43:00.039998Z"
    },
    "hidden": true
   },
   "outputs": [
    {
     "name": "stdout",
     "output_type": "stream",
     "text": [
      "Help on class dict in module builtins:\n",
      "\n",
      "class dict(object)\n",
      " |  dict() -> new empty dictionary\n",
      " |  dict(mapping) -> new dictionary initialized from a mapping object's\n",
      " |      (key, value) pairs\n",
      " |  dict(iterable) -> new dictionary initialized as if via:\n",
      " |      d = {}\n",
      " |      for k, v in iterable:\n",
      " |          d[k] = v\n",
      " |  dict(**kwargs) -> new dictionary initialized with the name=value pairs\n",
      " |      in the keyword argument list.  For example:  dict(one=1, two=2)\n",
      " |  \n",
      " |  Methods defined here:\n",
      " |  \n",
      " |  __contains__(self, key, /)\n",
      " |      True if D has a key k, else False.\n",
      " |  \n",
      " |  __delitem__(self, key, /)\n",
      " |      Delete self[key].\n",
      " |  \n",
      " |  __eq__(self, value, /)\n",
      " |      Return self==value.\n",
      " |  \n",
      " |  __ge__(self, value, /)\n",
      " |      Return self>=value.\n",
      " |  \n",
      " |  __getattribute__(self, name, /)\n",
      " |      Return getattr(self, name).\n",
      " |  \n",
      " |  __getitem__(...)\n",
      " |      x.__getitem__(y) <==> x[y]\n",
      " |  \n",
      " |  __gt__(self, value, /)\n",
      " |      Return self>value.\n",
      " |  \n",
      " |  __init__(self, /, *args, **kwargs)\n",
      " |      Initialize self.  See help(type(self)) for accurate signature.\n",
      " |  \n",
      " |  __iter__(self, /)\n",
      " |      Implement iter(self).\n",
      " |  \n",
      " |  __le__(self, value, /)\n",
      " |      Return self<=value.\n",
      " |  \n",
      " |  __len__(self, /)\n",
      " |      Return len(self).\n",
      " |  \n",
      " |  __lt__(self, value, /)\n",
      " |      Return self<value.\n",
      " |  \n",
      " |  __ne__(self, value, /)\n",
      " |      Return self!=value.\n",
      " |  \n",
      " |  __new__(*args, **kwargs) from builtins.type\n",
      " |      Create and return a new object.  See help(type) for accurate signature.\n",
      " |  \n",
      " |  __repr__(self, /)\n",
      " |      Return repr(self).\n",
      " |  \n",
      " |  __setitem__(self, key, value, /)\n",
      " |      Set self[key] to value.\n",
      " |  \n",
      " |  __sizeof__(...)\n",
      " |      D.__sizeof__() -> size of D in memory, in bytes\n",
      " |  \n",
      " |  clear(...)\n",
      " |      D.clear() -> None.  Remove all items from D.\n",
      " |  \n",
      " |  copy(...)\n",
      " |      D.copy() -> a shallow copy of D\n",
      " |  \n",
      " |  fromkeys(iterable, value=None, /) from builtins.type\n",
      " |      Returns a new dict with keys from iterable and values equal to value.\n",
      " |  \n",
      " |  get(...)\n",
      " |      D.get(k[,d]) -> D[k] if k in D, else d.  d defaults to None.\n",
      " |  \n",
      " |  items(...)\n",
      " |      D.items() -> a set-like object providing a view on D's items\n",
      " |  \n",
      " |  keys(...)\n",
      " |      D.keys() -> a set-like object providing a view on D's keys\n",
      " |  \n",
      " |  pop(...)\n",
      " |      D.pop(k[,d]) -> v, remove specified key and return the corresponding value.\n",
      " |      If key is not found, d is returned if given, otherwise KeyError is raised\n",
      " |  \n",
      " |  popitem(...)\n",
      " |      D.popitem() -> (k, v), remove and return some (key, value) pair as a\n",
      " |      2-tuple; but raise KeyError if D is empty.\n",
      " |  \n",
      " |  setdefault(...)\n",
      " |      D.setdefault(k[,d]) -> D.get(k,d), also set D[k]=d if k not in D\n",
      " |  \n",
      " |  update(...)\n",
      " |      D.update([E, ]**F) -> None.  Update D from dict/iterable E and F.\n",
      " |      If E is present and has a .keys() method, then does:  for k in E: D[k] = E[k]\n",
      " |      If E is present and lacks a .keys() method, then does:  for k, v in E: D[k] = v\n",
      " |      In either case, this is followed by: for k in F:  D[k] = F[k]\n",
      " |  \n",
      " |  values(...)\n",
      " |      D.values() -> an object providing a view on D's values\n",
      " |  \n",
      " |  ----------------------------------------------------------------------\n",
      " |  Data and other attributes defined here:\n",
      " |  \n",
      " |  __hash__ = None\n",
      "\n"
     ]
    }
   ],
   "source": [
    "help(dict)"
   ]
  },
  {
   "cell_type": "markdown",
   "metadata": {
    "heading_collapsed": true
   },
   "source": [
    "### 5- Le problème de Josèphe. "
   ]
  },
  {
   "cell_type": "markdown",
   "metadata": {
    "hidden": true
   },
   "source": [
    "<div class=\"alert alert-success\">\n",
    "    \n",
    "https://fr.wikipedia.org/wiki/Problème_de_Josèphe\n",
    "    \n",
    "On place en cercle les joueurs. On décide d'un joueur point de départ et on élimine ce joueur. Puis on compte 3 joueurs et on élimine le 3ème. On compte ensuite 3 joueurs en partant du suivant et on élimine...etc. Le problème est de prévoir le gagnant.\n",
    "\n",
    "<img src=\"Images/Josephe.png\" alt=\"Le problème de Josèphe\" width=80% align=center>  \n",
    "\n",
    "\n",
    "</div>"
   ]
  },
  {
   "cell_type": "markdown",
   "metadata": {
    "hidden": true
   },
   "source": [
    "<div class=\"alert alert-warning\">\n",
    "<img src=\"Images/CR.png\" alt=\"logo CR\" width=5% align=right>\n",
    "\n",
    "Travail à faire\n",
    "\n",
    "- Écrire une fonction utilisant une file, prenant en paramètres la liste des joueurs et le module (dans l'exemple, le module est 3) et qui renvoie le gagnant ;\n",
    "- Placer des vérifications sur les pré et postconditions (assertion), ainsi que des tests unitaires (doctest);\n",
    "</div>"
   ]
  },
  {
   "cell_type": "code",
   "execution_count": 19,
   "metadata": {
    "ExecuteTime": {
     "end_time": "2021-10-25T08:23:58.864577Z",
     "start_time": "2021-10-25T08:23:58.854007Z"
    },
    "hidden": true
   },
   "outputs": [
    {
     "name": "stdout",
     "output_type": "stream",
     "text": [
      "le gagnant est : Tim\n"
     ]
    }
   ],
   "source": [
    "joueurs=[\"Lucas\", \"Vincent\", \"Tim\", \"Mathias\"]\n",
    "def josephe(joueurs, k):\n",
    "    joueurs.pop(0)\n",
    "    decal = k - 1\n",
    "    index = decal % len(joueurs)\n",
    "    while len(joueurs) > 1:\n",
    "        joueurs.pop(index)\n",
    "        index = (index + decal) % len(joueurs) \n",
    "    return joueurs[0]\n",
    "print(\"le gagnant est :\",josephe(joueurs, 3))"
   ]
  },
  {
   "cell_type": "code",
   "execution_count": 14,
   "metadata": {
    "ExecuteTime": {
     "end_time": "2021-11-08T09:23:53.822952Z",
     "start_time": "2021-11-08T09:23:53.814431Z"
    },
    "hidden": true
   },
   "outputs": [
    {
     "name": "stdout",
     "output_type": "stream",
     "text": [
      "C\n"
     ]
    }
   ],
   "source": [
    "from strucline import File\n",
    "def jos(lpersonne, mod):\n",
    "    f=File()\n",
    "    for personne in lpersonne:\n",
    "        f.enfiler(personne)\n",
    "    f.defiler()\n",
    "    while not(f.est_vide()):\n",
    "        for i in range(mod-1):\n",
    "            f.enfiler(f.defiler())\n",
    "        p=f.defiler()\n",
    "    return p\n",
    "print(jos(['A', 'B', 'C', 'D'], 3))"
   ]
  },
  {
   "cell_type": "markdown",
   "metadata": {
    "heading_collapsed": true
   },
   "source": [
    "### 6- Liste chaînée immuable (non-mutable)"
   ]
  },
  {
   "cell_type": "markdown",
   "metadata": {
    "hidden": true
   },
   "source": [
    "<div class=\"alert alert-warning\">\n",
    "<img src=\"Images/CR.png\" alt=\"logo CR\" width=5% align=right>\n",
    "\n",
    "Travail à faire\n",
    "\n",
    "- Implémenter une liste chaînée immuable d'entiers avec l'objet built-in de python tuple ;\n",
    "- Placer des vérifications sur les pré et postconditions (assertion), ainsi que des tests unitaires (doctest);\n",
    "</div>"
   ]
  },
  {
   "cell_type": "code",
   "execution_count": 21,
   "metadata": {
    "ExecuteTime": {
     "end_time": "2021-10-25T09:39:00.268542Z",
     "start_time": "2021-10-25T09:39:00.238637Z"
    },
    "hidden": true
   },
   "outputs": [
    {
     "name": "stdout",
     "output_type": "stream",
     "text": [
      "140171758137416\n",
      "longueur de liste vide = 0\n",
      "estListeVide(liste vide) = True\n",
      "[1]\n",
      "140171630223544\n",
      "après ajout de 1 en tête = (1,)\n",
      "['A', 1]\n",
      "140171240608072\n",
      "après ajout de A en tête = ('A', 1)\n",
      "[(1, 2), 'A', 1]\n",
      "140171630001032\n",
      "après ajout de (1,2) en tête = ((1, 2), 'A', 1)\n",
      "140171240585736\n",
      "après suppression de la tête = ('A', 1)\n",
      "longueur de la liste = 2\n",
      "tête de liste :  A\n"
     ]
    }
   ],
   "source": [
    "def listeVide()-> tuple  :\n",
    "    '''\n",
    "    renvoie une liste chaînée vide\n",
    "    '''\n",
    "    return(())\n",
    "\n",
    "def estListeVide(llst) -> bool : \n",
    "    '''\n",
    "    llst : LISTE\n",
    "    '''\n",
    "    return llst==()\n",
    "\n",
    "def cons(x:int,llst : tuple)  : \n",
    "    '''\n",
    "    ajoute x en tête de llst\n",
    "    '''\n",
    "    k=[x]\n",
    "    for elt in list(llst):\n",
    "        k.append(elt)\n",
    "    print(k)\n",
    "    return tuple(k)\n",
    "        \n",
    "\n",
    "def queue(llst)->tuple :\n",
    "    '''\n",
    "    renvoie la queue de llst\n",
    "    '''\n",
    "    return llst[1:]\n",
    "\n",
    "def tete(llst) :\n",
    "    '''\n",
    "    renvoie l'entier de la tête de llst\n",
    "    '''\n",
    "    return llst[0]\n",
    "\n",
    "def longueur(llst) -> int :\n",
    "    '''\n",
    "    llst : LISTE\n",
    "    '''\n",
    "    return len(llst)\n",
    "\n",
    "liste=listeVide()\n",
    "print(id(liste))\n",
    "print('longueur de liste vide =',longueur(liste))\n",
    "print('estListeVide(liste vide) =',estListeVide(liste))\n",
    "liste=cons(1,liste)\n",
    "print(id(liste))\n",
    "print('après ajout de 1 en tête =',liste)\n",
    "liste=cons('A',liste)\n",
    "print(id(liste))\n",
    "print('après ajout de A en tête =',liste)\n",
    "liste=cons((1,2),liste)\n",
    "print(id(liste))\n",
    "print('après ajout de (1,2) en tête =',liste)\n",
    "liste=queue(liste)\n",
    "print(id(liste))\n",
    "print('après suppression de la tête =',liste)\n",
    "print('longueur de la liste =',longueur(liste))\n",
    "print('tête de liste : ',tete(liste))"
   ]
  },
  {
   "cell_type": "code",
   "execution_count": null,
   "metadata": {
    "hidden": true
   },
   "outputs": [],
   "source": []
  }
 ],
 "metadata": {
  "hide_input": false,
  "kernelspec": {
   "display_name": "Python 3.10.6 64-bit",
   "language": "python",
   "name": "python3"
  },
  "language_info": {
   "codemirror_mode": {
    "name": "ipython",
    "version": 3
   },
   "file_extension": ".py",
   "mimetype": "text/x-python",
   "name": "python",
   "nbconvert_exporter": "python",
   "pygments_lexer": "ipython3",
   "version": "3.10.6"
  },
  "latex_envs": {
   "LaTeX_envs_menu_present": true,
   "autoclose": false,
   "autocomplete": true,
   "bibliofile": "biblio.bib",
   "cite_by": "apalike",
   "current_citInitial": 1,
   "eqLabelWithNumbers": true,
   "eqNumInitial": 1,
   "hotkeys": {
    "equation": "Ctrl-E",
    "itemize": "Ctrl-I"
   },
   "labels_anchors": false,
   "latex_user_defs": false,
   "report_style_numbering": false,
   "user_envs_cfg": false
  },
  "nbTranslate": {
   "displayLangs": [
    "*"
   ],
   "hotkey": "alt-t",
   "langInMainMenu": true,
   "sourceLang": "en",
   "targetLang": "fr",
   "useGoogleTranslate": true
  },
  "toc": {
   "base_numbering": 1,
   "nav_menu": {},
   "number_sections": true,
   "sideBar": true,
   "skip_h1_title": false,
   "title_cell": "Table of Contents",
   "title_sidebar": "Contents",
   "toc_cell": false,
   "toc_position": {},
   "toc_section_display": true,
   "toc_window_display": false
  },
  "varInspector": {
   "cols": {
    "lenName": 16,
    "lenType": 16,
    "lenVar": 40
   },
   "kernels_config": {
    "python": {
     "delete_cmd_postfix": "",
     "delete_cmd_prefix": "del ",
     "library": "var_list.py",
     "varRefreshCmd": "print(var_dic_list())"
    },
    "r": {
     "delete_cmd_postfix": ") ",
     "delete_cmd_prefix": "rm(",
     "library": "var_list.r",
     "varRefreshCmd": "cat(var_dic_list()) "
    }
   },
   "types_to_exclude": [
    "module",
    "function",
    "builtin_function_or_method",
    "instance",
    "_Feature"
   ],
   "window_display": false
  },
  "vscode": {
   "interpreter": {
    "hash": "916dbcbb3f70747c44a77c7bcd40155683ae19c65e1c03b4aa3499c5328201f1"
   }
  }
 },
 "nbformat": 4,
 "nbformat_minor": 2
}
