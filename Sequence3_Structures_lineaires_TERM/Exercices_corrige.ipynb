{
 "cells": [
  {
   "cell_type": "markdown",
   "metadata": {},
   "source": [
    "# <center><font face=\"arial\" size=\"5\" color=#0101DF>NUMERIQUE ET SCIENCES INFORMATIQUES Terminale NSI</font></center>"
   ]
  },
  {
   "cell_type": "markdown",
   "metadata": {},
   "source": [
    "## <font color=#013ADF>Révisions</font>"
   ]
  },
  {
   "cell_type": "markdown",
   "metadata": {},
   "source": [
    "Les exercices ne sont pas classés par ordre de difficultés."
   ]
  },
  {
   "cell_type": "markdown",
   "metadata": {},
   "source": [
    "### 1- Les tours de Hanoï"
   ]
  },
  {
   "cell_type": "markdown",
   "metadata": {},
   "source": [
    "<div class=\"alert alert-success\">\n",
    "\n",
    "<img src=\"Images/Hanoi.png\" alt=\"Les tours de Hanoï\" width=50% align=center>  \n",
    "    \n",
    "</div>"
   ]
  },
  {
   "cell_type": "markdown",
   "metadata": {},
   "source": [
    "<div class=\"alert alert-success\">\n",
    "\n",
    "    \n",
    "Le but du jeu est de déplacer entièrement la pile initiale sur la dernière tige.\n",
    "\n",
    "– Le joueur ne doit bouger qu’un disque à la fois ;\n",
    "    \n",
    "– Seul un petit disque peut être placé sur un plus gros disque ;\n",
    "    \n",
    "https://www.youtube.com/watch?v=w_9P7icYh7Y\n",
    "    \n",
    "Différentes approches ou point de vue :\n",
    "\n",
    "https://www.youtube.com/watch?v=rOnRbPKvGQg\n",
    "    \n",
    "https://twitter.com/ikeikey/status/1333335232292872194\n",
    "    \n",
    "Une explication détaillée sur Wikipédia (observer en particulier le graphe des tours pour passer de AAA à CCC)\n",
    "\n",
    "https://fr.wikipedia.org/wiki/Tours_de_Hano%C3%AF\n",
    "</div>"
   ]
  },
  {
   "cell_type": "markdown",
   "metadata": {},
   "source": [
    "<div class=\"alert alert-warning\">\n",
    "<img src=\"Images/CR.png\" alt=\"logo CR\" width=5% align=right>\n",
    "\n",
    "Travail à faire\n",
    "\n",
    "- Réaliser une fonction récursive implémentant les règles du jeu.\n",
    "\n",
    "</div>"
   ]
  },
  {
   "cell_type": "markdown",
   "metadata": {},
   "source": [
    "<div class=\"alert alert-danger\" role=\"alert\">\n",
    "<img src=\"Images/tour_hanoi.png\" alt=\"phases de jeu\" width=80% align=center>\n",
    "\n",
    "Pour résoudre le problème avec 1 disque, il faut 1 étape ;\n",
    "    \n",
    "Pour résoudre le problème avec 2 disques, il faut 3 étapes ;\n",
    "    \n",
    "Pour résoudre le problème avec 3 disques, il faut 7 étapes ;\n",
    "    \n",
    "Pour résoudre le problème avec 4 disques, il faut résoudre 2 fois le problème avec 3 disques, puis déplacer le plus grand disque soit 2 * 7 + 1 = 15 ;\n",
    "    \n",
    "On généralise pour n disques : nb_étapes = 2 * (n - 1) + 1\n",
    "</div>"
   ]
  },
  {
   "cell_type": "code",
   "execution_count": 1,
   "metadata": {
    "ExecuteTime": {
     "end_time": "2021-11-09T06:37:51.961219Z",
     "start_time": "2021-11-09T06:37:51.944126Z"
    }
   },
   "outputs": [
    {
     "name": "stdout",
     "output_type": "stream",
     "text": [
      "Déplace le disque D vers I.\n",
      "Déplace le disque D vers A.\n",
      "Déplace le disque I vers A.\n",
      "Déplace le disque D vers I.\n",
      "Déplace le disque A vers D.\n",
      "Déplace le disque A vers I.\n",
      "Déplace le disque D vers I.\n",
      "Déplace le disque D vers A.\n",
      "Déplace le disque I vers A.\n",
      "Déplace le disque I vers D.\n",
      "Déplace le disque A vers D.\n",
      "Déplace le disque I vers A.\n",
      "Déplace le disque D vers I.\n",
      "Déplace le disque D vers A.\n",
      "Déplace le disque I vers A.\n"
     ]
    }
   ],
   "source": [
    "\"\"\"\n",
    "Déplacer n disques de D vers A en passant par I :\n",
    "\n",
    "    Déplacer (n-1) disques de D vers I en passant par A;\n",
    "\n",
    "    Déplacer 1 disque de D vers A ;\n",
    "\n",
    "    Déplacer (n-1) disques de I vers A en passant par D.\n",
    "\"\"\"\n",
    "def deplace_disque(n, d, a, i):\n",
    "    if n >= 1:\n",
    "        deplace_disque(n-1,d,i,a)\n",
    "        commentaire(d,a)\n",
    "        deplace_disque(n-1,i,a,d)\n",
    "\n",
    "def commentaire(de,vers):\n",
    "    print(f\"Déplace le disque {de} vers {vers}.\")\n",
    "    \n",
    "def nb_etapes(n):\n",
    "    if n==1:\n",
    "        return 1\n",
    "    else:\n",
    "        return 2 * nb_etapes(n-1)+1\n",
    "\n",
    "deplace_disque(4,\"D\",\"A\",\"I\")"
   ]
  },
  {
   "cell_type": "markdown",
   "metadata": {},
   "source": [
    "### 2- Réaliser une file avec deux piles"
   ]
  },
  {
   "cell_type": "markdown",
   "metadata": {},
   "source": [
    "<div class=\"alert alert-success\">\n",
    "Le principe est simple :\n",
    "\n",
    "- Lorsqu'on veut enfiler un élément dans la file abstraite, on dépose en réalité l'élément dans une structure de données pile qu'on nommera pile_entree.\n",
    "- Lorsqu'on veut défiler un élément de la file abstraite, on va chercher en réalité le sommet d'une structure de données pile qu'on nommera pile_sortie.\n",
    "\n",
    "<img src=\"Images/file2piles.png\" alt=\"Une file avec 2 piles\" width=50% align=center>  \n",
    "\n",
    "Comment faire ?\n",
    "    \n",
    "Lorsqu'on veut défiler les données de la file, deux cas se présentent :\n",
    "\n",
    "- Si la pile de sortie est vide, on dépile l'intégralité de la pile d'entree dans la pile de sortie : cela va permettre d'inverser les positions respectives du premier arrivé et du dernier arrivé de la pile d'entree.\n",
    "- Si la pile de sortie n'est pas vide, on dépile juste la pile de sortie.\n",
    "</div>"
   ]
  },
  {
   "cell_type": "markdown",
   "metadata": {},
   "source": [
    "<div class=\"alert alert-warning\">\n",
    "<img src=\"Images/CR.png\" alt=\"logo CR\" width=5% align=right>\n",
    "\n",
    "Travail à faire\n",
    "\n",
    "- Réaliser la structure implémentant cette file abstraite selon le paradigme fonctionnel et/ou orienté objet ;\n",
    "- Placer des vérifications sur les pré et postconditions (assertion), ainsi que des tests unitaires (doctest);\n",
    "\n",
    "</div>"
   ]
  },
  {
   "cell_type": "code",
   "execution_count": 2,
   "metadata": {
    "ExecuteTime": {
     "end_time": "2021-11-09T06:39:08.081592Z",
     "start_time": "2021-11-09T06:39:08.066101Z"
    }
   },
   "outputs": [
    {
     "name": "stdout",
     "output_type": "stream",
     "text": [
      "True\n",
      "1\n",
      "2\n",
      "3\n",
      "4\n"
     ]
    }
   ],
   "source": [
    "from strucline import Pile\n",
    " \n",
    " \n",
    "# Fonctions d'interface de la file abstraite\n",
    " \n",
    "def file_abstraite()->tuple:\n",
    "    return Pile(), Pile()\n",
    " \n",
    "def file_abstraite_vide(f)->bool:\n",
    "    return f[0].est_vide() and f[1].est_vide()\n",
    " \n",
    "def enfile(f, elt:int):\n",
    "    f[0].empiler(elt)\n",
    " \n",
    "def defile(f):\n",
    "    assert not file_abstraite_vide(f),'La liste est vide'\n",
    "    if f[1].est_vide():\n",
    "        transvaser(f)\n",
    "    return f[1].depiler()\n",
    "\n",
    "# Fonction de l'implémentation file_abstraite hors Interface\n",
    " \n",
    "def transvaser(f):\n",
    "    while not f[0].est_vide() :\n",
    "        f[1].empiler(f[0].depiler())\n",
    "        \n",
    "if __name__=='__main__':\n",
    "    file=file_abstraite()\n",
    "    print(file_abstraite_vide(file))\n",
    "    enfile(file,1)\n",
    "    enfile(file,2)\n",
    "    enfile(file,3)\n",
    "    enfile(file,4)\n",
    "    print(defile(file))\n",
    "    print(defile(file))\n",
    "    print(defile(file))\n",
    "    print(defile(file))"
   ]
  },
  {
   "cell_type": "code",
   "execution_count": null,
   "metadata": {},
   "outputs": [],
   "source": [
    "from brunotools import Pile\n",
    "\n",
    "# Fonctions d'interface de la file abstraite\n",
    "\n",
    "class File_abstraite:\n",
    "    def __init__(self):\n",
    "        self.pile_entree=Pile()\n",
    "        self.pile_sortie=Pile()\n",
    "    \n",
    "    def file_abstraite_vide(self):\n",
    "        return self.pile_entree.est_vide() and self.pile_sortie.est_vide()\n",
    "        \n",
    "    def enfile(self,elt):\n",
    "        self.elt=elt\n",
    "        self.pile_entree.empile(self.elt)\n",
    "        return self.elt\n",
    "        \n",
    "    def defile(self):\n",
    "        assert not self.file_abstraite_vide(),'La file est vide'\n",
    "        if self.pile_sortie.est_vide():\n",
    "            transvaser(self)\n",
    "        return self.pile_sortie.depile()\n",
    "    \n",
    "    def __repr__(self):\n",
    "        return f\"Pile d'entrée : {self.pile_entree.elements} \\nPile de sortie : {self.pile_sortie.elements}\"\n",
    "\n",
    "# Fonction de l'implémentation file abstraite hors Interface\n",
    "        \n",
    "def transvaser(self):\n",
    "    while not self.pile_entree.est_vide():\n",
    "        self.pile_sortie.empile(self.pile_entree.depile())\n",
    "        \n",
    "if __name__=='__main__':\n",
    "    fa=File_abstraite()\n",
    "    print(fa.file_abstraite_vide())\n",
    "    print(fa.enfile(1))\n",
    "    print(fa.enfile(2)) \n",
    "    print(fa.enfile(3)) \n",
    "    print(fa.enfile(4))\n",
    "    print(fa.file_abstraite_vide())\n",
    "    print(fa)\n",
    "    print(fa.defile())\n",
    "    \"\"\"\n",
    "    print(fa.defile())\n",
    "    print(fa.defile())\n",
    "    print(fa.defile())\n",
    "    \"\"\"\n",
    "    print(fa)"
   ]
  },
  {
   "cell_type": "code",
   "execution_count": null,
   "metadata": {},
   "outputs": [],
   "source": [
    "help(File_abstraite)"
   ]
  },
  {
   "cell_type": "markdown",
   "metadata": {},
   "source": [
    "### 3- Calculatrice polonaise inverse"
   ]
  },
  {
   "cell_type": "markdown",
   "metadata": {},
   "source": [
    "<div class=\"alert alert-success\">\n",
    "Dans l'écriture usuelle des expressions algébriques, les parenthèses sont indispensables. Elles permettent par exemple de distinguer les expressions 1 + 2 x 3 et (1 + 2) x 3.\n",
    "\n",
    "Avec la notation préfixée (appelée aussi notation polonaise inverse, en référence à un mathématicien polonais, Jan Lukasiewic), les parenthèses ne sont plus nécessaires, ni aucune règle de priorité.\n",
    "\n",
    "Ainsi l'expression polonaise inverse décrite par la chaîne de caractères : '1 2 3 * + 4 *' désigne l'expression usuellement notée (1 + 2 x 3) x 4\n",
    "\n",
    "Pour évaluer cette expression, on observe un à un les éléments de l'expression et on effectue les actions suivantes :\n",
    "\n",
    "- si l'élément est un nombre, on le stocke dans une structure de donnée linéaire à définir.\n",
    "- Si l'élément est un opérateur, on on récupère les deux nombres dernièrement stockés, on leur applique l'opérateur, et on restocke le résultat.\n",
    "\n",
    "</div>"
   ]
  },
  {
   "cell_type": "markdown",
   "metadata": {},
   "source": [
    "<div class=\"alert alert-warning\">\n",
    "<img src=\"Images/CR.png\" alt=\"logo CR\" width=5% align=right>\n",
    "\n",
    "Travail à faire\n",
    "\n",
    "- Écrire une telle fonction d'évaluation prenant en paramètre une liste d'entiers et d'opérateurs représentant une expression en notation polonaise inverse et renvoyant la valeur de cette expression. Si l'expression est mal écrite, on renverra une erreur.\n",
    "- Placer des vérifications sur les pré et postconditions (assertion), ainsi que des tests unitaires (doctest);\n",
    "\n",
    "</div>\n"
   ]
  },
  {
   "cell_type": "code",
   "execution_count": 3,
   "metadata": {
    "ExecuteTime": {
     "end_time": "2021-11-09T06:46:51.202232Z",
     "start_time": "2021-11-09T06:46:51.163674Z"
    }
   },
   "outputs": [
    {
     "name": "stdout",
     "output_type": "stream",
     "text": [
      "9.0\n"
     ]
    }
   ],
   "source": [
    "from strucline import Pile\n",
    "\n",
    "def evaluation(expression:list)-> float:\n",
    "    \"\"\"\n",
    "    Implémente la notation polonaise inversée\n",
    "    >>> evaluation([6.0,3.0,4.0,2.0,10.0,'/','-','*','+'])\n",
    "    9.0\n",
    "    >>> evaluation([1.0,2.0,3.0,'*','+',4.0,'*'])\n",
    "    28.0\n",
    "    \"\"\"\n",
    "    pile = Pile()\n",
    "    for element in expression:\n",
    "        if isinstance(element, float):\n",
    "            pile.empiler(element)\n",
    "            #print(pile)\n",
    "        else:\n",
    "            nb1 = pile.depiler()\n",
    "            nb2 = pile.depiler()\n",
    "            pile.empiler(eval(str(nb1) + element + str(nb2)))\n",
    "            #print(pile)\n",
    "    solution = float(pile.depiler())\n",
    "    assert pile.est_vide(),'Erreur d\\'expression' # vérification des post-conditions\n",
    "    return solution\n",
    "\n",
    "\n",
    "if __name__=='__main__':\n",
    "    from doctest import testmod\n",
    "    testmod()\n",
    "    #assert evaluation([6.0,3.0,4.0,2.0,10.0,'/','-','*','+'])==9.0\n",
    "    r1 = evaluation([6.0,3.0,4.0,2.0,10.0,'/','-','*','+'])\n",
    "    r2 = evaluation([1.0,2.0,3.0,'*','+',4.0,'*'])\n",
    "    print(r1)"
   ]
  },
  {
   "cell_type": "markdown",
   "metadata": {},
   "source": [
    "### 4- Chaînes bien parenthésées"
   ]
  },
  {
   "cell_type": "markdown",
   "metadata": {},
   "source": [
    "<div class=\"alert alert-success\">\n",
    "\n",
    "On considère une chaîne de caractères incluant des parenthèses de toutes formes. La chaîne est dite bien parenthésée, si chaque paranthése ouvrante est associée à une parenthése fermante de même forme.\n",
    "</div>"
   ]
  },
  {
   "cell_type": "markdown",
   "metadata": {},
   "source": [
    "<div class=\"alert alert-warning\">\n",
    "<img src=\"Images/CR.png\" alt=\"logo CR\" width=5% align=right>\n",
    "\n",
    "Travail à faire\n",
    "\n",
    "- Écrire une fonction prenant en paramètre une chaîne de caractères contenant, entre autres, des parenthéses et qui renvoie True si la chaîne est bien parenthésée et False sinon.\n",
    "</div>"
   ]
  },
  {
   "cell_type": "code",
   "execution_count": null,
   "metadata": {},
   "outputs": [],
   "source": [
    "from brunotools import Pile\n",
    "\n",
    "def bonnes_parentheses(chaine:str)->bool:\n",
    "    \"\"\"\n",
    "    >>> bonnes_parentheses('{(2 * 89) + [45+2]/3}')\n",
    "    True\n",
    "    >>> bonnes_parentheses('{((2 * 89) + [45+2]/3}')\n",
    "    False\n",
    "    \"\"\"\n",
    "    dico_asso = {'}':'{',')':'(',']':'['}\n",
    "    pile=Pile()\n",
    "    for caractere in chaine:\n",
    "        if caractere == '{' or caractere == '(' or caractere == '{':\n",
    "            pile.empile(caractere)\n",
    "        elif caractere == '}' or caractere == ')' or caractere =='}':\n",
    "            if pile.est_vide()or pile.depile() != dico_asso[caractere]:\n",
    "                return False\n",
    "    return pile.est_vide()\n",
    "\n",
    "\n",
    "if __name__=='__main__':\n",
    "    from doctest import testmod\n",
    "    testmod()\n",
    "    string='{(2 * 89) + [45+2]/3}'\n",
    "    print(bonnes_parentheses(string))"
   ]
  },
  {
   "cell_type": "markdown",
   "metadata": {},
   "source": [
    "### 5- Le problème de Josèphe. "
   ]
  },
  {
   "cell_type": "markdown",
   "metadata": {},
   "source": [
    "<div class=\"alert alert-success\">\n",
    "    \n",
    "https://fr.wikipedia.org/wiki/Problème_de_Josèphe\n",
    "    \n",
    "On place en cercle les joueurs. On décide d'un joueur point de départ et on élimine ce joueur. Puis on compte 3 joueurs et on élimine le 3ème. On compte ensuite 3 joueurs en partant du suivant et on élimine...etc. Le problème est de prévoir le gagnant.\n",
    "\n",
    "<img src=\"Images/Josephe.png\" alt=\"Le problème de Josèphe\" width=80% align=center>  \n",
    "\n",
    "\n",
    "</div>"
   ]
  },
  {
   "cell_type": "markdown",
   "metadata": {},
   "source": [
    "<div class=\"alert alert-warning\">\n",
    "<img src=\"Images/CR.png\" alt=\"logo CR\" width=5% align=right>\n",
    "\n",
    "Travail à faire\n",
    "\n",
    "- Écrire une fonction utilisant une file, prenant en paramètres la liste des joueurs et le module (dans l'exemple, le module est 3) et qui renvoie le gagnant ;\n",
    "- Placer des vérifications sur les pré et postconditions (assertion), ainsi que des tests unitaires (doctest);\n",
    "</div>"
   ]
  },
  {
   "cell_type": "code",
   "execution_count": null,
   "metadata": {},
   "outputs": [],
   "source": [
    "from brunotools import File\n",
    "\n",
    "\n",
    "\n",
    "def josephe(listePersonnes, module):\n",
    "    \"\"\"\n",
    "    Implémente le problème de josèphe\n",
    "    >>> josephe( ['Alan', 'Brieuc', 'Mathis', 'Youenn', 'Mathias','Lucas', 'Élouan', 'Emilie'], 3)\n",
    "    'Mathias'\n",
    "    >>> josephe( ['Alan', 'Brieuc', 'Mathis'], 4)\n",
    "    'Brieuc'\n",
    "    \"\"\"\n",
    "    assert len(listePersonnes)>1,'Il n\\'y a pas assez de personne dans la liste pour le jeu'\n",
    "    f = File()\n",
    "    for personne in listePersonnes:\n",
    "        f.enfile(personne)\n",
    "    f.defile()\n",
    "    while not(f.est_vide()):\n",
    "        for i in range(module-1):\n",
    "            f.enfile(f.defile())\n",
    "        p = f.defile()\n",
    "        #print(p)\n",
    "    return p\n",
    "\n",
    "if __name__=='__main__':\n",
    "    from doctest import testmod\n",
    "    testmod()\n",
    "    print(josephe( ['Alan', 'Brieuc', 'Mathis', 'Youenn', 'Mathias','Lucas', 'Élouan', 'Emilie'], 3))"
   ]
  },
  {
   "cell_type": "markdown",
   "metadata": {},
   "source": [
    "### 6- Liste chaînée immuable (non-mutable)"
   ]
  },
  {
   "cell_type": "markdown",
   "metadata": {},
   "source": [
    "<div class=\"alert alert-warning\">\n",
    "<img src=\"Images/CR.png\" alt=\"logo CR\" width=5% align=right>\n",
    "\n",
    "Travail à faire\n",
    "\n",
    "- Implémenter une liste chaînée immuable d'entiers avec l'objet built-in de python tuple ;\n",
    "- Placer des vérifications sur les pré et postconditions (assertion), ainsi que des tests unitaires (doctest);\n",
    "</div>"
   ]
  },
  {
   "cell_type": "code",
   "execution_count": null,
   "metadata": {},
   "outputs": [],
   "source": [
    "def listeVide()-> tuple  :\n",
    "    '''\n",
    "    renvoie une liste chaînée vide\n",
    "    '''\n",
    "    return ()\n",
    "\n",
    "def estListeVide(llst) -> bool : \n",
    "    '''\n",
    "    llst : LISTE\n",
    "    '''\n",
    "    return llst==()\n",
    "\n",
    "def cons(x:int,llst : tuple)  : \n",
    "    '''\n",
    "    ajoute x en tête de llst\n",
    "    '''\n",
    "    return (x,llst)\n",
    "\n",
    "def queue(llst)->tuple :\n",
    "    '''\n",
    "    renvoie la queue de llst\n",
    "    '''\n",
    "    return llst[1]\n",
    "\n",
    "def tete(llst) :\n",
    "    '''\n",
    "    renvoie l'entier de la tête de llst\n",
    "    '''\n",
    "    return llst[0]\n",
    "\n",
    "def longueur(llst) -> int :\n",
    "    '''\n",
    "    lst : LISTE\n",
    "    '''\n",
    "    longueur = 0\n",
    "    while not estListeVide(llst) :\n",
    "        longueur += 1\n",
    "        llst = queue(llst)\n",
    "    return longueur\n",
    "\n",
    "liste=listeVide()\n",
    "print(id(liste))\n",
    "print('longueur de liste vide =',longueur(liste))\n",
    "print('estListeVide(liste vide) =',estListeVide(liste))\n",
    "liste=cons(1,liste)\n",
    "print(id(liste))\n",
    "print('après ajout de 1 en tête =',liste)\n",
    "liste=cons('A',liste)\n",
    "print(id(liste))\n",
    "print('après ajout de A en tête =',liste)\n",
    "liste=cons((1,2),liste)\n",
    "print(id(liste))\n",
    "print('après ajout de (1,2) en tête =',liste)\n",
    "liste=queue(liste)\n",
    "print(id(liste))\n",
    "print('après suppression de la tête =',liste)\n",
    "print('longueur de la liste =',longueur(liste))\n",
    "print('tête de liste : ',tete(liste))"
   ]
  },
  {
   "cell_type": "code",
   "execution_count": null,
   "metadata": {},
   "outputs": [],
   "source": []
  }
 ],
 "metadata": {
  "hide_input": false,
  "kernelspec": {
   "display_name": "Python 3.10.6 64-bit",
   "language": "python",
   "name": "python3"
  },
  "language_info": {
   "codemirror_mode": {
    "name": "ipython",
    "version": 3
   },
   "file_extension": ".py",
   "mimetype": "text/x-python",
   "name": "python",
   "nbconvert_exporter": "python",
   "pygments_lexer": "ipython3",
   "version": "3.10.6"
  },
  "latex_envs": {
   "LaTeX_envs_menu_present": true,
   "autoclose": false,
   "autocomplete": true,
   "bibliofile": "biblio.bib",
   "cite_by": "apalike",
   "current_citInitial": 1,
   "eqLabelWithNumbers": true,
   "eqNumInitial": 1,
   "hotkeys": {
    "equation": "Ctrl-E",
    "itemize": "Ctrl-I"
   },
   "labels_anchors": false,
   "latex_user_defs": false,
   "report_style_numbering": false,
   "user_envs_cfg": false
  },
  "nbTranslate": {
   "displayLangs": [
    "*"
   ],
   "hotkey": "alt-t",
   "langInMainMenu": true,
   "sourceLang": "en",
   "targetLang": "fr",
   "useGoogleTranslate": true
  },
  "toc": {
   "base_numbering": 1,
   "nav_menu": {},
   "number_sections": true,
   "sideBar": true,
   "skip_h1_title": false,
   "title_cell": "Table of Contents",
   "title_sidebar": "Contents",
   "toc_cell": false,
   "toc_position": {},
   "toc_section_display": true,
   "toc_window_display": false
  },
  "varInspector": {
   "cols": {
    "lenName": 16,
    "lenType": 16,
    "lenVar": 40
   },
   "kernels_config": {
    "python": {
     "delete_cmd_postfix": "",
     "delete_cmd_prefix": "del ",
     "library": "var_list.py",
     "varRefreshCmd": "print(var_dic_list())"
    },
    "r": {
     "delete_cmd_postfix": ") ",
     "delete_cmd_prefix": "rm(",
     "library": "var_list.r",
     "varRefreshCmd": "cat(var_dic_list()) "
    }
   },
   "types_to_exclude": [
    "module",
    "function",
    "builtin_function_or_method",
    "instance",
    "_Feature"
   ],
   "window_display": false
  },
  "vscode": {
   "interpreter": {
    "hash": "916dbcbb3f70747c44a77c7bcd40155683ae19c65e1c03b4aa3499c5328201f1"
   }
  }
 },
 "nbformat": 4,
 "nbformat_minor": 2
}
