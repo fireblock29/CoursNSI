{
 "cells": [
  {
   "cell_type": "markdown",
   "metadata": {},
   "source": [
    "# <center><font face=\"arial\" size=\"5\" color=#0101DF>NUMERIQUE ET SCIENCES INFORMATIQUES Terminale NSI</font></center>"
   ]
  },
  {
   "cell_type": "markdown",
   "metadata": {},
   "source": [
    "## <font color=#013ADF>Séquence N° 3 : Structures linéaires : listes, piles et files</font>"
   ]
  },
  {
   "cell_type": "markdown",
   "metadata": {},
   "source": [
    "<div class=\"alert alert-danger\" role=\"alert\">\n",
    "    \n",
    "Les objectifs de cette séquence sont :\n",
    "\n",
    "- Distinguer des structures par le jeu des méthodes qui les caractérisent ;\n",
    "- Choisir une structure de données adaptée à la situation à modéliser ;\n",
    "- Distinguer la recherche d'une valeur dans une liste et dans un dictionnaire.\n",
    "\n",
    "\n",
    "</div>"
   ]
  },
  {
   "cell_type": "markdown",
   "metadata": {},
   "source": [
    "<div class=\"alert alert-warning\">\n",
    "<img src=\"Images/CR.png\" alt=\"logo CR\" width=5% align=right>\n",
    "    \n",
    "Travail préalable   \n",
    "\n",
    "- Lire le chapitre 1 du livre ;\n",
    "- Indiquer en 2 lignes, ce veut dire l'acronyme **TAD** et ce qu'il représente ;\n",
    "- Rechercher des cas d'utilisation des piles en informatique (usage courant) ;\n",
    "- Rechercher des cas d'utilisation des files en informatique (usage courant) ;\n",
    "- Quelle est la différence de comportement entre une pile et une file ?\n",
    "<br><br>\n",
    "Pour stocker en mémoire une liste de données, on peut utiliser un tableau ou une liste chaînée.\n",
    "- Citer quelques avantages et inconvénients des 2 moyens de mémorisation."
   ]
  },
  {
   "cell_type": "markdown",
   "metadata": {},
   "source": [
    "TAD pour Type Abstrait de Données décrit le type de données et l'interface de la représentation des données souhaitées.\n",
    "\n",
    "Exemples d'utilisation de piles : (wikipedia)\n",
    "- Les algorithmes récursifs utilisent une pile d'appel. Dans un langage non récursif (Fortran par exemple), on peut simuler la récursivité en créant les primitives de gestion d'une pile.\n",
    "- Dans un navigateur web, une pile sert à mémoriser les pages Web visitées. L'adresse de chaque nouvelle page visitée est empilée et l'utilisateur dépile l'adresse courante pour accéder à la page précédente en cliquant le bouton « Afficher la page précédente ».\n",
    "- L'évaluation des expressions mathématiques en notation post-fixée (ou polonaise inverse) utilise une pile.\n",
    "- La fonction « Annuler la frappe » (en anglais Undo) d'un traitement de texte mémorise les modifications apportées au texte dans une pile.\n",
    "- Un algorithme de recherche en profondeur utilise une pile pour mémoriser les nœuds visités.\n",
    "- Par exemple, on peut inverser un tableau ou une chaîne de caractères en utilisant une pile. Il suffit d'empiler les éléments sur une pile puis de reconstituer le tableau (ou la chaîne) inverse en dépilant les éléments.\n",
    "\n",
    "Exemples d'utilisation de files :\n",
    "- En général, pour mémoriser temporairement des transactions qui doivent attendre pour être traitées ;\n",
    "- les serveurs d'impression, qui traitent ainsi les requêtes dans l'ordre dans lequel elles arrivent, et les insèrent dans une file d'attente (dite aussi queue ou spool) ;\n",
    "- certains moteurs multitâches, dans un système d'exploitation, qui doivent accorder du temps-machine à chaque tâche, sans en privilégier aucune ;\n",
    "- un algorithme de parcours en largeur utilise une file pour mémoriser les nœuds visités ;\n",
    "- pour créer toutes sortes de mémoires tampons (en anglais « buffers ») ;\n",
    "\n",
    "Comportement d'une pile : LIFO (Last In First Out)\n",
    "\n",
    "Comportement d'une file : FIFO (First In First Out)\n",
    "\n",
    "\n",
    "Avantages des tableaux par rapport aux listes :\n",
    "- Accès indexé « direct ». C’est la définition même des tableaux : l’accès au i ème élément se fait en un temps indépendant de i, alors que dans une liste chaînée ce temps est de la forme k × i (car il faut exécuter i fois l’opération p = p→suiv).  \n",
    "- Pas  de  surencombrement.  La  relation successeur  étant  implicite  (définie  par  la  contiguïté  des  composantes),  il n’y a pas besoin d’espace supplémentaire pour son codage. Alors que dans une liste chaînée l’encombrement de chaque maillon est augmenté de la taille du pointeur suivant\n",
    "\n",
    "Avantages des listes par rapport aux tableaux : \n",
    "- Efficacité  et  souplesse  dans  la  définition  de  la  relation  successeur.  Cette  relation  étant  explicite,  on  peut  la modifier aisément (les maillons des listes chaînées peuvent être réarrangés sans avoir à déplacer les informations portées). Autre aspect de la même propriété : un même maillon peut appartenir à plusieurs listes. \n",
    "- Encombrement total selon le besoin, si on utilise l’allocation dynamique des maillons. Le nombre de maillons d’une liste correspond au nombre d’éléments effectivement présents, alors que l’encombrement d’un tableau est fixé d’avance et constant.\n",
    "\n",
    "NOTE : Une conséquence de l’encombrement constant d’un tableau est le risque de saturation : l’insertion d’un élément échoue  parce  que  toutes  les  cases  du  tableau  sont  déjà  occupées.  Bien  sûr,  ce  risque  existe  aussi  dans  le  cas  des  listes chaînées,  mais  il  correspond  alors  à  la  saturation  de  la  mémoire  de l’ordinateur ;  c’est  un  événement  grave  mais  rare. Alors  que  le  débordement  des  tableaux  est  beaucoup plus  fréquent, car il ne traduit qu’une erreur d’appréciation de la part du programmeur (si le tableau est statique) ou de l’utilisateur (si le tableau est dynamique).\n",
    "\n"
   ]
  },
  {
   "cell_type": "markdown",
   "metadata": {},
   "source": [
    "### 1- Implémentation  d'une liste (chainée) "
   ]
  },
  {
   "cell_type": "markdown",
   "metadata": {},
   "source": [
    "La liste implémentée sera une liste dite chaînée puisque le noeud (ou cellule) pointe vers le noeud suivant ou vers un noeud vide (⊥).\n",
    "\n",
    "On peut en faire cette représentation schématique : \n",
    "![](Images/liste_chainee.png)\n",
    "\n",
    "Une liste est soit la valeur vide (None en python), soit un objet de la classe \"Noeud\" dont l'attribut \"noeud suivant\" contient une liste. C'est une définition récursive de la notion de liste."
   ]
  },
  {
   "cell_type": "markdown",
   "metadata": {},
   "source": [
    "**Interface retenue pour les listes (chaînées) :**"
   ]
  },
  {
   "cell_type": "code",
   "execution_count": null,
   "metadata": {},
   "outputs": [],
   "source": [
    "from interface import Interface, implements\n",
    "\n",
    "class InterfaceLliste(Interface):\n",
    "    def __init__(self, donnee=None, liste=None):\n",
    "        '''\n",
    "        Constructeur permettant de créer une nouvelle liste. Cette liste peut être :\n",
    "            - Une liste vide\n",
    "            - Une liste ayant pour tête le maillon contenant donnee et pour queue liste\n",
    "                argument donnee : Donnée à ajouter en tête de liste\n",
    "                argument liste : Liste représentant la queue de nouvelle liste\n",
    "        '''\n",
    "        pass\n",
    " \n",
    "    def est_vide(self) -> bool:\n",
    "        '''\n",
    "        Méthode permettant de tester si la liste est vide\n",
    "        renvoie True si la liste est vide, False sinon\n",
    "        '''\n",
    "        pass\n",
    "          \n",
    "    def inserer(self, donnee : int):\n",
    "        '''\n",
    "        Méthode permettant d'ajouter un noeud en tête de liste\n",
    "        argument donnee : donnée du noeud à ajouter\n",
    "        '''\n",
    "        pass\n",
    "     \n",
    "    def supprimer(self) -> int:\n",
    "        '''\n",
    "        Méthode permettant de supprimer le noeud en tête de liste\n",
    "        et renvoie la donnée du nouveau noeud de tête\n",
    "        '''\n",
    "        pass\n",
    "\n",
    "    def get_tete(self)-> int:\n",
    "        '''\n",
    "        Méthode permettant de renvoyer la donnée du noeud en tête\n",
    "        de liste\n",
    "        '''\n",
    "        pass\n",
    "     \n",
    "    def get_queue(self): # -> Lliste\n",
    "        '''\n",
    "        Méthode permettant de renvoyer la queue de la liste\n",
    "        '''\n",
    "        pass\n",
    "    \n",
    "    def longueur(self) -> int:\n",
    "        '''\n",
    "        Méthode qui renvoie la longueur de la liste chaînée\n",
    "        '''\n",
    "        pass\n",
    "  \n"
   ]
  },
  {
   "cell_type": "markdown",
   "metadata": {},
   "source": [
    "### Première implémentation : Une liste chaînéee selon l'interface proposée ci-dessus, utilisant l'objet built-in de python list."
   ]
  },
  {
   "cell_type": "markdown",
   "metadata": {},
   "source": [
    "<div class=\"alert alert-warning\">\n",
    "<img src=\"Images/CR.png\" alt=\"logo CR\" width=5% align=right>\n",
    "    \n",
    "Travail à faire   \n",
    "    \n",
    "    \n",
    "- La chaîne vide sera représentée par **None**\n",
    "- Une chaîne ne possédant qu'un seul noeud sera représentée par une liste.\n",
    "  <br>*Exemple* : **[6, None]**\n",
    "- Une chaîne possédant plusieurs noeuds sera représentée par des listes imbriquées.\n",
    "  <br>*Exemple* : **[5, [1, [3, None]]]**\n",
    "\n",
    "**1-** Définir une classe **Lliste** (pour Linked list) implémentant l'interface **InterfaceLliste**.\n",
    "<br>Le constructeur aura deux arguments :\n",
    "- L'argument **donnee** : type choisi (des entiers pour nous), avec pour valeur par défaut **None**\n",
    "- L'argument **liste** : type **Lliste**, ayant pour valeur par défaut **None**\n",
    "\n",
    "Il devra initialiser l'attribut d'instance **tete** qui représente le premier noeud de la liste.\n",
    "Trois cas de figures possibles :\n",
    "- La liste est vide : l'attribut **tete** est initialisé à **None**\n",
    "- La liste comporte un seul noeud : l'attribut **tete** est initialisé avec les valeurs **[{donnee}, None]**\n",
    "- La liste comporte plus d'un noeud : l'attribut **tete** est initialisé avec les valeurs **[{donnee}, {tete du second noeud}]**\n",
    "\n",
    "*Exemple* :\n",
    "```python\n",
    "# Instanciation des objets\n",
    "l1=Lliste()\n",
    "l2=Lliste(5)\n",
    "l3=Lliste(6,l2)\n",
    "l4=Lliste(5,Lliste(4,Lliste(3)))\n",
    "\n",
    "# Attributs des objets instanciés\n",
    "None\n",
    "[5  None]\n",
    "[6  [5, None]]\n",
    "[5  [4, [3, None]]]\n",
    "```\n",
    "**2-** Implémenter une méthode d'instance **afficher** qui permette d'obtenir les affichages donnés ci-dessus en exemple.\n",
    "\n",
    "**3-** Implémenter la méthode d'instance **est_vide**.\n",
    "\n",
    "**4-** Implémenter la méthode d'instance **inserer**.\n",
    "- Prend en paramètre une valeur **donne**\n",
    "- Affecte à l'attribut **tete** :\n",
    "   - Les valeurs **[{donnee}, None]** si **tete** contient **None**\n",
    "   - Les valeurs **[{donnee}, {ancienne valeur de tete}]** sinon\n",
    "\n",
    "**5-** Implémenter la méthode d'instance **supprimer** qui permet de :\n",
    "- Modifier l'attribut **tete** en lui affectant les valeurs du second noeud\n",
    "- Renvoyer la valeur de la donnée du noeud supprimé\n",
    "<br>Si la liste est vide, une assertion renverra le message 'La liste est vide'.\n",
    "\n",
    "**6-** Implémenter la méthode d'instance **get_tete** qui renvoie la valeur de la donnée en tête de liste si la liste est non vide et une assertion qui renverra le message 'La liste est vide' sinon.\n",
    "\n",
    "**7-** Implémenter la méthode d'instance **get_queue** qui renvoie la liste représentant la queue de liste si la liste est non vide et une assertion qui renverra le message 'La liste est vide' sinon.\n",
    "\n",
    "**8-** Implémenter la méthode d'instance **longueur**\n",
    "<div>"
   ]
  },
  {
   "cell_type": "markdown",
   "metadata": {},
   "source": [
    "## Solution possible"
   ]
  },
  {
   "cell_type": "code",
   "execution_count": 1,
   "metadata": {
    "ExecuteTime": {
     "end_time": "2021-10-05T07:06:02.739950Z",
     "start_time": "2021-10-05T07:06:02.562982Z"
    }
   },
   "outputs": [
    {
     "ename": "NameError",
     "evalue": "name 'implements' is not defined",
     "output_type": "error",
     "traceback": [
      "\u001b[0;31m---------------------------------------------------------------------------\u001b[0m",
      "\u001b[0;31mNameError\u001b[0m                                 Traceback (most recent call last)",
      "\u001b[0;32m<ipython-input-1-1689a8f06588>\u001b[0m in \u001b[0;36m<module>\u001b[0;34m\u001b[0m\n\u001b[0;32m----> 1\u001b[0;31m \u001b[0;32mclass\u001b[0m \u001b[0mLliste\u001b[0m\u001b[0;34m(\u001b[0m\u001b[0mimplements\u001b[0m\u001b[0;34m(\u001b[0m\u001b[0mInterfaceLliste\u001b[0m\u001b[0;34m)\u001b[0m\u001b[0;34m)\u001b[0m\u001b[0;34m:\u001b[0m\u001b[0;34m\u001b[0m\u001b[0;34m\u001b[0m\u001b[0m\n\u001b[0m\u001b[1;32m      2\u001b[0m     \"\"\"\n\u001b[1;32m      3\u001b[0m     \u001b[0mImplémente\u001b[0m \u001b[0mune\u001b[0m \u001b[0mliste\u001b[0m \u001b[0mchaînée\u001b[0m\u001b[0;34m\u001b[0m\u001b[0;34m\u001b[0m\u001b[0m\n\u001b[1;32m      4\u001b[0m     \u001b[0mutilsant\u001b[0m \u001b[0mle\u001b[0m \u001b[0mtype\u001b[0m \u001b[0mbuilt\u001b[0m\u001b[0;34m-\u001b[0m\u001b[0;32min\u001b[0m \u001b[0mlist\u001b[0m\u001b[0;34m\u001b[0m\u001b[0;34m\u001b[0m\u001b[0m\n\u001b[1;32m      5\u001b[0m     \"\"\"\n",
      "\u001b[0;31mNameError\u001b[0m: name 'implements' is not defined"
     ]
    }
   ],
   "source": [
    "class Lliste(implements(InterfaceLliste)):\n",
    "    \"\"\"\n",
    "    Implémente une liste chaînée\n",
    "    utilsant le type built-in list\n",
    "    \"\"\"\n",
    "    def __init__(self,donnee=None,liste=None):\n",
    "        if donnee==None:\n",
    "            self.tete=None\n",
    "        elif liste==None:\n",
    "            self.tete=[donnee,None]\n",
    "        else:\n",
    "            self.tete=[donnee,liste.tete]\n",
    "    \n",
    "    def afficher(self):\n",
    "        if self.tete is None:\n",
    "            print('None')\n",
    "        else:\n",
    "            donnee, suivant = self.tete\n",
    "            if suivant is None:\n",
    "                print(f'[{donnee}  None]')\n",
    "            else:\n",
    "                print(f'[{donnee}  {suivant}]')\n",
    "\n",
    "\n",
    "    def est_vide(self) -> bool:\n",
    "        return self.tete==None # ou self.tete is None\n",
    "    \n",
    "    def inserer(self,donnee: int):\n",
    "        if self.tete is None:\n",
    "            self.tete=[donnee,None]\n",
    "        else:\n",
    "            self.tete=[donnee,self.tete]\n",
    "    \n",
    "    def supprimer(self)-> int:\n",
    "        assert not(self.est_vide()), 'La liste est vide'\n",
    "        donnee, suivant=self.tete\n",
    "        self.tete=suivant\n",
    "        return donnee\n",
    "    \n",
    "    def get_tete(self) -> int:\n",
    "        assert not(self.est_vide()), 'La liste est vide'\n",
    "        return self.tete[0]\n",
    "    \n",
    "    def get_queue(self)-> list:\n",
    "        assert not(self.est_vide()), 'La liste est vide'\n",
    "        return self.tete[1]\n",
    "    \n",
    "    def longueur(self):\n",
    "            if self.tete is None:\n",
    "                return 0\n",
    "            long = 0\n",
    "            noeud = self.tete\n",
    "            while noeud is not None:\n",
    "                long += 1\n",
    "                noeud = noeud[1]\n",
    "            return long\n",
    "    \n",
    "if __name__=='__main__':\n",
    "    l1=Lliste()\n",
    "    l2=Lliste(5)\n",
    "    l3=Lliste(6,l2)\n",
    "    l4=Lliste(5,Lliste(4,Lliste(3)))\n",
    "    l1.afficher()\n",
    "    l2.afficher()\n",
    "    l3.inserer(9)\n",
    "    l3.afficher()\n",
    "    l4.afficher()\n",
    "    print(l1.est_vide())\n",
    "    l1.inserer(8)\n",
    "    l1.afficher()\n",
    "    l3.supprimer()\n",
    "    l3.afficher()\n",
    "    print(l3.get_tete())\n",
    "    print(l3.get_queue())\n",
    "    print(l4.longueur())"
   ]
  },
  {
   "cell_type": "markdown",
   "metadata": {},
   "source": [
    "### Seconde implémentation : Création d'une classe Noeud"
   ]
  },
  {
   "cell_type": "markdown",
   "metadata": {},
   "source": [
    "<div class=\"alert alert-warning\">\n",
    "<img src=\"Images/CR.png\" alt=\"logo CR\" width=5% align=right>\n",
    "\n",
    "Travail à faire\n",
    "\n",
    "**1-**Créer une classe \"Noeud\" contenant les trois méthodes suivantes :\n",
    "- Le constructeur qui initialise deux attributs d'instance **donnee** et **suivant** :\n",
    "    - L'attribut **donnee**, de type entier, sera initialisée à l'aide de l'argument **donnee**.\n",
    "    - L'attribut **suivant**, de type **Noeud**, sera initialisé avec l'argument de type **Noeud** qui aura pour valeur par défaut **None**.\n",
    "- La méthode d'instance **afficher_noeud** qui affichera la donnée du noeud selon le format donné ci-dessous en exemple.\n",
    "- La méthode spéciale `__repr__` qui renverra de manière récursive, la chaîne de caractères représentant le premier noeud ainsi que ses successeurs.\n",
    "\n",
    "*Exemple d'exécution* :\n",
    "```python\n",
    "# Instanciation\n",
    "n1 = Noeud()   \n",
    "n2 = Noeud(2)  \n",
    "n3 = Noeud(1, n2)\n",
    "n4 = Noeud(4, Noeud(5, Noeud(6, Noeud(7,None))))\n",
    "\n",
    "# Demande d'affichage\n",
    "print(n1)  \n",
    "print(n2) \n",
    "print(n3)\n",
    "print(n4)\n",
    "print(n1.afficher_noeud())\n",
    "n4.afficher_noeud()\n",
    "\n",
    "# Résultats obtenus  \n",
    "[2  None]\n",
    "[1  [2  None]]\n",
    "[4  [5  [6  [7  None]]]]\n",
    "[None  . ]\n",
    "'[4  . ]'\n",
    "```\n",
    "<div>"
   ]
  },
  {
   "cell_type": "markdown",
   "metadata": {},
   "source": [
    "<div class=\"alert alert-success\">\n",
    "<img src=\"Images/warning.png\" alt=\"logo warn\" width=5% align=left>\n",
    "    \n",
    "Remarquons que si je renomme par exemple n4 -> liste, j'ai bien une liste chaînée !\n",
    "\n",
    "liste = Noeud(4, Noeud(5, Noeud(6, Noeud(7,None))))\n",
    "<div>"
   ]
  },
  {
   "cell_type": "markdown",
   "metadata": {},
   "source": [
    "## Solution possible"
   ]
  },
  {
   "cell_type": "code",
   "execution_count": null,
   "metadata": {},
   "outputs": [],
   "source": [
    "class Noeud:\n",
    "    \"\"\"\n",
    "    classe implémentant un noeud (ou maillon).\n",
    "    Le premier argument passé à l'instanciation est la donnée\n",
    "    Le second set le lien vers le noeud suivant.\n",
    "    \"\"\"\n",
    "    def __init__(self, donnee=None, noeud_suivant=None):\n",
    "        self.donnee = donnee\n",
    "        self.suivant = noeud_suivant\n",
    "\n",
    "    def afficher_noeud(self): # faire un test avec la méthode __str__ pour voir la différence.\n",
    "        \"\"\"\n",
    "        Méthode qui permet d'afficher\n",
    "        le noeud passé en paramètre\n",
    "        \"\"\"\n",
    "        return f'[{self.donnee}  . ]'\n",
    "\n",
    "    def __repr__(self):\n",
    "        \"\"\"\n",
    "        Méthode qui permet d'afficher\n",
    "        de manière récursive la liste chainée\n",
    "        à partir du noeud passé en paramètre\n",
    "        \"\"\"\n",
    "        return f'[{self.donnee}  {self.suivant}]'\n"
   ]
  },
  {
   "cell_type": "code",
   "execution_count": null,
   "metadata": {},
   "outputs": [],
   "source": [
    "n1 = Noeud()   \n",
    "n2 = Noeud(2)  \n",
    "n3 = Noeud(1, n2)\n",
    "n4 = Noeud(4, Noeud(5, Noeud(6, Noeud(7,None))))\n",
    "\n",
    "print(n1)\n",
    "print(n2)\n",
    "print(n3)\n",
    "print(n4)\n",
    "print(n1.afficher_noeud())\n",
    "n4.afficher_noeud()"
   ]
  },
  {
   "cell_type": "markdown",
   "metadata": {},
   "source": [
    "<div class=\"alert alert-warning\">\n",
    "<img src=\"Images/CR.png\" alt=\"logo CR\" width=5% align=right>\n",
    "\n",
    "Travail à faire\n",
    "    \n",
    "**2-**Définir une classe **Lliste** implémentant l'interface **Lliste**.\n",
    "<br>Le constructeur aura deux arguments :\n",
    "- L'argument **donnee** : type entier, avec pour valeur par défaut **None**\n",
    "- L'argument **liste** : type **Lliste**, avec pour valeur par défaut **None**\n",
    " \n",
    "Il devra initialiser l'attribut d'instance **tete** qui représente le premier noeud de la liste.\n",
    "Trois cas sont possibles :\n",
    "- La liste est vide : l'attribut **tete** est initialisé à **None** ;\n",
    "- La liste comporte un seul noeud : l'attribut **tete** est initialisé avec le noeud **[{donnee} None]** ;\n",
    "- La liste comporte plus d'un noeud : l'attribut **tete** est initialisé avec le noeud : **[donnee, noeud de tete de la liste passée en argument]**\n",
    "\n",
    "La méthode spéciale `__repr__` qui renverra de manière récursive, la chaîne de caractères représentant le premier noeud ainsi que ses successeurs ou le message 'La liste est vide' si celle-ci l'est.\n",
    "    \n",
    "*Exemple d'exécution* :\n",
    "```python\n",
    "# Instanciation\n",
    "l1=Liste()\n",
    "l2=Liste(2)\n",
    "l3=Liste(3,l2)\n",
    "    \n",
    "# Demande d'affichage\n",
    "print(l1)\n",
    "print(l2)\n",
    "print(l3)\n",
    "\n",
    "# Résultats obtenus \n",
    "La liste est vide\n",
    "[2 None]\n",
    "[3 [2  None]]\n",
    "```   \n",
    "\n",
    "<img src=\"Images/warning.png\" alt=\"logo warn\" width=5% align=left>\n",
    "    \n",
    "**Pour le travail qui suit, prévoir les assertions nécessaires**\n",
    "<br><br><br>\n",
    "\n",
    "**3-**Implémenter les méthodes d'instance **est_vide**, **inserer**, **supprimer**.\n",
    "\n",
    "-> Pour la méthode **inserer**, on verifiera que la donnée insérée est bien de type entier avec la fonction **isinstance** native de python.\n",
    "    \n",
    "**4-**Implémenter les méthodes d'instance **get_tete**, **get_queue**.\n",
    "\n",
    "**5-**Implémenter la méthode d'instance **longueur**\n",
    "\n",
    "**6-**Implémenter la méthode d'instance **afficher** qui affichera **None** si la liste est vide ou la suite des noeuds sous la forme :\n",
    "    \n",
    "*Exemple :* Pour une liste [12 [10  [7  None]]] : [12  . ] [10  . ] [7  . ] None\n",
    "<div>"
   ]
  },
  {
   "cell_type": "markdown",
   "metadata": {},
   "source": [
    "## Solution possible"
   ]
  },
  {
   "cell_type": "code",
   "execution_count": 5,
   "metadata": {
    "ExecuteTime": {
     "end_time": "2021-10-13T07:17:18.225073Z",
     "start_time": "2021-10-13T07:17:18.199359Z"
    }
   },
   "outputs": [],
   "source": [
    "class Noeud:\n",
    "    \"\"\"\n",
    "    classe implémentant un noeud (ou maillon).\n",
    "    Le premier argument passé à l'instanciation est la donnée\n",
    "    Le second set le lien vers le noeud suivant.\n",
    "    \"\"\"\n",
    "    def __init__(self, donnee=None, noeud_suivant=None):\n",
    "        self.donnee = donnee\n",
    "        self.suivant = noeud_suivant\n",
    "\n",
    "    def afficher_noeud(self): # faire un test avec la méthode __str__ pour voir la différence.\n",
    "        \"\"\"\n",
    "        Méthode qui permet d'afficher\n",
    "        le noeud passé en paramètre\n",
    "        \"\"\"\n",
    "        return f'[{self.donnee}  . ]'\n",
    "\n",
    "    def __repr__(self):\n",
    "        \"\"\"\n",
    "        Méthode qui permet d'afficher\n",
    "        de manière récursive la liste chainée\n",
    "        à partir du noeud passé en paramètre\n",
    "        \"\"\"\n",
    "        return f'[{self.donnee}  {self.suivant}]'\n",
    "            \n",
    "\n",
    "class Lliste():#implements(InterfaceLliste)):\n",
    "    \"\"\"\n",
    "    Classe implémentant une liste chaînée\n",
    "    \"\"\"\n",
    "    def __init__(self, donnee=None, liste=None):\n",
    "        '''\n",
    "        Constructeur permettant de créer une nouvelle liste. Cette liste peut être :\n",
    "            - Une liste vide\n",
    "            - Une liste ayant pour tête le maillon contenant donnee et pour queue liste\n",
    "                 argument donnee : Donnée à ajouter en tête de liste\n",
    "                 argument liste : Liste représentant la queue de nouvelle liste\n",
    "        '''\n",
    "        if donnee is None:\n",
    "            self.tete = None\n",
    "        elif liste is None:\n",
    "            self.tete = Noeud(donnee, None)\n",
    "        else:\n",
    "            self.tete = Noeud(donnee, liste.tete)\n",
    "    \n",
    "    def __repr__(self):\n",
    "            if self.tete is None:\n",
    "                return 'La liste est vide'\n",
    "            else:\n",
    "                return f'[{self.tete.donnee} {self.tete.suivant}]'\n",
    "\n",
    "    \n",
    "    def est_vide(self) -> bool:\n",
    "        '''\n",
    "        Méthode permettant de tester si la liste est vide\n",
    "        renvoie True si la liste est vide, False sinon\n",
    "        '''\n",
    "        return self.tete==None\n",
    "\n",
    "    def inserer(self, donnee : int):\n",
    "        '''\n",
    "        Méthode permettant d'ajouter un noeud en tête de liste\n",
    "        argument donnee : donnée du noeud à ajouter\n",
    "        '''\n",
    "        #assert isinstance(donnee,int),'Opération impossible : donnée incompatible'\n",
    "        self.tete=Noeud(donnee,self.tete)\n",
    "\n",
    "    def supprimer(self):\n",
    "        '''\n",
    "        Méthode permettant de supprimer le noeud en tête de liste\n",
    "        '''\n",
    "        assert not(self.est_vide()), 'La liste est vide'\n",
    "        self.tete = self.tete.suivant\n",
    "    \n",
    "    def get_tete(self)-> int:\n",
    "        '''\n",
    "        Méthode permettant de renvoyer la donnée du noeud en tête\n",
    "        de liste\n",
    "        '''\n",
    "        assert not(self.est_vide()), 'La liste est vide'\n",
    "        return self.tete.donnee\n",
    "\n",
    "    def get_queue(self):\n",
    "        '''\n",
    "        Méthode permettant de renvoyer la queue de la liste\n",
    "        '''\n",
    "        assert not(self.est_vide()), 'La liste est vide'\n",
    "        liste = Lliste()\n",
    "        liste.tete = self.tete.suivant\n",
    "        return liste\n",
    "        \n",
    "\n",
    "    def longueur(self)-> int:\n",
    "        '''\n",
    "        Méthode permettant de renvoyer la longueur de la liste\n",
    "        '''\n",
    "        noeud = self.tete\n",
    "        long = 0\n",
    "        while noeud is not None:\n",
    "            long+= 1\n",
    "            noeud = noeud.suivant\n",
    "        return long\n",
    "    \n",
    "    # utilisation d'un wrapper\n",
    "    def long_recursif(self):\n",
    "        return self.longueur1(self.tete)\n",
    " \n",
    "    def longueur1(self, noeud):\n",
    "        if noeud is None:\n",
    "            return 0\n",
    "        return 1 + self.longueur1(noeud.suivant)\n",
    "    \n",
    "    def afficher(self):\n",
    "        if self.tete is None:\n",
    "            print('None')\n",
    "        else:\n",
    "            cellule = self.tete\n",
    "            while cellule is not None:\n",
    "                print(cellule.afficher_noeud(), end=' ')\n",
    "                cellule = cellule.suivant\n",
    "            print('None')\n",
    "    "
   ]
  },
  {
   "cell_type": "code",
   "execution_count": 5,
   "metadata": {
    "ExecuteTime": {
     "end_time": "2021-10-06T07:01:40.611311Z",
     "start_time": "2021-10-06T07:01:40.602122Z"
    }
   },
   "outputs": [
    {
     "name": "stdout",
     "output_type": "stream",
     "text": [
      "[12 [7  None]]\n",
      "[7 None]\n",
      "12\n",
      "[12 [10  [7  None]]]\n",
      "3\n"
     ]
    }
   ],
   "source": [
    "if __name__=='__main__':\n",
    "    l1=Lliste()\n",
    "    l1.inserer(7)\n",
    "    l1.inserer(12)\n",
    "    print(l1)\n",
    "    l3=l1.get_queue()\n",
    "    print(l3)\n",
    "    data=l1.get_tete()\n",
    "    print(data)\n",
    "    l4=Lliste(10,l1.get_queue())\n",
    "    l5=Lliste(l1.get_tete(),l4)\n",
    "    print(l5)\n",
    "    print(l5.long_recursif())"
   ]
  },
  {
   "cell_type": "markdown",
   "metadata": {},
   "source": [
    "https://wiki.python.org/moin/TimeComplexity\n",
    "\n",
    "https://gitlab-fil.univ-lille.fr/diu-eil-lil/portail/blob/master/Readme.md"
   ]
  },
  {
   "cell_type": "markdown",
   "metadata": {},
   "source": [
    "### 2- Implémentation  d'une pile"
   ]
  },
  {
   "cell_type": "markdown",
   "metadata": {},
   "source": [
    "<div class=\"alert alert-success\">\n",
    "<img src=\"Images/warning.png\" alt=\"logo warn\" width=5% align=left>\n",
    "    \n",
    "Ici encore, on pourrait utilser des types natifs de python. Vous avez les solutions dans votre livre et je vous encourage à les analyser et à tester. Ces solutions sont normalement plus simples que celles abordées ici et consistent à \"brider\" les possibilités originelles de ces types.\n",
    "<br><br>\n",
    "Nous avons passé du temps à implémenter une liste chaînee, on va donc naturellement s'en servir pour implémenter une pile puis une file.\n",
    "<br><br>\n",
    "Pour vérifier votre travail, vous implémenterez pour les piles et les files, une méthode d'instance **afficher** qui appelera la méthode **afficher** de la classe **Lliste** (qui elle-même appelle la méthode d'instance **afficher_noeud**).\n",
    "<div>"
   ]
  },
  {
   "cell_type": "markdown",
   "metadata": {},
   "source": [
    "**On décide d'utiliser l'interface suivante pour les piles :**"
   ]
  },
  {
   "cell_type": "code",
   "execution_count": null,
   "metadata": {},
   "outputs": [],
   "source": [
    "from interface import Interface, implements\n",
    "\n",
    "class InterfacePile(Interface):\n",
    "    def __init__(self):\n",
    "        '''\n",
    "        Constructeur permettant la création d'une pile vide\n",
    "        '''\n",
    "        pass\n",
    "\n",
    "    def est_vide(self) -> bool:\n",
    "        '''\n",
    "        Méthode permettant de tester si la pile est vide\n",
    "        et renvoie True si la pile est vide, False sinon\n",
    "        '''\n",
    "        pass\n",
    "\n",
    "    def empiler(self, donnee):\n",
    "        '''\n",
    "        Méthode permettant d'empiler \"donnee\" au sommet de la pile\n",
    "        argument donnee : donnée à empiler\n",
    "        '''\n",
    "        pass\n",
    "\n",
    "    def depiler(self):\n",
    "        '''\n",
    "        Méthode permettant de dépiler l'élément au sommet de la pile\n",
    "        et renvoie la donnée au sommet de la pile\n",
    "        '''\n",
    "        pass"
   ]
  },
  {
   "cell_type": "markdown",
   "metadata": {},
   "source": [
    "## Solution possible"
   ]
  },
  {
   "cell_type": "code",
   "execution_count": null,
   "metadata": {},
   "outputs": [],
   "source": [
    "class Pile(implements(InterfacePile)):\n",
    "    def __init__(self):\n",
    "        self.elements = Lliste()\n",
    "    \n",
    "    def est_vide(self):\n",
    "        return self.elements.est_vide()\n",
    "    \n",
    "    def empiler(self, donnee):\n",
    "        self.elements.inserer(donnee)\n",
    "    \n",
    "    def depiler(self):\n",
    "        return self.elements.supprimer()\n",
    "    \n",
    "    def afficher(self):\n",
    "            self.elements.afficher()\n"
   ]
  },
  {
   "cell_type": "code",
   "execution_count": null,
   "metadata": {},
   "outputs": [],
   "source": [
    "p1=Pile()\n",
    "p2=Pile()\n",
    "p1.est_vide()\n",
    "p1.empiler(1)\n",
    "p2.empiler(2)\n",
    "p2.empiler(3)\n",
    "p1.afficher()\n",
    "p2.afficher()\n",
    "p2.depiler()\n",
    "p2.afficher()"
   ]
  },
  {
   "cell_type": "markdown",
   "metadata": {},
   "source": [
    "### 3- Implémentation  d'une file"
   ]
  },
  {
   "cell_type": "markdown",
   "metadata": {},
   "source": [
    "**On décide d'utiliser l'interface suivante pour les files :**"
   ]
  },
  {
   "cell_type": "code",
   "execution_count": null,
   "metadata": {},
   "outputs": [],
   "source": [
    "from interface import Interface, implements\n",
    "class InterfaceFile(Interface):\n",
    "    def __init__(self):\n",
    "        '''\n",
    "        Constructeur permettant la création d'une file vide\n",
    "        '''\n",
    "        pass\n",
    " \n",
    "    def est_vide(self) -> bool:\n",
    "        '''\n",
    "        Méthode permettant de tester si la file est vide\n",
    "        et renvoie True si la file est vide, False sinon\n",
    "        '''\n",
    "        pass\n",
    "\n",
    "    def enfiler(self, donnee):\n",
    "        '''\n",
    "        Méthode permettant d'ajouter \"donnee\" en fin de file\n",
    "        argument donnee : donnée à ajouter\n",
    "        '''\n",
    "        pass\n",
    "\n",
    "    def defiler(self):\n",
    "        '''\n",
    "        Méthode qui supprime et renvoie le premier élément de la file\n",
    "        '''\n",
    "        pass\n"
   ]
  },
  {
   "cell_type": "markdown",
   "metadata": {},
   "source": [
    "## Solution possible"
   ]
  },
  {
   "cell_type": "code",
   "execution_count": 6,
   "metadata": {
    "ExecuteTime": {
     "end_time": "2021-10-13T07:17:21.639109Z",
     "start_time": "2021-10-13T07:17:21.629925Z"
    }
   },
   "outputs": [],
   "source": [
    "class File():\n",
    "    def __init__(self):\n",
    "        self.elements = Lliste()\n",
    "    \n",
    "    def est_vide(self):\n",
    "        return self.elements.est_vide()\n",
    "    \n",
    "    def enfiler(self, donnee):\n",
    "        if self.elements.tete is None:\n",
    "            self.elements.inserer(donnee)\n",
    "        else:\n",
    "            noeud = self.elements.tete\n",
    "            while noeud.suivant is not None:\n",
    "                noeud = noeud.suivant\n",
    "            noeud.suivant = Noeud(donnee)\n",
    "    \n",
    "    def defiler(self):\n",
    "        return self.elements.supprimer()\n",
    "        \n",
    "    def afficher(self):\n",
    "        self.elements.afficher()"
   ]
  },
  {
   "cell_type": "code",
   "execution_count": 7,
   "metadata": {
    "ExecuteTime": {
     "end_time": "2021-10-13T07:17:22.079639Z",
     "start_time": "2021-10-13T07:17:22.072011Z"
    }
   },
   "outputs": [
    {
     "name": "stdout",
     "output_type": "stream",
     "text": [
      "[3  . ] [5  . ] [4  . ] None\n",
      "[5  . ] [4  . ] None\n"
     ]
    }
   ],
   "source": [
    "f1=File()\n",
    "f1.enfiler(3)\n",
    "f1.enfiler(5)\n",
    "f1.enfiler(4)\n",
    "f1.afficher()\n",
    "f1.defiler()\n",
    "f1.afficher()"
   ]
  },
  {
   "cell_type": "markdown",
   "metadata": {},
   "source": [
    "### 3- Interface  d'un dictionnaire"
   ]
  },
  {
   "cell_type": "markdown",
   "metadata": {},
   "source": [
    "<div class=\"alert alert-warning\">\n",
    "<img src=\"Images/CR.png\" alt=\"logo CR\" width=5% align=right>\n",
    "\n",
    "Travail à faire\n",
    "\n",
    "Dans cette partie, vous allez réaliser une démarche inverse. Le type **dictionnaire** est natif en python.\n",
    "<br><br>\n",
    "On vous demande d'écrire l'interface de la classe **dict** pour les méthodes d'instances utilisée en première.\n",
    "\n",
    "**1-** Rappeler comment l'on peut obtenir la liste des méthodes d'un objet.\n",
    "\n",
    "**2-** Ecrire l'interface pour quelques méthodes couramment utilisées."
   ]
  },
  {
   "cell_type": "code",
   "execution_count": null,
   "metadata": {},
   "outputs": [],
   "source": [
    "dir (dict)"
   ]
  },
  {
   "cell_type": "code",
   "execution_count": null,
   "metadata": {},
   "outputs": [],
   "source": [
    "help(dict)"
   ]
  },
  {
   "cell_type": "code",
   "execution_count": null,
   "metadata": {},
   "outputs": [],
   "source": []
  }
 ],
 "metadata": {
  "hide_input": false,
  "kernelspec": {
   "display_name": "Python 3",
   "language": "python",
   "name": "python3"
  },
  "language_info": {
   "codemirror_mode": {
    "name": "ipython",
    "version": 3
   },
   "file_extension": ".py",
   "mimetype": "text/x-python",
   "name": "python",
   "nbconvert_exporter": "python",
   "pygments_lexer": "ipython3",
   "version": "3.6.10"
  },
  "latex_envs": {
   "LaTeX_envs_menu_present": true,
   "autoclose": false,
   "autocomplete": true,
   "bibliofile": "biblio.bib",
   "cite_by": "apalike",
   "current_citInitial": 1,
   "eqLabelWithNumbers": true,
   "eqNumInitial": 1,
   "hotkeys": {
    "equation": "Ctrl-E",
    "itemize": "Ctrl-I"
   },
   "labels_anchors": false,
   "latex_user_defs": false,
   "report_style_numbering": false,
   "user_envs_cfg": false
  },
  "nbTranslate": {
   "displayLangs": [
    "*"
   ],
   "hotkey": "alt-t",
   "langInMainMenu": true,
   "sourceLang": "en",
   "targetLang": "fr",
   "useGoogleTranslate": true
  },
  "toc": {
   "base_numbering": 1,
   "nav_menu": {},
   "number_sections": true,
   "sideBar": true,
   "skip_h1_title": false,
   "title_cell": "Table of Contents",
   "title_sidebar": "Contents",
   "toc_cell": false,
   "toc_position": {},
   "toc_section_display": true,
   "toc_window_display": false
  },
  "varInspector": {
   "cols": {
    "lenName": 16,
    "lenType": 16,
    "lenVar": 40
   },
   "kernels_config": {
    "python": {
     "delete_cmd_postfix": "",
     "delete_cmd_prefix": "del ",
     "library": "var_list.py",
     "varRefreshCmd": "print(var_dic_list())"
    },
    "r": {
     "delete_cmd_postfix": ") ",
     "delete_cmd_prefix": "rm(",
     "library": "var_list.r",
     "varRefreshCmd": "cat(var_dic_list()) "
    }
   },
   "types_to_exclude": [
    "module",
    "function",
    "builtin_function_or_method",
    "instance",
    "_Feature"
   ],
   "window_display": false
  }
 },
 "nbformat": 4,
 "nbformat_minor": 2
}
