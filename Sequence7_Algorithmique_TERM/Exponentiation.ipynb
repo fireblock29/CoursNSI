{
 "cells": [
  {
   "cell_type": "markdown",
   "metadata": {},
   "source": [
    "# <center><font face=\"arial\" size=\"5\" color=#0101DF>NUMERIQUE ET SCIENCES INFORMATIQUES Terminale NSI</font></center>"
   ]
  },
  {
   "cell_type": "markdown",
   "metadata": {},
   "source": [
    "## <font color=#013ADF>Séquence N° 7 : Algorithmique : Diviser pour régner</font>"
   ]
  },
  {
   "cell_type": "markdown",
   "metadata": {},
   "source": [
    "<div class=\"alert alert-danger\" role=\"alert\">\n",
    "    \n",
    "Les objectifs de cette séquence sont :\n",
    "\n",
    "- Écrire un algorithme utilisant la méthode \"diviser pour régner\".\n",
    "\n",
    "</div>"
   ]
  },
  {
   "cell_type": "markdown",
   "metadata": {},
   "source": [
    "<div class=\"alert alert-success\">\n",
    "\n",
    "Parmi tous les systèmes cryptographiques disponibles à l'heure actuelle, RSA est considéré comme un des plus solides. L'acronyme RSA provient de l'initiale de ses inventeurs Rivest, Shamir, Adleman en  1977. Il s'agit d'un système de cryptographie asymétrique. La robustesse du chiffrement  provient du fait que la clé publique est générée à partir de la clé privée à l'aide d'une fonction mathématique simple mais difficilement réversible.\n",
    "\n",
    "En contrepartie, le chiffrement et le déchiffrement du message nécessite le calcul de la puissance d'un nombre 'x ' avec un exposant très grand 'n' (plusieurs centaines de chiffres).\n",
    "\n",
    "On souhaite calculer le plus efficacement possible *x<sup>n</sup>*, c'est-à-dire en minimisant le nombre de multiplications, pour gagner en temps d'exécution.\n",
    "    \n",
    "</div>"
   ]
  },
  {
   "cell_type": "markdown",
   "metadata": {},
   "source": [
    "### 1- Approche naïve  du calcul de *x<sup>n</sup>*"
   ]
  },
  {
   "cell_type": "markdown",
   "metadata": {},
   "source": [
    "<div class=\"alert alert-warning\">\n",
    "<img src=\"Images/CR.png\" alt=\"logo CR\" width=5% align=right>\n",
    "    \n",
    "Travail demandé  \n",
    "    \n",
    "- Combien de multiplications doit-on effectuer pour évaluer 3<sup>7</sup>?\n",
    "\n",
    "- Plus généralement, combien de multiplications doit-on effectuer pour évaluer x<sup>n</sup> ?\n",
    "\n",
    "\n",
    "</div>"
   ]
  },
  {
   "cell_type": "code",
   "execution_count": null,
   "metadata": {},
   "outputs": [],
   "source": [
    "On doit faire 6 multiplications\n",
    "On doit faire n-1 multiplications"
   ]
  },
  {
   "cell_type": "markdown",
   "metadata": {},
   "source": [
    "<div class=\"alert alert-success\">\n",
    "    \n",
    "Voici une implémentation en python de cette vision naïve.\n",
    "    \n",
    "</div>"
   ]
  },
  {
   "cell_type": "code",
   "execution_count": 1,
   "metadata": {
    "ExecuteTime": {
     "end_time": "2022-02-02T15:53:01.396666Z",
     "start_time": "2022-02-02T15:53:01.389796Z"
    }
   },
   "outputs": [
    {
     "name": "stdout",
     "output_type": "stream",
     "text": [
      "2187\n"
     ]
    }
   ],
   "source": [
    "x = 3\n",
    "n = 7\n",
    "produit = x\n",
    "for i in range(1, n):\n",
    "    produit= produit * x\n",
    "print(produit)"
   ]
  },
  {
   "cell_type": "markdown",
   "metadata": {},
   "source": [
    "<div class=\"alert alert-warning\">\n",
    "<img src=\"Images/CR.png\" alt=\"logo CR\" width=5% align=right>\n",
    "    \n",
    "Travail demandé  \n",
    "\n",
    "Quelle est la complexité temporelle de cet algorithme. Justifier\n",
    "\n",
    "</div>"
   ]
  },
  {
   "cell_type": "raw",
   "metadata": {},
   "source": [
    "Cet algo a une complexité en O(n). \n",
    "Elle augmente de façon linéaire selon la valeur de n"
   ]
  },
  {
   "cell_type": "markdown",
   "metadata": {},
   "source": [
    "### 2- exponentiation rapide"
   ]
  },
  {
   "cell_type": "markdown",
   "metadata": {},
   "source": [
    "<div class=\"alert alert-success\">\n",
    "    \n",
    "Même si c'est sûrement inutile, **on rappelle que x<sup>a</sup> <sub>*</sub> x<sup>b</sup> = x<sup>a+b</sup>**\n",
    "\n",
    "On souhaite calculer *x<sup>7</sup>*\n",
    "\n",
    "L'exposant 7  se décompose  en 2<sup>2</sup> + 2<sup>1 </sup> + 2<sup>0</sup> = 4 + 2 + 1\n",
    "\n",
    "Cela revient à calculer x<sup>4</sup> <sub>*</sub> x<sup>2</sup> <sub>*</sub> x<sup>1</sup> = x<sup>4</sup> <sub>*</sub> x<sup>2</sup> <sub>*</sub> x  → soit 2 multiplications\n",
    "\n",
    "Pour calculer x<sup>2</sup> = x <sub>*</sub> x  → 1 multiplication\n",
    "\n",
    "Pour calculer x<sup>4</sup>  =  x<sup>2</sup> <sub>*</sub>  x<sup>2</sup>  → 1 multiplication\n",
    "\n",
    "Soit au total 4 multiplications\n",
    "\n",
    "\n",
    "</div>"
   ]
  },
  {
   "cell_type": "markdown",
   "metadata": {},
   "source": [
    "<div class=\"alert alert-warning\">\n",
    "<img src=\"Images/CR.png\" alt=\"logo CR\" width=5% align=right>\n",
    "    \n",
    "Travail demandé\n",
    "    \n",
    "- Avec cette méthode, combien faut-il de multiplications pour calculer x<sup>27</sup> ? Comparer avec la méthode naïve.\n",
    "</div>"
   ]
  },
  {
   "cell_type": "raw",
   "metadata": {},
   "source": [
    "27=2**2+2**2+2**2+2**2+2**2+2**2+2**1+2**0\n",
    "=4+4+4+4+4+4+2+1\n",
    "\n",
    "x**4 * x**4 * x**4 * x**4 * x**4 * x**4 * x**2 * x\n",
    "\n",
    "x**2 * x**8 * x**16 * x\n",
    "\n",
    "x**2\n",
    "x**4\n",
    "x**8\n",
    "x**16\n",
    "\n",
    "Donc 7 multiplications\n"
   ]
  },
  {
   "cell_type": "raw",
   "metadata": {
    "ExecuteTime": {
     "end_time": "2022-02-02T16:25:07.847117Z",
     "start_time": "2022-02-02T16:25:07.839874Z"
    }
   },
   "source": [
    "\n",
    "Méthode naïve : 26 multiplications"
   ]
  },
  {
   "cell_type": "code",
   "execution_count": 2,
   "metadata": {
    "ExecuteTime": {
     "end_time": "2022-02-02T16:20:28.781871Z",
     "start_time": "2022-02-02T16:20:28.775803Z"
    }
   },
   "outputs": [
    {
     "data": {
      "text/plain": [
       "3"
      ]
     },
     "execution_count": 2,
     "metadata": {},
     "output_type": "execute_result"
    }
   ],
   "source": []
  },
  {
   "cell_type": "markdown",
   "metadata": {},
   "source": [
    "<div class=\"alert alert-success\">\n",
    "\n",
    "La formule de récurrence ci-après nous amène à adopter une approche récursive.\n",
    "    \n",
    "$$\\begin{equation*}x^n=\\begin{cases}x&\\text{ si }n=1,\\\\\\left(x^2\\right)^{n//2}&\\text{ si }n\\text{ est pair,}\\\\x\\cdot\\left(x^2\\right)^{(n)//2}&\\text{ si }n\\text{ est impair.}\\end{cases}\\end{equation*}$$\n",
    "\t\t\t\t\t"
   ]
  },
  {
   "cell_type": "markdown",
   "metadata": {},
   "source": [
    "<div class=\"alert alert-warning\">\n",
    "<img src=\"Images/CR.png\" alt=\"logo CR\" width=5% align=right>\n",
    "\n",
    "Si on ne tient compte que des multiplications, alors on peut montrer que la complexité temporelle de cet algorithme vérifie l'encadrement :\n",
    "    \n",
    "$$\\begin{equation*}\\log_2(n)\\leq O(n)\\leq 2\\log_2(n).\\end{equation*}$$\n",
    "\t\t\t\t\t    \n",
    "\n",
    "    \n",
    "Travail demandé\n",
    "    \n",
    "- Compléter la fonction récursive \"puissance\" ci-dessous.\n",
    "- Expliquer brièvement pour quelle raison, apparait le log<sub>2</sub> (n) dans l'expression de la complexité ? \n",
    "    \n",
    "</div>"
   ]
  },
  {
   "cell_type": "code",
   "execution_count": 5,
   "metadata": {
    "ExecuteTime": {
     "end_time": "2022-02-02T16:43:31.434541Z",
     "start_time": "2022-02-02T16:43:31.425140Z"
    }
   },
   "outputs": [
    {
     "name": "stdout",
     "output_type": "stream",
     "text": [
      "2187\n"
     ]
    }
   ],
   "source": [
    "def puissance(x, n):\n",
    "    if n==1:\n",
    "        return x\n",
    "    else:\n",
    "        if n%2==0:\n",
    "            return puissance(x**2,n//2)\n",
    "        else:\n",
    "            return x*puissance(x**2,n//2)\n",
    "\n",
    "\n",
    "if __name__=='__main__':\n",
    "    nombre=3\n",
    "    exposant=7\n",
    "    print(puissance(nombre, exposant))"
   ]
  },
  {
   "cell_type": "raw",
   "metadata": {},
   "source": [
    "  Log2(n) le nombre d'appel augmente de plus en plus lentement en fonction de x"
   ]
  },
  {
   "cell_type": "code",
   "execution_count": null,
   "metadata": {},
   "outputs": [],
   "source": []
  }
 ],
 "metadata": {
  "hide_input": false,
  "kernelspec": {
   "display_name": "Python 3",
   "language": "python",
   "name": "python3"
  },
  "language_info": {
   "codemirror_mode": {
    "name": "ipython",
    "version": 3
   },
   "file_extension": ".py",
   "mimetype": "text/x-python",
   "name": "python",
   "nbconvert_exporter": "python",
   "pygments_lexer": "ipython3",
   "version": "3.6.10"
  },
  "latex_envs": {
   "LaTeX_envs_menu_present": true,
   "autoclose": false,
   "autocomplete": true,
   "bibliofile": "biblio.bib",
   "cite_by": "apalike",
   "current_citInitial": 1,
   "eqLabelWithNumbers": true,
   "eqNumInitial": 1,
   "hotkeys": {
    "equation": "Ctrl-E",
    "itemize": "Ctrl-I"
   },
   "labels_anchors": false,
   "latex_user_defs": false,
   "report_style_numbering": false,
   "user_envs_cfg": false
  },
  "nbTranslate": {
   "displayLangs": [
    "*"
   ],
   "hotkey": "alt-t",
   "langInMainMenu": true,
   "sourceLang": "en",
   "targetLang": "fr",
   "useGoogleTranslate": true
  },
  "toc": {
   "base_numbering": 1,
   "nav_menu": {},
   "number_sections": true,
   "sideBar": true,
   "skip_h1_title": false,
   "title_cell": "Table of Contents",
   "title_sidebar": "Contents",
   "toc_cell": false,
   "toc_position": {},
   "toc_section_display": true,
   "toc_window_display": false
  },
  "varInspector": {
   "cols": {
    "lenName": 16,
    "lenType": 16,
    "lenVar": 40
   },
   "kernels_config": {
    "python": {
     "delete_cmd_postfix": "",
     "delete_cmd_prefix": "del ",
     "library": "var_list.py",
     "varRefreshCmd": "print(var_dic_list())"
    },
    "r": {
     "delete_cmd_postfix": ") ",
     "delete_cmd_prefix": "rm(",
     "library": "var_list.r",
     "varRefreshCmd": "cat(var_dic_list()) "
    }
   },
   "position": {
    "height": "144.517px",
    "left": "1230px",
    "right": "20px",
    "top": "119px",
    "width": "350px"
   },
   "types_to_exclude": [
    "module",
    "function",
    "builtin_function_or_method",
    "instance",
    "_Feature"
   ],
   "window_display": false
  }
 },
 "nbformat": 4,
 "nbformat_minor": 2
}
