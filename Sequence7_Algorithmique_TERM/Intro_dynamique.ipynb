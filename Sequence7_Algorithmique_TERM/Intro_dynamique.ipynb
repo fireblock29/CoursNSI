{
 "cells": [
  {
   "cell_type": "markdown",
   "metadata": {},
   "source": [
    "# <center><font face=\"arial\" size=\"5\" color=#0101DF>NUMERIQUE ET SCIENCES INFORMATIQUES Terminale NSI</font></center>"
   ]
  },
  {
   "cell_type": "markdown",
   "metadata": {},
   "source": [
    "## <font color=#013ADF>Séquence N° 7 : Algorithmique : Introduction à la programmation dynamique</font>"
   ]
  },
  {
   "cell_type": "markdown",
   "metadata": {},
   "source": [
    "<div class=\"alert alert-danger\" role=\"alert\">\n",
    "    \n",
    "Les objectifs de cette séquence sont :\n",
    "\n",
    "- Utiliser la programmation dynamique pour écrire un algorithme.\n",
    "\n",
    "</div>"
   ]
  },
  {
   "cell_type": "markdown",
   "metadata": {},
   "source": [
    "<div class=\"alert alert-success\">\n",
    "\n",
    "Une pyramide de nombre est une structure hiérarchique. Le sommet de la pyramide contient un nombre et les niveaux suivants contiennent un nombre de plus que le niveau précédent.\n",
    "    \n",
    "Un chemin est la suite de nombre qu’il faut parcourir pour aller du sommet à la base. Le nombre suivant est choisi directement en dessous à gauche ou à droite du nombre précédent.\n",
    "    \n",
    "Le problème posé est de trouver le chemin dont la somme est la plus élevée. Ce nombre est appelée valeur. Il s’agit d’un problème d’optimisation.\n",
    "    <br><br>\n",
    "\n",
    "<img src=\"Images/exemple.png\" alt=\"exemple_pyramide\" width=50% align=center>    \n",
    "    \n",
    "    \n",
    "</div>"
   ]
  },
  {
   "cell_type": "markdown",
   "metadata": {},
   "source": [
    "<div class=\"alert alert-success\">\n",
    "    \n",
    "On appelle hauteur n de la pyramide son nombre de lignes, ici n=4.\n",
    "    \n",
    "On appellera nœud une case de cette pyramide. Un nœud sera repéré par sa position horizontale « x » et  sa hauteur « y ».\n",
    "    \n",
    "- Le nœud de valeur 7 est repéré par y=0, x=0.\n",
    "- Le nœud de valeur 10 est repéré par y=3, x=2.\n",
    "    \n",
    "On modélisera en python cette pyramide par un tableau de tableaux T suivant : T=[[7],[4,8],[2,8,5],[5,9,10,1]]\n",
    "    \n",
    "</div>"
   ]
  },
  {
   "cell_type": "markdown",
   "metadata": {},
   "source": [
    "<div class=\"alert alert-warning\">\n",
    "<img src=\"Images/CR.png\" alt=\"logo CR\" width=5% align=right>\n",
    "    \n",
    "Travail demandé  \n",
    "    \n",
    "- Quel est le chemin de valeur maximale dans la pyramide de nombres suivante ?\n",
    "- Quelles sont les coordonnées y et x du nombre 20 ? Quelles sont les coordonnées du 4 en dessous du 20 et du 1 en dessous du 20 ?\n",
    "- Pour généraliser, si les coordonnées d’un nœud dans la pyramide sont y, x. Quelles sont les coordonnées du nombre en dessous à gauche et en dessous à droite ?\n",
    "- Montrer que le nombre de chemins dans une pyramide de hauteur n est 2<sup>n-1</sup>.\n",
    "- Sur cette même pyramide, en partant du sommet de valeur 8 et en appliquant un algorithme glouton, indiquer le chemin suivi et la somme obtenue. En 2-3 lignes, expliquer pourquoi vous avez suivi ce chemin. La valeur trouvée est-elle maximale ?\n",
    "\n",
    "<img src=\"Images/question1.png\" alt=\"une_pyramide\" width=50% align=center>    \n",
    "    \n",
    "</div>"
   ]
  },
  {
   "cell_type": "raw",
   "metadata": {},
   "source": [
    "1 : 8-11-6-8-22\n",
    "2 : 20(x,y):(1,2)\n",
    "    4(x,y):(1,3)\n",
    "    1(x,y):(2,4)\n",
    "3 : en dessous à gauche : (x,y+1)\n",
    "    en dessous à droite : (x+1,y+1)\n",
    "4 : \n",
    "|hauteur n |Nombre de chemins|\n",
    "|----------|-----------------|\n",
    "|     1    |        1        | --> 2^0\n",
    "|     2    |        2        | --> 2^1\n",
    "|     3    |        4        | --> 2^2\n",
    "|     4    |        8        | --> 2^3\n",
    "|     5    |        16       | --> 2^4\n",
    "|     n    |     2^(n-1)     |\n",
    "\n",
    "5 : 8-11-20-4-10  --> 53\n",
    "    Nous avons suivi ce chemin en prenant, pour chacune des lignes, la plus grande valeur possible. Pourtant ce n'est pas la valeur maximale."
   ]
  },
  {
   "cell_type": "markdown",
   "metadata": {},
   "source": [
    "<div class=\"alert alert-success\">\n",
    "    \n",
    "On peut voir le problème d’une autre manière. Le chemin de valeur maximale partant de 8 est soit :\n",
    "    \n",
    "- 8 suivi du chemin de valeur maximale de la sous-pyramide de sommet 2 ;\n",
    "- 8 suivi du chemin de valeur maximale de la sous-pyramide de sommet 11 ;\n",
    "    \n",
    "puis on choisit des 2 chemins celui qui a la plus grande valeur.\n",
    "    \n",
    "On applique récursivement ce choix.\n",
    "    \n",
    "</div>"
   ]
  },
  {
   "cell_type": "markdown",
   "metadata": {},
   "source": [
    "<div class=\"alert alert-warning\">\n",
    "<img src=\"Images/CR.png\" alt=\"logo CR\" width=5% align=right>\n",
    "    \n",
    "Travail demandé  \n",
    "    \n",
    "- Compléter l’arbre des appels récursifs d’une fonction ci-dessous.\n",
    "- Quel est le nombre d’appels de la fonction pour une pyramide de hauteur n = 5 ? Exprimer cette valeur en puissance de 2.\n",
    "- En déduire le nombre d’appels pour une pyramide de hauteur 20.\n",
    "- Quelle est la complexité temporelle d’une telle solution ?\n",
    "- Si on décidait tout de même d’implémenter cette méthode récursive, quel serait le cas d’arrêt ?\n",
    "    \n",
    "<img src=\"Images/arbre_recursion.png\" alt=\"recursion\" width=30% align=center>   \n",
    "\n",
    "</div>"
   ]
  },
  {
   "cell_type": "raw",
   "metadata": {},
   "source": [
    "1 : Hauteur 5 : 1+2+4+8+16=31=(2**5)-1 appels\n",
    "2 : Hauteur 20 : 1 048 575 appels\n",
    "3 : Exponentielle : O(2**n)\n",
    "4 : Le sommet de la sous pyramide est sur la dernière ligne de la pyramide"
   ]
  },
  {
   "cell_type": "markdown",
   "metadata": {},
   "source": [
    "<div class=\"alert alert-success\">\n",
    "    \n",
    "On se penche maintenant sur une implémentation avec programmation dynamique. Pour cela, on va :\n",
    "    \n",
    "- Créer un tableau de tableaux identique à la pyramide ;\n",
    "- Chaque nœud de cette pyramide va mémoriser pour chaque sous-pyramide, la valeur la plus élevée pour éviter les calculs inutiles ;\n",
    "\n",
    "**Méthode** :\n",
    "    \n",
    "- Créer un tableau de tableaux P identique à la pyramide, que l’on initialise à 0 ;\n",
    "- Recopier la dernière ligne de T vers P ;\n",
    "- La ligne d’au-dessus mémorise la valeur maximale de la sous-pyramide ;\n",
    "- On remonte ainsi jusqu’au sommet où l’on peut lire la valeur maximale du chemin.\n",
    "    \n",
    "<img src=\"Images/dynamique.png\" alt=\"memoïsation\" width=30% align=center>    \n",
    "\n",
    "- Prendre le maximum entre (8 + 21) et (8 + 10) soit 29\n",
    "- Prendre le maximum entre (4 + 10) et (4 + 1) soit 14\n",
    "- ...\n",
    "    \n",
    "</div>"
   ]
  },
  {
   "cell_type": "markdown",
   "metadata": {},
   "source": [
    "<div class=\"alert alert-warning\">\n",
    "<img src=\"Images/CR.png\" alt=\"logo CR\" width=5% align=right>\n",
    "    \n",
    "Travail demandé  \n",
    "\n",
    "- Compléter la pyramide P précédente et donner la valeur maximale de T.\n",
    "- Compléter les codes des fonctions ci-dessous correspondants aux différentes versions d'approches étudiées.\n",
    "\n",
    "</div>"
   ]
  },
  {
   "cell_type": "raw",
   "metadata": {},
   "source": [
    "     55\n",
    "   36 47\n",
    "  33 34 36\n",
    " 29 14 8 30\n",
    "21 10 1 7 22"
   ]
  },
  {
   "cell_type": "code",
   "execution_count": 15,
   "metadata": {
    "ExecuteTime": {
     "end_time": "2022-02-28T10:04:56.751864Z",
     "start_time": "2022-02-28T10:04:56.714403Z"
    }
   },
   "outputs": [
    {
     "name": "stdout",
     "output_type": "stream",
     "text": [
      "            55           \n",
      "           36 47         \n",
      "         33 34 36        \n",
      "        29 14 8 30       \n",
      "       21 10 1 7 22      \n",
      "53 55 55\n"
     ]
    }
   ],
   "source": [
    "from random import randint\n",
    "\n",
    "def genere_pyramide(n):\n",
    "    \"\"\"\n",
    "    Génère une pyramide de nombres entiers entre 1\n",
    "    et 100 de hauteur n\n",
    "    \"\"\"\n",
    "    return [[randint(1, 100) for j in range(i+1)] for i in range(n)]\n",
    "\n",
    "def affiche_pyramide(p):\n",
    "    \"\"\"\n",
    "    Affichage de la pyramide p\n",
    "    \"\"\"\n",
    "    n = len(p)\n",
    "    for el in p:\n",
    "        txt = \"\"\n",
    "        for nb in el:\n",
    "            txt+= \" \" + str(nb)\n",
    "        print(txt.center(5*n))\n",
    "        \n",
    "# Algorithme glouton\n",
    "def pyramide_glouton(p):\n",
    "    n=len(p)\n",
    "    x=0\n",
    "    y=0\n",
    "    value=p[y][x]\n",
    "    \n",
    "    while y<n-1:\n",
    "        if p[y+1][x]<p[y+1][x+1]:\n",
    "            x+=1\n",
    "        y+=1\n",
    "        value+=p[y][x]\n",
    "    return value\n",
    "\n",
    "\n",
    "# Algorithme récursif\n",
    "def pyramide_recursif(p,x,y):\n",
    "    if y == len(p)-1:\n",
    "        return p[y][x]\n",
    "    else:\n",
    "        return pyramide_recursif(p,x+1,y+1)+p[y][x]\n",
    "    \n",
    "\n",
    "# Algorithme programmation dynamique\n",
    "def pyramide_dynamique(p):\n",
    "    n=len(p)\n",
    "    P=[[0]*(i+1) for i in range(n)]\n",
    "    for x in range(n):\n",
    "        P[n-1][x]=p[n-1][x]\n",
    "    y=n-1\n",
    "    while y>0:\n",
    "        for x in range(y):\n",
    "            P[y-1][x]=p[y-1][x]+max(P[y][x],P[y][x+1])\n",
    "        y-=1\n",
    "    affiche_pyramide(P)\n",
    "    return P[0][0]\n",
    "\n",
    "\n",
    "if __name__=='__main__':\n",
    "    from doctest import testmod\n",
    "    testmod()\n",
    "    T1 = genere_pyramide(5)\n",
    "    #affiche_pyramide(T1)\n",
    "    \n",
    "    T=[[8],[2,11],[4,20,6],[8,4,1,8],[21,10,1,7,22]]\n",
    "    valeur1=pyramide_glouton(T)\n",
    "    valeur2 =pyramide_recursif(T,0,0)\n",
    "    valeur3=pyramide_dynamique(T)\n",
    "    print(valeur1,valeur2,valeur3)"
   ]
  },
  {
   "cell_type": "code",
   "execution_count": null,
   "metadata": {},
   "outputs": [],
   "source": []
  }
 ],
 "metadata": {
  "hide_input": false,
  "kernelspec": {
   "display_name": "Python 3",
   "language": "python",
   "name": "python3"
  },
  "language_info": {
   "codemirror_mode": {
    "name": "ipython",
    "version": 3
   },
   "file_extension": ".py",
   "mimetype": "text/x-python",
   "name": "python",
   "nbconvert_exporter": "python",
   "pygments_lexer": "ipython3",
   "version": "3.6.10"
  },
  "nbTranslate": {
   "displayLangs": [
    "*"
   ],
   "hotkey": "alt-t",
   "langInMainMenu": true,
   "sourceLang": "en",
   "targetLang": "fr",
   "useGoogleTranslate": true
  },
  "toc": {
   "base_numbering": 1,
   "nav_menu": {},
   "number_sections": true,
   "sideBar": true,
   "skip_h1_title": false,
   "title_cell": "Table of Contents",
   "title_sidebar": "Contents",
   "toc_cell": false,
   "toc_position": {},
   "toc_section_display": true,
   "toc_window_display": false
  },
  "varInspector": {
   "cols": {
    "lenName": 16,
    "lenType": 16,
    "lenVar": 40
   },
   "kernels_config": {
    "python": {
     "delete_cmd_postfix": "",
     "delete_cmd_prefix": "del ",
     "library": "var_list.py",
     "varRefreshCmd": "print(var_dic_list())"
    },
    "r": {
     "delete_cmd_postfix": ") ",
     "delete_cmd_prefix": "rm(",
     "library": "var_list.r",
     "varRefreshCmd": "cat(var_dic_list()) "
    }
   },
   "position": {
    "height": "144.517px",
    "left": "1230px",
    "right": "20px",
    "top": "119px",
    "width": "350px"
   },
   "types_to_exclude": [
    "module",
    "function",
    "builtin_function_or_method",
    "instance",
    "_Feature"
   ],
   "window_display": false
  }
 },
 "nbformat": 4,
 "nbformat_minor": 2
}
