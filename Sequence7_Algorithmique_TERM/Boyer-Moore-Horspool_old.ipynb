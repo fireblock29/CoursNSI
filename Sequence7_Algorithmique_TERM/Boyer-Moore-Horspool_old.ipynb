{
 "cells": [
  {
   "cell_type": "markdown",
   "metadata": {},
   "source": [
    "# <center><font face=\"arial\" size=\"5\" color=#0101DF>NUMERIQUE ET SCIENCES INFORMATIQUES Terminale NSI</font></center>"
   ]
  },
  {
   "cell_type": "markdown",
   "metadata": {},
   "source": [
    "## <font color=#013ADF>Séquence N° 7 : Algorithmique : Recherche textuelle Boyer-Moore-Horspool</font>"
   ]
  },
  {
   "cell_type": "markdown",
   "metadata": {},
   "source": [
    "<div class=\"alert alert-danger\" role=\"alert\">\n",
    "    \n",
    "Les objectifs de cette séquence sont :\n",
    "\n",
    "- Étudier l'algorithme de Boyer-Moore pour la recherche d'un motif dans un texte.\n",
    "\n",
    "</div>"
   ]
  },
  {
   "cell_type": "markdown",
   "metadata": {},
   "source": [
    "<div class=\"alert alert-warning\">\n",
    "<img src=\"Images/CR.png\" alt=\"logo CR\" width=5% align=right>\n",
    "    \n",
    "Travail préalable   \n",
    "\n",
    "- Lire le chapitre 12, paragraphe 3 du livre ;\n",
    "- Si la longueur du texte est n et la longueur du motif m, quelle est la complexité dans le pire des cas, de la méthode naïve explicitée dans le livre ?\n",
    "- Quel est l'intérêt du pré-traitement du motif ?\n",
    "\n",
    "<div>"
   ]
  },
  {
   "cell_type": "markdown",
   "metadata": {},
   "source": [
    "### 1- Exemple de traitement avec l'algorithme Boyer-Moore-Horspool"
   ]
  },
  {
   "cell_type": "markdown",
   "metadata": {},
   "source": [
    "<div class=\"alert alert-success\">\n",
    "\n",
    "\n",
    "<img src=\"Images/horspool.png\" alt=\"exemple de traitement\" width=80% align=center>   \n",
    "       \n",
    "    \n",
    "<div>"
   ]
  },
  {
   "cell_type": "markdown",
   "metadata": {},
   "source": [
    "<div class=\"alert alert-warning\">\n",
    "<img src=\"Images/CR.png\" alt=\"logo CR\" width=5% align=right>\n",
    "    \n",
    "Travail demandé  \n",
    "\n",
    "- Établir la table de décalage des lettres du motif de l'exemple ci-dessus ;\n",
    "    \n",
    "| Caractères du motif | Décalages |\n",
    "| :-----------------: | :-------: |\n",
    "|          A          |          |\n",
    "|          T          |          |\n",
    "|          G          |          |\n",
    "|          C          |          |\n",
    "|       Autres        |          |\n",
    "    \n",
    "- Écrire une fonction \"pre_traitement\" qui prend en paramètre le motif et renvoie un dictionnaire ayant pour chaque caractère du motif un couple caractère, position dans le motif ;\n",
    "- Écrire une fonction \"horspool\" qui prend en paramètres le motif et le texte dans lequel on cherche le motif. Celle-ci renvoie False si le motif ne s'y trouve pas ou l'index de la première lettre du motif dans le texte sinon ;\n",
    "- Placer des vérifications sur les pré et postconditions (assertion), ainsi que des tests unitaires (doctest).\n",
    "\n",
    "<div>"
   ]
  },
  {
   "cell_type": "markdown",
   "metadata": {},
   "source": [
    "### 2- Programme"
   ]
  },
  {
   "cell_type": "code",
   "execution_count": null,
   "metadata": {},
   "outputs": [],
   "source": [
    "def pre_traitement(mot:str)->dict:\n",
    "    pass\n",
    "\n",
    "\n",
    "\n",
    "def horspool(mot:str, chaine:str)-> int:# ou False: bool\n",
    "    pass\n",
    "\n",
    "texte = \"AACATPATGGGATGCGAGG\"\n",
    "motif = \"ATGCGA\"\n"
   ]
  }
 ],
 "metadata": {
  "hide_input": false,
  "kernelspec": {
   "display_name": "Python 3",
   "language": "python",
   "name": "python3"
  },
  "language_info": {
   "codemirror_mode": {
    "name": "ipython",
    "version": 3
   },
   "file_extension": ".py",
   "mimetype": "text/x-python",
   "name": "python",
   "nbconvert_exporter": "python",
   "pygments_lexer": "ipython3",
   "version": "3.6.10"
  },
  "nbTranslate": {
   "displayLangs": [
    "*"
   ],
   "hotkey": "alt-t",
   "langInMainMenu": true,
   "sourceLang": "en",
   "targetLang": "fr",
   "useGoogleTranslate": true
  },
  "toc": {
   "base_numbering": 1,
   "nav_menu": {},
   "number_sections": true,
   "sideBar": true,
   "skip_h1_title": false,
   "title_cell": "Table of Contents",
   "title_sidebar": "Contents",
   "toc_cell": false,
   "toc_position": {},
   "toc_section_display": true,
   "toc_window_display": false
  },
  "varInspector": {
   "cols": {
    "lenName": 16,
    "lenType": 16,
    "lenVar": 40
   },
   "kernels_config": {
    "python": {
     "delete_cmd_postfix": "",
     "delete_cmd_prefix": "del ",
     "library": "var_list.py",
     "varRefreshCmd": "print(var_dic_list())"
    },
    "r": {
     "delete_cmd_postfix": ") ",
     "delete_cmd_prefix": "rm(",
     "library": "var_list.r",
     "varRefreshCmd": "cat(var_dic_list()) "
    }
   },
   "types_to_exclude": [
    "module",
    "function",
    "builtin_function_or_method",
    "instance",
    "_Feature"
   ],
   "window_display": false
  }
 },
 "nbformat": 4,
 "nbformat_minor": 2
}
