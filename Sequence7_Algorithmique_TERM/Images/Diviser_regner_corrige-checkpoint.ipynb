{
 "cells": [
  {
   "cell_type": "markdown",
   "metadata": {},
   "source": [
    "# <center><font face=\"arial\" size=\"5\" color=#0101DF>NUMERIQUE ET SCIENCES INFORMATIQUES Terminale NSI</font></center>"
   ]
  },
  {
   "cell_type": "markdown",
   "metadata": {},
   "source": [
    "## <font color=#013ADF>Séquence N° 9 : Algorithmique : Diviser pour régner - Tri fusion</font>"
   ]
  },
  {
   "cell_type": "markdown",
   "metadata": {},
   "source": [
    "<div class=\"alert alert-danger\" role=\"alert\">\n",
    "    \n",
    "Les objectifs de cette séquence sont :\n",
    "\n",
    "- Écrire un algorithme utilisant la méthode \"diviser pour régner\".\n",
    "\n",
    "</div>"
   ]
  },
  {
   "cell_type": "markdown",
   "metadata": {},
   "source": [
    "<div class=\"alert alert-warning\">\n",
    "<img src=\"Images/CR.png\" alt=\"logo CR\" width=5% align=right>\n",
    "    \n",
    "Travail préalable   \n",
    "\n",
    "- Revoir les algorithmes de tri (insertion, selection) vus en classe de première ;\n",
    "    \n",
    "Rappel du lien : http://lwh.free.fr/\n",
    "    \n",
    "- Lire le chapitre 12, paragraphe 1  du livre.\n",
    "    \n",
    "</div>"
   ]
  },
  {
   "cell_type": "markdown",
   "metadata": {},
   "source": [
    "### 1- Rappels sur 2 algorithmes de tri étudiés en première"
   ]
  },
  {
   "cell_type": "markdown",
   "metadata": {},
   "source": [
    "#### 1-1 Tri par sélection"
   ]
  },
  {
   "cell_type": "markdown",
   "metadata": {},
   "source": [
    "<div class=\"alert alert-warning\">\n",
    "<img src=\"Images/CR.png\" alt=\"logo CR\" width=5% align=right>\n",
    "    \n",
    "Travail demandé  \n",
    "\n",
    "Soit la liste d'entiers lst=[8 , 2 , 5 , 4 , 9 , 6 , 1 , 7, 12]\n",
    "    \n",
    "- Rappeler brièvement, le principe de l'algorithme de tri par sélection;\n",
    "- Ce tri est dit 'en place' et 'non stable'. Que signifient ces termes ?\n",
    "- Implémenter en python un algorithme itératif réalisant le tri par insertion de la liste \"lst\";\n",
    "- Placer des vérifications sur les pré et postconditions (assertion), ainsi que des tests unitaires (doctest);\n",
    "    \n",
    "lien : https://docs.python.org/3/library/doctest.html\n",
    "    \n",
    "- Donner en le justifiant la complexité temporelle de cet algorithme.\n",
    "</div>"
   ]
  },
  {
   "cell_type": "code",
   "execution_count": null,
   "metadata": {},
   "outputs": [],
   "source": [
    "def tri_selection(lst:list)->list:\n",
    "    \"\"\"\n",
    "    Implémente le tri par selection\n",
    "    >>> tri_selection([8 , 2 , 5 , 4 , 9 , 6 , 1 , 7, 12])\n",
    "    [1, 2, 4, 5, 6, 7, 8, 9, 12]\n",
    "    \"\"\"\n",
    "    # Vérification sur les préconditions\n",
    "    assert len(lst)>1,'La liste est triée'\n",
    "    n=len(lst) # on stocke le nombre des éléments de la liste lst dans n   \n",
    "    for i in range(n-1) :\n",
    "        # on cherche l'indice de l'élément le plus petit de la liste lst de à partir de l'indice i jusqu'à n-1\n",
    "        indice_min = i # on considére que l'indice i contient l'élément le plus petit entre tous les éléments de i jusqu'à n-1\n",
    "        for  j  in range( i+1,n) :\n",
    "            # on teste tous les éléments d'indice j\n",
    "            if lst[j]<lst[indice_min] :# Si on trouve un élément tel que lst[j] < lst[indice_min] on change l'indice indice_min\n",
    "                indice_min = j\n",
    "        lst[i],lst[indice_min]= lst[indice_min], lst[i]  # on permute lst[i] avec lst[indice_min]\n",
    "    # Vérification sur la postcondition\n",
    "    assert sorted(lst)==lst,'Erreur de traitement'\n",
    "    return lst\n",
    "\n",
    "if __name__=='__main__':\n",
    "    from doctest import testmod\n",
    "    testmod()\n",
    "    liste=[8 , 2 , 5 , 4 , 9 , 6 , 1 , 7, 12]\n",
    "    tri_selection(liste)"
   ]
  },
  {
   "cell_type": "markdown",
   "metadata": {},
   "source": [
    "<div class=\"alert alert-danger\" role=\"alert\">\n",
    "\n",
    "La première boucle for s'exécute pour i allant de 0 à n-2\n",
    "\n",
    "La seconde boucle for s'exécute pour j allant de i+1 à n-1.  Elle s'exécute donc n-1 -i fois\n",
    "\n",
    "Les autres instructions s'exécute à temps constant indépendamment de n\n",
    "\n",
    "Si on imagine une liste ayant un nombre d'éléments importants (n très grand), les valeurs -1, -2 sont négligeables.\n",
    "\n",
    "On a une complexité temporelle de n<sup>2</sup> qui s'écrit : O(n<sup>2</sup> )\n",
    "</div>"
   ]
  },
  {
   "cell_type": "markdown",
   "metadata": {},
   "source": [
    "#### 1-2 Tri par insertion"
   ]
  },
  {
   "cell_type": "markdown",
   "metadata": {},
   "source": [
    "<div class=\"alert alert-warning\">\n",
    "<img src=\"Images/CR.png\" alt=\"logo CR\" width=5% align=right>\n",
    "    \n",
    "Travail demandé  \n",
    "\n",
    "Soit la liste d'entiers lst=[8 , 2 , 5 , 4 , 9 , 6 , 1 , 7, 12]\n",
    "    \n",
    "- Rappeler brièvement, le principe de l'algorithme de tri par insertion;\n",
    "- Ce tri est dit 'en ligne'. Que signifie ce terme ?\n",
    "- Implémenter en python un algorithme itératif réalisant le tri par insertion de la liste \"lst\";\n",
    "- Placer des vérifications sur les pré et postconditions (assertion), ainsi que des tests unitaires (doctest);\n",
    "- Donner en le justifiant la complexité temporelle de cet algorithme.\n",
    "</div>"
   ]
  },
  {
   "cell_type": "code",
   "execution_count": null,
   "metadata": {},
   "outputs": [],
   "source": [
    "def tri_insertion(lst): \n",
    "    \"\"\"\n",
    "    Implémente le tri par insertion\n",
    "    >>> tri_insertion([8 , 2 , 5 , 4 , 9 , 6 , 1 , 7, 12])\n",
    "    [1, 2, 4, 5, 6, 7, 8, 9, 12]\n",
    "    \"\"\"\n",
    "    for i in range(1, len(lst)):  \n",
    "        temp=lst[i] # à l'itération i la liste lst de l'indice 0 à j=i-1 est trié et on insert lst[i]=temp\n",
    "        j = i - 1\n",
    "        while j >=0 and lst[j] > temp: # on cherche l'indice de 0 à i-1 où il faut inserer lst[i]=temp\n",
    "            lst[j+1] = lst[j]\n",
    "            j-= 1\n",
    "        lst[j+1] = temp  # on insert L[i] à sa position\n",
    "    # Vérification sur la postcondition\n",
    "    assert sorted(lst)==lst,'Erreur de traitement'\n",
    "    return lst\n",
    "\n",
    "if __name__=='__main__':\n",
    "    from doctest import testmod\n",
    "    testmod()\n",
    "    liste=[8 , 2 , 5 , 4 , 9 , 6 , 1 , 7, 12]\n",
    "    tri_insertion(liste)"
   ]
  },
  {
   "cell_type": "markdown",
   "metadata": {},
   "source": [
    "<div class=\"alert alert-danger\" role=\"alert\">\n",
    "\n",
    "La boucle for s'exécute pour i allant de 1 à n-1\n",
    "\n",
    "La boucle while s'exécute j fois dans le pire des cas (liste triée par ordre décroissant)\n",
    "\n",
    "Les autres instructions s'exécute à temps constant indépendamment de n\n",
    "\n",
    "\n",
    "On a une complexité temporelle de n<sup>2</sup> qui s'écrit : O(n<sup>2</sup> ) dans le pire des cas.\n",
    "\n",
    "Il est linéaire si la liste est déja triée.\n",
    "</div>"
   ]
  },
  {
   "cell_type": "markdown",
   "metadata": {},
   "source": [
    "### 2- Tri fusion (Merge sort)"
   ]
  },
  {
   "cell_type": "markdown",
   "metadata": {},
   "source": [
    "<div class=\"alert alert-success\">\n",
    "\n",
    "Utilison un autre algorithme afin d'améliorer la complexité temporelle du tri. Pour cela nous allons appliquer un principe que nous avons déjà utilisé à plusieurs reprises :\n",
    "- Dichotomie ;\n",
    "- Récurence ;\n",
    "- Arbre binaire de recherche équilibré.\n",
    "\n",
    "<img src=\"Images/warning.png\" alt=\"warning\" width=5% align=left>\n",
    "<br><br>\n",
    "    \n",
    "Il s'agit d'un algorithme de type **Diviser pour régner**. Il est composé de 3 étapes :\n",
    "    \n",
    "1. **Diviser** : On divise le problème initial en plusieurs sous-problèmes plus petits que le problème\n",
    "initial.\n",
    "2. **Résolution** : On résoud de manière récursive les sous-problèmes.\n",
    "3. **Régner** : On reconstitue la solution du problème initial en fusionnant les solutions des différents\n",
    "sous-problèmes.\n",
    "    \n",
    "Voici schématiquement, comment on réalise le **tri fusion (merge sort)**.\n",
    "<br><br>        \n",
    "<img src=\"Images/tri_fusion.png\" alt=\"principe tri fusion\" width=60% align=center>   \n",
    "        \n",
    "</div>"
   ]
  },
  {
   "cell_type": "markdown",
   "metadata": {},
   "source": [
    "<div class=\"alert alert-warning\">\n",
    "<img src=\"Images/CR.png\" alt=\"logo CR\" width=5% align=right>\n",
    "    \n",
    "Travail demandé  \n",
    "\n",
    "- Écrire une fonction fusion(lst_g,lst_d) qui prend 2 listes triées en arguments (de longueur égale à 1 élément près) et renvoie une liste unique triée.\n",
    "- Écrire une fonction divise(lst) qui coupe une liste lst en deux sous-listes (lst_g, lst_d) de longueur égale (à un élément près si la longueur est impaire).\n",
    "- Écrire une fonction tri_fusion(lst) qui divise récursivement une liste passée en argument et qui appelant votre fonction \"fusion\" réalise le tri selon le principe **diviser pour régner**.\n",
    "\n",
    "Bien que l'on ne puisse pas évaluer la complexité temporelle d'un algorithme sur son temps d'exécution (dépend également des autres processus en cours sur la machine), on va tenter de comparer le temps d'exécution de l'algorithme tri-fusion implémenté et les algorithmes de tri par selection et insertion. Pour cela :\n",
    "    \n",
    "- Créer (ou réutiliser : voir classe de première) une fonction qui génère des listes d'entiers compris entre 0 et n, de manière aléatoire de longeur l;\n",
    "- En utilisant la commande magique %timeit (voir algorithme de tri en classe de première), comprer les temps d'exécution sur des listes de bonne taille.\n",
    "\n",
    "</div>"
   ]
  },
  {
   "cell_type": "code",
   "execution_count": 2,
   "metadata": {
    "ExecuteTime": {
     "end_time": "2022-01-26T07:27:17.655002Z",
     "start_time": "2022-01-26T07:27:17.634453Z"
    }
   },
   "outputs": [],
   "source": [
    "def fusion(lst_g:list,lst_d:list)->list:\n",
    "    \"\"\"\n",
    "    Range dans l'ordre croissant les éléments de\n",
    "    2 listes triées dans une liste unique triée\n",
    "    >>> fusion([2,5,6,9],[1,4,7,8,12])\n",
    "    [1, 2, 4, 5, 6, 7, 8, 9, 12]\n",
    "    \"\"\"\n",
    "    # Vérification des préconditions\n",
    "    assert sorted(lst_g)==lst_g,'Une des listes au moins n\\'est pas triée'\n",
    "    assert sorted(lst_d)==lst_d,'Une des listes au moins n\\'est pas triée'\n",
    "    lst=[]\n",
    "    index_g, index_d = 0,0\n",
    "    while index_g < len(lst_g) and index_d < len(lst_d):\n",
    "       # Entre les 2 plus petits lequel est plus petit ?\n",
    "       if lst_g[index_g] <= lst_d[index_d]:\n",
    "           lst.append(lst_g[index_g])\n",
    "           index_g += 1\n",
    "       else:\n",
    "           lst.append(lst_d[index_d])\n",
    "           index_d += 1\n",
    "    # Si nombre impair d'élément dans liste gauche\n",
    "    # plus de comparaison possible, on l'insère\n",
    "    lst.extend(lst_g[index_g:])\n",
    "    # Idem pour liste droite\n",
    "    lst.extend(lst_d[index_d:])\n",
    "    # Vérification sur la postcondition\n",
    "    assert sorted(lst)==lst,'Erreur de traitement'\n",
    "    return lst\n",
    "\n",
    "if __name__=='__main__':\n",
    "    from doctest import testmod\n",
    "    testmod()\n",
    "    liste=fusion([2,5,6,9],[1,4,7,8,12])"
   ]
  },
  {
   "cell_type": "code",
   "execution_count": null,
   "metadata": {},
   "outputs": [],
   "source": [
    "def divise(lst:list)->list:\n",
    "    \"\"\"\n",
    "    Divise une liste en deux sous listes de\n",
    "    taille identique à 1 élément près (impaire)\n",
    "    >>> divise([8 , 2 , 5 , 4 , 9 , 6 , 1 , 7, 12])\n",
    "    ([8, 2, 5, 4], [9, 6, 1, 7, 12])\n",
    "    \"\"\"\n",
    "    assert len(lst)>=1,'La liste ne contient pas assez d\\'éléments (2 mini)'\n",
    "    lst_g=[]\n",
    "    lst_d=[]\n",
    "    milieu=len(lst)//2\n",
    "    lst_g=lst[0:milieu]\n",
    "    lst_d=lst[milieu:]\n",
    "    return lst_g, lst_d\n",
    "\n",
    "if __name__=='__main__':\n",
    "    from doctest import testmod\n",
    "    testmod()\n",
    "    liste=[8 , 2 , 5 , 4 , 9 , 6 , 1 , 7, 12]\n",
    "    liste_g, liste_d=divise(liste)"
   ]
  },
  {
   "cell_type": "code",
   "execution_count": null,
   "metadata": {},
   "outputs": [],
   "source": [
    "from random import randint\n",
    "\n",
    "def liste_random(max,long):\n",
    "    return [randint(1, max) for l in range(long)]\n",
    "\n",
    "def fusion(lst_g:list,lst_d:list)->list:\n",
    "    \"\"\"\n",
    "    Range dans l'ordre croissant les éléments de\n",
    "    2 listes triées dans une liste unique triée\n",
    "    >>> fusion([2,5,6,9],[1,4,7,8,12])\n",
    "    [1, 2, 4, 5, 6, 7, 8, 9, 12]\n",
    "    \"\"\"\n",
    "    # Vérification des préconditions\n",
    "    assert sorted(lst_g)==lst_g,'Une des listes au moins n\\'est pas triée'\n",
    "    assert sorted(lst_d)==lst_d,'Une des listes au moins n\\'est pas triée'\n",
    "    lst=[]\n",
    "    index_g, index_d = 0,0\n",
    "    while index_g < len(lst_g) and index_d < len(lst_d):\n",
    "       # Entre les 2 plus petits lequel est plus petit ?\n",
    "       if lst_g[index_g] <= lst_d[index_d]:\n",
    "           lst.append(lst_g[index_g])\n",
    "           index_g += 1\n",
    "       else:\n",
    "           lst.append(lst_d[index_d])\n",
    "           index_d += 1\n",
    "    # Si nombre impair d'élément dans liste gauche\n",
    "    # plus de comparaison possible, on l'insère\n",
    "    lst.extend(lst_g[index_g:])\n",
    "    # Idem pour liste droite\n",
    "    lst.extend(lst_d[index_d:])\n",
    "    # Vérification sur la postcondition\n",
    "    assert sorted(lst)==lst,'Erreur de traitement'\n",
    "    return lst\n",
    "\n",
    "def tri_fusion(lst:list)->list:\n",
    "    \"\"\"\n",
    "    Divise récursivement la liste passée en \n",
    "    argument et appelle la fonction fusion\n",
    "    pour assembler de manière ordonnée les\n",
    "    2 listes passées en argument\n",
    "    >>> tri_fusion([8 , 2 , 5 , 4 , 9 , 6 , 1 , 7, 12])\n",
    "    [1, 2, 4, 5, 6, 7, 8, 9, 12]\n",
    "    \n",
    "    \"\"\"\n",
    "    if len(lst)<=1:\n",
    "        return lst\n",
    "    \n",
    "    milieu = len(lst) // 2\n",
    "    liste_g = lst[:milieu] \n",
    "    liste_d = lst[milieu:]\n",
    "     \n",
    "    liste_g = tri_fusion(liste_g)\n",
    "    liste_d = tri_fusion(liste_d)\n",
    "     \n",
    "    return fusion(liste_g, liste_d) #fusionner les 2 listes\n",
    "    \n",
    "if __name__=='__main__':\n",
    "    from doctest import testmod\n",
    "    testmod()\n",
    "    n = 10000\n",
    "    l = 1000\n",
    "    liste=liste_random(n,l)\n",
    "    #liste=[8 , 2 , 5 , 4 , 9 , 6 , 1 , 7, 12]\n",
    "    test=tri_fusion(liste)\n",
    "    %timeit tri_fusion(liste)\n",
    "    print(test)"
   ]
  },
  {
   "cell_type": "markdown",
   "metadata": {},
   "source": [
    "<div class=\"alert alert-danger\" role=\"alert\">\n",
    "    \n",
    "Étude de la complexité:\n",
    "    \n",
    "la complexité de l'algorithme est O(n.log<sub>2</sub>(n)).Elle est optimale pour un algorithme de tri par **comparaison**.\n",
    "    \n",
    "Autre type d'algo sans comparaison :  tri par comptage (on ne trie pas les valeurs mais le comptage de ces valeurs au sein du tableau).\n",
    "\n",
    "La division de la liste initiale par deux jusqu'à n'obtenir qu'un seul élément est en complexité log<sub>2</sub>, identique à une dichotomie.\n",
    "    \n",
    "Lors de la fusion de la liste, nous avons du comparer les éléments de la liste por les classer en ordre croissant. La complexité a été de n.\n",
    "\n",
    "</div>"
   ]
  },
  {
   "cell_type": "code",
   "execution_count": null,
   "metadata": {},
   "outputs": [],
   "source": [
    "import matplotlib.pyplot as plt\n",
    "import math\n",
    "\n",
    "n=[10,100,1000,10000,100000,1000000]\n",
    "\n",
    "plt.title(\"Complexité\")\n",
    "plt.plot(n, [nombre**2 for nombre in n],'b')\n",
    "plt.plot(n, [nombre*(math.log2(nombre)) for nombre in n],'r')\n",
    "plt.xlabel('n')\n",
    "plt.ylabel('Temps')\n",
    "plt.show()"
   ]
  },
  {
   "cell_type": "markdown",
   "metadata": {},
   "source": [
    "### 2- Tri rapide (Quick sort)"
   ]
  },
  {
   "cell_type": "markdown",
   "metadata": {},
   "source": [
    "<div class=\"alert alert-warning\">\n",
    "<img src=\"Images/CR.png\" alt=\"logo CR\" width=5% align=right>\n",
    "    \n",
    "Travail demandé\n",
    "\n",
    "- Implémenter un algorithme de type \"diviser pour régner\" réalisant un tri rapide.\n",
    "    \n",
    "*Remarque : On prendra comme pivot le dernier élément de la liste.*"
   ]
  },
  {
   "cell_type": "code",
   "execution_count": null,
   "metadata": {},
   "outputs": [],
   "source": [
    "from random import randint\n",
    "\n",
    "def liste_random(max,long):\n",
    "    return [randint(1, max) for l in range(long)]\n",
    "\n",
    "def tri_rapide(lst):#quicksort\n",
    "    \"\"\"\n",
    "    Divise récursivement la liste passée en \n",
    "    argument et appelle la fonction fusion\n",
    "    pour assembler de manière ordonnée les\n",
    "    2 listes passées en argument\n",
    "    >>> tri_rapide([8 , 2 , 5 , 4 , 9 , 6 , 1 , 7, 12])\n",
    "    [1, 2, 4, 5, 6, 7, 8, 9, 12]\n",
    "    \n",
    "    \"\"\"\n",
    "    if not lst: # condition d'arrêt dans la fonction récursive si lst est vide\n",
    "        return []\n",
    "    else:\n",
    "        # choix du dernier élément de la liste comme pivot\n",
    "        pivot = lst[-1] \n",
    "        # construction de la première sous liste (liste gauche)\n",
    "        #,tous les éléments de la sous liste gauche est inférieur au pivot \n",
    "        sous_liste_gauche = [x for x in lst if x < pivot]\n",
    "        # construction de la deuxième sous liste (liste droite)\n",
    "        #, tous les éléments de la sous liste droite est supérieure au pivot\n",
    "        sous_liste_droite = [x for x in lst[:-1] if x >= pivot]#\n",
    "        # placer l'élément pivot à son emplacement final et refaire\n",
    "        # la même chose pour les deux sous listes gauche et droite\n",
    "        return tri_rapide(sous_liste_gauche) + [pivot] + tri_rapide(sous_liste_droite) \n",
    "\n",
    "if __name__=='__main__':\n",
    "    from doctest import testmod\n",
    "    testmod()\n",
    "    n = 10000\n",
    "    l = 1000\n",
    "    liste=liste_random(n,l)\n",
    "    #liste=[8 , 2 , 5 , 4 , 9 , 6 , 1 , 7, 12]\n",
    "    test=tri_rapide(liste)\n",
    "    %timeit tri_rapide(liste)\n",
    "    print(test)"
   ]
  },
  {
   "cell_type": "code",
   "execution_count": null,
   "metadata": {},
   "outputs": [],
   "source": []
  }
 ],
 "metadata": {
  "hide_input": false,
  "kernelspec": {
   "display_name": "Python 3",
   "language": "python",
   "name": "python3"
  },
  "language_info": {
   "codemirror_mode": {
    "name": "ipython",
    "version": 3
   },
   "file_extension": ".py",
   "mimetype": "text/x-python",
   "name": "python",
   "nbconvert_exporter": "python",
   "pygments_lexer": "ipython3",
   "version": "3.6.10"
  },
  "latex_envs": {
   "LaTeX_envs_menu_present": true,
   "autoclose": false,
   "autocomplete": true,
   "bibliofile": "biblio.bib",
   "cite_by": "apalike",
   "current_citInitial": 1,
   "eqLabelWithNumbers": true,
   "eqNumInitial": 1,
   "hotkeys": {
    "equation": "Ctrl-E",
    "itemize": "Ctrl-I"
   },
   "labels_anchors": false,
   "latex_user_defs": false,
   "report_style_numbering": false,
   "user_envs_cfg": false
  },
  "nbTranslate": {
   "displayLangs": [
    "*"
   ],
   "hotkey": "alt-t",
   "langInMainMenu": true,
   "sourceLang": "en",
   "targetLang": "fr",
   "useGoogleTranslate": true
  },
  "toc": {
   "base_numbering": 1,
   "nav_menu": {},
   "number_sections": true,
   "sideBar": true,
   "skip_h1_title": false,
   "title_cell": "Table of Contents",
   "title_sidebar": "Contents",
   "toc_cell": false,
   "toc_position": {},
   "toc_section_display": true,
   "toc_window_display": false
  },
  "varInspector": {
   "cols": {
    "lenName": 16,
    "lenType": 16,
    "lenVar": 40
   },
   "kernels_config": {
    "python": {
     "delete_cmd_postfix": "",
     "delete_cmd_prefix": "del ",
     "library": "var_list.py",
     "varRefreshCmd": "print(var_dic_list())"
    },
    "r": {
     "delete_cmd_postfix": ") ",
     "delete_cmd_prefix": "rm(",
     "library": "var_list.r",
     "varRefreshCmd": "cat(var_dic_list()) "
    }
   },
   "position": {
    "height": "144.517px",
    "left": "1230px",
    "right": "20px",
    "top": "119px",
    "width": "350px"
   },
   "types_to_exclude": [
    "module",
    "function",
    "builtin_function_or_method",
    "instance",
    "_Feature"
   ],
   "window_display": false
  }
 },
 "nbformat": 4,
 "nbformat_minor": 2
}
