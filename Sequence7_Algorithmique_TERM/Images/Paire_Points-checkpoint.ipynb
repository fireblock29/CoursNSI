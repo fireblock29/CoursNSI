{
 "cells": [
  {
   "cell_type": "markdown",
   "metadata": {},
   "source": [
    "# <center><font face=\"arial\" size=\"5\" color=#0101DF>NUMERIQUE ET SCIENCES INFORMATIQUES Terminale NSI</font></center>"
   ]
  },
  {
   "cell_type": "markdown",
   "metadata": {},
   "source": [
    "## <font color=#013ADF>Séquence N° 7 : Algorithmique : Diviser pour régner - Paire de points les plus proches </font>"
   ]
  },
  {
   "cell_type": "markdown",
   "metadata": {},
   "source": [
    "<div class=\"alert alert-danger\" role=\"alert\">\n",
    "    \n",
    "Les objectifs de cette séquence sont :\n",
    "\n",
    "- Écrire un algorithme utilisant la méthode \"diviser pour régner\".\n",
    "\n",
    "</div>"
   ]
  },
  {
   "cell_type": "markdown",
   "metadata": {},
   "source": [
    "<div class=\"alert alert-warning\">\n",
    "<img src=\"Images/CR.png\" alt=\"logo CR\" width=5% align=right>\n",
    "    \n",
    "Travail préalable   \n",
    "   \n",
    "- Lire le chapitre 12, paragraphe 1  du livre ;\n",
    "- Calcul de la distance euclidienne entre deux points d'un plan.\n",
    "    \n",
    "</div>"
   ]
  },
  {
   "cell_type": "markdown",
   "metadata": {},
   "source": [
    "### 1- Problématique"
   ]
  },
  {
   "cell_type": "markdown",
   "metadata": {},
   "source": [
    "<div class=\"alert alert-success\">\n",
    "\n",
    "On dispose d’un nuage de n points du plan (n ≥ 2), repérés par leurs coordonnées. On veut trouver les deux points les plus proches.    \n",
    "\n",
    "<img src=\"Images/points_proches.png\" alt=\"repère\" width=25% align=center>\n",
    "    \n",
    "    \n",
    "Exemple :\n",
    "    \n",
    "liste_points = [(3, 8), (2, 4), (-1, -2), (-2, -4)]\n",
    "    \n",
    "Les deux points les plus proches sont : liste_points[2] et liste_points[3].\n",
    "    \n",
    "Un algorithme naïf consisterait à calculer toutes les distances possibles, en examinant toutes les paires de points. Formulé autrement, cela revient à chercher toutes les **combinaisons** de 2 éléments dans un ensemble à n éléments.\n",
    "    \n",
    "$$\n",
    "C_2^n = \\frac {n.(n-1)}{2}\n",
    "$$\n",
    "    \n",
    "Intuitivement : On choisit un premier élément parmi les n, puis un deuxième parmi les n−1 restants. Ça fait n(n−1) choix possibles.\n",
    "Pour chaque choix on obtient une paire. Mais chaque paire est obtenue deux fois : on  obtient {a,b} en choisissant d'abord a puis b, ou d'abord b puis a. D'où le n(n−1)/2. \n",
    "\n",
    "Le calcul de la distance étant en temps constant (ne dépendant pas de n) pour chaque paire de points, cet algorithme est de complexité quadratique.\n",
    "    \n",
    "Pour avoir une idée du problème, prenons un exemple : \n",
    "    \n",
    "Avec **un milliard de points (10<sup>9</sup>)**, cet algorithme naïf en O(n<sup>2</sup> ) demande de l’ordre de 10<sup>(9)<sup>2</sup></sup> soit 10<sup>18</sup> opérations.\n",
    "    \n",
    "Avec des ordinateurs effectuant 10<sup>9</sup> opérations par seconde (FLOPS), il faut de l’ordre de 10<sup>9</sup> secondes, soit **plus de 30 ans**.\n",
    "\n",
    "</div>"
   ]
  },
  {
   "cell_type": "markdown",
   "metadata": {},
   "source": [
    "### 2- Diviser pour régner"
   ]
  },
  {
   "cell_type": "markdown",
   "metadata": {},
   "source": [
    "<div class=\"alert alert-success\">\n",
    "\n",
    "Nous pouvons faire beaucoup mieux avec un algorithme de type \"diviser pour régner\". L'idée est de diviser verticalement l'ensemble des n points de \"E\" en deux parties de même taille par une ligne L.\n",
    "Rechercher la distance la plus petite dans chaque partie A et B et entre les parties A et B.\n",
    "    \n",
    "<img src=\"Images/Nuage_points.png\" alt=\"Nuage de points\" width=50% align=center>\n",
    "    \n",
    "On calcule récursivement la distance minimale δ<sub>g</sub> entre deux points de A et la distance minimale δ<sub>d</sub> entre deux points de B. On note δ le minimum entre δ<sub>g</sub> et δ<sub>d</sub>.\n",
    "    \n",
    "Il reste à calculer la distance minimale entre un point de A et un point de B, ce qui laisse beaucoup de combinaisons. Si nous abordons ce traitement de manière naïve, la division récursive de l'ensemble des points n'aura été d'aucune utilité.\n",
    "    \n",
    "On peut réduire les combinaisons en écartant toutes les distances supérieures à δ. On s’intéresse uniquement aux points situés dans la bande verticale de largeur 2.δ délimitée par les lignes.\n",
    "    \n",
    "**Algorithme \"gros grain\"**\n",
    "    \n",
    "1- Créer un tableau Ex contenant les points de E triés dans l’ordre croissant des abscisses et un second tableau Ey contenant les points de E triés dans l’ordre croissant des ordonnées.\n",
    "    \n",
    "2- Si n ≤ 3, on effectue un calcul de la distance entre les points et on renvoie le résultat. Sinon, on partage Ex en deux sous-ensembles A et B de même taille (à un élément près), A contenant les points de plus petites abscisses et B les points de plus grandes abscisses.\n",
    "    \n",
    "3- On calcule δ<sub>g</sub> et δ<sub>d</sub> par appel récursif et on note δ le minimum de ces deux valeurs.\n",
    "\n",
    "4- \n",
    "- Soit x l’abscisse du point médian Ex[n//2] et P l’ensemble des points dont l’abscisse appartient à l’intervalle ]x - δ , x + δ[.\n",
    "- On crée le tableau Py contenant les points de P triés par ordonnées croissantes.\n",
    "- Pour chaque point p de Py, on calcule les distances entre p et les **7 points** qui le **suivent** et on note δ' la plus petite de toutes ces distances.\n",
    "- On renvoie le minimum de δ et de δ'.\n",
    "    \n",
    "*Remarques : Pourquoi les 7 points qui suivent p ?*\n",
    "    \n",
    "*- Pour chaque point p de Py, on ne considère que les points situés au-dessus afin de ne pas considérer chaque paire deux fois : (p, p1) et (p1, p);*\n",
    "\n",
    "*- Pour chaque point p de Py, on considère le rectangle, dont le côté inférieur passe par p, de hauteur δ et de largeur 2δ. S’il existe un point de Py à une distance inférieure à δ\n",
    "de p, alors il est forcément dans ce rectangle.*\n",
    "    \n",
    "*On divise le rectangle en huit carrés de côté δ/2 comme sur le schéma. Alors, il ne peut y avoir au plus qu’un point par carré. En effet, s’il y avait deux points (ou plus) dans un carré, alors ces points seraient du même côté de la ligne L, donc tous les deux dans A ou dans B, et à une distance inférieure à δ/2, ce qui est impossible puisque δ est la distance minimale entre deux points de A ou deux points de B.(La distance la plus grande du carré est sa diagonale soit √2.δ/2 strictement inférieur à δ)\n",
    "\n",
    "Il y a donc au plus 8 points dans ce rectangle, le point p et 7 autres. Il suffit de calculer la distance entre p et les 7 points qui le suivent p dans Py car les autres points sont forcément à une distance plus grande que δ.*\n",
    "\n",
    "</div>"
   ]
  },
  {
   "cell_type": "markdown",
   "metadata": {},
   "source": [
    "<div class=\"alert alert-warning\">\n",
    "<img src=\"Images/CR.png\" alt=\"logo CR\" width=5% align=right>\n",
    "    \n",
    "Travail demandé  \n",
    "\n",
    "    \n",
    "- Compléter les 2 fonctions ci-dessous : \"distance_euclidienne\" et \"plus_proche_paire\".\n",
    "\n",
    "</div>"
   ]
  },
  {
   "cell_type": "code",
   "execution_count": null,
   "metadata": {},
   "outputs": [],
   "source": [
    "from math import sqrt\n",
    "\n",
    "def distance_euclidienne(p:tuple, q:tuple)->float:\n",
    "    \"\"\"\n",
    "    Fonction qui renvoie la distance euclidienne\n",
    "    entre 2 points passés en arguments\n",
    "    \"\"\"\n",
    "    return pass\n",
    "\n",
    "\n",
    "def delta_min_sous_ensemble(Ex:list,n:int)->float:\n",
    "    \"\"\"\n",
    "    Fonction qui renvoie la distance euclidenne\n",
    "    la plus petite entre deux points d'un\n",
    "    sous-ensemble de nuage de points\n",
    "    \"\"\"\n",
    "    min_val = float('inf')  \n",
    "    for i in range(n): \n",
    "        for j in range(i + 1, n):\n",
    "            valeur=distance_euclidienne(Ex[i],Ex[j])\n",
    "            if valeur < min_val: \n",
    "                min_val = valeur \n",
    "    return min_val \n",
    "\n",
    "def recherche_bande(Py:list, delta:float)->float: \n",
    "    \"\"\"  \n",
    "    Fonction qui renvoie la distance euclidienne\n",
    "    la plus petite dans la bande d'une largeur\n",
    "    delta\n",
    "    \"\"\"\n",
    "    min_val = delta  \n",
    "    taille=len(Py)\n",
    "    for i in range(taille): \n",
    "        j = i + 1\n",
    "        while j < taille and (Py[j][1] - Py[i][1]) < min_val: \n",
    "            min_val = distance_euclidienne(Py[i], Py[j]) \n",
    "            j += 1\n",
    "    return min_val  \n",
    "\n",
    "def plus_proche_paire(Ex:list,Ey:list,n:int)->float:\n",
    "    \"\"\"\n",
    "    Fonction qui renvoie la distance euclidenne\n",
    "    la plus petite entre deux points d'un\n",
    "    nuage de points\n",
    "    \"\"\"\n",
    "    # cas terminal\n",
    "    if n<=3:\n",
    "        pass\n",
    "    \n",
    "    \n",
    "    \n",
    "    # création du tableau Py d'ordonnées croissantes\n",
    "    # qui contient les points n'étant pas plus\n",
    "    # éloignés de la ligne centrale L de la distance\n",
    "    # delta\n",
    "    \n",
    "    \n",
    "    return min(delta, recherche_bande(Py, delta)) \n",
    "\n",
    "if __name__=='__main__':\n",
    "        E = [(2, 3), (12, 30),(40, 50), (5, 1), (12, 10), (3, 4)]\n",
    "        Ex=sorted(E, key= lambda x:x[0])\n",
    "        Ey=sorted(E, key= lambda y:y[1])\n",
    "        n=len(E)\n",
    "        print(plus_proche_paire(Ex,Ey,n))"
   ]
  },
  {
   "cell_type": "markdown",
   "metadata": {},
   "source": [
    "<div class=\"alert alert-warning\">\n",
    "<img src=\"Images/CR.png\" alt=\"logo CR\" width=5% align=right>\n",
    "    \n",
    "Travail demandé  \n",
    "\n",
    "    \n",
    "Cet algorithme récursif de type diviser pour régner a une complexité en O(nlog<sub>2</sub>(n)).\n",
    "    \n",
    "- En prenant les mêmes hypothèses que pour la version naïve, quel serait alors le temps d'exécution ?\n",
    "\n",
    "</div>"
   ]
  }
 ],
 "metadata": {
  "kernelspec": {
   "display_name": "Python 3",
   "language": "python",
   "name": "python3"
  },
  "language_info": {
   "codemirror_mode": {
    "name": "ipython",
    "version": 3
   },
   "file_extension": ".py",
   "mimetype": "text/x-python",
   "name": "python",
   "nbconvert_exporter": "python",
   "pygments_lexer": "ipython3",
   "version": "3.8.3"
  },
  "varInspector": {
   "cols": {
    "lenName": 16,
    "lenType": 16,
    "lenVar": 40
   },
   "kernels_config": {
    "python": {
     "delete_cmd_postfix": "",
     "delete_cmd_prefix": "del ",
     "library": "var_list.py",
     "varRefreshCmd": "print(var_dic_list())"
    },
    "r": {
     "delete_cmd_postfix": ") ",
     "delete_cmd_prefix": "rm(",
     "library": "var_list.r",
     "varRefreshCmd": "cat(var_dic_list()) "
    }
   },
   "position": {
    "height": "211.506px",
    "left": "784.994px",
    "right": "20px",
    "top": "145.994px",
    "width": "557.003px"
   },
   "types_to_exclude": [
    "module",
    "function",
    "builtin_function_or_method",
    "instance",
    "_Feature"
   ],
   "window_display": false
  }
 },
 "nbformat": 4,
 "nbformat_minor": 2
}
