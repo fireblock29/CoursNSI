{
 "cells": [
  {
   "cell_type": "markdown",
   "metadata": {},
   "source": [
    "# <center><font face=\"arial\" size=\"5\" color=#0101DF>NUMERIQUE ET SCIENCES INFORMATIQUES 1ère NSI</font></center>"
   ]
  },
  {
   "cell_type": "markdown",
   "metadata": {},
   "source": [
    "## <font color=#013ADF>Séquence N° 9 : Révisions sur les dictionnaires</font>"
   ]
  },
  {
   "cell_type": "markdown",
   "metadata": {},
   "source": [
    "<div class=\"alert alert-warning\">\n",
    "<img src=\"Images/CR.png\" alt=\"logo CR\" width=5% align=right>\n",
    "\n",
    "## Exercice\n",
    "\n",
    "### Répertoire téléphonique\n",
    "    \n",
    "On décide de réorganiser son répertoire téléphonique qui pour l'instant est sous la forme d'un tuple de tuples (voir code ci-dessous).\n",
    "Les raisons de cette réorganisation sont multiples (optimisation de la recherche, séparation des contacts, personnel, profession ou autre ...).\n",
    "\n",
    "**1. Créer une fonction prenant en paramètre l'ancien répertoire et crée un nouveau répertoire ou sous répertoire avec les informations des personnes correspondant à la nature du répertoire (personnel, travail, autre) sous la forme d'un dictionnaire ayant pour clé, l'identité de la personne et pour valeur son numéro de téléphone. Par défaut, la personne sera placée dans le répertoire personnel ;**\n",
    "    \n",
    "**2. Créer une fonction prenant en paramètres, un répertoire, une identié et renvoie son numéro de téléphone si elle est présente dans ce répertoire ;**\n",
    "    \n",
    "**3. Créer une procédure qui insère un contact dans un répertoire ;**\n",
    "    \n",
    "**4. Créer une procédure qui affiche l'ensemble des contacts d'un répertoire ;**\n",
    "    \n",
    "**5. Créer une procédure qui supprime un contact d'une répertoire ;**\n",
    "    \n",
    "**6. Créer une procédure qui modifie le numéro de téléphone d'un contact ;**\n",
    "</div>  "
   ]
  },
  {
   "cell_type": "code",
   "execution_count": null,
   "metadata": {},
   "outputs": [],
   "source": [
    "# Vos fonctions ici\n",
    "\n",
    "\n",
    "\n",
    "if __name__=='__main__':\n",
    "    data_sample=(('Jean Timant', '06 25 25 25 25','travail'),\n",
    "                 ('Irène Jout','05 22 23 24 25', 'personnel'),\n",
    "                 ('Émile Franc','01 02 03 04 05', 'travail'),\n",
    "                 ('Émilie Estac','06 66 36 56 05', 'personnel'))\n",
    "    repertoire_perso=conversion_format(data_sample)\n",
    "    repertoire_professionnel=conversion_format(data_sample, 'travail')\n",
    "    insere_contact(repertoire_perso, 'Jacques Adit', '02 98 88 88 77')\n",
    "    numero= numero_telephone(repertoire_perso,'Irène Jout')\n",
    "    affiche_contacts(repertoire_perso)\n",
    "    supprime_contact(repertoire_perso, 'Irène Jout')\n",
    "    insere_contact(repertoire_professionnel, 'Jacques Adit', '02 98 88 88 77')\n",
    "    modifie_contact(repertoire_professionnel, 'Jacques Adit', '06 26 09 24 03')\n",
    "    affiche_contacts(repertoire_professionnel)"
   ]
  }
 ],
 "metadata": {
  "kernelspec": {
   "display_name": "Python 3",
   "language": "python",
   "name": "python3"
  },
  "language_info": {
   "codemirror_mode": {
    "name": "ipython",
    "version": 3
   },
   "file_extension": ".py",
   "mimetype": "text/x-python",
   "name": "python",
   "nbconvert_exporter": "python",
   "pygments_lexer": "ipython3",
   "version": "3.6.10"
  },
  "varInspector": {
   "cols": {
    "lenName": 16,
    "lenType": 16,
    "lenVar": 40
   },
   "kernels_config": {
    "python": {
     "delete_cmd_postfix": "",
     "delete_cmd_prefix": "del ",
     "library": "var_list.py",
     "varRefreshCmd": "print(var_dic_list())"
    },
    "r": {
     "delete_cmd_postfix": ") ",
     "delete_cmd_prefix": "rm(",
     "library": "var_list.r",
     "varRefreshCmd": "cat(var_dic_list()) "
    }
   },
   "types_to_exclude": [
    "module",
    "function",
    "builtin_function_or_method",
    "instance",
    "_Feature"
   ],
   "window_display": false
  }
 },
 "nbformat": 4,
 "nbformat_minor": 2
}
