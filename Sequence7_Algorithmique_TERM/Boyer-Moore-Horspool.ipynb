{
 "cells": [
  {
   "cell_type": "markdown",
   "metadata": {},
   "source": [
    "# <center><font face=\"arial\" size=\"5\" color=#0101DF>NUMERIQUE ET SCIENCES INFORMATIQUES Terminale NSI</font></center>"
   ]
  },
  {
   "cell_type": "markdown",
   "metadata": {},
   "source": [
    "## <font color=#013ADF>Séquence N° 7 : Algorithmique : Recherche textuelle Boyer-Moore-Horspool</font>"
   ]
  },
  {
   "cell_type": "markdown",
   "metadata": {},
   "source": [
    "<div class=\"alert alert-danger\" role=\"alert\">\n",
    "    \n",
    "Les objectifs de cette séquence sont :\n",
    "\n",
    "- Étudier l'algorithme de Boyer-Moore pour la recherche d'un motif dans un texte.\n",
    "\n",
    "</div>"
   ]
  },
  {
   "cell_type": "markdown",
   "metadata": {},
   "source": [
    "<div class=\"alert alert-warning\">\n",
    "<img src=\"Images/CR.png\" alt=\"logo CR\" width=5% align=right>\n",
    "    \n",
    "Travail préalable   \n",
    "\n",
    "- Lire le chapitre 12, paragraphe 3 du livre ;\n",
    "- Si la longueur du texte est n et la longueur du motif m, quelle est la complexité dans le pire des cas, de la méthode naïve explicitée dans le livre ?\n",
    "- Quel est l'intérêt du pré-traitement du motif ?\n",
    "\n",
    "<div>"
   ]
  },
  {
   "cell_type": "markdown",
   "metadata": {},
   "source": [
    "### 1- Exemple de traitement avec l'algorithme Boyer-Moore-Horspool"
   ]
  },
  {
   "cell_type": "markdown",
   "metadata": {},
   "source": [
    "<div class=\"alert alert-success\">\n",
    "\n",
    "\n",
    "<img src=\"Images/horspool.png\" alt=\"exemple de traitement\" width=80% align=center>   \n",
    "       \n",
    "    \n",
    "<div>"
   ]
  },
  {
   "cell_type": "markdown",
   "metadata": {},
   "source": [
    "<div class=\"alert alert-warning\">\n",
    "<img src=\"Images/CR.png\" alt=\"logo CR\" width=5% align=right>\n",
    "    \n",
    "Travail demandé  \n",
    "\n",
    "- Établir la table de décalage des lettres du motif de l'exemple ci-dessus ;\n",
    "    \n",
    "| Caractères du motif | Décalages |\n",
    "| :-----------------: | :-------: |\n",
    "|          A          |     5     |\n",
    "|          T          |     4     |\n",
    "|          G          |     1     |\n",
    "|          C          |     2     |\n",
    "|       Autres        |     6     |\n",
    "    \n",
    "- Écrire une fonction \"pre_traitement\" qui prend en paramètre le motif et renvoie un dictionnaire ayant pour chaque caractère du motif un couple caractère, position dans le motif ;\n",
    "- Écrire une fonction \"horspool\" qui prend en paramètres le motif et le texte dans lequel on cherche le motif. Celle-ci renvoie False si le motif ne s'y trouve pas ou l'index de la première lettre du motif dans le texte sinon ;\n",
    "- Placer des vérifications sur les pré et postconditions (assertion), ainsi que des tests unitaires (doctest).\n",
    "\n",
    "<div>"
   ]
  },
  {
   "cell_type": "markdown",
   "metadata": {},
   "source": [
    "### 2- Programme"
   ]
  },
  {
   "cell_type": "code",
   "execution_count": 4,
   "metadata": {
    "ExecuteTime": {
     "end_time": "2022-03-15T07:11:05.326701Z",
     "start_time": "2022-03-15T07:11:05.313929Z"
    }
   },
   "outputs": [
    {
     "name": "stdout",
     "output_type": "stream",
     "text": [
      "False\n"
     ]
    }
   ],
   "source": [
    "def pre_traitement(mot:str)->dict:\n",
    "    return {mot[i]:len(mot)-i-1 for i in range(len(mot)-1)}\n",
    "\n",
    "def horspool(mot, chaine):# ou False: bool\n",
    "    assert len(chaine)<=len(mot), \"La chaine recherchée est plus longue que le mot\"\n",
    "    N = len(mot)\n",
    "    n = len(chaine)\n",
    "    dico=pre_traitement(chaine)\n",
    "    i=n-1\n",
    "    while i < N: \n",
    "        if mot[i] == chaine[-1]:\n",
    "            if mot[i-n+1:i+1]==chaine:\n",
    "                return True\n",
    "        if mot[i] in dico.keys():\n",
    "            i+=dico[mot[i]]\n",
    "        else:\n",
    "            i+=n        \n",
    "    return False\n",
    "\n",
    "texte = \"AACATPATGGGATGCGAGG\"\n",
    "motif = \"AACB\"\n",
    "print(horspool(texte,motif))"
   ]
  },
  {
   "cell_type": "code",
   "execution_count": 1,
   "metadata": {
    "ExecuteTime": {
     "end_time": "2022-03-15T07:10:39.113623Z",
     "start_time": "2022-03-15T07:10:39.105122Z"
    }
   },
   "outputs": [],
   "source": [
    "def horspool(mot,chaine):\n",
    "    decal=pre_traitement(mot)\n",
    "    i=len(mot)-1\n",
    "    while i<len(chaine):\n",
    "        j=len(mot)-1\n",
    "        k=i\n",
    "        while chaine[k]==mot[j]:\n",
    "            j-=1\n",
    "            if j<0:\n",
    "                return k\n",
    "            k-=1\n",
    "        i+=decal.get(chaine[i],len(mot))\n",
    "    return False"
   ]
  },
  {
   "cell_type": "raw",
   "metadata": {
    "ExecuteTime": {
     "end_time": "2022-03-14T09:20:40.669347Z",
     "start_time": "2022-03-14T09:20:40.662318Z"
    }
   },
   "source": [
    "O((N-M)*M\n",
    "  Environ égal à O(N*M)"
   ]
  },
  {
   "cell_type": "code",
   "execution_count": 12,
   "metadata": {
    "ExecuteTime": {
     "end_time": "2022-03-14T10:14:19.712646Z",
     "start_time": "2022-03-14T10:14:19.706467Z"
    }
   },
   "outputs": [
    {
     "name": "stdout",
     "output_type": "stream",
     "text": [
      "etatap\n"
     ]
    }
   ],
   "source": [
    "mot = \"patate\"\n",
    "print(mot[::-1])"
   ]
  },
  {
   "cell_type": "code",
   "execution_count": 6,
   "metadata": {
    "ExecuteTime": {
     "end_time": "2022-03-15T07:11:12.035940Z",
     "start_time": "2022-03-15T07:11:12.030395Z"
    }
   },
   "outputs": [
    {
     "name": "stdout",
     "output_type": "stream",
     "text": [
      "True\n"
     ]
    }
   ],
   "source": [
    "texte = \"AACATPATGGGATGCGAGG\"\n",
    "motif = \"AACA\"\n",
    "print(horspool(texte,motif))"
   ]
  },
  {
   "cell_type": "code",
   "execution_count": null,
   "metadata": {},
   "outputs": [],
   "source": []
  }
 ],
 "metadata": {
  "hide_input": false,
  "kernelspec": {
   "display_name": "Python 3.10.6 64-bit",
   "language": "python",
   "name": "python3"
  },
  "language_info": {
   "codemirror_mode": {
    "name": "ipython",
    "version": 3
   },
   "file_extension": ".py",
   "mimetype": "text/x-python",
   "name": "python",
   "nbconvert_exporter": "python",
   "pygments_lexer": "ipython3",
   "version": "3.10.6"
  },
  "nbTranslate": {
   "displayLangs": [
    "*"
   ],
   "hotkey": "alt-t",
   "langInMainMenu": true,
   "sourceLang": "en",
   "targetLang": "fr",
   "useGoogleTranslate": true
  },
  "notify_time": "30",
  "toc": {
   "base_numbering": 1,
   "nav_menu": {},
   "number_sections": true,
   "sideBar": true,
   "skip_h1_title": false,
   "title_cell": "Table of Contents",
   "title_sidebar": "Contents",
   "toc_cell": false,
   "toc_position": {},
   "toc_section_display": true,
   "toc_window_display": false
  },
  "varInspector": {
   "cols": {
    "lenName": 16,
    "lenType": 16,
    "lenVar": 40
   },
   "kernels_config": {
    "python": {
     "delete_cmd_postfix": "",
     "delete_cmd_prefix": "del ",
     "library": "var_list.py",
     "varRefreshCmd": "print(var_dic_list())"
    },
    "r": {
     "delete_cmd_postfix": ") ",
     "delete_cmd_prefix": "rm(",
     "library": "var_list.r",
     "varRefreshCmd": "cat(var_dic_list()) "
    }
   },
   "types_to_exclude": [
    "module",
    "function",
    "builtin_function_or_method",
    "instance",
    "_Feature"
   ],
   "window_display": false
  },
  "vscode": {
   "interpreter": {
    "hash": "916dbcbb3f70747c44a77c7bcd40155683ae19c65e1c03b4aa3499c5328201f1"
   }
  }
 },
 "nbformat": 4,
 "nbformat_minor": 2
}
