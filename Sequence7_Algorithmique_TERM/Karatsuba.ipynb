{
 "cells": [
  {
   "cell_type": "markdown",
   "metadata": {},
   "source": [
    "# <center><font face=\"arial\" size=\"5\" color=#0101DF>NUMERIQUE ET SCIENCES INFORMATIQUES Terminale NSI</font></center>"
   ]
  },
  {
   "cell_type": "markdown",
   "metadata": {},
   "source": [
    "## <font color=#013ADF>Séquence N° 7 : Algorithmique : Diviser pour régner - Ainsi parlait Karatsuba ...</font>"
   ]
  },
  {
   "cell_type": "markdown",
   "metadata": {},
   "source": [
    "<div class=\"alert alert-danger\" role=\"alert\">\n",
    "    \n",
    "Les objectifs de cette séquence sont :\n",
    "\n",
    "- Écrire un algorithme utilisant la méthode \"diviser pour régner\".\n",
    "\n",
    "</div>"
   ]
  },
  {
   "cell_type": "markdown",
   "metadata": {},
   "source": [
    "<div class=\"alert alert-success\">\n",
    "\n",
    "L'algorithme de Karatsuba est un algorithme pour multiplier rapidement deux nombres de n chiffres avec une complexité temporelle en O(n<sup>log2(3)</sup>) ≈ O(n<sup>1,585</sup>) au lieu de O(n<sup>2</sup>) pour la méthode naïve. Il a été développé par Anatolii Alexevich Karatsuba (1937 - 2008) en 1960 et publié en 1962.\n",
    "    \n",
    "*Source : Wikipedia*\n",
    "    \n",
    "</div>"
   ]
  },
  {
   "cell_type": "markdown",
   "metadata": {},
   "source": [
    "### 1- Méthode naïve"
   ]
  },
  {
   "cell_type": "markdown",
   "metadata": {},
   "source": [
    "<div class=\"alert alert-success\">\n",
    "Soit à multiplier 2 nombres entiers 1237 x 2587.\n",
    "\n",
    "La méthode apprise à l'école (qualifiée de naïve ici) consiste à faire 4 mulitplications pour chaque chiffre, soit ici 4 x 4 = 16 multiplications, puis additionner les résultats obtenus pour faire 1237 x 2587 = 3200119\n",
    "</div>"
   ]
  },
  {
   "cell_type": "markdown",
   "metadata": {},
   "source": [
    "### 2- Algorithme de Karatsuba"
   ]
  },
  {
   "cell_type": "markdown",
   "metadata": {},
   "source": [
    "<div class=\"alert alert-success\">\n",
    "    \n",
    "Soit à multiplier 2 nombres entiers 1237 x 2587.\n",
    "\n",
    "    \n",
    "Appelons n, la taille du nombre, c'est-à-dire le nombre de chiffres qu'il le compose. Ici n = 4\n",
    "\n",
    "Divisons en deux chaque nombre  et donnons leurs un identifiant :\n",
    "\n",
    "X = 1237 avec a = 12 et b = 37\n",
    "\n",
    "De même\n",
    "\n",
    "Y = 2587 avec c = 25 et d = 87\n",
    "\n",
    "Avec cette décomposition, on pourra écrire :\n",
    "\n",
    "X = a.10<sup>n/2</sup> + b\t\t(soit X = 12.10<sup>2</sup> + 37)\n",
    "\n",
    "et\n",
    "\n",
    "Y = c.10<sup>n/2</sup> + d\t\t(soit Y = 25.10<sup>2</sup> + 87)\n",
    "\n",
    "Le produit de X . Y = (a.10<sup>n/2</sup> + b).(c.10<sup>n/2</sup> + d)\n",
    "\n",
    "qui développé devient :\n",
    "\n",
    "X . Y = a.c.10<sup>n</sup> + a.d.10<sup>n/2</sup> + b.c.10<sup>n/2</sup> + b.d\n",
    "\n",
    "Une factorisation :\n",
    "\n",
    "X . Y = a.c.10<sup>n</sup> + (a.d + b.c).10<sup>n/2</sup> + b.d\n",
    "\n",
    "Ce nouvel arrangement nécessite 4 multiplications (a.c, a.d, b.c et b.d)\n",
    "\n",
    "Une écriture différente, mais équivalente peut-être faite (vous vérifier en développant et réduisant) :\n",
    "\n",
    "**X . Y = a.c.10<sup>n</sup> + (a.c + b.d - (a - b).(c - d)).10<sup>n/2</sup> + b.d**\n",
    "\n",
    "Cette écriture à l'avantage de faire apparaître le besoin de 3 multiplications pour faire le calcul (a.c, b.d, et (a - b).(c - d))\n",
    "\n",
    "\n",
    "Résolvons notre multiplication à partir de l'équation trouvée :\n",
    "\n",
    "1237 x 2587 =  a.c.10<sup>4</sup> + (a.c + b.d - (a - b).(c - d)).10<sup>2</sup> + b.d\n",
    "\n",
    "où :\n",
    "    \n",
    "a.c = 12 x 25\n",
    "\n",
    "b.d = 37 x 87\t\t\t\n",
    "\n",
    "(a - b).(c - d) = (12 - 37).(25 - 87) = 25 x 62\n",
    "\n",
    "Pour calculer 12 x 25 :\n",
    "\n",
    "on divise chaque nombre en 2 :\n",
    "\n",
    "12 avec a' = 1 et b' = 2\n",
    "\n",
    "25 avec c' = 2 et d' = 5\n",
    "\n",
    "on a maintenant n = 2\n",
    "\n",
    "12 x 25 = a'.c'.10<sup>n</sup> + (a'.c' + b'.d' - (a' - b').(c' - d')).10<sup>n/2</sup> + b'.d'\n",
    "\n",
    "où 3 multiplication à faire :\n",
    "\n",
    "a'.c' = 1 x 2\n",
    "\n",
    "b'.d' = 2 x 5\n",
    "\n",
    "(a' - b').(c' - d') = (1 - 2).(2 - 5) = -1 x -3\n",
    "\n",
    "On arrive à une multiplication de chiffres (multiplication atomique) que l'on résout :\n",
    "\n",
    "a'.c' = 1 x 2 = 2\n",
    "\n",
    "b'.d' = 2 x 5 = 10 \n",
    "\n",
    "(a' - b').(c' - d') = (1 - 2).(2 - 5) = -1 x -3 = 3\t-> soit 3 multiplications\n",
    "\n",
    "On peut déterminer maintenant a.c :\n",
    "\n",
    "a.c = 12 x 25 = 2.10<sup>2</sup> + (2 + 10 - 3).10 + 10 = 200 + 90 +10 = 300\n",
    "\n",
    "De la même manière, on obtient :\n",
    "\n",
    "b.d = 37 x 87 = 24.10<sup>2</sup> + (24 + 49 + 4).10 + 49 = 3219\t-> 3 multiplications de plus\n",
    "\n",
    "et\n",
    "\n",
    "(a - b).(c - d) = 25 x 62 = 12.10<sup>2</sup> + (12 + 10 + 12).10 + 10 = 1550 \t->3 multiplications de plus\n",
    "\n",
    "Le produit devient :\n",
    "\n",
    "1237 x 2587 = 300.10<sup>4</sup> + (300 + 3219 -1550).10<sup>2</sup> + 3219 = 3 200 119\n",
    "\n",
    "\n",
    "</div>"
   ]
  },
  {
   "cell_type": "markdown",
   "metadata": {},
   "source": [
    "<div class=\"alert alert-success\">\n",
    "<img src=\"Images/warning.png\" alt=\"warning\" width=5% align=left>\n",
    "<br><br>\n",
    "    \n",
    "Une nouvelle fois, nous avons utiliser la technique du **Diviser pour régner** pour résoudre le problème. \n",
    "- Nous avons diviser la taille des nombres à multiplier jusqu'à que ceux-ci soit suffisement petits ;\n",
    "- Réaliser le traitement (multiplication) sur de petits nombres de manière récursive ;\n",
    "- Combiner les résultats pour résoudre la solution globale.\n",
    "</div>"
   ]
  },
  {
   "cell_type": "markdown",
   "metadata": {},
   "source": [
    "<div class=\"alert alert-warning\">\n",
    "<img src=\"Images/CR.png\" alt=\"logo CR\" width=5% align=right>\n",
    "    \n",
    "Travail demandé  \n",
    "\n",
    "- Écrire une implémentation python de l'algorithme de Karatsuba ;\n",
    "- Rédiger une docstring ;\n",
    "- Placer des vérifications sur les pré et postconditions (assertion), ainsi que des tests unitaires (doctest);\n",
    "    \n",
    "   \n",
    "*Remarque 1 : On sera attentif aux arrondis des opérations.*\n",
    "\n",
    "</div>"
   ]
  },
  {
   "cell_type": "code",
   "execution_count": 72,
   "metadata": {
    "ExecuteTime": {
     "end_time": "2022-02-02T08:48:38.908714Z",
     "start_time": "2022-02-02T08:48:38.881484Z"
    },
    "code_folding": [
     1,
     2,
     19
    ],
    "run_control": {
     "marked": false
    }
   },
   "outputs": [
    {
     "name": "stdout",
     "output_type": "stream",
     "text": [
      "1474247130.7397223\n",
      "319300475\n"
     ]
    }
   ],
   "source": [
    "from math import ceil\n",
    "def karatsuba(x:int,y:int, t:int=10)->int:\n",
    "    if x < 10 and y < 10: #méthode naïve\n",
    "        return x * y\n",
    "    n=max(len(str(x)),len(str(y)))\n",
    "    m=n//2\n",
    "    \n",
    "    a,b=x//(10**m),x%(10**m)\n",
    "    c,d=y//(10**m),y%(10**m)\n",
    "    \n",
    "    ac=karatsuba(a,c)\n",
    "    bd=karatsuba(b,d)\n",
    "    ad=karatsuba(a,d)\n",
    "    bc=karatsuba(b,c)\n",
    "    k=karatsuba((a-b),(c-d))\n",
    "    s=ad+bc\n",
    "    return ac*(10**(n))+(s)*(10**m)+bd\n",
    "    \n",
    "    \n",
    "if __name__=='__main__':\n",
    "    from doctest import testmod\n",
    "    testmod()\n",
    "    print(karatsuba(123425, 2587))\n",
    "    print(123425 * 2587)"
   ]
  },
  {
   "cell_type": "code",
   "execution_count": null,
   "metadata": {},
   "outputs": [],
   "source": [
    "X . Y = a.c.10n + (a.c + b.d - (a - b).(c - d)).10n/2 + b.d"
   ]
  },
  {
   "cell_type": "code",
   "execution_count": 33,
   "metadata": {
    "ExecuteTime": {
     "end_time": "2022-02-02T08:11:09.576141Z",
     "start_time": "2022-02-02T08:11:09.551622Z"
    },
    "code_folding": [
     1,
     12
    ],
    "run_control": {
     "marked": false
    }
   },
   "outputs": [
    {
     "name": "stdout",
     "output_type": "stream",
     "text": [
      "3200119\n",
      "3200119\n"
     ]
    }
   ],
   "source": [
    "from math import ceil\n",
    "def karatsuba(x:int,y:int, t:int=10)->int:\n",
    "    if x < 10 and y < 10: #méthode naïve\n",
    "        return x * y\n",
    "    n=max(len(str(x)),len(str(y)))\n",
    "    m=ceil(n/2)\n",
    "    a,b=int(str(x)[:m]),int(str(x)[m:])\n",
    "    c,d=int(str(y)[:m]),int(str(y)[m:])\n",
    "    return karatsuba(a,c)*10**n+(karatsuba(a,c)+karatsuba(b,d)-karatsuba(a-b,c-d))*10**m+karatsuba(b,d)\n",
    "    \n",
    "    \n",
    "\n",
    "if __name__=='__main__':\n",
    "    from doctest import testmod\n",
    "    testmod()\n",
    "    print(karatsuba(1237, 2587))\n",
    "    print(1237 * 2587)"
   ]
  },
  {
   "cell_type": "code",
   "execution_count": 1,
   "metadata": {
    "ExecuteTime": {
     "end_time": "2022-02-22T06:44:27.927118Z",
     "start_time": "2022-02-22T06:44:27.893765Z"
    },
    "run_control": {
     "marked": false
    }
   },
   "outputs": [
    {
     "name": "stdout",
     "output_type": "stream",
     "text": [
      "résultat:  2211\n",
      "2211\n"
     ]
    }
   ],
   "source": [
    "def karatsuba(x:int, y:int)->int:\n",
    "    \"\"\"\n",
    "    Implémente l'algorithme de Karatsuba\n",
    "    Prend en arguments, 2 entiers à multiplier, et\n",
    "    renvoie le produit des ces deux entiers\n",
    "    >>> karatsuba(1237,2587)\n",
    "    3200119\n",
    "    >>> karatsuba(278141237,2545887)\n",
    "    708116159442219\n",
    "    \"\"\"\n",
    "    assert type(x)==int and type(y)==int,'Les nombres doivent être des entiers'\n",
    "    \n",
    "    # Cas de terminaison\n",
    "    if x < 10 and y < 10:\n",
    "        return x * y\n",
    "\n",
    "    #n est déjà divisé par 2\n",
    "    n = max(len(str(abs(x))), len(str(abs(y))))//2 \n",
    "\n",
    "    # divise en 2 parties\n",
    "    a = x//(10**n)\n",
    "    b = x%(10**n)\n",
    "    # divise en 2 parties\n",
    "    c = y//(10**n)\n",
    "    d = y%(10**n)\n",
    "\n",
    "    s1 = karatsuba(a,c)\n",
    "    s2 = karatsuba(b,d)\n",
    "    s3 = karatsuba(a-b,c-d)\n",
    "    s4 = s1 + s2 - s3\n",
    "   \n",
    "    return s1*10**(2*n)+(s4*10**n)+s2\n",
    "\n",
    "#Programme principal\n",
    "if __name__=='__main__':\n",
    "    from doctest import testmod\n",
    "    testmod()\n",
    "    assert karatsuba(14570000,895567)==14570000*895567\n",
    "    print('résultat: ', karatsuba(11, 201))\n",
    "    print(11 * 201)\n"
   ]
  },
  {
   "cell_type": "code",
   "execution_count": null,
   "metadata": {},
   "outputs": [],
   "source": []
  }
 ],
 "metadata": {
  "hide_input": false,
  "kernelspec": {
   "display_name": "Python 3",
   "language": "python",
   "name": "python3"
  },
  "language_info": {
   "codemirror_mode": {
    "name": "ipython",
    "version": 3
   },
   "file_extension": ".py",
   "mimetype": "text/x-python",
   "name": "python",
   "nbconvert_exporter": "python",
   "pygments_lexer": "ipython3",
   "version": "3.6.10"
  },
  "latex_envs": {
   "LaTeX_envs_menu_present": true,
   "autoclose": false,
   "autocomplete": true,
   "bibliofile": "biblio.bib",
   "cite_by": "apalike",
   "current_citInitial": 1,
   "eqLabelWithNumbers": true,
   "eqNumInitial": 1,
   "hotkeys": {
    "equation": "Ctrl-E",
    "itemize": "Ctrl-I"
   },
   "labels_anchors": false,
   "latex_user_defs": false,
   "report_style_numbering": false,
   "user_envs_cfg": false
  },
  "nbTranslate": {
   "displayLangs": [
    "*"
   ],
   "hotkey": "alt-t",
   "langInMainMenu": true,
   "sourceLang": "en",
   "targetLang": "fr",
   "useGoogleTranslate": true
  },
  "toc": {
   "base_numbering": 1,
   "nav_menu": {},
   "number_sections": true,
   "sideBar": true,
   "skip_h1_title": false,
   "title_cell": "Table of Contents",
   "title_sidebar": "Contents",
   "toc_cell": false,
   "toc_position": {},
   "toc_section_display": true,
   "toc_window_display": false
  },
  "varInspector": {
   "cols": {
    "lenName": 16,
    "lenType": 16,
    "lenVar": 40
   },
   "kernels_config": {
    "python": {
     "delete_cmd_postfix": "",
     "delete_cmd_prefix": "del ",
     "library": "var_list.py",
     "varRefreshCmd": "print(var_dic_list())"
    },
    "r": {
     "delete_cmd_postfix": ") ",
     "delete_cmd_prefix": "rm(",
     "library": "var_list.r",
     "varRefreshCmd": "cat(var_dic_list()) "
    }
   },
   "position": {
    "height": "144.517px",
    "left": "1230px",
    "right": "20px",
    "top": "119px",
    "width": "350px"
   },
   "types_to_exclude": [
    "module",
    "function",
    "builtin_function_or_method",
    "instance",
    "_Feature"
   ],
   "window_display": false
  }
 },
 "nbformat": 4,
 "nbformat_minor": 2
}
