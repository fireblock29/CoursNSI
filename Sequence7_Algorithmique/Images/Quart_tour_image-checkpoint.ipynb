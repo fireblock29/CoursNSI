{
 "cells": [
  {
   "cell_type": "markdown",
   "metadata": {},
   "source": [
    "# <center><font face=\"arial\" size=\"5\" color=#0101DF>NUMERIQUE ET SCIENCES INFORMATIQUES Terminale NSI</font></center>"
   ]
  },
  {
   "cell_type": "markdown",
   "metadata": {},
   "source": [
    "## <font color=#013ADF>Séquence N° 7 : Algorithmique : Diviser pour régner - Au quart de tour ...</font>"
   ]
  },
  {
   "cell_type": "markdown",
   "metadata": {},
   "source": [
    "<div class=\"alert alert-danger\" role=\"alert\">\n",
    "    \n",
    "Les objectifs de cette séquence sont :\n",
    "\n",
    "- Écrire un algorithme utilisant la méthode \"diviser pour régner\".\n",
    "\n",
    "</div>"
   ]
  },
  {
   "cell_type": "markdown",
   "metadata": {},
   "source": [
    "### 1- Rotation d'une image"
   ]
  },
  {
   "cell_type": "markdown",
   "metadata": {},
   "source": [
    "<div class=\"alert alert-success\">\n",
    "    \n",
    "**Pour simplifier l'étude, on considère que l’image est carrée (matrice : hauteur = largeur) et que cette dimension est une puissance de 2 (1024, 512, ...).**\n",
    "    \n",
    "    \n",
    "</div>"
   ]
  },
  {
   "cell_type": "markdown",
   "metadata": {},
   "source": [
    "#### 1-1 Algorithme simple"
   ]
  },
  {
   "cell_type": "markdown",
   "metadata": {},
   "source": [
    "<div class=\"alert alert-warning\">\n",
    "<img src=\"Images/CR.png\" alt=\"logo CR\" width=5% align=right>\n",
    "    \n",
    "Travail demandé  \n",
    "\n",
    "- Donner les expressions des coordonnées (x,y) en fonction de n et de la rotation souhaitée : trigonométrique, horaire ;\n",
    "- Écrire un programme utilisant la bibliothèque PIL qui :\n",
    "    - charge en mémoire une image carrée (Raz_sein.jpg);\n",
    "<img src=\"Images/Raz_sein.jpg\" alt=\"Raz de Sein\" width=10% align=right>\n",
    "    - crée une nouvelle image de même caractéristique ;\n",
    "    - tourne cette nouvelle image de 90°.\n",
    "- Évaluer les complexités temporelle et spaciale (mémoire) de votre application.\n",
    "\n",
    "Un petit schéma fait parfois gagner du temps :\n",
    "\n",
    "<img src=\"Images/image.png\" alt=\"coordonnées des pixels\" width=50% align=center>\n",
    "</div>"
   ]
  },
  {
   "cell_type": "markdown",
   "metadata": {},
   "source": [
    "<div class=\"alert alert-warning\">\n",
    "<img src=\"Images/CR.png\" alt=\"logo CR\" width=5% align=right>\n",
    "    \n",
    "Les opérations \"getpixel\" et putpixel\" sont unitaires. Quelle est la complexité temporelle et spaciale (mémoire) de l'application ?\n",
    "</div>"
   ]
  },
  {
   "cell_type": "markdown",
   "metadata": {},
   "source": [
    "#### 1-2 Algorithme de type \"Diviser pour régner\""
   ]
  },
  {
   "cell_type": "markdown",
   "metadata": {},
   "source": [
    "<div class=\"alert alert-success\">\n",
    "    \n",
    "https://www.youtube.com/watch?v=OXo-uzzD4Js\n",
    "    \n",
    "Il s'agit d'un algorithme de type **Diviser pour régner**. \n",
    "    \n",
    "<img src=\"Images/principe_rotation_image.png\" alt=\"Quart de tour\" width=80% align=center>\n",
    "    \n",
    "    \n",
    "</div>"
   ]
  },
  {
   "cell_type": "markdown",
   "metadata": {},
   "source": [
    "<div class=\"alert alert-warning\">\n",
    "<img src=\"Images/CR.png\" alt=\"logo CR\" width=5% align=right>\n",
    "    \n",
    "\n",
    "Travail demandé\n",
    "    \n",
    "- Si l'on réalise ces 3 permutations sur une photo découpée, que constate-t-on ?\n",
    "    \n",
    "- Si on décide de diviser récursivement les quadrants quand va-t-on s'arrêter ? (cas d'arrêt de la récursivité)\n",
    "- Si on grossit une zone de l'image jusqu'à une pixelisation importante (comme ci-dessous), que peut-on dire de la couleur d'un pixel ? Que faut-il faire pour orienter ce pixel dans la bonne direction ?\n",
    "    \n",
    "<img src=\"Images/zoom.png\" alt=\"zoom_image\" width=20% align=center>\n",
    "\n",
    "    \n",
    "- Écrire une procédure \"echange_pixel\" qui échange 2 pixels de coordonnées (x0,y0) et (x1,y1) sur une image ;\n",
    "- Écrire une procédure \"echange_quadrant\", utilisant la procédure précédente pour \"balayer\" le quart d'une image ;\n",
    "\n",
    "On donne ci-dessous l'arbre des appels récursifs pour une image de 4 x 4 pixels représentant l'exécution de la procédure 'tourne_quadrants\" fournie également.\n",
    "    \n",
    "Dans cette procédure, l'image n'est pas passée en argument, seules nous intéressent les coordonnées des pixels. Également, on a remplacé un véritable échange de pixels par l'affichage des coordonnées de ceux-ci, avec les paramètres courants de l'appel récursif.\n",
    "    \n",
    "- En utilisant python tutor en ligne, comprendre le déroulement de la procédure \"tourne_quadrants\" ;\n",
    "- Compléter la procédure récursive \"tourne_quadrants\" en lui passant en argument une image et en réalisant l'échange des quadrants ;\n",
    "- Écrire une procédure \"tourne_image\" qui vérifie les dimensions de l'image (image carrée) et lance la procédure \"tourne_quadrants\" ;\n",
    "- Évaluer la complexité spaciale (mémoire) de votre application. En déduire son intérêt.\n",
    "\n",
    "</div>"
   ]
  },
  {
   "cell_type": "markdown",
   "metadata": {},
   "source": [
    "<div class=\"alert alert-success\">\n",
    "    \n",
    "   \n",
    "<img src=\"Images/procedure_tourne_quadrants.png\" alt=\"Appels récursifs\" width=100% align=center>\n",
    "\n",
    "\n",
    "</div>"
   ]
  },
  {
   "cell_type": "code",
   "execution_count": null,
   "metadata": {},
   "outputs": [],
   "source": [
    "# http://www.pythontutor.com/visualize.html#mode=edit\n",
    "\n",
    "def tourne_quadrants(x0,y0,n):\n",
    "    \"\"\"\n",
    "    Taille minimum du quadrant à tourner 2 x 2\n",
    "    \"\"\"\n",
    "    if n<2:\n",
    "        return None\n",
    "    m=n//2\n",
    "    tourne_quadrants(x0,y0,m)\n",
    "    tourne_quadrants(x0,y0+m,m)\n",
    "    tourne_quadrants(x0+m,y0,m)\n",
    "    tourne_quadrants(x0+m,y0+m,m)\n",
    "    print(x0,y0,n,m, '-> Échange')\n",
    "\n",
    "tourne_quadrants(0,0,4)"
   ]
  },
  {
   "cell_type": "markdown",
   "metadata": {},
   "source": [
    "<div class=\"alert alert-success\">\n",
    "    \n",
    "   \n",
    "<img src=\"Images/permutation_quadrants.png\" alt=\"Permutation_quadrants\" width=100% align=center>\n",
    "\n",
    "*Remarque : on aurait pu également faire une rotation circulaire des quadrants.*\n",
    "</div>"
   ]
  }
 ],
 "metadata": {
  "kernelspec": {
   "display_name": "Python 3",
   "language": "python",
   "name": "python3"
  },
  "language_info": {
   "codemirror_mode": {
    "name": "ipython",
    "version": 3
   },
   "file_extension": ".py",
   "mimetype": "text/x-python",
   "name": "python",
   "nbconvert_exporter": "python",
   "pygments_lexer": "ipython3",
   "version": "3.8.3"
  },
  "varInspector": {
   "cols": {
    "lenName": 16,
    "lenType": 16,
    "lenVar": 40
   },
   "kernels_config": {
    "python": {
     "delete_cmd_postfix": "",
     "delete_cmd_prefix": "del ",
     "library": "var_list.py",
     "varRefreshCmd": "print(var_dic_list())"
    },
    "r": {
     "delete_cmd_postfix": ") ",
     "delete_cmd_prefix": "rm(",
     "library": "var_list.r",
     "varRefreshCmd": "cat(var_dic_list()) "
    }
   },
   "position": {
    "height": "144.517px",
    "left": "1230px",
    "right": "20px",
    "top": "119px",
    "width": "350px"
   },
   "types_to_exclude": [
    "module",
    "function",
    "builtin_function_or_method",
    "instance",
    "_Feature"
   ],
   "window_display": false
  }
 },
 "nbformat": 4,
 "nbformat_minor": 2
}
