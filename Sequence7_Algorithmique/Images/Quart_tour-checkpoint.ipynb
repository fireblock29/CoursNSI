{
 "cells": [
  {
   "cell_type": "markdown",
   "metadata": {},
   "source": [
    "# <center><font face=\"arial\" size=\"5\" color=#0101DF>NUMERIQUE ET SCIENCES INFORMATIQUES Terminale NSI</font></center>"
   ]
  },
  {
   "cell_type": "markdown",
   "metadata": {},
   "source": [
    "## <font color=#013ADF>Séquence N° 9 : Algorithmique : Diviser pour régner - Au quart de tour ...</font>"
   ]
  },
  {
   "cell_type": "markdown",
   "metadata": {},
   "source": [
    "<div class=\"alert alert-danger\" role=\"alert\">\n",
    "    \n",
    "Les objectifs de cette séquence sont :\n",
    "\n",
    "- Écrire un algorithme utilisant la méthode \"diviser pour régner\".\n",
    "\n",
    "</div>"
   ]
  },
  {
   "cell_type": "markdown",
   "metadata": {},
   "source": [
    "### 1- Rotation d'une image"
   ]
  },
  {
   "cell_type": "markdown",
   "metadata": {},
   "source": [
    "#### 1-1 Algorithme simple"
   ]
  },
  {
   "cell_type": "markdown",
   "metadata": {},
   "source": [
    "<div class=\"alert alert-warning\">\n",
    "<img src=\"Images/CR.png\" alt=\"logo CR\" width=5% align=right>\n",
    "    \n",
    "Travail demandé  \n",
    "\n",
    "- Donnner les expressions des coordonnées (x,y) en fonction de n et de la rotation souhaitée : trigonométrique, horaire ;\n",
    "- Écrire un programme utilisant la bibliothèque PIL qui :\n",
    "    - charge en mémoire une image carrée (tux.png);\n",
    "<img src=\"Images/tux.png\" alt=\"tux\" width=10% align=right>\n",
    "    - crée une nouvelle image de même caractéristique ;\n",
    "    - tourne cette nouvelle image de 90°.\n",
    "- Évaluer les complexités temporelle et spaciale (mémoire) de votre application.\n",
    "\n",
    "Un petit schéma fait parfois gagner du temps :\n",
    "\n",
    "<img src=\"Images/image.png\" alt=\"coordonnées des pixels\" width=50% align=center>\n",
    "</div>"
   ]
  },
  {
   "cell_type": "markdown",
   "metadata": {},
   "source": [
    "<div class=\"alert alert-warning\">\n",
    "<img src=\"Images/CR.png\" alt=\"logo CR\" width=5% align=right>\n",
    "    \n",
    "Les opérations \"getpixel\" et putpixel\" sont unitaires. Quelle est la complexité temporelle et spaciale (mémoire) de l'application ?\n",
    "</div>"
   ]
  },
  {
   "cell_type": "markdown",
   "metadata": {},
   "source": [
    "#### 1-2 Algorithme de type \"Diviser pour régner\""
   ]
  },
  {
   "cell_type": "markdown",
   "metadata": {},
   "source": [
    "<div class=\"alert alert-success\">\n",
    "    \n",
    "https://www.youtube.com/watch?v=OXo-uzzD4Js\n",
    "    \n",
    "Le traitement se fait sur une image carrée. Il s'agit d'un algorithme de type **Diviser pour régner**. \n",
    "    \n",
    "<img src=\"Images/principe_rotation_image.png\" alt=\"Quart de tour\" width=80% align=center>\n",
    "    \n",
    "\n",
    "</div>"
   ]
  },
  {
   "cell_type": "markdown",
   "metadata": {},
   "source": [
    "<div class=\"alert alert-warning\">\n",
    "<img src=\"Images/CR.png\" alt=\"logo CR\" width=5% align=right>\n",
    "    \n",
    "Travail demandé  \n",
    "\n",
    "- Écrire une procédure \"echange_pixel\" qui échange 2 pixels de coordonnées (x0,y0) et (x1,y1) sur une image ;\n",
    "- Écrire une procédure \"echange_quadrant\", utilisant la procédure précédente pour \"balayer le quart de l'image ;\n",
    "- Écrire une procédure \"tourne_quadrants\" récursive qui réalise la rotation des quadrants ;\n",
    "- Écrire une procédure \"tourne_image\" qui vérifie les dimensions de l'image et lance la procédure \"tourne_quadrants\" ;\n",
    "- Évaluer les complexités temporelle et spaciale (mémoire) de votre application.\n",
    "\n",
    "</div>"
   ]
  }
 ],
 "metadata": {
  "kernelspec": {
   "display_name": "Python 3",
   "language": "python",
   "name": "python3"
  },
  "language_info": {
   "codemirror_mode": {
    "name": "ipython",
    "version": 3
   },
   "file_extension": ".py",
   "mimetype": "text/x-python",
   "name": "python",
   "nbconvert_exporter": "python",
   "pygments_lexer": "ipython3",
   "version": "3.8.3"
  },
  "varInspector": {
   "cols": {
    "lenName": 16,
    "lenType": 16,
    "lenVar": 40
   },
   "kernels_config": {
    "python": {
     "delete_cmd_postfix": "",
     "delete_cmd_prefix": "del ",
     "library": "var_list.py",
     "varRefreshCmd": "print(var_dic_list())"
    },
    "r": {
     "delete_cmd_postfix": ") ",
     "delete_cmd_prefix": "rm(",
     "library": "var_list.r",
     "varRefreshCmd": "cat(var_dic_list()) "
    }
   },
   "position": {
    "height": "144.517px",
    "left": "1230px",
    "right": "20px",
    "top": "119px",
    "width": "350px"
   },
   "types_to_exclude": [
    "module",
    "function",
    "builtin_function_or_method",
    "instance",
    "_Feature"
   ],
   "window_display": false
  }
 },
 "nbformat": 4,
 "nbformat_minor": 2
}
