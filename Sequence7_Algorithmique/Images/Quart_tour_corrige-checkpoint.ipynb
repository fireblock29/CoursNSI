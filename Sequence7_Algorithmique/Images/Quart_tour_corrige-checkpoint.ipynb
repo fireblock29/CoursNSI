{
 "cells": [
  {
   "cell_type": "markdown",
   "metadata": {},
   "source": [
    "# <center><font face=\"arial\" size=\"5\" color=#0101DF>NUMERIQUE ET SCIENCES INFORMATIQUES Terminale NSI</font></center>"
   ]
  },
  {
   "cell_type": "markdown",
   "metadata": {},
   "source": [
    "## <font color=#013ADF>Séquence N° 9 : Algorithmique : Diviser pour régner - Au quart de tour ...</font>"
   ]
  },
  {
   "cell_type": "markdown",
   "metadata": {},
   "source": [
    "<div class=\"alert alert-danger\" role=\"alert\">\n",
    "    \n",
    "Les objectifs de cette séquence sont :\n",
    "\n",
    "- Écrire un algorithme utilisant la méthode \"diviser pour régner\".\n",
    "\n",
    "</div>"
   ]
  },
  {
   "cell_type": "markdown",
   "metadata": {},
   "source": [
    "### 1- Rotation d'une image"
   ]
  },
  {
   "cell_type": "markdown",
   "metadata": {},
   "source": [
    "#### 1-1 Algorithme simple"
   ]
  },
  {
   "cell_type": "markdown",
   "metadata": {},
   "source": [
    "<div class=\"alert alert-warning\">\n",
    "<img src=\"Images/CR.png\" alt=\"logo CR\" width=5% align=right>\n",
    "    \n",
    "Travail demandé  \n",
    "\n",
    "- Donnner les expressions des coordonnées (x,y) en fonction de n et de la rotation souhaitée : trigonométrique, horaire ;\n",
    "- Écrire un programme utilisant la bibliothèque PIL qui :\n",
    "    - charge en mémoire une image carrée (Raz_sein.jpg);\n",
    "<img src=\"Images/Raz_sein.jpg\" alt=\"Raz de Sein\" width=10% align=right>\n",
    "    - crée une nouvelle image de même caractéristique ;\n",
    "    - tourne cette nouvelle image de 90°.\n",
    "- Évaluer les complexités temporelle et spaciale (mémoire) de votre application.\n",
    "\n",
    "Un petit schéma fait parfois gagner du temps :\n",
    "\n",
    "<img src=\"Images/image.png\" alt=\"coordonnées des pixels\" width=50% align=center>\n",
    "</div>"
   ]
  },
  {
   "cell_type": "markdown",
   "metadata": {},
   "source": [
    "<div class=\"alert alert-danger\" role=\"alert\">\n",
    "    \n",
    "Rotation trigo : x = n - 1 - y, y = x\n",
    "    \n",
    "Rotation horaire : x = y, y= n - 1 - x\n",
    "    \n",
    "<div>"
   ]
  },
  {
   "cell_type": "code",
   "execution_count": 2,
   "metadata": {},
   "outputs": [],
   "source": [
    "# importation des librairies\n",
    "import sys\n",
    "from PIL import Image\n",
    "\n",
    "def ouvre_fichier(nom_fichier):\n",
    "    \"\"\"\n",
    "    Ouvre s'il existe le fichier\n",
    "    passé en paramètre\n",
    "    \"\"\"\n",
    "    ImageFile = nom_fichier\n",
    "    try:\n",
    "        mon_image = Image.open(ImageFile)\n",
    "        largeur, hauteur = mon_image.size\n",
    "        assert largeur==hauteur,\"L'image n'est pas carrée\"\n",
    "        return mon_image,largeur\n",
    "    except :\n",
    "        print ('Erreur sur ouverture du fichier ',ImageFile)\n",
    "        sys.exit(1)\n",
    "\n",
    "def rotation_image(n,im):\n",
    "    \"\"\"\n",
    "    Rotation de l'image passée en argument\n",
    "    \"\"\"\n",
    "    for x in range(n):\n",
    "        for y in range(n):\n",
    "            \"\"\"\n",
    "            Comme i et j vont de 0 à n-1\n",
    "            on accède aux ordonnées avec\n",
    "            n - 1 - y\n",
    "            \"\"\"\n",
    "            # rotation sens horaire\n",
    "            rot_image.putpixel((x,y), im.getpixel((y,n-1-x)))\n",
    "            # Ou dans l'autre sens trigo !\n",
    "            #rot_image.putpixel((x,y), im.getpixel((n-1-y,x)))\n",
    "    \n",
    "if __name__=='__main__':\n",
    "    fichier_source='Images/Raz_sein.jpg'\n",
    "    fichier_cible='Images/Raz_sein_tourne.jpg'\n",
    "    init_image,cote=ouvre_fichier(fichier_source)\n",
    "    rot_image=Image.new(\"RGB\",(cote,cote)) # création d'une nouvelle image de taille identique\n",
    "    rotation_image(cote, init_image)\n",
    "    rot_image.save(fichier_cible)"
   ]
  },
  {
   "cell_type": "markdown",
   "metadata": {},
   "source": [
    "<div class=\"alert alert-warning\">\n",
    "<img src=\"Images/CR.png\" alt=\"logo CR\" width=5% align=right>\n",
    "    \n",
    "Les opérations \"getpixel\" et putpixel\" sont unitaires. Quelle est la complexité temporelle et spaciale (mémoire) de l'application ?\n",
    "</div>"
   ]
  },
  {
   "cell_type": "markdown",
   "metadata": {},
   "source": [
    "<div class=\"alert alert-danger\" role=\"alert\">\n",
    "    \n",
    "2 boucles imbriquées sur la valeur du coté de l'image soit n<sup>2</sup>.\n",
    "    \n",
    "Il faut créer une nouvelle image soit n x n pixels. Un pixel comporte 3 composantes : R, V et B sur 1 octet chacune soit une complexité spaciale n<sup>2</sup>\n",
    "    \n",
    "<div>"
   ]
  },
  {
   "cell_type": "markdown",
   "metadata": {},
   "source": [
    "#### 1-2 Algorithme de type \"Diviser pour régner\""
   ]
  },
  {
   "cell_type": "markdown",
   "metadata": {},
   "source": [
    "<div class=\"alert alert-success\">\n",
    "    \n",
    "https://www.youtube.com/watch?v=OXo-uzzD4Js\n",
    "    \n",
    "Le traitement se fait sur une image carrée. Il s'agit d'un algorithme de type **Diviser pour régner**. \n",
    "    \n",
    "<img src=\"Images/principe_rotation_image.png\" alt=\"Quart de tour\" width=80% align=center>\n",
    "\n",
    "\n",
    "</div>"
   ]
  },
  {
   "cell_type": "markdown",
   "metadata": {},
   "source": [
    "<div class=\"alert alert-warning\">\n",
    "<img src=\"Images/CR.png\" alt=\"logo CR\" width=5% align=right>\n",
    "    \n",
    "\n",
    "Travail demandé\n",
    "    \n",
    "- Écrire une procédure \"echange_pixel\" qui échange 2 pixels de coordonnées (x0,y0) et (x1,y1) sur une image ;\n",
    "- Écrire une procédure \"echange_quadrant\", utilisant la procédure précédente pour \"balayer\" le quart d'une image ;\n",
    "\n",
    "On donne ci-dessous l'arbre des appels récursifs pour une image de 4 x 4 pixels représentant l'exécution de la procédure 'tourne_quadrants\" fournie également.\n",
    "    \n",
    "Dans cette procédure, l'image n'est pas passée en argument, seules nous intéressent les coordonnées des pixels. Également, on a remplacé un véritable échange de pixels par l'affichage des coordonnées de ceux-ci, avec les paramètres courants de l'appel récursif.\n",
    "    \n",
    "- En utilisant python tutor en ligne, comprendre le déroulement de la procédure \"tourne_quadrants\" ;\n",
    "- Compléter la procédure récursive \"tourne_quadrants\" en lui passant en argument une image et en réalisant l'échange des quadrants ;\n",
    "- Écrire une procédure \"tourne_image\" qui vérifie les dimensions de l'image (image carrée) et lance la procédure \"tourne_quadrants\" ;\n",
    "- Évaluer les complexités temporelle et spaciale (mémoire) de votre application.\n",
    "\n",
    "</div>"
   ]
  },
  {
   "cell_type": "markdown",
   "metadata": {},
   "source": [
    "<div class=\"alert alert-success\">\n",
    "    \n",
    "   \n",
    "<img src=\"Images/procedure_tourne_quadrants.png\" alt=\"Appels récursifs\" width=100% align=center>\n",
    "\n",
    "\n",
    "</div>"
   ]
  },
  {
   "cell_type": "code",
   "execution_count": null,
   "metadata": {},
   "outputs": [],
   "source": [
    "# http://www.pythontutor.com/visualize.html#mode=edit\n",
    "\n",
    "def tourne_quadrants(x0,y0,n):\n",
    "    \"\"\"\n",
    "    Taille minimum du quadrant à tourner 2 x 2\n",
    "    \"\"\"\n",
    "    if n<2:\n",
    "        return None\n",
    "    m=n//2\n",
    "    tourne_quadrants(x0,y0,m)\n",
    "    tourne_quadrants(x0,y0+m,m)\n",
    "    tourne_quadrants(x0+m,y0,m)\n",
    "    tourne_quadrants(x0+m,y0+m,m)\n",
    "    print(x0,y0,n,m '-> Échange')\n",
    "\n",
    "tourne_quadrants(0,0,4)"
   ]
  },
  {
   "cell_type": "markdown",
   "metadata": {},
   "source": [
    "<div class=\"alert alert-success\">\n",
    "    \n",
    "   \n",
    "<img src=\"Images/permutation_quadrants.png\" alt=\"Permutation_quadrants\" width=100% align=center>\n",
    "\n",
    "\n",
    "</div>"
   ]
  },
  {
   "cell_type": "code",
   "execution_count": 4,
   "metadata": {},
   "outputs": [],
   "source": [
    "import sys\n",
    "from PIL import Image\n",
    "\n",
    "def echange_pixel(im, x0,y0,x1,y1):\n",
    "    temp=im.getpixel((x0,y0))\n",
    "    im.putpixel((x0,y0),im.getpixel((x1,y1)))\n",
    "    im.putpixel((x1,y1),temp)\n",
    "    \n",
    "def echange_quadrant(im, x0,y0,x1,y1,n):\n",
    "    \"\"\"\n",
    "    Déplace le pixel dans un autre\n",
    "    quadrant aux mêmes coordonnées\n",
    "    \"\"\"\n",
    "    for i in range(n):\n",
    "        for j in range(n):\n",
    "            echange_pixel(im,x0+i,y0+j,x1+i,y1+j)\n",
    "            \n",
    "def tourne_quadrants(im,x0,y0,n):\n",
    "    \"\"\"\n",
    "    Taille minimum du quadrant à tourner 2 x 2\n",
    "    \"\"\"\n",
    "    if n<2:\n",
    "        return None\n",
    "    m=n//2\n",
    "    tourne_quadrants(im,x0,y0,m) # Divise le quadrant 0 jusqu'à avoir un tableau de 2 x 2\n",
    "    tourne_quadrants(im,x0,y0+m,m) # Idem pour le quadrant 2\n",
    "    tourne_quadrants(im,x0+m,y0,m) # Idem pour le quadrant 1\n",
    "    tourne_quadrants(im,x0+m,y0+m,m) # Idem pour le quadrant 3\n",
    "    echange_quadrant(im,x0,y0,x0+m,y0,m)\n",
    "    echange_quadrant(im,x0,y0,x0+m,y0+m,m)\n",
    "    echange_quadrant(im,x0,y0,x0,y0+m,m)\n",
    "\n",
    "def tourne_image(nom_fichier,sauvegarde):\n",
    "    \"\"\"\n",
    "    Ouvre s'il existe le fichier\n",
    "    passé en paramètre\n",
    "    \"\"\"\n",
    "    ImageFile = nom_fichier\n",
    "    try:\n",
    "        mon_image = Image.open(ImageFile)\n",
    "        largeur, hauteur = mon_image.size\n",
    "        assert largeur==hauteur,\"L'image n'est pas carrée\"\n",
    "        tourne_quadrants(mon_image,0,0,largeur)\n",
    "        mon_image.save(sauvegarde)\n",
    "    except :\n",
    "        print ('Erreur sur ouverture du fichier ',ImageFile)\n",
    "        sys.exit(1)\n",
    "    \n",
    "    \n",
    "if __name__=='__main__':\n",
    "    fichier_source='Images/Raz_sein.jpg'\n",
    "    fichier_cible='Images/Raz_sein_tourne.jpg'\n",
    "    tourne_image(fichier_source, fichier_cible)\n",
    "    "
   ]
  },
  {
   "cell_type": "markdown",
   "metadata": {},
   "source": [
    "<div class=\"alert alert-danger\" role=\"alert\">\n",
    "    \n",
    "(n<sup>2</sup> log(n) au lieu de n<sup>2</sup>) : traitement plus long\n",
    "traitement récursif : log(n)\n",
    "échanges circulaire n<sup>2</sup>\n",
    " \n",
    " mémoire : O(1) : échange des pixels 2 à 2\n",
    " \n",
    " Traitement plus long\n",
    "</div>"
   ]
  }
 ],
 "metadata": {
  "hide_input": false,
  "kernelspec": {
   "display_name": "Python 3",
   "language": "python",
   "name": "python3"
  },
  "language_info": {
   "codemirror_mode": {
    "name": "ipython",
    "version": 3
   },
   "file_extension": ".py",
   "mimetype": "text/x-python",
   "name": "python",
   "nbconvert_exporter": "python",
   "pygments_lexer": "ipython3",
   "version": "3.6.10"
  },
  "nbTranslate": {
   "displayLangs": [
    "*"
   ],
   "hotkey": "alt-t",
   "langInMainMenu": true,
   "sourceLang": "en",
   "targetLang": "fr",
   "useGoogleTranslate": true
  },
  "toc": {
   "base_numbering": 1,
   "nav_menu": {},
   "number_sections": true,
   "sideBar": true,
   "skip_h1_title": false,
   "title_cell": "Table of Contents",
   "title_sidebar": "Contents",
   "toc_cell": false,
   "toc_position": {},
   "toc_section_display": true,
   "toc_window_display": false
  },
  "varInspector": {
   "cols": {
    "lenName": 16,
    "lenType": 16,
    "lenVar": 40
   },
   "kernels_config": {
    "python": {
     "delete_cmd_postfix": "",
     "delete_cmd_prefix": "del ",
     "library": "var_list.py",
     "varRefreshCmd": "print(var_dic_list())"
    },
    "r": {
     "delete_cmd_postfix": ") ",
     "delete_cmd_prefix": "rm(",
     "library": "var_list.r",
     "varRefreshCmd": "cat(var_dic_list()) "
    }
   },
   "position": {
    "height": "144.517px",
    "left": "1230px",
    "right": "20px",
    "top": "119px",
    "width": "350px"
   },
   "types_to_exclude": [
    "module",
    "function",
    "builtin_function_or_method",
    "instance",
    "_Feature"
   ],
   "window_display": false
  }
 },
 "nbformat": 4,
 "nbformat_minor": 2
}
