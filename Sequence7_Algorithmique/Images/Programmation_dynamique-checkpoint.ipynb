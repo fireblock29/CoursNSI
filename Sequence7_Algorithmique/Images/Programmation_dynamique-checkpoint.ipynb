{
 "cells": [
  {
   "cell_type": "markdown",
   "metadata": {},
   "source": [
    "# <center><font face=\"arial\" size=\"5\" color=#0101DF>NUMERIQUE ET SCIENCES INFORMATIQUES Terminale NSI</font></center>"
   ]
  },
  {
   "cell_type": "markdown",
   "metadata": {},
   "source": [
    "## <font color=#013ADF>Séquence N° 7 : Algorithmique : Programmation dynamique</font>"
   ]
  },
  {
   "cell_type": "markdown",
   "metadata": {},
   "source": [
    "<div class=\"alert alert-danger\" role=\"alert\">\n",
    "    \n",
    "Les objectifs de cette séquence sont :\n",
    "\n",
    "- Utiliser la programmation dynamique pour écrire un algorithme.\n",
    "\n",
    "</div>"
   ]
  },
  {
   "cell_type": "markdown",
   "metadata": {},
   "source": [
    "<div class=\"alert alert-warning\">\n",
    "<img src=\"Images/CR.png\" alt=\"logo CR\" width=5% align=right>\n",
    "    \n",
    "Travail préalable   \n",
    "\n",
    "- Lire le chapitre 12 paragraphe 2  du livre ;\n",
    "- Consulter la séquence S6 de première, le notebook \"Algos_gloutons\". On insistera particulièrement sur la problématique 2 ;\n",
    "- *Optionnel : implémenter en python une fonction \"rendu de monnaie\" (révision algorithme glouton)*.\n",
    "    \n",
    "\n",
    "\n",
    "<div>"
   ]
  },
  {
   "cell_type": "markdown",
   "metadata": {},
   "source": [
    "### 1- Introduction"
   ]
  },
  {
   "cell_type": "markdown",
   "metadata": {},
   "source": [
    "<div class=\"alert alert-success\">\n",
    "<img src=\"Images/warning.png\" alt=\"Attention\" width=5% align=left>   \n",
    "    \n",
    "Le livre aborde la programmation dynamique sur 2 exemples : la suite de fibonacci, pour le principe et le rendu de monnaie.\n",
    "    \n",
    "Nous allons ici reconsidérer un problème abordé l'année dernière également qui ne donnait pas toujours satisfaction : **Le problème du sac à dos**.\n",
    "    \n",
    "Nous avons à  résoudre un **problème d'optimisation**.\n",
    "    \n",
    "    \n",
    "</div>"
   ]
  },
  {
   "cell_type": "markdown",
   "metadata": {},
   "source": [
    "### 2- Rappel de la problématique et de  son approche gloutonne"
   ]
  },
  {
   "cell_type": "markdown",
   "metadata": {},
   "source": [
    "<div class=\"alert alert-success\">\n",
    "    \n",
    "Afin de ravitailler la Station Spatiale Internationale, il faut préparer le contenu du prochain lanceur ne pouvant contenir au maximum que M kilos.\n",
    "    \n",
    "Pour cela, on a réuni des objets décrit selon deux caractéristiques :\n",
    "- La masse en kilo (avec 0 < masse ≤ M) ;\n",
    "- La valeur pour la mission (avec 0 < valeur < 100) ;\n",
    "                                                \n",
    "Il s’agit de résoudre un problème d’optimisation, que l’on peut décrire ainsi :\n",
    "                                                   \n",
    "<img src=\"Images/SAD_opti.png\" alt=\"formule\" width=50% align=center>\n",
    "\n",
    "Solution précédente : **heuristique gloutonne**\n",
    "    \n",
    "Entrée : 3 listes d’objets, de masses et de valeurs ordonnées de la même manière\n",
    "\t\t1 entier représentant la masse maximale\n",
    "\n",
    "Sortie : liste d’objets de valeur maximale de masse inférieure ou égale à la masse maximale\n",
    "    \n",
    "**Algorithme**\n",
    "    \n",
    "<img src=\"Images/SAD_glouton_algo.png\" alt=\"Algorithme sac à dos version glouton\" width=80% align=center>\n",
    "\n",
    "</div>"
   ]
  },
  {
   "cell_type": "markdown",
   "metadata": {},
   "source": [
    "### 3- Approche récursive naïve"
   ]
  },
  {
   "cell_type": "markdown",
   "metadata": {},
   "source": [
    "<div class=\"alert alert-success\">\n",
    "    \n",
    "Pour mettre en évidence le problème d'un traitement récursif classique, nous n'allons pas utiliser les jeux de données de l'année dernière (appels récursifs trop nombreux), mais celui-ci : \n",
    "    \n",
    "Nous pourrons reprendre nos jeux de données lorsque nos programmes seront au point.\n",
    "    \n",
    "<img src=\"Images/SAD_recursion.png\" alt=\"Arbre de récursion\" width=80% align=center>\n",
    "    \n",
    "\n",
    "    \n",
    "Lorsque l'on observe l'arbre de récursion, on constate que plusieurs solutions sont calculées plusieurs fois. L'idée de Bellman est de mémoriser dans un tableau en mémoire (mémoïzation), le résultat des calculs et avant d'en exécuter un nouveau, vérifier s'il n'existe pas déjà en mémoire, auquel cas, on prend la valeur mémorisée plutôt que de la recalculer. On réalise un cache. Il s’agit d’une approche dynamique de type « top-down ».\n",
    "    \n",
    "**Voici un exemple de traitement récursif**:\n",
    "</div>"
   ]
  },
  {
   "cell_type": "code",
   "execution_count": null,
   "metadata": {},
   "outputs": [],
   "source": [
    "def sac_a_dos_recursif_naif(info_objets:list,masse_maxi:int,nb:int)->int:\n",
    "    if nb==0:\n",
    "        return 0\n",
    "    if info_objets[nb-1][1]>masse_maxi:\n",
    "        return sac_a_dos_recursif_naif(info_objets,masse_maxi,nb-1)\n",
    "    else:\n",
    "        return max(sac_a_dos_recursif_naif(info_objets,masse_maxi,nb-1),\n",
    "                   info_objets[nb-1][2]+sac_a_dos_recursif_naif(info_objets,\n",
    "                masse_maxi-info_objets[nb-1][1],nb-1))\n",
    "\n",
    "\n",
    "#Structure de données\n",
    "objets=['objet1','objet2','objet3','objet4']\n",
    "masses=[3,2,1,1]\n",
    "valeur=[5,3,4,3]\n",
    "masse_maxi=5\n",
    "nb_objets=len(objets)\n",
    "ratio=[]\n",
    "info_objets=[]\n",
    "mon_container=[]\n",
    "table_valeur=[[0 for x in range(masse_maxi+1)] for y in range(nb_objets+1)]\n",
    "\n",
    "#Calcul du ratio Valeur/Poids\n",
    "for i in range(nb_objets):\n",
    "    ratio.append(valeur[i]/masses[i])\n",
    "\n",
    "#Création d'une liste de tuples concernant les objets\n",
    "for i in range(nb_objets):\n",
    "    info_objets.append((objets[i],masses[i],valeur[i],ratio[i]))\n",
    "\n",
    "#Tri de ratio dans l'ordre croissant (utilités)\n",
    "info_objets.sort(key=lambda L:L[3], reverse=True)\n",
    "\n",
    "mon_container=sac_a_dos_recursif_naif(info_objets,masse_maxi,nb_objets)\n",
    "\n",
    "print(f'La valeur de mon container est de {mon_container}')"
   ]
  },
  {
   "cell_type": "markdown",
   "metadata": {},
   "source": [
    "### 4- Approche dynamique bottom-up"
   ]
  },
  {
   "cell_type": "markdown",
   "metadata": {},
   "source": [
    "<div class=\"alert alert-success\">\n",
    "    \n",
    "Avant d'aborder la version top-down, un peu complexe compte-tenu des appels récursifs, voyons tout d'abord une version itérative appelée **bottom-up**. Cette méthode consiste à calculer pour des masses inférieures ou égales à la masse maximale M, la valeur apportée par l’ajout, si c’est possible, d’un nouvel objet.\n",
    "\n",
    "Pour ne pas avoir à recalculer plusieurs fois ces mêmes valeurs, on va les mémoriser dans une table.\n",
    "    \n",
    "**Algorithme**\n",
    "    \n",
    "<img src=\"Images/SAD_dynamique_algo.png\" alt=\"algorithme sac à dos version dynamique\" width=80% align=center> \n",
    "\n",
    "    \n",
    "</div>"
   ]
  },
  {
   "cell_type": "markdown",
   "metadata": {},
   "source": [
    "<div class=\"alert alert-warning\">\n",
    "<img src=\"Images/CR.png\" alt=\"logo CR\" width=5% align=right>\n",
    "    \n",
    "Travail demandé\n",
    "    \n",
    "- Dérouler l'algorithme ci-dessus et compléter les tables de valeurs et de sélection pour le jeu de données fourni précédemment (approche itérative);\n",
    "- Implémenter en python l'algorithme précédent ;\n",
    "- Rédiger une docstring ;\n",
    "- Placer des vérifications sur les pré et postconditions (assertion), ainsi que des tests unitaires (doctest);\n",
    "- Quelles sont les complexités temporelle et spatiale de la fonction ?     \n",
    "</div>    "
   ]
  },
  {
   "cell_type": "markdown",
   "metadata": {},
   "source": [
    "<div class=\"alert alert-warning\">\n",
    "<img src=\"Images/CR.png\" alt=\"logo CR\" width=5% align=right>\n",
    " \n",
    "**Table de valeurs**\n",
    "\n",
    "Colonnes 1, 2, 3, 4, 5 : capacités de stockage en kg pour des containers acceptant des capacités différentes avec 5 kg, la masse **M** maximale.\n",
    "\n",
    "|            | Objets |         |      |      |      |      |      |      |\n",
    "| :--------: | :----: | :-----: | :--: | :--: | :--: | :--: | :--: | :--: |\n",
    "| Masse (kg) | Valeur |   Nom   |  0   |  1   |  2   |  3   |  4   |  5   |\n",
    "|     -      |   -    |  Vide   |      |      |      |      |      |      |\n",
    "|     3      |   5    | objet 1 |      |      |      |      |      |      |\n",
    "|     2      |   3    | objet 2 |      |      |      |      |      |      |\n",
    "|     1      |   4    | objet 3 |      |      |      |      |      |      |\n",
    "|     1      |   3    | objet 4 |      |      |      |      |      |      |\n",
    "\n",
    "\n",
    "\n",
    "**Table de sélection**\n",
    "\n",
    "1 : sélection de l'objet\n",
    "\n",
    "0 : non sélection\n",
    "\n",
    "|            | Objets |         |      |      |      |      |      |      |\n",
    "| :--------: | :----: | :-----: | :--: | :--: | :--: | :--: | :--: | :--: |\n",
    "| Masse (kg) | Valeur |   Nom   |  0   |  1   |  2   |  3   |  4   |  5   |\n",
    "|     -      |   -    |  Vide   |      |      |      |      |      |      |\n",
    "|     3      |   5    | objet 1 |      |      |      |      |      |      |\n",
    "|     2      |   3    | objet 2 |      |      |      |      |      |      |\n",
    "|     1      |   4    | objet 3 |      |      |      |      |      |      |\n",
    "|     1      |   3    | objet 4 |      |      |      |      |      |      |\n",
    "    \n",
    "</div>"
   ]
  },
  {
   "cell_type": "markdown",
   "metadata": {},
   "source": [
    "### 5- Approche dynamique top-down"
   ]
  },
  {
   "cell_type": "markdown",
   "metadata": {},
   "source": [
    "<div class=\"alert alert-success\">\n",
    "    \n",
    "**Voici une proposition d'implémentation de cette approche** :\n",
    "</div>"
   ]
  },
  {
   "cell_type": "code",
   "execution_count": null,
   "metadata": {},
   "outputs": [],
   "source": [
    "def sac_a_dos_recursif_top_down(masses:list,valeurs:list,masse_maxi:int,nb:int)->int:\n",
    "    if table_valeur[nb][masse_maxi]>0:\n",
    "        return table_valeur[nb][masse_maxi]\n",
    "    if nb==0:\n",
    "        return 0\n",
    "    # nb-1 = objet nb (premier indice 0)\n",
    "    if masses[nb-1]>masse_maxi:\n",
    "        table_valeur[nb][masse_maxi]=sac_a_dos_recursif_top_down(masses,valeurs,masse_maxi,nb-1)\n",
    "    else:\n",
    "        valeur_precedente=sac_a_dos_recursif_top_down(masses,valeurs,masse_maxi,nb-1)\n",
    "        valeur_nouvelle=valeurs[nb-1]+sac_a_dos_recursif_top_down(masses,valeurs,masse_maxi-masses[nb-1],nb-1)\n",
    "        table_valeur[nb][masse_maxi]=max(valeur_precedente,valeur_nouvelle)\n",
    "        if valeur_nouvelle>=valeur_precedente:\n",
    "                    table_choix[nb][masse_maxi]=1\n",
    "    return table_valeur[nb][masse_maxi]\n",
    "\n",
    "def chargement_container(nb:int)->int:\n",
    "    # chargement du container\n",
    "    masse_disponible=masse_maxi\n",
    "    masse_embarquee=0\n",
    "    for index in range((nb),0,-1):\n",
    "        if table_choix[index][masse_disponible]:\n",
    "            mon_container.append(objets[index-1])\n",
    "            masse_disponible-=masses[index-1]\n",
    "    masse_embarquee=masse_maxi-masse_disponible\n",
    "    return masse_embarquee\n",
    "\n",
    "def affichage_tables(table_valeur:list,table_choix:list):\n",
    "    # présentation des résultats\n",
    "    print('Table des valeurs')\n",
    "    print('      Masse du container')\n",
    "    print('----->',end=\"|\")\n",
    "    for index in range(masse_maxi+1):\n",
    "        print(index, end=\"|\")\n",
    "    print('\\n')  \n",
    "    for index in range(1,nb_objets+1):\n",
    "        print(objets[index-1],end=\"|\")\n",
    "        for masse in range(masse_maxi+1):\n",
    "            print(table_valeur[index][masse], end=\"|\")\n",
    "        print('\\n')  \n",
    "        \n",
    "    print('\\nTable des choix')\n",
    "    print('      Masse du container')\n",
    "    print('----->',end=\"|\")\n",
    "    for index in range(masse_maxi+1):\n",
    "        print(index, end=\"|\")\n",
    "    print('\\n') \n",
    "    for index in range(1,nb_objets+1):\n",
    "        print(objets[index-1],end=\"|\")\n",
    "        for masse in range(masse_maxi+1):\n",
    "            print(table_choix[index][masse], end=\"|\")\n",
    "        print('\\n') \n",
    "        \n",
    "#Structure de données\n",
    "objets=['objet1','objet2','objet3','objet4']\n",
    "masses=[3,2,1,1]\n",
    "valeurs=[5,3,4,3]\n",
    "masse_maxi=5\n",
    "nb_objets=len(objets)\n",
    "mon_container=[]\n",
    "masse_container=0\n",
    "valeur_container=0 \n",
    "\n",
    "table_valeur=[[0 for x in range(masse_maxi+1)] for y in range(nb_objets+1)]\n",
    "table_choix=[[0 for x in range(masse_maxi+1)] for y in range(nb_objets+1)]\n",
    "\n",
    "valeur_container=sac_a_dos_recursif_top_down(masses,valeurs,masse_maxi,nb_objets)\n",
    "masse_container=chargement_container(nb_objets)\n",
    "affichage_tables(table_valeur,table_choix)\n",
    "print('Je vous propose d\\'emporter avec vous : ')\n",
    "for i in mon_container:\n",
    "    print('- ',i)\n",
    "print(f'La masse embarquée est de {masse_container} kg sur les {masse_maxi} kg autorisés, ce qui représente une valeur de {valeur_container}.')"
   ]
  },
  {
   "cell_type": "markdown",
   "metadata": {},
   "source": [
    "### 6- Rendu de monnaie"
   ]
  },
  {
   "cell_type": "markdown",
   "metadata": {},
   "source": [
    "<div class=\"alert alert-success\">\n",
    "    \n",
    "Le principe est le suivant : soit x une valeur de l'une des pièces du système monétaire. Pour rendre une somme s de façon optimale, si l'on veut/peut utiliser au moins une fois la pièce x, il suffit de rendre x et la somme (s - x) de façon optimale. Il n'y a plus qu'à choisir, parmi tous les choix possibles de x, celui qui permet d'utiliser le minimum de pièces.\n",
    "\n",
    "$$\n",
    "\\left\\{\n",
    "    \\begin{array}{ll}\n",
    "        f(0) = 0\\\\\n",
    "        f(s)= min(1 + f(s - x)) & \\mbox{si } x ≤ s\\\\\n",
    "    \\end{array}\n",
    "\\right.\n",
    "$$\n",
    "    \n",
    "Le minimum étant calculé sur toutes les valeurs x des pièces. L'expression précédente fait naturellement penser à une implémentation récursive.\n",
    "                                      \n",
    "</div>"
   ]
  },
  {
   "cell_type": "code",
   "execution_count": null,
   "metadata": {},
   "outputs": [],
   "source": [
    "def monnaie_recursif(pieces:list, somme:int)->int:\n",
    "    assert somme >= 0,'La somme doit être positive ou nulle'\n",
    "    if somme == 0 :\n",
    "        return 0\n",
    "    nombre=float('inf')\n",
    "    for x in pieces:\n",
    "        if somme >= x:\n",
    "            nombre=min(nombre, 1 + monnaie_recursif(pieces, somme - x))\n",
    "    return nombre\n",
    "\n",
    "if __name__=='__main__':\n",
    "    pieces=[1,2,5]\n",
    "    a_rendre =10\n",
    "    print(f'Nombre de pièces à rendre : {monnaie_recursif(pieces, a_rendre)}.')"
   ]
  },
  {
   "cell_type": "markdown",
   "metadata": {},
   "source": [
    "<div class=\"alert alert-warning\">\n",
    "<img src=\"Images/CR.png\" alt=\"logo CR\" width=5% align=right>\n",
    "     \n",
    "Travail demandé\n",
    "    \n",
    "    \n",
    "- Tester partiellement le code ci-dessus avec python tutor.\n",
    "- Passer la valeur à rendre à 50 euros.\n",
    "    \n",
    "Que pouvez-vous en conclure ?\n",
    "\n",
    "</div>"
   ]
  },
  {
   "cell_type": "markdown",
   "metadata": {},
   "source": [
    "<div class=\"alert alert-success\">\n",
    "    \n",
    "Compte-tenu de l'expérience précédente, on souhaite mémoriser les résultats dans un tableau de manière à les réutilisés si besoin plutot que de les recalculer.\n",
    "    \n",
    "On propose le programme suivant pour la fonction de mémoïsation:\n",
    "       \n",
    "                                      \n",
    "</div>"
   ]
  },
  {
   "cell_type": "code",
   "execution_count": null,
   "metadata": {},
   "outputs": [],
   "source": [
    "def dynamique_memoise(pieces:list, somme:int)->int:\n",
    "    f=[0]*(somme+1)\n",
    "    for s in range(1, somme+1):\n",
    "        f[s]=float('inf')\n",
    "        for x in pieces:\n",
    "            if s>= x:\n",
    "                f[s]=min(f[s], 1 + f[s - x])\n",
    "    return f[somme]\n",
    "\n",
    "if __name__=='__main__':\n",
    "    pieces=[1,2,5]\n",
    "    a_rendre =10\n",
    "    print(f'Nombre de pièces à rendre : {dynamique_memoise(pieces, a_rendre)}.')"
   ]
  },
  {
   "cell_type": "markdown",
   "metadata": {},
   "source": [
    "<div class=\"alert alert-warning\">\n",
    "<img src=\"Images/CR.png\" alt=\"logo CR\" width=5% align=right>\n",
    "     \n",
    "Travail demandé\n",
    "    \n",
    "- Tester le code ci-dessus avec python tutor ;       \n",
    "- Créer un tableau permettant de montrer le nombre de pièces rendues pour une liste de pièces de 1, 2 et 5 € pour une somme à rendre de 10 €, puis le compléter selon l'algorithme du programme précédent ;\n",
    "- Modifier/compléter le programme précédent pour que celui-ci nous renseigne sur la valeurs des pièces rendues (indication : mémoriser d'où l'on vient ...).\n",
    "\n",
    "<div>"
   ]
  },
  {
   "cell_type": "code",
   "execution_count": null,
   "metadata": {},
   "outputs": [],
   "source": []
  }
 ],
 "metadata": {
  "kernelspec": {
   "display_name": "Python 3",
   "language": "python",
   "name": "python3"
  },
  "language_info": {
   "codemirror_mode": {
    "name": "ipython",
    "version": 3
   },
   "file_extension": ".py",
   "mimetype": "text/x-python",
   "name": "python",
   "nbconvert_exporter": "python",
   "pygments_lexer": "ipython3",
   "version": "3.8.3"
  },
  "varInspector": {
   "cols": {
    "lenName": 16,
    "lenType": 16,
    "lenVar": 40
   },
   "kernels_config": {
    "python": {
     "delete_cmd_postfix": "",
     "delete_cmd_prefix": "del ",
     "library": "var_list.py",
     "varRefreshCmd": "print(var_dic_list())"
    },
    "r": {
     "delete_cmd_postfix": ") ",
     "delete_cmd_prefix": "rm(",
     "library": "var_list.r",
     "varRefreshCmd": "cat(var_dic_list()) "
    }
   },
   "types_to_exclude": [
    "module",
    "function",
    "builtin_function_or_method",
    "instance",
    "_Feature"
   ],
   "window_display": false
  }
 },
 "nbformat": 4,
 "nbformat_minor": 2
}
