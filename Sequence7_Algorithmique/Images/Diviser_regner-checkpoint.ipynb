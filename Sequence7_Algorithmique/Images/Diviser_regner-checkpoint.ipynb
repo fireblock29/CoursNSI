{
 "cells": [
  {
   "cell_type": "markdown",
   "metadata": {},
   "source": [
    "# <center><font face=\"arial\" size=\"5\" color=#0101DF>NUMERIQUE ET SCIENCES INFORMATIQUES Terminale NSI</font></center>"
   ]
  },
  {
   "cell_type": "markdown",
   "metadata": {},
   "source": [
    "## <font color=#013ADF>Séquence N° 9 : Algorithmique : Diviser pour régner - Tri fusion</font>"
   ]
  },
  {
   "cell_type": "markdown",
   "metadata": {},
   "source": [
    "<div class=\"alert alert-danger\" role=\"alert\">\n",
    "    \n",
    "Les objectifs de cette séquence sont :\n",
    "\n",
    "- Écrire un algorithme utilisant la méthode \"diviser pour régner\".\n",
    "\n",
    "</div>"
   ]
  },
  {
   "cell_type": "markdown",
   "metadata": {},
   "source": [
    "<div class=\"alert alert-warning\">\n",
    "<img src=\"Images/CR.png\" alt=\"logo CR\" width=5% align=right>\n",
    "    \n",
    "Travail préalable   \n",
    "\n",
    "- Revoir les algorithmes de tri (insertion, selection) vus en classe de première ;\n",
    "    \n",
    "Rappel du lien : http://lwh.free.fr/\n",
    "    \n",
    "- Lire le chapitre 12, paragraphe 1  du livre.\n",
    "    \n",
    "</div>"
   ]
  },
  {
   "cell_type": "markdown",
   "metadata": {},
   "source": [
    "### 1- Rappels sur 2 algorithmes de tri étudiés en première"
   ]
  },
  {
   "cell_type": "markdown",
   "metadata": {},
   "source": [
    "#### 1-1 Tri par sélection"
   ]
  },
  {
   "cell_type": "markdown",
   "metadata": {},
   "source": [
    "<div class=\"alert alert-warning\">\n",
    "<img src=\"Images/CR.png\" alt=\"logo CR\" width=5% align=right>\n",
    "    \n",
    "Travail demandé  \n",
    "\n",
    "Soit la liste d'entiers lst=[8 , 2 , 5 , 4 , 9 , 6 , 1 , 7, 12]\n",
    "    \n",
    "- Rappeler brièvement, le principe de l'algorithme de tri par sélection;\n",
    "- Ce tri est dit 'en place' et 'non stable'. Que signifient ces termes ?\n",
    "- Implémenter en python un algorithme itératif réalisant le tri par insertion de la liste \"lst\";\n",
    "- Placer des vérifications sur les pré et postconditions (assertion), ainsi que des tests unitaires (doctest);\n",
    "    \n",
    "lien : https://docs.python.org/3/library/doctest.html\n",
    "    \n",
    "- Donner en le justifiant la complexité temporelle de cet algorithme.\n",
    "</div>"
   ]
  },
  {
   "cell_type": "code",
   "execution_count": 4,
   "metadata": {},
   "outputs": [],
   "source": [
    "def tri_selection(lst:list)->list:\n",
    "    \"\"\"\n",
    "    Implémente le tri par selection\n",
    "    \"\"\"\n",
    "    pass\n",
    "    return lst\n",
    "\n",
    "if __name__=='__main__':\n",
    "    pass"
   ]
  },
  {
   "cell_type": "markdown",
   "metadata": {},
   "source": [
    "#### 1-2 Tri par insertion"
   ]
  },
  {
   "cell_type": "markdown",
   "metadata": {},
   "source": [
    "<div class=\"alert alert-warning\">\n",
    "<img src=\"Images/CR.png\" alt=\"logo CR\" width=5% align=right>\n",
    "    \n",
    "Travail demandé  \n",
    "\n",
    "Soit la liste d'entiers lst=[8 , 2 , 5 , 4 , 9 , 6 , 1 , 7, 12]\n",
    "    \n",
    "- Rappeler brièvement, le principe de l'algorithme de tri par insertion;\n",
    "- Ce tri est dit 'en ligne'. Que signifie ce terme ?\n",
    "- Implémenter en python un algorithme itératif réalisant le tri par insertion de la liste \"lst\";\n",
    "- Placer des vérifications sur les pré et postconditions (assertion), ainsi que des tests unitaires (doctest);\n",
    "- Donner en le justifiant la complexité temporelle de cet algorithme.\n",
    "</div>"
   ]
  },
  {
   "cell_type": "code",
   "execution_count": 5,
   "metadata": {},
   "outputs": [],
   "source": [
    "def tri_insertion(lst): \n",
    "    \"\"\"\n",
    "    Implémente le tri par insertion\n",
    "    \"\"\"\n",
    "    pass\n",
    "    return lst\n",
    "\n",
    "if __name__=='__main__':\n",
    "    pass"
   ]
  },
  {
   "cell_type": "markdown",
   "metadata": {},
   "source": [
    "### 2- Tri fusion"
   ]
  },
  {
   "cell_type": "markdown",
   "metadata": {},
   "source": [
    "<div class=\"alert alert-success\">\n",
    "\n",
    "Utilison un autre algorithme afin d'améliorer la complexité temporelle du tri. Pour cela nous allons appliquer un principe que nous avons déjà utilisé à plusieurs reprises :\n",
    "- Dichotomie ;\n",
    "- Récurence ;\n",
    "- Arbre binaire de recherche équilibré.\n",
    "\n",
    "<img src=\"Images/warning.png\" alt=\"warning\" width=5% align=left>\n",
    "<br><br>\n",
    "    \n",
    "Il s'agit d'un algorithme de type **Diviser pour régner**. Il est composé de 3 étapes :\n",
    "    \n",
    "1. **Diviser** : On divise le problème initial en plusieurs sous-problèmes plus petits que le problème\n",
    "initial.\n",
    "2. **Résolution** : On résoud de manière récursive les sous-problèmes.\n",
    "3. **Régner** : On reconstitue la solution du problème initial en fusionnant les solutions des différents\n",
    "sous-problèmes.\n",
    "    \n",
    "Voici schématiquement, comment on réalise le **tri fusion (merge sort)**.\n",
    "<br><br>        \n",
    "<img src=\"Images/tri_fusion.png\" alt=\"principe tri fusion\" width=60% align=center>   \n",
    "        \n",
    "</div>"
   ]
  },
  {
   "cell_type": "markdown",
   "metadata": {},
   "source": [
    "<div class=\"alert alert-warning\">\n",
    "<img src=\"Images/CR.png\" alt=\"logo CR\" width=5% align=right>\n",
    "    \n",
    "Travail demandé  \n",
    "\n",
    "- Écrire une fonction fusion(lst_g,lst_d) qui prend 2 listes triées en arguments (de longueur égale à 1 élément près) et renvoie une liste unique triée.\n",
    "- Écrire une fonction divise(lst) qui coupe une liste lst en deux sous-listes (lst_g, lst_d) de longueur égale (à un élément près si la longueur est impaire).\n",
    "- Écrire une fonction tri_fusion(lst) qui divise récursivement une liste passée en argument et qui appelant votre fonction \"fusion\" réalise le tri selon le principe **diviser pour régner**.\n",
    "\n",
    "Bien que l'on ne puisse pas évaluer la complexité temporelle d'un algorithme sur son temps d'exécution (dépend également des autres processus en cours sur la machine), on va tenter de comparer le temps d'exécution de l'algorithme tri-fusion implémenté et les algorithmes de tri par selection et insertion. Pour cela :\n",
    "    \n",
    "- Créer (ou réutiliser : voir classe de première) une fonction qui génère des listes d'entiers compris entre 0 et n, de manière aléatoire de longeur l;\n",
    "- En utilisant la commande magique %timeit (voir algorithme de tri en classe de première), comprer les temps d'exécution sur des listes de bonne taille.\n",
    "\n",
    "</div>"
   ]
  },
  {
   "cell_type": "code",
   "execution_count": null,
   "metadata": {},
   "outputs": [],
   "source": []
  },
  {
   "cell_type": "code",
   "execution_count": null,
   "metadata": {},
   "outputs": [],
   "source": [
    "import matplotlib.pyplot as plt\n",
    "import math\n",
    "\n",
    "n=[10,100,1000,10000,100000,1000000]\n",
    "\n",
    "plt.title(\"Complexité\")\n",
    "plt.plot(n, [nombre**2 for nombre in n],'b')\n",
    "plt.plot(n, [nombre*(math.log2(nombre)) for nombre in n],'r')\n",
    "plt.xlabel('n')\n",
    "plt.ylabel('Temps')\n",
    "plt.show()"
   ]
  },
  {
   "cell_type": "markdown",
   "metadata": {},
   "source": [
    "### 2- Tri rapide (Quick sort)"
   ]
  },
  {
   "cell_type": "markdown",
   "metadata": {},
   "source": [
    "<div class=\"alert alert-warning\">\n",
    "<img src=\"Images/CR.png\" alt=\"logo CR\" width=5% align=right>\n",
    "    \n",
    "Travail demandé\n",
    "\n",
    "- Implémenter un algorithme de type \"diviser pour régner\" réalisant un tri rapide.\n",
    "    \n",
    "*Remarque : On prendra comme pivot le dernier élément de la liste.*"
   ]
  },
  {
   "cell_type": "code",
   "execution_count": null,
   "metadata": {},
   "outputs": [],
   "source": []
  }
 ],
 "metadata": {
  "kernelspec": {
   "display_name": "Python 3",
   "language": "python",
   "name": "python3"
  },
  "language_info": {
   "codemirror_mode": {
    "name": "ipython",
    "version": 3
   },
   "file_extension": ".py",
   "mimetype": "text/x-python",
   "name": "python",
   "nbconvert_exporter": "python",
   "pygments_lexer": "ipython3",
   "version": "3.8.3"
  },
  "varInspector": {
   "cols": {
    "lenName": 16,
    "lenType": 16,
    "lenVar": 40
   },
   "kernels_config": {
    "python": {
     "delete_cmd_postfix": "",
     "delete_cmd_prefix": "del ",
     "library": "var_list.py",
     "varRefreshCmd": "print(var_dic_list())"
    },
    "r": {
     "delete_cmd_postfix": ") ",
     "delete_cmd_prefix": "rm(",
     "library": "var_list.r",
     "varRefreshCmd": "cat(var_dic_list()) "
    }
   },
   "position": {
    "height": "144.517px",
    "left": "1230px",
    "right": "20px",
    "top": "119px",
    "width": "350px"
   },
   "types_to_exclude": [
    "module",
    "function",
    "builtin_function_or_method",
    "instance",
    "_Feature"
   ],
   "window_display": false
  }
 },
 "nbformat": 4,
 "nbformat_minor": 2
}
