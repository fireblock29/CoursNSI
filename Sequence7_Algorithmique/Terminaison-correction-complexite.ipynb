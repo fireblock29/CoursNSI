{
 "cells": [
  {
   "cell_type": "markdown",
   "metadata": {},
   "source": [
    "# <center><font face=\"arial\" size=\"5\" color=#0101DF>NUMERIQUE ET SCIENCES INFORMATIQUES Terminale NSI</font></center>"
   ]
  },
  {
   "cell_type": "markdown",
   "metadata": {},
   "source": [
    "## <font color=#013ADF>Séquence N° 7 : Rappel (première : séquence 6) Terminaison - Correction - Complexité</font>"
   ]
  },
  {
   "cell_type": "markdown",
   "metadata": {},
   "source": [
    "### 1- Rappels"
   ]
  },
  {
   "cell_type": "markdown",
   "metadata": {},
   "source": [
    "<div class=\"alert alert-success\">\n",
    "    \n",
    "Lorsque l’on écrit un algorithme, on souhaite plusieurs choses :\n",
    "1. Qu'il se termine (pas de boucle infinie) ;\n",
    "2. Qu’il produise le résultat attendu (résultat correct) ;\n",
    "3. Qu’il soit le plus rapide possible et nécessite le moins de mémoire possible.\n",
    "\n",
    "</div>"
   ]
  },
  {
   "cell_type": "markdown",
   "metadata": {},
   "source": [
    "### 2- Terminaison d'un algorithme : variant de boucle"
   ]
  },
  {
   "cell_type": "markdown",
   "metadata": {},
   "source": [
    "<div class=\"alert alert-success\">\n",
    "<img src=\"Images/warning.png\" alt=\"logo warn\" width=5% align=left>\n",
    " \n",
    "Les variants de boucle sont un outil qui va permettre de montrer la terminaison d'algorithmes. \n",
    "\n",
    "**Définition**\n",
    "\n",
    "Un variant de boucle est une quantité entière définie en fonction des variables ($x_1$, . . . , $x_k$) constituant l’état de la machine, et de n, le nombre de passages effectués dans la boucle qui :\n",
    "\n",
    "1. Le variant est un entier strictement **positif** avant l'exécution de la boucle\n",
    "2. Le variant **décroît** strictement à chaque itération\n",
    "3. lorsque le variant est inférieur à un certain nombre rend la **condition** d'exécution de la boucle conditionnelle **fausse**.\n",
    "<div>"
   ]
  },
  {
   "cell_type": "markdown",
   "metadata": {},
   "source": [
    "<div class=\"alert alert-success\">\n",
    "    \n",
    "*Prenons un exemple* : La fonction `multiplie` ci-dessous réalise la multioplication de 2 nombres a et b en n'effectuant que des additions.\n",
    "    \n",
    "<div>"
   ]
  },
  {
   "cell_type": "code",
   "execution_count": 1,
   "metadata": {
    "ExecuteTime": {
     "end_time": "2022-01-24T09:26:27.429611Z",
     "start_time": "2022-01-24T09:26:27.417837Z"
    }
   },
   "outputs": [
    {
     "name": "stdout",
     "output_type": "stream",
     "text": [
      "le résultat est : 39\n"
     ]
    }
   ],
   "source": [
    "\"\"\"\n",
    "Le nommage des variables n'est pas très explicite,\n",
    "mais il simplifiera l'écriture de la démonstration !\n",
    "\"\"\"\n",
    "\n",
    "def multiplie(a:int, b:int)-> int:\n",
    "    \"\"\"\n",
    "    La fonction réalise la multiplication\n",
    "    des nombres a et b, 2 entiers positifs\n",
    "    ou nuls, paramètres de la fonction\n",
    "    en n'effectuant que des additions.\n",
    "    \"\"\"\n",
    "    assert a>=0 and b >=0, 'le nombre doit positif ou nul'\n",
    "    x = b\n",
    "    y = 0\n",
    "    while x != 0:\n",
    "        y+=a\n",
    "        x-=1\n",
    "    return y\n",
    "\n",
    "if __name__=='__main__':\n",
    "    #assert multiplie(2,10) == 20\n",
    "    a = 13\n",
    "    b = 3\n",
    "    produit = multiplie(a,b)\n",
    "    print(f'le résultat est : {produit}')"
   ]
  },
  {
   "cell_type": "markdown",
   "metadata": {},
   "source": [
    "<div class=\"alert alert-warning\">\n",
    "<img src=\"Images/CR.png\" alt=\"logo CR\" width=5% align=right>\n",
    "\n",
    "Travail à faire\n",
    "    \n",
    "- En l'absence de tests sur les préconditions (assert), que se passerait-il si au lieu de tester x > 0, on vérifie x!=0 ?\n",
    "    \n",
    "    Le programme s'éxécute normalement car x>0\n",
    "    \n",
    "- Ce programme se termine t-il ? Nommer le variant de boucle en justifiant votre réponse.\n",
    "    \n",
    "    Oui, le programme se termine. Le variant de boucle est x, ce dernier étant amené à décroitre tour à tour\n",
    "\n",
    "- Faire tourner l'algorithme en complétant le tableau ci-dessous avec les valeurs de x et y.\n",
    "    \n",
    "|  a   |  13  |    13  |    13  |    13  |     13 |\n",
    "| :--: | :--: | :--: | :--: | :--: | :--: |\n",
    "|  b   |  3   |     3 |    3  |    3  |   3   |\n",
    "|  x   |     3 |  2    |    1  |     0 |     |\n",
    "|  y   |  0   |  13  |    26  | 39    |    |\n",
    "\n",
    "\n",
    "\n",
    "\n",
    "    \n",
    "<div>"
   ]
  },
  {
   "cell_type": "markdown",
   "metadata": {},
   "source": [
    "<div class=\"alert alert-success\">\n",
    "\n",
    "*Remarque* :\n",
    "\n",
    "Dans le cas d’une boucle for, nous avons la certitude de terminaison : on peut toujours construire un variant simple. Si la boucle est donnée par la structure :\n",
    "    \n",
    "**for i in range(n) : Pour i ← 0 à n-1, un variant simple est (n-1)-i**\n",
    "    \n",
    "Pour s'en convaincre : \n",
    "    \n",
    "for i in range(4)\n",
    "\n",
    "1<sup>er</sup> tour de boucle : i = 0 → (4-1)-0 = 3\n",
    "\n",
    "2<sup>ème</sup> tour de boucle : i = 1 → (4-1)-1 = 2\n",
    "\n",
    "3<sup>ème</sup> tour de boucle : i = 2 → (4-1)-2 = 1\n",
    "\n",
    "4<sup>ème</sup> tour de boucle : i = 3 → (4-1)-3 = 0\n",
    "\n",
    "    \n",
    "</div>"
   ]
  },
  {
   "cell_type": "markdown",
   "metadata": {},
   "source": [
    "### 3- Correction d'un algorithme : invariant de boucle"
   ]
  },
  {
   "cell_type": "markdown",
   "metadata": {},
   "source": [
    "<div class=\"alert alert-success\">\n",
    "<img src=\"Images/warning.png\" alt=\"logo warn\" width=5% align=left>\n",
    "    \n",
    "Les invariants de boucle sont un outil qui va permettre de montrer la correction partielle d'algorithmes.\n",
    "\n",
    "**Définition**\n",
    "\n",
    "On appelle invariant d’une boucle une propriété qui si elle est vraie avant l’exécution d’une itération le demeure après l’exécution de l’itération.\n",
    "\n",
    " Trouver l'invariant de boucle est une chose peu aisée, mais il faut ensuite démontrer qu'il est correct (une fois de plus l'étude d'un cas particulier ne vaut pas démonstration). La démonstration doit se faire en 3 étapes.\n",
    "\n",
    "**En mathématiques, on appelle cela une démonstration par récurrence**.\n",
    "\n",
    "\n",
    "<div>"
   ]
  },
  {
   "cell_type": "code",
   "execution_count": 6,
   "metadata": {
    "ExecuteTime": {
     "end_time": "2022-01-24T09:46:29.086056Z",
     "start_time": "2022-01-24T09:46:29.074888Z"
    }
   },
   "outputs": [
    {
     "name": "stdout",
     "output_type": "stream",
     "text": [
      "le quotient est  4 et le reste est 1.\n"
     ]
    }
   ],
   "source": [
    "def div_euclidienne(a:int, b:int)-> int:\n",
    "    \"\"\"\n",
    "    La fonction réalise la division euclidienne\n",
    "    des nombres a et b, 2 entiers positifs\n",
    "    ou nuls, paramètres de la fonction.\n",
    "    \"\"\"\n",
    "    assert a>=0 and b >=0, 'le nombre doit positif ou nul'\n",
    "    q = 0\n",
    "    r = a\n",
    "    while r >= b:\n",
    "        q+=1\n",
    "        r-=b\n",
    "    return q, r\n",
    "\n",
    "if __name__=='__main__':\n",
    "    assert div_euclidienne(10,2) == (5,0)\n",
    "    a = 13\n",
    "    b = 3\n",
    "    quotient, reste = div_euclidienne(a,b)\n",
    "    print(f'le quotient est  {quotient} et le reste est {reste}.'),utera 1 à q et on enlèvera 1 à r.b"
   ]
  },
  {
   "cell_type": "markdown",
   "metadata": {},
   "source": [
    "<div class=\"alert alert-warning\">\n",
    "<img src=\"Images/CR.png\" alt=\"logo CR\" width=5% align=right>\n",
    "\n",
    "Travail à faire\n",
    "\n",
    "- Faire tourner l'algorithme en complétant le tableau ci-dessous avec les valeurs de q et r.\n",
    "    \n",
    "|  a   |13|  13  |  13    |     13 |  13    |  13    |\n",
    "| :--: |:--:| :--: | :--: | :--: | :--: | :--: |\n",
    "|  b   | 3| 3   |  3    |  3    |    3  |   3   |\n",
    "|  q   | 0 | 1   |  2    |    3  |   4   |      |\n",
    "|  r   | 13 |  10  |  7    |   4   |   1   |      |\n",
    "\n",
    "- Compléter le texte à trous\n",
    "\n",
    "Si l'invariant de boucle est la propriété P : a = bq + r, les valeurs trouvées dans le tableau sont-elles correctes ? ....\n",
    "\n",
    "Démonstration :\n",
    "\n",
    "**Initialisation** : q = 0 et r = 13 ⇒ a  = 13 ⇒ la propriété P(n) est vraie.\n",
    "\n",
    "**Hérédité** : Supposons que P(n) soit vraie et montrons que P(n+1) est vraie.\n",
    "\n",
    "Au prochain tour (n+1), on ajoutera 1 à q et on enlèvera b à r.\n",
    "\n",
    "a = b.(q+1) + (r-b)\n",
    "\n",
    "développer a = bq+b+r-b\n",
    "\n",
    "simplifier a = bq+r\n",
    "\n",
    "**Conclusion** : À l’initialisation, la propriété est vraie et on a montré que la propriété était conservée après une itération, en conclusion, en vertu du principe de raisonnement par récurrence, la propriété est vraie.\n",
    "\n",
    "\n",
    "<div>"
   ]
  },
  {
   "cell_type": "markdown",
   "metadata": {},
   "source": [
    "## 4- Complexité d'un algorithme : complexité temporelle"
   ]
  },
  {
   "cell_type": "markdown",
   "metadata": {},
   "source": [
    "<div class=\"alert alert-success\">\n",
    "    \n",
    "Nous avons maintenant un algorithme qui produit le résultat demandé et qui se termine . . . mais quand ? Avant que les données traitées soient périmées au moins !\n",
    "    \n",
    "</div>"
   ]
  },
  {
   "cell_type": "markdown",
   "metadata": {},
   "source": [
    "<div class=\"alert alert-success\">\n",
    "<img src=\"Images/warning.png\" alt=\"logo warn\" width=5% align=left>\n",
    "    \n",
    "On va maintenant s’intéresser à la durée d’exécution du programme ou plus précisément à la manière dont la durée d’exécution augmente lorsque la taille des données augmente.\n",
    "\n",
    "Le temps exact d’exécution dépend de beaucoup de choses :\n",
    "- Du langage dans lequel l’algorithme est implémenté (compilé ou interprété) ;\n",
    "- Du matériel informatique (microprocesseur ...) ;\n",
    "- Du nombre de processus qui s’exécutent en même temps ;\n",
    "\n",
    "Quand nous étudions la complexité algorithmique, ce qui nous intéresse, c'est le comportement asymptotique de l’algorithme, c’est-à-dire la « forme » de la fonction pour une taille de données `n` grand : Nous utilisons la notation « grand O ».\n",
    "    \n",
    "On peut évoquer la complexité dans le meilleur des cas, le cas moyen mais le plus souvent on s'intéresse à la complexité dans le pire des cas.\n",
    "    \n",
    "*Remarque : les rappels ne concernent que la complexité temporelle.*\n",
    "<div>"
   ]
  },
  {
   "cell_type": "markdown",
   "metadata": {},
   "source": [
    "<div class=\"alert alert-warning\">\n",
    "<img src=\"Images/CR.png\" alt=\"logo CR\" width=5% align=right>\n",
    "\n",
    "Travail à faire\n",
    "    \n",
    "- Pour les exemples cités ci-dessous, évaluer la complexité algorithmique de la recherche :\n",
    "    \n",
    "Soit le tableau tab=[5,7,3, ..., 100, 20]\n",
    "    \n",
    "1- Je cherche la valeur de l'élément en position 2 dans ce tableau. J'écris tab[2].\n",
    "    \n",
    "    \n",
    "    Quelque soit la taille du tableau, complexité ne dépend pas de n : O(1)\n",
    "    \n",
    "    \n",
    "...\n",
    "    \n",
    "2- Je cherche les 3 premiers éléments du tableau tab.\n",
    "    \n",
    "    \n",
    "    La taille du tableau n'intervient pas. Complexité constante : O(N)\n",
    "    \n",
    "    \n",
    "...\n",
    "    \n",
    "3- Je cherche à vérifier si une valeur particulière est présente dans le tableau tab (qui n'est pas ordonné) en réalisant une recherche séquentielle (parcours du tableau du début à la fin -pire des cas-). Que se passe t-il si la taille n augmente ?  \n",
    "    \n",
    "    \n",
    "    Recherche dépend de n : O(n)\n",
    "    \n",
    "    \n",
    "...\n",
    "    \n",
    "4- On a ordonné le tableau tab=[3,5,7, ..., 20, 100]. Les valeurs sont maintenant dans un ordre croissant. Je fais une recherche dichotomique d'une valeur dans ce tableau. Rappeler ce qu'est une recherche dichotomique. Quelle est la complexité de l'algorithme ? Connaissez-vous d'autres cas où cette méthode est utilisée ?\n",
    "      \n",
    "    \n",
    "    Condition : liste ordonnée\n",
    "    Complexité en O(log2(n))\n",
    "    \n",
    "    \n",
    "...\n",
    "    \n",
    "5- On rappelle qu'une image matricielle est un tableau à 2 dimensions. Si je parcours de manière séquentielle l'ensemble des pixels qui constituent l'image, quelle est allors la complexité ?\n",
    "    \n",
    "    \n",
    "    Balayage du tableau : 2 boucles imbriquées; Complexité quadratique : O(n^2)\n",
    "    \n",
    "    \n",
    "...\n",
    "    \n",
    "6- Je cherche à résoudre le problème du sac à dos par force brute. Le principe est simple, il faut tester tous les cas possibles. Je possède n objets. Comment obtenir tous les cas sans les répéter et sans en oublier un ? \n",
    "    \n",
    "Une méthode est d’associer le chiffre 1 à un objet s’il est choisi et le chiffre 0 sinon. Nous obtenons ainsi un nombre entier écrit en  binaire  avec  n  chiffres.\n",
    "    \n",
    "Exemple : Le  nombre  1001100  signifie  que  nous  avons  choisi  les  objets  1,  4  et  5 sur les 7 possibles.\n",
    "    \n",
    "    Pour 1 obj : 2 possibilités\n",
    "    Pour 2 objs : 4\n",
    "    Pour 3 objs : 8\n",
    "    \n",
    "    Pour 1 obj en plus, le nb de combi° double. O(2^n)\n",
    "...\n",
    "    \n",
    "Autre exemple : Suite de Fibonacci selon le programme récursif dans une cellule ci-après. https://fr.wikipedia.org/wiki/Suite_de_Fibonacci\n",
    "    \n",
    "\n",
    "7- On peut trouver encore pire :  une complexité factorielle https://fr.wikipedia.org/wiki/Probl%C3%A8me_du_voyageur_de_commerce\n",
    "<br><br>\n",
    "\n",
    "Cette liste n'est pas exaustive loin s'en faut. Il s'agit de complexités couramment rencontrées. On peut d'ailleurs citer une complexité linéaire et logarithmique (quasi linéaire) que l'on rencontre lors de tri fusion, tri rapide O(n.log<sub>2</sub>(n)) que nous allons rencontrer lors de cette séquence.\n",
    "<br><br>   \n",
    "Pour information : https://wiki.python.org/moin/TimeComplexity\n",
    "    \n",
    "</div>"
   ]
  },
  {
   "cell_type": "markdown",
   "metadata": {},
   "source": [
    "### Suite de fibonacci"
   ]
  },
  {
   "cell_type": "code",
   "execution_count": 1,
   "metadata": {
    "ExecuteTime": {
     "end_time": "2022-03-07T06:39:36.341229Z",
     "start_time": "2022-03-07T06:39:36.308482Z"
    }
   },
   "outputs": [
    {
     "name": "stdout",
     "output_type": "stream",
     "text": [
      "10 9 8 7 6 5 4 3 2 2 3 2 4 3 2 2 5 4 3 2 2 3 2 6 5 4 3 2 2 3 2 4 3 2 2 7 6 5 4 3 2 2 3 2 4 3 2 2 5 4 3 2 2 3 2 8 7 6 5 4 3 2 2 3 2 4 3 2 2 5 4 3 2 2 3 2 6 5 4 3 2 2 3 2 4 3 2 2 55\n"
     ]
    }
   ],
   "source": [
    "def fibonacci(n) :\n",
    "    if n <= 1 : \n",
    "        return n\n",
    "    print(n, end=' ')\n",
    "    return fibonacci(n-1)+fibonacci(n-2)\n",
    "print(fibonacci(10))"
   ]
  },
  {
   "cell_type": "markdown",
   "metadata": {},
   "source": [
    "<div class=\"alert alert-success\">\n",
    "Arbre des appels récursifs de la fonction fibonacci ci-dessus :\n",
    "\n",
    "<img src=\"Images/fibo_arbre_recursif.png\" alt=\"arbre fibonacci\" width=150% align=center>\n",
    "    \n",
    "**C'est un joli code bien compact et assez facile à imaginer mais totalement inefficace ! Il s'agit d'un algorithme naïf de complexité exponentielle O(2<sup>n</sup>)**. Une approche différente faisant appel à plus de mathématiques peut permettre d'obtenir une complexité logarithmique (voir site mentionné).\n",
    "    \n",
    "</div>"
   ]
  },
  {
   "cell_type": "code",
   "execution_count": 2,
   "metadata": {
    "ExecuteTime": {
     "end_time": "2022-03-07T06:39:52.158826Z",
     "start_time": "2022-03-07T06:39:45.451281Z"
    }
   },
   "outputs": [
    {
     "name": "stdout",
     "output_type": "stream",
     "text": [
      "8 7 6 5 4 3 2 2 3 2 4 3 2 2 5 4 3 2 2 3 2 6 5 4 3 2 2 3 2 4 3 2 2 8 7 6 5 4 3 2 2 3 2 4 3 2 2 5 4 3 2 2 3 2 6 5 4 3 2 2 3 2 4 3 2 2 8 7 6 5 4 3 2 2 3 2 4 3 2 2 5 4 3 2 2 3 2 6 5 4 3 2 2 3 2 4 3 2 2 8 7 6 5 4 3 2 2 3 2 4 3 2 2 5 4 3 2 2 3 2 6 5 4 3 2 2 3 2 4 3 2 2 8 7 6 5 4 3 2 2 3 2 4 3 2 2 5 4 3 2 2 3 2 6 5 4 3 2 2 3 2 4 3 2 2 8 7 6 5 4 3 2 2 3 2 4 3 2 2 5 4 3 2 2 3 2 6 5 4 3 2 2 3 2 4 3 2 2 8 7 6 5 4 3 2 2 3 2 4 3 2 2 5 4 3 2 2 3 2 6 5 4 3 2 2 3 2 4 3 2 2 8 7 6 5 4 3 2 2 3 2 4 3 2 2 5 4 3 2 2 3 2 6 5 4 3 2 2 3 2 4 3 2 2 8 7 6 5 4 3 2 2 3 2 4 3 2 2 5 4 3 2 2 3 2 6 5 4 3 2 2 3 2 4 3 2 2 8 7 6 5 4 3 2 2 3 2 4 3 2 2 5 4 3 2 2 3 2 6 5 4 3 2 2 3 2 4 3 2 2 8 7 6 5 4 3 2 2 3 2 4 3 2 2 5 4 3 2 2 3 2 6 5 4 3 2 2 3 2 4 3 2 2 8 7 6 5 4 3 2 2 3 2 4 3 2 2 5 4 3 2 2 3 2 6 5 4 3 2 2 3 2 4 3 2 2 8 7 6 5 4 3 2 2 3 2 4 3 2 2 5 4 3 2 2 3 2 6 5 4 3 2 2 3 2 4 3 2 2 8 7 6 5 4 3 2 2 3 2 4 3 2 2 5 4 3 2 2 3 2 6 5 4 3 2 2 3 2 4 3 2 2 8 7 6 5 4 3 2 2 3 2 4 3 2 2 5 4 3 2 2 3 2 6 5 4 3 2 2 3 2 4 3 2 2 8 7 6 5 4 3 2 2 3 2 4 3 2 2 5 4 3 2 2 3 2 6 5 4 3 2 2 3 2 4 3 2 2 8 7 6 5 4 3 2 2 3 2 4 3 2 2 5 4 3 2 2 3 2 6 5 4 3 2 2 3 2 4 3 2 2 8 7 6 5 4 3 2 2 3 2 4 3 2 2 5 4 3 2 2 3 2 6 5 4 3 2 2 3 2 4 3 2 2 8 7 6 5 4 3 2 2 3 2 4 3 2 2 5 4 3 2 2 3 2 6 5 4 3 2 2 3 2 4 3 2 2 8 7 6 5 4 3 2 2 3 2 4 3 2 2 5 4 3 2 2 3 2 6 5 4 3 2 2 3 2 4 3 2 2 8 7 6 5 4 3 2 2 3 2 4 3 2 2 5 4 3 2 2 3 2 6 5 4 3 2 2 3 2 4 3 2 2 8 7 6 5 4 3 2 2 3 2 4 3 2 2 5 4 3 2 2 3 2 6 5 4 3 2 2 3 2 4 3 2 2 8 7 6 5 4 3 2 2 3 2 4 3 2 2 5 4 3 2 2 3 2 6 5 4 3 2 2 3 2 4 3 2 2 8 7 6 5 4 3 2 2 3 2 4 3 2 2 5 4 3 2 2 3 2 6 5 4 3 2 2 3 2 4 3 2 2 8 7 6 5 4 3 2 2 3 2 4 3 2 2 5 4 3 2 2 3 2 6 5 4 3 2 2 3 2 4 3 2 2 8 7 6 5 4 3 2 2 3 2 4 3 2 2 5 4 3 2 2 3 2 6 5 4 3 2 2 3 2 4 3 2 2 8 7 6 5 4 3 2 2 3 2 4 3 2 2 5 4 3 2 2 3 2 6 5 4 3 2 2 3 2 4 3 2 2 8 7 6 5 4 3 2 2 3 2 4 3 2 2 5 4 3 2 2 3 2 6 5 4 3 2 2 3 2 4 3 2 2 8 7 6 5 4 3 2 2 3 2 4 3 2 2 5 4 3 2 2 3 2 6 5 4 3 2 2 3 2 4 3 2 2 8 7 6 5 4 3 2 2 3 2 4 3 2 2 5 4 3 2 2 3 2 6 5 4 3 2 2 3 2 4 3 2 2 8 7 6 5 4 3 2 2 3 2 4 3 2 2 5 4 3 2 2 3 2 6 5 4 3 2 2 3 2 4 3 2 2 8 7 6 5 4 3 2 2 3 2 4 3 2 2 5 4 3 2 2 3 2 6 5 4 3 2 2 3 2 4 3 2 2 8 7 6 5 4 3 2 2 3 2 4 3 2 2 5 4 3 2 2 3 2 6 5 4 3 2 2 3 2 4 3 2 2 8 7 6 5 4 3 2 2 3 2 4 3 2 2 5 4 3 2 2 3 2 6 5 4 3 2 2 3 2 4 3 2 2 8 7 6 5 4 3 2 2 3 2 4 3 2 2 5 4 3 2 2 3 2 6 5 4 3 2 2 3 2 4 3 2 2 8 7 6 5 4 3 2 2 3 2 4 3 2 2 5 4 3 2 2 3 2 6 5 4 3 2 2 3 2 4 3 2 2 8 7 6 5 4 3 2 2 3 2 4 3 2 2 5 4 3 2 2 3 2 6 5 4 3 2 2 3 2 4 3 2 2 8 7 6 5 4 3 2 2 3 2 4 3 2 2 5 4 3 2 2 3 2 6 5 4 3 2 2 3 2 4 3 2 2 8 7 6 5 4 3 2 2 3 2 4 3 2 2 5 4 3 2 2 3 2 6 5 4 3 2 2 3 2 4 3 2 2 8 7 6 5 4 3 2 2 3 2 4 3 2 2 5 4 3 2 2 3 2 6 5 4 3 2 2 3 2 4 3 2 2 8 7 6 5 4 3 2 2 3 2 4 3 2 2 5 4 3 2 2 3 2 6 5 4 3 2 2 3 2 4 3 2 2 8 7 6 5 4 3 2 2 3 2 4 3 2 2 5 4 3 2 2 3 2 6 5 4 3 2 2 3 2 4 3 2 2 8 7 6 5 4 3 2 2 3 2 4 3 2 2 5 4 3 2 2 3 2 6 5 4 3 2 2 3 2 4 3 2 2 8 7 6 5 4 3 2 2 3 2 4 3 2 2 5 4 3 2 2 3 2 6 5 4 3 2 2 3 2 4 3 2 2 8 7 6 5 4 3 2 2 3 2 4 3 2 2 5 4 3 2 2 3 2 6 5 4 3 2 2 3 2 4 3 2 2 8 7 6 5 4 3 2 2 3 2 4 3 2 2 5 4 3 2 2 3 2 6 5 4 3 2 2 3 2 4 3 2 2 8 7 6 5 4 3 2 2 3 2 4 3 2 2 5 4 3 2 2 3 2 6 5 4 3 2 2 3 2 4 3 2 2 8 7 6 5 4 3 2 2 3 2 4 3 2 2 5 4 3 2 2 3 2 6 5 4 3 2 2 3 2 4 3 2 2 8 7 6 5 4 3 2 2 3 2 4 3 2 2 5 4 3 2 2 3 2 6 5 4 3 2 2 3 2 4 3 2 2 8 7 6 5 4 3 2 2 3 2 4 3 2 2 5 4 3 2 2 3 2 6 5 4 3 2 2 3 2 4 3 2 2 8 7 6 5 4 3 2 2 3 2 4 3 2 2 5 4 3 2 2 3 2 6 5 4 3 2 2 3 2 4 3 2 2 8 7 6 5 4 3 2 2 3 2 4 3 2 2 5 4 3 2 2 3 2 6 5 4 3 2 2 3 2 4 3 2 2 8 7 6 5 4 3 2 2 3 2 4 3 2 2 5 4 3 2 2 3 2 6 5 4 3 2 2 3 2 4 3 2 2 8 7 6 5 4 3 2 2 3 2 4 3 2 2 5 4 3 2 2 3 2 6 5 4 3 2 2 3 2 4 3 2 2 8 7 6 5 4 3 2 2 3 2 4 3 2 2 5 4 3 2 2 3 2 6 5 4 3 2 2 3 2 4 3 2 2 8 7 6 5 4 3 2 2 3 2 4 3 2 2 5 4 3 2 2 3 2 6 5 4 3 2 2 3 2 4 3 2 2 8 7 6 5 4 3 2 2 3 2 4 3 2 2 5 4 3 2 2 3 2 6 5 4 3 2 2 3 2 4 3 2 2 8 7 6 5 4 3 2 2 3 2 4 3 2 2 5 4 3 2 2 3 2 6 5 4 3 2 2 3 2 4 3 2 2 8 7 6 5 4 3 2 2 3 2 4 3 2 2 5 4 3 2 2 3 2 6 5 4 3 2 2 3 2 4 3 2 2 8 7 6 5 4 3 2 2 3 2 4 3 2 2 5 4 3 2 2 3 2 6 5 4 3 2 2 3 2 4 3 2 2 8 7 6 5 4 3 2 2 3 2 4 3 2 2 5 4 3 2 2 3 2 6 5 4 3 2 2 3 2 4 3 2 2 8 7 6 5 4 3 2 2 3 2 4 3 2 2 5 4 3 2 2 3 2 6 5 4 3 2 2 3 2 4 3 2 2 8 7 6 5 4 3 2 2 3 2 4 3 2 2 5 4 3 2 2 3 2 6 5 4 3 2 2 3 2 4 3 2 2 8 7 6 5 4 3 2 2 3 2 4 3 2 2 5 4 3 2 2 3 2 6 5 4 3 2 2 3 2 4 3 2 2 8 7 6 5 4 3 2 2 3 2 4 3 2 2 5 4 3 2 2 3 2 6 5 4 3 2 2 3 2 4 3 2 2 8 7 6 5 4 3 2 2 3 2 4 3 2 2 5 4 3 2 2 3 2 6 5 4 3 2 2 3 2 4 3 2 2 8 7 6 5 4 3 2 2 3 2 4 3 2 2 5 4 3 2 2 3 2 6 5 4 3 2 2 3 2 4 3 2 2 8 7 6 5 4 3 2 2 3 2 4 3 2 2 5 4 3 2 2 3 2 6 5 4 3 2 2 3 2 4 3 2 2 8 7 6 5 4 3 2 2 3 2 4 3 2 2 5 4 3 2 2 3 2 6 5 4 3 2 2 3 2 4 3 2 2 8 7 6 5 4 3 2 2 3 2 4 3 2 2 5 4 3 2 2 3 2 6 5 4 3 2 2 3 2 4 3 2 2 8 7 6 5 4 3 2 2 3 2 4 3 2 2 5 4 3 2 2 3 2 6 5 4 3 2 2 3 2 4 3 2 2 8 7 6 5 4 3 2 2 3 2 4 3 2 2 5 4 3 2 2 3 2 6 5 4 3 2 2 3 2 4 3 2 2 8 7 6 5 4 3 2 2 3 2 4 3 2 2 5 4 3 2 2 3 2 6 5 4 3 2 2 3 2 4 3 2 2 8 7 6 5 4 3 2 2 3 2 4 3 2 2 5 4 3 2 2 3 2 6 5 4 3 2 2 3 2 4 3 2 2 8 7 6 5 4 3 2 2 3 2 4 3 2 2 5 4 3 2 2 3 2 6 5 4 3 2 2 3 2 4 3 2 2 8 7 6 5 4 3 2 2 3 2 4 3 2 2 5 4 3 2 2 3 2 6 5 4 3 2 2 3 2 4 3 2 2 8 7 6 5 4 3 2 2 3 2 4 3 2 2 5 4 3 2 2 3 2 6 5 4 3 2 2 3 2 4 3 2 2 8 7 6 5 4 3 2 2 3 2 4 3 2 2 5 4 3 2 2 3 2 6 5 4 3 2 2 3 2 4 3 2 2 8 7 6 5 4 3 2 2 3 2 4 3 2 2 5 4 3 2 2 3 2 6 5 4 3 2 2 3 2 4 3 2 2 8 7 6 5 4 3 2 2 3 2 4 3 2 2 5 4 3 2 2 3 2 6 5 4 3 2 2 3 2 4 3 2 2 8 7 6 5 4 3 2 2 3 2 4 3 2 2 5 4 3 2 2 3 2 6 5 4 3 2 2 3 2 4 3 2 2 8 7 6 5 4 3 2 2 3 2 4 3 2 2 5 4 3 2 2 3 2 6 5 4 3 2 2 3 2 4 3 2 2 8 7 6 5 4 3 2 2 3 2 4 3 2 2 5 4 3 2 2 3 2 6 5 4 3 2 2 3 2 4 3 2 2 8 7 6 5 4 3 2 2 3 2 4 3 2 2 5 4 3 2 2 3 2 6 5 4 3 2 2 3 2 4 3 2 2 8 7 6 5 4 3 2 2 3 2 4 3 2 2 5 4 3 2 2 3 2 6 5 4 3 2 2 3 2 4 3 2 2 8 7 6 5 4 3 2 2 3 2 4 3 2 2 5 4 3 2 2 3 2 6 5 4 3 2 2 3 2 4 3 2 2 8 7 6 5 4 3 2 2 3 2 4 3 2 2 5 4 3 2 2 3 2 6 5 4 3 2 2 3 2 4 3 2 2 8 7 6 5 4 3 2 2 3 2 4 3 2 2 5 4 3 2 2 3 2 6 5 4 3 2 2 3 2 4 3 2 2 8 7 6 5 4 3 2 2 3 2 4 3 2 2 5 4 3 2 2 3 2 6 5 4 3 2 2 3 2 4 3 2 2 8 7 6 5 4 3 2 2 3 2 4 3 2 2 5 4 3 2 2 3 2 6 5 4 3 2 2 3 2 4 3 2 2 8 7 6 5 4 3 2 2 3 2 4 3 2 2 5 4 3 2 2 3 2 6 5 4 3 2 2 3 2 4 3 2 2 8 7 6 5 4 3 2 2 3 2 4 3 2 2 5 4 3 2 2 3 2 6 5 4 3 2 2 3 2 4 3 2 2 8 7 6 5 4 3 2 2 3 2 4 3 2 2 5 4 3 2 2 3 2 6 5 4 3 2 2 3 2 4 3 2 2 8 7 6 5 4 3 2 2 3 2 4 3 2 2 5 4 3 2 2 3 2 6 5 4 3 2 2 3 2 4 3 2 2 8 7 6 5 4 3 2 2 3 2 4 3 2 2 5 4 3 2 2 3 2 6 5 4 3 2 2 3 2 4 3 2 2 8 7 6 5 4 3 2 2 3 2 4 3 2 2 5 4 3 2 2 3 2 6 5 4 3 2 2 3 2 4 3 2 2 8 7 6 5 4 3 2 2 3 2 4 3 2 2 5 4 3 2 2 3 2 6 5 4 3 2 2 3 2 4 3 2 2 8 7 6 5 4 3 2 2 3 2 4 3 2 2 5 4 3 2 2 3 2 6 5 4 3 2 2 3 2 4 3 2 2 8 7 6 5 4 3 2 2 3 2 4 3 2 2 5 4 3 2 2 3 2 6 5 4 3 2 2 3 2 4 3 2 2 8 7 6 5 4 3 2 2 3 2 4 3 2 2 5 4 3 2 2 3 2 6 5 4 3 2 2 3 2 4 3 2 2 8 7 6 5 4 3 2 2 3 2 4 3 2 2 5 4 3 2 2 3 2 6 5 4 3 2 2 3 2 4 3 2 2 8 7 6 5 4 3 2 2 3 2 4 3 2 2 5 4 3 2 2 3 2 6 5 4 3 2 2 3 2 4 3 2 2 8 7 6 5 4 3 2 2 3 2 4 3 2 2 5 4 3 2 2 3 2 6 5 4 3 2 2 3 2 4 3 2 2 8 7 6 5 4 3 2 2 3 2 4 3 2 2 5 4 3 2 2 3 2 6 5 4 3 2 2 3 2 4 3 2 2 8 7 6 5 4 3 2 2 3 2 4 3 2 2 5 4 3 2 2 3 2 6 5 4 3 2 2 3 2 4 3 2 2 8 7 6 5 4 3 2 2 3 2 4 3 2 2 5 4 3 2 2 3 2 6 5 4 3 2 2 3 2 4 3 2 2 8 7 6 5 4 3 2 2 3 2 4 3 2 2 5 4 3 2 2 3 2 6 5 4 3 2 2 3 2 4 3 2 2 8 7 6 5 4 3 2 2 3 2 4 3 2 2 5 4 3 2 2 3 2 6 5 4 3 2 2 3 2 4 3 2 2 8 7 6 5 4 3 2 2 3 2 4 3 2 2 5 4 3 2 2 3 2 6 5 4 3 2 2 3 2 4 3 2 2 8 7 6 5 4 3 2 2 3 2 4 3 2 2 5 4 3 2 2 3 2 6 5 4 3 2 2 3 2 4 3 2 2 8 7 6 5 4 3 2 2 3 2 4 3 2 2 5 4 3 2 2 3 2 6 5 4 3 2 2 3 2 4 3 2 2 8 7 6 5 4 3 2 2 3 2 4 3 2 2 5 4 3 2 2 3 2 6 5 4 3 2 2 3 2 4 3 2 2 8 7 6 5 4 3 2 2 3 2 4 3 2 2 5 4 3 2 2 3 2 6 5 4 3 2 2 3 2 4 3 2 2 8 7 6 5 4 3 2 2 3 2 4 3 2 2 5 4 3 2 2 3 2 6 5 4 3 2 2 3 2 4 3 2 2 8 7 6 5 4 3 2 2 3 2 4 3 2 2 5 4 3 2 2 3 2 6 5 4 3 2 2 3 2 4 3 2 2 8 7 6 5 4 3 2 2 3 2 4 3 2 2 5 4 3 2 2 3 2 6 5 4 3 2 2 3 2 4 3 2 2 8 7 6 5 4 3 2 2 3 2 4 3 2 2 5 4 3 2 2 3 2 6 5 4 3 2 2 3 2 4 3 2 2 8 7 6 5 4 3 2 2 3 2 4 3 2 2 5 4 3 2 2 3 2 6 5 4 3 2 2 3 2 4 3 2 2 8 7 6 5 4 3 2 2 3 2 4 3 2 2 5 4 3 2 2 3 2 6 5 4 3 2 2 3 2 4 3 2 2 8 7 6 5 4 3 2 2 3 2 4 3 2 2 5 4 3 2 2 3 2 6 5 4 3 2 2 3 2 4 3 2 2 8 7 6 5 4 3 2 2 3 2 4 3 2 2 5 4 3 2 2 3 2 6 5 4 3 2 2 3 2 4 3 2 2 8 7 6 5 4 3 2 2 3 2 4 3 2 2 5 4 3 2 2 3 2 6 5 4 3 2 2 3 2 4 3 2 2 8 7 6 5 4 3 2 2 3 2 4 3 2 2 5 4 3 2 2 3 2 6 5 4 3 2 2 3 2 4 3 2 2 8 7 6 5 4 3 2 2 3 2 4 3 2 2 5 4 3 2 2 3 2 6 5 4 3 2 2 3 2 4 3 2 2 8 7 6 5 4 3 2 2 3 2 4 3 2 2 5 4 3 2 2 3 2 6 5 4 3 2 2 3 2 4 3 2 2 8 7 6 5 4 3 2 2 3 2 4 3 2 2 5 4 3 2 2 3 2 6 5 4 3 2 2 3 2 4 3 2 2 8 7 6 5 4 3 2 2 3 2 4 3 2 2 5 4 3 2 2 3 2 6 5 4 3 2 2 3 2 4 3 2 2 8 7 6 5 4 3 2 2 3 2 4 3 2 2 5 4 3 2 2 3 2 6 5 4 3 2 2 3 2 4 3 2 2 8 7 6 5 4 3 2 2 3 2 4 3 2 2 5 4 3 2 2 3 2 6 5 4 3 2 2 3 2 4 3 2 2 8 7 6 5 4 3 2 2 3 2 4 3 2 2 5 4 3 2 2 3 2 6 5 4 3 2 2 3 2 4 3 2 2 8 7 6 5 4 3 2 2 3 2 4 3 2 2 5 4 3 2 2 3 2 6 5 4 3 2 2 3 2 4 3 2 2 8 7 6 5 4 3 2 2 3 2 4 3 2 2 5 4 3 2 2 3 2 6 5 4 3 2 2 3 2 4 3 2 2 8 7 6 5 4 3 2 2 3 2 4 3 2 2 5 4 3 2 2 3 2 6 5 4 3 2 2 3 2 4 3"
     ]
    },
    {
     "name": "stdout",
     "output_type": "stream",
     "text": [
      " 2 2 8 7 6 5 4 3 2 2 3 2 4 3 2 2 5 4 3 2 2 3 2 6 5 4 3 2 2 3 2 4 3 2 2 8 7 6 5 4 3 2 2 3 2 4 3 2 2 5 4 3 2 2 3 2 6 5 4 3 2 2 3 2 4 3 2 2 8 7 6 5 4 3 2 2 3 2 4 3 2 2 5 4 3 2 2 3 2 6 5 4 3 2 2 3 2 4 3 2 2 8 7 6 5 4 3 2 2 3 2 4 3 2 2 5 4 3 2 2 3 2 6 5 4 3 2 2 3 2 4 3 2 2 8 7 6 5 4 3 2 2 3 2 4 3 2 2 5 4 3 2 2 3 2 6 5 4 3 2 2 3 2 4 3 2 2 8 7 6 5 4 3 2 2 3 2 4 3 2 2 5 4 3 2 2 3 2 6 5 4 3 2 2 3 2 4 3 2 2 8 7 6 5 4 3 2 2 3 2 4 3 2 2 5 4 3 2 2 3 2 6 5 4 3 2 2 3 2 4 3 2 2 8 7 6 5 4 3 2 2 3 2 4 3 2 2 5 4 3 2 2 3 2 6 5 4 3 2 2 3 2 4 3 2 2 8 7 6 5 4 3 2 2 3 2 4 3 2 2 5 4 3 2 2 3 2 6 5 4 3 2 2 3 2 4 3 2 2 8 7 6 5 4 3 2 2 3 2 4 3 2 2 5 4 3 2 2 3 2 6 5 4 3 2 2 3 2 4 3 2 2 8 7 6 5 4 3 2 2 3 2 4 3 2 2 5 4 3 2 2 3 2 6 5 4 3 2 2 3 2 4 3 2 2 8 7 6 5 4 3 2 2 3 2 4 3 2 2 5 4 3 2 2 3 2 6 5 4 3 2 2 3 2 4 3 2 2 8 7 6 5 4 3 2 2 3 2 4 3 2 2 5 4 3 2 2 3 2 6 5 4 3 2 2 3 2 4 3 2 2 8 7 6 5 4 3 2 2 3 2 4 3 2 2 5 4 3 2 2 3 2 6 5 4 3 2 2 3 2 4 3 2 2 8 7 6 5 4 3 2 2 3 2 4 3 2 2 5 4 3 2 2 3 2 6 5 4 3 2 2 3 2 4 3 2 2 8 7 6 5 4 3 2 2 3 2 4 3 2 2 5 4 3 2 2 3 2 6 5 4 3 2 2 3 2 4 3 2 2 8 7 6 5 4 3 2 2 3 2 4 3 2 2 5 4 3 2 2 3 2 6 5 4 3 2 2 3 2 4 3 2 2 8 7 6 5 4 3 2 2 3 2 4 3 2 2 5 4 3 2 2 3 2 6 5 4 3 2 2 3 2 4 3 2 2 8 7 6 5 4 3 2 2 3 2 4 3 2 2 5 4 3 "
     ]
    },
    {
     "data": {
      "text/html": [
       "<b>limit_output extension: Maximum message size of 10000 exceeded with 10694 characters</b>"
      ]
     },
     "metadata": {},
     "output_type": "display_data"
    }
   ],
   "source": [
    "%timeit fibonacci(8) # Temps d'exécution de la fonction fibonacci"
   ]
  },
  {
   "cell_type": "markdown",
   "metadata": {},
   "source": [
    "### Visualisation de complexités courantes"
   ]
  },
  {
   "cell_type": "code",
   "execution_count": 3,
   "metadata": {
    "ExecuteTime": {
     "end_time": "2022-01-24T10:49:50.533377Z",
     "start_time": "2022-01-24T10:49:50.256147Z"
    }
   },
   "outputs": [
    {
     "data": {
      "text/plain": [
       "<matplotlib.legend.Legend at 0x7f785d7a8eb8>"
      ]
     },
     "execution_count": 3,
     "metadata": {},
     "output_type": "execute_result"
    },
    {
     "data": {
      "image/png": "[encoded data removed]",
      "text/plain": [
       "<Figure size 432x288 with 1 Axes>"
      ]
     },
     "metadata": {
      "needs_background": "light"
     },
     "output_type": "display_data"
    }
   ],
   "source": [
    "from matplotlib.pylab import plot, arange, cos, sin, log2, plt\n",
    "\n",
    "\"\"\"\n",
    "Commentez l'affichage des graphes\n",
    "en particulier pour Y4\n",
    "\"\"\"\n",
    "X = arange(1,10,0.01)\n",
    "Y1, Y2 , Y3, Y4 = X, X**2, log2(X), 2**X, \n",
    "plot(X,Y1,label=\"x\")\n",
    "plot(X,Y2,label=\"x^2\")\n",
    "plot(X,Y3,label=\"log2(x)\")\n",
    "plot(X,Y4,label=\"2^x\")\n",
    "plt.legend()"
   ]
  },
  {
   "cell_type": "code",
   "execution_count": null,
   "metadata": {},
   "outputs": [],
   "source": [
    "Ranger Roger dans Roger Federer le Ranger de la ville de Roger"
   ]
  }
 ],
 "metadata": {
  "hide_input": false,
  "kernelspec": {
   "display_name": "Python 3",
   "language": "python",
   "name": "python3"
  },
  "language_info": {
   "codemirror_mode": {
    "name": "ipython",
    "version": 3
   },
   "file_extension": ".py",
   "mimetype": "text/x-python",
   "name": "python",
   "nbconvert_exporter": "python",
   "pygments_lexer": "ipython3",
   "version": "3.6.10"
  },
  "latex_envs": {
   "LaTeX_envs_menu_present": true,
   "autoclose": false,
   "autocomplete": true,
   "bibliofile": "biblio.bib",
   "cite_by": "apalike",
   "current_citInitial": 1,
   "eqLabelWithNumbers": true,
   "eqNumInitial": 1,
   "hotkeys": {
    "equation": "Ctrl-E",
    "itemize": "Ctrl-I"
   },
   "labels_anchors": false,
   "latex_user_defs": false,
   "report_style_numbering": false,
   "user_envs_cfg": false
  },
  "nbTranslate": {
   "displayLangs": [
    "*"
   ],
   "hotkey": "alt-t",
   "langInMainMenu": true,
   "sourceLang": "en",
   "targetLang": "fr",
   "useGoogleTranslate": true
  },
  "toc": {
   "base_numbering": 1,
   "nav_menu": {},
   "number_sections": true,
   "sideBar": true,
   "skip_h1_title": false,
   "title_cell": "Table of Contents",
   "title_sidebar": "Contents",
   "toc_cell": false,
   "toc_position": {},
   "toc_section_display": true,
   "toc_window_display": false
  },
  "varInspector": {
   "cols": {
    "lenName": 16,
    "lenType": 16,
    "lenVar": 40
   },
   "kernels_config": {
    "python": {
     "delete_cmd_postfix": "",
     "delete_cmd_prefix": "del ",
     "library": "var_list.py",
     "varRefreshCmd": "print(var_dic_list())"
    },
    "r": {
     "delete_cmd_postfix": ") ",
     "delete_cmd_prefix": "rm(",
     "library": "var_list.r",
     "varRefreshCmd": "cat(var_dic_list()) "
    }
   },
   "types_to_exclude": [
    "module",
    "function",
    "builtin_function_or_method",
    "instance",
    "_Feature"
   ],
   "window_display": false
  }
 },
 "nbformat": 4,
 "nbformat_minor": 2
}
