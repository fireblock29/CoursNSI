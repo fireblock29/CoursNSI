{
 "cells": [
  {
   "cell_type": "markdown",
   "metadata": {},
   "source": [
    "# <center><font face=\"arial\" size=\"5\" color=#0101DF>NUMERIQUE ET SCIENCES INFORMATIQUES Terminale NSI</font></center>"
   ]
  },
  {
   "cell_type": "markdown",
   "metadata": {},
   "source": [
    "## <font color=#013ADF>Séquence N° 9 : Langages et programmation : Modularité</font>"
   ]
  },
  {
   "cell_type": "markdown",
   "metadata": {},
   "source": [
    "<div class=\"alert alert-danger\" role=\"alert\">\n",
    "    \n",
    "Les objectifs de cette séquence sont :\n",
    "\n",
    "- Utiliser des API (Application Programming interface) ou des bibliothèques ;\n",
    "- Exploiter leur documentation ;\n",
    "- Créer des modules simples et les documenter.\n",
    "\n",
    "</div>"
   ]
  },
  {
   "cell_type": "markdown",
   "metadata": {},
   "source": [
    "<div class=\"alert alert-warning\">\n",
    "<img src=\"Images/CR.png\" alt=\"logo CR\" width=5% align=right>\n",
    "    \n",
    "Travail préalable   \n",
    "\n",
    "\n",
    "- Lire le chapitre 9, paragraphe 5 du livre.\n",
    "- Que veut dire l'acronyme API ? Donner une définition d'une API ? Quel est son principal intérêt ?\n",
    "    \n",
    "\n",
    "</div>"
   ]
  },
  {
   "cell_type": "markdown",
   "metadata": {},
   "source": [
    "### API Découpage administratif > Communes"
   ]
  },
  {
   "cell_type": "markdown",
   "metadata": {},
   "source": [
    "<div class=\"alert alert-success\">\n",
    " \n",
    "    \n",
    "Pour réaliser ce travail, il faut s'intéresser au format JSON et au module requests.\n",
    "    \n",
    "L'API utilisé aujourd'hui se trouve à l'adresse suivante : https://geo.api.gouv.fr/decoupage-administratif/communes\n",
    "\n",
    "    \n",
    "    \n",
    "</div>"
   ]
  },
  {
   "cell_type": "markdown",
   "metadata": {},
   "source": [
    "### 1- Le format JSON"
   ]
  },
  {
   "cell_type": "markdown",
   "metadata": {},
   "source": [
    "<div class=\"alert alert-success\">\n",
    "    \n",
    "Wikipédia\n",
    "\n",
    "> JavaScript Object Notation (JSON) est un format de données textuelles dérivé de la notation des objets du langage JavaScript. Il permet de représenter de l’information structurée comme le permet XML par exemple. \n",
    "\n",
    " Il s'agit d'un format texte minimaliste. Vous pourrez voir et modifier facilement des valeurs avec un quelconque éditeur de texte. JSON se base plus sur un modèle clé/valeur (ça doit vous rappeler quelque chose) que sur un format de  balisage (format XML).\n",
    "\n",
    "JSON  est un format qui encode les objets en une chaîne de caractères (string). Cette opération est appelée `sérialisation`. L'opération inverse est appelée `désérialisation` (string → objet).\n",
    "\n",
    "Quand vous transmettez des données ou vous les stockez dans un fichier, les données doivent être des chaînes d'octets, mais les objets sont rarement dans un format aussi simple. Essayez d'imaginer comment transmettre le dictionnaire décrit dans le programme ci-dessous (attention, l'objet \"dictionnaire\" possède des méthodes !)\n",
    "\n",
    "La `sérialisation` peut convertir ces objets complexes en une chaîne d'octets. Lorsque la chaîne est stockée ou transmise sur un réseau, le receveur va `désérialiser` la chaîne pour revenir au à l'objet original.\n",
    "    \n",
    "</div>    "
   ]
  },
  {
   "cell_type": "markdown",
   "metadata": {},
   "source": [
    "#### 1-1 Sérialisation"
   ]
  },
  {
   "cell_type": "markdown",
   "metadata": {},
   "source": [
    "<div class=\"alert alert-success\">\n",
    "    \n",
    "Pour ce premier travail, on a crée un objet dictionnaire \"exemple\", assez complexe pour toucher beaucoup de types d'objets (entier, chaîne de caractères, liste, dictionnaire, booléen)\n",
    "    \n",
    "</div>    "
   ]
  },
  {
   "cell_type": "code",
   "execution_count": null,
   "metadata": {},
   "outputs": [],
   "source": [
    "#!/usr/bin/env python3\n",
    "# -*- coding: utf-8 -*-\n",
    "\"\"\"\n",
    "Découverte du format JSON+\n",
    "\"\"\"\n",
    "\n",
    "exemple={\"musique\":\"rock\", \"nombre\":6, \"88\":\"bidon\", \"liste\":[1,5,8], \"dico\":{\"cle\":\"valeur\"}, \"etat\":True}\n",
    "\n",
    "print(exemple[\"musique\"])\n",
    "print(exemple['liste'][1])\n",
    "print(type(exemple))\n",
    "help(dict)"
   ]
  },
  {
   "cell_type": "markdown",
   "metadata": {},
   "source": [
    "<div class=\"alert alert-success\">\n",
    "    \n",
    "**On constate bien dans ce code que nous avons un dictionnaire. Procédons à la sérialisation :**\n",
    "    \n",
    "</div>    "
   ]
  },
  {
   "cell_type": "code",
   "execution_count": null,
   "metadata": {},
   "outputs": [],
   "source": [
    "#!/usr/bin/env python3\n",
    "# -*- coding: utf-8 -*-\n",
    "\"\"\"\n",
    "Découverte du format JSON\n",
    "\"\"\"\n",
    "import json\n",
    "\n",
    "exemple={\"musique\":\"rock\", \"nombre\":6, \"88\":\"bidon\", \"liste\":[1,5,8], \"dico\":{\"cle\":\"valeur\"}, \"etat\":True}\n",
    "\n",
    "# Transforme mon dictionnaire en chaine de caractères -> sérialisation\n",
    "chaine_json=json.dumps(exemple)\n",
    "\n",
    "print(chaine_json)\n",
    "print(type(chaine_json))"
   ]
  },
  {
   "cell_type": "markdown",
   "metadata": {},
   "source": [
    "<div class=\"alert alert-success\">\n",
    "    \n",
    "**Version plus lisible et même triée (observez les clés)**\n",
    "    \n",
    "</div>    "
   ]
  },
  {
   "cell_type": "code",
   "execution_count": null,
   "metadata": {},
   "outputs": [],
   "source": [
    "#!/usr/bin/env python3\n",
    "# -*- coding: utf-8 -*-\n",
    "\"\"\"\n",
    "Découverte du format JSON\n",
    "\"\"\"\n",
    "import json\n",
    "\n",
    "exemple={\"musique\":\"rock\", \"nombre\":6, \"88\":\"bidon\", \"liste\":[1,5,8], \"dico\":{\"cle\":\"valeur\"}, \"etat\":True}\n",
    "\n",
    "\n",
    "# Transforme mon dictionnaire en chaine de caractères\n",
    "chaine_json=json.dumps(exemple, indent=4, sort_keys=True) # triée !\n",
    "\n",
    "print(chaine_json)\n",
    "print(type(chaine_json))"
   ]
  },
  {
   "cell_type": "markdown",
   "metadata": {},
   "source": [
    "<div class=\"alert alert-success\">\n",
    "    \n",
    "**Sauvegarde d'un dictionnaire dans un fichier au format JSON**\n",
    "    \n",
    "</div>    "
   ]
  },
  {
   "cell_type": "code",
   "execution_count": null,
   "metadata": {},
   "outputs": [],
   "source": [
    "#!/usr/bin/env python3\n",
    "# -*- coding: utf-8 -*-\n",
    "\"\"\"\n",
    "Sauvegarde du dictionnaire \"exemple\" dans un fichier json\n",
    "(-> sérialisation) appelé \"fichier_sauve_json.json\"\n",
    "Allez voir dans le répertoire courant le fichier\n",
    "\"\"\"\n",
    "import json\n",
    "\n",
    "exemple={\"musique\":\"rock\", \"nombre\":6, \"88\":\"bidon\",\n",
    "         \"liste\":[1,5,8], \"dico\":{\"cle\":\"valeur\"}, \"etat\":True}\n",
    "\n",
    "with open(\"fichier_sauve_json.json\", \"w\", encoding=\"utf-8\") as fichier:\n",
    "    json.dump(exemple, fichier, indent=4, sort_keys=True)"
   ]
  },
  {
   "cell_type": "markdown",
   "metadata": {},
   "source": [
    "#### 1-2 Désérialisation (Il faut avoir précédemment créé la chaîne \"chaîne_json\" pour exécuter ce code)"
   ]
  },
  {
   "cell_type": "code",
   "execution_count": null,
   "metadata": {},
   "outputs": [],
   "source": [
    "#!/usr/bin/env python3\n",
    "# -*- coding: utf-8 -*-\n",
    "\"\"\"\n",
    "Découverte du format JSON\n",
    "\"\"\"\n",
    "import json\n",
    "\n",
    "dictionnaire=json.loads(chaine_json,encoding='utf-8')\n",
    "\n",
    "print(dictionnaire)\n",
    "print(type(dictionnaire))"
   ]
  },
  {
   "cell_type": "markdown",
   "metadata": {},
   "source": [
    "<div class=\"alert alert-success\">\n",
    "    \n",
    "**Lecture du fichier au format JSON et création d'un dictionnaire**\n",
    "    \n",
    "</div>"
   ]
  },
  {
   "cell_type": "code",
   "execution_count": null,
   "metadata": {},
   "outputs": [],
   "source": [
    "#!/usr/bin/env python3\n",
    "# -*- coding: utf-8 -*-\n",
    "\"\"\"\n",
    "Lecture du fichier sérialisé et création d'un dictionnaire\n",
    "appelé \"recuperation\"\n",
    "\"\"\"\n",
    "import json\n",
    "\n",
    "with open(\"fichier_sauve_json.json\", \"r\", encoding=\"utf-8\") as fichier:\n",
    "    recuperation=json.load(fichier)\n",
    "\n",
    "print(recuperation)\n",
    "print(type(recuperation))"
   ]
  },
  {
   "cell_type": "markdown",
   "metadata": {},
   "source": [
    "### 2- Le module requests"
   ]
  },
  {
   "cell_type": "markdown",
   "metadata": {},
   "source": [
    "<div class=\"alert alert-success\">\n",
    "    \n",
    "Vous avez appris à faire des requêtes à un serveur par l'intermédiaire d'un formulaire HTML (méthodes GET et POST). Il est aussi possible de faire des requêtes à partir d'un programme python. Il suffit pour cela d'importer un module particulier.\n",
    "\n",
    "Requests est un module python permettant d'utiliser le protocole http de manière très simple : https://requests-fr.readthedocs.io/en/latest/\n",
    "\n",
    "Récupérez les données sur le serveur en se servant du format ci-dessous :\n",
    "</div>"
   ]
  },
  {
   "cell_type": "code",
   "execution_count": null,
   "metadata": {},
   "outputs": [],
   "source": [
    "import requests\n",
    "\n",
    "# reponse contient la réponse du serveur, c'est à dire la ressources demandée si elle existe !\n",
    "reponse = requests.get(\"http://url de la ressource souhaitée\")\n",
    "print(reponse.text)"
   ]
  },
  {
   "cell_type": "markdown",
   "metadata": {},
   "source": [
    "<div class=\"alert alert-warning\">\n",
    "<img src=\"Images/CR.png\" alt=\"logo CR\" width=5% align=right>\n",
    "   \n",
    "Traval demandé :\n",
    "    \n",
    "Créer une application python capable :\n",
    "- D'afficher la liste des communes d'un département ;\n",
    "- D'afficher la commune du département qui a le plus grand nombre d’habitants ;\n",
    "- D'afficher la commune du département qui a le plus petit nombre d’habitants ;\n",
    "- D'afficher le nombre d’habitants total du département ;\n",
    "    \n",
    "</div>"
   ]
  },
  {
   "cell_type": "code",
   "execution_count": 6,
   "metadata": {
    "ExecuteTime": {
     "end_time": "2022-03-23T07:48:22.474106Z",
     "start_time": "2022-03-23T07:48:22.053951Z"
    }
   },
   "outputs": [
    {
     "name": "stdout",
     "output_type": "stream",
     "text": [
      "('Brest', 139926)\n",
      "('Trégarvan', 114)\n",
      "915090\n"
     ]
    }
   ],
   "source": [
    "import requests\n",
    "\n",
    "def requete(num):\n",
    "    return requests.get(f'https://geo.api.gouv.fr/departements/{num}/communes').json()\n",
    "\n",
    "def dpt(num):\n",
    "    response=requete(num)\n",
    "    return [elt[\"nom\"] for elt in response]\n",
    "\n",
    "def commune_max(num):\n",
    "    response=requete(num)\n",
    "    p={elt[\"nom\"]:elt[\"population\"] for elt in response}\n",
    "    k=maxi(p.values())\n",
    "    return get_key(k,p),k\n",
    "\n",
    "\n",
    "def commune_min(num):\n",
    "    response=requete(num)\n",
    "    p={elt[\"nom\"]:elt[\"population\"] for elt in response}\n",
    "    k=mini(p.values())\n",
    "    return get_key(k,p),k\n",
    "\n",
    "def tot_hab(num):\n",
    "    response=requete(num)\n",
    "    return somme([elt[\"population\"] for elt in response])\n",
    "\n",
    "\n",
    "def get_key(val,p):\n",
    "        for key, value in p.items():\n",
    "             if val == value: \n",
    "                return key\n",
    "        return \"La clé n'existe pas\"\n",
    "    \n",
    "def maxi(liste):\n",
    "    maxi=0\n",
    "    for elt in liste:\n",
    "        if elt>maxi:\n",
    "            maxi=elt\n",
    "    return maxi\n",
    "\n",
    "def mini(liste):\n",
    "    mini=float(\"inf\")\n",
    "    for elt in liste:\n",
    "        if elt<mini:\n",
    "            mini=elt\n",
    "    return mini\n",
    "\n",
    "def somme(liste):\n",
    "    k=0\n",
    "    for elt in liste:\n",
    "        k+=elt\n",
    "    return k\n",
    "    \n",
    "    \n",
    "if __name__=='__main__':\n",
    "    #dpt(\"67\")\n",
    "    print(commune_max(\"29\"))\n",
    "    print(commune_min(\"29\"))\n",
    "    print(tot_hab(\"29\"))"
   ]
  },
  {
   "cell_type": "code",
   "execution_count": 52,
   "metadata": {
    "ExecuteTime": {
     "end_time": "2022-03-23T07:25:24.391765Z",
     "start_time": "2022-03-23T07:25:23.919994Z"
    }
   },
   "outputs": [
    {
     "name": "stdout",
     "output_type": "stream",
     "text": [
      "('Brest', 139926)\n",
      "('Trégarvan', 114)\n",
      "915090\n"
     ]
    }
   ],
   "source": [
    "#dpt(\"67\")\n",
    "print(commune_max(\"29\"))\n",
    "print(commune_min(\"29\"))\n",
    "print(tot_hab(\"29\"))"
   ]
  },
  {
   "cell_type": "code",
   "execution_count": null,
   "metadata": {},
   "outputs": [],
   "source": []
  }
 ],
 "metadata": {
  "hide_input": false,
  "kernelspec": {
   "display_name": "Python 3.10.6 64-bit",
   "language": "python",
   "name": "python3"
  },
  "language_info": {
   "codemirror_mode": {
    "name": "ipython",
    "version": 3
   },
   "file_extension": ".py",
   "mimetype": "text/x-python",
   "name": "python",
   "nbconvert_exporter": "python",
   "pygments_lexer": "ipython3",
   "version": "3.10.6"
  },
  "nbTranslate": {
   "displayLangs": [
    "*"
   ],
   "hotkey": "alt-t",
   "langInMainMenu": true,
   "sourceLang": "en",
   "targetLang": "fr",
   "useGoogleTranslate": true
  },
  "toc": {
   "base_numbering": 1,
   "nav_menu": {},
   "number_sections": true,
   "sideBar": true,
   "skip_h1_title": false,
   "title_cell": "Table of Contents",
   "title_sidebar": "Contents",
   "toc_cell": false,
   "toc_position": {},
   "toc_section_display": true,
   "toc_window_display": false
  },
  "varInspector": {
   "cols": {
    "lenName": 16,
    "lenType": 16,
    "lenVar": 40
   },
   "kernels_config": {
    "python": {
     "delete_cmd_postfix": "",
     "delete_cmd_prefix": "del ",
     "library": "var_list.py",
     "varRefreshCmd": "print(var_dic_list())"
    },
    "r": {
     "delete_cmd_postfix": ") ",
     "delete_cmd_prefix": "rm(",
     "library": "var_list.r",
     "varRefreshCmd": "cat(var_dic_list()) "
    }
   },
   "types_to_exclude": [
    "module",
    "function",
    "builtin_function_or_method",
    "instance",
    "_Feature"
   ],
   "window_display": false
  },
  "vscode": {
   "interpreter": {
    "hash": "916dbcbb3f70747c44a77c7bcd40155683ae19c65e1c03b4aa3499c5328201f1"
   }
  }
 },
 "nbformat": 4,
 "nbformat_minor": 2
}
