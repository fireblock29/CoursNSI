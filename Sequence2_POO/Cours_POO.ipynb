{
 "cells": [
  {
   "cell_type": "markdown",
   "metadata": {},
   "source": [
    "# <center><font face=\"arial\" size=\"5\" color=#0101DF>NUMERIQUE ET SCIENCES INFORMATIQUES Terminale NSI</font></center>"
   ]
  },
  {
   "cell_type": "markdown",
   "metadata": {},
   "source": [
    "## <font color=#013ADF>Séquence N° 2 : Programmation orienté objet - éléments de cours</font>"
   ]
  },
  {
   "cell_type": "markdown",
   "metadata": {},
   "source": [
    "<div class=\"alert alert-danger\" role=\"alert\">\n",
    "    \n",
    "Les objectifs de cette séquence sont :\n",
    "\n",
    "- Écrire la définition d'une classe ;\n",
    "- Accèder aux attributs et méthodes d'une classe ;\n",
    "- Spécifier une structure de données par son interface ;\n",
    "- Distinguer interface et implémentation ;\n",
    "- Écrire plusieurs implémentations d'une même structure de données.\n",
    "\n",
    "</div>"
   ]
  },
  {
   "cell_type": "markdown",
   "metadata": {},
   "source": [
    "### 1- Construction d'une classe sur un exemple"
   ]
  },
  {
   "cell_type": "markdown",
   "metadata": {},
   "source": [
    "On souhaite implémenter un chronomètre. Celui-ci possède un bouton start/stop et un bouton RAZ."
   ]
  },
  {
   "cell_type": "markdown",
   "metadata": {},
   "source": [
    "<img src=\"Images/chronomètre.png\" alt=\"logo CR\" width=15% align=left>"
   ]
  },
  {
   "cell_type": "raw",
   "metadata": {},
   "source": [
    "...................\n",
    ":  Chronometre    : Nom de la classe\n",
    "...................\n",
    ":id : str         : Attributs\n",
    ":debut : float    :\n",
    ":fin : float      :\n",
    ":duree : float    :\n",
    ":nb_chrono : int  :\n",
    "...................\n",
    ":start()          : \n",
    ":stop()           :\n",
    ":raz()            : Méthodes\n",
    ":duration(): float:\n",
    ":__repr__():str   :\n",
    ":nombre(): int    :\n",
    "..................."
   ]
  },
  {
   "cell_type": "markdown",
   "metadata": {},
   "source": [
    "### Création de la classe"
   ]
  },
  {
   "cell_type": "code",
   "execution_count": 9,
   "metadata": {
    "ExecuteTime": {
     "end_time": "2021-09-15T07:29:21.550963Z",
     "start_time": "2021-09-15T07:29:21.544676Z"
    }
   },
   "outputs": [],
   "source": [
    "class Chronometre:\n",
    "    \"\"\"\n",
    "    Classe implémantant un chronomètre\n",
    "    \"\"\""
   ]
  },
  {
   "cell_type": "markdown",
   "metadata": {},
   "source": [
    "### Instanciation de la classe : création d'un objet"
   ]
  },
  {
   "cell_type": "code",
   "execution_count": 5,
   "metadata": {
    "ExecuteTime": {
     "end_time": "2021-09-15T07:29:10.433874Z",
     "start_time": "2021-09-15T07:29:10.427644Z"
    }
   },
   "outputs": [],
   "source": [
    "t1=Chronometre()"
   ]
  },
  {
   "cell_type": "markdown",
   "metadata": {},
   "source": [
    "### Quelques tests"
   ]
  },
  {
   "cell_type": "code",
   "execution_count": 6,
   "metadata": {
    "ExecuteTime": {
     "end_time": "2021-09-15T07:29:11.462875Z",
     "start_time": "2021-09-15T07:29:11.445912Z"
    }
   },
   "outputs": [
    {
     "name": "stdout",
     "output_type": "stream",
     "text": [
      "<__main__.Chronometre object at 0x7f74a2c1fda0>\n"
     ]
    },
    {
     "data": {
      "text/plain": [
       "__main__.Chronometre"
      ]
     },
     "execution_count": 6,
     "metadata": {},
     "output_type": "execute_result"
    }
   ],
   "source": [
    "print(t1)\n",
    "type(t1)"
   ]
  },
  {
   "cell_type": "markdown",
   "metadata": {},
   "source": [
    "### Attributs d'instance (objet)"
   ]
  },
  {
   "cell_type": "code",
   "execution_count": 1,
   "metadata": {
    "ExecuteTime": {
     "end_time": "2021-09-29T15:52:01.227089Z",
     "start_time": "2021-09-29T15:52:01.218033Z"
    },
    "init_cell": true
   },
   "outputs": [],
   "source": [
    "class Chronometre:\n",
    "    \"\"\"\n",
    "    Classe implémantant un chronomètre\n",
    "    \"\"\"\n",
    "    #Constructeur\n",
    "    def __init__(self, id):\n",
    "        self.__id=id        #attributs privés (self.id est un attribut public)\n",
    "        self.__debut=0\n",
    "        self.__fin=0\n",
    "        self.__duree=0\n",
    "if __name__=='__main__':\n",
    "    #instancia° d'un objet\n",
    "    t1=Chronometre('TotoLeChrono')\n",
    "        \n",
    "    "
   ]
  },
  {
   "cell_type": "code",
   "execution_count": 22,
   "metadata": {
    "ExecuteTime": {
     "end_time": "2021-09-13T08:50:21.911096Z",
     "start_time": "2021-09-13T08:50:21.900461Z"
    }
   },
   "outputs": [
    {
     "ename": "AttributeError",
     "evalue": "'Chronometre' object has no attribute 'id'",
     "output_type": "error",
     "traceback": [
      "\u001b[0;31m---------------------------------------------------------------------------\u001b[0m",
      "\u001b[0;31mAttributeError\u001b[0m                            Traceback (most recent call last)",
      "\u001b[0;32m<ipython-input-22-3d2c43c09f81>\u001b[0m in \u001b[0;36m<module>\u001b[0;34m\u001b[0m\n\u001b[0;32m----> 1\u001b[0;31m \u001b[0mt1\u001b[0m\u001b[0;34m.\u001b[0m\u001b[0mid\u001b[0m\u001b[0;34m\u001b[0m\u001b[0;34m\u001b[0m\u001b[0m\n\u001b[0m\u001b[1;32m      2\u001b[0m \u001b[0mt1\u001b[0m\u001b[0;34m.\u001b[0m\u001b[0mdebut\u001b[0m\u001b[0;34m\u001b[0m\u001b[0;34m\u001b[0m\u001b[0m\n",
      "\u001b[0;31mAttributeError\u001b[0m: 'Chronometre' object has no attribute 'id'"
     ]
    }
   ],
   "source": [
    "t1.id\n",
    "t1.debut"
   ]
  },
  {
   "cell_type": "code",
   "execution_count": 32,
   "metadata": {
    "ExecuteTime": {
     "end_time": "2021-09-13T08:55:32.902251Z",
     "start_time": "2021-09-13T08:55:32.896754Z"
    }
   },
   "outputs": [
    {
     "data": {
      "text/plain": [
       "'TotoLeChrono'"
      ]
     },
     "execution_count": 32,
     "metadata": {},
     "output_type": "execute_result"
    }
   ],
   "source": [
    "t1._Chronometre__id"
   ]
  },
  {
   "cell_type": "markdown",
   "metadata": {},
   "source": [
    "### Remarque sur les attributs"
   ]
  },
  {
   "cell_type": "markdown",
   "metadata": {},
   "source": [
    "*un attribut \"public\" peut être appelé non seulement par les objets et méthodes de sa classe, mais aussi depuis l'extérieur* **self.toto=toto**\n",
    "\n",
    "*un attribut \"privé\" (private) ne peut être utilisé qu'avec les objets et méthodes de la classe dont il est déclaré.* **self.__toto=toto**\n",
    "\n",
    "*l'attribut \"protégé\" (protected) peut être utilisé à l'extérieur de la classe mais uniquement par ses classes filles(héritage)* **self._toto=toto**\n",
    "\n",
    "**Tout est accessible en Python. Il n’y a pas de variables privées. Ce sont des conventions.**"
   ]
  },
  {
   "cell_type": "markdown",
   "metadata": {},
   "source": [
    "### Création des méthodes d'instance"
   ]
  },
  {
   "cell_type": "code",
   "execution_count": 2,
   "metadata": {
    "ExecuteTime": {
     "end_time": "2021-09-29T15:52:01.296925Z",
     "start_time": "2021-09-29T15:52:01.237069Z"
    },
    "init_cell": true
   },
   "outputs": [
    {
     "name": "stdout",
     "output_type": "stream",
     "text": [
      "Temps d'effort :  0.0417s\n",
      "Chronométrage TotoLeChrono\n"
     ]
    }
   ],
   "source": [
    "import time\n",
    "from random import uniform\n",
    "\n",
    "class Chronometre:\n",
    "    \"\"\"\n",
    "    Classe implémantant un chronomètre\n",
    "    Nécessite l'import du module time\n",
    "    \"\"\"\n",
    "    nb_chrono:int=0\n",
    "    #Constructeur\n",
    "    def __init__(self, id:str):\n",
    "        self.id=id        #attribut public\n",
    "        self.__debut=0    #attributs privés\n",
    "        self.__fin=0\n",
    "        self.__duree=0\n",
    "        Chronometre.nb_chrono+=1\n",
    "    \n",
    "    def start(self):\n",
    "        \"\"\"\n",
    "        Mesure le temps au départ\n",
    "        \"\"\"\n",
    "        self.__debut=time.time()\n",
    "    \n",
    "    def stop(self):\n",
    "        \"\"\"\n",
    "        Mesure le temps à la fin\n",
    "        \"\"\"\n",
    "        self.__fin=time.time()\n",
    "    \n",
    "    def duration(self)->float:\n",
    "        \"\"\"\n",
    "        Calcule la durée\n",
    "        \"\"\"\n",
    "        self.__duree=self.__fin-self.__debut\n",
    "        return self.__duree\n",
    "    def raz(self):\n",
    "        \"\"\"\n",
    "        Remise à zéro\n",
    "        \"\"\"\n",
    "        self.__debut=0\n",
    "        self.__fin=0\n",
    "        self.__duree=0\n",
    "    \n",
    "    \n",
    "    def __repr__(self)->str: #STR et REPR : différence\n",
    "        \"\"\"\n",
    "        Affiche l'id du chronomètre\n",
    "        \"\"\"\n",
    "        ch='Chronométrage ' + str(self.id)\n",
    "        return ch\n",
    "        \n",
    "    @classmethod\n",
    "    def nombre(cls)->int:\n",
    "        \"\"\"\n",
    "        Nombre de chrono instancié-s\n",
    "        \"\"\"\n",
    "        return cls.nb_chrono\n",
    "    \n",
    "    \n",
    "if __name__=='__main__':\n",
    "    #instancia° d'un objet\n",
    "    t1=Chronometre('TotoLeChrono')\n",
    "    t1.start()\n",
    "    #simulation d'un temps aléatioire\n",
    "    time.sleep(uniform(0,1))\n",
    "    t1.stop()\n",
    "    temps1=t1.duration()\n",
    "    t1.raz()\n",
    "    print(f'Temps d\\'effort : {temps1: .4f}s')\n",
    "    print(t1)"
   ]
  },
  {
   "cell_type": "code",
   "execution_count": 9,
   "metadata": {
    "ExecuteTime": {
     "end_time": "2021-09-14T06:09:41.375295Z",
     "start_time": "2021-09-14T06:09:41.368406Z"
    }
   },
   "outputs": [
    {
     "data": {
      "text/plain": [
       "Chronométrage TotoLeChrono"
      ]
     },
     "execution_count": 9,
     "metadata": {},
     "output_type": "execute_result"
    }
   ],
   "source": [
    "t1"
   ]
  },
  {
   "cell_type": "code",
   "execution_count": 127,
   "metadata": {
    "ExecuteTime": {
     "end_time": "2021-09-13T09:54:00.512958Z",
     "start_time": "2021-09-13T09:54:00.505732Z"
    }
   },
   "outputs": [],
   "source": [
    "t2=Chronometre('PierrotLeChrono')\n",
    "t3=Chronometre('MaloLeChrono')\n",
    "t4=Chronometre('AngeloLeChrono')\n",
    "t5=Chronometre('RenaudLeChrono')"
   ]
  },
  {
   "cell_type": "markdown",
   "metadata": {
    "ExecuteTime": {
     "end_time": "2021-09-14T06:14:45.935409Z",
     "start_time": "2021-09-14T06:14:45.922660Z"
    }
   },
   "source": [
    "###### Encapsulation"
   ]
  },
  {
   "cell_type": "code",
   "execution_count": 12,
   "metadata": {
    "ExecuteTime": {
     "end_time": "2021-09-14T06:28:50.361054Z",
     "start_time": "2021-09-14T06:28:50.353008Z"
    }
   },
   "outputs": [
    {
     "data": {
      "text/plain": [
       "1"
      ]
     },
     "execution_count": 12,
     "metadata": {},
     "output_type": "execute_result"
    }
   ],
   "source": [
    "Chronometre.nombre()"
   ]
  },
  {
   "cell_type": "markdown",
   "metadata": {},
   "source": [
    "### Création des méthodes spéciales"
   ]
  },
  {
   "cell_type": "markdown",
   "metadata": {},
   "source": [
    "Deux méthodes spéciales permettent de configurer la représentation et l'affichage des objets sont les suivantes :\n",
    "- La méthode `__repr__` : \n",
    "  <br>Elle ne prend aucun paramètre, excepté `self`, et renvoie la chaîne de caractères que l'on souhaite afficher quand on saisit directement le nom de l'objet dans l'interpréteur. (exemple : t1)\n",
    "- La méthode `__str__` : \n",
    "  <br>Elle est spécialement utilisée pour afficher l'objet avec la fonction `print`. \n",
    "  <br>Elle est également appelée si vous désirez convertir votre objet en chaîne à l'aide du constructeur `str`. (exemple : print(t1)\n",
    "\n",
    "On notera que, par défaut, si la méthode `__str__` n'est pas définie, Python appelle la méthode `__repr__` de l'objet. "
   ]
  },
  {
   "cell_type": "markdown",
   "metadata": {},
   "source": [
    "### Version finale avec attribut et méthode de classe"
   ]
  },
  {
   "cell_type": "code",
   "execution_count": null,
   "metadata": {},
   "outputs": [],
   "source": []
  }
 ],
 "metadata": {
  "celltoolbar": "Initialization Cell",
  "hide_input": false,
  "kernelspec": {
   "display_name": "Python 3",
   "language": "python",
   "name": "python3"
  },
  "language_info": {
   "codemirror_mode": {
    "name": "ipython",
    "version": 3
   },
   "file_extension": ".py",
   "mimetype": "text/x-python",
   "name": "python",
   "nbconvert_exporter": "python",
   "pygments_lexer": "ipython3",
   "version": "3.6.10"
  },
  "latex_envs": {
   "LaTeX_envs_menu_present": true,
   "autoclose": false,
   "autocomplete": true,
   "bibliofile": "biblio.bib",
   "cite_by": "apalike",
   "current_citInitial": 1,
   "eqLabelWithNumbers": true,
   "eqNumInitial": 1,
   "hotkeys": {
    "equation": "Ctrl-E",
    "itemize": "Ctrl-I"
   },
   "labels_anchors": false,
   "latex_user_defs": false,
   "report_style_numbering": false,
   "user_envs_cfg": false
  },
  "nbTranslate": {
   "displayLangs": [
    "*"
   ],
   "hotkey": "alt-t",
   "langInMainMenu": true,
   "sourceLang": "en",
   "targetLang": "fr",
   "useGoogleTranslate": true
  },
  "toc": {
   "base_numbering": 1,
   "nav_menu": {},
   "number_sections": true,
   "sideBar": true,
   "skip_h1_title": false,
   "title_cell": "Table of Contents",
   "title_sidebar": "Contents",
   "toc_cell": false,
   "toc_position": {},
   "toc_section_display": true,
   "toc_window_display": false
  },
  "varInspector": {
   "cols": {
    "lenName": 16,
    "lenType": 16,
    "lenVar": 40
   },
   "kernels_config": {
    "python": {
     "delete_cmd_postfix": "",
     "delete_cmd_prefix": "del ",
     "library": "var_list.py",
     "varRefreshCmd": "print(var_dic_list())"
    },
    "r": {
     "delete_cmd_postfix": ") ",
     "delete_cmd_prefix": "rm(",
     "library": "var_list.r",
     "varRefreshCmd": "cat(var_dic_list()) "
    }
   },
   "types_to_exclude": [
    "module",
    "function",
    "builtin_function_or_method",
    "instance",
    "_Feature"
   ],
   "window_display": false
  }
 },
 "nbformat": 4,
 "nbformat_minor": 2
}
