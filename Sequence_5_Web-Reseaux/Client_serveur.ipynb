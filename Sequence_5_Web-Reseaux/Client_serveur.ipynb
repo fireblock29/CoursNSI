{
 "cells": [
  {
   "cell_type": "markdown",
   "metadata": {},
   "source": [
    "# <center><font face=\"arial\" size=\"5\" color=#0101DF>NUMERIQUE ET SCIENCES INFORMATIQUES 1ère NSI</font></center>"
   ]
  },
  {
   "cell_type": "markdown",
   "metadata": {},
   "source": [
    "## <font color=#013ADF>Séquence N° 5 : Réseaux WEB - Passage de données du client au serveur</font>"
   ]
  },
  {
   "cell_type": "markdown",
   "metadata": {},
   "source": [
    "<div class=\"alert alert-danger\" role=\"alert\">\n",
    "\n",
    "**Objectifs** :\n",
    "\n",
    "- Analyser le fonctionnement d'un formulaire simple ;\n",
    "- Distinguer ce qui est exécuté sur le client et sur le serveur et dans quel ordre ;\n",
    "- Distinguer les transmissions de paramètres à un serveur avec les méthodes GET et POST."
   ]
  },
  {
   "cell_type": "markdown",
   "metadata": {},
   "source": [
    "##### - Téléchargez le fichier \"GETvsPOST.zip\" et décompressez le.\n",
    "\n",
    "*Remarque : les fichiers PHP sont fournis pour information. Ceux-ci sont les fichiers qui sont sur le serveur et qui répondent à vos envois de formulaires.*\n",
    "\n",
    "\n",
    "Vous n'avez pas eu besoin d'un serveur pour réaliser le travail précédent. En effet, les langages utilisés sont exécutés (interprétés) sur votre micro-ordinateur par le navigateur. Ceux sont des langages client.\n",
    "\n",
    "Dans une **architecture client-serveur** (relire le document sur les réseaux), **vous êtes le client**.\n",
    "\n",
    "**Comment transmettre à un serveur des informations (les résultats d'un sondage ou les informations d'un formulaire par exemples) ?**\n",
    "\n",
    "**1ère solution** :\n",
    "\n",
    "- Pour cela, placez vous dans le répertoire \"GETvsPOST\" et ouvrez le fichier \"info_get.html\" dans un navigateur. Celui-ci contient un petit formulaire.\n",
    "- Remplissez ce formulaire (**ne mettez aucun renseignement sérieux !**) et envoyez le, tout en observant la barre de navigation. Que constatez-vous ? Toutes les infos sont dans l'URL\n",
    "- Ouvrez le fichier \"info_get.html\" avec un éditeur de texte et relevez la méthode utilisée pour envoyer les données du formulaire. Méthode GET\n",
    "- Ouvrez l'outil de developpement (F12) et sélectionnez l'onglet réseau. Réactualisez la page. Vous pouvez visualiser la requête envoyée et la réponse du serveur. Le protocole utilisé est **HTTP**. Quel est le code renvoyé par le serveur ? 200 ou 404. 200\n",
    "- Recherchez sur Internet, la signification des codes 200 et 404. 200 : ça marche / 404: ça marche pas, pas trouvé\n",
    "- Faites un clic droit sur la page affichée et consultez le code source. De quel langage s'agit-il ?\n",
    "\n",
    "*Remarque* : Lorsque vous naviguez de page en page sur un site Web, c'est la méthode GET qui est invoquée. Pour s'en convaincre facilement, vous pouvez apercevoir le nom de la page dans l'URL (Uniform Resource Locator). Pour les plus sceptiques, vous pouvez ouvrir l'outil de developpement du navigateur.\n",
    "Côté serveur, vous ne pouvez pas le voir, mais c'est le langage PHP qui est exécuté et qui vous renvoie les informations en HTML.\n",
    "\n",
    "**2ème solution** :\n",
    "\n",
    "- Ouvrez  le fichier \"info_post.html\" dans un navigateur. Celui-ci contient le même formulaire.\n",
    "- Remplissez ce formulaire et envoyez le, tout en observant la barre de navigation. Que constatez-vous ?\n",
    "On ne voit pas les infos\n",
    "- Ouvrez le fichier \"info_post.html\" avec un éditeur de texte et relevez la méthode utilisée pour envoyer les données  du formulaire.\n",
    "méthode post\n",
    "- Ouvrez l'outil de developpement (F12) et sélectionnez l'onglet réseau. Réactualisez la page. Vous pouvez visualiser la requête envoyée et la réponse du serveur. Le protocole utilisé est  toujours **HTTP**. Y-a-t-il une différence par rapport à la première solution ?\n",
    "1 requête - Pas de diff\n",
    "- Faites sun clic droit sur la page affichée et consultez le code source. De quel langage s'agit-il ?\n",
    "PHP\n",
    "- Visualisez avec un éditeur de texte le contenu des fichiers \"index_get.php\" et \"index_post.php\" qui sont dans votre répertoire (ce ne sont pas eux qui ont travaillé, mais ceux que j'ai déposé sur le serveur de mon site). Les langages utilisés sont le **HTML** et du **PHP**. Vous constaterez une nouvelle fois que certaines structures algorithmiques ont de similitudes avec python.\n",
    "\n",
    "**Expérience** :\n",
    "\n",
    "- Outil de developpement (F12), onglet réseau ouvert. Envoyez la requête : jourdain.legtux.org/bidon.php. Que se passe-t-il ? Quel est le code retourné par le serveur ?\n",
    "404 not found\n",
    "\n"
   ]
  },
  {
   "cell_type": "markdown",
   "metadata": {},
   "source": [
    "<div class=\"alert alert-success\">\n",
    "<img src=\"Images/warning.png\" alt=\"logo warn\" width=5% align=left>\n",
    "\n",
    "> **PHP** (*Hypertext Preprocessor*) est un **langage serveur**. Vous faites une requête au serveur en HTML, PHP traite votre requête et vous renvoie une page HTML  qui peut être personnalisée grâce à un lien vers une base de données.\n",
    "</div>"
   ]
  }
 ],
 "metadata": {
  "hide_input": false,
  "kernelspec": {
   "display_name": "Python 3",
   "language": "python",
   "name": "python3"
  },
  "language_info": {
   "codemirror_mode": {
    "name": "ipython",
    "version": 3
   },
   "file_extension": ".py",
   "mimetype": "text/x-python",
   "name": "python",
   "nbconvert_exporter": "python",
   "pygments_lexer": "ipython3",
   "version": "3.6.10"
  },
  "latex_envs": {
   "LaTeX_envs_menu_present": true,
   "autoclose": false,
   "autocomplete": true,
   "bibliofile": "biblio.bib",
   "cite_by": "apalike",
   "current_citInitial": 1,
   "eqLabelWithNumbers": true,
   "eqNumInitial": 1,
   "hotkeys": {
    "equation": "Ctrl-E",
    "itemize": "Ctrl-I"
   },
   "labels_anchors": false,
   "latex_user_defs": false,
   "report_style_numbering": false,
   "user_envs_cfg": false
  },
  "nbTranslate": {
   "displayLangs": [
    "*"
   ],
   "hotkey": "alt-t",
   "langInMainMenu": true,
   "sourceLang": "en",
   "targetLang": "fr",
   "useGoogleTranslate": true
  },
  "toc": {
   "base_numbering": 1,
   "nav_menu": {},
   "number_sections": true,
   "sideBar": true,
   "skip_h1_title": false,
   "title_cell": "Table of Contents",
   "title_sidebar": "Contents",
   "toc_cell": false,
   "toc_position": {},
   "toc_section_display": true,
   "toc_window_display": false
  },
  "varInspector": {
   "cols": {
    "lenName": 16,
    "lenType": 16,
    "lenVar": 40
   },
   "kernels_config": {
    "python": {
     "delete_cmd_postfix": "",
     "delete_cmd_prefix": "del ",
     "library": "var_list.py",
     "varRefreshCmd": "print(var_dic_list())"
    },
    "r": {
     "delete_cmd_postfix": ") ",
     "delete_cmd_prefix": "rm(",
     "library": "var_list.r",
     "varRefreshCmd": "cat(var_dic_list()) "
    }
   },
   "types_to_exclude": [
    "module",
    "function",
    "builtin_function_or_method",
    "instance",
    "_Feature"
   ],
   "window_display": false
  }
 },
 "nbformat": 4,
 "nbformat_minor": 2
}
