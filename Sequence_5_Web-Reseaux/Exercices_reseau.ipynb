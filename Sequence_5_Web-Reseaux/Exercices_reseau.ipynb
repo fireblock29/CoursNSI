{
 "cells": [
  {
   "cell_type": "markdown",
   "metadata": {},
   "source": [
    "# <center><font face=\"arial\" size=\"5\" color=#0101DF>NUMERIQUE ET SCIENCES INFORMATIQUES 1ère NSI</font></center>"
   ]
  },
  {
   "cell_type": "markdown",
   "metadata": {},
   "source": [
    "## <font color=#013ADF>Séquence N° 5 : Réseaux WEB - Exercices</font>"
   ]
  },
  {
   "cell_type": "markdown",
   "metadata": {},
   "source": [
    "## Exercice 1 : \n",
    "\n",
    "Soit les 3 machines suivantes :\n",
    "\n",
    "- machine 1 : 192.168.129.10/21\n",
    "- machine 2 : 192.168.135.200/21\n",
    "- machine 3 : 192.168.145.1/21\n",
    "\n",
    "Écrire en notation décimale pointée, le masque de sous -réseau.\n",
    "<br>`11111111 11111111 11111000 00000000\n",
    "--> 255.255.248.0`\n",
    "\n",
    "Ces machines sont-elles sur le même sous-réseau ? Justifier\n",
    "<br>`Non, elles ne sont pas sur le même sous-réseau. 129 & 248, 135 & 248, 145 & 248 ne donnent pas le même résultat.`"
   ]
  },
  {
   "cell_type": "code",
   "execution_count": 3,
   "metadata": {
    "ExecuteTime": {
     "end_time": "2021-05-15T12:51:21.637787Z",
     "start_time": "2021-05-15T12:51:21.622589Z"
    }
   },
   "outputs": [
    {
     "data": {
      "text/plain": [
       "248"
      ]
     },
     "execution_count": 3,
     "metadata": {},
     "output_type": "execute_result"
    }
   ],
   "source": [
    "0b11111000"
   ]
  },
  {
   "cell_type": "code",
   "execution_count": 1,
   "metadata": {
    "ExecuteTime": {
     "end_time": "2021-03-29T11:47:31.917055Z",
     "start_time": "2021-03-29T11:47:31.850302Z"
    }
   },
   "outputs": [
    {
     "data": {
      "text/plain": [
       "128"
      ]
     },
     "execution_count": 1,
     "metadata": {},
     "output_type": "execute_result"
    }
   ],
   "source": [
    "129 & 248"
   ]
  },
  {
   "cell_type": "code",
   "execution_count": 2,
   "metadata": {
    "ExecuteTime": {
     "end_time": "2021-03-29T11:47:42.852917Z",
     "start_time": "2021-03-29T11:47:42.844697Z"
    }
   },
   "outputs": [
    {
     "data": {
      "text/plain": [
       "128"
      ]
     },
     "execution_count": 2,
     "metadata": {},
     "output_type": "execute_result"
    }
   ],
   "source": [
    "135 & 248"
   ]
  },
  {
   "cell_type": "code",
   "execution_count": 3,
   "metadata": {
    "ExecuteTime": {
     "end_time": "2021-03-29T11:47:57.836820Z",
     "start_time": "2021-03-29T11:47:57.828693Z"
    }
   },
   "outputs": [
    {
     "data": {
      "text/plain": [
       "144"
      ]
     },
     "execution_count": 3,
     "metadata": {},
     "output_type": "execute_result"
    }
   ],
   "source": [
    "145 & 248"
   ]
  },
  {
   "cell_type": "markdown",
   "metadata": {},
   "source": [
    "## Exercice 2 :\n",
    "\n",
    "Je veux réaliser 2 réseaux de 30 machines en gaspillant le moins possible d'adresses IPV4. J'ai à ma disposition une adresse réseau 192.168.1.0 (ex classe C).\n",
    "\n",
    "Si j'utilise un masque de la forme 255.255.255.0 :\n",
    "\n",
    "- Combien de machine (host) je peux mettre sur ce réseau ? \n",
    "- Donnez la plage d'adresses IP des machines : \n",
    "- Donner l'adresse de diffusion générale (broadcast) : \n",
    "- Compte tenu du problème à résoudre, comment d'adresses IP ne seront jamais utilisées ? \n",
    "\n",
    "Si j'utilise un masque de la forme 255.255.255.224\n",
    "\n",
    "- Combien de sous-réseau puis-je faire ? \n",
    "\n",
    "- Combien de machine (host) je peux mettre sur chaque sous-réseau  ? \n",
    "\n",
    "- Donnez la plage d'adresses IP  de chaque sous-réseau dans l'ordre croissant, les adresses des machines, ainsi que l'adresse de diffusion génrérale (broadcast) : \n",
    "\n"
   ]
  },
  {
   "cell_type": "code",
   "execution_count": 6,
   "metadata": {
    "ExecuteTime": {
     "end_time": "2021-05-15T12:58:04.767844Z",
     "start_time": "2021-05-15T12:58:04.757853Z"
    }
   },
   "outputs": [
    {
     "data": {
      "text/plain": [
       "'0b11100000'"
      ]
     },
     "execution_count": 6,
     "metadata": {},
     "output_type": "execute_result"
    }
   ],
   "source": [
    "bin(224)"
   ]
  },
  {
   "cell_type": "raw",
   "metadata": {},
   "source": [
    "Pour le masque 255.255.255.0\n",
    "Je peux mettre 254 machines sur ce réseau.\n",
    "Les IP vont de 192.168.1.1 à 192.168.1.254\n",
    "L'adresse de diffusion est 192.168.1.255\n",
    "223 adresses IP ne seront jamais utilisées.\n",
    "\n",
    "Pour le masque 255.255.255.224\n",
    "3 bits libres --> 2³ = 8 sous-réseaux\n",
    "\n",
    "Je ne peux faire qu'un seul sous-réseau.\n",
    "Sur ce sous-réseau, je peux mettre 29 machines.(30)\n",
    "Les IP vont de 192.168.1.1 à 192.168.1.30."
   ]
  },
  {
   "cell_type": "markdown",
   "metadata": {},
   "source": [
    "## Exercice 3 :\n",
    "\n",
    "On dispose d'un bloc d'adresses 172.16.1.0/24. On veut créer des sous-réseaux de tailles différentes comportant:\n",
    "\n",
    "- sous-réseau 1 : 100 machines\n",
    "\n",
    "- sous-réseau 2 : au maximum 55 machines\n",
    "\n",
    "- sous-réseau 3 : 2  sous-réseaux au précédent (sous-réseaux 3 et 4) d'un maximum de 12 machines chacun\n",
    "\n",
    "\n",
    "- Pour pouvoir disposer d'un sous-réseau de 100 machines, quel masque doit-on utiliser ?\n",
    "`11111111 11111111 11111111 10000000 = 255.255.255.128`\n",
    "- Quelles sont les adresses de 2 sous-réseaux par ordre croissant ?\n",
    "`172.16.1.0 et 172.16.1.128`\n",
    "\n",
    "\n",
    "On va utiliser le premier sous-réseau pour accueillir les 100 machines et le second pour le reste.\n",
    "\n",
    "- Pour pouvoir disposer d'un sous-réseau d'au maximum 55 machines, quel masque doit-on utiliser ?\n",
    "`11111111 11111111 11111111 11000000\n",
    "--> 255.255.255.192`\n",
    "\n",
    "\n",
    "- Quelles sont les adresses de 2 sous sous-réseaux par ordre croissant ?\n",
    "\n",
    "`172.16.1.128 et 172.16.1.192`\n",
    "\n",
    "On va utiliser le premier sous sous-réseau pour accueillir les 55 machines et le second pour le reste.\n",
    "\n",
    "- Pour pouvoir disposer de 2 sous sous-réseau d'au maximum 12 machines, quel masque doit-on utiliser ?\n",
    "`11111111 11111111 11111111 11110000\n",
    "255.255.255.240`\n",
    "\n",
    "- Quelles sont les adresses des sous sous-réseaux par ordre croissant ?\n",
    "`172.16.1.192 et 172.16.1.240`\n"
   ]
  },
  {
   "cell_type": "code",
   "execution_count": 7,
   "metadata": {
    "ExecuteTime": {
     "end_time": "2021-05-15T13:03:23.988986Z",
     "start_time": "2021-05-15T13:03:23.981096Z"
    }
   },
   "outputs": [
    {
     "data": {
      "text/plain": [
       "210"
      ]
     },
     "execution_count": 7,
     "metadata": {},
     "output_type": "execute_result"
    }
   ],
   "source": [
    "0b11010010"
   ]
  },
  {
   "cell_type": "markdown",
   "metadata": {},
   "source": [
    "## Exercice 4 :\n",
    "\n",
    "On souhaite pouvoir raccorder 1200 machines sur le même sous-réseau IP. Donnez le plus petit masque permettant de définir un tel sous-réseau.\n",
    "\n",
    "`11111111 11111111 11111000 00000000\n",
    "--> 255.255.248.0`"
   ]
  },
  {
   "cell_type": "markdown",
   "metadata": {},
   "source": [
    "## Exercice 5 :\n",
    "\n",
    "On considère le masque 255.255.252.0. Parmi les adresses suivantes, indiquez lesquelles dénotent des machines du même sous-réseau.\n",
    "\n",
    "machine 1 : 129.175.127.1\n",
    "\n",
    "machine 2 : 129.175.130.10\n",
    "\n",
    "machine 3 : 129.175.128.17\n",
    "\n",
    "machine 4 : 129.175.131.110\n",
    "\n",
    "machine 5 : 129.175.132.8\n",
    "<br>`Les machines 3 et 4 sont sous le même sous-réseau car 128&252 = 131&252.`"
   ]
  },
  {
   "cell_type": "code",
   "execution_count": 8,
   "metadata": {
    "ExecuteTime": {
     "end_time": "2021-05-15T13:15:01.232885Z",
     "start_time": "2021-05-15T13:15:01.224962Z"
    }
   },
   "outputs": [
    {
     "data": {
      "text/plain": [
       "124"
      ]
     },
     "execution_count": 8,
     "metadata": {},
     "output_type": "execute_result"
    }
   ],
   "source": [
    "127&252"
   ]
  },
  {
   "cell_type": "code",
   "execution_count": 9,
   "metadata": {
    "ExecuteTime": {
     "end_time": "2021-05-15T13:15:11.014209Z",
     "start_time": "2021-05-15T13:15:11.007614Z"
    }
   },
   "outputs": [
    {
     "data": {
      "text/plain": [
       "128"
      ]
     },
     "execution_count": 9,
     "metadata": {},
     "output_type": "execute_result"
    }
   ],
   "source": [
    "130&252"
   ]
  },
  {
   "cell_type": "code",
   "execution_count": 10,
   "metadata": {
    "ExecuteTime": {
     "end_time": "2021-05-15T13:15:15.490540Z",
     "start_time": "2021-05-15T13:15:15.485090Z"
    }
   },
   "outputs": [
    {
     "data": {
      "text/plain": [
       "128"
      ]
     },
     "execution_count": 10,
     "metadata": {},
     "output_type": "execute_result"
    }
   ],
   "source": [
    "128&252"
   ]
  },
  {
   "cell_type": "code",
   "execution_count": 11,
   "metadata": {
    "ExecuteTime": {
     "end_time": "2021-05-15T13:15:22.802769Z",
     "start_time": "2021-05-15T13:15:22.797346Z"
    }
   },
   "outputs": [
    {
     "data": {
      "text/plain": [
       "128"
      ]
     },
     "execution_count": 11,
     "metadata": {},
     "output_type": "execute_result"
    }
   ],
   "source": [
    "131&252"
   ]
  },
  {
   "cell_type": "code",
   "execution_count": 12,
   "metadata": {
    "ExecuteTime": {
     "end_time": "2021-05-15T13:15:29.038310Z",
     "start_time": "2021-05-15T13:15:29.032848Z"
    }
   },
   "outputs": [
    {
     "data": {
      "text/plain": [
       "132"
      ]
     },
     "execution_count": 12,
     "metadata": {},
     "output_type": "execute_result"
    }
   ],
   "source": [
    "132&252"
   ]
  },
  {
   "cell_type": "markdown",
   "metadata": {},
   "source": [
    "## Exercice 6 :\n",
    "\n",
    "<img src=\"Images/exercice_8.png\"/>\n",
    "\n",
    "|       Interface       |  Adresse IPV4  | Bit à bit |\n",
    "| :-------------------: | :------------: | :--------:|\n",
    "|          A.1          | 129.175.31.32  | 24 |\n",
    "|          B.1          | 129.175.31.37  | 24 |\n",
    "|          B.2          | 129.175.24.10  | 24 |\n",
    "|          B.3          | 129.175.34.10  | 32 |\n",
    "|          C.1          | 129.175.35.22  | 32 |\n",
    "|          C.2          | 129.175.33.12  | 32 |\n",
    "|          C.3          | 129.175.32.200 | 32 |\n",
    "|          D.1          | 129.175.29.148 | 24 |\n",
    "|          E.1          | 129.175.39.18  | 32 |\n",
    "|          E.2          |  129.175.41.2  | 40 |\n",
    "|          F.1          | 129.175.40.33  | 40 |\n",
    "|          F.2          | 129.175.32.12  | 32 |\n",
    "|          G.1          | 129.175.32.78  | 32 |\n",
    "|          G.2          | 129.175.33.51  | 32 |\n",
    "| MASQUE DE SOUS-RÉSEAU | 255.255.248.0  | X  |\n",
    "\n",
    "\n",
    "\n",
    "Le réseau décrit est constitué de 7 machines (A,B, C, D, E, F et G) possédant chacune de 1 à 3 interfaces réseau (1, 2 ou 3). Le plan IP est fourni ci-dessus.\n",
    "\n",
    "- Combien y-a-t-il de sous-réseaux ?\n",
    "`Il y a 3 sous-réseaux.`\n",
    "\n",
    "\n",
    "On suppose que la machine D fait office de serveur DNS et que l'adresse IP associée au nom X est celle de l'interface X.1 (i.e l'adresse IP que le serveur DNS renvoi pour le nom B est 129.175.31.37).\n",
    "\n",
    "On effectue depuis la machine A, la commande ping. Dans chacun des cas suivants, indiquez si la commande est un succès ou un echec en justifiant.\n",
    "\n",
    "- ping F avec le lien B-D coupé `~~réussite~~ / échec : pas de DNS D`\n",
    "- ping F avec le lien B-C coupé `échec`\n",
    "- ping 129.175.40.33 avec le lien B-D coupé `réussite`\n",
    "- ping 129.175.29.148 avec le lien B-D coupé `échec`\n",
    "- ping F avec un TTL initial de 2 `échec`\n",
    "\n",
    "\n",
    "\n",
    "On considère les tables de routage des machines C, E, F et G. On suppose qu'elles sont configurées de manière erronée de sorte que sur C, la route menant de A passe par l'interface 3, sur E et G, elle passe par l'interface 2, et sur F elle passe par l'interface 1.\n",
    "\n",
    "- Que se passe-t-il lorsque sur C on envoie un paquet IP à destination de A ?\n",
    "`l'information n'atteint jamais A. On suppose qu'elle tourne en boucle entre les 4 tables de routage.` \n",
    "*Indication* : On peut supposer une valeur de départ pour le champ TTL du paquet IP, par exemple 9, et simuler le trajet selon la route.\n",
    "\n"
   ]
  },
  {
   "cell_type": "code",
   "execution_count": null,
   "metadata": {},
   "outputs": [],
   "source": []
  }
 ],
 "metadata": {
  "hide_input": false,
  "kernelspec": {
   "display_name": "Python 3",
   "language": "python",
   "name": "python3"
  },
  "language_info": {
   "codemirror_mode": {
    "name": "ipython",
    "version": 3
   },
   "file_extension": ".py",
   "mimetype": "text/x-python",
   "name": "python",
   "nbconvert_exporter": "python",
   "pygments_lexer": "ipython3",
   "version": "3.6.10"
  },
  "latex_envs": {
   "LaTeX_envs_menu_present": true,
   "autoclose": false,
   "autocomplete": true,
   "bibliofile": "biblio.bib",
   "cite_by": "apalike",
   "current_citInitial": 1,
   "eqLabelWithNumbers": true,
   "eqNumInitial": 1,
   "hotkeys": {
    "equation": "Ctrl-E",
    "itemize": "Ctrl-I"
   },
   "labels_anchors": false,
   "latex_user_defs": false,
   "report_style_numbering": false,
   "user_envs_cfg": false
  },
  "nbTranslate": {
   "displayLangs": [
    "*"
   ],
   "hotkey": "alt-t",
   "langInMainMenu": true,
   "sourceLang": "en",
   "targetLang": "fr",
   "useGoogleTranslate": true
  },
  "toc": {
   "base_numbering": 1,
   "nav_menu": {},
   "number_sections": true,
   "sideBar": true,
   "skip_h1_title": false,
   "title_cell": "Table of Contents",
   "title_sidebar": "Contents",
   "toc_cell": false,
   "toc_position": {},
   "toc_section_display": true,
   "toc_window_display": false
  },
  "varInspector": {
   "cols": {
    "lenName": 16,
    "lenType": 16,
    "lenVar": 40
   },
   "kernels_config": {
    "python": {
     "delete_cmd_postfix": "",
     "delete_cmd_prefix": "del ",
     "library": "var_list.py",
     "varRefreshCmd": "print(var_dic_list())"
    },
    "r": {
     "delete_cmd_postfix": ") ",
     "delete_cmd_prefix": "rm(",
     "library": "var_list.r",
     "varRefreshCmd": "cat(var_dic_list()) "
    }
   },
   "types_to_exclude": [
    "module",
    "function",
    "builtin_function_or_method",
    "instance",
    "_Feature"
   ],
   "window_display": false
  }
 },
 "nbformat": 4,
 "nbformat_minor": 2
}
