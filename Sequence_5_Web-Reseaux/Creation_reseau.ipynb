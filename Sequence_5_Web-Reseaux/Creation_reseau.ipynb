{
 "cells": [
  {
   "cell_type": "markdown",
   "metadata": {},
   "source": [
    "# <center><font face=\"arial\" size=\"5\" color=#0101DF>NUMERIQUE ET SCIENCES INFORMATIQUES 1ère NSI</font></center>"
   ]
  },
  {
   "cell_type": "markdown",
   "metadata": {},
   "source": [
    "## <font color=#013ADF>Séquence N° 5 : Réseaux WEB - Création, simulation d'un réseau informatique</font>"
   ]
  },
  {
   "cell_type": "markdown",
   "metadata": {},
   "source": [
    "<div class=\"alert alert-danger\" role=\"alert\">\n",
    "\n",
    "**Objectifs** :\n",
    "\n",
    "- Simuler ou mettre en oeuvre un réseau ;\n",
    "- Reconnaître quand et pourquoi la transmission est chiffrée.\n",
    "</div>"
   ]
  },
  {
   "cell_type": "markdown",
   "metadata": {},
   "source": [
    "<div class=\"alert alert-success\">\n",
    "    \n",
    "**Problématique** **:** On vous demande de simuler un réseau local d’ordinateurs. L’ un des ordinateurs sera configuré en serveur HTTP. Il hébergera un site Web.\n",
    "\n",
    "**Plan IP** :\t\n",
    "\n",
    "Adresses des postes de 10.160.203.1 à 10.160.203.12 (on se limite à 3 pour la simulation).\n",
    "\n",
    "Passerelle par défaut 10.160.0.1\n",
    "\n",
    "Masque de réseau : 255.255.0.0\n",
    "\n",
    "Service DNS : 208.67.222.222 (OpenDNS)\n",
    "\n",
    "PC hébergeant le site WEB : 10.160.203.254\n",
    "</div>"
   ]
  },
  {
   "cell_type": "markdown",
   "metadata": {},
   "source": [
    "### 1- Réseau local simulé avec l'application FILIUS"
   ]
  },
  {
   "cell_type": "markdown",
   "metadata": {},
   "source": [
    "- Après avoir suivi la démonstration du professeur, réalisez le réseau local (LAN) suivant :\n",
    "\n",
    "<img src=\"Images/TP_reseau_1NSI_basic.png\" style=\"zoom: 80%;\" />\n",
    "\n",
    "- Une fois le réseau réalisé et configuré, passez en mode Simulation.\n",
    "- Ajoutez aux postes clients les applications :\n",
    "  - Command Line\n",
    "  - Webbrowser\n",
    "  - Generic client\n",
    "- Ajoutez au poste serveur les applications :\n",
    "  - Command Line\n",
    "  - Webserver\n",
    "- Ouvrez un terminal sur le client 10.160.203.3 et faites un ping  vers 10.160.203.2. (observez les flux visualisés par la coloration des liaisons entre équipements)\n",
    "- Fermez le terminal et le bureau puis ouvrez avec un clic droit « show data exchange » en cliquant sur l' ordinateur 10.160.203.3. On retrouve les traces des exécutions des différents protocoles (clic droit pour effacer ou exporter vers un fichier texte).\n",
    "\n",
    "Cela devrait ressembler à cela :\n",
    "\n",
    "![](Images/filius_ping.png)\n",
    "\n",
    "<div class=\"alert alert-warning\">\n",
    "<img src=\"Images/CR.png\" alt=\"logo CR\" width=5% align=right>\n",
    "\n",
    "- Par ordre chonologique, quels sont les protocoles mise en oeuvre dans cet echange ? Quel est le rôle de chacun ? \n",
    "    `ARP : adress resolution protocol, permet de traduire une adresse IP en adresse MAC\n",
    "    ICMP: internet control message protocol, permet de transmettre des messages de contrôle et d'erreur lors de la communication.`\n",
    "- Ouvrez un navigateur sur un client et visualisez le site se trouvant sur le serveur Web. Comment faites-vous ?\n",
    "    'j'ai utilisé l'adresse IP du serveur web`\n",
    "</div>"
   ]
  },
  {
   "cell_type": "markdown",
   "metadata": {},
   "source": [
    "### 2- Serveur DNS"
   ]
  },
  {
   "cell_type": "markdown",
   "metadata": {},
   "source": [
    "Ce n'est pas très pratique de procéder ainsi, même si c'est ce que l'on fait avec notre serveur JUPYTERHUB. Vous allez **installer un serveur DNS**, mais qui ne se situe pas sur le réseau local.\n",
    "\n",
    "![](Images/TP_reseau_1NSI_DNS.png)-\n",
    "\n",
    "- Modifiez le réseau précédent pour le rendre conforme à la figure précédente.\n",
    "\n",
    "Le nom de domaine auquel appartient notre serveur Web est : tpreseaux.edu\n",
    "\n",
    "N'oubliez pas de démarrer le serveur et d'activer la résolution récursive.\n",
    "\n",
    "- Ouvrez un navigateur sur un client et visualisez le site se trouvant sur le serveur Web. Comment faites-vous à présent ?\n",
    "`J'ai tapé l'URL du serveur.`"
   ]
  },
  {
   "cell_type": "markdown",
   "metadata": {},
   "source": [
    "### 3- Rajoutez un nouveau réseau"
   ]
  },
  {
   "cell_type": "markdown",
   "metadata": {},
   "source": [
    "![](Images/TP_reseau_1NSI_final.png)\n",
    "\n",
    "Vous allez observer comment se fait la communication entre 2 réseaux aux travers les couches OSI. Pour cela, on va établir une communication entre le poste 192.168.0.1 et le serveur 10.160.203.254, le premier envoyant le message \"Hello, comment vas-tu ?\" au second.\n",
    "\n",
    "- Installez sur le poste client l'application Generic client, puis lancez son exécution. Dans le même temps, ouvrir une fenêtre visualisant les données échangées sur le serveur.\n",
    "- Renseignez le socket, le port d'un serveur Web est 80\n",
    "- Établissez la connexion (visualisez les données), puis le message avant d'envoyer (idem)\n",
    "\n",
    "Cela devrait ressembler à cela :\n",
    "\n",
    "![](Images/filius_application.png)\n",
    "\n",
    "- Par ordre chonologique, quels sont les protocoles mise en oeuvre dans cet echange ? Quel est le rôle de chacun ?\n",
    "`ARP : adress resolution protocol\n",
    "ICMP : Internet Control Message Protocol\n",
    "TCP : transmission contol protocole, permet de transmettre des messages`\n",
    "\n",
    "Pour conclure, quel est le chemin emprunté pour accèder au serveur à partir du poste 192.168.0.1 ?\n",
    "\n",
    "- Tapez dans un terminal du poste 192.168.0.1 la commande : traceroute tpreseaux.edu\n",
    "- Quel est le chemin emprunté ?\n",
    "`le message passe par le routeur puis arrive au serveur`"
   ]
  },
  {
   "cell_type": "code",
   "execution_count": null,
   "metadata": {},
   "outputs": [],
   "source": []
  }
 ],
 "metadata": {
  "hide_input": false,
  "kernelspec": {
   "display_name": "Python 3",
   "language": "python",
   "name": "python3"
  },
  "language_info": {
   "codemirror_mode": {
    "name": "ipython",
    "version": 3
   },
   "file_extension": ".py",
   "mimetype": "text/x-python",
   "name": "python",
   "nbconvert_exporter": "python",
   "pygments_lexer": "ipython3",
   "version": "3.6.10"
  },
  "latex_envs": {
   "LaTeX_envs_menu_present": true,
   "autoclose": false,
   "autocomplete": true,
   "bibliofile": "biblio.bib",
   "cite_by": "apalike",
   "current_citInitial": 1,
   "eqLabelWithNumbers": true,
   "eqNumInitial": 1,
   "hotkeys": {
    "equation": "Ctrl-E",
    "itemize": "Ctrl-I"
   },
   "labels_anchors": false,
   "latex_user_defs": false,
   "report_style_numbering": false,
   "user_envs_cfg": false
  },
  "nbTranslate": {
   "displayLangs": [
    "*"
   ],
   "hotkey": "alt-t",
   "langInMainMenu": true,
   "sourceLang": "en",
   "targetLang": "fr",
   "useGoogleTranslate": true
  },
  "toc": {
   "base_numbering": 1,
   "nav_menu": {},
   "number_sections": true,
   "sideBar": true,
   "skip_h1_title": false,
   "title_cell": "Table of Contents",
   "title_sidebar": "Contents",
   "toc_cell": false,
   "toc_position": {},
   "toc_section_display": true,
   "toc_window_display": false
  },
  "varInspector": {
   "cols": {
    "lenName": 16,
    "lenType": 16,
    "lenVar": 40
   },
   "kernels_config": {
    "python": {
     "delete_cmd_postfix": "",
     "delete_cmd_prefix": "del ",
     "library": "var_list.py",
     "varRefreshCmd": "print(var_dic_list())"
    },
    "r": {
     "delete_cmd_postfix": ") ",
     "delete_cmd_prefix": "rm(",
     "library": "var_list.r",
     "varRefreshCmd": "cat(var_dic_list()) "
    }
   },
   "types_to_exclude": [
    "module",
    "function",
    "builtin_function_or_method",
    "instance",
    "_Feature"
   ],
   "window_display": false
  }
 },
 "nbformat": 4,
 "nbformat_minor": 2
}
