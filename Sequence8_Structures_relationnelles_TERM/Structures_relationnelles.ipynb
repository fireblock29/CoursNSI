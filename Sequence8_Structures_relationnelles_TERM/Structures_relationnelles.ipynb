{
 "cells": [
  {
   "cell_type": "markdown",
   "metadata": {},
   "source": [
    "# <center><font face=\"arial\" size=\"5\" color=#0101DF>NUMERIQUE ET SCIENCES INFORMATIQUES Terminale NSI</font></center>"
   ]
  },
  {
   "cell_type": "markdown",
   "metadata": {},
   "source": [
    "## <font color=#013ADF>Séquence N° 8 : Structures de données relationnelles : graphes</font>"
   ]
  },
  {
   "cell_type": "markdown",
   "metadata": {},
   "source": [
    "<div class=\"alert alert-danger\" role=\"alert\">\n",
    "    \n",
    "Les objectifs de cette séquence sont :\n",
    "\n",
    "- Modéliser des situations sous forme de graphes ;\n",
    "- Écrire les implémentations correspondates d'un graphe : matrice d'adjacence, liste de successeurs/ de prédécesseurs ;\n",
    "- Passer d'une représentation à une autre ;\n",
    "- Parcourir un graphe en profondeur d'abord, en largeur d'abord ;\n",
    "- Repérer la présence d'un cycle dans un graphe ;\n",
    "- Chercher un chemin dans un graphe.\n",
    "\n",
    "\n",
    "</div>"
   ]
  },
  {
   "cell_type": "markdown",
   "metadata": {},
   "source": [
    "<div class=\"alert alert-warning\">\n",
    "<img src=\"Images/CR.png\" alt=\"logo CR\" width=5% align=right>\n",
    "    \n",
    "Travail préalable   \n",
    "\n",
    "- Lire les chapitres 3  et 11 (à partir de la page 283) du livre ;\n",
    "- Donner des exemples nécessitant l'utilisation d'une structure de données relationnelles (dans plusieurs domaines)\n",
    "- Pour les exercices suivants, répondre aux questions :\n",
    "    \n",
    "**Exercice 1**\n",
    "\n",
    "<img src=\"Images/exo_graphe1.png\" alt=\"exercice_1\" width=20% align=center>\n",
    "    \n",
    "- Ce graphe est-il connexe ? Oui\n",
    "    \n",
    "- Ce graphe est-il orienté ? Non\n",
    "\n",
    "- Quel est l'ordre du graphe ? 5\n",
    "\n",
    "- Quel est le degré de C ? 3\n",
    "\n",
    "- Quelle est la distance entre A et D ? 2\n",
    "\n",
    "- Quelle est la longueur de la chaîne EACB ? 3 \n",
    "\n",
    "- DBACD est-il un cycle ? si oui, quelle est sa longueur ? 4\n",
    "\n",
    "**Exercice 2**\n",
    "\n",
    "<img src=\"Images/exo_graphe2.png\" alt=\"exercice_2\" width=20% align=center>\n",
    "    \n",
    "Quelle est la particularité de ce graphe ?\n",
    "    \n",
    "**Exercice 3**\n",
    "\n",
    "<img src=\"Images/exo_graphe3.png\" alt=\"exercice_3\" width=20% align=center>\n",
    "    \n",
    "Quelle est la particularité de ce graphe ? Il y a un seul cycle\n",
    "    \n",
    "**Exercice 4**\n",
    "\n",
    "<img src=\"Images/exo_graphe4.png\" alt=\"exercice_4\" width=20% align=center>\n",
    "    \n",
    "Quelle est la particularité de ce graphe ? C'est un graphe hamiltonien\n",
    "    \n",
    "**Exercice 5**\n",
    "\n",
    "- Représenter le graphe correspondant à la matrice d'adjacence suivante. On pourra utiliser un outil en ligne, dont voici le lien : https://graphonline.ru/en/ ou Draw io (plus généraliste) : https://app.diagrams.net/\n",
    "\t\t\t\t\n",
    "$$\n",
    "matrice = \\begin{bmatrix} 0&1&1&0&1 \\\\  1&0&1&1&0 \\\\  1&1&0&1&0 \\\\  0&1&1&0&0 \\\\  1&0&0&0&0 \\end{bmatrix}\n",
    "$$\n",
    "\n",
    "**Exercice 6**\n",
    "    \n",
    "- Représenter la liste d'adjacence du graphe précédent.\n",
    "    \n",
    "    \n",
    "    {'A' : [B,C,E];\n",
    "     'B' : [A,C,D];\n",
    "     'C' : [A,B,D];\n",
    "     'D' : [B,C];\n",
    "     'E' : [A]}\n",
    "    \n",
    "**Exercice 7**\n",
    "    \n",
    "<img src=\"Images/exo_graphe7.png\" alt=\"exercice_7\" width=20% align=center>\n",
    "    \n",
    "- Représenter la matrice d'adjacence et la liste d'adjacence du graphe ci-dessus.\n",
    "    \n",
    "$$\n",
    "matrice = \\begin{bmatrix} 0&1&1&0&0&0 \\\\  1&0&0&1&1&0 \\\\  1&0&0&0&0&1 \\\\  0&1&0&0&0&0 \\\\  0&1&0&0&0&1 \\\\ 0&0&1&0&1&0 \\end{bmatrix}\n",
    "$$\n",
    "    \n",
    "    {'A' : [B,C];\n",
    "     'B' : [A,E,D];\n",
    "     'C' : [A,F];\n",
    "     'D' : [B];\n",
    "     'E' : [B,F];\n",
    "     'F' : [C,E]}\n",
    "    \n",
    "**Exercice 8**\n",
    "    \n",
    "<img src=\"Images/oriente_pondere.png\" alt=\"exercice_8\" width=40% align=center>\n",
    "    \n",
    "- Représenter la matrice d'adjacence et la liste d'adjacence du graphe ci-dessus.\n",
    "    \n",
    "$$\n",
    "matrice = \\begin{bmatrix} 0&7&9&0&0 \\\\  0&0&5&8&0 \\\\  0&0&0&5&2 \\\\  0&0&0&0&4 \\\\  0&0&0&0&0 \\end{bmatrix}\n",
    "$$\n",
    "    \n",
    "    {'A' : [(B,7),(C,9)];\n",
    "     'B' : [(C,5),(D,8)];\n",
    "     'C' : [(D,5),(E,2)];\n",
    "     'D' : [(E,4)];\n",
    "     'E' : []}\n",
    "    \n",
    "<div>"
   ]
  },
  {
   "cell_type": "markdown",
   "metadata": {},
   "source": [
    "### 1- Parcours en largeur d'un graphe (ou BFS, pour Breadth First Search en anglais) "
   ]
  },
  {
   "cell_type": "markdown",
   "metadata": {},
   "source": [
    "<div class=\"alert alert-success\">\n",
    "\n",
    "Le graphe ci-après représente un musée, avec différentes pièces, situées au rez-de-chaussée, représentées par des noeuds (A, B, C, D, E et F). Les arêtes représentent les portes et couloirs qui relient les pièces entre-elles.\n",
    "    \n",
    "<img src=\"Images/musee.png\" alt=\"musée\" width=30% align=center>   \n",
    "    \n",
    "\n",
    "**Problématique :**\n",
    "\n",
    "Je suis chargé de faire un marquage, dans chaque salle, pour indiquer le chemin le plus court (nombre de pièces traversées) pour sortir du musée (évacuation d'urgence). L'entrée et la sortie du musée s'effectue par  la pièce A. \n",
    "\n",
    "- Par exemple, quelle direction dois-je indiquer dans la salle F  (vers C ou vers E) ?  \n",
    "    \n",
    "Avant de répondre à la problématique, une autre question se pose (c'est peut-être un peu tard pour l'architecte) :\n",
    "\n",
    "- Peut-on atteindre toutes les pièces du musée ?\n",
    "\n",
    "Pour répondre à cette seconde question, nous allons réaliser un **parcours en largeur du graphe**.\n",
    "\n",
    "Le parcours en largeur d'un graphe est similaire au parcours en largeur  d'un arbre. La seule différence est que les graphes peuvent contenir des cycles. Pour éviter de  traiter un noeud plusieurs fois, nous mémoriserons les noeuds visités.\n",
    "\n",
    "Dans un parcours en largeur, tous les noeuds à une profondeur **i** doivent avoir été visités avant que le premier noeud à la profondeur **i+1** ne soit visité. Un tel parcours nécessite l’utilisation d’une **file**  d’attente pour se \"souvenir\" des branches qui restent à visiter.   \n",
    "    \n",
    "    \n",
    "<div>"
   ]
  },
  {
   "cell_type": "markdown",
   "metadata": {},
   "source": [
    "<div class=\"alert alert-warning\">\n",
    "<img src=\"Images/CR.png\" alt=\"logo CR\" width=5% align=right>\n",
    "    \n",
    "- Représenter la matrice d'adjacence du graphe représentant le musée.\n",
    "<div>"
   ]
  },
  {
   "cell_type": "markdown",
   "metadata": {},
   "source": [
    "$$\n",
    "matrice = \\begin{bmatrix} 0&1&1&0&0&0 \\\\  1&0&0&1&1&0 \\\\  1&0&0&0&0&1 \\\\  0&1&0&0&0&0 \\\\  0&1&0&0&0&1 \\\\ 0&0&1&0&1&0 \\end{bmatrix}\n",
    "$$\n",
    "\n",
    "{'A' : [B,C];\n",
    " 'B' : [A,E,D];\n",
    " 'C' : [A,F];\n",
    " 'D' : [B];\n",
    " 'E' : [B,F];\n",
    " 'F' : [C,E]}"
   ]
  },
  {
   "cell_type": "markdown",
   "metadata": {},
   "source": [
    "<div class=\"alert alert-success\">\n",
    "<img src=\"Images/warning.png\" alt=\"warning\" width=5% align=left>\n",
    "    \n",
    "*Principe de l'algorithme* :\n",
    "\n",
    "1. On enfile le sommet de départ ;\n",
    "2. On enfile les sommets adjacents à la tête de file et on visite les noeuds  s'ils n'ont pas été déjà visités ;\n",
    "3. On défile (on enlève la tête de file) ;\n",
    "4. Tant que la file n'est pas vide, on ré-itère les points 2 et 3.\n",
    "<div>"
   ]
  },
  {
   "cell_type": "markdown",
   "metadata": {},
   "source": [
    "<div class=\"alert alert-warning\">\n",
    "<img src=\"Images/CR.png\" alt=\"logo CR\" width=5% align=right>\n",
    "    \n",
    "*Pour notre graphe* : Commençons par le sommet A qui est l'entrée \n",
    "\n",
    "| QUEUE DE LA FILE <- État de la file  -> TÊTE DE LA FILE | Défiler | Remarque                |\n",
    "| :-----------------------------------------------------: | :-----: | ----------------------- |\n",
    "|                                                        |         |                         |\n",
    "|                                                    |         |                         |\n",
    "|                                                     |         |                         |\n",
    "|                                                  |         |       |\n",
    "|                                                       |         |                         |\n",
    "|                                                     |         |         |\n",
    "|                                                     |         |                         |\n",
    "|                                                     |         |       |\n",
    "|                                                      |         |                         |\n",
    "|                                                        |         |  |\n",
    "|                                                         |         |                         |\n",
    "|                                                       |         |  |\n",
    "|                                                     |         |                         |\n",
    "<div>"
   ]
  },
  {
   "cell_type": "markdown",
   "metadata": {},
   "source": [
    "<div class=\"alert alert-warning\">\n",
    "<img src=\"Images/CR.png\" alt=\"logo CR\" width=5% align=right>\n",
    "    \n",
    "- Implémenter l'algorithme proposé à partir de la matrice d'adjacence du graphe représentant le musée.\n",
    "    \n",
    "*Remarque* : À titre personnel, je trouve peu lisible des sommets numérotés de 0 à 5, aussi j'ai utilisé un dictionnaire prenant pour clé le numéro du sommet et pour valeur la lettre correspondante. En fin de traitement, avant de renvoyer le parcours, je convertis les clés en valeur en compréhension de liste.\n",
    "<div>"
   ]
  },
  {
   "cell_type": "code",
   "execution_count": 1,
   "metadata": {
    "ExecuteTime": {
     "end_time": "2022-03-22T07:26:32.307862Z",
     "start_time": "2022-03-22T07:26:32.293023Z"
    }
   },
   "outputs": [
    {
     "name": "stdout",
     "output_type": "stream",
     "text": [
      "['A', 'B', 'C', 'D', 'E', 'F']\n"
     ]
    }
   ],
   "source": [
    "from strucline import File  # utilisation de la file créée lors d'une autre séquence\n",
    "\n",
    "def parcours_largeur(matrice, sommet):\n",
    "    visites=[]\n",
    "    lst=['A','B','C','D','E','F']\n",
    "    f=File()\n",
    "    f.enfiler(sommet)\n",
    "    visites.append(lst[sommet])\n",
    "    while not f.est_vide() :\n",
    "        s=f.defiler()\n",
    "        for i in range(len(matrice[s])) :\n",
    "            if lst[i] not in visites and matrice[s][i]==1:\n",
    "                f.enfiler(i)\n",
    "                visites.append(lst[i])\n",
    "    return visites\n",
    " \n",
    "\n",
    "matrice_adj = [[0, 1, 1, 0, 0, 0],\n",
    "               [1, 0, 0, 1, 1, 0],\n",
    "               [1, 0, 0, 0, 0, 1],\n",
    "               [0, 1, 0, 0, 0, 0],\n",
    "               [0, 1, 0, 0, 0, 1],\n",
    "               [0, 0, 1, 0, 1, 0]\n",
    "              ]\n",
    "\n",
    "print(parcours_largeur(matrice_adj,0))"
   ]
  },
  {
   "cell_type": "code",
   "execution_count": 28,
   "metadata": {
    "ExecuteTime": {
     "end_time": "2022-03-22T07:46:19.564228Z",
     "start_time": "2022-03-22T07:46:19.548578Z"
    }
   },
   "outputs": [
    {
     "name": "stdout",
     "output_type": "stream",
     "text": [
      "[0, 1, 2, 3, 4, 5]\n"
     ]
    }
   ],
   "source": [
    "from strucline import File\n",
    "\n",
    "def parcours_largeur(matrice, sommet):\n",
    "    visites = [sommet]\n",
    "    file.enfiler(sommet)\n",
    "    while not file.est_vide():\n",
    "        noeud = file.defiler()\n",
    "        for i in range(len(matrice[noeud])):\n",
    "            if matrice[noeud][i] > 0 and i not in visites:\n",
    "                file.enfiler(i)\n",
    "                visites.append(i)\n",
    "    return visites\n",
    " \n",
    "\n",
    "matrice_adj = [[0, 1, 1, 0, 0, 0],\n",
    "               [1, 0, 0, 1, 1, 0],\n",
    "               [1, 0, 0, 0, 0, 1],\n",
    "               [0, 1, 0, 0, 0, 0],\n",
    "               [0, 1, 0, 0, 0, 1],\n",
    "               [0, 0, 1, 0, 1, 0]\n",
    "              ]\n",
    "\n",
    "\n",
    "file=File()\n",
    "test=parcours_largeur(matrice_adj,0)\n",
    "print(test)"
   ]
  },
  {
   "cell_type": "markdown",
   "metadata": {},
   "source": [
    "<div class=\"alert alert-warning\">\n",
    "<img src=\"Images/CR.png\" alt=\"logo CR\" width=5% align=right>\n",
    "    \n",
    "- Représenter la liste d'adjacence du graphe représentant le musée.\n",
    "<div>"
   ]
  },
  {
   "cell_type": "code",
   "execution_count": 55,
   "metadata": {
    "ExecuteTime": {
     "end_time": "2022-03-22T08:20:48.294368Z",
     "start_time": "2022-03-22T08:20:48.272629Z"
    }
   },
   "outputs": [
    {
     "ename": "UnboundLocalError",
     "evalue": "local variable 'noeud' referenced before assignment",
     "output_type": "error",
     "traceback": [
      "\u001b[0;31m---------------------------------------------------------------------------\u001b[0m",
      "\u001b[0;31mUnboundLocalError\u001b[0m                         Traceback (most recent call last)",
      "\u001b[0;32m<ipython-input-55-4332c6a802ef>\u001b[0m in \u001b[0;36m<module>\u001b[0;34m\u001b[0m\n\u001b[1;32m     22\u001b[0m           'F': ['C', 'E']}\n\u001b[1;32m     23\u001b[0m \u001b[0;34m\u001b[0m\u001b[0m\n\u001b[0;32m---> 24\u001b[0;31m \u001b[0mprint\u001b[0m\u001b[0;34m(\u001b[0m\u001b[0mparcours_largeur\u001b[0m\u001b[0;34m(\u001b[0m\u001b[0mgraphe\u001b[0m\u001b[0;34m,\u001b[0m\u001b[0;36m0\u001b[0m\u001b[0;34m)\u001b[0m\u001b[0;34m)\u001b[0m\u001b[0;34m\u001b[0m\u001b[0;34m\u001b[0m\u001b[0m\n\u001b[0m\u001b[1;32m     25\u001b[0m \u001b[0;34m\u001b[0m\u001b[0m\n\u001b[1;32m     26\u001b[0m \u001b[0;34m\u001b[0m\u001b[0m\n",
      "\u001b[0;32m<ipython-input-55-4332c6a802ef>\u001b[0m in \u001b[0;36mparcours_largeur\u001b[0;34m(graphe, sommet)\u001b[0m\n\u001b[1;32m      4\u001b[0m     \u001b[0mvisites\u001b[0m \u001b[0;34m=\u001b[0m \u001b[0;34m[\u001b[0m\u001b[0;34m]\u001b[0m\u001b[0;34m\u001b[0m\u001b[0;34m\u001b[0m\u001b[0m\n\u001b[1;32m      5\u001b[0m     \u001b[0mpile\u001b[0m\u001b[0;34m=\u001b[0m\u001b[0mPile\u001b[0m\u001b[0;34m(\u001b[0m\u001b[0;34m)\u001b[0m\u001b[0;34m\u001b[0m\u001b[0;34m\u001b[0m\u001b[0m\n\u001b[0;32m----> 6\u001b[0;31m     \u001b[0mpile\u001b[0m\u001b[0;34m.\u001b[0m\u001b[0mempiler\u001b[0m\u001b[0;34m(\u001b[0m\u001b[0mnoeud\u001b[0m\u001b[0;34m)\u001b[0m\u001b[0;34m\u001b[0m\u001b[0;34m\u001b[0m\u001b[0m\n\u001b[0m\u001b[1;32m      7\u001b[0m     \u001b[0;32mwhile\u001b[0m \u001b[0;32mnot\u001b[0m \u001b[0mpile\u001b[0m\u001b[0;34m.\u001b[0m\u001b[0mest_vide\u001b[0m\u001b[0;34m(\u001b[0m\u001b[0;34m)\u001b[0m\u001b[0;34m:\u001b[0m\u001b[0;34m\u001b[0m\u001b[0;34m\u001b[0m\u001b[0m\n\u001b[1;32m      8\u001b[0m         \u001b[0mnoeud\u001b[0m \u001b[0;34m=\u001b[0m \u001b[0mpile\u001b[0m\u001b[0;34m.\u001b[0m\u001b[0mdepiler\u001b[0m\u001b[0;34m(\u001b[0m\u001b[0;34m)\u001b[0m\u001b[0;34m\u001b[0m\u001b[0;34m\u001b[0m\u001b[0m\n",
      "\u001b[0;31mUnboundLocalError\u001b[0m: local variable 'noeud' referenced before assignment"
     ]
    }
   ],
   "source": [
    "from strucline import File  # utilisation de la file créée lors d'une autre séquence\n",
    "\n",
    "def parcours_largeur(graphe, sommet):\n",
    "    visites=[]\n",
    "    lst=['A','B','C','D','E','F']\n",
    "    f=File()\n",
    "    voisin=[]\n",
    "    f.enfiler(lst[sommet])\n",
    "    while not f.est_vide() :\n",
    "        s=f.defiler()\n",
    "        if s not in visites:\n",
    "            visites.append(s)\n",
    "            voisin=[elt for elt in graphe[s] if elt not in visites]\n",
    "            [f.enfiler(elt) for elt in voisin]\n",
    "    return visites\n",
    " \n",
    "\n",
    "graphe = {'A': ['B', 'C'],\n",
    "          'B': ['A', 'D', 'E'],\n",
    "          'C': ['A', 'F'],\n",
    "          'D': ['B'],\n",
    "          'E': ['B', 'F'],\n",
    "          'F': ['C', 'E']}\n",
    "\n",
    "print(parcours_largeur(graphe,0))\n",
    "\n",
    "\n",
    "\n",
    "\n"
   ]
  },
  {
   "cell_type": "markdown",
   "metadata": {},
   "source": [
    "### 2- Parcours en profondeur d'un graphe (ou DFS, pour Depth-First Search en anglais)"
   ]
  },
  {
   "cell_type": "markdown",
   "metadata": {},
   "source": [
    "<div class=\"alert alert-success\">\n",
    "    \n",
    "**Problématique :**\n",
    "\n",
    "La problématique est simple dans un labyrinthe inconnu, récupérer le trésor (noeud 18) et ressortir.\n",
    "\n",
    "\n",
    "Pour mener à bien notre mission, on va utiliser une technique de parcours différente de la précédente : **le parcours en profondeur**.\n",
    "\n",
    "Il permet de parcourir un graphe en  visitant les nœuds du graphe les plus \"profonds\" en premier, c'est-à-dire les plus éloignés du nœud de départ, avant de \"remonter\"  progressivement dans le graphe.\n",
    "\n",
    "Dans notre cas du labyrinthe, on essaie un chemin jusqu'à être  bloqué, puis on revient à la dernière intersection, on continue jusqu'à  être bloqué, on revient à la dernière intersection, etc. jusqu'à tomber  sur la sortie.\n",
    "\n",
    "On va utiliser une **pile** pour parcourir l'arbre.\n",
    "\n",
    "<img src=\"Images/labyrinthe.png\" alt=\"Chasse au trésor\" width=60% align=center>\n",
    "    \n",
    "    \n",
    "<div>"
   ]
  },
  {
   "cell_type": "markdown",
   "metadata": {},
   "source": [
    "<div class=\"alert alert-success\">\n",
    "<img src=\"Images/warning.png\" alt=\"warning\" width=5% align=left>\n",
    "    \n",
    "*Principe de l'algorithme* :\n",
    "\n",
    "1. On empile le sommet de départ ;\n",
    "\n",
    "2. Si le sommet de la pile possède des voisins qui ne sont pas dans la pile, ni déjà passés dans la pile\n",
    "\n",
    "   - Alors on sélectionne l'un de ces voisins et on l'empile ;\n",
    "\n",
    "   - Sinon on dépile ;\n",
    "\n",
    "3. On recommence au point 2 tant que la pile n'est pas vide.\n",
    "<div>"
   ]
  },
  {
   "cell_type": "code",
   "execution_count": 56,
   "metadata": {
    "ExecuteTime": {
     "end_time": "2022-03-22T08:21:17.565942Z",
     "start_time": "2022-03-22T08:21:17.550979Z"
    }
   },
   "outputs": [
    {
     "name": "stdout",
     "output_type": "stream",
     "text": [
      "['1', '2', '3', '4', '5', '6', '9', '10', '14', '16', '18', '19', '20', '17', '15', '11', '13', '12', '7', '8']\n"
     ]
    }
   ],
   "source": [
    "from strucline import Pile  # utilisation de la pile créée lors d'une autre séquence\n",
    "\n",
    "def parcours_profondeur(graphe, noeud):\n",
    "    visites = []\n",
    "    pile=Pile()\n",
    "    pile.empiler(noeud)\n",
    "    while not pile.est_vide():\n",
    "        noeud = pile.depiler()\n",
    "        if noeud not in visites:\n",
    "            visites.append(noeud)\n",
    "            liste_voisins=[voisin for voisin in graphe[noeud] if voisin not in visites]\n",
    "            for element in liste_voisins:\n",
    "                pile.empiler(element)\n",
    "    return visites\n",
    "    \"\"\"\n",
    "    visites=[noeud]\n",
    "    p.empiler(noeud)\n",
    "    voisin=graphe[noeud]\n",
    "    for elt in voisin:\n",
    "        if elt not in visites:\n",
    "            p.empiler(elt)\n",
    "            visites.append(elt)\n",
    "        else:\n",
    "            p.depiler(elt)\n",
    "    return visites\"\"\"\n",
    "\n",
    "graphe = {'1': ['2'],\n",
    "          '2': ['3'],\n",
    "          '3': ['4'],\n",
    "          '4': ['5'],\n",
    "          '5': ['6'],\n",
    "          '6': ['7','9'],\n",
    "          '7': ['8'],\n",
    "          '8': [],\n",
    "          '9': ['10'],\n",
    "          '10': ['11','14'],\n",
    "          '11': ['12','13'],\n",
    "          '12': [],\n",
    "          '13': [],\n",
    "          '14': ['15','16'],\n",
    "          '15': [],\n",
    "          '16': ['17','18'],\n",
    "          '17': [],\n",
    "          '18': ['19'],\n",
    "          '19': ['20'],\n",
    "          '20': []\n",
    "         }\n",
    "\n",
    "p=Pile()\n",
    "test=parcours_profondeur(graphe, '1') \n",
    "print(test)\n"
   ]
  },
  {
   "cell_type": "markdown",
   "metadata": {},
   "source": [
    "<div class=\"alert alert-warning\">\n",
    "<img src=\"Images/CR.png\" alt=\"logo CR\" width=5% align=right>\n",
    "\n",
    "*Pour notre arbre* : Commençons par le noeud 1 qui est l'entrée \n",
    "\n",
    "| État de la pile  -> SOMMET DE LA PILE |   Dépiler   |\n",
    "| :-----------------------------------: | :---------: |\n",
    "|                                     |             |\n",
    "|                                  |             |\n",
    "|                           |             |\n",
    "|                     |             |\n",
    "|                         |          |\n",
    "|                         |           |\n",
    "|                          |             |\n",
    "|                 |             |\n",
    "|                   |          |\n",
    "|                     |           |\n",
    "|                     |           |\n",
    "|                     |             |\n",
    "|                   |  |\n",
    "|                      |           |\n",
    "|                   |             |\n",
    "|                |             |\n",
    "|                   |         |\n",
    "|                |             |\n",
    "|            |             |\n",
    "|        |             |\n",
    "<div>"
   ]
  },
  {
   "cell_type": "markdown",
   "metadata": {},
   "source": [
    "<div class=\"alert alert-warning\">\n",
    "<img src=\"Images/CR.png\" alt=\"logo CR\" width=5% align=right>\n",
    "    \n",
    "- Implémenter l'algorithme proposé  à partir de la liste d'adjacence du graphe représentant le labyrinthe.\n",
    "    \n",
    "<div>"
   ]
  }
 ],
 "metadata": {
  "hide_input": false,
  "kernelspec": {
   "display_name": "Python 3",
   "language": "python",
   "name": "python3"
  },
  "language_info": {
   "codemirror_mode": {
    "name": "ipython",
    "version": 3
   },
   "file_extension": ".py",
   "mimetype": "text/x-python",
   "name": "python",
   "nbconvert_exporter": "python",
   "pygments_lexer": "ipython3",
   "version": "3.6.10"
  },
  "nbTranslate": {
   "displayLangs": [
    "*"
   ],
   "hotkey": "alt-t",
   "langInMainMenu": true,
   "sourceLang": "en",
   "targetLang": "fr",
   "useGoogleTranslate": true
  },
  "toc": {
   "base_numbering": 1,
   "nav_menu": {},
   "number_sections": true,
   "sideBar": true,
   "skip_h1_title": false,
   "title_cell": "Table of Contents",
   "title_sidebar": "Contents",
   "toc_cell": false,
   "toc_position": {},
   "toc_section_display": true,
   "toc_window_display": false
  },
  "varInspector": {
   "cols": {
    "lenName": 16,
    "lenType": 16,
    "lenVar": 40
   },
   "kernels_config": {
    "python": {
     "delete_cmd_postfix": "",
     "delete_cmd_prefix": "del ",
     "library": "var_list.py",
     "varRefreshCmd": "print(var_dic_list())"
    },
    "r": {
     "delete_cmd_postfix": ") ",
     "delete_cmd_prefix": "rm(",
     "library": "var_list.r",
     "varRefreshCmd": "cat(var_dic_list()) "
    }
   },
   "types_to_exclude": [
    "module",
    "function",
    "builtin_function_or_method",
    "instance",
    "_Feature"
   ],
   "window_display": false
  }
 },
 "nbformat": 4,
 "nbformat_minor": 2
}
