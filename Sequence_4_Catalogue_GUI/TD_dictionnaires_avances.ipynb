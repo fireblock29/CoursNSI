{
 "cells": [
  {
   "cell_type": "markdown",
   "metadata": {},
   "source": []
  },
  {
   "cell_type": "markdown",
   "metadata": {},
   "source": [
    "## <font color=#013ADF>Séquence N° 4 : Approfondissement sur les dictionnaires</font>"
   ]
  },
  {
   "cell_type": "markdown",
   "metadata": {},
   "source": [
    "## 1) Dictionnaires en compréhension"
   ]
  },
  {
   "cell_type": "markdown",
   "metadata": {},
   "source": [
    "<div class=\"alert alert-success\">\n",
    "\n",
    "La méthode utilisée pour les listes en compréhension, est-elle utilisable pour les dictionnaires ? Essayons.\n",
    "\n",
    "Créons un dictionnaire ayant pour clé un caractère codé entre 0 et 5 et pour valeur l'entier correspondant :\n",
    "</div>"
   ]
  },
  {
   "cell_type": "code",
   "execution_count": 1,
   "metadata": {
    "ExecuteTime": {
     "end_time": "2021-03-08T16:50:26.014471Z",
     "start_time": "2021-03-08T16:50:25.996921Z"
    },
    "run_control": {
     "marked": false
    }
   },
   "outputs": [
    {
     "data": {
      "text/plain": [
       "{'0': 0, '1': 1, '2': 2, '3': 3, '4': 4, '5': 5}"
      ]
     },
     "execution_count": 1,
     "metadata": {},
     "output_type": "execute_result"
    }
   ],
   "source": [
    "{str(i):i for i in [0,1,2,3,4,5]}"
   ]
  },
  {
   "cell_type": "markdown",
   "metadata": {},
   "source": [
    "<div class=\"alert alert-success\"\n",
    "\n",
    "Petite variante :"
   ]
  },
  {
   "cell_type": "code",
   "execution_count": 2,
   "metadata": {
    "run_control": {
     "marked": false
    }
   },
   "outputs": [
    {
     "data": {
      "text/plain": [
       "{'0': 0, '2': 2, '4': 4}"
      ]
     },
     "execution_count": 2,
     "metadata": {},
     "output_type": "execute_result"
    }
   ],
   "source": [
    "{str(i):i for i in range(6) if i%2==0}"
   ]
  },
  {
   "cell_type": "markdown",
   "metadata": {},
   "source": [
    "<div class=\"alert alert-success\"\n",
    "\n",
    "Syntaxe : \n",
    "\n",
    "Création d'un dictionnaire : { ... }\n",
    "\n",
    "Traitement sur la clé : traitement sur la valeur\n",
    "\n",
    "Dans quelle gamme\n",
    "\n",
    "Dans quelle condition\n",
    "\n",
    "**Soyez attentif à l'énoncé !**\n",
    "\n",
    "Création d'un dictionnaire ayant pour clé le fruit d'une liste \"fruits\" et pour valeur le nombre de caractères du mot du fruit (pomme : 5 caractères) :"
   ]
  },
  {
   "cell_type": "code",
   "execution_count": 1,
   "metadata": {
    "ExecuteTime": {
     "end_time": "2021-03-08T17:16:10.033241Z",
     "start_time": "2021-03-08T17:16:10.023549Z"
    }
   },
   "outputs": [
    {
     "name": "stdout",
     "output_type": "stream",
     "text": [
      "{'pomme': 5, 'mangue': 6, 'banane': 6, 'cerise': 6}\n"
     ]
    }
   ],
   "source": [
    "fruits = ['pomme', 'mangue', 'banane','cerise']\n",
    "dico_fruits={cle:len(cle) for cle in fruits}\n",
    "print(dico_fruits)"
   ]
  },
  {
   "cell_type": "markdown",
   "metadata": {},
   "source": [
    "<div class=\"alert alert-success\"\n",
    "\n",
    "Quelques variations sur le thème :\n",
    "1. Mettre la majuscule aux clés\n",
    "2. Inverser clé, valeur"
   ]
  },
  {
   "cell_type": "code",
   "execution_count": 12,
   "metadata": {
    "ExecuteTime": {
     "end_time": "2021-03-08T17:16:48.734486Z",
     "start_time": "2021-03-08T17:16:48.725175Z"
    }
   },
   "outputs": [
    {
     "data": {
      "text/plain": [
       "{'Pomme': 5, 'Mangue': 6, 'Banane': 6, 'Cerise': 6}"
      ]
     },
     "execution_count": 12,
     "metadata": {},
     "output_type": "execute_result"
    }
   ],
   "source": [
    "{cle.capitalize():len(cle) for cle in fruits}"
   ]
  },
  {
   "cell_type": "code",
   "execution_count": 13,
   "metadata": {
    "ExecuteTime": {
     "end_time": "2021-03-08T17:16:49.544276Z",
     "start_time": "2021-03-08T17:16:49.532104Z"
    }
   },
   "outputs": [
    {
     "name": "stdout",
     "output_type": "stream",
     "text": [
      "{'pomme': 5, 'mangue': 6, 'banane': 6, 'cerise': 6}\n"
     ]
    },
    {
     "data": {
      "text/plain": [
       "{5: 'pomme', 6: 'cerise'}"
      ]
     },
     "execution_count": 13,
     "metadata": {},
     "output_type": "execute_result"
    }
   ],
   "source": [
    "fruits = ['pomme', 'mangue', 'banane','cerise']\n",
    "dico_fruits={cle:len(cle) for cle in fruits}\n",
    "print(dico_fruits)\n",
    "{valeur:cle for cle,valeur in dico_fruits.items()}"
   ]
  },
  {
   "cell_type": "markdown",
   "metadata": {},
   "source": [
    "<div class=\"alert alert-warning\">\n",
    "<img src=\"Images/CR.png\" alt=\"logo CR\" width=5% align=right>\n",
    "\n",
    "## Exercice d'application 1\n",
    "\n",
    "### Les problèmes a résoudre sont identiques à ceux utilisés pour les listes (séquence 3). Seule la structure de données (dictionnaire) change.###\n",
    "\n",
    "*Remarque : les fonctions built-in de python (sum, max, min ...) ne seront pas utilisées.*\n",
    "\n",
    "prenom=[\"Alain\",\"Julie\",\"Alice\",\"Bob\",\"Gwendal\"]\n",
    "\n",
    "age=[16,17,18,15,17]\n",
    "\n",
    "**1. Créer en compréhension, un dictionnaire qui prendra pour clés, le prénom des personnes de la liste \"prenom\", et pour valeurs l'âge pris dans la liste \"age\". (Les listes sont ordonnées de la même manière)**\n",
    "\n",
    "**2. Recherchez le nombre de personnes ayant 17 ans.**\n",
    "\n",
    "**3. Recherchez qui est la personne la plus jeune, la plus agée ?**\n",
    "\n",
    "**4. Calculez l'âge moyen du groupe de personnes.**\n"
   ]
  },
  {
   "cell_type": "code",
   "execution_count": 18,
   "metadata": {
    "ExecuteTime": {
     "end_time": "2021-03-08T17:17:59.085892Z",
     "start_time": "2021-03-08T17:17:59.077117Z"
    }
   },
   "outputs": [
    {
     "name": "stdout",
     "output_type": "stream",
     "text": [
      "{'Alain': 16, 'Julie': 17, 'Alice': 18, 'Bob': 15, 'Gwendal': 17}\n"
     ]
    }
   ],
   "source": [
    "prenom=[\"Alain\",\"Julie\",\"Alice\",\"Bob\",\"Gwendal\"]\n",
    "age=[16,17,18,15,17]\n",
    "dico={prenom[i]:age[i] for i in range(len(prenom))}\n",
    "print(dico)"
   ]
  },
  {
   "cell_type": "code",
   "execution_count": 19,
   "metadata": {
    "ExecuteTime": {
     "end_time": "2021-03-08T17:18:00.226297Z",
     "start_time": "2021-03-08T17:18:00.219133Z"
    }
   },
   "outputs": [
    {
     "name": "stdout",
     "output_type": "stream",
     "text": [
      "2\n"
     ]
    }
   ],
   "source": [
    "nb17=0\n",
    "for i in dico.items():\n",
    "    if i[1]== 17:\n",
    "        nb17-=-1\n",
    "print(nb17)"
   ]
  },
  {
   "cell_type": "code",
   "execution_count": 17,
   "metadata": {
    "ExecuteTime": {
     "end_time": "2021-03-08T17:17:53.008459Z",
     "start_time": "2021-03-08T17:17:52.998424Z"
    }
   },
   "outputs": [
    {
     "name": "stdout",
     "output_type": "stream",
     "text": [
      "2\n",
      "Bob\n",
      "Gwendal\n"
     ]
    }
   ],
   "source": [
    "age_jeune=dico[\"Alain\"]\n",
    "age_age=dico.get('Alain')\n",
    "plus_j=\"\"\n",
    "plus_a=\"\"\n",
    "nb17=0\n",
    "for cle,valeur in dico.items():\n",
    "    if valeur== 17:\n",
    "        nb17-=-1\n",
    "    if valeur<age_jeune:\n",
    "        plus_j=cle\n",
    "    if valeur>age_age:\n",
    "        plus_a=cle\n",
    "print(nb17)\n",
    "print(plus_j)\n",
    "print(plus_a)"
   ]
  },
  {
   "cell_type": "code",
   "execution_count": 15,
   "metadata": {
    "ExecuteTime": {
     "end_time": "2021-02-18T12:44:17.316775Z",
     "start_time": "2021-02-18T12:44:17.305372Z"
    }
   },
   "outputs": [
    {
     "name": "stdout",
     "output_type": "stream",
     "text": [
      "Bob\n"
     ]
    }
   ],
   "source": [
    "agemin = 99999999999999999999999999999999999\n",
    "noms=[]\n",
    "for i in dico.values():\n",
    "    if agemin>i:\n",
    "        agemin=i\n",
    "for key,value in dico.items():\n",
    "    if value==agemin:\n",
    "        noms.append(key)\n",
    "for elt in noms:\n",
    "    print(elt)"
   ]
  },
  {
   "cell_type": "code",
   "execution_count": 20,
   "metadata": {
    "ExecuteTime": {
     "end_time": "2021-03-08T17:21:24.352242Z",
     "start_time": "2021-03-08T17:21:24.344085Z"
    }
   },
   "outputs": [
    {
     "name": "stdout",
     "output_type": "stream",
     "text": [
      "Alice\n"
     ]
    }
   ],
   "source": [
    "agemax = 0\n",
    "noms=[]\n",
    "for i in dico.values():\n",
    "    if agemax<i:\n",
    "        agemax=i\n",
    "for key,value in dico.items():\n",
    "    if value==agemax:\n",
    "        noms.append(key)\n",
    "for elt in noms:\n",
    "    print(elt)"
   ]
  },
  {
   "cell_type": "code",
   "execution_count": 21,
   "metadata": {
    "ExecuteTime": {
     "end_time": "2021-03-08T17:21:43.068564Z",
     "start_time": "2021-03-08T17:21:43.062336Z"
    }
   },
   "outputs": [
    {
     "name": "stdout",
     "output_type": "stream",
     "text": [
      "16.6\n"
     ]
    }
   ],
   "source": [
    "moy=0\n",
    "for key,value in dico.items():\n",
    "    moy+=value\n",
    "print(moy/len(dico))"
   ]
  },
  {
   "cell_type": "code",
   "execution_count": 24,
   "metadata": {
    "ExecuteTime": {
     "end_time": "2021-03-08T17:22:07.574897Z",
     "start_time": "2021-03-08T17:22:07.567986Z"
    }
   },
   "outputs": [
    {
     "name": "stdout",
     "output_type": "stream",
     "text": [
      "dict_values([16, 17, 18, 15, 17])\n"
     ]
    }
   ],
   "source": [
    "print(dico.values())"
   ]
  },
  {
   "cell_type": "markdown",
   "metadata": {},
   "source": [
    "<div class=\"alert alert-warning\">\n",
    "<img src=\"Images/CR.png\" alt=\"logo CR\" width=5% align=right>\n",
    "\n",
    "## Exercice d'application 2\n",
    "\n",
    "### Répertoire téléphonique###\n",
    "    \n",
    "On décide de réorganiser son répertoire téléphonique qui pour l'instant est sous la forme d'un tuple de tuples (voir code ci-dessous).\n",
    "Les raisons de cette réorganisation sont multiples (optimisation de la recherche, séparation des contacts, personnel, profession ou autre ...).\n",
    "\n",
    "**1. Créer une fonction prenant en paramètre l'ancien répertoire et crée un nouveau répertoire ou sous répertoire avec les informations des personnes correspondant à la nature du répertoire (personnel, travail, autre) sous la forme d'un dictionnaire ayant pour clé, l'identité de la personne et pour valeur son numéro de téléphone. Par défaut, la personne sera placée dans le répertoire personnel ;**\n",
    "    \n",
    "**2. Créer une fonction prenant en paramètres, un répertoire, une identié et renvoie son numéro de téléphone si elle est présente dans ce répertoire ;**\n",
    "    \n",
    "**3. Créer une procédure qui insère un contact dans un répertoire ;**\n",
    "    \n",
    "**4. Créer une procédure qui affiche l'ensemble des contacts d'un répertoire ;**\n",
    "    \n",
    "**5. Créer une procédure qui supprime un contact d'une répertoire ;**\n",
    "    \n",
    "**6. Créer une procédure qui modifie le numéro de téléphone d'un contact ;**\n",
    "</div>  "
   ]
  },
  {
   "cell_type": "code",
   "execution_count": 15,
   "metadata": {
    "ExecuteTime": {
     "end_time": "2021-03-08T17:17:44.096178Z",
     "start_time": "2021-03-08T17:17:44.078569Z"
    },
    "run_control": {
     "marked": false
    }
   },
   "outputs": [
    {
     "ename": "SyntaxError",
     "evalue": "invalid syntax (<ipython-input-15-18f94c591630>, line 13)",
     "output_type": "error",
     "traceback": [
      "\u001b[0;36m  File \u001b[0;32m\"<ipython-input-15-18f94c591630>\"\u001b[0;36m, line \u001b[0;32m13\u001b[0m\n\u001b[0;31m    assert nom not i rep,'Cette personne est déja dans le repertoire'\u001b[0m\n\u001b[0m                   ^\u001b[0m\n\u001b[0;31mSyntaxError\u001b[0m\u001b[0;31m:\u001b[0m invalid syntax\n"
     ]
    }
   ],
   "source": [
    "def conversion_format(liste:tuple,nature=\"personnel\"):\n",
    "    newrep={i[0]:i[1] for i in liste if i[2]==nature}\n",
    "    return newrep\n",
    "\n",
    "def numero_telephone(rep:dict,personne:str):\n",
    "    assert personne in rep, \"Cette personne n'est pas dans le répertoire\"\n",
    "    return rep[personne]\n",
    "\n",
    "def modifie_contact(rep:dict,nom:str,num:str):\n",
    "    rep.update({nom:num})\n",
    "    \n",
    "def insere_contact(rep:dict,nom:str,num:str):\n",
    "    assert nom not i rep,'Cette personne est déja dans le repertoire'\n",
    "    rep[nom]=num\n",
    "    \n",
    "def affiche_contacts(rep:dict):\n",
    "    for nom,num in rep.items():\n",
    "        print(nom,num)\n",
    "    print(\"=======================\")\n",
    "    \n",
    "def supprime_contact(rep:dict,nom:str):\n",
    "    rep.pop(nom)\n",
    "\n",
    "if __name__=='__main__':\n",
    "    data_sample=(('Jean Timant', '06 25 25 25 25','travail'),\n",
    "                 ('Irène Jout','05 22 23 24 25', 'personnel'),\n",
    "                 ('Émile Franc','01 02 03 04 05', 'travail'),\n",
    "                 ('Émilie Estac','06 66 36 56 05', 'personnel'))\n",
    "    repertoire_perso=conversion_format(data_sample)\n",
    "    repertoire_professionnel=conversion_format(data_sample, 'travail')\n",
    "    insere_contact(repertoire_perso, 'Jacques Adit', '02 98 88 88 77')\n",
    "    numero= numero_telephone(repertoire_perso,'Irène Jout')\n",
    "    affiche_contacts(repertoire_perso)\n",
    "    supprime_contact(repertoire_perso, 'Irène Jout')\n",
    "    insere_contact(repertoire_professionnel, 'Jacques Adit', '02 98 88 88 77')\n",
    "    modifie_contact(repertoire_professionnel, 'Jacques Adit', '06 26 09 24 03')\n",
    "    affiche_contacts(repertoire_professionnel)"
   ]
  },
  {
   "cell_type": "code",
   "execution_count": null,
   "metadata": {},
   "outputs": [],
   "source": []
  }
 ],
 "metadata": {
  "hide_input": false,
  "kernelspec": {
   "display_name": "Python 3",
   "language": "python",
   "name": "python3"
  },
  "language_info": {
   "codemirror_mode": {
    "name": "ipython",
    "version": 3
   },
   "file_extension": ".py",
   "mimetype": "text/x-python",
   "name": "python",
   "nbconvert_exporter": "python",
   "pygments_lexer": "ipython3",
   "version": "3.6.10"
  },
  "latex_envs": {
   "LaTeX_envs_menu_present": true,
   "autoclose": false,
   "autocomplete": true,
   "bibliofile": "biblio.bib",
   "cite_by": "apalike",
   "current_citInitial": 1,
   "eqLabelWithNumbers": true,
   "eqNumInitial": 1,
   "hotkeys": {
    "equation": "Ctrl-E",
    "itemize": "Ctrl-I"
   },
   "labels_anchors": false,
   "latex_user_defs": false,
   "report_style_numbering": false,
   "user_envs_cfg": false
  },
  "nbTranslate": {
   "displayLangs": [
    "*"
   ],
   "hotkey": "alt-t",
   "langInMainMenu": true,
   "sourceLang": "en",
   "targetLang": "fr",
   "useGoogleTranslate": true
  },
  "toc": {
   "base_numbering": 1,
   "nav_menu": {},
   "number_sections": true,
   "sideBar": true,
   "skip_h1_title": false,
   "title_cell": "Table of Contents",
   "title_sidebar": "Contents",
   "toc_cell": false,
   "toc_position": {},
   "toc_section_display": true,
   "toc_window_display": false
  },
  "varInspector": {
   "cols": {
    "lenName": 16,
    "lenType": 16,
    "lenVar": 40
   },
   "kernels_config": {
    "python": {
     "delete_cmd_postfix": "",
     "delete_cmd_prefix": "del ",
     "library": "var_list.py",
     "varRefreshCmd": "print(var_dic_list())"
    },
    "r": {
     "delete_cmd_postfix": ") ",
     "delete_cmd_prefix": "rm(",
     "library": "var_list.r",
     "varRefreshCmd": "cat(var_dic_list()) "
    }
   },
   "types_to_exclude": [
    "module",
    "function",
    "builtin_function_or_method",
    "instance",
    "_Feature"
   ],
   "window_display": false
  }
 },
 "nbformat": 4,
 "nbformat_minor": 2
}
