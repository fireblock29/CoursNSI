{
 "cells": [
  {
   "cell_type": "markdown",
   "metadata": {},
   "source": [
    "# <center><font face=\"arial\" size=\"5\" color=#0101DF>NUMERIQUE ET SCIENCES INFORMATIQUES 1ère NSI</font></center>"
   ]
  },
  {
   "cell_type": "markdown",
   "metadata": {},
   "source": [
    "## <font color=#013ADF>Séquence N° 6 : Les algorithmes gloutons</font>"
   ]
  },
  {
   "cell_type": "markdown",
   "metadata": {},
   "source": [
    "<div class=\"alert alert-danger\" role=\"alert\">\n",
    "    \n",
    "Les objectifs de cette séquence sont :\n",
    "\n",
    "- Définir et résoudre un problème grâce à un algorithme glouton ;\n",
    "- Écrire un algorithme de tri ;\n",
    "- Décrire un invariant de boucle qui prouve la correction des tris par insertion et par sélection ;\n",
    "- Comparer le coût de différents algorithmes de tri.\n"
   ]
  },
  {
   "cell_type": "markdown",
   "metadata": {},
   "source": [
    "**Problématique 1** :\n",
    "\n",
    "Nous disposons d'un distributeur automatique de sandwichs. L'appareil doit rendre la monnaie à l'usager."
   ]
  },
  {
   "cell_type": "markdown",
   "metadata": {},
   "source": [
    "<div class=\"alert alert-warning\">\n",
    "<img src=\"Images/CR.png\" alt=\"logo CR\" width=5% align=right>\n",
    "\n",
    "Si vous lisez ce document, vous devez avoir un répertoire nommé \"rendu_monnaie. Celui-ci qui contient les fichiers html, css et javascript (non finalisé), bien rangés dans des répertoires correspondants.\n",
    "\n",
    "Travail demandé :\n",
    "\n",
    "- Analysez le fonctionnement et le code fourni;\n",
    "- Tracez l'algorithme de la fonction \"renduMonnaie\" pour que l'appareil rendre la monnaie avec un **nombre minimal de pièces** (voir méthode ci-dessous). Celle-ci :\n",
    "    - Utilise les variables globales ci-dessous ;\n",
    "    - Calcule le montant à rendre ;\n",
    "    - Détermine le nombre et la valeur des pièces rendues ;\n",
    "    - Met à jour la page HTML ;\n",
    "    - Désactive les boutons \"Valider\" et \"Commander\", ainsi que l'action sur les pièces.\n",
    "\n",
    "- Complétez le script \"script_distributeur.js\" avec votre fonction. Vous pouvez tester le coeur de votre fonction dans une cellule ci-dessous.\n",
    "\n",
    "En complément de la formation sur le langage javascript, voici un lien utile : https://www.w3schools.com/js/\n"
   ]
  },
  {
   "cell_type": "markdown",
   "metadata": {},
   "source": [
    "<div class=\"alert alert-success\">\n",
    "<img src=\"Images/warning.png\" alt=\"logo CR\" width=5% align=left>\n",
    "\n",
    "Nous avons à résoudre un problème d'**optimisation**.\n",
    "\n",
    "\n",
    "1. **Solution naïve**\n",
    "\n",
    "La solution a laquelle on pense immédiatement est d'énumérer toutes les combinaisons de possibles, de sélectionner celles qui impliquent un minimum de pièces et de choisir la meilleure.\n",
    "\n",
    "Cette solution, dite de **force brute**, fonctionnera toujours mais est très loin d'être efficace.\n",
    "En effet, si elle est simple dans certains cas, elle implique en général un nombre très important de combinaisons différentes, ce qui nuit grandement à l'efficacité de notre solution.\n",
    "\n",
    "\n",
    "2. **Solution gloutonne**\n",
    "\n",
    "La méthode gloutonne vise donc à optimiser la résolution d'un problème en partant du principe suivant : des choix locaux optimaux, étape après étape, devraient produire un résultat global optimal.\n",
    "\n",
    "Les algorithmes gloutons présentent l'avantage d'une conception relativement aisée à mettre en oeuvre. Cependant, le prix à payer est qu'ils ne fourniront **pas toujours la solution optimale** au problème donné : on parle alors d'**heuristique gloutonne**.\n",
    "\n",
    "Dans le **système de pièces européen** (en centimes : 1, 2, 5, 10, 20, 50, 100, 200), on peut montrer que l'algorithme glouton donne toujours une **solution optimale**."
   ]
  },
  {
   "cell_type": "raw",
   "metadata": {},
   "source": [
    "Pour i allant de 1 à n\n",
    "    a<-montantRecu-montantAttendu\n",
    "    Tant que a >= coins[i] \n",
    "        1) a <- a - coins[i]\n",
    "        2) chosen[i] <- chosen[i] + 1\n",
    "Retourner le tableau chosen et la variablemontantRendu\n",
    "==\n",
    "\n",
    "\n",
    "\n",
    "\n",
    "\n",
    "\n"
   ]
  },
  {
   "cell_type": "code",
   "execution_count": null,
   "metadata": {},
   "outputs": [],
   "source": [
    "tant que montantrendu>0\n",
    "    si montant rendu >= piece[i]\n",
    "        alors montantrendu=montantrendu-piece[i]\n",
    "            mettre pièce dans liste piècerendues\n",
    "        sinon incrémenter index\n",
    "    fin si\n",
    "fin tant que\n",
    "\n",
    "\n",
    "let pieces=[200,100,50,20,10,5,2,1]; // liste des pièces acceptées par la machine en centimes\n",
    "let piecesRendues=[]; // liste des pièces rendues à l'utilisateur\n",
    "let montantRecu=400; // montant reçu de l'utilisateur\n",
    "let montantAttendu=150; // prix du sandwich\n",
    "let montantRendu=0; // montant à rendre\n",
    "lett index=0\n",
    "montantrendu=montantrecu-montantattendu\n",
    "while(montantrendu>0){\n",
    "    if (montantrendu>=pieces[i]){\n",
    "        montantrendu-=piceces[i]\n",
    "        piecesrendues.push((pieces[i]/100)+\"€\")\n",
    "    }\n",
    "    else{\n",
    "        indexex+=150\n",
    "    }\n",
    "}\n",
    "\n",
    "\n"
   ]
  },
  {
   "cell_type": "code",
   "execution_count": 18,
   "metadata": {
    "ExecuteTime": {
     "end_time": "2021-04-06T15:13:02.165477Z",
     "start_time": "2021-04-06T15:13:02.158635Z"
    },
    "code_folding": [],
    "lang": "en",
    "run_control": {
     "marked": false
    }
   },
   "outputs": [
    {
     "data": {
      "application/javascript": [
       "let pieces=[200,100,50,20,10,5,2,1]; // liste des pièces acceptées par la machine en centimes\n",
       "let piecesRendues=[]; // liste des pièces rendues à l'utilisateur\n",
       "let montantRecu=400; // montant reçu de l'utilisateur\n",
       "let montantAttendu=150; // prix du sandwich\n",
       "let montantRendu=0; // montant à rendre\n",
       "function moneyback(){\n",
       "    let x=montantRecu-montantAttendu;\n",
       "    let montantrendu=x;\n",
       "    let n=pieces.length;\n",
       "    let chosen = [];\n",
       "    let i=0;\n",
       "    while(x>0){\n",
       "        if(pieces[i] > x){\n",
       "            i = i+1;\n",
       "        }\n",
       "        else{\n",
       "            chosen.push(pieces[i]);\n",
       "            x -= pieces[i];\n",
       "        }\n",
       "    }\n",
       "    return[chosen, montantrendu]\n",
       "    }\n",
       "let a,b=moneyback()\n",
       "console.log(a,b)\n"
      ],
      "text/plain": [
       "<IPython.core.display.Javascript object>"
      ]
     },
     "metadata": {},
     "output_type": "display_data"
    }
   ],
   "source": [
    "%%javascript //Déclare le type de script du notebook\n",
    "let pieces=[200,100,50,20,10,5,2,1]; // liste des pièces acceptées par la machine en centimes\n",
    "let piecesRendues=[]; // liste des pièces rendues à l'utilisateur\n",
    "let montantRecu=400; // montant reçu de l'utilisateur\n",
    "let montantAttendu=150; // prix du sandwich\n",
    "let montantRendu=0; // montant à rendre\n",
    "function moneyback(){\n",
    "    let x=montantRecu-montantAttendu;\n",
    "    let montantrendu=x;\n",
    "    let n=pieces.length;\n",
    "    let chosen = [];\n",
    "    let i=0;\n",
    "    while(x>0){\n",
    "        if(pieces[i] > x){\n",
    "            i = i+1;\n",
    "        }\n",
    "        else{\n",
    "            chosen.push(pieces[i]);\n",
    "            x -= pieces[i];\n",
    "        }\n",
    "    }\n",
    "    return[chosen, montantrendu]\n",
    "    }\n",
    "let a,b=moneyback()\n",
    "console.log(a,b)"
   ]
  },
  {
   "cell_type": "raw",
   "metadata": {
    "lang": "fr"
   },
   "source": [
    "%% javascript // Déclare le type de script du notebook\n",
    "soit morceaux = [200,100,50,20,10,5,2,1]; // liste des pièces acceptées par la machine en centimes\n",
    "laissez piecesRendues = []; // liste des pièces rendues à l'utilisateur\n",
    "laissez montantRecu = 400; // montant reçu de l'utilisateur\n",
    "laissez montantAttendu = 150; // prix du sandwich\n",
    "laissez montantRendu = 0; // montant à rendre\n",
    "function moneyback () {\n",
    "    let x = montantRecu-montantAttendu;\n",
    "    laissez montantrendu = x;\n",
    "    soit n = morceaux.longueur;\n",
    "    laissez choisi = [];\n",
    "    soit i = 0;\n",
    "    tandis que (x> 0) {\n",
    "        if (morceaux [i]> x) {\n",
    "            i = i + 1;\n",
    "        }\n",
    "        autre{\n",
    "            selected.push (morceaux [i]);\n",
    "            x - = pièces [i];\n",
    "        }\n",
    "    }\n",
    "    retour [choisi, montantrendu]\n",
    "    }\n",
    "soit a, b = moneyback ()\n",
    "console.log (a, b)"
   ]
  },
  {
   "cell_type": "markdown",
   "metadata": {
    "lang": "en"
   },
   "source": [
    "**Problématique 2** :\n",
    "\n",
    "Envoyer des objets dans l'espace est une action très coûteuse. Bien que ces objets échapperont à la pesanteur lorsqu'ils seront dans l'espace, il est nécessaire de les y envoyer en minimisant le coût de l'opération.\n",
    "\n",
    "Vous travaillez pour l'entreprise chargée du prochain ravitaillement de la Station Spatiale Internationale, votre rôle va être de préparer le contenu du prochain lanceur. Votre équipe a réuni \"n\" objets (cela peut être de la nourriture, du carburant, du nouveau matériel, des expériences scientifiques à mener, etc.), et possède à disposition un espace dans le lanceur pouvant contenir au maximum M kilos. Chaque objet sera décrit selon deux caractéristiques :\n",
    "\n",
    ">* Sa masse m en kilo (avec 0<m<=M)\n",
    "* Sa valeur v pour la mission (avec 0<v<100)\n",
    "\n",
    "Afin d'optimiser au mieux les coûts du lancement, vous devez trouver un arrangement d'objets tel que la valeur cumulée de ces derniers (notée V) soit maximale, tout en faisant attention à ne pas dépasser les M kilos supportés par votre espace dans le lanceur.\n",
    "\n",
    "Toutes les données fournies en entrée (n, M, m, v) sont des nombres entiers.\n",
    "\n",
    "Le problème est complexe, aussi pour commencer, on vous demande de réfléchir à la solution sur un exemple plus simple.\n",
    "\n",
    "| Objet  | Masse | Valeur |\n",
    "|:------:|:-----:|:----------:|\n",
    "| objet1 |  140  |     65     |\n",
    "| objet2 |   60  |     25     |\n",
    "| objet3 |   65  |     25     |\n",
    "| objet4 |   20  |     30     |\n",
    "\n",
    "Avec n=4 et M=200 kg.\n",
    "<img src=\"Images\\fusee.png\" alt=\"ma fusée\" width=\"150\"/>"
   ]
  },
  {
   "cell_type": "markdown",
   "metadata": {},
   "source": [
    "<div class=\"alert alert-warning\">\n",
    "<img src=\"Images/CR.png\" alt=\"logo CR\" width=5% align=right>\n",
    "\n",
    "Proposez des stratégies pour résoudre le problème d'optimisation (la solution de force brute sera ignorée)."
   ]
  },
  {
   "cell_type": "markdown",
   "metadata": {},
   "source": [
    "<div class=\"alert alert-success\">\n",
    "<img src=\"Images/warning.png\" alt=\"logo CR\" width=5% align=left>\n",
    "\n",
    "Quelque soit la solution retenue, il y a nécessité de réaliser un tri. [les algorithmes de tri](Algos_tris.ipynb)"
   ]
  },
  {
   "cell_type": "markdown",
   "metadata": {},
   "source": [
    "#### 1- Première stratégie \n",
    "On choisit les objets dont la valeur est la plus grande."
   ]
  },
  {
   "cell_type": "code",
   "execution_count": 3,
   "metadata": {
    "ExecuteTime": {
     "end_time": "2021-05-15T13:26:46.224110Z",
     "start_time": "2021-05-15T13:26:46.206267Z"
    }
   },
   "outputs": [
    {
     "name": "stdout",
     "output_type": "stream",
     "text": [
      "Bilan : \n",
      "masse maximale autorisée : 180 kg\n",
      "objets embarqués : Objet1 Objet4 \n",
      "masse embarquée : 160 kg\n",
      "valeur embarquée : 40\n"
     ]
    }
   ],
   "source": [
    "# -*- coding: utf-8 -*-\n",
    "\"\"\"\n",
    "Programme d'aide au chargement du lanceur\n",
    "\"\"\"\n",
    "def affiche_liste(liste:list,masse_max:int):\n",
    "    valeur=0\n",
    "    masse=0\n",
    "    objet=\"\"\n",
    "    for i in range (len(liste)):\n",
    "        valeur+=liste[i][2]\n",
    "        masse+=liste[i][1]\n",
    "        objet+=liste[i][0]+' '\n",
    "    print('Bilan : ')\n",
    "    print(f'masse maximale autorisée : {masse_max} kg')\n",
    "    print(f'objets embarqués : {objet}')\n",
    "    print(f'masse embarquée : {masse} kg')\n",
    "    print(f'valeur embarquée : {valeur}')\n",
    "    \n",
    "def choisir(masse_maxi:int, objets:list)->list:\n",
    "    masse_container = 0\n",
    "    container = []\n",
    "    index_valeur=2\n",
    "    index_masse=1\n",
    "    \n",
    "    for i in range(len(objets)):\n",
    "        min=i\n",
    "        for j in range(i+1,len(objets)):\n",
    "            if objets[min][index_valeur]<objets[j][index_valeur]:\n",
    "                min=j\n",
    "        tmp=objets[i]\n",
    "        objets[i]=objets[min]\n",
    "        objets[min]=tmp\n",
    "\n",
    "    for objet in range(len(objets)):\n",
    "         if masse_container + objets[objet][index_masse] <= masse_maxi:\n",
    "            masse_container += objets[objet][index_masse]\n",
    "            container.append(objets[objet])\n",
    "    return container\n",
    "\n",
    "masse_maxi=180\n",
    "## liste des objets possibles à embarquer\n",
    "mes_objets=[['Objet1',140,25],\n",
    "            ['Objet2',60,25],\n",
    "            ['Objet3',65,20],\n",
    "            ['Objet4',20,15]]\n",
    "\n",
    "mon_container=(choisir(masse_maxi,mes_objets))\n",
    "affiche_liste(mon_container,masse_maxi)"
   ]
  },
  {
   "cell_type": "markdown",
   "metadata": {},
   "source": [
    "<div class=\"alert alert-warning\">\n",
    "<img src=\"Images/CR.png\" alt=\"logo CR\" width=1% align=right>\n",
    "\n",
    "1. Décrire la postcondition sur les résultats.\\\n",
    "        La valeur retournée par la fonction choisir() est une liste.\n",
    "2. Décrire la précondition sur les arguments. \\\n",
    "        Les valeurs réclamées la fonction affiche_liste() sont : une liste, et un entier.\\\n",
    "        Les valeurs réclamées la fonction choisir() sont : deux entiers.\n",
    "3. Une méthode de tri est développée. De laquelle s'agit-il ?\\\n",
    "        tri par séléction\n",
    "4. Justifier que la complexité temporelle de cet algorithme est quadratique.\\\n",
    "        on note la présence de 2 boucles imbriquées : donc O(n²) -> Quadratique\n",
    "5. La valeur embarquée est-elle optimale ?\\\n",
    "        La valeur est optimale : Obj1 = 60; Obj2 = 35 --> 95\n",
    "    "
   ]
  },
  {
   "cell_type": "markdown",
   "metadata": {},
   "source": [
    "#### 2- Deuxième stratégie\n",
    "On choisit les objets dont le rapport valeur/masse est le plus grand"
   ]
  },
  {
   "cell_type": "code",
   "execution_count": 4,
   "metadata": {
    "ExecuteTime": {
     "end_time": "2021-05-15T13:27:58.103108Z",
     "start_time": "2021-05-15T13:27:58.083476Z"
    }
   },
   "outputs": [
    {
     "name": "stdout",
     "output_type": "stream",
     "text": [
      "Bilan : \n",
      "masse maximale autorisée : 200 kg\n",
      "objets embarqués : Objet4 Objet3 Objet2 \n",
      "masse embarquée : 145 kg\n",
      "valeur embarquée : 30\n"
     ]
    }
   ],
   "source": [
    "#%%time\n",
    "#!/usr/bin/env python3\n",
    "# -*- coding: utf-8 -*-\n",
    "\"\"\"\n",
    "Programme d'aide au chargement du lanceur\n",
    "\"\"\"\n",
    "\n",
    "def affiche_bilan(dico:dict,masse_max:int):\n",
    "    valeur=0\n",
    "    masse=0\n",
    "    objet=\"\"\n",
    "    for cle, data in dico.items():\n",
    "        valeur+=data[1]\n",
    "        masse+=data[0]\n",
    "        objet+=cle+' '\n",
    "    print('Bilan : ')\n",
    "    print(f'masse maximale autorisée : {masse_max} kg')\n",
    "    print(f'objets embarqués : {objet}')\n",
    "    print(f'masse embarquée : {masse} kg')\n",
    "    print(f'valeur embarquée : {valeur}')\n",
    "\n",
    "def calcul_ratio(mes_objets:list)->list:\n",
    "    #Calcul du ratio Valeur/Poids et l'ajoute aux listes des objets\n",
    "    for i in range(len(mes_objets)):\n",
    "        mes_objets[i].append(mes_objets[i][2]/mes_objets[i][1])      \n",
    "    return mes_objets\n",
    "\n",
    "def selection_objets(mes_objets:list,masse_maxi:int)->dict:\n",
    "    #Boucle de sélection des objets\n",
    "    i=0\n",
    "    nb_objets=len(mes_objets)\n",
    "    mon_container={}\n",
    "    while nb_objets>0:\n",
    "        critere=mes_objets[i][1]\n",
    "        if critere <= masse_maxi:\n",
    "            mon_container[mes_objets[i][0]]=(mes_objets[i][1],mes_objets[i][2])\n",
    "            masse_maxi-=critere\n",
    "        i+=1\n",
    "        nb_objets-=1\n",
    "    return mon_container\n",
    "\n",
    "masse_maxi=200\n",
    "## liste des objets possibles à embarquer\n",
    "mes_objets=[['Objet1',140,25],\n",
    "            ['Objet2',60,5],\n",
    "            ['Objet3',65,15],\n",
    "            ['Objet4',20,10]]\n",
    "\n",
    "\n",
    "calcul_ratio(mes_objets)\n",
    "#Tri de ratio dans l'ordre croissant (ratio valeur/masse)\n",
    "mes_objets.sort(key=lambda L:L[3], reverse=True)\n",
    "container=selection_objets(mes_objets,masse_maxi)\n",
    "affiche_bilan(container,masse_maxi)"
   ]
  },
  {
   "cell_type": "markdown",
   "metadata": {},
   "source": [
    "<div class=\"alert alert-warning\">\n",
    "<img src=\"Images/CR.png\" alt=\"logo CR\" width=5% align=right>\n",
    "    \n",
    "1. Dans la boucle de sélection des objets, identifier en justifiant le variant de boucle.\n",
    "        masse_maxi-=critere\n",
    "2. Dans la boucle de sélection des objets, quel est l'invariant de boucle ?\n",
    "         nb_objet car décrémentation\n",
    "        \n",
    "3. La valeur embarquée est-elle optimale ?\n",
    "           Oui"
   ]
  },
  {
   "cell_type": "markdown",
   "metadata": {},
   "source": [
    "On se propose maintenant de réexécuter les programmes précédents avec des valeurs différentes."
   ]
  },
  {
   "cell_type": "markdown",
   "metadata": {},
   "source": [
    "#### 1- Première stratégie \n",
    "**valeurs : 25,25,15,10 avec une masse_maxi = 180**\n",
    "Optimal"
   ]
  },
  {
   "cell_type": "markdown",
   "metadata": {},
   "source": [
    "#### 2- Deuxième stratégie\n",
    "**valeurs : 25,5,15,10 avec une masse_maxi = 200** Pas opti"
   ]
  },
  {
   "cell_type": "code",
   "execution_count": null,
   "metadata": {},
   "outputs": [],
   "source": []
  }
 ],
 "metadata": {
  "hide_input": false,
  "kernelspec": {
   "display_name": "Python 3",
   "language": "python",
   "name": "python3"
  },
  "language_info": {
   "codemirror_mode": {
    "name": "ipython",
    "version": 3
   },
   "file_extension": ".py",
   "mimetype": "text/x-python",
   "name": "python",
   "nbconvert_exporter": "python",
   "pygments_lexer": "ipython3",
   "version": "3.6.10"
  },
  "latex_envs": {
   "LaTeX_envs_menu_present": true,
   "autoclose": false,
   "autocomplete": true,
   "bibliofile": "biblio.bib",
   "cite_by": "apalike",
   "current_citInitial": 1,
   "eqLabelWithNumbers": true,
   "eqNumInitial": 1,
   "hotkeys": {
    "equation": "Ctrl-E",
    "itemize": "Ctrl-I"
   },
   "labels_anchors": false,
   "latex_user_defs": false,
   "report_style_numbering": false,
   "user_envs_cfg": false
  },
  "nbTranslate": {
   "displayLangs": [],
   "hotkey": "alt-t",
   "langInMainMenu": true,
   "sourceLang": "en",
   "targetLang": "fr",
   "useGoogleTranslate": true
  },
  "toc": {
   "base_numbering": 1,
   "nav_menu": {},
   "number_sections": true,
   "sideBar": true,
   "skip_h1_title": false,
   "title_cell": "Table of Contents",
   "title_sidebar": "Contents",
   "toc_cell": false,
   "toc_position": {},
   "toc_section_display": true,
   "toc_window_display": false
  },
  "varInspector": {
   "cols": {
    "lenName": 16,
    "lenType": 16,
    "lenVar": 40
   },
   "kernels_config": {
    "python": {
     "delete_cmd_postfix": "",
     "delete_cmd_prefix": "del ",
     "library": "var_list.py",
     "varRefreshCmd": "print(var_dic_list())"
    },
    "r": {
     "delete_cmd_postfix": ") ",
     "delete_cmd_prefix": "rm(",
     "library": "var_list.r",
     "varRefreshCmd": "cat(var_dic_list()) "
    }
   },
   "types_to_exclude": [
    "module",
    "function",
    "builtin_function_or_method",
    "instance",
    "_Feature"
   ],
   "window_display": false
  }
 },
 "nbformat": 4,
 "nbformat_minor": 2
}
