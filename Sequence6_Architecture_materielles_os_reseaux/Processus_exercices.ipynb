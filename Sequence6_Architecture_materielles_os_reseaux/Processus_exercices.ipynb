{
 "cells": [
  {
   "cell_type": "markdown",
   "metadata": {},
   "source": [
    "# <center><font face=\"arial\" size=\"5\" color=#0101DF>NUMERIQUE ET SCIENCES INFORMATIQUES Terminale NSI</font></center>"
   ]
  },
  {
   "cell_type": "markdown",
   "metadata": {},
   "source": [
    "## <font color=#013ADF>Séquence N° 6 : Les processus - Exercices</font>"
   ]
  },
  {
   "cell_type": "markdown",
   "metadata": {},
   "source": [
    "<div class=\"alert alert-danger\" role=\"alert\">\n",
    "    \n",
    "Les objectifs de cette séquence sont :\n",
    "\n",
    "- Décrire la création d'un processus, l'ordonnancement de plusieurs processus par le système ;\n",
    "- Mettre en évidence le risque de l'interblocage (deadlock).\n",
    "\n",
    "\n",
    "</div>"
   ]
  },
  {
   "cell_type": "markdown",
   "metadata": {},
   "source": [
    "### 1- Exercice 1 (sujet du bac NSI 2021)"
   ]
  },
  {
   "cell_type": "markdown",
   "metadata": {},
   "source": [
    "<div class=\"alert alert-warning\">\n",
    "<img src=\"Images/CR.png\" alt=\"logo CR\" width=5% align=right>\n",
    "\n",
    "Les parties A et B peuvent être traitées indépendamment. \n",
    " \n",
    "**Partie A** :  \n",
    " \n",
    "Dans un bureau d’architectes, on dispose de certaines ressources qui ne peuvent être utilisées simultanément par plus d’un processus, comme l’imprimante, la table traçante, le modem. Chaque programme, lorsqu’il s’exécute, demande l’allocation des ressources qui lui sont nécessaires. Lorsqu’il a fini de s’exécuter, il libère ses ressources.\n",
    "\n",
    "<img src=\"Images/Exercice1-1.png\" alt=\"Exercice1-1\" width=80% align=center>\n",
    "    \n",
    "On appelle p1, p2 et p3 les processus associés respectivement aux programmes 1, 2 et 3. \n",
    "    \n",
    "1. Les processus s'exécutent de manière concurrente. Justifier qu'une situation d'interblocage peut se produire. \n",
    "    \n",
    "2. Modifier l'ordre des instructions du programme 3 pour qu'une telle situation ne puisse pas se produire. Aucune justification n'est attendue. \n",
    "    \n",
    "3. Supposons que le processus p1 demande la table traçante alors qu'elle est en cours d'utilisation par le processus p3. Parmi les états suivants, quel sera l'état du processus p1 tant que la table traçante n'est pas disponible : \n",
    "    \n",
    "    - a) élu\n",
    "    - b) bloqué\n",
    "    - c) prêt\n",
    "    - d) terminé \n",
    "\n",
    "**Partie B** :  \n",
    "    \n",
    "Avec une ligne de commande dans un terminal sous Linux, on obtient l'affichage suivant : \n",
    "    \n",
    "<img src=\"Images/Exercice1-2.png\" alt=\"Exercice1-2\" width=150% align=center>\n",
    "    \n",
    "La documentation Linux donne la signification des différents champs : \n",
    "◦ UID : identifiant utilisateur effectif ;  \n",
    "\n",
    "◦ PID : identifiant de processus ; \n",
    "\n",
    "◦ PPID : PID du processus parent ; \n",
    "\n",
    "◦ C : partie entière du pourcentage d'utilisation du processeur par rapport au temps de vie des processus ; \n",
    "\n",
    "◦ STIME : l'heure de lancement du processus ; \n",
    "\n",
    "◦ TTY : terminal de contrôle ;\n",
    "\n",
    "◦ TIME : temps d'exécution ;\n",
    "\n",
    "◦ CMD :  nom de la commande du processus ;\n",
    "\n",
    " \n",
    "1. Parmi les quatre commandes suivantes, laquelle a permis cet affichage ? \n",
    "    - a) ls -l \n",
    "    - b) ps –ef \n",
    "    - c) cd .. \n",
    "    - d) chmod 741 processus.txt \n",
    "    \n",
    "2. Quel est l'identifiant du processus parent à l'origine de tous les processus concernant le navigateur Web (chromium-browser) ? \n",
    "    \n",
    "3. Quel est l'identifiant du processus dont le temps d'exécution est le plus long ? \n",
    "    \n",
    "<div>"
   ]
  },
  {
   "cell_type": "markdown",
   "metadata": {},
   "source": [
    "<div class=\"alert alert-danger\">\n",
    "    \n",
    "**PARTIE A**\n",
    "    \n",
    "1)\n",
    "    \n",
    "Une situation d'interblocage peut se produire selon le temps d'exécution des différents processus. Les processus s'éxécutent en concurrence. Donc, le premier processus de chaque programme s'exécute, mais les ressources ne sont plus accessibles pour les 2e processsus.\n",
    "    \n",
    "P1 demande la table traçante; P2 le modem; P3 l'imprimante\n",
    "Puis, P1 demande le modem, non libérée, et attend; P2 l'imprimante, non libérée, et attend; P3 la table traçante, non libérée, et attend. D'où la situation d'interblocage.\n",
    "    \n",
    "2)\n",
    "    \n",
    "> demander (table traçante)\n",
    "    \n",
    "> demander (imprimante)\n",
    "    \n",
    "> exécution\n",
    "    \n",
    "> libérer (imprimante)\n",
    "    \n",
    "> libérer (table traçante)\n",
    "    \n",
    "3)\n",
    "    \n",
    "Le processus 1 sera 'bloqué' si la table traçante est utilisée par p3\n",
    "    \n",
    "**PARTIE B**\n",
    "    \n",
    "1)\n",
    "    \n",
    "ps -ef\n",
    "   \n",
    "\n",
    "2)\n",
    "\n",
    "C'est le processus **n° 831**\n",
    "    \n",
    "3)\n",
    "\n",
    "C'est le processus **n° 6211**\n",
    "</div>"
   ]
  },
  {
   "cell_type": "markdown",
   "metadata": {},
   "source": [
    "### 2- Exercice 2 (sujet du bac NSI 2021)"
   ]
  },
  {
   "cell_type": "markdown",
   "metadata": {},
   "source": [
    "<div class=\"alert alert-warning\">\n",
    "<img src=\"Images/CR.png\" alt=\"logo CR\" width=5% align=right>\n",
    "\n",
    "**Partie A** :\n",
    "\n",
    "Cette partie est un questionnaire à choix multiples (QCM). \n",
    "\n",
    "Pour chacune des questions, une seule des quatre réponses est exacte. Le candidat indiquera sur sa copie le numéro de la question et la lettre correspondant à la réponse exacte. \n",
    "\n",
    "Aucune justification n’est demandée. Une réponse fausse ou une absence de réponse n’enlève aucun point. \n",
    "\n",
    " \n",
    "\n",
    "1. Parmi les commandes ci-dessous, laquelle permet d’afficher les processus en cours d’exécution ?  \n",
    "\n",
    "   a. dir  \t\n",
    "   b. ps  \t\n",
    "   c. man  \t\n",
    "   d. ls  \t\n",
    "\n",
    " \n",
    "2. Quelle abréviation désigne l’identifiant d’un processus dans un système d’exploitation de type UNIX ?   \n",
    "\n",
    "   a. PIX  \t\n",
    "   b. SIG  \t\n",
    "   c. PID  \t\n",
    "   d. SID  \t\n",
    "\n",
    " \n",
    "3. Comment s’appelle la gestion du partage du processeur entre différents processus ?  \n",
    "\n",
    "   a. L’interblocage  \t\n",
    "   b. L’ordonnancement  \t\n",
    "   c. La planification  \t\n",
    "   d. La priorisation  \t\n",
    "\n",
    " \n",
    "4. Quelle commande permet d’interrompre un processus dans un système d’exploitation de type UNIX ?  \n",
    "\n",
    "   a. stop  \t\n",
    "   b. interrupt  \t\n",
    "   c. end  \t\n",
    "   d. kill  \t\n",
    "\n",
    " \t \n",
    "\n",
    "**Partie B** :\n",
    "\n",
    "1. Un processeur choisit à chaque cycle d’exécution le processus qui doit être exécuté. Le tableau ci-dessous donne pour trois processus P1, P2, P3 :  \n",
    "   - la durée d’exécution (en nombre de cycles),  \t\n",
    "   - l’instant d’arrivée sur le processeur (exprimé en nombre de cycles à partir de 0),\n",
    "   - le numéro de priorité.    \n",
    "    \n",
    "\n",
    "Le numéro de priorité est d’autant plus petit que la priorité est grande. On suppose qu’à chaque instant, c’est le processus qui a le plus petit numéro de priorité qui est exécuté, ce qui peut provoquer la suspension d’un autre processus, lequel reprendra lorsqu’il sera le plus prioritaire. \n",
    "\n",
    "<img src=\"Images/Exercice2-1.png\" alt=\"Exercice2-1\" width=80% align=center>     \n",
    "    \n",
    "Reproduire le tableau ci-dessous sur la copie et indiquer dans chacune des cases le processus exécuté à chaque cycle. \n",
    "    \n",
    "<img src=\"Images/Exercice2-2.png\" alt=\"Exercice2-2\" width=80% align=center>   \n",
    "\n",
    " \n",
    "\n",
    "2. On suppose maintenant que les trois processus précédents s’exécutent et utilisent une ou plusieurs ressources parmi R1, R2 et R3. Parmi les scénarios suivants, lequel provoque un interblocage ? Justifier. \n",
    "\n",
    " \n",
    "<img src=\"Images/Exercice2-3.png\" alt=\"Exercice2-3\" width=80% align=center>   \n",
    "\n",
    "\n",
    "</div>"
   ]
  },
  {
   "cell_type": "markdown",
   "metadata": {},
   "source": [
    "<div class=\"alert alert-danger\">\n",
    "    \n",
    "**PARTIE A**\n",
    "    \n",
    "1)\n",
    "    \n",
    "ps\n",
    "    \n",
    "2)\n",
    "    \n",
    "PID\n",
    "    \n",
    "3)\n",
    "    \n",
    "L'ordonnancement\n",
    "    \n",
    "4)\n",
    "    \n",
    "kill\n",
    "    \n",
    "    \n",
    "**PARTIE B**\n",
    "    \n",
    "1)\n",
    "    \n",
    "<img src=\"Images/Exercice2-2-perso-corrigé.png\" alt=\"Exercice2-2-perso\" width=80% align=center>   \n",
    "    \n",
    "2)\n",
    "\n",
    "Le scénario 2 provoque un interblocage car P1 obtient R1, attend R2, et P3 obtient R2, et attend R1. Donc, P1 est bloqué par P3, qui est lui même bloqué par P1.\n",
    "    \n",
    "</div>"
   ]
  },
  {
   "cell_type": "markdown",
   "metadata": {},
   "source": [
    "### 3- Exercice 3 (sujet du bac NSI 2021)"
   ]
  },
  {
   "cell_type": "markdown",
   "metadata": {},
   "source": [
    "<div class=\"alert alert-warning\">\n",
    "<img src=\"Images/CR.png\" alt=\"logo CR\" width=5% align=right>\n",
    "\n",
    "La commande UNIX ps présente un cliché instantané des processus en cours d'exécution. \n",
    "Avec l’option −eo pid,ppid,stat,command, cette commande affiche dans l’ordre l’identifiant du processus PID (process identifier), le PPID (parent process identifier), l’état STAT et le nom de la commande à l’origine du processus. \n",
    "Les valeurs du champ STAT indique l’état des processus : \n",
    "    R : processus en cours d’exécution \n",
    "    S : processus endormi  \n",
    " \n",
    "Sur un ordinateur, on exécute la commande ps −eo pid,ppid,stat,command et on obtient un affichage dont on donne ci-dessous un extrait. \n",
    " \n",
    "$ ps -eo pid,ppid,stat,command \n",
    "<br><br> \n",
    "PID PPID STAT COMMAND \n",
    "\n",
    "1 0 Ss /sbin/init  \t.... .... .. ... \n",
    "\n",
    "1912 1908 Ss Bash \n",
    "\n",
    "2014 1912 Ss Bash \n",
    "\n",
    "1920 1747 Sl Gedit \n",
    "\n",
    "2013 1912 Ss Bash \n",
    "\n",
    "2091 1593 Sl /usr/lib/firefox/firefox \n",
    "\n",
    "5437 1912 Sl python programme1.py \n",
    "\n",
    "5440 2013 R python programme2.py \n",
    "\n",
    "5450 1912 R+ ps -eo pid,ppid,stat,command \n",
    "\n",
    "<br><br>\n",
    "À l'aide de cet affichage, répondre aux questions ci-dessous. \n",
    "1. Quel est le nom de la première commande exécutée par le système d'exploitation lors du démarrage ? \n",
    "2. Quels sont les identifiants des processus actifs sur cet ordinateur au moment de l’appel de la commande ps ? Justifier la réponse. \n",
    "3. Depuis quelle application a-t-on exécuté la commande ps ?  \n",
    "Donner les autres commandes qui ont été exécutées à partir de cette application. \n",
    "4. Expliquer l'ordre dans lequel les deux commandes python programme1.py et  python programme2.py ont été exécutées.  \n",
    "5. Peut-on prédire que l'une des deux commandes python programme1.py et  python programme2.py finira avant l’autre ? \n",
    " \n",
    "\n",
    "\n",
    "\n",
    "</div>"
   ]
  },
  {
   "cell_type": "markdown",
   "metadata": {},
   "source": [
    "<div class=\"alert alert-danger\">\n",
    "    \n",
    "1)\n",
    "    \n",
    "INIT qui est trouvé dans le répertoire /sbin/init\n",
    "    \n",
    "2)\n",
    "    \n",
    "Les processus actifs sont les n° 5450, et 5440, qui sont marqués à l'état \"R\" pour \"Running\"\n",
    "    \n",
    "3)\n",
    "    \n",
    "La commande PS a été exécutée depuis le programme Bash 1912, tout comme le programme 1 et le 3e bash\n",
    "    \n",
    "4)\n",
    "La commande exécutant le programme 1 a été exécutée avant le programme 2. L'ID du processus du programme 1 est 5437, et celui du processus 2 est 5440. Les processus sont identitifés dans l'ordre croissant, donc 5440 > 5437.\n",
    "    \n",
    "5)\n",
    "    \n",
    "Nous ne sommes pas en mesure de dire quelle exécution s'achèvera avant l'autre car nous ne possédons pas les valeurs des temps d'éxécution.\n",
    "    \n",
    "</div>"
   ]
  },
  {
   "cell_type": "markdown",
   "metadata": {},
   "source": [
    "### 4- Exercice 4 (sujet du bac NSI 2021)"
   ]
  },
  {
   "cell_type": "markdown",
   "metadata": {},
   "source": [
    "<div class=\"alert alert-warning\">\n",
    "<img src=\"Images/CR.png\" alt=\"logo CR\" width=5% align=right>\n",
    "\n",
    "1. Les états possibles d’un processus sont : prêt, élu, terminé et bloqué.  \n",
    "    - Expliquer à quoi correspond l’état élu. \n",
    "    - Proposer un schéma illustrant les passages entre les différents états. \n",
    " \n",
    "2. On suppose que quatre processus C₁, C₂, C₃ et C₄ sont créés sur un ordinateur, et qu’aucun autre processus n’est lancé sur celui-ci, ni préalablement ni pendant l’exécution des quatre processus.  \n",
    "L’ordonnanceur, pour exécuter les différents processus prêts, les place dans une structure de données de type file. Un processus prêt est enfilé et un processus élu est défilé.\n",
    "    \n",
    "    a. Parmi les propositions suivantes, recopier celle qui décrit le fonctionnement des entrées/sorties dans une file : \n",
    "    \n",
    " a-1. Premier entré, dernier sorti  \n",
    " a-2. Premier entré, premier sorti  \n",
    " a-3. Dernier entré, premier sorti \n",
    "    \n",
    "    b. On suppose que les quatre processus arrivent dans la file et y sont placés dans l’ordre C₁, C₂, C₃ et C₄. \n",
    "    - Les temps d’exécution totaux de C₁, C₂, C₃ et C₄ sont respectivement 100 ms, 150 ms, 80 ms et 60 ms. \n",
    "    - Après 40 ms d’exécution, le processus C₁ demande une opération d’écriture disque, opération qui dure 200 ms. Pendant cette opération d’écriture, le processus C₁ passe à l’état bloqué. \n",
    "    - Après 20 ms d’exécution, le processus C₃ demande une opération d’écriture disque, opération qui dure 10 ms. Pendant cette opération d’écriture, le processus C₃ passe à l’état bloqué. \n",
    "    \n",
    "Sur la frise chronologique donnée ci-dessous (à rendre avec la copie), les états du processus C₂ sont donnés. Compléter la frise avec les états des processus C1, C3 et C4.\n",
    "    \n",
    "<img src=\"Images/Exercice4-2.png\" alt=\"Exercice4-2\" width=80% align=center>     \n",
    "    \n",
    " \n",
    "3. On trouvera ci- dessous deux programmes rédigés en pseudo-code\n",
    " \n",
    "Verrouiller un fichier signifie que le programme demande un accès exclusif au fichier et l’obtient si le fichier est disponible.\n",
    "    \n",
    "<img src=\"Images/Exercice4-1.png\" alt=\"Exercice4-1\" width=40% align=center> \n",
    "    \n",
    "- En supposant que les processus correspondant à ces programmes s’exécutent simultanément (exécution concurrente), expliquer le problème qui peut être rencontré. \n",
    "    \n",
    "- Proposer une modification du programme 2 permettant d’éviter ce problème. \n",
    "\n",
    "</div>"
   ]
  },
  {
   "cell_type": "markdown",
   "metadata": {},
   "source": [
    "<div class=\"alert alert-danger\">\n",
    "    \n",
    "**PARTIE A**\n",
    "    \n",
    "1)\n",
    "    \n",
    "L'état \"élu\" correspond à l'état dans lequel le processus est en pleine exécution.\n",
    "<img src=\"Images/ordonnanceur.png\" alt=\"Exercice2-2-perso\" width=80% align=center>   \n",
    "\n",
    "2)\n",
    "    \n",
    "a- Premier entré, premier sorti\n",
    "    \n",
    "b- \n",
    "<img src=\"Images/Exercice4-2-moi.png\" alt=\"Exercice4-2\" width=80% align=center>  \n",
    "    \n",
    "3)\n",
    "    \n",
    " - Le verouillage du fichier 1 dans le programme 2 crée une situation de blocage car le fichier 1 est déjà verouillé par le programme 1\n",
    "    \n",
    "Le verouillage du fichier 2 dans le programme 1 crée une situation de blocage car le fichier 2 est déjà verouillé par le programme 2\n",
    "    \n",
    "On a donc une situation d'interblocage qui se crée.\n",
    "    \n",
    " - Dans programme 2, inversion des verouillages de fichiers 1 et 2.\n",
    "\n",
    "</div>"
   ]
  },
  {
   "cell_type": "code",
   "execution_count": 1,
   "metadata": {
    "ExecuteTime": {
     "end_time": "2022-01-10T09:43:03.244219Z",
     "start_time": "2022-01-10T09:43:03.123982Z"
    }
   },
   "outputs": [
    {
     "name": "stdout",
     "output_type": "stream",
     "text": [
      "/bin/bash: jt: command not found\r\n"
     ]
    }
   ],
   "source": [
    "!jt -l"
   ]
  },
  {
   "cell_type": "code",
   "execution_count": 2,
   "metadata": {
    "ExecuteTime": {
     "end_time": "2022-01-10T09:43:48.536512Z",
     "start_time": "2022-01-10T09:43:48.412698Z"
    }
   },
   "outputs": [
    {
     "name": "stdout",
     "output_type": "stream",
     "text": [
      "/bin/bash: jt: command not found\r\n"
     ]
    }
   ],
   "source": [
    "!jt"
   ]
  },
  {
   "cell_type": "code",
   "execution_count": null,
   "metadata": {},
   "outputs": [],
   "source": []
  }
 ],
 "metadata": {
  "hide_input": false,
  "kernelspec": {
   "display_name": "Python 3",
   "language": "python",
   "name": "python3"
  },
  "language_info": {
   "codemirror_mode": {
    "name": "ipython",
    "version": 3
   },
   "file_extension": ".py",
   "mimetype": "text/x-python",
   "name": "python",
   "nbconvert_exporter": "python",
   "pygments_lexer": "ipython3",
   "version": "3.6.10"
  },
  "latex_envs": {
   "LaTeX_envs_menu_present": true,
   "autoclose": false,
   "autocomplete": true,
   "bibliofile": "biblio.bib",
   "cite_by": "apalike",
   "current_citInitial": 1,
   "eqLabelWithNumbers": true,
   "eqNumInitial": 1,
   "hotkeys": {
    "equation": "Ctrl-E",
    "itemize": "Ctrl-I"
   },
   "labels_anchors": false,
   "latex_user_defs": false,
   "report_style_numbering": false,
   "user_envs_cfg": false
  },
  "nbTranslate": {
   "displayLangs": [
    "*"
   ],
   "hotkey": "alt-t",
   "langInMainMenu": true,
   "sourceLang": "en",
   "targetLang": "fr",
   "useGoogleTranslate": true
  },
  "toc": {
   "base_numbering": 1,
   "nav_menu": {},
   "number_sections": true,
   "sideBar": true,
   "skip_h1_title": false,
   "title_cell": "Table of Contents",
   "title_sidebar": "Contents",
   "toc_cell": false,
   "toc_position": {},
   "toc_section_display": true,
   "toc_window_display": false
  },
  "varInspector": {
   "cols": {
    "lenName": 16,
    "lenType": 16,
    "lenVar": 40
   },
   "kernels_config": {
    "python": {
     "delete_cmd_postfix": "",
     "delete_cmd_prefix": "del ",
     "library": "var_list.py",
     "varRefreshCmd": "print(var_dic_list())"
    },
    "r": {
     "delete_cmd_postfix": ") ",
     "delete_cmd_prefix": "rm(",
     "library": "var_list.r",
     "varRefreshCmd": "cat(var_dic_list()) "
    }
   },
   "types_to_exclude": [
    "module",
    "function",
    "builtin_function_or_method",
    "instance",
    "_Feature"
   ],
   "window_display": false
  }
 },
 "nbformat": 4,
 "nbformat_minor": 2
}
