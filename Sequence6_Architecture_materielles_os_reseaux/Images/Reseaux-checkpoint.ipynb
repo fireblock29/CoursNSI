{
 "cells": [
  {
   "cell_type": "markdown",
   "metadata": {},
   "source": [
    "# <center><font face=\"arial\" size=\"5\" color=#0101DF>NUMERIQUE ET SCIENCES INFORMATIQUES Terminale NSI</font></center>"
   ]
  },
  {
   "cell_type": "markdown",
   "metadata": {},
   "source": [
    "## <font color=#013ADF>Séquence N° 7 : Réseaux</font>"
   ]
  },
  {
   "cell_type": "markdown",
   "metadata": {},
   "source": [
    "<div class=\"alert alert-danger\" role=\"alert\">\n",
    "    \n",
    "Les objectifs de cette séquence sont :\n",
    "\n",
    "- Identifier, suivant le protocole de routage utilisé, la route empruntée par un paquet ;\n",
    "- Décrire les principes de chiffrement symétrique (clef partagée) et asymétrique (clef privée/publique) ;\n",
    "- Décrire l'échange d'une clef symétrique en utilisant un protocole asymétrique pour sécuriser une communication HTTPS.\n",
    "\n",
    "</div>"
   ]
  },
  {
   "cell_type": "markdown",
   "metadata": {},
   "source": [
    "<div class=\"alert alert-warning\">\n",
    "<img src=\"Images/CR.png\" alt=\"logo CR\" width=5% align=right>\n",
    "    \n",
    "Travail préalable :\n",
    "    \n",
    "- Lire le livre chapitre 8 ;\n",
    "- Relire le document \"reseaux.pdf\", séquence 5 \"Web-reseaux\" de la classe de première.   \n",
    "</div>"
   ]
  },
  {
   "cell_type": "markdown",
   "metadata": {},
   "source": [
    "### 1- Protocoles de routage"
   ]
  },
  {
   "cell_type": "markdown",
   "metadata": {},
   "source": [
    "<div class=\"alert alert-success\">\n",
    "\n",
    "Un protocole de routage est un programme installé sur un routeur. Il s’agit d’un ensemble de règle que le routeur doit respecter pour bien acheminer les paquets vers leur destination en utilisant le chemin le plus fiable.\n",
    "    \n",
    "Les rôles du protocole de routage sont :\n",
    "- De découvrir dynamiquement les routes vers les réseaux et les inscrire dans la table de routage ;\n",
    "- S’il existe plus d’une route vers un réseau, inscrire la meilleure route dans la table de routage ;\n",
    "- Détecter les routes qui ne sont plus valides et les supprimer de la table de routage ;\n",
    "- Ajouter de nouvelles routes ou remplacer les routes perdues par la meilleure route actuellement disponible.\n",
    "    \n",
    "Un système autonome (SA) est un ensemble de réseaux sous la même autorité administrative. Au sein d'un tel système, les routes sont générées par des **protocoles de routage internes RIP, OSPF** par exemple.\n",
    "    \n",
    "Ces protocoles sont **dynamiques**, c'est-à-dire qu'ils cherchent d'eux-même à optimiser leurs tables de routage, sans intervention humaine.\n",
    "    \n",
    "Les protocoles de routage qui permettent de connecter les systèmes autonomes entre eux sont des protocoles de routage extérieurs comme BGP, que nous n'étudierons pas.\n",
    "    \n",
    "<img src=\"Images/warning.png\" alt=\"warning\" width=5% align=left>\n",
    "<br><br>\n",
    "   \n",
    "    \n",
    "**temps de convergence**: temps nécessaire pour que tous les routeurs aient la même vue de la topologie du réseau.\n",
    "    \n",
    "\n",
    "</div>"
   ]
  },
  {
   "cell_type": "markdown",
   "metadata": {},
   "source": [
    "<div class=\"alert alert-success\">\n",
    "    \n",
    "<img src=\"Images/table_routage.png\" alt=\"table de routage\" width=80% align=center>\n",
    "\n",
    "<div>"
   ]
  },
  {
   "cell_type": "markdown",
   "metadata": {},
   "source": [
    "#### 1-1  Protocole de routage RIP"
   ]
  },
  {
   "cell_type": "markdown",
   "metadata": {},
   "source": [
    "<div class=\"alert alert-success\">\n",
    "    \n",
    "RIP (Routing Information protocol) est un protocole de routage à vecteur de distance qui utilise un algorithme de routage qui additionne les distances pour trouver les meilleures routes (Bellman-Ford).\n",
    "\n",
    "- Toutes les 30 secondes, chaque routeur RIP envoie sa table de routage complète à ses voisins immédiats. A leur tour, ces routeurs transmettent ces informations à leurs plus proches voisins, et ainsi de suite, jusqu'à ce que tous les hôtes RIP du réseau disposent des mêmes informations concernant les chemins de routage. Cet état se nomme convergence.\n",
    "\n",
    "- Lorsqu'un itinéraire donné de la table de routage ne fait l’objet d’aucune actualisation pendant six cycles de mise à jour consécutifs, le routeur abandonne cette route et en informe les autres routeurs du réseau.\n",
    "\n",
    "- Le protocole RIP n'autorise que 15 sauts (hop en anglais)par itinéraire. Si un paquet n'atteint pas sa destination en 15 sauts, celle-ci est considérée comme inatteignable.\n",
    "\n",
    "<div>"
   ]
  },
  {
   "cell_type": "markdown",
   "metadata": {},
   "source": [
    "<div class=\"alert alert-warning\">\n",
    "<img src=\"Images/CR.png\" alt=\"logo CR\" width=5% align=right>\n",
    "\n",
    "En utilisant l'application Packet Tracer de  CISCO :\n",
    "    \n",
    "- Saisir le schéma du réseau ci-dessous ;\n",
    "- Configurez les interfaces réseaux (PC, routeur) : la liaison entre les routeurs 0 et 3 est de type série ;\n",
    "(annexe au pied de ce notebook)\n",
    "- Configurez cette liaison série à 2Mb/s ;\n",
    "- Configurez les routeurs selon le protocole RIP ;\n",
    "- Testez la communication entre 2 PC et en particulier entre les PC se situant sur les réseaux 10.0.0.0 et 40.0.0.0. Quelle commande utilisez-vous ?\n",
    "- Visualisez et relevez la route suivie pour atteindre l’hôte 40.0.0.1. Quelle commande utilisez-vous ? Justifiez le choix de cette route.\n",
    "- Visualisez la table de routage du routeur 0 et recopiez-la dans ce notebook.\n",
    "\n",
    "<img src=\"Images/reseau_simule.png\" alt=\"schéma réseau\" width=80% align=center>\n",
    "\n",
    "</div>"
   ]
  },
  {
   "cell_type": "markdown",
   "metadata": {},
   "source": [
    "#### 1-2 Protocole de routage OSPF"
   ]
  },
  {
   "cell_type": "markdown",
   "metadata": {},
   "source": [
    "<div class=\"alert alert-success\">\n",
    "    \n",
    "OSPF (Open shortest Path First) est un protocole de routage à état de liens qui utilise un algorithme plus efficace (Dijkstra) qui est aussi plus gourmand en termes de consommation de ressources CPU/RAM.\n",
    "\n",
    "Les routeurs collectent l’ensemble des coûts des liens et construisent l’arbre de tous les chemins possibles. Les meilleures routes sont alors intégrées à la table de routage.\n",
    "<div>"
   ]
  },
  {
   "cell_type": "markdown",
   "metadata": {},
   "source": [
    "### 2- Recherche du plus court chemin : algorithme de DIJKSTRA"
   ]
  },
  {
   "cell_type": "markdown",
   "metadata": {},
   "source": [
    "<div class=\"alert alert-warning\">\n",
    "<img src=\"Images/CR.png\" alt=\"logo CR\" width=5% align=right>\n",
    "\n",
    "On a schématisé le réseau précédent.\n",
    "    \n",
    "<img src=\"Images/routage_ospf.png\" alt=\"schéma réseau\" width=30% align=center>\n",
    "    \n",
    "Travail demandé :\n",
    "    \n",
    "- Visionner la vidéo : https://www.youtube.com/watch?v=JPeCmKFrKio , pour appréhender l'algorithme ;\n",
    "- visionner la video : https://www.youtube.com/watch?v=rHylCtXtdNs , pour apprendre la méthode de remplissage du tableau ;\n",
    "- Compléter le tableau en déroulant l'algorithme de dijkstra proposé ci-dessous ;\n",
    "- Quel est le chemin le plus court pour accéder au PC 40.0.0.1 ?\n",
    "- L'agorithme de dijkstra est-il glouton ? Justifier\n",
    "\n",
    "```\n",
    "Début\n",
    "    Ecrire 0 comme coût du sommet de départ\n",
    "    Faire\n",
    "        Rechercher le ou les sommets non fixés adjacents au sommet de coût le plus faible\n",
    "        Marquer provisoirement le ou  les sommets non fixés adjacents du coût\n",
    "        Fixer le sommet de coût le plus faible\n",
    "    Tant que tous les sommets sont non fixés\n",
    "    Lire le chemin le plus court du sommet d’arrivé au sommet de départ\n",
    "    en partant de l’arrivée et en regardant le sommet antécédent jusqu’au point de départ\n",
    "Fin\n",
    "```\n",
    "|  R0  |  R1  |  R2  |  R3  | Etapes  | \n",
    "| :--: | :--: | :--: | :--: | :-----: |\n",
    "|   0  | 10-R0|  1 R0| 64 R0|    1    |\n",
    "|   -  |      | **1 R0**  |  2 R2    |    2     |\n",
    "|   -  |      |     - |  **2R2**    |     3    |\n",
    "|   -  | **10 R0**     |  -    |   -   |  4       |\n",
    "\n",
    "Pour aller du routeur R0 au routeur R3 en prenant le chemin le plus court, cela a un coût de 2 et le chemin est R0-R2-R3\n",
    "    \n",
    "    \n",
    "<div>"
   ]
  },
  {
   "cell_type": "markdown",
   "metadata": {},
   "source": [
    "<div class=\"alert alert-success\">\n",
    "    \n",
    "*Remarque* : Lors d'un projet, vous implémenterez en python l'algorithme de Dijkstra.\n",
    "</div>\n"
   ]
  },
  {
   "cell_type": "markdown",
   "metadata": {},
   "source": [
    "<div class=\"alert alert-warning\">\n",
    "<img src=\"Images/CR.png\" alt=\"logo CR\" width=5% align=right>\n",
    "\n",
    "On va saisir et visualiser les trames échangées sur le réseau avec un sniffeur réseau Wireshark.\n",
    "\n",
    "Retour sur ARP, IP, HTTP et ajout de TLS.\n",
    "\n",
    "filtres\n",
    "\n",
    "arp\n",
    "\n",
    "icmp pour le ping\n",
    "\n",
    "tcp : visualisation hand-check syn syn-ack ack\n",
    "\n",
    "http\n",
    "\n",
    "ip.addr == 92.103.233.204\n",
    "    \n",
    "traceroute 92.103.233.204\n",
    "    \n",
    "lecture tables de routage exos\n",
    "\n",
    "</div>"
   ]
  },
  {
   "cell_type": "markdown",
   "metadata": {},
   "source": [
    "### 3- Chiffrements symétrique et asymétrique"
   ]
  },
  {
   "cell_type": "markdown",
   "metadata": {},
   "source": [
    "<div class=\"alert alert-success\">\n",
    "\n",
    "**Chiffrement symétrique**\n",
    "<img src=\"Images/symetrique.png\" alt=\"clé symétrique\" width=50% align=center>\n",
    "\n",
    "**Chiffrement asymétrique**\n",
    "<img src=\"Images/asymetrique.png\" alt=\"clés asymétrique\" width=50% align=center>\n",
    "</div>"
   ]
  },
  {
   "cell_type": "markdown",
   "metadata": {},
   "source": [
    "<div class=\"alert alert-warning\">\n",
    "<img src=\"Images/CR.png\" alt=\"logo CR\" width=5% align=right>\n",
    "\n",
    "- avantages/inconvénients de chaque méthode ?\n",
    "    \n",
    "Symétrique : exemple AES\n",
    "    simple, mais limité à 2 entités\n",
    "    plus rapide (algorithme)\n",
    "    risque lors du partage de la clé\n",
    "    \n",
    "Asymétrique :  exemple RSA\n",
    "    rapide\n",
    "    algorithme plus complexe -> plus de ressource machine\n",
    "\n",
    "<div>"
   ]
  },
  {
   "cell_type": "markdown",
   "metadata": {},
   "source": [
    "### 4- Échange de clés lors de l'établissement d'une connexion HTTPS"
   ]
  },
  {
   "cell_type": "markdown",
   "metadata": {},
   "source": [
    "<div class=\"alert alert-success\">\n",
    "    \n",
    "https://www.oodrive.fr/blog/securite/securiser-les-communications-sur-internet-tls-et-la-confidentialite-persistante/\n",
    "    \n",
    "https://www.youtube.com/watch?v=7W7WPMX7arI\n",
    "</div>"
   ]
  },
  {
   "cell_type": "markdown",
   "metadata": {},
   "source": [
    "<div class=\"alert alert-info\" role=\"alert\">\n",
    "    \n",
    "**ANNEXE : Routeur CISCO**\n",
    "\n",
    "**Passer en mode super-utilisateur**\n",
    "\n",
    "Router>enable\n",
    "Router#\n",
    "\n",
    "**Configuration IP d’une interface**\n",
    "\n",
    "Router#configure terminal\n",
    "\n",
    "Enter configuration commands, one per line. End with CNTL/Z.\n",
    "\n",
    "Router(config)#interface fastEthernet 0/1\n",
    "\n",
    "Router(config-if)#ip address 192.168.10.2 255.255.255.0\n",
    "\n",
    "Router(config-if)#no shutdown\n",
    "\n",
    "Router(config-if)#\n",
    "\n",
    "%LINK-5-CHANGED: Interface FastEthernet0/1, changed state to up\n",
    "\n",
    "%LINEPROTO-5-UPDOWN: Line protocol on Interface FastEthernet0/1, changed state to up\n",
    "\n",
    "Router(config-if)#exit\n",
    "\n",
    "**Ajouter une route dans la table de routage (routage statique)**\n",
    "\n",
    "Router(config)#ip route 172.16.0.0 255.255.255.0 192.168.10.1\n",
    "\n",
    "(réseau à atteindre, masque du réseau à atteindre, passerelle)\n",
    "\n",
    "**Activer le protocole RIP (routage dynamique) : Il faut indiquer les réseaux connectés au routeur.**\n",
    "\n",
    "Router(config)#router rip\n",
    "\n",
    "Router(config-router)#network 192.168.10.0\n",
    "\n",
    "Router(config-router)#network 192.168.20.0\n",
    "\n",
    "Router(config-router)#exit (ou end selon le niveau souhaité)\n",
    "\n",
    "**Activer le protocole OSPF (routage dynamique) : Il faut indiquer les réseaux connectés au routeur.**\n",
    "\n",
    "Router(config)#router ospf 1\n",
    "\n",
    "Router(config-router)#network 192.168.1.0 0.0.0.255 area 0\n",
    "\n",
    "(Attention c’est le masque d’hôte qui est utilisé par OSPF, donc l’inverse du masque réseau.)\n",
    "\n",
    "Router(config-router)#network 200.0.1.0 0.0.0.255 area 0\n",
    "\n",
    "Router(config-router)#exit (ou end selon le niveau souhaité)\n",
    "\n",
    "**Afficher la table de routage**\n",
    "\n",
    "Router#show ip route\n",
    "\n",
    "**Afficher le coût d’une liaison**\n",
    "\n",
    "Router#show ip ospf interface\n",
    "\n",
    "(relevez cost)\n",
    "\n",
    "**Afficher la bande passante des interfaces**\n",
    "\n",
    "Router#show interface\n",
    "\n",
    "(relevez BW)\n",
    "</div>"
   ]
  }
 ],
 "metadata": {
  "kernelspec": {
   "display_name": "Python 3",
   "language": "python",
   "name": "python3"
  },
  "language_info": {
   "codemirror_mode": {
    "name": "ipython",
    "version": 3
   },
   "file_extension": ".py",
   "mimetype": "text/x-python",
   "name": "python",
   "nbconvert_exporter": "python",
   "pygments_lexer": "ipython3",
   "version": "3.6.10"
  },
  "varInspector": {
   "cols": {
    "lenName": 16,
    "lenType": 16,
    "lenVar": 40
   },
   "kernels_config": {
    "python": {
     "delete_cmd_postfix": "",
     "delete_cmd_prefix": "del ",
     "library": "var_list.py",
     "varRefreshCmd": "print(var_dic_list())"
    },
    "r": {
     "delete_cmd_postfix": ") ",
     "delete_cmd_prefix": "rm(",
     "library": "var_list.r",
     "varRefreshCmd": "cat(var_dic_list()) "
    }
   },
   "types_to_exclude": [
    "module",
    "function",
    "builtin_function_or_method",
    "instance",
    "_Feature"
   ],
   "window_display": false
  }
 },
 "nbformat": 4,
 "nbformat_minor": 2
}
