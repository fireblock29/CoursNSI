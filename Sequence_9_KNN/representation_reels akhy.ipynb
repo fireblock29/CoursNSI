{
 "cells": [
  {
   "cell_type": "markdown",
   "metadata": {},
   "source": [
    "# <center><font face=\"arial\" size=\"5\" color=#0101DF>NUMERIQUE ET SCIENCES INFORMATIQUES 1ère NSI</font></center>"
   ]
  },
  {
   "cell_type": "markdown",
   "metadata": {},
   "source": [
    "## <font color=#013ADF>Séquence N° 9 : Représentation approximative des nombres réels</font>"
   ]
  },
  {
   "cell_type": "markdown",
   "metadata": {},
   "source": [
    "<div class=\"alert alert-danger\" role=\"alert\">\n",
    "    \n",
    "Les objectifs de cette séquence sont :\n",
    "-  Notion de nombre flottant;\n",
    "- Éviter de tester l'égalité de  deux flottants (0.2 + 0.1 n'est pas égal à 0.3)\n",
    "</div>"
   ]
  },
  {
   "cell_type": "markdown",
   "metadata": {},
   "source": [
    "### 1- Représentation de la partie fractionnaire des réels – R"
   ]
  },
  {
   "cell_type": "markdown",
   "metadata": {},
   "source": [
    "<div class=\"alert alert-success\">\n",
    "<img src=\"Images/warning.png\" alt=\"logo CR\" width=5% align=left>\n",
    "\n",
    "En notation décimale, les chiffres à gauche de la virgule représentent des entiers, des dizaines, des centaines, etc. et ceux à droite de la virgule, des dixièmes, des centièmes, des millièmes, etc.\n",
    "\n",
    "​**3,3125<sub>10</sub> \t= 3*·*10<sup>0</sup> +3*·*10<sup>*−*1</sup> +1*·*10<sup>*−*2</sup> +2*·*10<sup>*−*3</sup> +5*·*10<sup>*−*4</sup>**\n",
    "\n",
    "Par analogie, pour écrire un nombre binaire à virgule, on utilise les puissances négatives de 2.\n",
    "\n",
    "​**11,0101<sub>2</sub> = 1*·*2<sup>1</sup> +1*·*2<sup>0</sup> +0*·*2<sup>*−*1</sup>+1*·*2<sup>*−*2</sup>+0*·*2<sup>*−*3</sup>+1*·*2<sup>*−*4</sup>= 2+1+0+0,25+0+0,0625 = 3,3125<sub>10</sub>**\n",
    "\n",
    "Le codage de la partie entière (3 dans l’exemple précédent) ne pose pas de problème particulier. Pour la partie fractionnaire (0,3125), il est nécessaire d’utiliser la méthode suivante :\n",
    "\n",
    "**Conversion d’une partie fractionnaire en binaire**\n",
    "\n",
    "- On multiplie la partie fractionnaire par 2. \n",
    "- La partie entière obtenue représente le poids binaire (limité aux seules valeurs 0 ou 1). \n",
    "- La partie fractionnaire restante est à nouveau multipliée par 2.\n",
    "- On procède ainsi de suite jusqu’à ce qu’il n’y ait plus de partie fractionnaire ou que le nombre de bits obtenus correspond à la taille du mot mémoire dans lequel on stocke cette partie.\n",
    "\n",
    "*Conversion de la partie fractionnaire 0,3125*\n",
    "\n",
    "0,3125\tx\t2\t=\t0,625\t= **0** + 0,625\n",
    "\n",
    "0,6250\tx\t2\t=\t1,250\t= **1** + 0,250\n",
    "\n",
    "0,2500\tx\t2\t=\t0,500\t= **0** + 0,500\n",
    "\n",
    "0,5000\tx\t2\t=\t1,000\t= **1** + 0,000\n",
    "\n",
    "On considère les parties entières de haut en bas : 0,3125<sub>10</sub>= 0,0101<sub>2</sub>.\n",
    "    \n",
    "**Inconvénients**\n",
    "\n",
    "Savoir coder la partie fractionnaire d’un nombre à virgule ne suffit pas pour coder tous les nombres à virgule en binaire. En effet, la gestion d’une virgule virtuelle par programme n’est pas aisée. De plus, cette méthode ne permet pas de représenter des nombres très grands ou très petits comme le nombre d’Avogadro (6,02214129..*·*10<sup>23</sup>) ou la constante de Planck (6,62606957*·*10<sup>*−*34</sup>). \t\t\t\t \t\n",
    "</div>"
   ]
  },
  {
   "cell_type": "markdown",
   "metadata": {},
   "source": [
    "<div class=\"alert alert-warning\">\n",
    "<img src=\"Images/CR.png\" alt=\"logo CR\" width=5% align=right>\n",
    "\n",
    "**Travail à faire** :\n",
    "    \n",
    "Convertir la partie fractionnaire de 0,125 et de 0,1 (arrêter lorsqu'il n'y a plus de place sur la page ... ;-))\n",
    "\n",
    "0,125 : 0,001\n",
    "\n",
    "0, 1 :0.00011...\n",
    "    \n",
    "</div>"
   ]
  },
  {
   "cell_type": "code",
   "execution_count": null,
   "metadata": {
    "ExecuteTime": {
     "end_time": "2021-06-03T12:10:55.015813Z",
     "start_time": "2021-06-03T12:10:55.006836Z"
    }
   },
   "outputs": [],
   "source": []
  },
  {
   "cell_type": "markdown",
   "metadata": {},
   "source": [
    "### 2- Représentation de la virgule flottante"
   ]
  },
  {
   "cell_type": "markdown",
   "metadata": {},
   "source": [
    "<div class=\"alert alert-success\">\n",
    "\n",
    "Pour représenter des réels, nombres pouvant être positifs, nuls, négatifs et non entiers, on utilise la représentation en virgule flottante (*float* en anglais) qui fait correspondre au nombre 3 informations :\n",
    "\n",
    "−243,25<sub>10</sub> = *−* 0,24325*·*10<sup>3</sup>\n",
    "\n",
    "On appelle alors :\n",
    "\n",
    "2. ​le signe (positif ou négatif)\n",
    "\n",
    "3. ​la mantisse (nombre de chiffres significatifs après la virgule)\n",
    "\n",
    "4. ​l’exposant : puissance à laquelle la base est élevée\n",
    "\n",
    "Sous cette forme normalisée, il suffit de mémoriser le signe, l’exposant et la mantisse pour avoir une représentation du nombre en base 10. Il n’est pas utile de mémoriser le 0 avant la virgule puisque tous les nombres vont commencer par 0. En faisant varier l’exposant, on fait « flotter » la virgule décimale.\n",
    "\n",
    "C’est cette méthode que l’on va adapter pour coder les réels en binaire naturel. Il faut au préalable les écrire sous la forme (norme IEEE 754 – Institute of Electrical and Electronics Engineers) :\n",
    "\n",
    "signe 1, mantisse x 2<sup>(exposant - biais)</sup>\n",
    "\n",
    "Le mot binaire obtenu sera la juxtaposition de 3 parties :\n",
    "\n",
    "| Signe | Exposant décalé | Mantisse |\n",
    "| :---: | :-------------: | :------: |\n",
    "| 1 bit |     n bits      |  m bits  |\n",
    "\n",
    "Le tableau décrit la répartition des bits selon le type de précision : la taille de la mantisse (*m* bits) donne la précision mais suivant la valeur de l’exposant, la précision sera totalement différente.\n",
    "\n",
    "|                             | Signe | Exposant | Mantisse |\n",
    "| --------------------------- | ----- | -------- | -------- |\n",
    "| Simple précision – 32 bits  | 1     | 8        | 23       |\n",
    "| Double précision – 64 bits  | 1     | 11       | 52       |\n",
    "| Précision étendue – 80 bits | 1     | 15       | 64       |\n",
    "</div>"
   ]
  },
  {
   "cell_type": "markdown",
   "metadata": {},
   "source": [
    "### 2-1 Procédure de conversion de réel en binaire (hexadécimale)"
   ]
  },
  {
   "cell_type": "markdown",
   "metadata": {},
   "source": [
    "<div class=\"alert alert-success\">\n",
    "<img src=\"Images/warning.png\" alt=\"logo CR\" width=5% align=left>\n",
    "<br><br>\n",
    "    \n",
    "- Convertir en binaire les parties entière et fractionnaire du nombre sans tenir compte du signe. \n",
    "- Décaler la virgule vers la gauche pour le mettre sous la forme normalisée (IEEE 754). \n",
    "- Codage du nombre réel avec les conventions suivantes : \n",
    "  - Signe = 1 : Nombre négatif (Signe = 0 : Nombre positif)\n",
    "  - Le chiffre 1 avant la virgule étant invariant pour la forme normalisée, il n’est pas codé. \n",
    "  - On utilise un exposant décalé (biais) au lieu de l’exposant simple (complément sur octet). Ainsi, on ajoute à l’exposant simple la valeur 127 en simple précision et 1023 en double précision (c’est à dire 2<sup>n−1</sup> *−*1 où *n* est le nombre de bits de l’exposant). \n",
    "  - La mantisse est complétée à droite avec des zéros.\n",
    "\n",
    "- On désire représenter le nombre - 243,25 en virgule flottante au format simple précision.\n",
    "    \n",
    "243,25<sub>10</sub> = 11110011,01<sub>2</sub>\n",
    "\n",
    "243,25<sub>10</sub> = 1,111001101(2) *∗*2<sup>7</sup> : décalage de 7 bits vers la gauche\n",
    "\n",
    "Exposant décalé : 7+127 = 134<sub>10</sub> = 1000 0110<sub>2</sub> sur *n* = 8 bits\n",
    "\n",
    "1 1000 0110 11100110100000000000000 = 0xC3734000\n",
    "    \n",
    "    \n",
    "</div>"
   ]
  },
  {
   "cell_type": "markdown",
   "metadata": {},
   "source": [
    "### 2-2 Procédure de conversion binaire (hexadécimale) en réel"
   ]
  },
  {
   "cell_type": "markdown",
   "metadata": {},
   "source": [
    "<div class=\"alert alert-success\">\n",
    "<img src=\"Images/warning.png\" alt=\"logo CR\" width=5% align=left>\n",
    "<br><br>\n",
    "    \n",
    "On désire retrouver la valeur du nombre 44 F3 E0 00 représenté en virgule flottante.\n",
    "\n",
    "On commence par placer les valeurs hexadécimales et leurs équivalents binaires dans la « structure » du flottant simple précision :\n",
    "\n",
    "4\t4\tF\t3\tE\t0\t0\t0\n",
    "\n",
    "0100\t0100\t1111\t0011\t1110\t0000\t0000\t0000\n",
    "\n",
    "| Signe | Exposant \t\t\tdécalé | Mantisse                     |\n",
    "| ----- | --------------------------- | ---------------------------- |\n",
    "| 0     | 1000 1001                   | 111 0011 1110 0000 0000 0000 |\n",
    "\n",
    "\n",
    "\n",
    "- Signe = 0 : Nombre positif\n",
    "\n",
    "- Exposant décalé : 1000 1001<sub>2</sub> = 137<sub>10</sub> donc un exposant simple égal à 137*−*127 = 10<sub>10</sub> ; \n",
    "\n",
    "- Mantisse : (1,) 11100111110000000000000. Attention on avait enlevé le 1,\n",
    "\n",
    "Comme l’exposant simple est égal à 10, on peut « dénormaliser » en décalant la virgule de 10 bits vers la droite puis rajouter le bit 1 invariant non stocké dans la mantisse, ce qui conduit à :\n",
    "\n",
    "​\t11110011111\t,\t0000000000000<sub>2</sub> = 1951<sub>10</sub>\n",
    "</div>"
   ]
  },
  {
   "cell_type": "markdown",
   "metadata": {},
   "source": [
    "### 2-3 Capacités de la représentation"
   ]
  },
  {
   "cell_type": "markdown",
   "metadata": {},
   "source": [
    "<div class=\"alert alert-success\">\n",
    "\n",
    "En simple précision, l’exposant -127, codé 0000 0000, est réservé pour zéro et les nombres « non normalisés ». L’exposant 128 codé 1111 1111 est réservé pour coder +*∞* (ou *−∞* si signe négatif).\n",
    "\n",
    "| Signe | Exposant | Mantisse |                            Nombre                            |\n",
    "| :---: | :------: | :------: | :----------------------------------------------------------: |\n",
    "|   0   |    0     |    0     |                             + 0                              |\n",
    "|   1   |    0     |    0     |                             - 0                              |\n",
    "|   0   |   255    |    0     |                             + ∞                              |\n",
    "|   1   |   255    |    0     |                             - ∞                              |\n",
    "|   0   |   255    |   ≠ 0    |            NaN (opération invalide ex : /0 , √-1)            |\n",
    "|   0   |    0     |   ≠ 0    | Nombre dénormalisé de la forme : signe 0,m x 2<sup>-126</sup> |\n",
    "|   1   |    0     |   ≠ 0    |                  Nombre dénormalisé : idem                   |\n",
    "\n",
    "\n",
    "    \n",
    "</div>"
   ]
  },
  {
   "cell_type": "markdown",
   "metadata": {},
   "source": [
    "<div class=\"alert alert-warning\">\n",
    "<img src=\"Images/CR.png\" alt=\"logo CR\" width=5% align=right>\n",
    "\n",
    "**Travail à faire** :\n",
    "\n",
    "Donnez la représentation flottante, en **simple précision**, des nombres suivants :\n",
    "\n",
    "- 128\n",
    "        signe : 0\n",
    "        128=1000 0000² = 1.0² x 2^^7\n",
    "    mantisse : 000000...0000000 et e=7\n",
    "        E=e+biais=7+127=134 E=1000 0110²\n",
    "        128 -> 0 1000 0110 0000 0000 0000 0000 0000 0000\n",
    "        0x43000000\n",
    "- -32,75\n",
    "    signe : 1\n",
    "        0010 0000 = 32\n",
    "        11 = 0.75\n",
    "        10 0000.11 = 32.75\n",
    "    32.75 = 1.0000011*2^^5\n",
    "    mantisse: 00000110...0² et e=5\n",
    "    E=e+biais = 5+127 = 132 E= 1000 0100\n",
    "    -32.75= 1 10000100000001100000000000000000000 soit 0xC2030000\n",
    "Quel nombre est représenté, en **simple précision**, par les 4 octets suivants :\n",
    "\n",
    "- 41 84 00 00\n",
    "        0100 0001 1000 0100 0000 0000...\n",
    "    signe : 0\n",
    "    exp+biais(127)=1000 0011 e=131-127=4\n",
    "        mantisse=0000 1000...000\n",
    "        1.00001\n",
    "    1 0000,1\n",
    "    16|10\n",
    "    16.05\n",
    "</div>"
   ]
  },
  {
   "cell_type": "code",
   "execution_count": 42,
   "metadata": {
    "ExecuteTime": {
     "end_time": "2021-06-03T12:55:22.867690Z",
     "start_time": "2021-06-03T12:55:22.861095Z"
    }
   },
   "outputs": [
    {
     "data": {
      "text/plain": [
       "True"
      ]
     },
     "execution_count": 42,
     "metadata": {},
     "output_type": "execute_result"
    }
   ],
   "source": [
    "round(0.2+0.3)==round(0.3)"
   ]
  },
  {
   "cell_type": "code",
   "execution_count": null,
   "metadata": {},
   "outputs": [],
   "source": []
  }
 ],
 "metadata": {
  "hide_input": false,
  "kernelspec": {
   "display_name": "Python 3",
   "language": "python",
   "name": "python3"
  },
  "language_info": {
   "codemirror_mode": {
    "name": "ipython",
    "version": 3
   },
   "file_extension": ".py",
   "mimetype": "text/x-python",
   "name": "python",
   "nbconvert_exporter": "python",
   "pygments_lexer": "ipython3",
   "version": "3.6.10"
  },
  "latex_envs": {
   "LaTeX_envs_menu_present": true,
   "autoclose": false,
   "autocomplete": true,
   "bibliofile": "biblio.bib",
   "cite_by": "apalike",
   "current_citInitial": 1,
   "eqLabelWithNumbers": true,
   "eqNumInitial": 1,
   "hotkeys": {
    "equation": "Ctrl-E",
    "itemize": "Ctrl-I"
   },
   "labels_anchors": false,
   "latex_user_defs": false,
   "report_style_numbering": false,
   "user_envs_cfg": false
  },
  "nbTranslate": {
   "displayLangs": [
    "*"
   ],
   "hotkey": "alt-t",
   "langInMainMenu": true,
   "sourceLang": "en",
   "targetLang": "fr",
   "useGoogleTranslate": true
  },
  "toc": {
   "base_numbering": 1,
   "nav_menu": {},
   "number_sections": true,
   "sideBar": true,
   "skip_h1_title": false,
   "title_cell": "Table of Contents",
   "title_sidebar": "Contents",
   "toc_cell": false,
   "toc_position": {},
   "toc_section_display": true,
   "toc_window_display": false
  },
  "varInspector": {
   "cols": {
    "lenName": 16,
    "lenType": 16,
    "lenVar": 40
   },
   "kernels_config": {
    "python": {
     "delete_cmd_postfix": "",
     "delete_cmd_prefix": "del ",
     "library": "var_list.py",
     "varRefreshCmd": "print(var_dic_list())"
    },
    "r": {
     "delete_cmd_postfix": ") ",
     "delete_cmd_prefix": "rm(",
     "library": "var_list.r",
     "varRefreshCmd": "cat(var_dic_list()) "
    }
   },
   "types_to_exclude": [
    "module",
    "function",
    "builtin_function_or_method",
    "instance",
    "_Feature"
   ],
   "window_display": false
  }
 },
 "nbformat": 4,
 "nbformat_minor": 2
}
