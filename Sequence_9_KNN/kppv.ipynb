{
 "cells": [
  {
   "cell_type": "markdown",
   "metadata": {},
   "source": [
    "# <center><font face=\"arial\" size=\"5\" color=#0101DF>NUMERIQUE ET SCIENCES INFORMATIQUES 1ère NSI</font></center>"
   ]
  },
  {
   "cell_type": "markdown",
   "metadata": {},
   "source": [
    "## <font color=#013ADF>Séquence N° 9 : Algorithme des k plus proches voisins (KPPV ou KNN en Anglais)</font>"
   ]
  },
  {
   "cell_type": "markdown",
   "metadata": {},
   "source": [
    "<div class=\"alert alert-danger\" role=\"alert\">\n",
    "    \n",
    "Les objectifs de cette séquence sont :\n",
    "- Écrire un algorithme qui prédit la classe d'un élément en fonction de la calsse majoritaire de ses k plus proches voisins.\n"
   ]
  },
  {
   "cell_type": "markdown",
   "metadata": {},
   "source": [
    "### 1- L'intelligence artificielle"
   ]
  },
  {
   "cell_type": "markdown",
   "metadata": {},
   "source": [
    "<div class=\"alert alert-success\">\n",
    "<img src=\"Images/warning.png\" alt=\"logo CR\" width=5% align=left>\n",
    "\n",
    "L'intelligence artificielle  a trouvé son nom à la conférence de Dartmouth en 1956. Mais elle a débuté dès le début des années 1950 avec, notamment, les travaux d'*[Alan Turing](https://fr.wikipedia.org/wiki/Alan_Turing)* qui s'est posé la question de savoir si l'on pouvait faire penser un ordinateur.  \n",
    "\n",
    "Il proposa pour cela un test, dit, *test de Turing*, dans  lequel une personne discute au travers d'un ordinateur et doit deviner  si son interlocuteur est une machine ou un être humain. Si elle n'y arrive pas, l'on pourra conclure qu'il est possible de  faire fonctionner un ordinateur avec des algorithmes de logique  semblables à notre manière de penser.\n",
    "\n",
    "S'il y a encore quelques années il était très facile de deviner  qu'une machine nous parlait, aujourd'hui  dans des activités  nécessitant beaucoup de réflexion, l'ordinateur s'est montré plus fort que l'être humain, comme avec :\n",
    "\n",
    "- La victoire en 1997 aux échecs du programme [Deep Blue d’IBM contre le champion du monde Garry Kasparov](https://fr.wikipedia.org/wiki/Deep_Blue_-_Kasparov_(1997,_partie_6))\n",
    "- Le jeu de Go, où le programme [AlphaGo de Google a battu le champion du monde Lee SeDol](http://www.lemonde.fr/pixels/article/2016/03/09/comment-savoir-si-les-programmes-d-intelligence-artificielle-sont-vraiment-intelligents_4879177_4408996.html) en 2016\n",
    "- La conduite automobile où les voitures sans chauffeur semblent plus sûres que celles conduites par des humains\n",
    "- ...\n",
    "\n",
    "L'intelligence artificielle a suscité et continue toujours de  susciter de nombreux espoirs pour l'amélioration de notre condition  humaine, mais le fait qu'elle arrive aujourd'hui dans certains domaines à nous égaler, voire à nous dépasser, suscite des inquiétudes.\n",
    "    \n",
    "Pour avoir une bonne notion de ce que l'on entend par IA, machine learning et deep learning, voici les liens vers des vidéos qu'il est préférable de visionner dans l'ordre :\n",
    "    \n",
    "https://www.youtube.com/watch?v=P-z3eAuV1kc\n",
    "\n",
    "https://www.youtube.com/watch?v=trWrEWfhTVg"
   ]
  },
  {
   "cell_type": "markdown",
   "metadata": {},
   "source": [
    "### 2- L'algorithme des k plus proches voisins (kppv) ou (k-nearest neighbors knn)"
   ]
  },
  {
   "cell_type": "markdown",
   "metadata": {},
   "source": [
    "<div class=\"alert alert-success\">\n",
    "<img src=\"Images/warning.png\" alt=\"logo CR\" width=5% align=left>\n",
    "\n",
    "\"Dis-moi qui tu fréquentes, je te dirais qui tu es.\"\n",
    "\n",
    "Le principe de l’algorithme des k plus proches voisins est basé le  fait que les objets d’un même type sont “proches” entre eux. Pour  quantifier la distance entre les objets, la grandeur couramment utilisée est la distance euclidienne.\n",
    "\n",
    "L’algorithme permet ainsi de prédire l’appartenance d’un nouvel objet à une classe en fonction de ses distances avec ses voisins : elle  appartiendra à la classe majoritaire de ses voisins. Il s'agit donc d'un apprentissage supervisé.\n",
    "\n",
    "Il s’agit d’un algorithme simple mais très efficace pour **classifier des données labellisées**.\n",
    "\n",
    "</div>\n",
    "<div class=\"alert alert-danger\" role=\"alert\">\n",
    "    \n",
    "Distance euclidienne ?\n",
    "\n",
    "Soit 2 points du plan P : p<sub>1</sub>(x<sub>1</sub>,y<sub>1</sub>) et p<sub>2</sub>(x<sub>2</sub>,y<sub>2</sub>)\n",
    "$$\n",
    "D(p_1,p_2)=\\sqrt{(x_1-x_2)² + (y_1-y_2)²}\n",
    "$$\n",
    "</div>"
   ]
  },
  {
   "cell_type": "markdown",
   "metadata": {},
   "source": [
    "<div class=\"alert alert-warning\">\n",
    "<img src=\"Images/CR.png\" alt=\"logo CR\" width=5% align=right>\n",
    "\n",
    "**Travail à faire** :\n",
    "\n",
    " Vous êtes banquier. Vous avez à décider si vous accordez ou non un prêt de 142 000 € à un client. Pour vous aidez dans votre choix, vous disposez d'un jeu de données concernant des clients qui ont remboursé leur prêt et d'autres qui ont eu des défauts de paiement (Voir fichier clients.csv).\n",
    " \n",
    " | ID client | Age  | Age normalisé | Montant prêt | Montant normalisé | Défaillance | Distance | Plus proche |\n",
    "| :-------: | :--: | :-----------: | :----------: | :---------------: | :---------: | :------: | :---------: |\n",
    "|     1     |  25  |     0,13      |   40 000 €   |       0,11        |      N      |   0,77   |   **10**    |\n",
    "|     2     |  35  |     0,38      |   60 000 €   |       0,21        |      N      |   0,52   |    **7**    |\n",
    "|     3     |  45  |     0,63      |   80 000 €   |       0,31        |      N      |   0,32   |    **1**    |\n",
    "|     4     |  20  |     0,00      |   20 000 €   |       0,01        |      N      |   0,92   |   **11**    |\n",
    "|     5     |  35  |     0,38      |  120 000 €   |       0,50        |      N      |   0,34   |    **2**    |\n",
    "|     6     |  52  |     0,80      |   18 000 €   |       0,00        |      N      |   0,62   |    **8**    |\n",
    "|     7     |  23  |     0,08      |   95 000 €   |       0,38        |      Y      |   0,67   |    **9**    |\n",
    "|     8     |  40  |     0,50      |   62 000 €   |       0,22        |      Y      |   0,44   |    **6**    |\n",
    "|     9     |  60  |     1,00      |  100 000 €   |       0,41        |      Y      |   0,37   |    **3**    |\n",
    "|    10     |  48  |     0,70      |  220 000 €   |       1,00        |      Y      |   0,39   |    **5**    |\n",
    "|    11     |  33  |     0,33      |  150 000 €   |       0,65        |      Y      |   0,38   |    **4**    |\n",
    "|           |      |               |              |                   |             |          |             |\n",
    "|           |      |               |              |                   |             |          |             |\n",
    "|    12     |  48  |     0,70      |  142 000 €   |       0,61        |      ?      |          |             |\n",
    " \n",
    "\n",
    "<img src=\"Images/pret.png\" alt=\"pret\" width=50% align=center>\n",
    "\n",
    "\n",
    "1. Déterminer la distance normalisée entre tous les clients et le nouveau client.\n",
    "On normalise les distances pour éviter l'influence d'un paramètre sur un autre.\n",
    "    \n",
    "Pour une valeur V :\n",
    "$$V_{norm}=\\frac{V -V_{min}}{V_{max}-V_{min}}$$\n",
    "\n",
    "*Il s'agit une transformation linéaire qui permet de ramener la valeur normalisée entre 0 et 1, tout en gardant une relation avec les valeurs originales.*\n",
    "\n",
    "2. Déterminer \"k\", le nombre de voisins à prendre en considération : prendre la valeur la plus proche de : $$\\sqrt{nb client}$$\n",
    "\n",
    "Nécessite d'importer le module math.sqrt de python qui était également nécessaire pour le calcul de la distance euclidienne.\n",
    "    \n",
    "3. Déterminer les clients k clients les plus proche\n",
    "        clients 11-5-9\n",
    "                 O-N-O\n",
    "4. Décider si vous accordez le prêt ou non, en le justifiant\n",
    "        Deux défaillances sur 3. Le prêt est donc refusé.\n",
    "</div>"
   ]
  },
  {
   "cell_type": "code",
   "execution_count": 1,
   "metadata": {
    "ExecuteTime": {
     "end_time": "2021-06-07T11:58:25.093716Z",
     "start_time": "2021-06-07T11:58:25.083904Z"
    }
   },
   "outputs": [
    {
     "name": "stdout",
     "output_type": "stream",
     "text": [
      "3\n"
     ]
    }
   ],
   "source": [
    "from math import sqrt\n",
    "def arrondi(val):\n",
    "    a=sqrt(val)\n",
    "    if a-int(a)>0.5:\n",
    "        topval=int(a)+1\n",
    "    else:\n",
    "        topval=int(a)\n",
    "    return topval\n",
    "v=arrondi(11)\n",
    "print(v)"
   ]
  },
  {
   "cell_type": "markdown",
   "metadata": {},
   "source": [
    "<div class=\"alert alert-warning\">\n",
    "<img src=\"Images/CR.png\" alt=\"logo CR\" width=5% align=right>\n",
    "\n",
    "**Travail à faire** :\n",
    "\n",
    "- Après ce travail manuel, nécessaire pour comprendre l'algorithme, vous allez réaliser un programme en python qui réalise le même travail.\n",
    "- Pour les plus rapides, utiliser la feuille ressource sur \"Matplotlib_scatter\" pour afficher sur un graphe les points en 3 séries : O, N et ?.\n",
    "\n",
    "</div>"
   ]
  },
  {
   "cell_type": "code",
   "execution_count": 2,
   "metadata": {
    "ExecuteTime": {
     "end_time": "2021-06-07T11:58:25.235212Z",
     "start_time": "2021-06-07T11:58:25.218700Z"
    }
   },
   "outputs": [
    {
     "name": "stdout",
     "output_type": "stream",
     "text": [
      "{'ID client': '6', 'Age': '52', 'Montant (€)': '18000', 'V': '0', 'Défaillance': 'N'}\n",
      "{'ID client': '4', 'Age': '20', 'Montant (€)': '20000', 'V': '0.00990099009901', 'Défaillance': 'N'}\n",
      "{'ID client': '1', 'Age': '25', 'Montant (€)': '40000', 'V': '0.108910891089109', 'Défaillance': 'N'}\n",
      "{'ID client': '2', 'Age': '35', 'Montant (€)': '60000', 'V': '0.207920792079208', 'Défaillance': 'N'}\n",
      "{'ID client': '8', 'Age': '40', 'Montant (€)': '62000', 'V': '0.217821782178218', 'Défaillance': 'O'}\n",
      "{'ID client': '3', 'Age': '45', 'Montant (€)': '80000', 'V': '0.306930693069307', 'Défaillance': 'N'}\n",
      "{'ID client': '7', 'Age': '23', 'Montant (€)': '95000', 'V': '0.381188118811881', 'Défaillance': 'O'}\n",
      "{'ID client': '9', 'Age': '60', 'Montant (€)': '100000', 'V': '0.405940594059406', 'Défaillance': 'O'}\n",
      "{'ID client': '5', 'Age': '35', 'Montant (€)': '120000', 'V': '0.504950495049505', 'Défaillance': 'N'}\n",
      "{'ID client': '12', 'Age': '48', 'Montant (€)': '142000', 'V': '0.613861386138614', 'Défaillance': '?'}\n",
      "{'ID client': '11', 'Age': '33', 'Montant (€)': '150000', 'V': '0.653465346534653', 'Défaillance': 'O'}\n",
      "{'ID client': '10', 'Age': '48', 'Montant (€)': '220000', 'V': '1', 'Défaillance': 'O'}\n"
     ]
    }
   ],
   "source": [
    "import csv\n",
    "\n",
    "def lecture_fichier(fichier):\n",
    "    with open(fichier) as csv_file:\n",
    "        lecteur= csv.DictReader(csv_file, delimiter=',')\n",
    "        return [dict(ligne) for ligne in lecteur] # conversion des dictionnaires ordonnés en dictionnaires\n",
    "lec=lecture_fichier(\"clientsoff.csv\")\n",
    "for c in lec:\n",
    "    print(c)"
   ]
  },
  {
   "cell_type": "code",
   "execution_count": 3,
   "metadata": {
    "ExecuteTime": {
     "end_time": "2021-06-07T11:58:25.248478Z",
     "start_time": "2021-06-07T11:58:25.241353Z"
    }
   },
   "outputs": [
    {
     "name": "stdout",
     "output_type": "stream",
     "text": [
      "[{'ID client': '6', 'Age': '52', 'Montant (€)': '18000', 'V': '0', 'Défaillance': 'N'}, {'ID client': '4', 'Age': '20', 'Montant (€)': '20000', 'V': '0.00990099009901', 'Défaillance': 'N'}, {'ID client': '1', 'Age': '25', 'Montant (€)': '40000', 'V': '0.108910891089109', 'Défaillance': 'N'}, {'ID client': '2', 'Age': '35', 'Montant (€)': '60000', 'V': '0.207920792079208', 'Défaillance': 'N'}, {'ID client': '8', 'Age': '40', 'Montant (€)': '62000', 'V': '0.217821782178218', 'Défaillance': 'O'}, {'ID client': '3', 'Age': '45', 'Montant (€)': '80000', 'V': '0.306930693069307', 'Défaillance': 'N'}, {'ID client': '7', 'Age': '23', 'Montant (€)': '95000', 'V': '0.381188118811881', 'Défaillance': 'O'}, {'ID client': '9', 'Age': '60', 'Montant (€)': '100000', 'V': '0.405940594059406', 'Défaillance': 'O'}, {'ID client': '5', 'Age': '35', 'Montant (€)': '120000', 'V': '0.504950495049505', 'Défaillance': 'N'}, {'ID client': '12', 'Age': '48', 'Montant (€)': '142000', 'V': '0.613861386138614', 'Défaillance': '?'}, {'ID client': '11', 'Age': '33', 'Montant (€)': '150000', 'V': '0.653465346534653', 'Défaillance': 'O'}, {'ID client': '10', 'Age': '48', 'Montant (€)': '220000', 'V': '1', 'Défaillance': 'O'}]\n"
     ]
    }
   ],
   "source": [
    "def conversion_type(table):\n",
    "    newtable=[]\n",
    "    for i in table:\n",
    "        for c,v in i.items():\n",
    "            try:\n",
    "                v=float(v)\n",
    "            except:\n",
    "                pass\n",
    "    return table\n",
    "convtable=conversion_type(lec)\n",
    "print(convtable)"
   ]
  },
  {
   "cell_type": "code",
   "execution_count": 4,
   "metadata": {
    "ExecuteTime": {
     "end_time": "2021-06-07T11:58:25.271768Z",
     "start_time": "2021-06-07T11:58:25.263578Z"
    }
   },
   "outputs": [
    {
     "name": "stdout",
     "output_type": "stream",
     "text": [
      "[-0.613861386138614, -0.6039603960396039, -0.504950495049505, -0.40594059405940597, -0.39603960396039595, -0.306930693069307, -0.23267326732673294, -0.20792079207920794, -0.10891089108910901, 0.0, 0.039603960396039084, 0.38613861386138604]\n"
     ]
    }
   ],
   "source": [
    "def delta():\n",
    "    delta=[]\n",
    "    for i in convtable:\n",
    "        if i[\"ID client\"]=='12':\n",
    "            val=i[\"V\"]\n",
    "    for i in convtable:\n",
    "        delta.append(float(i['V'])-float(val))\n",
    "    return delta,float(val)\n",
    "liste,val=delta()\n",
    "print(liste)"
   ]
  },
  {
   "cell_type": "code",
   "execution_count": 5,
   "metadata": {
    "ExecuteTime": {
     "end_time": "2021-06-07T11:58:25.296101Z",
     "start_time": "2021-06-07T11:58:25.287108Z"
    }
   },
   "outputs": [
    {
     "name": "stdout",
     "output_type": "stream",
     "text": [
      "[0.38613861386138604, 0.039603960396039084, 0.0, -0.10891089108910901, -0.20792079207920794, -0.23267326732673294, -0.306930693069307, -0.39603960396039595, -0.40594059405940597, -0.504950495049505, -0.6039603960396039, -0.613861386138614]\n"
     ]
    }
   ],
   "source": [
    "def kppv():\n",
    "    newl=[]\n",
    "    for i in liste:\n",
    "        newl.append(i)\n",
    "    newl=sorted(newl, reverse=True)\n",
    "    return newl\n",
    "newl2=kppv()\n",
    "print(newl2)"
   ]
  },
  {
   "cell_type": "code",
   "execution_count": 6,
   "metadata": {
    "ExecuteTime": {
     "end_time": "2021-06-07T11:58:25.316446Z",
     "start_time": "2021-06-07T11:58:25.309682Z"
    }
   },
   "outputs": [
    {
     "name": "stdout",
     "output_type": "stream",
     "text": [
      "[1.0, 0.653465346534653, 0.504950495049505, 0.405940594059406, 0.381188118811881, 0.306930693069307, 0.21782178217821802, 0.207920792079208, 0.10891089108910901, 0.00990099009901002, 0.0]\n"
     ]
    }
   ],
   "source": [
    "def retour():\n",
    "    idtable=[]\n",
    "    for i in newl2:\n",
    "        if i!=0.0:\n",
    "            idtable.append(i+val)\n",
    "    return idtable\n",
    "idt=retour()\n",
    "print(idt)"
   ]
  },
  {
   "cell_type": "code",
   "execution_count": 7,
   "metadata": {
    "ExecuteTime": {
     "end_time": "2021-06-07T11:58:25.340757Z",
     "start_time": "2021-06-07T11:58:25.333065Z"
    }
   },
   "outputs": [
    {
     "name": "stdout",
     "output_type": "stream",
     "text": [
      "[0.653465346534653, 0.504950495049505, 0.405940594059406]\n"
     ]
    }
   ],
   "source": [
    "def retourbis(idt=idt):\n",
    "    listefin=[]\n",
    "    for i in idt[1:4]:\n",
    "        listefin.append(i)\n",
    "    return listefin\n",
    "listefin=retourbis()\n",
    "print(listefin)"
   ]
  },
  {
   "cell_type": "code",
   "execution_count": 8,
   "metadata": {
    "ExecuteTime": {
     "end_time": "2021-06-07T11:58:25.367080Z",
     "start_time": "2021-06-07T11:58:25.356006Z"
    }
   },
   "outputs": [
    {
     "name": "stdout",
     "output_type": "stream",
     "text": [
      "Bonjour,\n",
      "Ce mail fait suite à votre demande de prêt du 06/06/2021.\n",
      "Après étude de votre dossier, la banque décidé de refuser le prêt.\n",
      "Nous restons à votre disposition si vous avez la moindre question !\n",
      "\n",
      "Cordialement,\n",
      "Votre banquier.\n"
     ]
    }
   ],
   "source": [
    "def idback(listefin):\n",
    "    idc=[]\n",
    "    defa=0\n",
    "    ndefa=0\n",
    "    for i in listefin:\n",
    "        for e in convtable:\n",
    "            if e[\"V\"]==str(i):\n",
    "                idc.append(e[\"ID client\"])\n",
    "                if e[\"Défaillance\"]==\"O\":\n",
    "                    defa+=1\n",
    "                else:\n",
    "                    ndefa+=1\n",
    "                if defa>=ndefa:\n",
    "                    verdict=\"de refuser le prêt\"\n",
    "                elif ndefa>defa:\n",
    "                    verdict=\"d'accorder le prêt\"\n",
    "    return idc, verdict\n",
    "idc, verdict=idback(listefin)\n",
    "#print(idc)\n",
    "print(f\"Bonjour,\\nCe mail fait suite à votre demande de prêt du 06/06/2021.\\nAprès étude de votre dossier, la banque décidé {verdict}.\\nNous restons à votre disposition si vous avez la moindre question !\\n\\nCordialement,\\nVotre banquier.\")\n",
    "        "
   ]
  },
  {
   "cell_type": "markdown",
   "metadata": {},
   "source": [
    "<img src=\"logo.png\" alt=\"graphe de points\" align=left width=14%><br/><br/>**L.PERROT - perrotl@caissedepargne.fr** <br/> **02 57 29 04 76**"
   ]
  },
  {
   "cell_type": "markdown",
   "metadata": {},
   "source": [
    "<img src=\"Images/Résultats.png\" alt=\"graphe de points\" align=center width=80%>"
   ]
  },
  {
   "cell_type": "markdown",
   "metadata": {},
   "source": [
    "<div class=\"alert alert-success\" role=\"alert\">\n",
    "\n",
    "**Pour aller plus loin ...**\n",
    "\n",
    "- La **bibliothèque** Python **Scikit Learn** propose un grand nombre d'algorithmes lié au machine learning (c'est sans aucun doute la bibliothèque la plus utilisée en machine learning). Parmi tous ces algorithmes, Scikit Learn propose l'algorithme des k plus proches voisins.\n",
    "\n",
    "- Une seconde **bibliothèque** est couramment utilisée pour lire les données, il s'agit de **pandas**. Pandas fournit des structures de données puissantes et simples à utiliser, ainsi que les moyens d'opérer rapidement des opérations sur ces structures.\n",
    "</div>"
   ]
  },
  {
   "cell_type": "code",
   "execution_count": 38,
   "metadata": {
    "ExecuteTime": {
     "end_time": "2021-06-07T12:17:07.139479Z",
     "start_time": "2021-06-07T12:17:06.869423Z"
    }
   },
   "outputs": [
    {
     "data": {
      "image/png": "[encoded data removed]",
      "text/plain": [
       "<Figure size 432x288 with 1 Axes>"
      ]
     },
     "metadata": {
      "needs_background": "light"
     },
     "output_type": "display_data"
    }
   ],
   "source": [
    "import matplotlib.pyplot as plt\n",
    "x=[]\n",
    "y=[]\n",
    "for e in convtable:\n",
    "    y.append(e[\"V\"])\n",
    "    x.append(e[\"Age\"])\n",
    "\n",
    "plt.scatter(x,y)\n",
    "\n",
    "plt.title('Tableau des gens qui se font arnaquer')\n",
    "plt.xlabel('x')\n",
    "plt.ylabel('y')\n",
    "\n",
    "#plt.savefig('ScatterPlot_01.png')\n",
    "plt.show()"
   ]
  },
  {
   "cell_type": "code",
   "execution_count": null,
   "metadata": {},
   "outputs": [],
   "source": []
  }
 ],
 "metadata": {
  "hide_input": false,
  "kernelspec": {
   "display_name": "Python 3",
   "language": "python",
   "name": "python3"
  },
  "language_info": {
   "codemirror_mode": {
    "name": "ipython",
    "version": 3
   },
   "file_extension": ".py",
   "mimetype": "text/x-python",
   "name": "python",
   "nbconvert_exporter": "python",
   "pygments_lexer": "ipython3",
   "version": "3.6.10"
  },
  "latex_envs": {
   "LaTeX_envs_menu_present": true,
   "autoclose": false,
   "autocomplete": true,
   "bibliofile": "biblio.bib",
   "cite_by": "apalike",
   "current_citInitial": 1,
   "eqLabelWithNumbers": true,
   "eqNumInitial": 1,
   "hotkeys": {
    "equation": "Ctrl-E",
    "itemize": "Ctrl-I"
   },
   "labels_anchors": false,
   "latex_user_defs": false,
   "report_style_numbering": false,
   "user_envs_cfg": false
  },
  "nbTranslate": {
   "displayLangs": [
    "*"
   ],
   "hotkey": "alt-t",
   "langInMainMenu": true,
   "sourceLang": "en",
   "targetLang": "fr",
   "useGoogleTranslate": true
  },
  "toc": {
   "base_numbering": 1,
   "nav_menu": {},
   "number_sections": true,
   "sideBar": true,
   "skip_h1_title": false,
   "title_cell": "Table of Contents",
   "title_sidebar": "Contents",
   "toc_cell": false,
   "toc_position": {},
   "toc_section_display": true,
   "toc_window_display": false
  },
  "varInspector": {
   "cols": {
    "lenName": 16,
    "lenType": 16,
    "lenVar": 40
   },
   "kernels_config": {
    "python": {
     "delete_cmd_postfix": "",
     "delete_cmd_prefix": "del ",
     "library": "var_list.py",
     "varRefreshCmd": "print(var_dic_list())"
    },
    "r": {
     "delete_cmd_postfix": ") ",
     "delete_cmd_prefix": "rm(",
     "library": "var_list.r",
     "varRefreshCmd": "cat(var_dic_list()) "
    }
   },
   "types_to_exclude": [
    "module",
    "function",
    "builtin_function_or_method",
    "instance",
    "_Feature"
   ],
   "window_display": false
  }
 },
 "nbformat": 4,
 "nbformat_minor": 2
}
