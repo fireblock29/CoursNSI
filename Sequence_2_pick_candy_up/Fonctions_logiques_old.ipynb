{
 "cells": [
  {
   "cell_type": "markdown",
   "metadata": {},
   "source": [
    "### <center><font face=\"arial\" size=\"5\" color=#0101DF>NUMERIQUE ET SCIENCES INFORMATIQUES 1ère NSI</font></center>"
   ]
  },
  {
   "cell_type": "markdown",
   "metadata": {},
   "source": [
    "## <font color=#013ADF>Séquence N° 2 : complément de formation au projet : PICK_CANDY_UP</font>"
   ]
  },
  {
   "cell_type": "markdown",
   "metadata": {},
   "source": [
    "**Vous devez réaliser un compte rendu avec CE notebook.**\n",
    "\n",
    "<img src=\"Images/CR.png\" alt=\"logo CR\" width=5% align=middle>\n",
    "\n",
    "Chaque fois que vous voyez ce logo, votre réponse doit apparaître dans votre compte-rendu."
   ]
  },
  {
   "cell_type": "markdown",
   "metadata": {},
   "source": [
    "Nous allons profiter de la carte micro:bit pour confirmer et renforcer ce qui a été dit lors de la séquence précédente sur les opérateurs booléens."
   ]
  },
  {
   "cell_type": "markdown",
   "metadata": {},
   "source": [
    "Avec les deux entrées TOR (Tout Ou Rien), le bouton A, le bouton B, qui ne peuvent prendre chacun que deux valeurs booléennes `False = 0` `True = 1` nous pouvons programmer et tester des fonctions de logique booléenne."
   ]
  },
  {
   "cell_type": "markdown",
   "metadata": {},
   "source": [
    "## 1- Fonction ET :\n",
    "Testez le programme ci-dessous dont la condition de test serait l'[expression booléenne](https://fr.wikipedia.org/wiki/Expression_bool%C3%A9enne_(programmation_informatique)) `A et B` :\n",
    "> En Python l'opérateur booléen pour le ET est le mot clé `and`. Le symbole est :\n",
    "<img src=\"Images/AND.png\" alt=\"AND\" width=10%>"
   ]
  },
  {
   "cell_type": "code",
   "execution_count": null,
   "metadata": {},
   "outputs": [],
   "source": [
    "from microbit import *\n",
    "while True:\n",
    "    if (button_a.is_pressed() and button_b.is_pressed()):\n",
    "        display.show('1')\n",
    "    else:\n",
    "        display.show('0')"
   ]
  },
  {
   "cell_type": "markdown",
   "metadata": {},
   "source": [
    "<img src=\"Images/CR.png\" alt=\"logo CR\" width=5% align=right>\n",
    "\n",
    "Complétez alors la table de vérité de la fonction logique **ET**, d'équation $A\\cdot B$ :\n",
    "\n",
    "|  A  |  B  | ET  |\n",
    "|:---:|:---:|:---:|\n",
    "|  0  |  0  |     |\n",
    "|  0  |  1  |     |\n",
    "|  1  |  0  |     |\n",
    "|  1  |  1  |     |"
   ]
  },
  {
   "cell_type": "markdown",
   "metadata": {},
   "source": [
    "## 2- Fonction OU :\n",
    "Testez le programme ci-dessous dont l'expression booléenne serait `A ou B`:\n",
    "> En Python l'opérateur booléen pour le OU est le mot clé `or`\n",
    "<img src=\"Images/OR.png\" alt=\"OR\" width=10%>"
   ]
  },
  {
   "cell_type": "code",
   "execution_count": null,
   "metadata": {},
   "outputs": [],
   "source": [
    "from microbit import *\n",
    "while True:\n",
    "    if (button_a.is_pressed() or button_b.is_pressed()):\n",
    "        display.show('1')\n",
    "    else:\n",
    "        display.show('0')"
   ]
  },
  {
   "cell_type": "markdown",
   "metadata": {},
   "source": [
    "<img src=\"Images/CR.png\" alt=\"logo CR\" width=5% align=right>\n",
    "\n",
    "Complétez alors la table de vérité de la fonction logique **OU**, d'équation $A + B$ :\n",
    "\n",
    "|  A  |  B  | OU  |\n",
    "|:---:|:---:|:---:|\n",
    "|  0  |  0  |     |\n",
    "|  0  |  1  |     |\n",
    "|  1  |  0  |     |\n",
    "|  1  |  1  |     |"
   ]
  },
  {
   "cell_type": "markdown",
   "metadata": {},
   "source": [
    "## 3- Fonction NON :\n",
    "Testez le programme ci-dessous dont l'expression booléenne serait `non A`,   :\n",
    "> En Python l'opérateur booléen pour le NON est le mot clé `not`\n",
    "<img src=\"Images/NOT.png\" alt=\"NOT\" width=10%>"
   ]
  },
  {
   "cell_type": "code",
   "execution_count": null,
   "metadata": {},
   "outputs": [],
   "source": [
    "from microbit import *\n",
    "while True:\n",
    "    if not(button_a.is_pressed()):\n",
    "        display.show('1')\n",
    "    else:\n",
    "        display.show('0')"
   ]
  },
  {
   "cell_type": "markdown",
   "metadata": {},
   "source": [
    "<img src=\"Images/CR.png\" alt=\"logo CR\" width=5% align=right>\n",
    "\n",
    "Complétez alors la table de vérité de la fonction logique **NON**, d'équation $\\bar{A}$ :\n",
    "\n",
    "|  A  | NON |\n",
    "|:---:|:---:|\n",
    "|  0  |     |\n",
    "|  1  |     |"
   ]
  },
  {
   "cell_type": "markdown",
   "metadata": {},
   "source": [
    "#### Applications :"
   ]
  },
  {
   "cell_type": "markdown",
   "metadata": {},
   "source": [
    "<img src=\"Images/CR.png\" alt=\"logo CR\" width=5% align=right>\n",
    "\n",
    "Programmez chacune à leur tour les expressions booléennes suivantes et complétez leur table de vérité respective :\n",
    "- `non (A et B)`\n",
    "\n",
    "|  A  |  B  |  ?  |\n",
    "|:---:|:---:|:---:|\n",
    "|  0  |  0  |     |\n",
    "|  0  |  1  |     |\n",
    "|  1  |  0  |     |\n",
    "|  1  |  1  |     |\n",
    "\n",
    "- `non A ou non B`\n",
    "\n",
    "|  A  |  B  |  ?  |\n",
    "|:---:|:---:|:---:|\n",
    "|  0  |  0  |     |\n",
    "|  0  |  1  |     |\n",
    "|  1  |  0  |     |\n",
    "|  1  |  1  |     |\n",
    "\n",
    "- `non (A ou B)`\n",
    "\n",
    "|  A  |  B  |  ?  |\n",
    "|:---:|:---:|:---:|\n",
    "|  0  |  0  |     |\n",
    "|  0  |  1  |     |\n",
    "|  1  |  0  |     |\n",
    "|  1  |  1  |     |\n",
    "\n",
    "\n",
    "- `non A et non B`\n",
    "\n",
    "|  A  |  B  |  ?  |\n",
    "|:---:|:---:|:---:|\n",
    "|  0  |  0  |     |\n",
    "|  0  |  1  |     |\n",
    "|  1  |  0  |     |\n",
    "|  1  |  1  |     |\n",
    "\n",
    "\n",
    "Tel [De Morgan](https://fr.wikipedia.org/wiki/Lois_de_De_Morgan), que concluez-vous ? Proposez alors un nom pour ces fonctions, un symbole ...\n",
    "\n",
    "Complétez la table de vérité et programmer le fonctionnement d'un système dont l'équation serait :\n",
    "\n",
    "$$ L =\\bar{A}\\cdot B+A\\cdot\\bar{B}$$\n",
    "\n",
    "|  A  |  B  |  ?  |\n",
    "|:---:|:---:|:---:|\n",
    "|  0  |  0  |     |\n",
    "|  0  |  1  |     |\n",
    "|  1  |  0  |     |\n",
    "|  1  |  1  |     |\n",
    "\n",
    "Comment nommerait-on une telle fonction booléenne ? En voyez-vous un usage quelconque ?"
   ]
  },
  {
   "cell_type": "markdown",
   "metadata": {},
   "source": [
    "<img src=\"Images/demi-additionneur.png\" alt=\"demi-additionneur\" width=25% align=left>\n",
    "\n",
    "|  A  |  B  |  R  |  S  |\n",
    "|:---:|:---:|:---:|:---:|\n",
    "|  0  |  0  |     |     |\n",
    "|  0  |  1  |     |     |\n",
    "|  1  |  0  |     |     |\n",
    "|  1  |  1  |     |     |"
   ]
  },
  {
   "cell_type": "markdown",
   "metadata": {},
   "source": [
    "Comment peut-on appeler le logigramme précédent ? Que peut-on faire pour l'améliorer ?"
   ]
  },
  {
   "cell_type": "markdown",
   "metadata": {},
   "source": [
    "Vous allez simuler le comportement des opérateurs logiques avec l'application \"BOOLR-v1.0.3\" après quelques explications du professeur. Cela nous permettra de vérifier quelques exercices par la suite.\n",
    "\n",
    "Pour télécharger si besoin l'application : https://github.com/ggbrw/boolr/releases"
   ]
  },
  {
   "cell_type": "markdown",
   "metadata": {},
   "source": [
    "## 4- Un peu d'histoire ..."
   ]
  },
  {
   "cell_type": "markdown",
   "metadata": {},
   "source": [
    "<img src=\"Images/Boole.png\" alt=\"G Boole\" width=5% align=right>\n",
    "\n",
    "**George Boole** est un logicien, mathématicien et philosophe britannique.\n",
    "De 1844 à 1854, il crée une algèbre binaire, dite booléenne, n'acceptant que deux valeurs numériques : 0 et 1 que l'on appelle algèbre de Boole en son honneur !"
   ]
  },
  {
   "cell_type": "markdown",
   "metadata": {},
   "source": [
    "<img src=\"Images/DeMorgan.png\" alt=\"G Boole\" width=5% align=right>\n",
    "\n",
    "**Augustus De Morgan** est un mathématicien et logicien britannique. Il est le fondateur avec Boole de la logique moderne (1842-1864). Il a notamment formulé les lois qui porte son nom. "
   ]
  },
  {
   "cell_type": "markdown",
   "metadata": {},
   "source": [
    "<img src=\"Images/Shannon.png\" alt=\"G Boole\" width=5% align=right>\n",
    "\n",
    "**Claude Elwood Shannon** est un ingénieur en génie électrique et mathématicien américain. Il est le père fondateur, de la théorie de l'information. \n",
    "1938 : publication de *A Symbolic Analysis of Relay and Switching Circuits*. Shannon applique pour la première fois l'algèbre de Boole aux circuits de commutation automatique, qui servira aussi bien pour les circuits à relais que pour les circuits intégrés."
   ]
  },
  {
   "cell_type": "markdown",
   "metadata": {},
   "source": [
    "## 5- Un zeste de technologie ..."
   ]
  },
  {
   "cell_type": "markdown",
   "metadata": {},
   "source": [
    "<img src=\"Images/transistor.png\" alt=\"Technologie\" width=50% align=center>\n",
    "<img src=\"Images/Moore.png\" alt=\"Loi de Moore\" width=80% align=center>"
   ]
  },
  {
   "cell_type": "markdown",
   "metadata": {},
   "source": [
    "## 6- Propriétés de l'algèbre de Boole"
   ]
  },
  {
   "cell_type": "markdown",
   "metadata": {},
   "source": [
    "<img src=\"Images/prop_boole.png\" alt=\"Algèbre de Boole\" width=50% align=center>"
   ]
  },
  {
   "cell_type": "markdown",
   "metadata": {},
   "source": [
    "<img src=\"Images/elec-boole.png\" alt=\"Notion d'électricité\" width=50% align=center>"
   ]
  },
  {
   "cell_type": "markdown",
   "metadata": {},
   "source": [
    "## 7- Notations et Appellations"
   ]
  },
  {
   "cell_type": "markdown",
   "metadata": {},
   "source": [
    "- La conjonction, notée **&** (esperluette), **^** ou **.** est lue \"**ET**\"\n",
    "- La disjonction, notée **|** (pipe), **v** ou **+** est lue \"**OU**\"\n",
    "- la négation, notée **~**, **¬** ou **¯** (lire barre) est lue \"**NON**\""
   ]
  },
  {
   "cell_type": "markdown",
   "metadata": {},
   "source": [
    "## 8- Remarques importantes"
   ]
  },
  {
   "cell_type": "markdown",
   "metadata": {},
   "source": [
    "<img src=\"Images/warning.png\" alt=\"Attention\" width=5% align=left>\n",
    "\n",
    "Python évalue les expressions logiques de manière paresseuses (on parle de lazy evaluation). Les opérateurs sont de type court-circuit :\n",
    "\n",
    "        OR n’évalue le deuxième argument que si le premier est faux.\n",
    "        AND n’évalue le deuxième argument que si le premier est vrai.\n",
    "\n",
    "Autrement dit, l'évaluation se fait de la gauche vers la droite. Celle-ci est stoppée si la sortie est déterminée.\n",
    "\n",
    "Exemple :\n",
    "\n",
    "- True or x  : est vrai quelle que soit la valeur de x  : la valeur de x  n'est pas lue dans la mémoire et l'opération or  n'est pas effectuée en entier.\n",
    "\n",
    "- False and not y  : est faux quelle que soit la valeur de y  : la valeur de y  n'est pas lue dans la mémoire et l'opération and  n'est pas effectuée en entier, l'opération not  n'est pas effectuée du tout.\n",
    "\n",
    "\n",
    "À l'instar des opérateurs arithmétiques, les opérateurs logiques ont une priorité :\n",
    "\n",
    "- Not\n",
    "\n",
    "- And\n",
    "\n",
    "- Or\n",
    "\n",
    "L'utilisation des parenthèses qui peut parfois être logiquement inutile améliore la lisibilité du code et donc sa maintenance.\n",
    "\n",
    "Les symboles américains représentant les fonctions logiques sont différents de la norme européenne (forme arrondie).\n",
    "\n",
    "<img src=\"Images/portesUS.png\" alt=\"Symboles américains\" width=10% align=center>"
   ]
  },
  {
   "cell_type": "markdown",
   "metadata": {},
   "source": [
    "## 9- Les opérations bit à bit"
   ]
  },
  {
   "cell_type": "markdown",
   "metadata": {},
   "source": [
    "Il arrive que l'on veuille connaître ou modifier l'état d'un ou plusieurs bits d'une donnée lors d'un test par exemple. Les opérations bit à bit sont incroyablement simples et sont directement prises en charge par le processeur."
   ]
  },
  {
   "cell_type": "markdown",
   "metadata": {},
   "source": [
    "Syntaxe\n",
    "\n",
    "    x << y # Décalage à gauche\n",
    "\n",
    "    x >> y # Décalage à droite\n",
    "\n",
    "    x & y  # bit à bit ET\n",
    "\n",
    "    x | y  # bit à bit OU\n",
    "\n",
    "    ~ x    # bitwise non\n",
    "\n",
    "    x ^ y  # bit à bit OU exclusif"
   ]
  },
  {
   "cell_type": "markdown",
   "metadata": {},
   "source": [
    "L'opérateur & exécutera un AND binaire, où un bit est copié s'il existe dans les deux opérandes."
   ]
  },
  {
   "cell_type": "code",
   "execution_count": null,
   "metadata": {},
   "outputs": [],
   "source": [
    "# 0 & 0 = 0\n",
    "# 0 & 1 = 0\n",
    "# 1 & 0 = 0\n",
    "# 1 & 1 = 1\n",
    "\n",
    "# 60 = 0b111100\n",
    "# 30 = 0b011110\n",
    "60 & 30\n",
    "# Out: 28\n",
    "# 28 = 0b11100\n",
    "\n",
    "bin(60 & 30)\n",
    "# Out: 0b11100"
   ]
  },
  {
   "cell_type": "markdown",
   "metadata": {},
   "source": [
    "Le | l'opérateur effectuera un \"ou\" binaire où un bit est copié s'il existe dans l'un des opérandes."
   ]
  },
  {
   "cell_type": "code",
   "execution_count": null,
   "metadata": {},
   "outputs": [],
   "source": [
    "# 0 | 0 = 0\n",
    "# 0 | 1 = 1 \n",
    "# 1 | 0 = 1\n",
    "# 1 | 1 = 1\n",
    "\n",
    "# 60 = 0b111100 \n",
    "# 30 = 0b011110\n",
    "60 | 30\n",
    "# Out: 62\n",
    "# 62 = 0b111110\n",
    "\n",
    "bin(60 | 30)\n",
    "# Out: 0b111110"
   ]
  },
  {
   "cell_type": "markdown",
   "metadata": {},
   "source": [
    "L'opérateur ^ exécutera un XOR binaire dans lequel un binaire 1 est copié si les opérandes sont différents."
   ]
  },
  {
   "cell_type": "code",
   "execution_count": null,
   "metadata": {},
   "outputs": [],
   "source": [
    "# 0 ^ 0 = 0\n",
    "# 0 ^ 1 = 1\n",
    "# 1 ^ 0 = 1\n",
    "# 1 ^ 1 = 0\n",
    "\n",
    "# 60 = 0b111100\n",
    "# 30 = 0b011110\n",
    "60 ^ 30\n",
    "# Out: 34\n",
    "# 34 = 0b100010\n",
    "\n",
    "bin(60 ^ 30)\n",
    "# Out: 0b100010"
   ]
  },
  {
   "cell_type": "markdown",
   "metadata": {},
   "source": [
    " L'opérateur ~ retournera le complément de tous les bits"
   ]
  },
  {
   "cell_type": "code",
   "execution_count": null,
   "metadata": {},
   "outputs": [],
   "source": [
    "# 0 = 0b0000 0000\n",
    "~0\n",
    "# Out: -1\n",
    "# -1 = 0b1111 1111\n",
    "    \n",
    "# 1 = 0b0000 0001\n",
    "~1\n",
    "# Out: -2\n",
    "# -2 = 1111 1110\n",
    "\n",
    "# 2 = 0b0000 0010\n",
    "~2\n",
    "# Out: -3\n",
    "# -3 = 0b1111 1101\n",
    "\n",
    "# 123 = 0b0111 1011\n",
    "~123\n",
    "# Out: -124\n",
    "# -124 = 0b1000 0100"
   ]
  },
  {
   "cell_type": "markdown",
   "metadata": {},
   "source": [
    "L'opérateur >> effectuera un \"décalage à droite\" au niveau du bit, où la valeur de l'opérande gauche est déplacée vers la droite par le nombre de bits fournis par l'opérande droit."
   ]
  },
  {
   "cell_type": "code",
   "execution_count": null,
   "metadata": {},
   "outputs": [],
   "source": [
    "# 8 = 0b1000\n",
    "8 >> 2\n",
    "# Out: 2\n",
    "# 2 = 0b10\n",
    "\n",
    "bin(8 >> 2)\n",
    "# Out: 0b10"
   ]
  },
  {
   "cell_type": "markdown",
   "metadata": {},
   "source": [
    "L'opérateur << effectuera un \"décalage vers la gauche\" au niveau du bit, la valeur de l'opérande gauche étant déplacée par le nombre de bits fournis par l'opérande droit. "
   ]
  },
  {
   "cell_type": "code",
   "execution_count": null,
   "metadata": {},
   "outputs": [],
   "source": [
    "# 2 = 0b10\n",
    "2 << 2\n",
    "# Out: 8\n",
    "# 8 = 0b1000\n",
    "\n",
    "bin(2 << 2)\n",
    "# Out: 0b1000"
   ]
  },
  {
   "cell_type": "markdown",
   "metadata": {},
   "source": [
    "Pour entrevoir l'intérêt des opérations précédentes, prenons un exemple : On voudrait manipuler le bit 4 d'une donnée sur 8 bits connectée à une DEL (diode électroluminescente) de la matrice 5x5 de la carte microbit."
   ]
  },
  {
   "cell_type": "markdown",
   "metadata": {},
   "source": [
    "**1er cas** : Je veux mettre à 0 le bit 4 pour éteindre la DEL\n",
    "\n",
    "|    |     |    |\n",
    "|:---:|:---:|:---:|\n",
    "|  Donnée  |  XXXX XXXX |\n",
    "|  Fonc. ET  |    |\n",
    "|  Masque  |  1110 1111 |\n",
    "|  Résultat  |    |\n",
    "\n",
    "|  Masque  |  Donnée  |  Résultat  | |\n",
    "|:---:|:---:|:---:|:---:|\n",
    "|  0  |  0  |  0   |\n",
    "|  0  |  1  |  0   |\n",
    "|  1  |  0  |  0   |\n",
    "|  1  |  1  |  1   |"
   ]
  },
  {
   "cell_type": "markdown",
   "metadata": {},
   "source": [
    "**2ème cas** : Je veux mettre à 1 le bit 4 pour allumer la DEL\n",
    "\n",
    "|    |     |    |\n",
    "|:---:|:---:|:---:|\n",
    "|  Donnée  |  XXXX XXXX |\n",
    "|  Fonc. OU  |    |\n",
    "|  Masque  |  0001 0000 |\n",
    "|  Résultat  |    |\n",
    "\n",
    "|  Masque  |  Donnée  |  Résultat  | |\n",
    "|:---:|:---:|:---:|:---:|\n",
    "|  0  |  0  |  0   |\n",
    "|  0  |  1  |  1   |\n",
    "|  1  |  0  |  1   |\n",
    "|  1  |  1  |  1   |"
   ]
  },
  {
   "cell_type": "markdown",
   "metadata": {},
   "source": [
    "**3ème cas** : Je veux inverser l'état du bit 4 pour éteindre la DEL si allumée, l'allumer si elle est éteinte\n",
    "\n",
    "|    |     |    |\n",
    "|:---:|:---:|:---:|\n",
    "|  Donnée  |  XXXX XXXX |\n",
    "|  Fonc. XOR  |    |\n",
    "|  Masque  |  0001 0000 |\n",
    "|  Résultat  |    |\n",
    "\n",
    "|  Masque  |  Donnée  |  Résultat  | |\n",
    "|:---:|:---:|:---:|:---:|\n",
    "|  0  |  0  |  0   |\n",
    "|  0  |  1  |  1   |\n",
    "|  1  |  0  |  1   |\n",
    "|  1  |  1  |  0   |"
   ]
  },
  {
   "cell_type": "markdown",
   "metadata": {},
   "source": [
    "## 10- Applications"
   ]
  },
  {
   "cell_type": "markdown",
   "metadata": {},
   "source": [
    "<img src=\"Images/CR.png\" alt=\"logo CR\" width=5% align=right>\n",
    "\n",
    "#### 1 Complétez la table de vérité de l'expression suivante :\n",
    "|  a  |  b  |  c  | (a ou b) et c  |\n",
    "|:---:|:---:|:---:|:---:|\n",
    "|  0  |  0  |  0  |     |\n",
    "|  0  |  0  |  1  |     |\n",
    "|  0  |  1  |  0  |     |\n",
    "|  0  |  1  |  1  |     |\n",
    "|  1  |  0  |  0  |     |\n",
    "|  1  |  0  |  1  |     |\n",
    "|  1  |  1  |  0  |     |\n",
    "|  1  |  1  |  1  |     |"
   ]
  },
  {
   "cell_type": "markdown",
   "metadata": {},
   "source": [
    "<img src=\"Images/CR.png\" alt=\"logo CR\" width=5% align=right>\n",
    "\n",
    "#### 2 Soit l'expression a | (~a & b) | ~b :\n",
    "\n",
    "- Réécrire l'expression avec les signes +  .  ¯\n",
    "- L'expression vaut-elle toujours Vrai ? "
   ]
  },
  {
   "cell_type": "markdown",
   "metadata": {},
   "source": [
    "<img src=\"Images/CR.png\" alt=\"logo CR\" width=5% align=right>\n",
    "\n",
    "#### 3 Voici le schéma logique d'un décodeur 4 bits :\n",
    "\n",
    "<img src=\"Images/decodeur4bits.png\" alt=\"Décodeur\" width=30% align=center>\n",
    "\n",
    "- Complétez la table de vérité du décodeur\n",
    "\n",
    "|  A  |  B  |  Y0 | Y1  |  Y2 |  Y3 |\n",
    "|:---:|:---:|:---:|:---:|:---:|:---:|\n",
    "|  0  |  0  |     |     |     |     |\n",
    "|  0  |  1  |     |     |     |     |\n",
    "|  1  |  0  |     |     |     |     |\n",
    "|  1  |  1  |     |     |     |     |\n",
    "\n",
    "\n",
    "- Justifiez l'appellation \"décodeur\""
   ]
  },
  {
   "cell_type": "markdown",
   "metadata": {},
   "source": [
    "<img src=\"Images/CR.png\" alt=\"logo CR\" width=5% align=right>\n",
    "\n",
    "#### 4 A quelle expression logique correspond la table de vérité ci-dessous ?\n",
    "\n",
    "|  a  |  b  |  ?  |\n",
    "|:---:|:---:|:---:|\n",
    "|  F  |  F  |  V  |\n",
    "|  F  |  V  |  V  |\n",
    "|  V  |  F  |  V  |\n",
    "|  V  |  V  |  F  |\n",
    "\n",
    "\n",
    "Réponses :\n",
    "\n",
    "    A- NON (a ET b)\n",
    "    B- a OU b\n",
    "    C- NON (a OU b)\n",
    "    D- a ET b\n",
    "\n"
   ]
  },
  {
   "cell_type": "markdown",
   "metadata": {},
   "source": [
    "<img src=\"Images/CR.png\" alt=\"logo CR\" width=5% align=right>\n",
    "\n",
    "#### 5 Laquelle de ces propriétés est toujours vraie ?\n",
    "\n",
    "Réponses :\n",
    "\n",
    "    A- a ET (NON a) = V\n",
    "    B- a ET (NON a) = NON a\n",
    "    C- a ET (NON a) = F\n",
    "    D- a ET (NON a) = a\n",
    "\n"
   ]
  },
  {
   "cell_type": "markdown",
   "metadata": {},
   "source": [
    "<img src=\"Images/CR.png\" alt=\"logo CR\" width=5% align=right>\n",
    "\n",
    "#### 6 Laquelle de ces propriétés est toujours vraie ?\n",
    "\n",
    "Réponses :\n",
    "\n",
    "    A- a OU F = V\n",
    "    B- a OU F = F\n",
    "    C- a OU F = a\n",
    "    D- a OU F = NON a\n",
    "\n"
   ]
  },
  {
   "cell_type": "markdown",
   "metadata": {},
   "source": [
    "<img src=\"Images/CR.png\" alt=\"logo CR\" width=5% align=right>\n",
    "\n",
    "#### 7 Laquelle de ces propositions est fausse ?\n",
    "\n",
    "Réponses :\n",
    "\n",
    "    A- (a ET b) ET c est équivalent à a ET (b ET c)\n",
    "    B- (a OU b) OU c est équivalent à a OU (b OU c)\n",
    "    C- (a OU b) ET c est équivalent à (a OU b) ET (a OU c)\n",
    "    D- NON (a OU b) est équivalent à (NON a) ET (NON b)\n",
    "\n"
   ]
  },
  {
   "cell_type": "markdown",
   "metadata": {},
   "source": [
    "<img src=\"Images/CR.png\" alt=\"logo CR\" width=5% align=right>\n",
    "\n",
    "#### 8 Soit l’expression logique NON (a ET b). Si a est Vrai que peut-on dire de cette expression ?\n",
    "\n",
    "Réponses :\n",
    "\n",
    "    A- Elle est forcément Vraie\n",
    "    B- Elle est forcément Fausse\n",
    "    C- Cela dépend de la valeur de b\n",
    "    D- On ne peut pas savoir\n",
    "\n"
   ]
  },
  {
   "cell_type": "markdown",
   "metadata": {},
   "source": [
    "<img src=\"Images/CR.png\" alt=\"logo CR\" width=5% align=right>\n",
    "\n",
    "#### 9 A quelle expression logique correspond cette table de vérité ?\n",
    "\n",
    "|  a  |  b  |  S  |\n",
    "|:---:|:---:|:---:|\n",
    "|  F  |  F  |  F  |\n",
    "|  F  |  V  |  F  |\n",
    "|  V  |  F  |  V  |\n",
    "|  V  |  V  |  V  |\n",
    "\n",
    "Réponses :\n",
    "\n",
    "    A- (a ET b) OU (a ET NON b)\n",
    "    B- a ET (b ET a)\n",
    "    C- a OU (b OU a)\n",
    "    D- a OU (b ET b)\n",
    "\n"
   ]
  },
  {
   "cell_type": "markdown",
   "metadata": {},
   "source": [
    "<img src=\"Images/CR.png\" alt=\"logo CR\" width=5% align=right>\n",
    "\n",
    "#### 10  Si a et b sont deux booléens tels que a=1 et b=0, que vaut le booléen : not(a or b) and (a or not(b)) ?\n",
    "\n",
    "Réponses :\n",
    "\n",
    "    A- 0\n",
    "    B- 1\n",
    "    C- Type Error\n",
    "    D- 7\n",
    "\n"
   ]
  },
  {
   "cell_type": "markdown",
   "metadata": {},
   "source": [
    "<img src=\"Images/CR.png\" alt=\"logo CR\" width=5% align=right>\n",
    "\n",
    "#### 11 Si a et b sont deux booléens tels que a=1 et b=0, que vaut le booléen : not(a and b) or (a and b) ?\n",
    "\n",
    "Réponses :\n",
    "\n",
    "    A- 0\n",
    "    B- 1\n",
    "    C- Type Error\n",
    "    D- 7"
   ]
  },
  {
   "cell_type": "markdown",
   "metadata": {},
   "source": [
    "<img src=\"Images/CR.png\" alt=\"logo CR\" width=5% align=right>\n",
    "\n",
    "#### 12 Quel est le résultat de l'opération bit à bit 22 & 34 ?"
   ]
  },
  {
   "cell_type": "markdown",
   "metadata": {},
   "source": [
    "<img src=\"Images/CR.png\" alt=\"logo CR\" width=5% align=right>\n",
    "\n",
    "#### 13 Quel est le résultat de l'opération bit à bit 18 ^ 16 ?"
   ]
  },
  {
   "cell_type": "markdown",
   "metadata": {},
   "source": [
    "<img src=\"Images/CR.png\" alt=\"logo CR\" width=5% align=right>\n",
    "\n",
    "#### 14 Quel est le résultat de l'opération bit à bit 9 | 6 ?"
   ]
  },
  {
   "cell_type": "markdown",
   "metadata": {},
   "source": [
    "<img src=\"Images/CR.png\" alt=\"logo CR\" width=5% align=right>\n",
    "\n",
    "#### 15 Quel est le résultat de l'opération 44 >> 1?"
   ]
  },
  {
   "cell_type": "markdown",
   "metadata": {},
   "source": [
    "<img src=\"Images/CR.png\" alt=\"logo CR\" width=5% align=right>\n",
    "\n",
    "#### 15 Quel est le résultat de l'opération 9 << 1?"
   ]
  }
 ],
 "metadata": {
  "kernelspec": {
   "display_name": "Python 3",
   "language": "python",
   "name": "python3"
  },
  "language_info": {
   "codemirror_mode": {
    "name": "ipython",
    "version": 3
   },
   "file_extension": ".py",
   "mimetype": "text/x-python",
   "name": "python",
   "nbconvert_exporter": "python",
   "pygments_lexer": "ipython3",
   "version": "3.6.10"
  },
  "varInspector": {
   "cols": {
    "lenName": 16,
    "lenType": 16,
    "lenVar": 40
   },
   "kernels_config": {
    "python": {
     "delete_cmd_postfix": "",
     "delete_cmd_prefix": "del ",
     "library": "var_list.py",
     "varRefreshCmd": "print(var_dic_list())"
    },
    "r": {
     "delete_cmd_postfix": ") ",
     "delete_cmd_prefix": "rm(",
     "library": "var_list.r",
     "varRefreshCmd": "cat(var_dic_list()) "
    }
   },
   "types_to_exclude": [
    "module",
    "function",
    "builtin_function_or_method",
    "instance",
    "_Feature"
   ],
   "window_display": false
  }
 },
 "nbformat": 4,
 "nbformat_minor": 2
}
