{
 "cells": [
  {
   "cell_type": "markdown",
   "metadata": {},
   "source": [
    "# <center><font face=\"arial\" size=\"5\" color=#0101DF>NUMERIQUE ET SCIENCES INFORMATIQUES 1ère NSI</font></center>"
   ]
  },
  {
   "cell_type": "markdown",
   "metadata": {},
   "source": [
    "## <font color=#013ADF>Séquence N° 2 : document de formation préalable au projet : PICK_CANDY_UP</font>"
   ]
  },
  {
   "cell_type": "markdown",
   "metadata": {},
   "source": [
    "**Vous devez réaliser un compte rendu sous la forme d'un NOUVEAU notebook.**\n",
    "\n",
    "<img src=\"Images/CR.png\" alt=\"logo CR\" width=5% align=middle>\n",
    "\n",
    "Chaque fois que vous voyez ce logo, la question et votre réponse doit apparaître dans votre compte-rendu."
   ]
  },
  {
   "cell_type": "markdown",
   "metadata": {},
   "source": [
    "## 1) Présentation de la carte"
   ]
  },
  {
   "cell_type": "markdown",
   "metadata": {},
   "source": [
    "La carte micro:bit est un ordinateur à processeur ARM conçu par la BBC pour l'éducation informatique au Royaume-Uni. Cette carte peut se programmer en utilisant plusieurs langages. Nous nous intéresserons ici uniquement à la programmation de la carte sous MicroPython.\n",
    "\n",
    "Ce petit ordinateur possède la dernière technologie qui équipe les appareils modernes : téléphones mobiles, réfrigérateurs, montres intelligentes, alarmes antivol, robots, etc...\n",
    "\n",
    "Ainsi, il s'apparente à ce que l'on nomme l'Internet des objets : Internet of Things, abrégé IoT.\n",
    "\n",
    "Un micro:bit est à la fois autonome et extensible. En plus d'utiliser ses LED intégrées, boutons et capteurs, nous pouvons élargir sa gamme de fonctions en l'insérant dans un connecteur.\n",
    "\n",
    "MicroPython est une implémentation simple du langage de programmation Python 3 qui inclut un petit sous-ensemble de la bibliothèque standard Python et est optimisé pour fonctionner sur des microcontrôleurs.\n",
    "\n",
    "<img src=\"Images/microbit-faces.jpg\" alt=\"recto/verso microbit\" width=50%>\n",
    "\n",
    "Caractéristiques principales de la carte micro:bit (version: Rev. 1.3 B):\n",
    "    - alimentation:\n",
    "         via port micro-USB ou\n",
    "         connecteur JST (3 V) ou\n",
    "         broches 3 V et GND\n",
    "    - microprocesseur: CPU ARM Cortex M0 32 bits\n",
    "    - cadencement: 16 MHz\n",
    "    - mémoire flash: 256 kB\n",
    "    - mémoire RAM: 16 kB\n",
    "    - 23 broches d'E/S dont 6 entrées analogiques\n",
    "    - matrice 5x5 leds rouges\n",
    "    - 2 boutons-poussoirs\n",
    "    - Bluetooth Low Energy 4.0\n",
    "    - accéléromètre 3 axes MMA8652​\n",
    "    - magnétomètre 3 axes MAG3110\n",
    "    - bus série, I2C et SPI\n",
    "    - dimensions: 40 x 50 mm\n",
    "\n",
    "<img src=\"Images/microbit-pins.jpg\" alt=\"brochage microbit\" width=30%>"
   ]
  },
  {
   "cell_type": "markdown",
   "metadata": {},
   "source": [
    "<img src=\"Images/CR.png\" alt=\"logo CR\" width=5% align=right>\n",
    "\n",
    "**Question :**\n",
    "\n",
    "De la liste des caractéristiques précédentes, identifiez sous la forme d'un tableau (Ajoutez les lignes nécessaires), quels sont les dispositifs d'entrées et de sorties natifs à la carte.\n",
    "\n",
    "|  Entrées  |  Sorties  |\n",
    "|:---:|:---:|\n",
    "|2 buttons  |25 LED lights|\n",
    "|USB connector|Compass|\n",
    "|Edge connector|Accelerometer|\n",
    "|Reset button|     |\n",
    "|Bluetooth Antenne|   |"
   ]
  },
  {
   "cell_type": "markdown",
   "metadata": {},
   "source": [
    "## 2) Présentation des éditeurs"
   ]
  },
  {
   "cell_type": "markdown",
   "metadata": {},
   "source": [
    "Pour réaliser la programmation de la carte, nous utiliserons :\n",
    "- chez vous l'éditeur en ligne qui se trouve à l'adresse : https://create.withcode.uk/ (carte virtuelle)\n",
    "- en classe l'éditeur Mu disponible sur les ordinateurs sous Linux (carte réelle)\n",
    "- d'un poste quelconque ne disposant pas de Mu : https://python.microbit.org/v/1.1 (carte réelle)"
   ]
  },
  {
   "cell_type": "markdown",
   "metadata": {},
   "source": [
    "### 2-1) Éditeur en ligne"
   ]
  },
  {
   "cell_type": "markdown",
   "metadata": {},
   "source": [
    "Rendez-vous sur l'éditeur en ligne pré-cité, copier-coller le programme ci-dessous et lancer l'exécution"
   ]
  },
  {
   "cell_type": "code",
   "execution_count": 1,
   "metadata": {},
   "outputs": [
    {
     "ename": "ModuleNotFoundError",
     "evalue": "No module named 'microbit'",
     "output_type": "error",
     "traceback": [
      "\u001b[0;31m---------------------------------------------------------------------------\u001b[0m",
      "\u001b[0;31mModuleNotFoundError\u001b[0m                       Traceback (most recent call last)",
      "\u001b[0;32m<ipython-input-1-3c99eefa5386>\u001b[0m in \u001b[0;36m<module>\u001b[0;34m\u001b[0m\n\u001b[0;32m----> 1\u001b[0;31m \u001b[0;32mfrom\u001b[0m \u001b[0mmicrobit\u001b[0m \u001b[0;32mimport\u001b[0m \u001b[0;34m*\u001b[0m\u001b[0;34m\u001b[0m\u001b[0;34m\u001b[0m\u001b[0m\n\u001b[0m\u001b[1;32m      2\u001b[0m \u001b[0;32mwhile\u001b[0m \u001b[0;32mTrue\u001b[0m\u001b[0;34m:\u001b[0m\u001b[0;34m\u001b[0m\u001b[0;34m\u001b[0m\u001b[0m\n\u001b[1;32m      3\u001b[0m   \u001b[0;32mif\u001b[0m \u001b[0mbutton_a\u001b[0m\u001b[0;34m.\u001b[0m\u001b[0mis_pressed\u001b[0m\u001b[0;34m(\u001b[0m\u001b[0;34m)\u001b[0m \u001b[0;34m:\u001b[0m\u001b[0;34m\u001b[0m\u001b[0;34m\u001b[0m\u001b[0m\n\u001b[1;32m      4\u001b[0m       \u001b[0mdisplay\u001b[0m\u001b[0;34m.\u001b[0m\u001b[0mshow\u001b[0m\u001b[0;34m(\u001b[0m\u001b[0mImage\u001b[0m\u001b[0;34m.\u001b[0m\u001b[0mHAPPY\u001b[0m\u001b[0;34m)\u001b[0m\u001b[0;34m\u001b[0m\u001b[0;34m\u001b[0m\u001b[0m\n",
      "\u001b[0;31mModuleNotFoundError\u001b[0m: No module named 'microbit'"
     ]
    }
   ],
   "source": [
    "from microbit import *\n",
    "while True:\n",
    "  if button_a.is_pressed() :\n",
    "      display.show(Image.HAPPY)"
   ]
  },
  {
   "cell_type": "markdown",
   "metadata": {},
   "source": [
    "### 2-2) Éditeur Mu\n",
    "\n",
    "La  documentation détaillée de l'éditeur Mu ici : https://codewith.mu/en/tutorials/1.0/microbit\n",
    "- Raccordez une extrémité du cordon USB à la carte ;\n",
    "- Raccordez l'autre extrémité du cordon USB à l'ordinateur.\n",
    "> Une icône translucide MICROBIT doit apparaître. Il faut la monter, comme on le ferait pour une clé USB. Il suffit pour cela de cliquer dessus avec le bouton gauche de la souris. Une fenêtre s'ouvre, on peut la refermer. La carte est maintenant reconnue.\n",
    "- Ouvrez l'éditeur Mu à partir du menu des applications ou de l'icône sur le bureau si elle existe ;\n",
    "- Copiez le même programme que précédemment dans l'éditeur, puis flasher le programme sur la carte ;\n",
    "- Exécutez le.\n",
    "- Ceci étant réalisé, fermer l'éditeur Mu, nul besoin de sauvegarder le programme."
   ]
  },
  {
   "cell_type": "markdown",
   "metadata": {},
   "source": [
    "### 2-3) Python éditeur en ligne\n",
    "\n",
    "Save : sauvegarde du programme source sur le poste de travail ;\n",
    "\n",
    "Download : téléchargement du programme exécutable (.hex) qui sera à transférer dans la carte micro:bit."
   ]
  },
  {
   "cell_type": "markdown",
   "metadata": {},
   "source": [
    "## 3) Découverte de quelques fonctionnalités de la carte\n",
    "\n",
    "La documentation détaillée ici : https://microbit-micropython.readthedocs.io/en/v1.0.1/, nous allons aborder ci-dessous, les premières fonctionnalités de la carte, celles-ci concernent la matrice de LED et les boutons poussoirs A et B."
   ]
  },
  {
   "cell_type": "markdown",
   "metadata": {},
   "source": [
    "### 3-1) La matrice DEL (ou LED en anglais)"
   ]
  },
  {
   "cell_type": "markdown",
   "metadata": {},
   "source": [
    "**Copier-coller les programmes ci-dessous en interprétant le comportement de la carte au regard du programme.**\n",
    "\n",
    "<img src=\"Images/warning.png\" alt=\"Attention\" width=5% align=left>\n",
    "\n",
    "**Pour relancer un programme en mémoire FLASH de la carte, appuyer sur le bouton RESET.**"
   ]
  },
  {
   "cell_type": "code",
   "execution_count": null,
   "metadata": {},
   "outputs": [],
   "source": [
    "from microbit import *\n",
    "# affiche un caractère\n",
    "display.show('2')"
   ]
  },
  {
   "cell_type": "code",
   "execution_count": null,
   "metadata": {},
   "outputs": [],
   "source": [
    "from microbit import *\n",
    "# affiche un texte déroulant\n",
    "display.scroll('Hello World!')"
   ]
  },
  {
   "cell_type": "code",
   "execution_count": null,
   "metadata": {},
   "outputs": [],
   "source": [
    "from microbit import *\n",
    "# affiche une image pré-définie (voir liste dans la documentation officielle)\n",
    "display.show (Image.HAPPY)\n",
    "# pause de 1 seconde\n",
    "sleep(1000)\n",
    "display.show (Image.SAD)"
   ]
  },
  {
   "cell_type": "code",
   "execution_count": null,
   "metadata": {},
   "outputs": [],
   "source": [
    "from microbit import *\n",
    "# affiche votre propre image\n",
    "monImage = Image(\"00500:\"\n",
    "                 \"00500:\"\n",
    "                 \"00500:\"\n",
    "                 \"99999:\"\n",
    "                 \"09990\")\n",
    "\n",
    "display.show(monImage)"
   ]
  },
  {
   "cell_type": "code",
   "execution_count": null,
   "metadata": {},
   "outputs": [],
   "source": [
    "from microbit import *\n",
    "# affiche votre propre image (seconde possibilité)\n",
    "monImage = Image(\"00500:00500:00500:99999:09990\")\n",
    "display.show(monImage)"
   ]
  },
  {
   "cell_type": "code",
   "execution_count": null,
   "metadata": {},
   "outputs": [],
   "source": [
    "from microbit import *\n",
    "for x in range(2,5):\n",
    "    for y in range(3,5):\n",
    "        display.set_pixel(x,y,9)\n",
    "# Où se situe la DEL de coordonées (0,0) ? (haut, bas, gauche, droite)"
   ]
  },
  {
   "cell_type": "markdown",
   "metadata": {},
   "source": [
    "<img src=\"Images/CR.png\" alt=\"logo CR\" width=5% align=right>\n",
    "\n",
    "**Questions :**\n",
    "- Où se situe la DEL de coordonnées (0,0) ? (haut, bas, gauche, droite)\n",
    "Dans le coin en haut ) gauche\n",
    "- Réalisez un programme qui réalise un compte à rebours de 5 secondes à 0 secondes, puis affiche votre image personnelle. L'affichage donnera : 5, 4, 3, 2, 1, votre image personnelle\n"
   ]
  },
  {
   "cell_type": "code",
   "execution_count": 2,
   "metadata": {},
   "outputs": [
    {
     "ename": "ModuleNotFoundError",
     "evalue": "No module named 'microbit'",
     "output_type": "error",
     "traceback": [
      "\u001b[0;31m---------------------------------------------------------------------------\u001b[0m",
      "\u001b[0;31mModuleNotFoundError\u001b[0m                       Traceback (most recent call last)",
      "\u001b[0;32m<ipython-input-2-da2d24a23676>\u001b[0m in \u001b[0;36m<module>\u001b[0;34m\u001b[0m\n\u001b[0;32m----> 1\u001b[0;31m \u001b[0;32mfrom\u001b[0m \u001b[0mmicrobit\u001b[0m \u001b[0;32mimport\u001b[0m \u001b[0;34m*\u001b[0m\u001b[0;34m\u001b[0m\u001b[0;34m\u001b[0m\u001b[0m\n\u001b[0m\u001b[1;32m      2\u001b[0m \u001b[0mdisplay\u001b[0m\u001b[0;34m.\u001b[0m\u001b[0mshow\u001b[0m\u001b[0;34m(\u001b[0m\u001b[0;34m'5'\u001b[0m\u001b[0;34m)\u001b[0m\u001b[0;34m\u001b[0m\u001b[0;34m\u001b[0m\u001b[0m\n\u001b[1;32m      3\u001b[0m \u001b[0msleep\u001b[0m\u001b[0;34m(\u001b[0m\u001b[0;36m1000\u001b[0m\u001b[0;34m)\u001b[0m\u001b[0;34m\u001b[0m\u001b[0;34m\u001b[0m\u001b[0m\n\u001b[1;32m      4\u001b[0m \u001b[0mdisplay\u001b[0m\u001b[0;34m.\u001b[0m\u001b[0mshow\u001b[0m\u001b[0;34m(\u001b[0m\u001b[0;34m'4'\u001b[0m\u001b[0;34m)\u001b[0m\u001b[0;34m\u001b[0m\u001b[0;34m\u001b[0m\u001b[0m\n\u001b[1;32m      5\u001b[0m \u001b[0msleep\u001b[0m\u001b[0;34m(\u001b[0m\u001b[0;36m1000\u001b[0m\u001b[0;34m)\u001b[0m\u001b[0;34m\u001b[0m\u001b[0;34m\u001b[0m\u001b[0m\n",
      "\u001b[0;31mModuleNotFoundError\u001b[0m: No module named 'microbit'"
     ]
    }
   ],
   "source": [
    "from microbit import *\n",
    "display.show('5')\n",
    "sleep(1000)\n",
    "display.show('4')\n",
    "sleep(1000)\n",
    "display.show('3')\n",
    "sleep(1000)\n",
    "display.show('2')\n",
    "sleep(1000)\n",
    "display.show('1')\n",
    "sleep(1000)\n",
    "monImage = Image(\"99000:\"\n",
    "                 \"99000:\"\n",
    "                 \"99000:\"\n",
    "                 \"99000:\"\n",
    "                 \"99999\")\n",
    "\n",
    "display.show(monImage)"
   ]
  },
  {
   "cell_type": "markdown",
   "metadata": {},
   "source": [
    "## 3-2) Les boutons poussoirs A et B"
   ]
  },
  {
   "cell_type": "markdown",
   "metadata": {},
   "source": [
    "**Copier-coller les programmes ci-dessous en interprétant le comportement de la carte au regard du programme.**"
   ]
  },
  {
   "cell_type": "code",
   "execution_count": null,
   "metadata": {},
   "outputs": [],
   "source": [
    "from microbit import *\n",
    "\n",
    "while True:\n",
    "    if button_a.is_pressed():\n",
    "        display.show(Image.HAPPY)\n",
    "    elif button_b.is_pressed():\n",
    "        break\n",
    "    else:\n",
    "        display.show(Image.SAD)"
   ]
  },
  {
   "cell_type": "markdown",
   "metadata": {},
   "source": [
    "##### Vous voyez ici un exemple d'utilisation de is_pressed() qui renvoie True si le bouton est pressé au moment ou la méthode est invoquée.\n",
    "\n",
    "<img src=\"Images/warning.png\" alt=\"Attention\" width=5% align=left>\n",
    "\n",
    "L'exemple montre aussi l'utilisation d'une boucle infinie while True et l'utilisation du bouton B pour mettre fin au programme, par appel de l'instruction \"break\" qui permet de sortir de la boucle prématurément.\n",
    "\n",
    "Sur les systèmes embarqués, la plus part des programmes tournent en boucle infinie, attendant un événement quelconque.\n",
    "\n",
    "Exemple : Le portail automatique qui délimite une propriété attend patiemment le retour du propriétaire, comme le chien attend le retour de son maître. Lorsque vous appuyez sur le bouton de la télécommande, l'ouverture se produit car le programme attendait cela depuis un moment (depuis la dernière fermeture) ! Le chien lui, remue la queue parce qu'il est toujours content de voir son maître !"
   ]
  },
  {
   "cell_type": "code",
   "execution_count": null,
   "metadata": {},
   "outputs": [],
   "source": [
    "from microbit import *\n",
    "\n",
    "display.scroll(\"Appuyez sur le bouton A\", delay=200, wait=True)\n",
    "    \n",
    "if button_a.was_pressed():\n",
    "    display.show(Image.HAPPY)\n",
    "else:\n",
    "    display.show(Image.SAD)"
   ]
  },
  {
   "cell_type": "markdown",
   "metadata": {},
   "source": [
    "On utilise ici la commande scroll en mode bloquant (avec wait=True). De ce fait, on ne peut pas détecter l'appui du bouton pendant l'affichage du message avec is_pressed(). was_pressed() permet de savoir si le bouton a bien été appuyé."
   ]
  },
  {
   "cell_type": "code",
   "execution_count": 3,
   "metadata": {},
   "outputs": [
    {
     "name": "stdout",
     "output_type": "stream",
     "text": [
      "Help on function display in module IPython.core.display:\n",
      "\n",
      "display(*objs, include=None, exclude=None, metadata=None, transient=None, display_id=None, **kwargs)\n",
      "    Display a Python object in all frontends.\n",
      "    \n",
      "    By default all representations will be computed and sent to the frontends.\n",
      "    Frontends can decide which representation is used and how.\n",
      "    \n",
      "    In terminal IPython this will be similar to using :func:`print`, for use in richer\n",
      "    frontends see Jupyter notebook examples with rich display logic.\n",
      "    \n",
      "    Parameters\n",
      "    ----------\n",
      "    objs : tuple of objects\n",
      "        The Python objects to display.\n",
      "    raw : bool, optional\n",
      "        Are the objects to be displayed already mimetype-keyed dicts of raw display data,\n",
      "        or Python objects that need to be formatted before display? [default: False]\n",
      "    include : list, tuple or set, optional\n",
      "        A list of format type strings (MIME types) to include in the\n",
      "        format data dict. If this is set *only* the format types included\n",
      "        in this list will be computed.\n",
      "    exclude : list, tuple or set, optional\n",
      "        A list of format type strings (MIME types) to exclude in the format\n",
      "        data dict. If this is set all format types will be computed,\n",
      "        except for those included in this argument.\n",
      "    metadata : dict, optional\n",
      "        A dictionary of metadata to associate with the output.\n",
      "        mime-type keys in this dictionary will be associated with the individual\n",
      "        representation formats, if they exist.\n",
      "    transient : dict, optional\n",
      "        A dictionary of transient data to associate with the output.\n",
      "        Data in this dict should not be persisted to files (e.g. notebooks).\n",
      "    display_id : str, bool optional\n",
      "        Set an id for the display.\n",
      "        This id can be used for updating this display area later via update_display.\n",
      "        If given as `True`, generate a new `display_id`\n",
      "    kwargs: additional keyword-args, optional\n",
      "        Additional keyword-arguments are passed through to the display publisher.\n",
      "    \n",
      "    Returns\n",
      "    -------\n",
      "    \n",
      "    handle: DisplayHandle\n",
      "        Returns a handle on updatable displays for use with :func:`update_display`,\n",
      "        if `display_id` is given. Returns :any:`None` if no `display_id` is given\n",
      "        (default).\n",
      "    \n",
      "    Examples\n",
      "    --------\n",
      "    \n",
      "    >>> class Json(object):\n",
      "    ...     def __init__(self, json):\n",
      "    ...         self.json = json\n",
      "    ...     def _repr_pretty_(self, pp, cycle):\n",
      "    ...         import json\n",
      "    ...         pp.text(json.dumps(self.json, indent=2))\n",
      "    ...     def __repr__(self):\n",
      "    ...         return str(self.json)\n",
      "    ...\n",
      "    \n",
      "    >>> d = Json({1:2, 3: {4:5}})\n",
      "    \n",
      "    >>> print(d)\n",
      "    {1: 2, 3: {4: 5}}\n",
      "    \n",
      "    >>> display(d)\n",
      "    {\n",
      "      \"1\": 2,\n",
      "      \"3\": {\n",
      "        \"4\": 5\n",
      "      }\n",
      "    }\n",
      "    \n",
      "    >>> def int_formatter(integer, pp, cycle):\n",
      "    ...     pp.text('I'*integer)\n",
      "    \n",
      "    >>> plain = get_ipython().display_formatter.formatters['text/plain']\n",
      "    >>> plain.for_type(int, int_formatter)\n",
      "    <function _repr_pprint at 0x...>\n",
      "    >>> display(7-5)\n",
      "    II\n",
      "    \n",
      "    >>> del plain.type_printers[int]\n",
      "    >>> display(7-5)\n",
      "    2\n",
      "    \n",
      "    See Also\n",
      "    --------\n",
      "    \n",
      "    :func:`update_display`\n",
      "    \n",
      "    Notes\n",
      "    -----\n",
      "    \n",
      "    In Python, objects can declare their textual representation using the\n",
      "    `__repr__` method. IPython expands on this idea and allows objects to declare\n",
      "    other, rich representations including:\n",
      "    \n",
      "      - HTML\n",
      "      - JSON\n",
      "      - PNG\n",
      "      - JPEG\n",
      "      - SVG\n",
      "      - LaTeX\n",
      "    \n",
      "    A single object can declare some or all of these representations; all are\n",
      "    handled by IPython's display system.\n",
      "    \n",
      "    The main idea of the first approach is that you have to implement special\n",
      "    display methods when you define your class, one for each representation you\n",
      "    want to use. Here is a list of the names of the special methods and the\n",
      "    values they must return:\n",
      "    \n",
      "      - `_repr_html_`: return raw HTML as a string, or a tuple (see below).\n",
      "      - `_repr_json_`: return a JSONable dict, or a tuple (see below).\n",
      "      - `_repr_jpeg_`: return raw JPEG data, or a tuple (see below).\n",
      "      - `_repr_png_`: return raw PNG data, or a tuple (see below).\n",
      "      - `_repr_svg_`: return raw SVG data as a string, or a tuple (see below).\n",
      "      - `_repr_latex_`: return LaTeX commands in a string surrounded by \"$\",\n",
      "                        or a tuple (see below).\n",
      "      - `_repr_mimebundle_`: return a full mimebundle containing the mapping\n",
      "                             from all mimetypes to data.\n",
      "                             Use this for any mime-type not listed above.\n",
      "    \n",
      "    The above functions may also return the object's metadata alonside the\n",
      "    data.  If the metadata is available, the functions will return a tuple\n",
      "    containing the data and metadata, in that order.  If there is no metadata\n",
      "    available, then the functions will return the data only.\n",
      "    \n",
      "    When you are directly writing your own classes, you can adapt them for\n",
      "    display in IPython by following the above approach. But in practice, you\n",
      "    often need to work with existing classes that you can't easily modify.\n",
      "    \n",
      "    You can refer to the documentation on integrating with the display system in\n",
      "    order to register custom formatters for already existing types\n",
      "    (:ref:`integrating_rich_display`).\n",
      "    \n",
      "    .. versionadded:: 5.4 display available without import\n",
      "    .. versionadded:: 6.1 display available without import\n",
      "    \n",
      "    Since IPython 5.4 and 6.1 :func:`display` is automatically made available to\n",
      "    the user without import. If you are using display in a document that might\n",
      "    be used in a pure python context or with older version of IPython, use the\n",
      "    following import at the top of your file::\n",
      "    \n",
      "        from IPython.display import display\n",
      "\n"
     ]
    }
   ],
   "source": [
    "help(display)"
   ]
  },
  {
   "cell_type": "markdown",
   "metadata": {},
   "source": [
    "<img src=\"Images/CR.png\" alt=\"logo CR\" width=5% align=right>\n",
    "\n",
    "**Questions :**\n",
    "\n",
    "- Quels sont les rôles des arguments \"delay\" et \"wait\" de la méthode .scroll() ?\\\n",
    "delay : le temps passé à scroll le texte\\\n",
    "wait : On vérifie si le bouton est préssé même lorsque le texte est scroll ou non\\\n",
    "- Réalisez un programme qui compte le nombre d'appuis sur le bouton poussoir A, et affiche ce nombre en scrolling. L'appui sur le bouton poussoir B permet de sortir du programme en affichant au préalable \"Bye-bye\".\n",
    "- Réalisez un second programme qui simule un lancer de dé. L'appui sur le bouton A provoque la génération aléatoire d'un chiffre compris entre 1 et 6. L'opération est très rapide, aussi pour faire durer le suspence, une animation personnelle s'affichera durant 2 à 3 secondes, puis le chiffre généré aléatoirement s'affichera."
   ]
  },
  {
   "cell_type": "code",
   "execution_count": null,
   "metadata": {},
   "outputs": [],
   "source": [
    "from microbit import *\n",
    "compteur=0\n",
    "while True:\n",
    "    if button_a.was_pressed():\n",
    "        compteur+=1\n",
    "        display.scroll(compteur)\n",
    "    elif button_b.was_pressed():\n",
    "        display.scroll(\"Bye-Bye\")\n",
    "        break"
   ]
  },
  {
   "cell_type": "code",
   "execution_count": null,
   "metadata": {},
   "outputs": [],
   "source": [
    "from microbit import *\n",
    "from random import *\n",
    "compteur=0\n",
    "while True:\n",
    "    if button_a.was_pressed():\n",
    "        nb=randint(1,6)\n",
    "        for i in range(1,3):\n",
    "            display.show(Image.CLOCK1)\n",
    "            sleep(500)\n",
    "            display.show(Image.CLOCK2)\n",
    "            sleep(500)\n",
    "            display.show(Image.CLOCK3)\n",
    "            sleep(500)\n",
    "        display.show(nb)\n",
    "    elif button_b.was_pressed():\n",
    "        display.scroll(\"Bye-Bye\")\n",
    "        break"
   ]
  },
  {
   "cell_type": "code",
   "execution_count": null,
   "metadata": {},
   "outputs": [],
   "source": []
  }
 ],
 "metadata": {
  "kernelspec": {
   "display_name": "Python 3",
   "language": "python",
   "name": "python3"
  },
  "language_info": {
   "codemirror_mode": {
    "name": "ipython",
    "version": 3
   },
   "file_extension": ".py",
   "mimetype": "text/x-python",
   "name": "python",
   "nbconvert_exporter": "python",
   "pygments_lexer": "ipython3",
   "version": "3.6.10"
  },
  "varInspector": {
   "cols": {
    "lenName": 16,
    "lenType": 16,
    "lenVar": 40
   },
   "kernels_config": {
    "python": {
     "delete_cmd_postfix": "",
     "delete_cmd_prefix": "del ",
     "library": "var_list.py",
     "varRefreshCmd": "print(var_dic_list())"
    },
    "r": {
     "delete_cmd_postfix": ") ",
     "delete_cmd_prefix": "rm(",
     "library": "var_list.r",
     "varRefreshCmd": "cat(var_dic_list()) "
    }
   },
   "types_to_exclude": [
    "module",
    "function",
    "builtin_function_or_method",
    "instance",
    "_Feature"
   ],
   "window_display": false
  }
 },
 "nbformat": 4,
 "nbformat_minor": 2
}
