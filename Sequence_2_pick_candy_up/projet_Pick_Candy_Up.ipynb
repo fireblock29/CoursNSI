{
 "cells": [
  {
   "cell_type": "markdown",
   "metadata": {},
   "source": [
    "# <center><font face=\"arial\" size=\"5\" color=#0101DF>NUMERIQUE ET SCIENCES INFORMATIQUES 1ère NSI</font></center>"
   ]
  },
  {
   "cell_type": "markdown",
   "metadata": {},
   "source": [
    "## <font color=#013ADF>Séquence N° 2 : projet PICK_CANDY_UP</font>"
   ]
  },
  {
   "cell_type": "markdown",
   "metadata": {},
   "source": [
    "L'ensemble du projet doit être réalisé en 5 heures classe. Le dossier informatisé est à rendre à l'issue de ces séances.\n",
    "\n",
    "<img src=\"Images/warning.png\" alt=\"Attention\" width=5% align=left>\n",
    "\n",
    "**Pour une fois, le travail individuel hors classe est interdit, à l'exception de la rédaction du dossier.**"
   ]
  },
  {
   "cell_type": "markdown",
   "metadata": {},
   "source": [
    "## 1) Objectifs"
   ]
  },
  {
   "cell_type": "markdown",
   "metadata": {},
   "source": [
    "L'objectif est double. Il doit vous permettre d'améliorer votre maîtrise du langage python, et de découvrir une méthode pour mener à bien un projet en équipe. La méthode utilisé ici se nomme SCRUM (mélée en anglais)."
   ]
  },
  {
   "cell_type": "markdown",
   "metadata": {},
   "source": [
    "## 2) Documents fournis"
   ]
  },
  {
   "cell_type": "markdown",
   "metadata": {},
   "source": [
    "Dans ce répertoire, on vous a fourni les documents suivants :\n",
    "\n",
    "- Le document de vision [Document de vision](Document_de_vision.pdf) (à compléter) ;\n",
    "- Le document user story [Document user story](Document_user_story.pdf) (à compléter) ;\n",
    "- Le document de recette [Document de recette](Document_de_recette.pdf) (à compléter) ;\n",
    "- Le document annexe terminologie [Annexe terminologie](Annexe_terminologie.pdf).\n",
    "\n",
    "<img src=\"Images/warning.png\" alt=\"Attention\" width=5% align=left>\n",
    "\n",
    "**Je vous envoie par courriel, la composition de l'équipe et le rôle de chacun, ainsi que les fichiers source des documents ci-dessus qui sont à modifier.**"
   ]
  },
  {
   "cell_type": "markdown",
   "metadata": {},
   "source": [
    "## 3) Travail demandé"
   ]
  },
  {
   "cell_type": "markdown",
   "metadata": {},
   "source": [
    "Vous allez réaliser l'application décrite sur le document de vision en mode projet. Chaque élève de l'équipe a un rôle que le professeur lui a attribué.\n",
    "\n",
    "Vos tâches sont décrites en fonction de votre rôle sur le document annexe terminologie [Annexe terminologie](Annexe_terminologie.pdf).\n",
    "\n",
    "En plus de ces tâches voici ce qu'il y a à faire :\n",
    "\n",
    "- Le **product owner** doit créer une équipe avec l'application \"Team\" de OFFICE 365.\n",
    "    - Il invitera les autres membres à rejoindre l'équipe.\n",
    "    - Tous les documents relatifs au projet doivent s'y trouver.\n",
    "- Le **scrum master** doit réaliser tous les compte-rendus de réunion (départ de sprint, daily scrum, ...)\n",
    "    - Il tient à jour le suivi des tâches dans \"Teams\", planificateur.\n",
    "- Les **développeurs** sont en charge de réaliser le dossier. La forme de l’écrit est conforme aux attendus de présentation d’un document de travail, c'est à dire :\n",
    "    - Page de garde comportant à minima un titre, une date, la composition de l'équipe ;\n",
    "    - Table de matières ;\n",
    "    - Pagination ;\n",
    "    - Sources consultées\n",
    "    - Le contenu du dossier comporte 2 parties :\n",
    "        - **Gestion de projet**\n",
    "           - Document de vision à compléter avec le nom des membres du groupe et leur rôle ;\n",
    "           - Les user stories réalisées et par quels membres mises à jour ;\n",
    "           - Compte rendu des réunions ;\n",
    "           - Document de recette mis à jour ;\n",
    "           - Tout document nécessaire à une reprise du projet par une autre équipe.\n",
    "        \n",
    "        - **Scientifique**\n",
    "           - Algorithme de l'application\n",
    "           - Code source de l’application développée\n",
    "\n",
    "Si besoin pour réaliser le dossier : https://www.youtube.com/watch?v=xd32KpJtIh0\n",
    "<img src=\"Images/warning.png\" alt=\"Attention\" width=5% align=left>\n",
    "\n",
    "**Exceptionnellement pour un premier projet, et pour que personne ne soit inactif au lancement, j'ai fourni 3 user stories qui doivent apporter de la valeur à votre application. À l'équipe par contre de définir ce qui sera réalisé dans le premier sprint.**\n",
    "\n"
   ]
  },
  {
   "cell_type": "markdown",
   "metadata": {},
   "source": [
    "## 4) Présentation orale"
   ]
  },
  {
   "cell_type": "markdown",
   "metadata": {},
   "source": [
    "L'équipe présente devant la classe, le résultat de ses travaux en 10 minutes. La forme est laissée à l'appréciation de l'équipe mais tous les membres doivent intervenir."
   ]
  },
  {
   "cell_type": "markdown",
   "metadata": {},
   "source": [
    "## 5) Barème de notation"
   ]
  },
  {
   "cell_type": "markdown",
   "metadata": {},
   "source": [
    "Tout est noté, mais vous n'avez pas forcement tous la même note ! Cela dépend de votre implication.\n",
    "\n",
    "- Fonctionnement de l'équipe en mode projet : /8\n",
    "    - Mon comportement est conforme au rôle que l'on m'a attribué ;\n",
    "    - Cohésion de l'équipe (entente, complémentarité) ;\n",
    "    - Respect des consignes.\n",
    "- Dossier conforme aux attentes ; /8\n",
    "    - Forme ;\n",
    "    - Partie gestion de projet ;\n",
    "    - Partie scientifique.\n",
    "- Présentation orale. /4"
   ]
  },
  {
   "cell_type": "code",
   "execution_count": null,
   "metadata": {},
   "outputs": [],
   "source": []
  }
 ],
 "metadata": {
  "kernelspec": {
   "display_name": "Python 3",
   "language": "python",
   "name": "python3"
  },
  "language_info": {
   "codemirror_mode": {
    "name": "ipython",
    "version": 3
   },
   "file_extension": ".py",
   "mimetype": "text/x-python",
   "name": "python",
   "nbconvert_exporter": "python",
   "pygments_lexer": "ipython3",
   "version": "3.6.10"
  },
  "varInspector": {
   "cols": {
    "lenName": 16,
    "lenType": 16,
    "lenVar": 40
   },
   "kernels_config": {
    "python": {
     "delete_cmd_postfix": "",
     "delete_cmd_prefix": "del ",
     "library": "var_list.py",
     "varRefreshCmd": "print(var_dic_list())"
    },
    "r": {
     "delete_cmd_postfix": ") ",
     "delete_cmd_prefix": "rm(",
     "library": "var_list.r",
     "varRefreshCmd": "cat(var_dic_list()) "
    }
   },
   "types_to_exclude": [
    "module",
    "function",
    "builtin_function_or_method",
    "instance",
    "_Feature"
   ],
   "window_display": false
  }
 },
 "nbformat": 4,
 "nbformat_minor": 2
}
